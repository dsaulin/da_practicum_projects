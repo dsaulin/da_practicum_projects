{
 "cells": [
  {
   "cell_type": "markdown",
   "metadata": {
    "id": "E0vqbgi9ay0H"
   },
   "source": [
    "# Музыка больших городов"
   ]
  },
  {
   "cell_type": "markdown",
   "metadata": {
    "id": "VUC88oWjTJw2"
   },
   "source": [
    "**Цель исследования**: проверить гипотезы, связанных с поведением пользователей стримингового сервиса Яндекс.Музыка из Петерубрга и Москвы:\n",
    "1. Активность пользователей зависит от дня недели. И для разных городов характерна разная недельная активность;\n",
    "2. В понедельник утром в Москве преобладают одни жанры, а в Петербурге — другие. Так же и вечером пятницы преобладают разные жанры — в зависимости от города. \n",
    "3. Москва и Петербург предпочитают разные жанры музыки. В Москве чаще слушают поп-музыку, в Петербурге — русский рэп.\n",
    "\n",
    "**Этапы исследования**:\n",
    " 1. Обзор данных.\n",
    " 2. Предобработка данных.\n",
    " 3. Проверка гипотез."
   ]
  },
  {
   "cell_type": "markdown",
   "metadata": {
    "id": "Ml1hmfXC_Zcs"
   },
   "source": [
    "## Обзор данных"
   ]
  },
  {
   "cell_type": "code",
   "execution_count": 78,
   "metadata": {
    "id": "AXN7PHPN_Zcs"
   },
   "outputs": [],
   "source": [
    "# импорт библиотеки pandas\n",
    "import pandas as pd"
   ]
  },
  {
   "cell_type": "code",
   "execution_count": 79,
   "metadata": {
    "id": "fFVu7vqh_Zct"
   },
   "outputs": [],
   "source": [
    "# чтение файла с данными и сохранение в df\n",
    "try:\n",
    "    df = pd.read_csv('/datasets/yandex_music_project.csv')\n",
    "except:\n",
    "    df = pd.read_csv('yandex_music_project.csv')\n"
   ]
  },
  {
   "cell_type": "code",
   "execution_count": 80,
   "metadata": {
    "id": "oWTVX3gW_Zct",
    "scrolled": true
   },
   "outputs": [
    {
     "data": {
      "text/html": [
       "<div>\n",
       "<style scoped>\n",
       "    .dataframe tbody tr th:only-of-type {\n",
       "        vertical-align: middle;\n",
       "    }\n",
       "\n",
       "    .dataframe tbody tr th {\n",
       "        vertical-align: top;\n",
       "    }\n",
       "\n",
       "    .dataframe thead th {\n",
       "        text-align: right;\n",
       "    }\n",
       "</style>\n",
       "<table border=\"1\" class=\"dataframe\">\n",
       "  <thead>\n",
       "    <tr style=\"text-align: right;\">\n",
       "      <th></th>\n",
       "      <th>userID</th>\n",
       "      <th>Track</th>\n",
       "      <th>artist</th>\n",
       "      <th>genre</th>\n",
       "      <th>City</th>\n",
       "      <th>time</th>\n",
       "      <th>Day</th>\n",
       "    </tr>\n",
       "  </thead>\n",
       "  <tbody>\n",
       "    <tr>\n",
       "      <th>0</th>\n",
       "      <td>FFB692EC</td>\n",
       "      <td>Kamigata To Boots</td>\n",
       "      <td>The Mass Missile</td>\n",
       "      <td>rock</td>\n",
       "      <td>Saint-Petersburg</td>\n",
       "      <td>20:28:33</td>\n",
       "      <td>Wednesday</td>\n",
       "    </tr>\n",
       "    <tr>\n",
       "      <th>1</th>\n",
       "      <td>55204538</td>\n",
       "      <td>Delayed Because of Accident</td>\n",
       "      <td>Andreas Rönnberg</td>\n",
       "      <td>rock</td>\n",
       "      <td>Moscow</td>\n",
       "      <td>14:07:09</td>\n",
       "      <td>Friday</td>\n",
       "    </tr>\n",
       "    <tr>\n",
       "      <th>2</th>\n",
       "      <td>20EC38</td>\n",
       "      <td>Funiculì funiculà</td>\n",
       "      <td>Mario Lanza</td>\n",
       "      <td>pop</td>\n",
       "      <td>Saint-Petersburg</td>\n",
       "      <td>20:58:07</td>\n",
       "      <td>Wednesday</td>\n",
       "    </tr>\n",
       "    <tr>\n",
       "      <th>3</th>\n",
       "      <td>A3DD03C9</td>\n",
       "      <td>Dragons in the Sunset</td>\n",
       "      <td>Fire + Ice</td>\n",
       "      <td>folk</td>\n",
       "      <td>Saint-Petersburg</td>\n",
       "      <td>08:37:09</td>\n",
       "      <td>Monday</td>\n",
       "    </tr>\n",
       "    <tr>\n",
       "      <th>4</th>\n",
       "      <td>E2DC1FAE</td>\n",
       "      <td>Soul People</td>\n",
       "      <td>Space Echo</td>\n",
       "      <td>dance</td>\n",
       "      <td>Moscow</td>\n",
       "      <td>08:34:34</td>\n",
       "      <td>Monday</td>\n",
       "    </tr>\n",
       "    <tr>\n",
       "      <th>5</th>\n",
       "      <td>842029A1</td>\n",
       "      <td>Преданная</td>\n",
       "      <td>IMPERVTOR</td>\n",
       "      <td>rusrap</td>\n",
       "      <td>Saint-Petersburg</td>\n",
       "      <td>13:09:41</td>\n",
       "      <td>Friday</td>\n",
       "    </tr>\n",
       "    <tr>\n",
       "      <th>6</th>\n",
       "      <td>4CB90AA5</td>\n",
       "      <td>True</td>\n",
       "      <td>Roman Messer</td>\n",
       "      <td>dance</td>\n",
       "      <td>Moscow</td>\n",
       "      <td>13:00:07</td>\n",
       "      <td>Wednesday</td>\n",
       "    </tr>\n",
       "    <tr>\n",
       "      <th>7</th>\n",
       "      <td>F03E1C1F</td>\n",
       "      <td>Feeling This Way</td>\n",
       "      <td>Polina Griffith</td>\n",
       "      <td>dance</td>\n",
       "      <td>Moscow</td>\n",
       "      <td>20:47:49</td>\n",
       "      <td>Wednesday</td>\n",
       "    </tr>\n",
       "    <tr>\n",
       "      <th>8</th>\n",
       "      <td>8FA1D3BE</td>\n",
       "      <td>И вновь продолжается бой</td>\n",
       "      <td>NaN</td>\n",
       "      <td>ruspop</td>\n",
       "      <td>Moscow</td>\n",
       "      <td>09:17:40</td>\n",
       "      <td>Friday</td>\n",
       "    </tr>\n",
       "    <tr>\n",
       "      <th>9</th>\n",
       "      <td>E772D5C0</td>\n",
       "      <td>Pessimist</td>\n",
       "      <td>NaN</td>\n",
       "      <td>dance</td>\n",
       "      <td>Saint-Petersburg</td>\n",
       "      <td>21:20:49</td>\n",
       "      <td>Wednesday</td>\n",
       "    </tr>\n",
       "  </tbody>\n",
       "</table>\n",
       "</div>"
      ],
      "text/plain": [
       "     userID                        Track            artist   genre  \\\n",
       "0  FFB692EC            Kamigata To Boots  The Mass Missile    rock   \n",
       "1  55204538  Delayed Because of Accident  Andreas Rönnberg    rock   \n",
       "2    20EC38            Funiculì funiculà       Mario Lanza     pop   \n",
       "3  A3DD03C9        Dragons in the Sunset        Fire + Ice    folk   \n",
       "4  E2DC1FAE                  Soul People        Space Echo   dance   \n",
       "5  842029A1                    Преданная         IMPERVTOR  rusrap   \n",
       "6  4CB90AA5                         True      Roman Messer   dance   \n",
       "7  F03E1C1F             Feeling This Way   Polina Griffith   dance   \n",
       "8  8FA1D3BE     И вновь продолжается бой               NaN  ruspop   \n",
       "9  E772D5C0                    Pessimist               NaN   dance   \n",
       "\n",
       "             City        time        Day  \n",
       "0  Saint-Petersburg  20:28:33  Wednesday  \n",
       "1            Moscow  14:07:09     Friday  \n",
       "2  Saint-Petersburg  20:58:07  Wednesday  \n",
       "3  Saint-Petersburg  08:37:09     Monday  \n",
       "4            Moscow  08:34:34     Monday  \n",
       "5  Saint-Petersburg  13:09:41     Friday  \n",
       "6            Moscow  13:00:07  Wednesday  \n",
       "7            Moscow  20:47:49  Wednesday  \n",
       "8            Moscow  09:17:40     Friday  \n",
       "9  Saint-Petersburg  21:20:49  Wednesday  "
      ]
     },
     "execution_count": 80,
     "metadata": {},
     "output_type": "execute_result"
    }
   ],
   "source": [
    "# получение первых 10 строк таблицы df\n",
    "df.head(10)"
   ]
  },
  {
   "cell_type": "code",
   "execution_count": 81,
   "metadata": {
    "id": "DSf2kIb-_Zct",
    "scrolled": false
   },
   "outputs": [
    {
     "name": "stdout",
     "output_type": "stream",
     "text": [
      "<class 'pandas.core.frame.DataFrame'>\n",
      "RangeIndex: 65079 entries, 0 to 65078\n",
      "Data columns (total 7 columns):\n",
      " #   Column    Non-Null Count  Dtype \n",
      "---  ------    --------------  ----- \n",
      " 0     userID  65079 non-null  object\n",
      " 1   Track     63848 non-null  object\n",
      " 2   artist    57876 non-null  object\n",
      " 3   genre     63881 non-null  object\n",
      " 4     City    65079 non-null  object\n",
      " 5   time      65079 non-null  object\n",
      " 6   Day       65079 non-null  object\n",
      "dtypes: object(7)\n",
      "memory usage: 3.5+ MB\n"
     ]
    }
   ],
   "source": [
    "# получение общей информации о данных в таблице df\n",
    "df.info()"
   ]
  },
  {
   "cell_type": "markdown",
   "metadata": {
    "id": "TaQ2Iwbr_Zct"
   },
   "source": [
    "Итак, в таблице семь столбцов. Тип данных во всех столбцах — `object`.\n",
    "\n",
    "Согласно документации к данным:\n",
    "* `userID` — идентификатор пользователя;\n",
    "* `Track` — название трека;  \n",
    "* `artist` — имя исполнителя;\n",
    "* `genre` — название жанра;\n",
    "* `City` — город пользователя;\n",
    "* `time` — время начала прослушивания;\n",
    "* `Day` — день недели.\n",
    "\n",
    "В названиях колонок видны три нарушения стиля:\n",
    "1. Строчные буквы сочетаются с прописными.\n",
    "2. Встречаются пробелы.\n",
    "3. При наличии 2-х слов в названии столбца, они написаны слитно, а не разделены подчеркиванием.\n",
    "\n",
    "\n",
    "\n",
    "Количество значений в столбцах различается. Значит, в данных есть пропущенные значения.\n"
   ]
  },
  {
   "cell_type": "markdown",
   "metadata": {
    "id": "MCB6-dXG_Zct"
   },
   "source": [
    "**Выводы**\n",
    "\n",
    "В каждой строке таблицы — данные о прослушанном треке. Часть колонок описывает саму композицию: название, исполнителя и жанр. Остальные данные рассказывают о пользователе: из какого он города, когда он слушал музыку. \n",
    "\n",
    "Предварительно можно утверждать, что, данных достаточно для проверки гипотез. Но встречаются пропуски в данных, а в названиях колонок — расхождения с хорошим стилем.\n",
    "\n",
    "Чтобы двигаться дальше, нужно устранить проблемы в данных."
   ]
  },
  {
   "cell_type": "markdown",
   "metadata": {
    "id": "SjYF6Ub9_Zct"
   },
   "source": [
    "## Предобработка данных"
   ]
  },
  {
   "cell_type": "markdown",
   "metadata": {
    "id": "dIaKXr29_Zct"
   },
   "source": [
    "### Стиль заголовков"
   ]
  },
  {
   "cell_type": "code",
   "execution_count": 82,
   "metadata": {
    "id": "oKOTdF_Q_Zct"
   },
   "outputs": [
    {
     "data": {
      "text/plain": [
       "Index(['  userID', 'Track', 'artist', 'genre', '  City  ', 'time', 'Day'], dtype='object')"
      ]
     },
     "execution_count": 82,
     "metadata": {},
     "output_type": "execute_result"
    }
   ],
   "source": [
    "# перечень названий столбцов таблицы df\n",
    "df.columns"
   ]
  },
  {
   "cell_type": "code",
   "execution_count": 83,
   "metadata": {
    "id": "ISlFqs5y_Zct"
   },
   "outputs": [],
   "source": [
    "# переименование столбцов\n",
    "df = df.rename(\n",
    "    columns={\n",
    "        '  userID': 'user_id',\n",
    "        'Track': 'track',\n",
    "        '  City  ': 'city',\n",
    "        'Day': 'day'\n",
    "    }\n",
    ")"
   ]
  },
  {
   "cell_type": "code",
   "execution_count": 84,
   "metadata": {
    "id": "d4NOAmTW_Zct"
   },
   "outputs": [
    {
     "data": {
      "text/plain": [
       "Index(['user_id', 'track', 'artist', 'genre', 'city', 'time', 'day'], dtype='object')"
      ]
     },
     "execution_count": 84,
     "metadata": {},
     "output_type": "execute_result"
    }
   ],
   "source": [
    "# проверка результатов - перечень названий столбцов\n",
    "df.columns"
   ]
  },
  {
   "cell_type": "markdown",
   "metadata": {
    "id": "5ISfbcfY_Zct"
   },
   "source": [
    "### Пропуски значений"
   ]
  },
  {
   "cell_type": "code",
   "execution_count": 85,
   "metadata": {
    "id": "RskX29qr_Zct"
   },
   "outputs": [
    {
     "data": {
      "text/plain": [
       "user_id       0\n",
       "track      1231\n",
       "artist     7203\n",
       "genre      1198\n",
       "city          0\n",
       "time          0\n",
       "day           0\n",
       "dtype: int64"
      ]
     },
     "execution_count": 85,
     "metadata": {},
     "output_type": "execute_result"
    }
   ],
   "source": [
    "# подсчёт пропусков\n",
    "df.isna().sum()"
   ]
  },
  {
   "cell_type": "markdown",
   "metadata": {
    "id": "qubhgnlO_Zct"
   },
   "source": [
    "Не все пропущенные значения влияют на исследование. Так в `track` и `artist` пропуски не важны для вашей работы. Достаточно заменить их явными обозначениями.\n",
    "\n",
    "Но пропуски в `genre` могут помешать сравнению музыкальных вкусов в Москве и Санкт-Петербурге. На практике было бы правильно установить причину пропусков и восстановить данные. Такой возможности нет в учебном проекте. Придётся:\n",
    "* заполнить и эти пропуски явными обозначениями,\n",
    "* оценить, насколько они повредят расчётам. "
   ]
  },
  {
   "cell_type": "markdown",
   "metadata": {
    "id": "fSv2laPA_Zct"
   },
   "source": [
    "Замените пропущенные значения в столбцах `track`, `artist` и `genre` на строку `'unknown'`. Для этого создайте список `columns_to_replace`, переберите его элементы циклом `for` и для каждого столбца выполните замену пропущенных значений:"
   ]
  },
  {
   "cell_type": "code",
   "execution_count": 86,
   "metadata": {
    "id": "KplB5qWs_Zct"
   },
   "outputs": [],
   "source": [
    "# перебор названий столбцов в цикле и замена пропущенных значений на 'unknown'\n",
    "columns_to_replace = ['track', 'artist', 'genre']\n",
    "\n",
    "for empty_cells in columns_to_replace:\n",
    "    df[empty_cells] = df[empty_cells].fillna('unknown')"
   ]
  },
  {
   "cell_type": "code",
   "execution_count": 87,
   "metadata": {
    "id": "Tq4nYRX4_Zct"
   },
   "outputs": [
    {
     "data": {
      "text/plain": [
       "user_id    0\n",
       "track      0\n",
       "artist     0\n",
       "genre      0\n",
       "city       0\n",
       "time       0\n",
       "day        0\n",
       "dtype: int64"
      ]
     },
     "execution_count": 87,
     "metadata": {},
     "output_type": "execute_result"
    }
   ],
   "source": [
    "# подсчёт пропусков\n",
    "df.isna().sum()"
   ]
  },
  {
   "cell_type": "markdown",
   "metadata": {
    "id": "BWKRtBJ3_Zct"
   },
   "source": [
    "### Дубликаты"
   ]
  },
  {
   "cell_type": "code",
   "execution_count": 88,
   "metadata": {
    "id": "36eES_S0_Zct"
   },
   "outputs": [
    {
     "data": {
      "text/plain": [
       "3826"
      ]
     },
     "execution_count": 88,
     "metadata": {},
     "output_type": "execute_result"
    }
   ],
   "source": [
    "# подсчёт явных дубликатов\n",
    "df.duplicated().sum()"
   ]
  },
  {
   "cell_type": "code",
   "execution_count": 89,
   "metadata": {
    "id": "exFHq6tt_Zct"
   },
   "outputs": [],
   "source": [
    "# удаление явных дубликатов (с удалением старых индексов и формированием новых)\n",
    "df = df.drop_duplicates().reset_index(drop=True)"
   ]
  },
  {
   "cell_type": "code",
   "execution_count": 90,
   "metadata": {
    "id": "-8PuNWQ0_Zct"
   },
   "outputs": [
    {
     "data": {
      "text/plain": [
       "0"
      ]
     },
     "execution_count": 90,
     "metadata": {},
     "output_type": "execute_result"
    }
   ],
   "source": [
    "# проверка на отсутствие дубликатов\n",
    "df.duplicated().sum()"
   ]
  },
  {
   "cell_type": "markdown",
   "metadata": {
    "id": "QlFBsxAr_Zct"
   },
   "source": [
    "Теперь избавимся от неявных дубликатов в колонке `genre`. Например, название одного и того же жанра может быть записано немного по-разному. Такие ошибки тоже повлияют на результат исследования. Выведем на экран список уникальных названий жанров, отсортированных в алфавитном порядке."
   ]
  },
  {
   "cell_type": "code",
   "execution_count": 91,
   "metadata": {
    "id": "JIUcqzZN_Zct"
   },
   "outputs": [
    {
     "data": {
      "text/plain": [
       "array(['acid', 'acoustic', 'action', 'adult', 'africa', 'afrikaans',\n",
       "       'alternative', 'alternativepunk', 'ambient', 'americana',\n",
       "       'animated', 'anime', 'arabesk', 'arabic', 'arena',\n",
       "       'argentinetango', 'art', 'audiobook', 'author', 'avantgarde',\n",
       "       'axé', 'baile', 'balkan', 'beats', 'bigroom', 'black', 'bluegrass',\n",
       "       'blues', 'bollywood', 'bossa', 'brazilian', 'breakbeat', 'breaks',\n",
       "       'broadway', 'cantautori', 'cantopop', 'canzone', 'caribbean',\n",
       "       'caucasian', 'celtic', 'chamber', 'chanson', 'children', 'chill',\n",
       "       'chinese', 'choral', 'christian', 'christmas', 'classical',\n",
       "       'classicmetal', 'club', 'colombian', 'comedy', 'conjazz',\n",
       "       'contemporary', 'country', 'cuban', 'dance', 'dancehall',\n",
       "       'dancepop', 'dark', 'death', 'deep', 'deutschrock', 'deutschspr',\n",
       "       'dirty', 'disco', 'dnb', 'documentary', 'downbeat', 'downtempo',\n",
       "       'drum', 'dub', 'dubstep', 'eastern', 'easy', 'electronic',\n",
       "       'electropop', 'emo', 'entehno', 'epicmetal', 'estrada', 'ethnic',\n",
       "       'eurofolk', 'european', 'experimental', 'extrememetal', 'fado',\n",
       "       'fairytail', 'film', 'fitness', 'flamenco', 'folk', 'folklore',\n",
       "       'folkmetal', 'folkrock', 'folktronica', 'forró', 'frankreich',\n",
       "       'französisch', 'french', 'funk', 'future', 'gangsta', 'garage',\n",
       "       'german', 'ghazal', 'gitarre', 'glitch', 'gospel', 'gothic',\n",
       "       'grime', 'grunge', 'gypsy', 'handsup', \"hard'n'heavy\", 'hardcore',\n",
       "       'hardstyle', 'hardtechno', 'hip', 'hip-hop', 'hiphop',\n",
       "       'historisch', 'holiday', 'hop', 'horror', 'house', 'hymn', 'idm',\n",
       "       'independent', 'indian', 'indie', 'indipop', 'industrial',\n",
       "       'inspirational', 'instrumental', 'international', 'irish', 'jam',\n",
       "       'japanese', 'jazz', 'jewish', 'jpop', 'jungle', 'k-pop',\n",
       "       'karadeniz', 'karaoke', 'kayokyoku', 'korean', 'laiko', 'latin',\n",
       "       'latino', 'leftfield', 'local', 'lounge', 'loungeelectronic',\n",
       "       'lovers', 'malaysian', 'mandopop', 'marschmusik', 'meditative',\n",
       "       'mediterranean', 'melodic', 'metal', 'metalcore', 'mexican',\n",
       "       'middle', 'minimal', 'miscellaneous', 'modern', 'mood', 'mpb',\n",
       "       'muslim', 'native', 'neoklassik', 'neue', 'new', 'newage',\n",
       "       'newwave', 'nu', 'nujazz', 'numetal', 'oceania', 'old', 'opera',\n",
       "       'orchestral', 'other', 'piano', 'podcasts', 'pop', 'popdance',\n",
       "       'popelectronic', 'popeurodance', 'poprussian', 'post',\n",
       "       'posthardcore', 'postrock', 'power', 'progmetal', 'progressive',\n",
       "       'psychedelic', 'punjabi', 'punk', 'quebecois', 'ragga', 'ram',\n",
       "       'rancheras', 'rap', 'rave', 'reggae', 'reggaeton', 'regional',\n",
       "       'relax', 'religious', 'retro', 'rhythm', 'rnb', 'rnr', 'rock',\n",
       "       'rockabilly', 'rockalternative', 'rockindie', 'rockother',\n",
       "       'romance', 'roots', 'ruspop', 'rusrap', 'rusrock', 'russian',\n",
       "       'salsa', 'samba', 'scenic', 'schlager', 'self', 'sertanejo',\n",
       "       'shanson', 'shoegazing', 'showtunes', 'singer', 'ska', 'skarock',\n",
       "       'slow', 'smooth', 'soft', 'soul', 'soulful', 'sound', 'soundtrack',\n",
       "       'southern', 'specialty', 'speech', 'spiritual', 'sport',\n",
       "       'stonerrock', 'surf', 'swing', 'synthpop', 'synthrock',\n",
       "       'sängerportrait', 'tango', 'tanzorchester', 'taraftar', 'tatar',\n",
       "       'tech', 'techno', 'teen', 'thrash', 'top', 'traditional',\n",
       "       'tradjazz', 'trance', 'tribal', 'trip', 'triphop', 'tropical',\n",
       "       'türk', 'türkçe', 'ukrrock', 'unknown', 'urban', 'uzbek',\n",
       "       'variété', 'vi', 'videogame', 'vocal', 'western', 'world',\n",
       "       'worldbeat', 'ïîï', 'электроника'], dtype=object)"
      ]
     },
     "execution_count": 91,
     "metadata": {},
     "output_type": "execute_result"
    }
   ],
   "source": [
    "# Просмотр уникальных названий жанров\n",
    "genre = df['genre']\n",
    "\n",
    "genre_sorted = genre.sort_values()\n",
    "\n",
    "genre_sorted.unique()"
   ]
  },
  {
   "cell_type": "markdown",
   "metadata": {
    "id": "qej-Qmuo_Zct"
   },
   "source": [
    "Мы видим следующие неявные дубликаты:\n",
    "\n",
    "- hip -> hiphop\n",
    "- hop -> hiphop\n",
    "- hip-hop -> hiphop\n",
    "- электроника -> electronic\t   \n",
    "- poprussian -> ruspop\n",
    "\n",
    "Чтобы очистить от них таблицу, напишем функцию `replace_wrong_genres()` с двумя параметрами: \n",
    "* `wrong_genres` — список дубликатов,\n",
    "* `correct_genre` — строка с правильным значением."
   ]
  },
  {
   "cell_type": "code",
   "execution_count": 92,
   "metadata": {
    "id": "ErNDkmns_Zct"
   },
   "outputs": [],
   "source": [
    "# Функция для замены неявных дубликатов\n",
    "def replace_wrong_genres(wrong_genres, correct_genre):\n",
    "    for wrong_genre in wrong_genres:\n",
    "        df['genre'] = df['genre'].replace(wrong_genre, correct_genre)"
   ]
  },
  {
   "cell_type": "code",
   "execution_count": 93,
   "metadata": {
    "id": "YN5i2hpmSo09"
   },
   "outputs": [],
   "source": [
    "# Устранение неявных дубликатов\n",
    "duplicates = ['hip', 'hop', 'hip-hop']\n",
    "genre = 'hiphop'\n",
    "replace_wrong_genres(duplicates, genre)\n",
    "\n",
    "duplicates = ['электроника']\n",
    "genre = 'electronic'\n",
    "replace_wrong_genres(duplicates, genre)\n",
    "\n",
    "duplicates = ['poprussian']\n",
    "genre = 'ruspop'\n",
    "replace_wrong_genres(duplicates, genre)\n"
   ]
  },
  {
   "cell_type": "code",
   "execution_count": 94,
   "metadata": {
    "id": "wvixALnFG15m"
   },
   "outputs": [
    {
     "data": {
      "text/plain": [
       "array(['acid', 'acoustic', 'action', 'adult', 'africa', 'afrikaans',\n",
       "       'alternative', 'alternativepunk', 'ambient', 'americana',\n",
       "       'animated', 'anime', 'arabesk', 'arabic', 'arena',\n",
       "       'argentinetango', 'art', 'audiobook', 'author', 'avantgarde',\n",
       "       'axé', 'baile', 'balkan', 'beats', 'bigroom', 'black', 'bluegrass',\n",
       "       'blues', 'bollywood', 'bossa', 'brazilian', 'breakbeat', 'breaks',\n",
       "       'broadway', 'cantautori', 'cantopop', 'canzone', 'caribbean',\n",
       "       'caucasian', 'celtic', 'chamber', 'chanson', 'children', 'chill',\n",
       "       'chinese', 'choral', 'christian', 'christmas', 'classical',\n",
       "       'classicmetal', 'club', 'colombian', 'comedy', 'conjazz',\n",
       "       'contemporary', 'country', 'cuban', 'dance', 'dancehall',\n",
       "       'dancepop', 'dark', 'death', 'deep', 'deutschrock', 'deutschspr',\n",
       "       'dirty', 'disco', 'dnb', 'documentary', 'downbeat', 'downtempo',\n",
       "       'drum', 'dub', 'dubstep', 'eastern', 'easy', 'electronic',\n",
       "       'electropop', 'emo', 'entehno', 'epicmetal', 'estrada', 'ethnic',\n",
       "       'eurofolk', 'european', 'experimental', 'extrememetal', 'fado',\n",
       "       'fairytail', 'film', 'fitness', 'flamenco', 'folk', 'folklore',\n",
       "       'folkmetal', 'folkrock', 'folktronica', 'forró', 'frankreich',\n",
       "       'französisch', 'french', 'funk', 'future', 'gangsta', 'garage',\n",
       "       'german', 'ghazal', 'gitarre', 'glitch', 'gospel', 'gothic',\n",
       "       'grime', 'grunge', 'gypsy', 'handsup', \"hard'n'heavy\", 'hardcore',\n",
       "       'hardstyle', 'hardtechno', 'hiphop', 'historisch', 'holiday',\n",
       "       'horror', 'house', 'hymn', 'idm', 'independent', 'indian', 'indie',\n",
       "       'indipop', 'industrial', 'inspirational', 'instrumental',\n",
       "       'international', 'irish', 'jam', 'japanese', 'jazz', 'jewish',\n",
       "       'jpop', 'jungle', 'k-pop', 'karadeniz', 'karaoke', 'kayokyoku',\n",
       "       'korean', 'laiko', 'latin', 'latino', 'leftfield', 'local',\n",
       "       'lounge', 'loungeelectronic', 'lovers', 'malaysian', 'mandopop',\n",
       "       'marschmusik', 'meditative', 'mediterranean', 'melodic', 'metal',\n",
       "       'metalcore', 'mexican', 'middle', 'minimal', 'miscellaneous',\n",
       "       'modern', 'mood', 'mpb', 'muslim', 'native', 'neoklassik', 'neue',\n",
       "       'new', 'newage', 'newwave', 'nu', 'nujazz', 'numetal', 'oceania',\n",
       "       'old', 'opera', 'orchestral', 'other', 'piano', 'podcasts', 'pop',\n",
       "       'popdance', 'popelectronic', 'popeurodance', 'post',\n",
       "       'posthardcore', 'postrock', 'power', 'progmetal', 'progressive',\n",
       "       'psychedelic', 'punjabi', 'punk', 'quebecois', 'ragga', 'ram',\n",
       "       'rancheras', 'rap', 'rave', 'reggae', 'reggaeton', 'regional',\n",
       "       'relax', 'religious', 'retro', 'rhythm', 'rnb', 'rnr', 'rock',\n",
       "       'rockabilly', 'rockalternative', 'rockindie', 'rockother',\n",
       "       'romance', 'roots', 'ruspop', 'rusrap', 'rusrock', 'russian',\n",
       "       'salsa', 'samba', 'scenic', 'schlager', 'self', 'sertanejo',\n",
       "       'shanson', 'shoegazing', 'showtunes', 'singer', 'ska', 'skarock',\n",
       "       'slow', 'smooth', 'soft', 'soul', 'soulful', 'sound', 'soundtrack',\n",
       "       'southern', 'specialty', 'speech', 'spiritual', 'sport',\n",
       "       'stonerrock', 'surf', 'swing', 'synthpop', 'synthrock',\n",
       "       'sängerportrait', 'tango', 'tanzorchester', 'taraftar', 'tatar',\n",
       "       'tech', 'techno', 'teen', 'thrash', 'top', 'traditional',\n",
       "       'tradjazz', 'trance', 'tribal', 'trip', 'triphop', 'tropical',\n",
       "       'türk', 'türkçe', 'ukrrock', 'unknown', 'urban', 'uzbek',\n",
       "       'variété', 'vi', 'videogame', 'vocal', 'western', 'world',\n",
       "       'worldbeat', 'ïîï'], dtype=object)"
      ]
     },
     "execution_count": 94,
     "metadata": {},
     "output_type": "execute_result"
    }
   ],
   "source": [
    "# Проверка на неявные дубликаты\n",
    "genre = df['genre']\n",
    "\n",
    "genre_sorted = genre.sort_values()\n",
    "\n",
    "genre_sorted.unique()"
   ]
  },
  {
   "cell_type": "markdown",
   "metadata": {
    "id": "jz6a9-7HQUDd"
   },
   "source": [
    "**Выводы:**\n",
    "\n",
    "Предобработка обнаружила три проблемы в данных:\n",
    "\n",
    "- нарушения в стиле заголовков,\n",
    "- пропущенные значения,\n",
    "- дубликаты — явные и неявные.\n",
    "\n",
    "Мы исправили заголовки, чтобы упростить работу с таблицей. Без дубликатов исследование станет более точным.\n",
    "\n",
    "Пропущенные значения мы заменили на `'unknown'`. Ещё предстоит увидеть, не повредят ли исследованию пропуски в колонке `genre`.\n",
    "\n",
    "Теперь можно перейти к проверке гипотез. "
   ]
  },
  {
   "cell_type": "markdown",
   "metadata": {
    "id": "WttZHXH0SqKk"
   },
   "source": [
    "## Проверка гипотез"
   ]
  },
  {
   "cell_type": "markdown",
   "metadata": {
    "id": "Im936VVi_Zcu"
   },
   "source": [
    "### Сравнение поведения пользователей двух столиц"
   ]
  },
  {
   "cell_type": "markdown",
   "metadata": {
    "id": "nwt_MuaL_Zcu"
   },
   "source": [
    "Первая гипотеза утверждает, что пользователи по-разному слушают музыку в Москве и Санкт-Петербурге. Проверим это предположение по данным о трёх днях недели — понедельнике, среде и пятнице. Для этого:\n",
    "\n",
    "* Разделим пользователей Москвы и Санкт-Петербурга\n",
    "* Сравним, сколько треков послушала каждая группа пользователей в понедельник, среду и пятницу.\n"
   ]
  },
  {
   "cell_type": "code",
   "execution_count": 95,
   "metadata": {
    "id": "0_Qs96oh_Zcu"
   },
   "outputs": [
    {
     "data": {
      "text/plain": [
       "city\n",
       "Moscow              42741\n",
       "Saint-Petersburg    18512\n",
       "Name: track, dtype: int64"
      ]
     },
     "execution_count": 95,
     "metadata": {},
     "output_type": "execute_result"
    }
   ],
   "source": [
    "# Подсчёт прослушиваний в каждом городе\n",
    "\n",
    "df.groupby('city')['track'].count()"
   ]
  },
  {
   "cell_type": "markdown",
   "metadata": {
    "id": "dzli3w8o_Zcu"
   },
   "source": [
    "В Москве прослушиваний больше, чем в Петербурге. Из этого не следует, что московские пользователи чаще слушают музыку. Просто самих пользователей в Москве больше.\n",
    "\n",
    "Теперь сгруппируем данные по дню недели и подсчитаем прослушивания в понедельник, среду и пятницу. Учтите, что в данных есть информация о прослушиваниях только за эти дни."
   ]
  },
  {
   "cell_type": "code",
   "execution_count": 96,
   "metadata": {
    "id": "uZMKjiJz_Zcu"
   },
   "outputs": [
    {
     "data": {
      "text/plain": [
       "day\n",
       "Friday       21840\n",
       "Monday       21354\n",
       "Wednesday    18059\n",
       "Name: track, dtype: int64"
      ]
     },
     "execution_count": 96,
     "metadata": {},
     "output_type": "execute_result"
    }
   ],
   "source": [
    "# Подсчёт прослушиваний в каждый из трёх дней\n",
    "\n",
    "df.groupby('day')['track'].count()"
   ]
  },
  {
   "cell_type": "markdown",
   "metadata": {
    "id": "cC2tNrlL_Zcu"
   },
   "source": [
    "В среднем пользователи из двух городов менее активны по средам. Но картина может измениться, если рассмотреть каждый город в отдельности."
   ]
  },
  {
   "cell_type": "markdown",
   "metadata": {
    "id": "POzs8bGa_Zcu"
   },
   "source": [
    "Мы видели, как работает группировка по городу и по дням недели. Теперь напишем функцию, которая объединит два эти расчёта."
   ]
  },
  {
   "cell_type": "code",
   "execution_count": 97,
   "metadata": {
    "id": "Nz3GdQB1_Zcu"
   },
   "outputs": [],
   "source": [
    "# <создание функции для подсчёта прослушиваний для конкретного города и дня number_tracks()>\n",
    "\n",
    "def number_tracks(day, city):\n",
    "    track_list = df[(df['day'] == day) & (df['city'] == city)]\n",
    "    track_list_count = track_list['user_id'].count()\n",
    "    return track_list_count\n"
   ]
  },
  {
   "cell_type": "code",
   "execution_count": 98,
   "metadata": {
    "id": "APAcLpOr_Zcu"
   },
   "outputs": [
    {
     "data": {
      "text/html": [
       "<div>\n",
       "<style scoped>\n",
       "    .dataframe tbody tr th:only-of-type {\n",
       "        vertical-align: middle;\n",
       "    }\n",
       "\n",
       "    .dataframe tbody tr th {\n",
       "        vertical-align: top;\n",
       "    }\n",
       "\n",
       "    .dataframe thead th {\n",
       "        text-align: right;\n",
       "    }\n",
       "</style>\n",
       "<table border=\"1\" class=\"dataframe\">\n",
       "  <thead>\n",
       "    <tr style=\"text-align: right;\">\n",
       "      <th></th>\n",
       "      <th>city</th>\n",
       "      <th>monday</th>\n",
       "      <th>wednesday</th>\n",
       "      <th>friday</th>\n",
       "    </tr>\n",
       "  </thead>\n",
       "  <tbody>\n",
       "    <tr>\n",
       "      <th>0</th>\n",
       "      <td>Москва</td>\n",
       "      <td>15740</td>\n",
       "      <td>11056</td>\n",
       "      <td>15945</td>\n",
       "    </tr>\n",
       "    <tr>\n",
       "      <th>1</th>\n",
       "      <td>Санкт-Петербург</td>\n",
       "      <td>5614</td>\n",
       "      <td>7003</td>\n",
       "      <td>5895</td>\n",
       "    </tr>\n",
       "  </tbody>\n",
       "</table>\n",
       "</div>"
      ],
      "text/plain": [
       "              city  monday  wednesday  friday\n",
       "0           Москва   15740      11056   15945\n",
       "1  Санкт-Петербург    5614       7003    5895"
      ]
     },
     "metadata": {},
     "output_type": "display_data"
    }
   ],
   "source": [
    "# Таблица с результатами\n",
    "data = ['Москва', number_tracks('Monday', 'Moscow'), number_tracks('Wednesday', 'Moscow'), number_tracks('Friday', 'Moscow')], ['Санкт-Петербург', number_tracks('Monday', 'Saint-Petersburg'), number_tracks('Wednesday', 'Saint-Petersburg'), number_tracks('Friday', 'Saint-Petersburg')]\n",
    "\n",
    "columns = ['city', 'monday', 'wednesday', 'friday']\n",
    "\n",
    "days_listen = pd.DataFrame(data = data, columns = columns)\n",
    "display(days_listen)\n",
    "\n"
   ]
  },
  {
   "cell_type": "markdown",
   "metadata": {
    "id": "-EgPIHYu_Zcu"
   },
   "source": [
    "**Выводы:**\n",
    "\n",
    "Данные показывают разницу поведения пользователей:\n",
    "\n",
    "- В Москве пик прослушиваний приходится на понедельник и пятницу, а в среду заметен спад.\n",
    "- В Петербурге, наоборот, больше слушают музыку по средам. Активность в понедельник и пятницу здесь почти в равной мере уступает среде.\n",
    "\n",
    "Значит, данные говорят в пользу первой гипотезы."
   ]
  },
  {
   "cell_type": "markdown",
   "metadata": {
    "id": "atZAxtq4_Zcu"
   },
   "source": [
    "### Музыка в начале и в конце недели"
   ]
  },
  {
   "cell_type": "markdown",
   "metadata": {
    "id": "eXrQqXFH_Zcu"
   },
   "source": [
    "Согласно второй гипотезе, утром в понедельник в Москве преобладают одни жанры, а в Петербурге — другие. Так же и вечером пятницы преобладают разные жанры — в зависимости от города."
   ]
  },
  {
   "cell_type": "markdown",
   "metadata": {
    "id": "S8UcW6Hw_Zcu"
   },
   "source": [
    "Сохраним таблицы с данными в две переменные:\n",
    "* по Москве — в `moscow_general`;\n",
    "* по Санкт-Петербургу — в `spb_general`."
   ]
  },
  {
   "cell_type": "code",
   "execution_count": 99,
   "metadata": {
    "id": "qeaFfM_P_Zcu"
   },
   "outputs": [
    {
     "data": {
      "text/html": [
       "<div>\n",
       "<style scoped>\n",
       "    .dataframe tbody tr th:only-of-type {\n",
       "        vertical-align: middle;\n",
       "    }\n",
       "\n",
       "    .dataframe tbody tr th {\n",
       "        vertical-align: top;\n",
       "    }\n",
       "\n",
       "    .dataframe thead th {\n",
       "        text-align: right;\n",
       "    }\n",
       "</style>\n",
       "<table border=\"1\" class=\"dataframe\">\n",
       "  <thead>\n",
       "    <tr style=\"text-align: right;\">\n",
       "      <th></th>\n",
       "      <th>user_id</th>\n",
       "      <th>track</th>\n",
       "      <th>artist</th>\n",
       "      <th>genre</th>\n",
       "      <th>city</th>\n",
       "      <th>time</th>\n",
       "      <th>day</th>\n",
       "    </tr>\n",
       "  </thead>\n",
       "  <tbody>\n",
       "    <tr>\n",
       "      <th>1</th>\n",
       "      <td>55204538</td>\n",
       "      <td>Delayed Because of Accident</td>\n",
       "      <td>Andreas Rönnberg</td>\n",
       "      <td>rock</td>\n",
       "      <td>Moscow</td>\n",
       "      <td>14:07:09</td>\n",
       "      <td>Friday</td>\n",
       "    </tr>\n",
       "    <tr>\n",
       "      <th>4</th>\n",
       "      <td>E2DC1FAE</td>\n",
       "      <td>Soul People</td>\n",
       "      <td>Space Echo</td>\n",
       "      <td>dance</td>\n",
       "      <td>Moscow</td>\n",
       "      <td>08:34:34</td>\n",
       "      <td>Monday</td>\n",
       "    </tr>\n",
       "    <tr>\n",
       "      <th>6</th>\n",
       "      <td>4CB90AA5</td>\n",
       "      <td>True</td>\n",
       "      <td>Roman Messer</td>\n",
       "      <td>dance</td>\n",
       "      <td>Moscow</td>\n",
       "      <td>13:00:07</td>\n",
       "      <td>Wednesday</td>\n",
       "    </tr>\n",
       "    <tr>\n",
       "      <th>7</th>\n",
       "      <td>F03E1C1F</td>\n",
       "      <td>Feeling This Way</td>\n",
       "      <td>Polina Griffith</td>\n",
       "      <td>dance</td>\n",
       "      <td>Moscow</td>\n",
       "      <td>20:47:49</td>\n",
       "      <td>Wednesday</td>\n",
       "    </tr>\n",
       "    <tr>\n",
       "      <th>8</th>\n",
       "      <td>8FA1D3BE</td>\n",
       "      <td>И вновь продолжается бой</td>\n",
       "      <td>unknown</td>\n",
       "      <td>ruspop</td>\n",
       "      <td>Moscow</td>\n",
       "      <td>09:17:40</td>\n",
       "      <td>Friday</td>\n",
       "    </tr>\n",
       "  </tbody>\n",
       "</table>\n",
       "</div>"
      ],
      "text/plain": [
       "    user_id                        track            artist   genre    city  \\\n",
       "1  55204538  Delayed Because of Accident  Andreas Rönnberg    rock  Moscow   \n",
       "4  E2DC1FAE                  Soul People        Space Echo   dance  Moscow   \n",
       "6  4CB90AA5                         True      Roman Messer   dance  Moscow   \n",
       "7  F03E1C1F             Feeling This Way   Polina Griffith   dance  Moscow   \n",
       "8  8FA1D3BE     И вновь продолжается бой           unknown  ruspop  Moscow   \n",
       "\n",
       "       time        day  \n",
       "1  14:07:09     Friday  \n",
       "4  08:34:34     Monday  \n",
       "6  13:00:07  Wednesday  \n",
       "7  20:47:49  Wednesday  \n",
       "8  09:17:40     Friday  "
      ]
     },
     "metadata": {},
     "output_type": "display_data"
    }
   ],
   "source": [
    "# получение таблицы moscow_general из тех строк таблицы df, \n",
    "# для которых значение в столбце 'city' равно 'Moscow'\n",
    "moscow_general = df[df['city'] == 'Moscow']\n",
    "display(moscow_general.head())"
   ]
  },
  {
   "cell_type": "code",
   "execution_count": 100,
   "metadata": {
    "id": "ORaVRKto_Zcu"
   },
   "outputs": [
    {
     "data": {
      "text/html": [
       "<div>\n",
       "<style scoped>\n",
       "    .dataframe tbody tr th:only-of-type {\n",
       "        vertical-align: middle;\n",
       "    }\n",
       "\n",
       "    .dataframe tbody tr th {\n",
       "        vertical-align: top;\n",
       "    }\n",
       "\n",
       "    .dataframe thead th {\n",
       "        text-align: right;\n",
       "    }\n",
       "</style>\n",
       "<table border=\"1\" class=\"dataframe\">\n",
       "  <thead>\n",
       "    <tr style=\"text-align: right;\">\n",
       "      <th></th>\n",
       "      <th>user_id</th>\n",
       "      <th>track</th>\n",
       "      <th>artist</th>\n",
       "      <th>genre</th>\n",
       "      <th>city</th>\n",
       "      <th>time</th>\n",
       "      <th>day</th>\n",
       "    </tr>\n",
       "  </thead>\n",
       "  <tbody>\n",
       "    <tr>\n",
       "      <th>0</th>\n",
       "      <td>FFB692EC</td>\n",
       "      <td>Kamigata To Boots</td>\n",
       "      <td>The Mass Missile</td>\n",
       "      <td>rock</td>\n",
       "      <td>Saint-Petersburg</td>\n",
       "      <td>20:28:33</td>\n",
       "      <td>Wednesday</td>\n",
       "    </tr>\n",
       "    <tr>\n",
       "      <th>2</th>\n",
       "      <td>20EC38</td>\n",
       "      <td>Funiculì funiculà</td>\n",
       "      <td>Mario Lanza</td>\n",
       "      <td>pop</td>\n",
       "      <td>Saint-Petersburg</td>\n",
       "      <td>20:58:07</td>\n",
       "      <td>Wednesday</td>\n",
       "    </tr>\n",
       "    <tr>\n",
       "      <th>3</th>\n",
       "      <td>A3DD03C9</td>\n",
       "      <td>Dragons in the Sunset</td>\n",
       "      <td>Fire + Ice</td>\n",
       "      <td>folk</td>\n",
       "      <td>Saint-Petersburg</td>\n",
       "      <td>08:37:09</td>\n",
       "      <td>Monday</td>\n",
       "    </tr>\n",
       "    <tr>\n",
       "      <th>5</th>\n",
       "      <td>842029A1</td>\n",
       "      <td>Преданная</td>\n",
       "      <td>IMPERVTOR</td>\n",
       "      <td>rusrap</td>\n",
       "      <td>Saint-Petersburg</td>\n",
       "      <td>13:09:41</td>\n",
       "      <td>Friday</td>\n",
       "    </tr>\n",
       "    <tr>\n",
       "      <th>9</th>\n",
       "      <td>E772D5C0</td>\n",
       "      <td>Pessimist</td>\n",
       "      <td>unknown</td>\n",
       "      <td>dance</td>\n",
       "      <td>Saint-Petersburg</td>\n",
       "      <td>21:20:49</td>\n",
       "      <td>Wednesday</td>\n",
       "    </tr>\n",
       "  </tbody>\n",
       "</table>\n",
       "</div>"
      ],
      "text/plain": [
       "    user_id                  track            artist   genre  \\\n",
       "0  FFB692EC      Kamigata To Boots  The Mass Missile    rock   \n",
       "2    20EC38      Funiculì funiculà       Mario Lanza     pop   \n",
       "3  A3DD03C9  Dragons in the Sunset        Fire + Ice    folk   \n",
       "5  842029A1              Преданная         IMPERVTOR  rusrap   \n",
       "9  E772D5C0              Pessimist           unknown   dance   \n",
       "\n",
       "               city      time        day  \n",
       "0  Saint-Petersburg  20:28:33  Wednesday  \n",
       "2  Saint-Petersburg  20:58:07  Wednesday  \n",
       "3  Saint-Petersburg  08:37:09     Monday  \n",
       "5  Saint-Petersburg  13:09:41     Friday  \n",
       "9  Saint-Petersburg  21:20:49  Wednesday  "
      ]
     },
     "metadata": {},
     "output_type": "display_data"
    }
   ],
   "source": [
    "# получение таблицы spb_general из тех строк таблицы df,\n",
    "# для которых значение в столбце 'city' равно 'Saint-Petersburg'\n",
    "\n",
    "spb_general = df[df['city'] == 'Saint-Petersburg']\n",
    "display(spb_general.head())"
   ]
  },
  {
   "cell_type": "markdown",
   "metadata": {
    "id": "MEJV-CX2_Zcu"
   },
   "source": [
    "Создадим функцию `genre_weekday()` с четырьмя параметрами:\n",
    "* таблица (датафрейм) с данными,\n",
    "* день недели,\n",
    "* начальная временная метка в формате 'hh:mm', \n",
    "* последняя временная метка в формате 'hh:mm'.\n",
    "\n",
    "Функция должна вернуть информацию о топ-10 жанров тех треков, которые прослушивали в указанный день, в промежутке между двумя отметками времени."
   ]
  },
  {
   "cell_type": "code",
   "execution_count": 101,
   "metadata": {
    "id": "laJT9BYl_Zcu"
   },
   "outputs": [],
   "source": [
    "def genre_weekday(table, day, time1, time2):\n",
    "    genre_df = table[(table['day'] == day) & (table['time'] >= time1) & (table['time'] <= time2)]\n",
    "    genre_df_count = genre_df.groupby('genre')['user_id'].count()\n",
    "    genre_df_sorted = genre_df_count.sort_values(ascending=False)\n",
    "    return genre_df_sorted[:10]"
   ]
  },
  {
   "cell_type": "markdown",
   "metadata": {
    "id": "la2s2_PF_Zcu"
   },
   "source": [
    "Cравним результаты функции `genre_weekday()` для Москвы и Санкт-Петербурга в понедельник утром (с 7:00 до 11:00) и в пятницу вечером (с 17:00 до 23:00):"
   ]
  },
  {
   "cell_type": "markdown",
   "metadata": {},
   "source": [
    "**Москва, утром в понедельник**:"
   ]
  },
  {
   "cell_type": "code",
   "execution_count": 102,
   "metadata": {
    "id": "yz7itPUQ_Zcu",
    "scrolled": false
   },
   "outputs": [
    {
     "data": {
      "text/plain": [
       "genre\n",
       "pop            781\n",
       "dance          549\n",
       "electronic     480\n",
       "rock           474\n",
       "hiphop         286\n",
       "ruspop         186\n",
       "world          181\n",
       "rusrap         175\n",
       "alternative    164\n",
       "unknown        161\n",
       "Name: user_id, dtype: int64"
      ]
     },
     "execution_count": 102,
     "metadata": {},
     "output_type": "execute_result"
    }
   ],
   "source": [
    "# вызов функции для утра понедельника в Москве (вместо df — таблица moscow_general)\n",
    "# объекты, хранящие время, являются строками и сравниваются как строки\n",
    "# пример вызова: genre_weekday(moscow_general, 'Monday', '07:00', '11:00')\n",
    "genre_weekday(moscow_general, 'Monday', '07:00', '11:00')"
   ]
  },
  {
   "cell_type": "markdown",
   "metadata": {},
   "source": [
    "**СПб, утром в понедельник**:"
   ]
  },
  {
   "cell_type": "code",
   "execution_count": 103,
   "metadata": {
    "id": "kwUcHPdy_Zcu",
    "scrolled": true
   },
   "outputs": [
    {
     "data": {
      "text/plain": [
       "genre\n",
       "pop            218\n",
       "dance          182\n",
       "rock           162\n",
       "electronic     147\n",
       "hiphop          80\n",
       "ruspop          64\n",
       "alternative     58\n",
       "rusrap          55\n",
       "jazz            44\n",
       "classical       40\n",
       "Name: user_id, dtype: int64"
      ]
     },
     "execution_count": 103,
     "metadata": {},
     "output_type": "execute_result"
    }
   ],
   "source": [
    "# вызов функции для утра понедельника в Петербурге (вместо df — таблица spb_general)\n",
    "genre_weekday(spb_general, 'Monday', '07:00', '11:00')"
   ]
  },
  {
   "cell_type": "markdown",
   "metadata": {},
   "source": [
    "**Москва, утром в пятницу**:"
   ]
  },
  {
   "cell_type": "code",
   "execution_count": 104,
   "metadata": {
    "id": "EzXVRE1o_Zcu"
   },
   "outputs": [
    {
     "data": {
      "text/plain": [
       "genre\n",
       "pop            713\n",
       "rock           517\n",
       "dance          495\n",
       "electronic     482\n",
       "hiphop         273\n",
       "world          208\n",
       "ruspop         170\n",
       "alternative    163\n",
       "classical      163\n",
       "rusrap         142\n",
       "Name: user_id, dtype: int64"
      ]
     },
     "execution_count": 104,
     "metadata": {},
     "output_type": "execute_result"
    }
   ],
   "source": [
    "# вызов функции для вечера пятницы в Москве\n",
    "genre_weekday(moscow_general, 'Friday', '17:00', '23:00')"
   ]
  },
  {
   "cell_type": "markdown",
   "metadata": {},
   "source": [
    "**СПб, утром в пятницу**:"
   ]
  },
  {
   "cell_type": "code",
   "execution_count": 105,
   "metadata": {
    "id": "JZaEKu5v_Zcu"
   },
   "outputs": [
    {
     "data": {
      "text/plain": [
       "genre\n",
       "pop            256\n",
       "electronic     216\n",
       "rock           216\n",
       "dance          210\n",
       "hiphop          97\n",
       "alternative     63\n",
       "jazz            61\n",
       "classical       60\n",
       "rusrap          59\n",
       "world           54\n",
       "Name: user_id, dtype: int64"
      ]
     },
     "execution_count": 105,
     "metadata": {},
     "output_type": "execute_result"
    }
   ],
   "source": [
    "# вызов функции для вечера пятницы в Петербурге\n",
    "genre_weekday(spb_general, 'Friday', '17:00', '23:00')"
   ]
  },
  {
   "cell_type": "markdown",
   "metadata": {
    "id": "wrCe4MNX_Zcu"
   },
   "source": [
    "**Выводы**\n",
    "\n",
    "Если сравнить топ-10 жанров в понедельник утром, можно сделать такие выводы:\n",
    "\n",
    "1. В Москве и Петербурге слушают похожую музыку. Единственное отличие — в московский рейтинг вошёл жанр “world”, а в петербургский — джаз и классика.\n",
    "\n",
    "2. В Москве пропущенных значений оказалось так много, что значение `'unknown'` заняло десятое место среди самых популярных жанров. Значит, пропущенные значения занимают существенную долю в данных и угрожают достоверности исследования.\n",
    "\n",
    "Вечер пятницы не меняет эту картину. Некоторые жанры поднимаются немного выше, другие спускаются, но в целом топ-10 остаётся тем же самым.\n",
    "\n",
    "Таким образом, вторая гипотеза подтвердилась лишь частично:\n",
    "* Пользователи слушают похожую музыку в начале недели и в конце.\n",
    "* Разница между Москвой и Петербургом не слишком выражена. В Москве чаще слушают русскую популярную музыку, в Петербурге — джаз.\n",
    "\n",
    "Однако пропуски в данных ставят под сомнение этот результат. В Москве их так много, что рейтинг топ-10 мог бы выглядеть иначе, если бы не утерянные  данные о жанрах."
   ]
  },
  {
   "cell_type": "markdown",
   "metadata": {
    "id": "JolODAqr_Zcu"
   },
   "source": [
    "### Жанровые предпочтения в Москве и Петербурге\n",
    "\n",
    "Гипотеза: Петербург — столица рэпа, музыку этого жанра там слушают чаще, чем в Москве.  А Москва — город контрастов, в котором, тем не менее, преобладает поп-музыка."
   ]
  },
  {
   "cell_type": "markdown",
   "metadata": {
    "id": "DlegSvaT_Zcu"
   },
   "source": [
    "Сгруппируем таблицу `moscow_general` по жанру и посчитайте прослушивания треков каждого жанра методом `count()`. Затем отсортируем результат в порядке убывания и сохраните его в таблице `moscow_genres`."
   ]
  },
  {
   "cell_type": "code",
   "execution_count": 106,
   "metadata": {
    "id": "r19lIPke_Zcu"
   },
   "outputs": [],
   "source": [
    "# одной строкой: группировка таблицы moscow_general по столбцу 'genre', \n",
    "# подсчёт числа значений 'genre' в этой группировке методом count(), \n",
    "# сортировка получившегося Series в порядке убывания и сохранение в moscow_genres\n",
    "\n",
    "moscow_genres = moscow_general.groupby('genre')['track'].count()\n",
    "moscow_genres = moscow_genres.sort_values(ascending=False)"
   ]
  },
  {
   "cell_type": "code",
   "execution_count": 107,
   "metadata": {
    "id": "WhCSooF8_Zcv"
   },
   "outputs": [
    {
     "data": {
      "text/plain": [
       "genre\n",
       "pop            5892\n",
       "dance          4435\n",
       "rock           3965\n",
       "electronic     3786\n",
       "hiphop         2096\n",
       "classical      1616\n",
       "world          1432\n",
       "alternative    1379\n",
       "ruspop         1372\n",
       "rusrap         1161\n",
       "Name: track, dtype: int64"
      ]
     },
     "execution_count": 107,
     "metadata": {},
     "output_type": "execute_result"
    }
   ],
   "source": [
    "# просмотр первых 10 строк moscow_genres\n",
    "moscow_genres.head(10)"
   ]
  },
  {
   "cell_type": "markdown",
   "metadata": {
    "id": "cnPG2vnN_Zcv"
   },
   "source": [
    "Теперь повторим то же и для Петербурга."
   ]
  },
  {
   "cell_type": "code",
   "execution_count": 108,
   "metadata": {
    "id": "gluLIpE7_Zcv"
   },
   "outputs": [],
   "source": [
    "# одной строкой: группировка таблицы spb_general по столбцу 'genre', \n",
    "# подсчёт числа значений 'genre' в этой группировке методом count(), \n",
    "# сортировка получившегося Series в порядке убывания и сохранение в spb_genres\n",
    "spb_genres = spb_general.groupby('genre')['track'].count()\n",
    "spb_genres = spb_genres.sort_values(ascending=False)"
   ]
  },
  {
   "cell_type": "code",
   "execution_count": 109,
   "metadata": {
    "id": "uaGJHjVU_Zcv"
   },
   "outputs": [
    {
     "data": {
      "text/plain": [
       "genre\n",
       "pop            2431\n",
       "dance          1932\n",
       "rock           1879\n",
       "electronic     1737\n",
       "hiphop          960\n",
       "alternative     649\n",
       "classical       646\n",
       "rusrap          564\n",
       "ruspop          539\n",
       "world           515\n",
       "Name: track, dtype: int64"
      ]
     },
     "execution_count": 109,
     "metadata": {},
     "output_type": "execute_result"
    }
   ],
   "source": [
    "# просмотр первых 10 строк spb_genres\n",
    "spb_genres.head(10)"
   ]
  },
  {
   "cell_type": "markdown",
   "metadata": {
    "id": "nVhnJEm__Zcv"
   },
   "source": [
    "**Выводы**:\n",
    "\n",
    "Гипотеза частично подтвердилась:\n",
    "* Поп-музыка — самый популярный жанр в Москве, как и предполагала гипотеза. Более того, в топ-10 жанров встречается близкий жанр — русская популярная музыка.\n",
    "* Вопреки ожиданиям, рэп одинаково популярен в Москве и Петербурге. "
   ]
  },
  {
   "cell_type": "markdown",
   "metadata": {
    "id": "ykKQ0N65_Zcv"
   },
   "source": [
    "## Итоги исследования"
   ]
  },
  {
   "cell_type": "markdown",
   "metadata": {
    "id": "tjUwbHb3_Zcv"
   },
   "source": [
    "Вы проверили три гипотезы и установили:\n",
    "\n",
    "1. День недели по-разному влияет на активность пользователей в Москве и Петербурге. \n",
    "\n",
    "Первая гипотеза полностью подтвердилась.\n",
    "\n",
    "2. Музыкальные предпочтения не сильно меняются в течение недели — будь то Москва или Петербург. Небольшие различия заметны в начале недели, по понедельникам:\n",
    "* в Москве слушают музыку жанра “world”,\n",
    "* в Петербурге — джаз и классику.\n",
    "\n",
    "Таким образом, вторая гипотеза подтвердилась лишь отчасти. Этот результат мог оказаться иным, если бы не пропуски в данных.\n",
    "\n",
    "3. Во вкусах пользователей Москвы и Петербурга больше общего чем различий. Вопреки ожиданиям, предпочтения жанров в Петербурге напоминают московские.\n",
    "\n",
    "Третья гипотеза не подтвердилась. Если различия в предпочтениях и существуют, на основной массе пользователей они незаметны.\n",
    "\n",
    "**На практике исследования содержат проверки статистических гипотез.**\n",
    "Из данных одного сервиса не всегда можно сделать вывод о всех жителях города.\n",
    "Проверки статистических гипотез покажут, насколько они достоверны, исходя из имеющихся данных. \n",
    "С методами проверок гипотез вы ещё познакомитесь в следующих темах."
   ]
  }
 ],
 "metadata": {
  "ExecuteTimeLog": [
   {
    "duration": 44,
    "start_time": "2022-04-04T10:02:02.865Z"
   },
   {
    "duration": 6,
    "start_time": "2022-04-04T10:02:11.449Z"
   },
   {
    "duration": 7,
    "start_time": "2022-04-04T10:02:31.990Z"
   },
   {
    "duration": 389,
    "start_time": "2022-04-04T10:02:42.165Z"
   },
   {
    "duration": 30,
    "start_time": "2022-04-04T10:03:11.544Z"
   },
   {
    "duration": 60,
    "start_time": "2022-04-04T10:04:54.275Z"
   },
   {
    "duration": 144,
    "start_time": "2022-04-04T10:05:07.140Z"
   },
   {
    "duration": 148,
    "start_time": "2022-04-04T10:05:12.794Z"
   },
   {
    "duration": 8,
    "start_time": "2022-04-04T10:05:17.782Z"
   },
   {
    "duration": 3,
    "start_time": "2022-04-04T10:23:33.084Z"
   },
   {
    "duration": 28,
    "start_time": "2022-04-04T10:29:50.568Z"
   },
   {
    "duration": 3,
    "start_time": "2022-04-04T10:30:51.293Z"
   },
   {
    "duration": 12,
    "start_time": "2022-04-04T10:35:20.875Z"
   },
   {
    "duration": 13,
    "start_time": "2022-04-04T10:35:35.875Z"
   },
   {
    "duration": 8,
    "start_time": "2022-04-04T10:36:39.863Z"
   },
   {
    "duration": 3,
    "start_time": "2022-04-04T10:36:52.558Z"
   },
   {
    "duration": 30,
    "start_time": "2022-04-04T10:40:40.845Z"
   },
   {
    "duration": 119,
    "start_time": "2022-04-04T19:32:19.799Z"
   },
   {
    "duration": 128,
    "start_time": "2022-04-04T19:32:57.035Z"
   },
   {
    "duration": 110,
    "start_time": "2022-04-04T19:34:06.635Z"
   },
   {
    "duration": 126,
    "start_time": "2022-04-04T19:34:08.208Z"
   },
   {
    "duration": 26,
    "start_time": "2022-04-04T19:34:21.529Z"
   },
   {
    "duration": 99,
    "start_time": "2022-04-04T19:34:38.927Z"
   },
   {
    "duration": 108,
    "start_time": "2022-04-04T19:36:11.385Z"
   },
   {
    "duration": 100,
    "start_time": "2022-04-04T19:36:13.080Z"
   },
   {
    "duration": 109,
    "start_time": "2022-04-04T19:37:23.555Z"
   },
   {
    "duration": 18,
    "start_time": "2022-04-04T19:37:33.410Z"
   },
   {
    "duration": 25,
    "start_time": "2022-04-04T19:37:38.614Z"
   },
   {
    "duration": 69,
    "start_time": "2022-04-04T19:38:24.881Z"
   },
   {
    "duration": 60,
    "start_time": "2022-04-04T19:38:32.210Z"
   },
   {
    "duration": 77,
    "start_time": "2022-04-04T19:39:45.342Z"
   },
   {
    "duration": 59,
    "start_time": "2022-04-04T19:39:54.742Z"
   },
   {
    "duration": 10,
    "start_time": "2022-04-04T20:14:01.103Z"
   },
   {
    "duration": 1328,
    "start_time": "2022-04-04T20:14:27.876Z"
   },
   {
    "duration": 39,
    "start_time": "2022-04-04T20:14:38.292Z"
   },
   {
    "duration": 3,
    "start_time": "2022-04-04T20:27:06.545Z"
   },
   {
    "duration": 2,
    "start_time": "2022-04-04T20:27:12.507Z"
   },
   {
    "duration": 3,
    "start_time": "2022-04-04T20:27:20.932Z"
   },
   {
    "duration": 39,
    "start_time": "2022-04-04T20:27:27.741Z"
   },
   {
    "duration": 11,
    "start_time": "2022-04-04T20:29:57.176Z"
   },
   {
    "duration": 3,
    "start_time": "2022-04-04T20:30:31.060Z"
   },
   {
    "duration": 8,
    "start_time": "2022-04-04T20:30:33.613Z"
   },
   {
    "duration": 3,
    "start_time": "2022-04-04T20:33:03.277Z"
   },
   {
    "duration": 9,
    "start_time": "2022-04-04T20:33:06.192Z"
   },
   {
    "duration": 3,
    "start_time": "2022-04-04T20:33:47.336Z"
   },
   {
    "duration": 23,
    "start_time": "2022-04-04T20:33:49.677Z"
   },
   {
    "duration": 37,
    "start_time": "2022-04-04T20:34:49.247Z"
   },
   {
    "duration": 6,
    "start_time": "2022-04-04T21:28:13.107Z"
   },
   {
    "duration": 6,
    "start_time": "2022-04-04T21:28:17.867Z"
   },
   {
    "duration": 7,
    "start_time": "2022-04-04T21:28:24.180Z"
   },
   {
    "duration": 44,
    "start_time": "2022-04-04T21:30:44.386Z"
   },
   {
    "duration": 43,
    "start_time": "2022-04-04T21:30:45.906Z"
   },
   {
    "duration": 47,
    "start_time": "2022-04-04T21:31:12.073Z"
   },
   {
    "duration": 45,
    "start_time": "2022-04-04T21:33:21.413Z"
   },
   {
    "duration": 21,
    "start_time": "2022-04-04T21:33:37.634Z"
   },
   {
    "duration": 22,
    "start_time": "2022-04-04T21:33:46.922Z"
   },
   {
    "duration": 42,
    "start_time": "2022-04-04T21:35:37.898Z"
   },
   {
    "duration": 10,
    "start_time": "2022-04-04T21:35:53.486Z"
   },
   {
    "duration": 13,
    "start_time": "2022-04-04T21:36:12.535Z"
   },
   {
    "duration": 12,
    "start_time": "2022-04-04T21:36:35.852Z"
   },
   {
    "duration": 15,
    "start_time": "2022-04-04T21:37:35.943Z"
   },
   {
    "duration": 9,
    "start_time": "2022-04-04T21:40:05.494Z"
   },
   {
    "duration": 42,
    "start_time": "2022-04-04T21:42:00.540Z"
   },
   {
    "duration": 44,
    "start_time": "2022-04-04T21:42:27.471Z"
   },
   {
    "duration": 105,
    "start_time": "2022-04-04T21:42:38.721Z"
   },
   {
    "duration": 57,
    "start_time": "2022-04-04T21:42:50.076Z"
   },
   {
    "duration": 44,
    "start_time": "2022-04-04T21:43:03.629Z"
   },
   {
    "duration": 46,
    "start_time": "2022-04-04T21:43:27.506Z"
   },
   {
    "duration": 41,
    "start_time": "2022-04-04T21:43:57.284Z"
   },
   {
    "duration": 44,
    "start_time": "2022-04-04T21:51:53.524Z"
   },
   {
    "duration": 44,
    "start_time": "2022-04-04T21:52:07.478Z"
   },
   {
    "duration": 56,
    "start_time": "2022-04-04T21:52:20.638Z"
   },
   {
    "duration": 9,
    "start_time": "2022-04-09T12:14:30.585Z"
   },
   {
    "duration": 44,
    "start_time": "2022-04-09T12:16:24.314Z"
   },
   {
    "duration": 9,
    "start_time": "2022-04-09T12:19:05.230Z"
   },
   {
    "duration": 6,
    "start_time": "2022-04-09T12:19:09.474Z"
   },
   {
    "duration": 4,
    "start_time": "2022-04-09T12:28:29.717Z"
   },
   {
    "duration": 10,
    "start_time": "2022-04-09T12:28:32.763Z"
   },
   {
    "duration": 7,
    "start_time": "2022-04-09T12:30:11.345Z"
   },
   {
    "duration": 7,
    "start_time": "2022-04-09T12:30:14.951Z"
   },
   {
    "duration": 7,
    "start_time": "2022-04-09T12:30:45.562Z"
   },
   {
    "duration": 7,
    "start_time": "2022-04-09T12:30:47.741Z"
   },
   {
    "duration": 7,
    "start_time": "2022-04-09T12:31:37.004Z"
   },
   {
    "duration": 416,
    "start_time": "2022-04-09T12:31:44.178Z"
   },
   {
    "duration": 195,
    "start_time": "2022-04-09T12:31:46.772Z"
   },
   {
    "duration": 8,
    "start_time": "2022-04-09T12:31:50.474Z"
   },
   {
    "duration": 1612,
    "start_time": "2022-04-09T12:32:07.934Z"
   },
   {
    "duration": 1827,
    "start_time": "2022-04-09T12:32:18.301Z"
   },
   {
    "duration": 1670,
    "start_time": "2022-04-09T12:32:50.099Z"
   },
   {
    "duration": 3,
    "start_time": "2022-04-09T12:34:24.899Z"
   },
   {
    "duration": 2,
    "start_time": "2022-04-09T12:34:33.328Z"
   },
   {
    "duration": 1687,
    "start_time": "2022-04-09T12:34:51.220Z"
   },
   {
    "duration": 3,
    "start_time": "2022-04-09T12:35:32.710Z"
   },
   {
    "duration": 14,
    "start_time": "2022-04-09T12:35:36.110Z"
   },
   {
    "duration": 4,
    "start_time": "2022-04-09T12:35:38.720Z"
   },
   {
    "duration": 29,
    "start_time": "2022-04-09T12:35:41.566Z"
   },
   {
    "duration": 20,
    "start_time": "2022-04-09T12:35:44.896Z"
   },
   {
    "duration": 26,
    "start_time": "2022-04-09T12:35:47.540Z"
   },
   {
    "duration": 71,
    "start_time": "2022-04-09T12:35:49.733Z"
   },
   {
    "duration": 76,
    "start_time": "2022-04-09T12:35:52.569Z"
   },
   {
    "duration": 62,
    "start_time": "2022-04-09T12:35:54.809Z"
   },
   {
    "duration": 39,
    "start_time": "2022-04-09T12:35:57.696Z"
   },
   {
    "duration": 3,
    "start_time": "2022-04-09T12:36:03.992Z"
   },
   {
    "duration": 37,
    "start_time": "2022-04-09T12:36:06.759Z"
   },
   {
    "duration": 57,
    "start_time": "2022-04-09T12:36:09.164Z"
   },
   {
    "duration": 43,
    "start_time": "2022-04-09T12:36:15.499Z"
   },
   {
    "duration": 55,
    "start_time": "2022-04-09T12:36:20.507Z"
   },
   {
    "duration": 148,
    "start_time": "2022-04-09T12:36:24.283Z"
   },
   {
    "duration": 9,
    "start_time": "2022-04-09T12:36:27.382Z"
   },
   {
    "duration": 151,
    "start_time": "2022-04-09T12:38:28.577Z"
   },
   {
    "duration": 10,
    "start_time": "2022-04-09T12:38:31.237Z"
   },
   {
    "duration": 145,
    "start_time": "2022-04-09T12:42:38.885Z"
   },
   {
    "duration": 9,
    "start_time": "2022-04-09T12:42:42.430Z"
   },
   {
    "duration": 152,
    "start_time": "2022-04-09T12:46:51.112Z"
   },
   {
    "duration": 10,
    "start_time": "2022-04-09T12:46:53.767Z"
   },
   {
    "duration": 145,
    "start_time": "2022-04-09T12:49:49.792Z"
   },
   {
    "duration": 1715,
    "start_time": "2022-04-09T12:49:52.160Z"
   },
   {
    "duration": 1789,
    "start_time": "2022-04-09T12:51:29.746Z"
   },
   {
    "duration": 6,
    "start_time": "2022-04-09T12:52:48.667Z"
   },
   {
    "duration": 1743,
    "start_time": "2022-04-09T12:52:51.130Z"
   },
   {
    "duration": 5,
    "start_time": "2022-04-09T12:53:06.970Z"
   },
   {
    "duration": 3,
    "start_time": "2022-04-09T12:53:48.302Z"
   },
   {
    "duration": 1791,
    "start_time": "2022-04-09T12:53:51.532Z"
   },
   {
    "duration": 3,
    "start_time": "2022-04-09T12:53:56.521Z"
   },
   {
    "duration": 1822,
    "start_time": "2022-04-09T12:53:59.913Z"
   },
   {
    "duration": 4,
    "start_time": "2022-04-09T12:55:16.957Z"
   },
   {
    "duration": 1662,
    "start_time": "2022-04-09T12:55:19.462Z"
   },
   {
    "duration": 1755,
    "start_time": "2022-04-09T12:56:32.637Z"
   },
   {
    "duration": 1618,
    "start_time": "2022-04-09T12:58:22.002Z"
   },
   {
    "duration": 3,
    "start_time": "2022-04-09T13:01:56.587Z"
   },
   {
    "duration": 1717,
    "start_time": "2022-04-09T13:02:01.867Z"
   },
   {
    "duration": 4,
    "start_time": "2022-04-09T13:05:49.216Z"
   },
   {
    "duration": 1726,
    "start_time": "2022-04-09T13:05:52.797Z"
   },
   {
    "duration": 2,
    "start_time": "2022-04-09T13:06:12.033Z"
   },
   {
    "duration": 146,
    "start_time": "2022-04-09T13:06:14.282Z"
   },
   {
    "duration": 7,
    "start_time": "2022-04-09T13:06:16.298Z"
   },
   {
    "duration": 35,
    "start_time": "2022-04-09T13:06:25.389Z"
   },
   {
    "duration": 4,
    "start_time": "2022-04-09T13:06:28.936Z"
   },
   {
    "duration": 10,
    "start_time": "2022-04-09T13:06:32.547Z"
   },
   {
    "duration": 4,
    "start_time": "2022-04-09T13:06:34.230Z"
   },
   {
    "duration": 19,
    "start_time": "2022-04-09T13:06:37.774Z"
   },
   {
    "duration": 67,
    "start_time": "2022-04-09T13:06:40.712Z"
   },
   {
    "duration": 71,
    "start_time": "2022-04-09T13:06:43.929Z"
   },
   {
    "duration": 57,
    "start_time": "2022-04-09T13:06:51.858Z"
   },
   {
    "duration": 45,
    "start_time": "2022-04-09T13:06:55.285Z"
   },
   {
    "duration": 3,
    "start_time": "2022-04-09T13:06:59.093Z"
   },
   {
    "duration": 24,
    "start_time": "2022-04-09T13:07:01.169Z"
   },
   {
    "duration": 59,
    "start_time": "2022-04-09T13:07:05.491Z"
   },
   {
    "duration": 45,
    "start_time": "2022-04-09T13:07:09.827Z"
   },
   {
    "duration": 59,
    "start_time": "2022-04-09T13:07:12.378Z"
   },
   {
    "duration": 4,
    "start_time": "2022-04-09T13:07:15.770Z"
   },
   {
    "duration": 17,
    "start_time": "2022-04-09T13:07:18.843Z"
   },
   {
    "duration": 15,
    "start_time": "2022-04-09T13:07:31.526Z"
   },
   {
    "duration": 12,
    "start_time": "2022-04-09T13:07:52.989Z"
   },
   {
    "duration": 16,
    "start_time": "2022-04-09T13:08:03.180Z"
   },
   {
    "duration": 15,
    "start_time": "2022-04-09T13:08:21.939Z"
   },
   {
    "duration": 17,
    "start_time": "2022-04-09T13:08:40.457Z"
   },
   {
    "duration": 14,
    "start_time": "2022-04-09T13:08:53.955Z"
   },
   {
    "duration": 103,
    "start_time": "2022-04-09T13:25:37.122Z"
   },
   {
    "duration": 9,
    "start_time": "2022-04-09T13:27:32.454Z"
   },
   {
    "duration": 485,
    "start_time": "2022-04-09T13:28:06.724Z"
   },
   {
    "duration": 3,
    "start_time": "2022-04-09T13:28:56.561Z"
   },
   {
    "duration": 154,
    "start_time": "2022-04-09T13:29:02.598Z"
   },
   {
    "duration": 7,
    "start_time": "2022-04-09T13:29:05.990Z"
   },
   {
    "duration": 31,
    "start_time": "2022-04-09T13:29:10.254Z"
   },
   {
    "duration": 4,
    "start_time": "2022-04-09T13:29:14.247Z"
   },
   {
    "duration": 9,
    "start_time": "2022-04-09T13:29:18.451Z"
   },
   {
    "duration": 26,
    "start_time": "2022-04-09T13:29:21.207Z"
   },
   {
    "duration": 20,
    "start_time": "2022-04-09T13:29:24.895Z"
   },
   {
    "duration": 26,
    "start_time": "2022-04-09T13:29:27.367Z"
   },
   {
    "duration": 67,
    "start_time": "2022-04-09T13:29:29.775Z"
   },
   {
    "duration": 69,
    "start_time": "2022-04-09T13:29:32.164Z"
   },
   {
    "duration": 61,
    "start_time": "2022-04-09T13:29:34.488Z"
   },
   {
    "duration": 47,
    "start_time": "2022-04-09T13:29:38.904Z"
   },
   {
    "duration": 3,
    "start_time": "2022-04-09T13:29:46.717Z"
   },
   {
    "duration": 24,
    "start_time": "2022-04-09T13:29:50.299Z"
   },
   {
    "duration": 37,
    "start_time": "2022-04-09T13:29:52.907Z"
   },
   {
    "duration": 48,
    "start_time": "2022-04-09T13:29:58.449Z"
   },
   {
    "duration": 59,
    "start_time": "2022-04-09T13:30:01.222Z"
   },
   {
    "duration": 4,
    "start_time": "2022-04-09T13:30:07.317Z"
   },
   {
    "duration": 501,
    "start_time": "2022-04-09T13:30:15.111Z"
   },
   {
    "duration": 111,
    "start_time": "2022-04-09T13:37:24.907Z"
   },
   {
    "duration": 104,
    "start_time": "2022-04-09T13:37:30.468Z"
   },
   {
    "duration": 106,
    "start_time": "2022-04-09T13:38:07.353Z"
   },
   {
    "duration": 110,
    "start_time": "2022-04-09T13:38:53.566Z"
   },
   {
    "duration": 102,
    "start_time": "2022-04-09T13:39:15.412Z"
   },
   {
    "duration": 100,
    "start_time": "2022-04-09T13:41:28.237Z"
   },
   {
    "duration": 100,
    "start_time": "2022-04-09T13:41:59.009Z"
   },
   {
    "duration": 112,
    "start_time": "2022-04-09T13:43:03.231Z"
   },
   {
    "duration": 108,
    "start_time": "2022-04-09T13:43:05.495Z"
   },
   {
    "duration": 100,
    "start_time": "2022-04-09T13:43:27.813Z"
   },
   {
    "duration": 108,
    "start_time": "2022-04-09T13:44:06.529Z"
   },
   {
    "duration": 130,
    "start_time": "2022-04-09T13:48:32.110Z"
   },
   {
    "duration": 103,
    "start_time": "2022-04-09T13:48:51.818Z"
   },
   {
    "duration": 109,
    "start_time": "2022-04-09T13:49:00.332Z"
   },
   {
    "duration": 98,
    "start_time": "2022-04-09T13:49:08.751Z"
   },
   {
    "duration": 128,
    "start_time": "2022-04-09T13:58:00.427Z"
   },
   {
    "duration": 148,
    "start_time": "2022-04-09T14:00:06.367Z"
   },
   {
    "duration": 103,
    "start_time": "2022-04-09T14:01:09.638Z"
   },
   {
    "duration": 133,
    "start_time": "2022-04-09T14:01:16.680Z"
   },
   {
    "duration": 3,
    "start_time": "2022-04-09T14:01:46.309Z"
   },
   {
    "duration": 148,
    "start_time": "2022-04-09T14:01:49.265Z"
   },
   {
    "duration": 7,
    "start_time": "2022-04-09T14:01:52.484Z"
   },
   {
    "duration": 105,
    "start_time": "2022-04-09T14:02:01.519Z"
   },
   {
    "duration": 1726,
    "start_time": "2022-04-09T14:02:49.525Z"
   },
   {
    "duration": 1709,
    "start_time": "2022-04-09T14:02:58.812Z"
   },
   {
    "duration": 4,
    "start_time": "2022-04-09T14:03:03.528Z"
   },
   {
    "duration": 3,
    "start_time": "2022-04-09T14:03:10.397Z"
   },
   {
    "duration": 150,
    "start_time": "2022-04-09T14:03:12.476Z"
   },
   {
    "duration": 7,
    "start_time": "2022-04-09T14:03:15.245Z"
   },
   {
    "duration": 29,
    "start_time": "2022-04-09T14:03:18.580Z"
   },
   {
    "duration": 3,
    "start_time": "2022-04-09T14:03:26.049Z"
   },
   {
    "duration": 12,
    "start_time": "2022-04-09T14:03:29.306Z"
   },
   {
    "duration": 4,
    "start_time": "2022-04-09T14:03:31.467Z"
   },
   {
    "duration": 21,
    "start_time": "2022-04-09T14:03:35.392Z"
   },
   {
    "duration": 24,
    "start_time": "2022-04-09T14:03:37.117Z"
   },
   {
    "duration": 60,
    "start_time": "2022-04-09T14:03:39.888Z"
   },
   {
    "duration": 69,
    "start_time": "2022-04-09T14:03:43.249Z"
   },
   {
    "duration": 54,
    "start_time": "2022-04-09T14:03:45.636Z"
   },
   {
    "duration": 44,
    "start_time": "2022-04-09T14:03:47.988Z"
   },
   {
    "duration": 3,
    "start_time": "2022-04-09T14:03:52.736Z"
   },
   {
    "duration": 26,
    "start_time": "2022-04-09T14:03:55.022Z"
   },
   {
    "duration": 37,
    "start_time": "2022-04-09T14:03:57.311Z"
   },
   {
    "duration": 49,
    "start_time": "2022-04-09T14:04:01.734Z"
   },
   {
    "duration": 103,
    "start_time": "2022-04-09T14:04:04.039Z"
   },
   {
    "duration": 4,
    "start_time": "2022-04-09T14:04:08.024Z"
   },
   {
    "duration": 21,
    "start_time": "2022-04-09T14:04:10.968Z"
   },
   {
    "duration": 14,
    "start_time": "2022-04-09T14:04:13.021Z"
   },
   {
    "duration": 17,
    "start_time": "2022-04-09T14:04:15.069Z"
   },
   {
    "duration": 15,
    "start_time": "2022-04-09T14:04:17.384Z"
   },
   {
    "duration": 19,
    "start_time": "2022-04-09T14:04:19.171Z"
   },
   {
    "duration": 16,
    "start_time": "2022-04-09T14:04:21.273Z"
   },
   {
    "duration": 106,
    "start_time": "2022-04-09T14:04:23.837Z"
   },
   {
    "duration": 116,
    "start_time": "2022-04-09T14:04:44.409Z"
   },
   {
    "duration": 106,
    "start_time": "2022-04-09T14:04:56.949Z"
   },
   {
    "duration": 111,
    "start_time": "2022-04-09T14:05:09.421Z"
   },
   {
    "duration": 102,
    "start_time": "2022-04-09T14:05:16.254Z"
   },
   {
    "duration": 3,
    "start_time": "2022-04-09T14:05:28.928Z"
   },
   {
    "duration": 109,
    "start_time": "2022-04-09T14:05:37.210Z"
   },
   {
    "duration": 98,
    "start_time": "2022-04-09T14:05:57.742Z"
   },
   {
    "duration": 109,
    "start_time": "2022-04-09T14:06:12.406Z"
   },
   {
    "duration": 108,
    "start_time": "2022-04-09T14:06:19.206Z"
   },
   {
    "duration": 102,
    "start_time": "2022-04-09T14:12:40.033Z"
   },
   {
    "duration": 0,
    "start_time": "2022-04-09T14:12:40.136Z"
   },
   {
    "duration": 14,
    "start_time": "2022-04-09T14:12:47.054Z"
   },
   {
    "duration": 107,
    "start_time": "2022-04-09T14:12:49.849Z"
   },
   {
    "duration": 101,
    "start_time": "2022-04-09T14:13:45.722Z"
   },
   {
    "duration": 115,
    "start_time": "2022-04-09T14:47:55.411Z"
   },
   {
    "duration": 17,
    "start_time": "2022-04-09T14:48:20.645Z"
   },
   {
    "duration": 113,
    "start_time": "2022-04-09T14:48:24.025Z"
   },
   {
    "duration": 113,
    "start_time": "2022-04-09T14:49:05.136Z"
   },
   {
    "duration": 107,
    "start_time": "2022-04-09T14:50:24.215Z"
   },
   {
    "duration": 109,
    "start_time": "2022-04-09T14:50:33.772Z"
   },
   {
    "duration": 101,
    "start_time": "2022-04-09T14:50:44.067Z"
   },
   {
    "duration": 74,
    "start_time": "2022-04-09T14:51:02.318Z"
   },
   {
    "duration": 145,
    "start_time": "2022-04-09T14:51:23.721Z"
   },
   {
    "duration": 114,
    "start_time": "2022-04-09T14:51:44.993Z"
   },
   {
    "duration": 63,
    "start_time": "2022-04-09T14:52:48.779Z"
   },
   {
    "duration": 78,
    "start_time": "2022-04-09T14:53:11.750Z"
   },
   {
    "duration": 72,
    "start_time": "2022-04-09T14:53:27.202Z"
   },
   {
    "duration": 15,
    "start_time": "2022-04-09T14:56:06.686Z"
   },
   {
    "duration": 12,
    "start_time": "2022-04-09T14:56:17.384Z"
   },
   {
    "duration": 14,
    "start_time": "2022-04-09T14:57:44.574Z"
   },
   {
    "duration": 5,
    "start_time": "2022-04-09T15:16:43.776Z"
   },
   {
    "duration": 23,
    "start_time": "2022-04-09T15:19:07.473Z"
   },
   {
    "duration": 4,
    "start_time": "2022-04-09T15:20:27.581Z"
   },
   {
    "duration": 16,
    "start_time": "2022-04-09T15:20:29.932Z"
   },
   {
    "duration": 4,
    "start_time": "2022-04-09T15:20:55.393Z"
   },
   {
    "duration": 17,
    "start_time": "2022-04-09T15:20:57.632Z"
   },
   {
    "duration": 4,
    "start_time": "2022-04-09T15:21:07.386Z"
   },
   {
    "duration": 18,
    "start_time": "2022-04-09T15:21:09.186Z"
   },
   {
    "duration": 3,
    "start_time": "2022-04-09T15:21:42.623Z"
   },
   {
    "duration": 21,
    "start_time": "2022-04-09T15:21:45.300Z"
   },
   {
    "duration": 9,
    "start_time": "2022-04-09T15:22:09.858Z"
   },
   {
    "duration": 20,
    "start_time": "2022-04-09T15:22:12.482Z"
   },
   {
    "duration": 4,
    "start_time": "2022-04-09T15:22:26.231Z"
   },
   {
    "duration": 19,
    "start_time": "2022-04-09T15:22:27.831Z"
   },
   {
    "duration": 4,
    "start_time": "2022-04-09T15:23:00.354Z"
   },
   {
    "duration": 18,
    "start_time": "2022-04-09T15:23:03.858Z"
   },
   {
    "duration": 100,
    "start_time": "2022-04-09T15:23:37.061Z"
   },
   {
    "duration": 5,
    "start_time": "2022-04-09T15:23:45.101Z"
   },
   {
    "duration": 17,
    "start_time": "2022-04-09T15:23:47.182Z"
   },
   {
    "duration": 26,
    "start_time": "2022-04-09T15:24:22.729Z"
   },
   {
    "duration": 5,
    "start_time": "2022-04-09T15:25:18.149Z"
   },
   {
    "duration": 24,
    "start_time": "2022-04-09T15:25:20.498Z"
   },
   {
    "duration": 21,
    "start_time": "2022-04-09T15:30:14.092Z"
   },
   {
    "duration": 24,
    "start_time": "2022-04-09T15:30:32.672Z"
   },
   {
    "duration": 4,
    "start_time": "2022-04-09T15:35:26.459Z"
   },
   {
    "duration": 28,
    "start_time": "2022-04-09T15:35:29.129Z"
   },
   {
    "duration": 4,
    "start_time": "2022-04-09T15:36:08.854Z"
   },
   {
    "duration": 28,
    "start_time": "2022-04-09T15:36:11.104Z"
   },
   {
    "duration": 4,
    "start_time": "2022-04-09T15:36:52.041Z"
   },
   {
    "duration": 24,
    "start_time": "2022-04-09T15:36:53.970Z"
   },
   {
    "duration": 5,
    "start_time": "2022-04-09T15:37:00.973Z"
   },
   {
    "duration": 23,
    "start_time": "2022-04-09T15:37:03.269Z"
   },
   {
    "duration": 5,
    "start_time": "2022-04-09T15:37:09.694Z"
   },
   {
    "duration": 26,
    "start_time": "2022-04-09T15:37:11.838Z"
   },
   {
    "duration": 4,
    "start_time": "2022-04-09T15:37:55.034Z"
   },
   {
    "duration": 28,
    "start_time": "2022-04-09T15:37:56.857Z"
   },
   {
    "duration": 4,
    "start_time": "2022-04-09T15:38:16.488Z"
   },
   {
    "duration": 25,
    "start_time": "2022-04-09T15:38:18.287Z"
   },
   {
    "duration": 4,
    "start_time": "2022-04-09T15:39:27.933Z"
   },
   {
    "duration": 20,
    "start_time": "2022-04-09T15:39:30.096Z"
   },
   {
    "duration": 21,
    "start_time": "2022-04-09T15:45:33.344Z"
   },
   {
    "duration": 21,
    "start_time": "2022-04-09T15:45:36.302Z"
   },
   {
    "duration": 21,
    "start_time": "2022-04-09T15:46:03.030Z"
   },
   {
    "duration": 20,
    "start_time": "2022-04-09T15:47:41.167Z"
   },
   {
    "duration": 21,
    "start_time": "2022-04-09T15:48:03.251Z"
   },
   {
    "duration": 4,
    "start_time": "2022-04-09T15:48:15.472Z"
   },
   {
    "duration": 20,
    "start_time": "2022-04-09T15:48:17.529Z"
   },
   {
    "duration": 30,
    "start_time": "2022-04-09T15:48:22.600Z"
   },
   {
    "duration": 5,
    "start_time": "2022-04-09T15:48:28.267Z"
   },
   {
    "duration": 13,
    "start_time": "2022-04-09T15:49:26.586Z"
   },
   {
    "duration": 8,
    "start_time": "2022-04-09T15:51:11.516Z"
   },
   {
    "duration": 4,
    "start_time": "2022-04-09T15:51:19.067Z"
   },
   {
    "duration": 21,
    "start_time": "2022-04-09T15:51:21.282Z"
   },
   {
    "duration": 8,
    "start_time": "2022-04-09T15:52:10.094Z"
   },
   {
    "duration": 4,
    "start_time": "2022-04-09T15:52:20.465Z"
   },
   {
    "duration": 17,
    "start_time": "2022-04-09T15:52:22.722Z"
   },
   {
    "duration": 12,
    "start_time": "2022-04-09T15:52:30.137Z"
   },
   {
    "duration": 18,
    "start_time": "2022-04-09T15:52:34.107Z"
   },
   {
    "duration": 14,
    "start_time": "2022-04-09T15:52:36.857Z"
   },
   {
    "duration": 12,
    "start_time": "2022-04-09T16:14:06.723Z"
   },
   {
    "duration": 9,
    "start_time": "2022-04-09T16:15:10.763Z"
   },
   {
    "duration": 11,
    "start_time": "2022-04-09T16:15:26.849Z"
   },
   {
    "duration": 11,
    "start_time": "2022-04-09T16:15:43.854Z"
   },
   {
    "duration": 5,
    "start_time": "2022-04-09T16:15:45.990Z"
   },
   {
    "duration": 8,
    "start_time": "2022-04-09T16:16:19.974Z"
   },
   {
    "duration": 5,
    "start_time": "2022-04-09T16:16:31.661Z"
   },
   {
    "duration": 26,
    "start_time": "2022-04-09T16:22:48.360Z"
   },
   {
    "duration": 25,
    "start_time": "2022-04-09T16:23:27.341Z"
   },
   {
    "duration": 47,
    "start_time": "2022-04-09T16:30:28.631Z"
   },
   {
    "duration": 48,
    "start_time": "2022-04-09T16:30:36.182Z"
   },
   {
    "duration": 43,
    "start_time": "2022-04-09T16:30:53.976Z"
   },
   {
    "duration": 56,
    "start_time": "2022-04-09T16:31:26.478Z"
   },
   {
    "duration": 69,
    "start_time": "2022-04-09T16:32:25.016Z"
   },
   {
    "duration": 11,
    "start_time": "2022-04-09T16:32:46.563Z"
   },
   {
    "duration": 12,
    "start_time": "2022-04-09T16:32:48.795Z"
   },
   {
    "duration": 41,
    "start_time": "2022-04-19T12:28:09.354Z"
   },
   {
    "duration": 398,
    "start_time": "2022-04-19T12:28:18.006Z"
   },
   {
    "duration": 136,
    "start_time": "2022-04-19T12:28:18.406Z"
   },
   {
    "duration": 8,
    "start_time": "2022-04-19T12:28:18.544Z"
   },
   {
    "duration": 16,
    "start_time": "2022-04-19T12:28:18.553Z"
   },
   {
    "duration": 26,
    "start_time": "2022-04-19T12:28:18.571Z"
   },
   {
    "duration": 3,
    "start_time": "2022-04-19T12:28:18.599Z"
   },
   {
    "duration": 9,
    "start_time": "2022-04-19T12:28:18.624Z"
   },
   {
    "duration": 6,
    "start_time": "2022-04-19T12:28:18.635Z"
   },
   {
    "duration": 28,
    "start_time": "2022-04-19T12:28:18.642Z"
   },
   {
    "duration": 18,
    "start_time": "2022-04-19T12:28:18.671Z"
   },
   {
    "duration": 37,
    "start_time": "2022-04-19T12:28:18.690Z"
   },
   {
    "duration": 60,
    "start_time": "2022-04-19T12:28:18.728Z"
   },
   {
    "duration": 88,
    "start_time": "2022-04-19T12:28:18.789Z"
   },
   {
    "duration": 66,
    "start_time": "2022-04-19T12:28:18.880Z"
   },
   {
    "duration": 33,
    "start_time": "2022-04-19T12:28:18.947Z"
   },
   {
    "duration": 2,
    "start_time": "2022-04-19T12:28:18.982Z"
   },
   {
    "duration": 23,
    "start_time": "2022-04-19T12:28:18.986Z"
   },
   {
    "duration": 45,
    "start_time": "2022-04-19T12:28:19.010Z"
   },
   {
    "duration": 34,
    "start_time": "2022-04-19T12:28:19.057Z"
   },
   {
    "duration": 56,
    "start_time": "2022-04-19T12:28:19.092Z"
   },
   {
    "duration": 3,
    "start_time": "2022-04-19T12:28:19.150Z"
   },
   {
    "duration": 19,
    "start_time": "2022-04-19T12:28:19.154Z"
   },
   {
    "duration": 13,
    "start_time": "2022-04-19T12:28:19.174Z"
   },
   {
    "duration": 13,
    "start_time": "2022-04-19T12:28:19.189Z"
   },
   {
    "duration": 12,
    "start_time": "2022-04-19T12:28:19.224Z"
   },
   {
    "duration": 14,
    "start_time": "2022-04-19T12:28:19.238Z"
   },
   {
    "duration": 14,
    "start_time": "2022-04-19T12:28:19.253Z"
   },
   {
    "duration": 86,
    "start_time": "2022-04-19T12:28:19.268Z"
   },
   {
    "duration": 9,
    "start_time": "2022-04-19T12:28:19.355Z"
   },
   {
    "duration": 7,
    "start_time": "2022-04-19T12:28:19.366Z"
   },
   {
    "duration": 6,
    "start_time": "2022-04-19T12:28:19.375Z"
   },
   {
    "duration": 18,
    "start_time": "2022-04-19T12:28:19.383Z"
   },
   {
    "duration": 24,
    "start_time": "2022-04-19T12:28:19.403Z"
   },
   {
    "duration": 14,
    "start_time": "2022-04-19T12:28:19.428Z"
   },
   {
    "duration": 10,
    "start_time": "2022-04-19T12:28:19.443Z"
   },
   {
    "duration": 11,
    "start_time": "2022-04-19T12:28:19.454Z"
   },
   {
    "duration": 3,
    "start_time": "2022-04-19T12:28:19.467Z"
   },
   {
    "duration": 10,
    "start_time": "2022-04-19T12:28:19.472Z"
   },
   {
    "duration": 3,
    "start_time": "2022-04-19T12:28:19.484Z"
   },
   {
    "duration": 90,
    "start_time": "2022-04-20T17:28:07.194Z"
   },
   {
    "duration": 54,
    "start_time": "2022-04-20T17:32:18.175Z"
   },
   {
    "duration": 6,
    "start_time": "2022-04-20T17:32:50.840Z"
   },
   {
    "duration": 6,
    "start_time": "2022-04-20T17:33:12.428Z"
   },
   {
    "duration": 427,
    "start_time": "2022-04-20T17:33:16.906Z"
   },
   {
    "duration": 308,
    "start_time": "2022-04-20T17:33:17.334Z"
   },
   {
    "duration": 10,
    "start_time": "2022-04-20T17:33:17.644Z"
   },
   {
    "duration": 18,
    "start_time": "2022-04-20T17:33:17.656Z"
   },
   {
    "duration": 41,
    "start_time": "2022-04-20T17:33:17.675Z"
   },
   {
    "duration": 6,
    "start_time": "2022-04-20T17:33:17.718Z"
   },
   {
    "duration": 11,
    "start_time": "2022-04-20T17:33:17.726Z"
   },
   {
    "duration": 5,
    "start_time": "2022-04-20T17:33:17.739Z"
   },
   {
    "duration": 29,
    "start_time": "2022-04-20T17:33:17.745Z"
   },
   {
    "duration": 54,
    "start_time": "2022-04-20T17:33:17.776Z"
   },
   {
    "duration": 41,
    "start_time": "2022-04-20T17:33:17.832Z"
   },
   {
    "duration": 95,
    "start_time": "2022-04-20T17:33:17.874Z"
   },
   {
    "duration": 97,
    "start_time": "2022-04-20T17:33:17.971Z"
   },
   {
    "duration": 82,
    "start_time": "2022-04-20T17:33:18.070Z"
   },
   {
    "duration": 60,
    "start_time": "2022-04-20T17:33:18.154Z"
   },
   {
    "duration": 4,
    "start_time": "2022-04-20T17:33:18.215Z"
   },
   {
    "duration": 28,
    "start_time": "2022-04-20T17:33:18.221Z"
   },
   {
    "duration": 65,
    "start_time": "2022-04-20T17:33:18.251Z"
   },
   {
    "duration": 49,
    "start_time": "2022-04-20T17:33:18.318Z"
   },
   {
    "duration": 79,
    "start_time": "2022-04-20T17:33:18.369Z"
   },
   {
    "duration": 5,
    "start_time": "2022-04-20T17:33:18.449Z"
   },
   {
    "duration": 26,
    "start_time": "2022-04-20T17:33:18.456Z"
   },
   {
    "duration": 31,
    "start_time": "2022-04-20T17:33:18.484Z"
   },
   {
    "duration": 20,
    "start_time": "2022-04-20T17:33:18.517Z"
   },
   {
    "duration": 18,
    "start_time": "2022-04-20T17:33:18.538Z"
   },
   {
    "duration": 19,
    "start_time": "2022-04-20T17:33:18.558Z"
   },
   {
    "duration": 51,
    "start_time": "2022-04-20T17:33:18.579Z"
   },
   {
    "duration": 87,
    "start_time": "2022-04-20T17:33:18.633Z"
   },
   {
    "duration": 16,
    "start_time": "2022-04-20T17:33:18.722Z"
   },
   {
    "duration": 13,
    "start_time": "2022-04-20T17:33:18.740Z"
   },
   {
    "duration": 4,
    "start_time": "2022-04-20T17:33:18.755Z"
   },
   {
    "duration": 21,
    "start_time": "2022-04-20T17:33:18.761Z"
   },
   {
    "duration": 43,
    "start_time": "2022-04-20T17:33:18.784Z"
   },
   {
    "duration": 17,
    "start_time": "2022-04-20T17:33:18.829Z"
   },
   {
    "duration": 13,
    "start_time": "2022-04-20T17:33:18.848Z"
   },
   {
    "duration": 11,
    "start_time": "2022-04-20T17:33:18.863Z"
   },
   {
    "duration": 34,
    "start_time": "2022-04-20T17:33:18.876Z"
   },
   {
    "duration": 12,
    "start_time": "2022-04-20T17:33:18.912Z"
   },
   {
    "duration": 4,
    "start_time": "2022-04-20T17:33:18.926Z"
   },
   {
    "duration": 11,
    "start_time": "2022-04-20T17:33:32.087Z"
   },
   {
    "duration": 41,
    "start_time": "2022-04-20T17:34:31.608Z"
   },
   {
    "duration": 28,
    "start_time": "2022-04-20T17:34:53.645Z"
   },
   {
    "duration": 3,
    "start_time": "2022-04-20T17:35:05.017Z"
   },
   {
    "duration": 166,
    "start_time": "2022-04-20T17:35:05.023Z"
   },
   {
    "duration": 29,
    "start_time": "2022-04-20T17:35:05.191Z"
   },
   {
    "duration": 10,
    "start_time": "2022-04-20T17:35:05.221Z"
   },
   {
    "duration": 29,
    "start_time": "2022-04-20T17:35:05.233Z"
   },
   {
    "duration": 3,
    "start_time": "2022-04-20T17:35:05.264Z"
   },
   {
    "duration": 46,
    "start_time": "2022-04-20T17:35:05.269Z"
   },
   {
    "duration": 4,
    "start_time": "2022-04-20T17:35:05.317Z"
   },
   {
    "duration": 27,
    "start_time": "2022-04-20T17:35:05.323Z"
   },
   {
    "duration": 18,
    "start_time": "2022-04-20T17:35:05.352Z"
   },
   {
    "duration": 47,
    "start_time": "2022-04-20T17:35:05.372Z"
   },
   {
    "duration": 65,
    "start_time": "2022-04-20T17:35:05.421Z"
   },
   {
    "duration": 97,
    "start_time": "2022-04-20T17:35:05.488Z"
   },
   {
    "duration": 69,
    "start_time": "2022-04-20T17:35:05.587Z"
   },
   {
    "duration": 39,
    "start_time": "2022-04-20T17:35:05.658Z"
   },
   {
    "duration": 4,
    "start_time": "2022-04-20T17:35:05.711Z"
   },
   {
    "duration": 30,
    "start_time": "2022-04-20T17:35:05.717Z"
   },
   {
    "duration": 40,
    "start_time": "2022-04-20T17:35:05.749Z"
   },
   {
    "duration": 65,
    "start_time": "2022-04-20T17:35:05.791Z"
   },
   {
    "duration": 64,
    "start_time": "2022-04-20T17:35:05.858Z"
   },
   {
    "duration": 4,
    "start_time": "2022-04-20T17:35:05.924Z"
   },
   {
    "duration": 21,
    "start_time": "2022-04-20T17:35:05.930Z"
   },
   {
    "duration": 15,
    "start_time": "2022-04-20T17:35:05.952Z"
   },
   {
    "duration": 40,
    "start_time": "2022-04-20T17:35:05.969Z"
   },
   {
    "duration": 22,
    "start_time": "2022-04-20T17:35:06.011Z"
   },
   {
    "duration": 18,
    "start_time": "2022-04-20T17:35:06.035Z"
   },
   {
    "duration": 15,
    "start_time": "2022-04-20T17:35:06.054Z"
   },
   {
    "duration": 104,
    "start_time": "2022-04-20T17:35:06.071Z"
   },
   {
    "duration": 12,
    "start_time": "2022-04-20T17:35:06.179Z"
   },
   {
    "duration": 30,
    "start_time": "2022-04-20T17:35:06.193Z"
   },
   {
    "duration": 5,
    "start_time": "2022-04-20T17:35:06.225Z"
   },
   {
    "duration": 37,
    "start_time": "2022-04-20T17:35:06.232Z"
   },
   {
    "duration": 13,
    "start_time": "2022-04-20T17:35:06.271Z"
   },
   {
    "duration": 19,
    "start_time": "2022-04-20T17:35:06.285Z"
   },
   {
    "duration": 19,
    "start_time": "2022-04-20T17:35:06.313Z"
   },
   {
    "duration": 14,
    "start_time": "2022-04-20T17:35:06.334Z"
   },
   {
    "duration": 4,
    "start_time": "2022-04-20T17:35:06.350Z"
   },
   {
    "duration": 11,
    "start_time": "2022-04-20T17:35:06.356Z"
   },
   {
    "duration": 4,
    "start_time": "2022-04-20T17:35:06.369Z"
   },
   {
    "duration": 4,
    "start_time": "2022-04-20T17:36:47.803Z"
   },
   {
    "duration": 4,
    "start_time": "2022-04-20T17:37:25.985Z"
   },
   {
    "duration": 3,
    "start_time": "2022-04-20T18:03:05.240Z"
   },
   {
    "duration": 176,
    "start_time": "2022-04-20T18:03:05.247Z"
   },
   {
    "duration": 11,
    "start_time": "2022-04-20T18:03:05.425Z"
   },
   {
    "duration": 16,
    "start_time": "2022-04-20T18:03:05.437Z"
   },
   {
    "duration": 30,
    "start_time": "2022-04-20T18:03:05.455Z"
   },
   {
    "duration": 4,
    "start_time": "2022-04-20T18:03:05.486Z"
   },
   {
    "duration": 11,
    "start_time": "2022-04-20T18:03:05.510Z"
   },
   {
    "duration": 5,
    "start_time": "2022-04-20T18:03:05.524Z"
   },
   {
    "duration": 28,
    "start_time": "2022-04-20T18:03:05.530Z"
   },
   {
    "duration": 20,
    "start_time": "2022-04-20T18:03:05.560Z"
   },
   {
    "duration": 57,
    "start_time": "2022-04-20T18:03:05.584Z"
   },
   {
    "duration": 79,
    "start_time": "2022-04-20T18:03:05.643Z"
   },
   {
    "duration": 70,
    "start_time": "2022-04-20T18:03:05.723Z"
   },
   {
    "duration": 76,
    "start_time": "2022-04-20T18:03:05.795Z"
   },
   {
    "duration": 64,
    "start_time": "2022-04-20T18:03:05.873Z"
   },
   {
    "duration": 3,
    "start_time": "2022-04-20T18:03:05.939Z"
   },
   {
    "duration": 33,
    "start_time": "2022-04-20T18:03:05.943Z"
   },
   {
    "duration": 0,
    "start_time": "2022-04-20T18:03:05.978Z"
   },
   {
    "duration": 0,
    "start_time": "2022-04-20T18:03:05.979Z"
   },
   {
    "duration": 0,
    "start_time": "2022-04-20T18:03:05.981Z"
   },
   {
    "duration": 1,
    "start_time": "2022-04-20T18:03:05.981Z"
   },
   {
    "duration": 0,
    "start_time": "2022-04-20T18:03:05.983Z"
   },
   {
    "duration": 0,
    "start_time": "2022-04-20T18:03:05.984Z"
   },
   {
    "duration": 0,
    "start_time": "2022-04-20T18:03:05.985Z"
   },
   {
    "duration": 0,
    "start_time": "2022-04-20T18:03:05.986Z"
   },
   {
    "duration": 0,
    "start_time": "2022-04-20T18:03:06.013Z"
   },
   {
    "duration": 0,
    "start_time": "2022-04-20T18:03:06.014Z"
   },
   {
    "duration": 0,
    "start_time": "2022-04-20T18:03:06.015Z"
   },
   {
    "duration": 0,
    "start_time": "2022-04-20T18:03:06.017Z"
   },
   {
    "duration": 0,
    "start_time": "2022-04-20T18:03:06.018Z"
   },
   {
    "duration": 0,
    "start_time": "2022-04-20T18:03:06.020Z"
   },
   {
    "duration": 0,
    "start_time": "2022-04-20T18:03:06.021Z"
   },
   {
    "duration": 0,
    "start_time": "2022-04-20T18:03:06.022Z"
   },
   {
    "duration": 0,
    "start_time": "2022-04-20T18:03:06.023Z"
   },
   {
    "duration": 0,
    "start_time": "2022-04-20T18:03:06.025Z"
   },
   {
    "duration": 0,
    "start_time": "2022-04-20T18:03:06.026Z"
   },
   {
    "duration": 0,
    "start_time": "2022-04-20T18:03:06.027Z"
   },
   {
    "duration": 0,
    "start_time": "2022-04-20T18:03:06.028Z"
   },
   {
    "duration": 0,
    "start_time": "2022-04-20T18:03:06.029Z"
   },
   {
    "duration": 3,
    "start_time": "2022-04-20T18:15:26.007Z"
   },
   {
    "duration": 10,
    "start_time": "2022-04-20T18:15:28.998Z"
   },
   {
    "duration": 44,
    "start_time": "2022-04-20T18:15:36.162Z"
   },
   {
    "duration": 12,
    "start_time": "2022-04-20T18:18:43.747Z"
   },
   {
    "duration": 36,
    "start_time": "2022-04-20T18:18:50.439Z"
   },
   {
    "duration": 14,
    "start_time": "2022-04-20T18:19:36.540Z"
   },
   {
    "duration": 39,
    "start_time": "2022-04-20T18:20:04.467Z"
   },
   {
    "duration": 49,
    "start_time": "2022-04-20T18:21:39.084Z"
   },
   {
    "duration": 42,
    "start_time": "2022-04-20T18:22:56.964Z"
   },
   {
    "duration": 45,
    "start_time": "2022-04-20T18:23:07.163Z"
   },
   {
    "duration": 47,
    "start_time": "2022-04-20T18:26:48.955Z"
   },
   {
    "duration": 1405,
    "start_time": "2022-04-20T19:00:27.142Z"
   },
   {
    "duration": 1605,
    "start_time": "2022-04-20T19:00:43.674Z"
   },
   {
    "duration": 2,
    "start_time": "2022-04-20T19:00:49.989Z"
   },
   {
    "duration": 160,
    "start_time": "2022-04-20T19:00:49.996Z"
   },
   {
    "duration": 11,
    "start_time": "2022-04-20T19:00:50.158Z"
   },
   {
    "duration": 11,
    "start_time": "2022-04-20T19:00:50.171Z"
   },
   {
    "duration": 32,
    "start_time": "2022-04-20T19:00:50.209Z"
   },
   {
    "duration": 4,
    "start_time": "2022-04-20T19:00:50.243Z"
   },
   {
    "duration": 14,
    "start_time": "2022-04-20T19:00:50.248Z"
   },
   {
    "duration": 6,
    "start_time": "2022-04-20T19:00:50.264Z"
   },
   {
    "duration": 55,
    "start_time": "2022-04-20T19:00:50.271Z"
   },
   {
    "duration": 19,
    "start_time": "2022-04-20T19:00:50.328Z"
   },
   {
    "duration": 25,
    "start_time": "2022-04-20T19:00:50.352Z"
   },
   {
    "duration": 95,
    "start_time": "2022-04-20T19:00:50.379Z"
   },
   {
    "duration": 71,
    "start_time": "2022-04-20T19:00:50.475Z"
   },
   {
    "duration": 56,
    "start_time": "2022-04-20T19:00:50.547Z"
   },
   {
    "duration": 50,
    "start_time": "2022-04-20T19:00:50.604Z"
   },
   {
    "duration": 3,
    "start_time": "2022-04-20T19:00:50.656Z"
   },
   {
    "duration": 14,
    "start_time": "2022-04-20T19:00:50.661Z"
   },
   {
    "duration": 69,
    "start_time": "2022-04-20T19:00:50.677Z"
   },
   {
    "duration": 1478,
    "start_time": "2022-04-20T19:00:50.748Z"
   },
   {
    "duration": 0,
    "start_time": "2022-04-20T19:00:52.228Z"
   },
   {
    "duration": 0,
    "start_time": "2022-04-20T19:00:52.229Z"
   },
   {
    "duration": 0,
    "start_time": "2022-04-20T19:00:52.230Z"
   },
   {
    "duration": 0,
    "start_time": "2022-04-20T19:00:52.231Z"
   },
   {
    "duration": 0,
    "start_time": "2022-04-20T19:00:52.232Z"
   },
   {
    "duration": 0,
    "start_time": "2022-04-20T19:00:52.233Z"
   },
   {
    "duration": 0,
    "start_time": "2022-04-20T19:00:52.234Z"
   },
   {
    "duration": 0,
    "start_time": "2022-04-20T19:00:52.235Z"
   },
   {
    "duration": 0,
    "start_time": "2022-04-20T19:00:52.236Z"
   },
   {
    "duration": 0,
    "start_time": "2022-04-20T19:00:52.237Z"
   },
   {
    "duration": 0,
    "start_time": "2022-04-20T19:00:52.238Z"
   },
   {
    "duration": 0,
    "start_time": "2022-04-20T19:00:52.239Z"
   },
   {
    "duration": 0,
    "start_time": "2022-04-20T19:00:52.240Z"
   },
   {
    "duration": 0,
    "start_time": "2022-04-20T19:00:52.240Z"
   },
   {
    "duration": 0,
    "start_time": "2022-04-20T19:00:52.242Z"
   },
   {
    "duration": 0,
    "start_time": "2022-04-20T19:00:52.242Z"
   },
   {
    "duration": 0,
    "start_time": "2022-04-20T19:00:52.243Z"
   },
   {
    "duration": 0,
    "start_time": "2022-04-20T19:00:52.244Z"
   },
   {
    "duration": 0,
    "start_time": "2022-04-20T19:00:52.245Z"
   },
   {
    "duration": 0,
    "start_time": "2022-04-20T19:00:52.246Z"
   },
   {
    "duration": 42,
    "start_time": "2022-04-20T19:06:19.743Z"
   },
   {
    "duration": 28,
    "start_time": "2022-04-20T19:07:31.839Z"
   },
   {
    "duration": 25,
    "start_time": "2022-04-20T19:07:41.428Z"
   },
   {
    "duration": 40,
    "start_time": "2022-04-20T19:09:52.603Z"
   },
   {
    "duration": 14,
    "start_time": "2022-04-20T19:10:15.256Z"
   },
   {
    "duration": 13,
    "start_time": "2022-04-20T19:11:02.088Z"
   },
   {
    "duration": 16,
    "start_time": "2022-04-20T19:11:22.688Z"
   },
   {
    "duration": 13,
    "start_time": "2022-04-20T19:11:34.781Z"
   },
   {
    "duration": 16,
    "start_time": "2022-04-20T19:16:05.973Z"
   },
   {
    "duration": 69,
    "start_time": "2022-04-20T19:16:32.696Z"
   },
   {
    "duration": 20,
    "start_time": "2022-04-20T19:18:11.225Z"
   },
   {
    "duration": 17,
    "start_time": "2022-04-20T19:18:23.762Z"
   },
   {
    "duration": 3,
    "start_time": "2022-04-20T19:21:04.166Z"
   },
   {
    "duration": 20,
    "start_time": "2022-04-20T19:21:15.788Z"
   },
   {
    "duration": 11,
    "start_time": "2022-04-20T19:24:56.656Z"
   },
   {
    "duration": 16,
    "start_time": "2022-04-20T19:25:00.582Z"
   },
   {
    "duration": 12,
    "start_time": "2022-04-20T19:25:03.374Z"
   },
   {
    "duration": 5,
    "start_time": "2022-04-20T19:25:18.890Z"
   },
   {
    "duration": 4,
    "start_time": "2022-04-20T19:25:46.159Z"
   },
   {
    "duration": 2,
    "start_time": "2022-04-20T19:33:09.011Z"
   },
   {
    "duration": 161,
    "start_time": "2022-04-20T19:33:09.017Z"
   },
   {
    "duration": 28,
    "start_time": "2022-04-20T19:33:09.180Z"
   },
   {
    "duration": 12,
    "start_time": "2022-04-20T19:33:09.210Z"
   },
   {
    "duration": 29,
    "start_time": "2022-04-20T19:33:09.224Z"
   },
   {
    "duration": 4,
    "start_time": "2022-04-20T19:33:09.254Z"
   },
   {
    "duration": 14,
    "start_time": "2022-04-20T19:33:09.259Z"
   },
   {
    "duration": 34,
    "start_time": "2022-04-20T19:33:09.274Z"
   },
   {
    "duration": 26,
    "start_time": "2022-04-20T19:33:09.309Z"
   },
   {
    "duration": 19,
    "start_time": "2022-04-20T19:33:09.337Z"
   },
   {
    "duration": 50,
    "start_time": "2022-04-20T19:33:09.359Z"
   },
   {
    "duration": 61,
    "start_time": "2022-04-20T19:33:09.410Z"
   },
   {
    "duration": 89,
    "start_time": "2022-04-20T19:33:09.473Z"
   },
   {
    "duration": 63,
    "start_time": "2022-04-20T19:33:09.563Z"
   },
   {
    "duration": 42,
    "start_time": "2022-04-20T19:33:09.627Z"
   },
   {
    "duration": 3,
    "start_time": "2022-04-20T19:33:09.671Z"
   },
   {
    "duration": 37,
    "start_time": "2022-04-20T19:33:09.675Z"
   },
   {
    "duration": 39,
    "start_time": "2022-04-20T19:33:09.713Z"
   },
   {
    "duration": 13,
    "start_time": "2022-04-20T19:33:09.754Z"
   },
   {
    "duration": 12,
    "start_time": "2022-04-20T19:33:09.769Z"
   },
   {
    "duration": 26,
    "start_time": "2022-04-20T19:33:09.782Z"
   },
   {
    "duration": 19,
    "start_time": "2022-04-20T19:33:09.810Z"
   },
   {
    "duration": 15,
    "start_time": "2022-04-20T19:33:09.831Z"
   },
   {
    "duration": 15,
    "start_time": "2022-04-20T19:33:09.847Z"
   },
   {
    "duration": 15,
    "start_time": "2022-04-20T19:33:09.863Z"
   },
   {
    "duration": 16,
    "start_time": "2022-04-20T19:33:09.908Z"
   },
   {
    "duration": 15,
    "start_time": "2022-04-20T19:33:09.925Z"
   },
   {
    "duration": 92,
    "start_time": "2022-04-20T19:33:09.941Z"
   },
   {
    "duration": 18,
    "start_time": "2022-04-20T19:33:10.036Z"
   },
   {
    "duration": 17,
    "start_time": "2022-04-20T19:33:10.055Z"
   },
   {
    "duration": 4,
    "start_time": "2022-04-20T19:33:10.074Z"
   },
   {
    "duration": 42,
    "start_time": "2022-04-20T19:33:10.080Z"
   },
   {
    "duration": 12,
    "start_time": "2022-04-20T19:33:10.124Z"
   },
   {
    "duration": 17,
    "start_time": "2022-04-20T19:33:10.138Z"
   },
   {
    "duration": 12,
    "start_time": "2022-04-20T19:33:10.156Z"
   },
   {
    "duration": 38,
    "start_time": "2022-04-20T19:33:10.170Z"
   },
   {
    "duration": 5,
    "start_time": "2022-04-20T19:33:10.210Z"
   },
   {
    "duration": 8,
    "start_time": "2022-04-20T19:33:10.217Z"
   },
   {
    "duration": 4,
    "start_time": "2022-04-20T19:33:10.227Z"
   },
   {
    "duration": 15,
    "start_time": "2022-04-20T20:01:20.658Z"
   },
   {
    "duration": 13,
    "start_time": "2022-04-20T20:01:51.630Z"
   },
   {
    "duration": 27,
    "start_time": "2022-04-20T20:03:57.483Z"
   },
   {
    "duration": 27,
    "start_time": "2022-04-20T20:04:04.931Z"
   },
   {
    "duration": 26,
    "start_time": "2022-04-20T20:04:31.287Z"
   },
   {
    "duration": 28,
    "start_time": "2022-04-20T20:04:46.752Z"
   },
   {
    "duration": 15,
    "start_time": "2022-04-20T20:04:59.106Z"
   },
   {
    "duration": 42,
    "start_time": "2022-04-20T20:05:19.411Z"
   },
   {
    "duration": 140,
    "start_time": "2022-04-20T20:05:57.661Z"
   },
   {
    "duration": 93,
    "start_time": "2022-04-20T20:06:25.138Z"
   },
   {
    "duration": 108,
    "start_time": "2022-04-20T20:06:56.228Z"
   },
   {
    "duration": 2,
    "start_time": "2022-04-20T20:07:01.703Z"
   },
   {
    "duration": 148,
    "start_time": "2022-04-20T20:07:01.708Z"
   },
   {
    "duration": 10,
    "start_time": "2022-04-20T20:07:01.858Z"
   },
   {
    "duration": 22,
    "start_time": "2022-04-20T20:07:01.869Z"
   },
   {
    "duration": 45,
    "start_time": "2022-04-20T20:07:01.907Z"
   },
   {
    "duration": 12,
    "start_time": "2022-04-20T20:07:01.953Z"
   },
   {
    "duration": 16,
    "start_time": "2022-04-20T20:07:01.966Z"
   },
   {
    "duration": 9,
    "start_time": "2022-04-20T20:07:01.984Z"
   },
   {
    "duration": 46,
    "start_time": "2022-04-20T20:07:01.995Z"
   },
   {
    "duration": 29,
    "start_time": "2022-04-20T20:07:02.042Z"
   },
   {
    "duration": 35,
    "start_time": "2022-04-20T20:07:02.073Z"
   },
   {
    "duration": 57,
    "start_time": "2022-04-20T20:07:02.110Z"
   },
   {
    "duration": 80,
    "start_time": "2022-04-20T20:07:02.169Z"
   },
   {
    "duration": 61,
    "start_time": "2022-04-20T20:07:02.250Z"
   },
   {
    "duration": 39,
    "start_time": "2022-04-20T20:07:02.312Z"
   },
   {
    "duration": 3,
    "start_time": "2022-04-20T20:07:02.352Z"
   },
   {
    "duration": 16,
    "start_time": "2022-04-20T20:07:02.357Z"
   },
   {
    "duration": 59,
    "start_time": "2022-04-20T20:07:02.374Z"
   },
   {
    "duration": 12,
    "start_time": "2022-04-20T20:07:02.435Z"
   },
   {
    "duration": 13,
    "start_time": "2022-04-20T20:07:02.448Z"
   },
   {
    "duration": 4,
    "start_time": "2022-04-20T20:07:02.462Z"
   },
   {
    "duration": 43,
    "start_time": "2022-04-20T20:07:02.467Z"
   },
   {
    "duration": 14,
    "start_time": "2022-04-20T20:07:02.512Z"
   },
   {
    "duration": 15,
    "start_time": "2022-04-20T20:07:02.528Z"
   },
   {
    "duration": 25,
    "start_time": "2022-04-20T20:07:02.544Z"
   },
   {
    "duration": 16,
    "start_time": "2022-04-20T20:07:02.570Z"
   },
   {
    "duration": 18,
    "start_time": "2022-04-20T20:07:02.608Z"
   },
   {
    "duration": 99,
    "start_time": "2022-04-20T20:07:02.627Z"
   },
   {
    "duration": 0,
    "start_time": "2022-04-20T20:07:02.729Z"
   },
   {
    "duration": 0,
    "start_time": "2022-04-20T20:07:02.731Z"
   },
   {
    "duration": 0,
    "start_time": "2022-04-20T20:07:02.732Z"
   },
   {
    "duration": 0,
    "start_time": "2022-04-20T20:07:02.733Z"
   },
   {
    "duration": 0,
    "start_time": "2022-04-20T20:07:02.734Z"
   },
   {
    "duration": 0,
    "start_time": "2022-04-20T20:07:02.734Z"
   },
   {
    "duration": 0,
    "start_time": "2022-04-20T20:07:02.735Z"
   },
   {
    "duration": 0,
    "start_time": "2022-04-20T20:07:02.736Z"
   },
   {
    "duration": 0,
    "start_time": "2022-04-20T20:07:02.737Z"
   },
   {
    "duration": 0,
    "start_time": "2022-04-20T20:07:02.738Z"
   },
   {
    "duration": 0,
    "start_time": "2022-04-20T20:07:02.742Z"
   },
   {
    "duration": 0,
    "start_time": "2022-04-20T20:07:02.743Z"
   },
   {
    "duration": 94,
    "start_time": "2022-04-20T20:07:19.194Z"
   },
   {
    "duration": 110,
    "start_time": "2022-04-20T20:07:30.782Z"
   },
   {
    "duration": 40,
    "start_time": "2022-04-20T20:07:34.334Z"
   },
   {
    "duration": 8,
    "start_time": "2022-04-20T20:07:53.033Z"
   },
   {
    "duration": 87,
    "start_time": "2022-04-20T20:08:10.890Z"
   },
   {
    "duration": 90,
    "start_time": "2022-04-20T20:08:31.319Z"
   },
   {
    "duration": 7,
    "start_time": "2022-04-20T20:08:46.903Z"
   },
   {
    "duration": 89,
    "start_time": "2022-04-20T20:09:01.706Z"
   },
   {
    "duration": 68,
    "start_time": "2022-04-20T20:09:33.383Z"
   },
   {
    "duration": 14,
    "start_time": "2022-04-20T20:09:51.111Z"
   },
   {
    "duration": 63,
    "start_time": "2022-04-20T20:10:56.210Z"
   },
   {
    "duration": 66,
    "start_time": "2022-04-20T20:10:59.429Z"
   },
   {
    "duration": 71,
    "start_time": "2022-04-20T20:11:05.027Z"
   },
   {
    "duration": 9,
    "start_time": "2022-04-20T20:14:59.379Z"
   },
   {
    "duration": 9,
    "start_time": "2022-04-20T20:15:07.924Z"
   },
   {
    "duration": 4,
    "start_time": "2022-04-20T20:15:19.052Z"
   },
   {
    "duration": 8,
    "start_time": "2022-04-20T20:16:02.992Z"
   },
   {
    "duration": 8,
    "start_time": "2022-04-20T20:16:19.628Z"
   },
   {
    "duration": 3,
    "start_time": "2022-04-20T20:16:23.640Z"
   },
   {
    "duration": 168,
    "start_time": "2022-04-20T20:16:23.646Z"
   },
   {
    "duration": 12,
    "start_time": "2022-04-20T20:16:23.816Z"
   },
   {
    "duration": 9,
    "start_time": "2022-04-20T20:16:23.830Z"
   },
   {
    "duration": 29,
    "start_time": "2022-04-20T20:16:23.841Z"
   },
   {
    "duration": 36,
    "start_time": "2022-04-20T20:16:23.872Z"
   },
   {
    "duration": 8,
    "start_time": "2022-04-20T20:16:23.910Z"
   },
   {
    "duration": 4,
    "start_time": "2022-04-20T20:16:23.919Z"
   },
   {
    "duration": 25,
    "start_time": "2022-04-20T20:16:23.924Z"
   },
   {
    "duration": 19,
    "start_time": "2022-04-20T20:16:23.951Z"
   },
   {
    "duration": 55,
    "start_time": "2022-04-20T20:16:23.972Z"
   },
   {
    "duration": 66,
    "start_time": "2022-04-20T20:16:24.028Z"
   },
   {
    "duration": 81,
    "start_time": "2022-04-20T20:16:24.095Z"
   },
   {
    "duration": 68,
    "start_time": "2022-04-20T20:16:24.178Z"
   },
   {
    "duration": 43,
    "start_time": "2022-04-20T20:16:24.247Z"
   },
   {
    "duration": 16,
    "start_time": "2022-04-20T20:16:24.291Z"
   },
   {
    "duration": 14,
    "start_time": "2022-04-20T20:16:24.309Z"
   },
   {
    "duration": 41,
    "start_time": "2022-04-20T20:16:24.325Z"
   },
   {
    "duration": 14,
    "start_time": "2022-04-20T20:16:24.367Z"
   },
   {
    "duration": 13,
    "start_time": "2022-04-20T20:16:24.408Z"
   },
   {
    "duration": 10,
    "start_time": "2022-04-20T20:16:24.423Z"
   },
   {
    "duration": 21,
    "start_time": "2022-04-20T20:16:24.435Z"
   },
   {
    "duration": 15,
    "start_time": "2022-04-20T20:16:24.458Z"
   },
   {
    "duration": 42,
    "start_time": "2022-04-20T20:16:24.474Z"
   },
   {
    "duration": 14,
    "start_time": "2022-04-20T20:16:24.517Z"
   },
   {
    "duration": 16,
    "start_time": "2022-04-20T20:16:24.532Z"
   },
   {
    "duration": 14,
    "start_time": "2022-04-20T20:16:24.549Z"
   },
   {
    "duration": 99,
    "start_time": "2022-04-20T20:16:24.565Z"
   },
   {
    "duration": 81,
    "start_time": "2022-04-20T20:16:24.667Z"
   },
   {
    "duration": 20,
    "start_time": "2022-04-20T20:16:24.749Z"
   },
   {
    "duration": 17,
    "start_time": "2022-04-20T20:16:24.770Z"
   },
   {
    "duration": 25,
    "start_time": "2022-04-20T20:16:24.788Z"
   },
   {
    "duration": 0,
    "start_time": "2022-04-20T20:16:24.814Z"
   },
   {
    "duration": 0,
    "start_time": "2022-04-20T20:16:24.816Z"
   },
   {
    "duration": 0,
    "start_time": "2022-04-20T20:16:24.816Z"
   },
   {
    "duration": 0,
    "start_time": "2022-04-20T20:16:24.817Z"
   },
   {
    "duration": 0,
    "start_time": "2022-04-20T20:16:24.819Z"
   },
   {
    "duration": 0,
    "start_time": "2022-04-20T20:16:24.820Z"
   },
   {
    "duration": 0,
    "start_time": "2022-04-20T20:16:24.821Z"
   },
   {
    "duration": 0,
    "start_time": "2022-04-20T20:16:24.822Z"
   },
   {
    "duration": 8,
    "start_time": "2022-04-20T20:19:04.300Z"
   },
   {
    "duration": 8,
    "start_time": "2022-04-20T20:19:10.164Z"
   },
   {
    "duration": 5,
    "start_time": "2022-04-20T20:20:01.504Z"
   },
   {
    "duration": 4,
    "start_time": "2022-04-20T20:20:02.892Z"
   },
   {
    "duration": 4,
    "start_time": "2022-04-20T20:20:05.565Z"
   },
   {
    "duration": 3,
    "start_time": "2022-04-20T20:20:23.485Z"
   },
   {
    "duration": 145,
    "start_time": "2022-04-20T20:20:23.491Z"
   },
   {
    "duration": 10,
    "start_time": "2022-04-20T20:20:23.638Z"
   },
   {
    "duration": 10,
    "start_time": "2022-04-20T20:20:23.649Z"
   },
   {
    "duration": 54,
    "start_time": "2022-04-20T20:20:23.661Z"
   },
   {
    "duration": 3,
    "start_time": "2022-04-20T20:20:23.717Z"
   },
   {
    "duration": 8,
    "start_time": "2022-04-20T20:20:23.722Z"
   },
   {
    "duration": 3,
    "start_time": "2022-04-20T20:20:23.731Z"
   },
   {
    "duration": 23,
    "start_time": "2022-04-20T20:20:23.736Z"
   },
   {
    "duration": 15,
    "start_time": "2022-04-20T20:20:23.761Z"
   },
   {
    "duration": 51,
    "start_time": "2022-04-20T20:20:23.779Z"
   },
   {
    "duration": 100,
    "start_time": "2022-04-20T20:20:23.831Z"
   },
   {
    "duration": 63,
    "start_time": "2022-04-20T20:20:23.933Z"
   },
   {
    "duration": 52,
    "start_time": "2022-04-20T20:20:24.007Z"
   },
   {
    "duration": 55,
    "start_time": "2022-04-20T20:20:24.061Z"
   },
   {
    "duration": 4,
    "start_time": "2022-04-20T20:20:24.118Z"
   },
   {
    "duration": 17,
    "start_time": "2022-04-20T20:20:24.124Z"
   },
   {
    "duration": 40,
    "start_time": "2022-04-20T20:20:24.143Z"
   },
   {
    "duration": 14,
    "start_time": "2022-04-20T20:20:24.206Z"
   },
   {
    "duration": 12,
    "start_time": "2022-04-20T20:20:24.221Z"
   },
   {
    "duration": 4,
    "start_time": "2022-04-20T20:20:24.234Z"
   },
   {
    "duration": 20,
    "start_time": "2022-04-20T20:20:24.239Z"
   },
   {
    "duration": 15,
    "start_time": "2022-04-20T20:20:24.260Z"
   },
   {
    "duration": 15,
    "start_time": "2022-04-20T20:20:24.306Z"
   },
   {
    "duration": 14,
    "start_time": "2022-04-20T20:20:24.323Z"
   },
   {
    "duration": 15,
    "start_time": "2022-04-20T20:20:24.339Z"
   },
   {
    "duration": 17,
    "start_time": "2022-04-20T20:20:24.355Z"
   },
   {
    "duration": 90,
    "start_time": "2022-04-20T20:20:24.373Z"
   },
   {
    "duration": 80,
    "start_time": "2022-04-20T20:20:24.467Z"
   },
   {
    "duration": 18,
    "start_time": "2022-04-20T20:20:24.548Z"
   },
   {
    "duration": 16,
    "start_time": "2022-04-20T20:20:24.568Z"
   },
   {
    "duration": 4,
    "start_time": "2022-04-20T20:20:24.585Z"
   },
   {
    "duration": 16,
    "start_time": "2022-04-20T20:20:24.607Z"
   },
   {
    "duration": 10,
    "start_time": "2022-04-20T20:20:24.625Z"
   },
   {
    "duration": 13,
    "start_time": "2022-04-20T20:20:24.636Z"
   },
   {
    "duration": 11,
    "start_time": "2022-04-20T20:20:24.651Z"
   },
   {
    "duration": 9,
    "start_time": "2022-04-20T20:20:24.663Z"
   },
   {
    "duration": 4,
    "start_time": "2022-04-20T20:20:24.708Z"
   },
   {
    "duration": 8,
    "start_time": "2022-04-20T20:20:24.714Z"
   },
   {
    "duration": 4,
    "start_time": "2022-04-20T20:20:24.724Z"
   },
   {
    "duration": 4,
    "start_time": "2022-04-20T20:20:58.968Z"
   },
   {
    "duration": 4,
    "start_time": "2022-04-20T20:21:11.252Z"
   },
   {
    "duration": 9,
    "start_time": "2022-04-20T20:22:57.545Z"
   },
   {
    "duration": 8,
    "start_time": "2022-04-20T20:23:10.830Z"
   },
   {
    "duration": 8,
    "start_time": "2022-04-20T20:24:51.274Z"
   },
   {
    "duration": 9,
    "start_time": "2022-04-20T20:25:58.946Z"
   },
   {
    "duration": 8,
    "start_time": "2022-04-20T20:26:22.621Z"
   },
   {
    "duration": 4,
    "start_time": "2022-04-20T20:32:09.239Z"
   },
   {
    "duration": 17,
    "start_time": "2022-04-20T20:32:12.189Z"
   },
   {
    "duration": 4,
    "start_time": "2022-04-20T20:32:52.237Z"
   },
   {
    "duration": 17,
    "start_time": "2022-04-20T20:32:54.585Z"
   },
   {
    "duration": 4,
    "start_time": "2022-04-20T20:33:00.803Z"
   },
   {
    "duration": 18,
    "start_time": "2022-04-20T20:33:02.811Z"
   },
   {
    "duration": 2,
    "start_time": "2022-04-20T20:34:36.647Z"
   },
   {
    "duration": 156,
    "start_time": "2022-04-20T20:34:36.652Z"
   },
   {
    "duration": 11,
    "start_time": "2022-04-20T20:34:36.809Z"
   },
   {
    "duration": 11,
    "start_time": "2022-04-20T20:34:36.822Z"
   },
   {
    "duration": 29,
    "start_time": "2022-04-20T20:34:36.835Z"
   },
   {
    "duration": 3,
    "start_time": "2022-04-20T20:34:36.866Z"
   },
   {
    "duration": 37,
    "start_time": "2022-04-20T20:34:36.871Z"
   },
   {
    "duration": 3,
    "start_time": "2022-04-20T20:34:36.910Z"
   },
   {
    "duration": 26,
    "start_time": "2022-04-20T20:34:36.915Z"
   },
   {
    "duration": 19,
    "start_time": "2022-04-20T20:34:36.943Z"
   },
   {
    "duration": 50,
    "start_time": "2022-04-20T20:34:36.965Z"
   },
   {
    "duration": 58,
    "start_time": "2022-04-20T20:34:37.017Z"
   },
   {
    "duration": 89,
    "start_time": "2022-04-20T20:34:37.077Z"
   },
   {
    "duration": 70,
    "start_time": "2022-04-20T20:34:37.168Z"
   },
   {
    "duration": 41,
    "start_time": "2022-04-20T20:34:37.240Z"
   },
   {
    "duration": 3,
    "start_time": "2022-04-20T20:34:37.283Z"
   },
   {
    "duration": 30,
    "start_time": "2022-04-20T20:34:37.288Z"
   },
   {
    "duration": 39,
    "start_time": "2022-04-20T20:34:37.319Z"
   },
   {
    "duration": 13,
    "start_time": "2022-04-20T20:34:37.359Z"
   },
   {
    "duration": 38,
    "start_time": "2022-04-20T20:34:37.374Z"
   },
   {
    "duration": 4,
    "start_time": "2022-04-20T20:34:37.414Z"
   },
   {
    "duration": 18,
    "start_time": "2022-04-20T20:34:37.420Z"
   },
   {
    "duration": 14,
    "start_time": "2022-04-20T20:34:37.439Z"
   },
   {
    "duration": 15,
    "start_time": "2022-04-20T20:34:37.454Z"
   },
   {
    "duration": 38,
    "start_time": "2022-04-20T20:34:37.470Z"
   },
   {
    "duration": 15,
    "start_time": "2022-04-20T20:34:37.510Z"
   },
   {
    "duration": 12,
    "start_time": "2022-04-20T20:34:37.527Z"
   },
   {
    "duration": 85,
    "start_time": "2022-04-20T20:34:37.541Z"
   },
   {
    "duration": 63,
    "start_time": "2022-04-20T20:34:37.629Z"
   },
   {
    "duration": 18,
    "start_time": "2022-04-20T20:34:37.707Z"
   },
   {
    "duration": 33,
    "start_time": "2022-04-20T20:34:37.726Z"
   },
   {
    "duration": 16,
    "start_time": "2022-04-20T20:34:37.760Z"
   },
   {
    "duration": 21,
    "start_time": "2022-04-20T20:34:37.777Z"
   },
   {
    "duration": 10,
    "start_time": "2022-04-20T20:34:37.799Z"
   },
   {
    "duration": 16,
    "start_time": "2022-04-20T20:34:37.810Z"
   },
   {
    "duration": 10,
    "start_time": "2022-04-20T20:34:37.828Z"
   },
   {
    "duration": 10,
    "start_time": "2022-04-20T20:34:37.840Z"
   },
   {
    "duration": 4,
    "start_time": "2022-04-20T20:34:37.851Z"
   },
   {
    "duration": 8,
    "start_time": "2022-04-20T20:34:37.856Z"
   },
   {
    "duration": 4,
    "start_time": "2022-04-20T20:34:37.865Z"
   },
   {
    "duration": 8,
    "start_time": "2022-04-21T01:22:27.026Z"
   },
   {
    "duration": 427,
    "start_time": "2022-04-21T01:22:35.949Z"
   },
   {
    "duration": 158,
    "start_time": "2022-04-21T01:22:36.379Z"
   },
   {
    "duration": 17,
    "start_time": "2022-04-21T01:22:36.539Z"
   },
   {
    "duration": 21,
    "start_time": "2022-04-21T01:22:36.558Z"
   },
   {
    "duration": 34,
    "start_time": "2022-04-21T01:22:36.581Z"
   },
   {
    "duration": 4,
    "start_time": "2022-04-21T01:22:36.616Z"
   },
   {
    "duration": 17,
    "start_time": "2022-04-21T01:22:36.621Z"
   },
   {
    "duration": 8,
    "start_time": "2022-04-21T01:22:36.639Z"
   },
   {
    "duration": 44,
    "start_time": "2022-04-21T01:22:36.649Z"
   },
   {
    "duration": 23,
    "start_time": "2022-04-21T01:22:36.695Z"
   },
   {
    "duration": 26,
    "start_time": "2022-04-21T01:22:36.720Z"
   },
   {
    "duration": 94,
    "start_time": "2022-04-21T01:22:36.747Z"
   },
   {
    "duration": 89,
    "start_time": "2022-04-21T01:22:36.842Z"
   },
   {
    "duration": 71,
    "start_time": "2022-04-21T01:22:36.935Z"
   },
   {
    "duration": 40,
    "start_time": "2022-04-21T01:22:37.008Z"
   },
   {
    "duration": 3,
    "start_time": "2022-04-21T01:22:37.050Z"
   },
   {
    "duration": 30,
    "start_time": "2022-04-21T01:22:37.054Z"
   },
   {
    "duration": 39,
    "start_time": "2022-04-21T01:22:37.086Z"
   },
   {
    "duration": 13,
    "start_time": "2022-04-21T01:22:37.126Z"
   },
   {
    "duration": 38,
    "start_time": "2022-04-21T01:22:37.141Z"
   },
   {
    "duration": 4,
    "start_time": "2022-04-21T01:22:37.180Z"
   },
   {
    "duration": 21,
    "start_time": "2022-04-21T01:22:37.186Z"
   },
   {
    "duration": 14,
    "start_time": "2022-04-21T01:22:37.209Z"
   },
   {
    "duration": 21,
    "start_time": "2022-04-21T01:22:37.225Z"
   },
   {
    "duration": 31,
    "start_time": "2022-04-21T01:22:37.248Z"
   },
   {
    "duration": 17,
    "start_time": "2022-04-21T01:22:37.281Z"
   },
   {
    "duration": 14,
    "start_time": "2022-04-21T01:22:37.300Z"
   },
   {
    "duration": 94,
    "start_time": "2022-04-21T01:22:37.316Z"
   },
   {
    "duration": 81,
    "start_time": "2022-04-21T01:22:37.412Z"
   },
   {
    "duration": 18,
    "start_time": "2022-04-21T01:22:37.495Z"
   },
   {
    "duration": 15,
    "start_time": "2022-04-21T01:22:37.515Z"
   },
   {
    "duration": 5,
    "start_time": "2022-04-21T01:22:37.532Z"
   },
   {
    "duration": 42,
    "start_time": "2022-04-21T01:22:37.538Z"
   },
   {
    "duration": 12,
    "start_time": "2022-04-21T01:22:37.582Z"
   },
   {
    "duration": 17,
    "start_time": "2022-04-21T01:22:37.596Z"
   },
   {
    "duration": 12,
    "start_time": "2022-04-21T01:22:37.614Z"
   },
   {
    "duration": 11,
    "start_time": "2022-04-21T01:22:37.628Z"
   },
   {
    "duration": 5,
    "start_time": "2022-04-21T01:22:37.673Z"
   },
   {
    "duration": 11,
    "start_time": "2022-04-21T01:22:37.680Z"
   },
   {
    "duration": 4,
    "start_time": "2022-04-21T01:22:37.693Z"
   }
  ],
  "colab": {
   "collapsed_sections": [
    "E0vqbgi9ay0H",
    "VUC88oWjTJw2"
   ],
   "name": "yandex_music_project.ipynb",
   "provenance": []
  },
  "kernelspec": {
   "display_name": "Python 3 (ipykernel)",
   "language": "python",
   "name": "python3"
  },
  "language_info": {
   "codemirror_mode": {
    "name": "ipython",
    "version": 3
   },
   "file_extension": ".py",
   "mimetype": "text/x-python",
   "name": "python",
   "nbconvert_exporter": "python",
   "pygments_lexer": "ipython3",
   "version": "3.9.7"
  },
  "toc": {
   "base_numbering": 1,
   "nav_menu": {},
   "number_sections": true,
   "sideBar": true,
   "skip_h1_title": true,
   "title_cell": "Table of Contents",
   "title_sidebar": "Contents",
   "toc_cell": false,
   "toc_position": {},
   "toc_section_display": true,
   "toc_window_display": true
  }
 },
 "nbformat": 4,
 "nbformat_minor": 1
}
