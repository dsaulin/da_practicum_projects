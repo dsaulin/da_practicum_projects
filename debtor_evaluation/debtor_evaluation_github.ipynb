{
 "cells": [
  {
   "cell_type": "markdown",
   "id": "017b5d60",
   "metadata": {},
   "source": [
    "# Исследование надежности заемщиков\n",
    "\n",
    "Заказчик — кредитный отдел банка. \n",
    "\n",
    "**Цель исследования:** Определить, какие социально-демографические факторы влияют на факт погашения кредита в срок. \n",
    "К таким факторам относят: количество детей у заёмщика, его семейное положение, уровень доходов и цели кредитования.\n",
    "\n",
    "**Ход исследования:**\n",
    "1. Обзор входных данных от банка (статистика о платёжеспособности клиентов.) \n",
    "2. Предобработка данных. \n",
    "3. Проверка гипотез о влиянии социально-демографических факторов на своевременность погашения кредита в срок.\n",
    "\n",
    "**Использованные данные**:\n",
    "\n",
    "- количество детей в семье\n",
    "- общий трудовой стаж в днях\n",
    "- возраст клиента в годах\n",
    "- уровень образования клиента\n",
    "- идентификатор уровня образования\n",
    "- семейное положение\n",
    "- идентификатор семейного положения\n",
    "- пол клиента\n",
    "- тип занятости\n",
    "- имел ли задолженность по возврату кредитов\n",
    "- ежемесячный доход\n",
    "- цель получения кредита\n",
    "\n",
    "Результаты исследования будут учтены при построении модели кредитного скоринга — специальной системы, которая оценивает способность потенциального заёмщика вернуть кредит банку."
   ]
  },
  {
   "cell_type": "markdown",
   "id": "7efd50e3",
   "metadata": {},
   "source": [
    "## Ход исследования"
   ]
  },
  {
   "cell_type": "markdown",
   "id": "bf1aac23",
   "metadata": {},
   "source": [
    "### Шаг 1. Обзор данных"
   ]
  },
  {
   "cell_type": "code",
   "execution_count": 81,
   "id": "873f98bf",
   "metadata": {},
   "outputs": [],
   "source": [
    "import pandas as pd"
   ]
  },
  {
   "cell_type": "code",
   "execution_count": 82,
   "id": "85bb887e",
   "metadata": {},
   "outputs": [
    {
     "name": "stdout",
     "output_type": "stream",
     "text": [
      "<class 'pandas.core.frame.DataFrame'>\n",
      "RangeIndex: 21525 entries, 0 to 21524\n",
      "Data columns (total 12 columns):\n",
      " #   Column            Non-Null Count  Dtype  \n",
      "---  ------            --------------  -----  \n",
      " 0   children          21525 non-null  int64  \n",
      " 1   days_employed     19351 non-null  float64\n",
      " 2   dob_years         21525 non-null  int64  \n",
      " 3   education         21525 non-null  object \n",
      " 4   education_id      21525 non-null  int64  \n",
      " 5   family_status     21525 non-null  object \n",
      " 6   family_status_id  21525 non-null  int64  \n",
      " 7   gender            21525 non-null  object \n",
      " 8   income_type       21525 non-null  object \n",
      " 9   debt              21525 non-null  int64  \n",
      " 10  total_income      19351 non-null  float64\n",
      " 11  purpose           21525 non-null  object \n",
      "dtypes: float64(2), int64(5), object(5)\n",
      "memory usage: 2.0+ MB\n"
     ]
    }
   ],
   "source": [
    "try:\n",
    "    df = pd.read_csv('/datasets/data.csv')\n",
    "except:\n",
    "    df = pd.read_csv('data.csv')\n",
    "\n",
    "df.info()"
   ]
  },
  {
   "cell_type": "markdown",
   "id": "22d74632",
   "metadata": {},
   "source": [
    "### Шаг 2.1 Заполнение пропусков"
   ]
  },
  {
   "cell_type": "code",
   "execution_count": 83,
   "id": "9afc8b8c",
   "metadata": {},
   "outputs": [
    {
     "name": "stdout",
     "output_type": "stream",
     "text": [
      "Пропущенных значений в столбце \"Общий трудовой стаж в днях\": 2174\n",
      "Пропущенных значений в столбце \"Ежемесячный доход\": 2174\n",
      "Доля пропущенных значений в столбце \"Общий трудовой стаж в днях\": 0.10099883855981417\n",
      "Пропущенных значений в столбце \"Ежемесячный доход\": 0.10099883855981417\n"
     ]
    }
   ],
   "source": [
    "print('Пропущенных значений в столбце \"Общий трудовой стаж в днях\":', len(df[df['days_employed'].isna()]))\n",
    "print('Пропущенных значений в столбце \"Ежемесячный доход\":', len(df[df['total_income'].isna()]))\n",
    "\n",
    "print('Доля пропущенных значений в столбце \"Общий трудовой стаж в днях\":', len(df[df['days_employed'].isna()]) / len(df['days_employed']))\n",
    "print('Пропущенных значений в столбце \"Ежемесячный доход\":', len(df[df['total_income'].isna()]) / len(df['total_income']))"
   ]
  },
  {
   "cell_type": "markdown",
   "id": "65c33237",
   "metadata": {},
   "source": [
    "Обнаружены пропущенные значения в двух столбцах: days_employed и total_income . Количество таких значений в каждом столбце - 2174. Доля пропущенных значений в обоих случаях - 0,1 (ок. 10 %) Возможная причина отсутствия данных - техническая, например, сбой при переносе данных из одной базы в другую.\n",
    "\n",
    "Возможное решение замены отсутствующих данных - заполнение медианным значением, среднее в данном случае не подойдет, т.к. при больших крайних значениях стажа или дохода будет влияние на среднее, а медиана позволит это влияние устранить.\n",
    "\n",
    "Посмотрим на данные подробнее."
   ]
  },
  {
   "cell_type": "markdown",
   "id": "a2e65427",
   "metadata": {},
   "source": [
    "### Шаг 2.2 Проверка данных на аномалии и исправления. Изменение типов данных."
   ]
  },
  {
   "cell_type": "code",
   "execution_count": 84,
   "id": "e76a2893",
   "metadata": {
    "scrolled": true
   },
   "outputs": [
    {
     "data": {
      "text/html": [
       "<div>\n",
       "<style scoped>\n",
       "    .dataframe tbody tr th:only-of-type {\n",
       "        vertical-align: middle;\n",
       "    }\n",
       "\n",
       "    .dataframe tbody tr th {\n",
       "        vertical-align: top;\n",
       "    }\n",
       "\n",
       "    .dataframe thead th {\n",
       "        text-align: right;\n",
       "    }\n",
       "</style>\n",
       "<table border=\"1\" class=\"dataframe\">\n",
       "  <thead>\n",
       "    <tr style=\"text-align: right;\">\n",
       "      <th></th>\n",
       "      <th>children</th>\n",
       "      <th>days_employed</th>\n",
       "      <th>dob_years</th>\n",
       "      <th>education</th>\n",
       "      <th>education_id</th>\n",
       "      <th>family_status</th>\n",
       "      <th>family_status_id</th>\n",
       "      <th>gender</th>\n",
       "      <th>income_type</th>\n",
       "      <th>debt</th>\n",
       "      <th>total_income</th>\n",
       "      <th>purpose</th>\n",
       "    </tr>\n",
       "  </thead>\n",
       "  <tbody>\n",
       "    <tr>\n",
       "      <th>0</th>\n",
       "      <td>1</td>\n",
       "      <td>-8437.673028</td>\n",
       "      <td>42</td>\n",
       "      <td>высшее</td>\n",
       "      <td>0</td>\n",
       "      <td>женат / замужем</td>\n",
       "      <td>0</td>\n",
       "      <td>F</td>\n",
       "      <td>сотрудник</td>\n",
       "      <td>0</td>\n",
       "      <td>253875.639453</td>\n",
       "      <td>покупка жилья</td>\n",
       "    </tr>\n",
       "    <tr>\n",
       "      <th>1</th>\n",
       "      <td>1</td>\n",
       "      <td>-4024.803754</td>\n",
       "      <td>36</td>\n",
       "      <td>среднее</td>\n",
       "      <td>1</td>\n",
       "      <td>женат / замужем</td>\n",
       "      <td>0</td>\n",
       "      <td>F</td>\n",
       "      <td>сотрудник</td>\n",
       "      <td>0</td>\n",
       "      <td>112080.014102</td>\n",
       "      <td>приобретение автомобиля</td>\n",
       "    </tr>\n",
       "    <tr>\n",
       "      <th>2</th>\n",
       "      <td>0</td>\n",
       "      <td>-5623.422610</td>\n",
       "      <td>33</td>\n",
       "      <td>Среднее</td>\n",
       "      <td>1</td>\n",
       "      <td>женат / замужем</td>\n",
       "      <td>0</td>\n",
       "      <td>M</td>\n",
       "      <td>сотрудник</td>\n",
       "      <td>0</td>\n",
       "      <td>145885.952297</td>\n",
       "      <td>покупка жилья</td>\n",
       "    </tr>\n",
       "    <tr>\n",
       "      <th>3</th>\n",
       "      <td>3</td>\n",
       "      <td>-4124.747207</td>\n",
       "      <td>32</td>\n",
       "      <td>среднее</td>\n",
       "      <td>1</td>\n",
       "      <td>женат / замужем</td>\n",
       "      <td>0</td>\n",
       "      <td>M</td>\n",
       "      <td>сотрудник</td>\n",
       "      <td>0</td>\n",
       "      <td>267628.550329</td>\n",
       "      <td>дополнительное образование</td>\n",
       "    </tr>\n",
       "    <tr>\n",
       "      <th>4</th>\n",
       "      <td>0</td>\n",
       "      <td>340266.072047</td>\n",
       "      <td>53</td>\n",
       "      <td>среднее</td>\n",
       "      <td>1</td>\n",
       "      <td>гражданский брак</td>\n",
       "      <td>1</td>\n",
       "      <td>F</td>\n",
       "      <td>пенсионер</td>\n",
       "      <td>0</td>\n",
       "      <td>158616.077870</td>\n",
       "      <td>сыграть свадьбу</td>\n",
       "    </tr>\n",
       "  </tbody>\n",
       "</table>\n",
       "</div>"
      ],
      "text/plain": [
       "   children  days_employed  dob_years education  education_id  \\\n",
       "0         1   -8437.673028         42    высшее             0   \n",
       "1         1   -4024.803754         36   среднее             1   \n",
       "2         0   -5623.422610         33   Среднее             1   \n",
       "3         3   -4124.747207         32   среднее             1   \n",
       "4         0  340266.072047         53   среднее             1   \n",
       "\n",
       "      family_status  family_status_id gender income_type  debt   total_income  \\\n",
       "0   женат / замужем                 0      F   сотрудник     0  253875.639453   \n",
       "1   женат / замужем                 0      F   сотрудник     0  112080.014102   \n",
       "2   женат / замужем                 0      M   сотрудник     0  145885.952297   \n",
       "3   женат / замужем                 0      M   сотрудник     0  267628.550329   \n",
       "4  гражданский брак                 1      F   пенсионер     0  158616.077870   \n",
       "\n",
       "                      purpose  \n",
       "0               покупка жилья  \n",
       "1     приобретение автомобиля  \n",
       "2               покупка жилья  \n",
       "3  дополнительное образование  \n",
       "4             сыграть свадьбу  "
      ]
     },
     "execution_count": 84,
     "metadata": {},
     "output_type": "execute_result"
    }
   ],
   "source": [
    "df.head()"
   ]
  },
  {
   "cell_type": "markdown",
   "id": "08236bf0",
   "metadata": {},
   "source": [
    "В столбце с трудовым стажем обнаружены отрицательные значения. Скорее всего это ошибка ввода (когда данные в соседних ячейках перепутаны местами, а при вычитании в финале получили отрицательные значения.) Исправим эти данные методом abs()."
   ]
  },
  {
   "cell_type": "code",
   "execution_count": 85,
   "id": "74a93940",
   "metadata": {
    "scrolled": true
   },
   "outputs": [
    {
     "data": {
      "text/html": [
       "<div>\n",
       "<style scoped>\n",
       "    .dataframe tbody tr th:only-of-type {\n",
       "        vertical-align: middle;\n",
       "    }\n",
       "\n",
       "    .dataframe tbody tr th {\n",
       "        vertical-align: top;\n",
       "    }\n",
       "\n",
       "    .dataframe thead th {\n",
       "        text-align: right;\n",
       "    }\n",
       "</style>\n",
       "<table border=\"1\" class=\"dataframe\">\n",
       "  <thead>\n",
       "    <tr style=\"text-align: right;\">\n",
       "      <th></th>\n",
       "      <th>children</th>\n",
       "      <th>days_employed</th>\n",
       "      <th>dob_years</th>\n",
       "      <th>education</th>\n",
       "      <th>education_id</th>\n",
       "      <th>family_status</th>\n",
       "      <th>family_status_id</th>\n",
       "      <th>gender</th>\n",
       "      <th>income_type</th>\n",
       "      <th>debt</th>\n",
       "      <th>total_income</th>\n",
       "      <th>purpose</th>\n",
       "    </tr>\n",
       "  </thead>\n",
       "  <tbody>\n",
       "    <tr>\n",
       "      <th>0</th>\n",
       "      <td>1</td>\n",
       "      <td>8437.673028</td>\n",
       "      <td>42</td>\n",
       "      <td>высшее</td>\n",
       "      <td>0</td>\n",
       "      <td>женат / замужем</td>\n",
       "      <td>0</td>\n",
       "      <td>F</td>\n",
       "      <td>сотрудник</td>\n",
       "      <td>0</td>\n",
       "      <td>253875.639453</td>\n",
       "      <td>покупка жилья</td>\n",
       "    </tr>\n",
       "    <tr>\n",
       "      <th>1</th>\n",
       "      <td>1</td>\n",
       "      <td>4024.803754</td>\n",
       "      <td>36</td>\n",
       "      <td>среднее</td>\n",
       "      <td>1</td>\n",
       "      <td>женат / замужем</td>\n",
       "      <td>0</td>\n",
       "      <td>F</td>\n",
       "      <td>сотрудник</td>\n",
       "      <td>0</td>\n",
       "      <td>112080.014102</td>\n",
       "      <td>приобретение автомобиля</td>\n",
       "    </tr>\n",
       "    <tr>\n",
       "      <th>2</th>\n",
       "      <td>0</td>\n",
       "      <td>5623.422610</td>\n",
       "      <td>33</td>\n",
       "      <td>Среднее</td>\n",
       "      <td>1</td>\n",
       "      <td>женат / замужем</td>\n",
       "      <td>0</td>\n",
       "      <td>M</td>\n",
       "      <td>сотрудник</td>\n",
       "      <td>0</td>\n",
       "      <td>145885.952297</td>\n",
       "      <td>покупка жилья</td>\n",
       "    </tr>\n",
       "    <tr>\n",
       "      <th>3</th>\n",
       "      <td>3</td>\n",
       "      <td>4124.747207</td>\n",
       "      <td>32</td>\n",
       "      <td>среднее</td>\n",
       "      <td>1</td>\n",
       "      <td>женат / замужем</td>\n",
       "      <td>0</td>\n",
       "      <td>M</td>\n",
       "      <td>сотрудник</td>\n",
       "      <td>0</td>\n",
       "      <td>267628.550329</td>\n",
       "      <td>дополнительное образование</td>\n",
       "    </tr>\n",
       "    <tr>\n",
       "      <th>4</th>\n",
       "      <td>0</td>\n",
       "      <td>340266.072047</td>\n",
       "      <td>53</td>\n",
       "      <td>среднее</td>\n",
       "      <td>1</td>\n",
       "      <td>гражданский брак</td>\n",
       "      <td>1</td>\n",
       "      <td>F</td>\n",
       "      <td>пенсионер</td>\n",
       "      <td>0</td>\n",
       "      <td>158616.077870</td>\n",
       "      <td>сыграть свадьбу</td>\n",
       "    </tr>\n",
       "  </tbody>\n",
       "</table>\n",
       "</div>"
      ],
      "text/plain": [
       "   children  days_employed  dob_years education  education_id  \\\n",
       "0         1    8437.673028         42    высшее             0   \n",
       "1         1    4024.803754         36   среднее             1   \n",
       "2         0    5623.422610         33   Среднее             1   \n",
       "3         3    4124.747207         32   среднее             1   \n",
       "4         0  340266.072047         53   среднее             1   \n",
       "\n",
       "      family_status  family_status_id gender income_type  debt   total_income  \\\n",
       "0   женат / замужем                 0      F   сотрудник     0  253875.639453   \n",
       "1   женат / замужем                 0      F   сотрудник     0  112080.014102   \n",
       "2   женат / замужем                 0      M   сотрудник     0  145885.952297   \n",
       "3   женат / замужем                 0      M   сотрудник     0  267628.550329   \n",
       "4  гражданский брак                 1      F   пенсионер     0  158616.077870   \n",
       "\n",
       "                      purpose  \n",
       "0               покупка жилья  \n",
       "1     приобретение автомобиля  \n",
       "2               покупка жилья  \n",
       "3  дополнительное образование  \n",
       "4             сыграть свадьбу  "
      ]
     },
     "execution_count": 85,
     "metadata": {},
     "output_type": "execute_result"
    }
   ],
   "source": [
    "df['days_employed'] = df['days_employed'].abs()\n",
    "df.head()"
   ]
  },
  {
   "cell_type": "markdown",
   "id": "21ca9150",
   "metadata": {},
   "source": [
    "Также в столбце с трудовым стажем мы видим аномальные значения значения, а именно в строке с индексом 4 - более 340 т. дней. Понятно, что это не выброс, а именно ошибка. Для начала надо понять, какое количество строк у нас с похожими значениями, а потом примем решение, как их исправлять."
   ]
  },
  {
   "cell_type": "code",
   "execution_count": 86,
   "id": "063f8c9f",
   "metadata": {},
   "outputs": [
    {
     "name": "stdout",
     "output_type": "stream",
     "text": [
      "Максимальный возраст клиента банка: 75\n",
      "Максимально возможный стаж: 15067 дней\n",
      "Количество возможных ошибок в столбце со стажем: 3458\n"
     ]
    },
    {
     "data": {
      "text/html": [
       "<div>\n",
       "<style scoped>\n",
       "    .dataframe tbody tr th:only-of-type {\n",
       "        vertical-align: middle;\n",
       "    }\n",
       "\n",
       "    .dataframe tbody tr th {\n",
       "        vertical-align: top;\n",
       "    }\n",
       "\n",
       "    .dataframe thead th {\n",
       "        text-align: right;\n",
       "    }\n",
       "</style>\n",
       "<table border=\"1\" class=\"dataframe\">\n",
       "  <thead>\n",
       "    <tr style=\"text-align: right;\">\n",
       "      <th></th>\n",
       "      <th>children</th>\n",
       "      <th>days_employed</th>\n",
       "      <th>dob_years</th>\n",
       "      <th>education</th>\n",
       "      <th>education_id</th>\n",
       "      <th>family_status</th>\n",
       "      <th>family_status_id</th>\n",
       "      <th>gender</th>\n",
       "      <th>income_type</th>\n",
       "      <th>debt</th>\n",
       "      <th>total_income</th>\n",
       "      <th>purpose</th>\n",
       "    </tr>\n",
       "  </thead>\n",
       "  <tbody>\n",
       "    <tr>\n",
       "      <th>7731</th>\n",
       "      <td>0</td>\n",
       "      <td>15618.063786</td>\n",
       "      <td>64</td>\n",
       "      <td>среднее</td>\n",
       "      <td>1</td>\n",
       "      <td>женат / замужем</td>\n",
       "      <td>0</td>\n",
       "      <td>F</td>\n",
       "      <td>компаньон</td>\n",
       "      <td>0</td>\n",
       "      <td>296525.358574</td>\n",
       "      <td>высшее образование</td>\n",
       "    </tr>\n",
       "    <tr>\n",
       "      <th>15675</th>\n",
       "      <td>0</td>\n",
       "      <td>15410.040779</td>\n",
       "      <td>65</td>\n",
       "      <td>высшее</td>\n",
       "      <td>0</td>\n",
       "      <td>женат / замужем</td>\n",
       "      <td>0</td>\n",
       "      <td>F</td>\n",
       "      <td>сотрудник</td>\n",
       "      <td>0</td>\n",
       "      <td>188800.068859</td>\n",
       "      <td>покупка жилой недвижимости</td>\n",
       "    </tr>\n",
       "    <tr>\n",
       "      <th>19788</th>\n",
       "      <td>0</td>\n",
       "      <td>15267.541183</td>\n",
       "      <td>56</td>\n",
       "      <td>среднее</td>\n",
       "      <td>1</td>\n",
       "      <td>женат / замужем</td>\n",
       "      <td>0</td>\n",
       "      <td>M</td>\n",
       "      <td>сотрудник</td>\n",
       "      <td>0</td>\n",
       "      <td>122976.371341</td>\n",
       "      <td>приобретение автомобиля</td>\n",
       "    </tr>\n",
       "    <tr>\n",
       "      <th>16868</th>\n",
       "      <td>0</td>\n",
       "      <td>15193.032201</td>\n",
       "      <td>57</td>\n",
       "      <td>среднее</td>\n",
       "      <td>1</td>\n",
       "      <td>женат / замужем</td>\n",
       "      <td>0</td>\n",
       "      <td>F</td>\n",
       "      <td>госслужащий</td>\n",
       "      <td>0</td>\n",
       "      <td>194993.882911</td>\n",
       "      <td>строительство недвижимости</td>\n",
       "    </tr>\n",
       "    <tr>\n",
       "      <th>5581</th>\n",
       "      <td>0</td>\n",
       "      <td>15079.216069</td>\n",
       "      <td>55</td>\n",
       "      <td>среднее</td>\n",
       "      <td>1</td>\n",
       "      <td>женат / замужем</td>\n",
       "      <td>0</td>\n",
       "      <td>F</td>\n",
       "      <td>госслужащий</td>\n",
       "      <td>0</td>\n",
       "      <td>178761.373413</td>\n",
       "      <td>операции с жильем</td>\n",
       "    </tr>\n",
       "  </tbody>\n",
       "</table>\n",
       "</div>"
      ],
      "text/plain": [
       "       children  days_employed  dob_years education  education_id  \\\n",
       "7731          0   15618.063786         64   среднее             1   \n",
       "15675         0   15410.040779         65    высшее             0   \n",
       "19788         0   15267.541183         56   среднее             1   \n",
       "16868         0   15193.032201         57   среднее             1   \n",
       "5581          0   15079.216069         55   среднее             1   \n",
       "\n",
       "         family_status  family_status_id gender  income_type  debt  \\\n",
       "7731   женат / замужем                 0      F    компаньон     0   \n",
       "15675  женат / замужем                 0      F    сотрудник     0   \n",
       "19788  женат / замужем                 0      M    сотрудник     0   \n",
       "16868  женат / замужем                 0      F  госслужащий     0   \n",
       "5581   женат / замужем                 0      F  госслужащий     0   \n",
       "\n",
       "        total_income                     purpose  \n",
       "7731   296525.358574          высшее образование  \n",
       "15675  188800.068859  покупка жилой недвижимости  \n",
       "19788  122976.371341     приобретение автомобиля  \n",
       "16868  194993.882911  строительство недвижимости  \n",
       "5581   178761.373413           операции с жильем  "
      ]
     },
     "execution_count": 86,
     "metadata": {},
     "output_type": "execute_result"
    }
   ],
   "source": [
    "print('Максимальный возраст клиента банка:', df['dob_years'].max())\n",
    "days_employed_treshold = (75 - 14) * 247\n",
    "print('Максимально возможный стаж:', days_employed_treshold, 'дней')\n",
    "\n",
    "days_employed_errors = df.loc[df['days_employed'] > days_employed_treshold]\n",
    "print('Количество возможных ошибок в столбце со стажем:', days_employed_errors['days_employed'].count())\n",
    "\n",
    "days_employed_errors_sorted = days_employed_errors.sort_values(by='days_employed', ascending=False)\n",
    "days_employed_errors_sorted.tail(5)"
   ]
  },
  {
   "cell_type": "markdown",
   "id": "92e21df0",
   "metadata": {},
   "source": [
    "Попробуем найти границу и дапазон аномальных значений. Максимальный возраст заемщиков, судя по данным - 75 лет. Для этого возраста максимально возможный стаж - 15067 дней (трудовой возраст в России - с 14 лет, а количество рабочих дней в году - в среднем 247 дней.)\n",
    "\n",
    "Посмотрим, что происходит в таблице после порога в 15067 дней стажа. Всего таких строк 3458, при этом мы получили небольшое количество строк в диапазоне от 15079 до 18388 дней, а потом резкий скачок к значению в 328728 дней.\n",
    "\n",
    "Если установить уже эту границу (328728), то у нас уже будет 3445 строк. Диапазон аномальных значений - от 328728 до 401755."
   ]
  },
  {
   "cell_type": "code",
   "execution_count": 87,
   "id": "9f2b2545",
   "metadata": {},
   "outputs": [
    {
     "name": "stdout",
     "output_type": "stream",
     "text": [
      "Количество аномалий в столбце со стажем: 3445\n"
     ]
    }
   ],
   "source": [
    "print('Количество аномалий в столбце со стажем:', df['days_employed'].loc[df['days_employed'] >= 328728].count())"
   ]
  },
  {
   "cell_type": "markdown",
   "id": "3b40c766",
   "metadata": {},
   "source": [
    "Что делать c такими аномальными значениями? Посмотрим, есть ли что-то общее для таких строк? \n",
    "Например, какая занятость у таких заемщиков?"
   ]
  },
  {
   "cell_type": "code",
   "execution_count": 88,
   "id": "c8f923a0",
   "metadata": {},
   "outputs": [
    {
     "name": "stdout",
     "output_type": "stream",
     "text": [
      "пенсионер      3443\n",
      "безработный       2\n",
      "Name: income_type, dtype: int64\n"
     ]
    }
   ],
   "source": [
    "occupation_anomal_days = df.loc[df['days_employed'] >= 328728]\n",
    "print(occupation_anomal_days['income_type'].value_counts())"
   ]
  },
  {
   "cell_type": "markdown",
   "id": "e13fff2b",
   "metadata": {},
   "source": [
    "Как видим, подавляющее число заемщиков с аномальными значениями стажа - пенсионеры. Это значит, что при исправлении значений их стажа, мы должны получить данные, которые будут расположены между средним и максимальными значениями стажа в таблице без учета аномальных данных (в силу возраста этих заемщиков.) Поэтому мы видим **2 сценария**: либо предположить, что ошибка в данных произошла из-за сдвига плавающей запятой (т.е. стаж по факту меньше в 100 раз, нежели указанный.) Либо в датасете указан другой тип данных - не дни, а, например, часы. Тогда аномальный стаж надо разделить на количество часов, которые входят в \"трудовой день\"."
   ]
  },
  {
   "cell_type": "code",
   "execution_count": 89,
   "id": "6dc5136d",
   "metadata": {},
   "outputs": [
    {
     "name": "stdout",
     "output_type": "stream",
     "text": [
      "Медиана стажа без учета аномалий:\n",
      "1630.0193809778218\n",
      "Среднее стажа без учета аномалий:\n",
      "2353.015931998879\n"
     ]
    }
   ],
   "source": [
    "print('Медиана стажа без учета аномалий:')\n",
    "print(df.loc[df['days_employed'] < 328728, 'days_employed'].median())\n",
    "print('Среднее стажа без учета аномалий:')\n",
    "print(df.loc[df['days_employed'] < 328728, 'days_employed'].mean())"
   ]
  },
  {
   "cell_type": "markdown",
   "id": "c2818644",
   "metadata": {},
   "source": [
    "- В **первом сценарии** у нас получатся значения в примерном диапазоне от 3000 до 4000 дней стажа. Как мы видим, это больше и среднего и медианы выборки без аномалий, но в несколько раз меньше максимальных значений (15-18 т. рабочих дней). В принципе выглядит реалистично. \n",
    "- Во **втором** не очень понятно, как действовать: делить аномальные данные на 8 (длительность рабочего дня при графике 5/2), на 12 (график 2/2) или вообще на 24 (график \"сутки через трое\".) Если брать первые 2 действия, то количество дней опять станет малореалистичным. Если идти по пути \"суток\", мы получаем значения, близкие к макисимальным в выборке без аномалий (от 14 т. дней до 17 т.), НО представить себе человека, который смог отбработать такое количество дней в графике \"сутки через трое\" мы не сможем, это фантастика. Итого, придерживаемся сценария, при котором ошибка возникла из-за \"плавающей\" точки, которая должна быть в другом месте у аномальных данных. \n",
    "- **Исправляем** аномальные данные через деление на 100."
   ]
  },
  {
   "cell_type": "code",
   "execution_count": 90,
   "id": "df289dac",
   "metadata": {},
   "outputs": [
    {
     "data": {
      "text/html": [
       "<div>\n",
       "<style scoped>\n",
       "    .dataframe tbody tr th:only-of-type {\n",
       "        vertical-align: middle;\n",
       "    }\n",
       "\n",
       "    .dataframe tbody tr th {\n",
       "        vertical-align: top;\n",
       "    }\n",
       "\n",
       "    .dataframe thead th {\n",
       "        text-align: right;\n",
       "    }\n",
       "</style>\n",
       "<table border=\"1\" class=\"dataframe\">\n",
       "  <thead>\n",
       "    <tr style=\"text-align: right;\">\n",
       "      <th></th>\n",
       "      <th>children</th>\n",
       "      <th>days_employed</th>\n",
       "      <th>dob_years</th>\n",
       "      <th>education</th>\n",
       "      <th>education_id</th>\n",
       "      <th>family_status</th>\n",
       "      <th>family_status_id</th>\n",
       "      <th>gender</th>\n",
       "      <th>income_type</th>\n",
       "      <th>debt</th>\n",
       "      <th>total_income</th>\n",
       "      <th>purpose</th>\n",
       "    </tr>\n",
       "  </thead>\n",
       "  <tbody>\n",
       "    <tr>\n",
       "      <th>16335</th>\n",
       "      <td>1</td>\n",
       "      <td>18388.949901</td>\n",
       "      <td>61</td>\n",
       "      <td>среднее</td>\n",
       "      <td>1</td>\n",
       "      <td>женат / замужем</td>\n",
       "      <td>0</td>\n",
       "      <td>F</td>\n",
       "      <td>сотрудник</td>\n",
       "      <td>0</td>\n",
       "      <td>186178.934089</td>\n",
       "      <td>операции с недвижимостью</td>\n",
       "    </tr>\n",
       "    <tr>\n",
       "      <th>4299</th>\n",
       "      <td>0</td>\n",
       "      <td>17615.563266</td>\n",
       "      <td>61</td>\n",
       "      <td>среднее</td>\n",
       "      <td>1</td>\n",
       "      <td>женат / замужем</td>\n",
       "      <td>0</td>\n",
       "      <td>F</td>\n",
       "      <td>компаньон</td>\n",
       "      <td>0</td>\n",
       "      <td>122560.741753</td>\n",
       "      <td>покупка жилья</td>\n",
       "    </tr>\n",
       "    <tr>\n",
       "      <th>7329</th>\n",
       "      <td>0</td>\n",
       "      <td>16593.472817</td>\n",
       "      <td>60</td>\n",
       "      <td>высшее</td>\n",
       "      <td>0</td>\n",
       "      <td>женат / замужем</td>\n",
       "      <td>0</td>\n",
       "      <td>F</td>\n",
       "      <td>сотрудник</td>\n",
       "      <td>0</td>\n",
       "      <td>124697.846781</td>\n",
       "      <td>заняться высшим образованием</td>\n",
       "    </tr>\n",
       "    <tr>\n",
       "      <th>17838</th>\n",
       "      <td>0</td>\n",
       "      <td>16264.699501</td>\n",
       "      <td>59</td>\n",
       "      <td>среднее</td>\n",
       "      <td>1</td>\n",
       "      <td>женат / замужем</td>\n",
       "      <td>0</td>\n",
       "      <td>F</td>\n",
       "      <td>сотрудник</td>\n",
       "      <td>0</td>\n",
       "      <td>51238.967133</td>\n",
       "      <td>на покупку автомобиля</td>\n",
       "    </tr>\n",
       "    <tr>\n",
       "      <th>16825</th>\n",
       "      <td>0</td>\n",
       "      <td>16119.687737</td>\n",
       "      <td>64</td>\n",
       "      <td>среднее</td>\n",
       "      <td>1</td>\n",
       "      <td>женат / замужем</td>\n",
       "      <td>0</td>\n",
       "      <td>F</td>\n",
       "      <td>сотрудник</td>\n",
       "      <td>0</td>\n",
       "      <td>91527.685995</td>\n",
       "      <td>покупка жилой недвижимости</td>\n",
       "    </tr>\n",
       "  </tbody>\n",
       "</table>\n",
       "</div>"
      ],
      "text/plain": [
       "       children  days_employed  dob_years education  education_id  \\\n",
       "16335         1   18388.949901         61   среднее             1   \n",
       "4299          0   17615.563266         61   среднее             1   \n",
       "7329          0   16593.472817         60    высшее             0   \n",
       "17838         0   16264.699501         59   среднее             1   \n",
       "16825         0   16119.687737         64   среднее             1   \n",
       "\n",
       "         family_status  family_status_id gender income_type  debt  \\\n",
       "16335  женат / замужем                 0      F   сотрудник     0   \n",
       "4299   женат / замужем                 0      F   компаньон     0   \n",
       "7329   женат / замужем                 0      F   сотрудник     0   \n",
       "17838  женат / замужем                 0      F   сотрудник     0   \n",
       "16825  женат / замужем                 0      F   сотрудник     0   \n",
       "\n",
       "        total_income                       purpose  \n",
       "16335  186178.934089      операции с недвижимостью  \n",
       "4299   122560.741753                 покупка жилья  \n",
       "7329   124697.846781  заняться высшим образованием  \n",
       "17838   51238.967133         на покупку автомобиля  \n",
       "16825   91527.685995    покупка жилой недвижимости  "
      ]
     },
     "execution_count": 90,
     "metadata": {},
     "output_type": "execute_result"
    }
   ],
   "source": [
    "df.loc[df['days_employed'] >= 328728, 'days_employed'] = df[df['days_employed'] >= 328728]['days_employed']/100\n",
    "df.sort_values(by='days_employed', ascending=False).head()"
   ]
  },
  {
   "cell_type": "markdown",
   "id": "10717595",
   "metadata": {},
   "source": [
    "Аномалии (стаж длительностью более 328728 дней) заменены. Остались пропуски. Устраним им их, вставив медианные значения стажа. Также переведем данные стажа в целочисленный тип."
   ]
  },
  {
   "cell_type": "code",
   "execution_count": 91,
   "id": "66147cf7",
   "metadata": {},
   "outputs": [
    {
     "name": "stdout",
     "output_type": "stream",
     "text": [
      "Медиана трудового стажа: 2194.220566878695\n",
      "<class 'pandas.core.frame.DataFrame'>\n",
      "RangeIndex: 21525 entries, 0 to 21524\n",
      "Data columns (total 12 columns):\n",
      " #   Column            Non-Null Count  Dtype  \n",
      "---  ------            --------------  -----  \n",
      " 0   children          21525 non-null  int64  \n",
      " 1   days_employed     21525 non-null  int32  \n",
      " 2   dob_years         21525 non-null  int64  \n",
      " 3   education         21525 non-null  object \n",
      " 4   education_id      21525 non-null  int64  \n",
      " 5   family_status     21525 non-null  object \n",
      " 6   family_status_id  21525 non-null  int64  \n",
      " 7   gender            21525 non-null  object \n",
      " 8   income_type       21525 non-null  object \n",
      " 9   debt              21525 non-null  int64  \n",
      " 10  total_income      19351 non-null  float64\n",
      " 11  purpose           21525 non-null  object \n",
      "dtypes: float64(1), int32(1), int64(5), object(5)\n",
      "memory usage: 1.9+ MB\n"
     ]
    }
   ],
   "source": [
    "days_employed_median = df['days_employed'].median()\n",
    "print('Медиана трудового стажа:', days_employed_median)\n",
    "\n",
    "df['days_employed'] = df['days_employed'].fillna(days_employed_median)\n",
    "df['days_employed'] = df['days_employed'].astype(int)\n",
    "\n",
    "df.info()"
   ]
  },
  {
   "cell_type": "markdown",
   "id": "ae145e7a",
   "metadata": {},
   "source": [
    "Далее поработаем с пропусками в столбце с ежемесячным доходом. Посмотрим характеристики данных этого столбца."
   ]
  },
  {
   "cell_type": "code",
   "execution_count": 92,
   "id": "3d370d50",
   "metadata": {
    "scrolled": true
   },
   "outputs": [
    {
     "data": {
      "text/plain": [
       "count      19351\n",
       "mean      167422\n",
       "std       102971\n",
       "min        20667\n",
       "25%       103053\n",
       "50%       145017\n",
       "75%       203435\n",
       "max      2265604\n",
       "Name: total_income, dtype: int32"
      ]
     },
     "execution_count": 92,
     "metadata": {},
     "output_type": "execute_result"
    }
   ],
   "source": [
    "df['total_income'].describe().astype(int)"
   ]
  },
  {
   "cell_type": "markdown",
   "id": "eebc9248",
   "metadata": {},
   "source": [
    "Среднее от медианы отличается не очень сильно. При этом довольно большая разница между минимальным и максимальным значениями и большое стандартное отклонение. Может, строки с отсутствующими значениями дохода можно сгруппировать по типу занятости? Тогда можно будет взять не общую медиану, а использовать медиану какой-нибуть одной группы занятых, если эта группа будет доминировать в пустых строках. \n",
    "\n",
    "Посмотрим соотношение типа занятости в заполненных и пустых строках дохода."
   ]
  },
  {
   "cell_type": "code",
   "execution_count": 93,
   "id": "a6f9a313",
   "metadata": {},
   "outputs": [
    {
     "name": "stdout",
     "output_type": "stream",
     "text": [
      "Типы занятых в пустых строках дохода:\n",
      "сотрудник          1105\n",
      "компаньон           508\n",
      "пенсионер           413\n",
      "госслужащий         147\n",
      "предприниматель       1\n",
      "Name: income_type, dtype: int64\n",
      "Типы занятых в заполненых строках дохода:\n",
      "сотрудник          11119\n",
      "компаньон           5085\n",
      "пенсионер           3856\n",
      "госслужащий         1459\n",
      "безработный            2\n",
      "предприниматель        2\n",
      "студент                1\n",
      "в декрете              1\n",
      "Name: income_type, dtype: int64\n"
     ]
    }
   ],
   "source": [
    "total_income_empty = df.loc[df['total_income'].isnull()]\n",
    "print('Типы занятых в пустых строках дохода:')\n",
    "print(total_income_empty['income_type'].value_counts())\n",
    "\n",
    "print('Типы занятых в заполненых строках дохода:')\n",
    "print(df['income_type'].value_counts())"
   ]
  },
  {
   "cell_type": "markdown",
   "id": "95b30cfa",
   "metadata": {},
   "source": [
    "Видно, что в обоих случаях группы занятых представлены очень похожим образом - одинаковый порядок (по убыванию) и схожее соотношение групп занятых. Так что мы принимаем решение заполнять пустые строки дохода общей медианой. Также переведем данные дохода в целочисленный тип."
   ]
  },
  {
   "cell_type": "code",
   "execution_count": 94,
   "id": "c397e832",
   "metadata": {},
   "outputs": [
    {
     "name": "stdout",
     "output_type": "stream",
     "text": [
      "<class 'pandas.core.frame.DataFrame'>\n",
      "RangeIndex: 21525 entries, 0 to 21524\n",
      "Data columns (total 12 columns):\n",
      " #   Column            Non-Null Count  Dtype \n",
      "---  ------            --------------  ----- \n",
      " 0   children          21525 non-null  int64 \n",
      " 1   days_employed     21525 non-null  int32 \n",
      " 2   dob_years         21525 non-null  int64 \n",
      " 3   education         21525 non-null  object\n",
      " 4   education_id      21525 non-null  int64 \n",
      " 5   family_status     21525 non-null  object\n",
      " 6   family_status_id  21525 non-null  int64 \n",
      " 7   gender            21525 non-null  object\n",
      " 8   income_type       21525 non-null  object\n",
      " 9   debt              21525 non-null  int64 \n",
      " 10  total_income      21525 non-null  int32 \n",
      " 11  purpose           21525 non-null  object\n",
      "dtypes: int32(2), int64(5), object(5)\n",
      "memory usage: 1.8+ MB\n"
     ]
    }
   ],
   "source": [
    "total_income_median = df['total_income'].median()\n",
    "df['total_income'] = df['total_income'].fillna(total_income_median)\n",
    "df['total_income'] = df['total_income'].astype(int)\n",
    "df.info()"
   ]
  },
  {
   "cell_type": "markdown",
   "id": "1f3fe76d",
   "metadata": {},
   "source": [
    "Все пропуски заполнены. Посмотрим, есть ли аномалии в столбце с возрастом."
   ]
  },
  {
   "cell_type": "code",
   "execution_count": 95,
   "id": "7cbbc92d",
   "metadata": {},
   "outputs": [
    {
     "name": "stdout",
     "output_type": "stream",
     "text": [
      "75\n",
      "0\n"
     ]
    }
   ],
   "source": [
    "print(df['dob_years'].max())\n",
    "print(df['dob_years'].min())"
   ]
  },
  {
   "cell_type": "markdown",
   "id": "3b78abfe",
   "metadata": {},
   "source": [
    "Максимальное значение вопросов не вызывает, но в столбце с возрастом есть значения \"0\". Посмотрим, много ли значений возраста менее 14 лет (14 лет - трудовой возраст по законам России.)"
   ]
  },
  {
   "cell_type": "code",
   "execution_count": 96,
   "id": "297f5364",
   "metadata": {},
   "outputs": [
    {
     "name": "stdout",
     "output_type": "stream",
     "text": [
      "Количество несовершеннолетних (возраст и количество): 0    101\n",
      "Name: dob_years, dtype: int64\n"
     ]
    }
   ],
   "source": [
    "df_14 = df.loc[df['dob_years'] < 14]\n",
    "print('Количество несовершеннолетних (возраст и количество):', df_14['dob_years'].value_counts())"
   ]
  },
  {
   "cell_type": "markdown",
   "id": "08e62451",
   "metadata": {},
   "source": [
    "Примерно у 0,5% заемщиков не указан возраст (точнее указано значение \"0\"). Судя по задачам исследования эти данные не так важны для проверки гипотез, поэтому оставим эти ячейки без изменений. Далее посмотрим данные в столбце с количеством детей."
   ]
  },
  {
   "cell_type": "code",
   "execution_count": 97,
   "id": "cd505e69",
   "metadata": {
    "scrolled": true
   },
   "outputs": [
    {
     "name": "stdout",
     "output_type": "stream",
     "text": [
      " 0     14149\n",
      " 1      4818\n",
      " 2      2055\n",
      " 3       330\n",
      " 20       76\n",
      "-1        47\n",
      " 4        41\n",
      " 5         9\n",
      "Name: children, dtype: int64\n"
     ]
    }
   ],
   "source": [
    "print(df['children'].value_counts())"
   ]
  },
  {
   "cell_type": "markdown",
   "id": "8b9d4814",
   "metadata": {},
   "source": [
    "Переведем отрицательные значения к абсолютной величине. Также обратим внимание на 76 случаев, когда у заемщика указано 20 детей. Это может быть ошибкой (например, верное количество - 2.0), а может быть и верным значением: такие случаи и вправду редки, к тому же речь может идти о приемных детях. Плюс такие заемщики с бОльшей вероятностью могут быть заинтересованы в услугах банка, поэтому их доля среди всех заемщиков намного больше, чем доля многодетных в статистике российских семей."
   ]
  },
  {
   "cell_type": "code",
   "execution_count": 98,
   "id": "52a68e48",
   "metadata": {
    "scrolled": true
   },
   "outputs": [
    {
     "data": {
      "text/plain": [
       "0     14149\n",
       "1      4865\n",
       "2      2055\n",
       "3       330\n",
       "20       76\n",
       "4        41\n",
       "5         9\n",
       "Name: children, dtype: int64"
      ]
     },
     "execution_count": 98,
     "metadata": {},
     "output_type": "execute_result"
    }
   ],
   "source": [
    "df['children'] = df['children'].abs()\n",
    "df['children'].value_counts()"
   ]
  },
  {
   "cell_type": "markdown",
   "id": "cc05647c",
   "metadata": {},
   "source": [
    "Приведем написание типа образования к нижнему регистру"
   ]
  },
  {
   "cell_type": "code",
   "execution_count": 99,
   "id": "f75fc494",
   "metadata": {
    "scrolled": true
   },
   "outputs": [
    {
     "name": "stdout",
     "output_type": "stream",
     "text": [
      "['высшее' 'среднее' 'неоконченное высшее' 'начальное' 'ученая степень']\n"
     ]
    }
   ],
   "source": [
    "df['education'] = df['education'].str.lower()\n",
    "print(df['education'].unique())"
   ]
  },
  {
   "cell_type": "markdown",
   "id": "52e1a637",
   "metadata": {},
   "source": [
    "Также мы проверили все столбцы с текстовыми данными (при помощи метода unique()). В столбце \"education\" обнаружена разница в регистре написания типа образования. Эта разница устранена, и все данные написаны в строчном режиме. Это позволило избежать неявных дублей. Причина возникновения неявных дублей - скорее всего ошибка ввода. Еще одна возможная причина - сведение данных из разных источников, где типы образования отличались друг от друга в плане использования строчных и прописных букв."
   ]
  },
  {
   "cell_type": "markdown",
   "id": "f7497c6c",
   "metadata": {},
   "source": [
    "### Шаг 2.3. Удаление дубликатов."
   ]
  },
  {
   "cell_type": "markdown",
   "id": "a53133e0",
   "metadata": {},
   "source": [
    "Далее мы посчитаем количество строк-дубликатов, и удалим их из таблицы. Возможные причины пояления дубликатов - сброс датасета в несколько этапов, в этом случае одинаковые строки могут не заменяться, а копироваться. Способы поиска и удаления дубликатов - стандартые методы библиотеки pandas."
   ]
  },
  {
   "cell_type": "code",
   "execution_count": 100,
   "id": "2acbc148",
   "metadata": {},
   "outputs": [
    {
     "name": "stdout",
     "output_type": "stream",
     "text": [
      "Количество строк-дубликатов: 71\n",
      "Количество строк-дубликатов после удаления: 0\n"
     ]
    }
   ],
   "source": [
    "print('Количество строк-дубликатов:', df.duplicated().sum())\n",
    "\n",
    "df = df.drop_duplicates().reset_index(drop=True)\n",
    "\n",
    "print('Количество строк-дубликатов после удаления:', df.duplicated().sum())"
   ]
  },
  {
   "cell_type": "markdown",
   "id": "516f72d2",
   "metadata": {},
   "source": [
    "### Шаг 2.4. Формирование дополнительных датафреймов словарей, декомпозиция исходного датафрейма."
   ]
  },
  {
   "cell_type": "markdown",
   "id": "ba26f9b1",
   "metadata": {},
   "source": [
    "Создадим новые дейтафреймы для данных по образованию и семейному статусу, они послужат \"словарями\", к которым можно будет обращаться по идентификатору. Далее удаляем столбцы 'education' и 'family_status' из исходного дейтафрейма."
   ]
  },
  {
   "cell_type": "code",
   "execution_count": 101,
   "id": "803fb11d",
   "metadata": {},
   "outputs": [
    {
     "data": {
      "text/html": [
       "<div>\n",
       "<style scoped>\n",
       "    .dataframe tbody tr th:only-of-type {\n",
       "        vertical-align: middle;\n",
       "    }\n",
       "\n",
       "    .dataframe tbody tr th {\n",
       "        vertical-align: top;\n",
       "    }\n",
       "\n",
       "    .dataframe thead th {\n",
       "        text-align: right;\n",
       "    }\n",
       "</style>\n",
       "<table border=\"1\" class=\"dataframe\">\n",
       "  <thead>\n",
       "    <tr style=\"text-align: right;\">\n",
       "      <th></th>\n",
       "      <th>education_id</th>\n",
       "      <th>education</th>\n",
       "    </tr>\n",
       "  </thead>\n",
       "  <tbody>\n",
       "    <tr>\n",
       "      <th>0</th>\n",
       "      <td>0</td>\n",
       "      <td>высшее</td>\n",
       "    </tr>\n",
       "    <tr>\n",
       "      <th>1</th>\n",
       "      <td>1</td>\n",
       "      <td>среднее</td>\n",
       "    </tr>\n",
       "    <tr>\n",
       "      <th>2</th>\n",
       "      <td>2</td>\n",
       "      <td>неоконченное высшее</td>\n",
       "    </tr>\n",
       "    <tr>\n",
       "      <th>3</th>\n",
       "      <td>3</td>\n",
       "      <td>начальное</td>\n",
       "    </tr>\n",
       "    <tr>\n",
       "      <th>4</th>\n",
       "      <td>4</td>\n",
       "      <td>ученая степень</td>\n",
       "    </tr>\n",
       "  </tbody>\n",
       "</table>\n",
       "</div>"
      ],
      "text/plain": [
       "   education_id            education\n",
       "0             0               высшее\n",
       "1             1              среднее\n",
       "2             2  неоконченное высшее\n",
       "3             3            начальное\n",
       "4             4       ученая степень"
      ]
     },
     "metadata": {},
     "output_type": "display_data"
    },
    {
     "data": {
      "text/html": [
       "<div>\n",
       "<style scoped>\n",
       "    .dataframe tbody tr th:only-of-type {\n",
       "        vertical-align: middle;\n",
       "    }\n",
       "\n",
       "    .dataframe tbody tr th {\n",
       "        vertical-align: top;\n",
       "    }\n",
       "\n",
       "    .dataframe thead th {\n",
       "        text-align: right;\n",
       "    }\n",
       "</style>\n",
       "<table border=\"1\" class=\"dataframe\">\n",
       "  <thead>\n",
       "    <tr style=\"text-align: right;\">\n",
       "      <th></th>\n",
       "      <th>family_status_id</th>\n",
       "      <th>family_status</th>\n",
       "    </tr>\n",
       "  </thead>\n",
       "  <tbody>\n",
       "    <tr>\n",
       "      <th>0</th>\n",
       "      <td>0</td>\n",
       "      <td>женат / замужем</td>\n",
       "    </tr>\n",
       "    <tr>\n",
       "      <th>1</th>\n",
       "      <td>1</td>\n",
       "      <td>гражданский брак</td>\n",
       "    </tr>\n",
       "    <tr>\n",
       "      <th>2</th>\n",
       "      <td>2</td>\n",
       "      <td>вдовец / вдова</td>\n",
       "    </tr>\n",
       "    <tr>\n",
       "      <th>3</th>\n",
       "      <td>3</td>\n",
       "      <td>в разводе</td>\n",
       "    </tr>\n",
       "    <tr>\n",
       "      <th>4</th>\n",
       "      <td>4</td>\n",
       "      <td>Не женат / не замужем</td>\n",
       "    </tr>\n",
       "  </tbody>\n",
       "</table>\n",
       "</div>"
      ],
      "text/plain": [
       "   family_status_id          family_status\n",
       "0                 0        женат / замужем\n",
       "1                 1       гражданский брак\n",
       "2                 2         вдовец / вдова\n",
       "3                 3              в разводе\n",
       "4                 4  Не женат / не замужем"
      ]
     },
     "metadata": {},
     "output_type": "display_data"
    },
    {
     "data": {
      "text/plain": [
       "Index(['children', 'days_employed', 'dob_years', 'education_id',\n",
       "       'family_status_id', 'gender', 'income_type', 'debt', 'total_income',\n",
       "       'purpose'],\n",
       "      dtype='object')"
      ]
     },
     "execution_count": 101,
     "metadata": {},
     "output_type": "execute_result"
    }
   ],
   "source": [
    "education_dict = df[['education_id', 'education']]\n",
    "education_dict = education_dict.drop_duplicates().reset_index(drop=True)\n",
    "\n",
    "family_status_dict = df[['family_status_id', 'family_status']]\n",
    "family_status_dict = family_status_dict.drop_duplicates().reset_index(drop=True)\n",
    "\n",
    "\n",
    "display(education_dict.head())\n",
    "display(family_status_dict.head())\n",
    "\n",
    "del df['education']\n",
    "del df['family_status']\n",
    "\n",
    "df.columns"
   ]
  },
  {
   "cell_type": "markdown",
   "id": "5ac28362",
   "metadata": {},
   "source": [
    "### Шаг 2.5. Категоризация дохода."
   ]
  },
  {
   "cell_type": "markdown",
   "id": "fb4bf9bf",
   "metadata": {},
   "source": [
    "В основной таблице создадим столбец 'total_income_category', в котором клиентов банка распределили по категориям в зависимости от уровня дохода."
   ]
  },
  {
   "cell_type": "code",
   "execution_count": 102,
   "id": "d5cf19fd",
   "metadata": {},
   "outputs": [
    {
     "data": {
      "text/html": [
       "<div>\n",
       "<style scoped>\n",
       "    .dataframe tbody tr th:only-of-type {\n",
       "        vertical-align: middle;\n",
       "    }\n",
       "\n",
       "    .dataframe tbody tr th {\n",
       "        vertical-align: top;\n",
       "    }\n",
       "\n",
       "    .dataframe thead th {\n",
       "        text-align: right;\n",
       "    }\n",
       "</style>\n",
       "<table border=\"1\" class=\"dataframe\">\n",
       "  <thead>\n",
       "    <tr style=\"text-align: right;\">\n",
       "      <th></th>\n",
       "      <th>children</th>\n",
       "      <th>days_employed</th>\n",
       "      <th>dob_years</th>\n",
       "      <th>education_id</th>\n",
       "      <th>family_status_id</th>\n",
       "      <th>gender</th>\n",
       "      <th>income_type</th>\n",
       "      <th>debt</th>\n",
       "      <th>total_income</th>\n",
       "      <th>purpose</th>\n",
       "      <th>total_income_category</th>\n",
       "    </tr>\n",
       "  </thead>\n",
       "  <tbody>\n",
       "    <tr>\n",
       "      <th>0</th>\n",
       "      <td>1</td>\n",
       "      <td>8437</td>\n",
       "      <td>42</td>\n",
       "      <td>0</td>\n",
       "      <td>0</td>\n",
       "      <td>F</td>\n",
       "      <td>сотрудник</td>\n",
       "      <td>0</td>\n",
       "      <td>253875</td>\n",
       "      <td>покупка жилья</td>\n",
       "      <td>B</td>\n",
       "    </tr>\n",
       "    <tr>\n",
       "      <th>1</th>\n",
       "      <td>1</td>\n",
       "      <td>4024</td>\n",
       "      <td>36</td>\n",
       "      <td>1</td>\n",
       "      <td>0</td>\n",
       "      <td>F</td>\n",
       "      <td>сотрудник</td>\n",
       "      <td>0</td>\n",
       "      <td>112080</td>\n",
       "      <td>приобретение автомобиля</td>\n",
       "      <td>C</td>\n",
       "    </tr>\n",
       "    <tr>\n",
       "      <th>2</th>\n",
       "      <td>0</td>\n",
       "      <td>5623</td>\n",
       "      <td>33</td>\n",
       "      <td>1</td>\n",
       "      <td>0</td>\n",
       "      <td>M</td>\n",
       "      <td>сотрудник</td>\n",
       "      <td>0</td>\n",
       "      <td>145885</td>\n",
       "      <td>покупка жилья</td>\n",
       "      <td>C</td>\n",
       "    </tr>\n",
       "    <tr>\n",
       "      <th>3</th>\n",
       "      <td>3</td>\n",
       "      <td>4124</td>\n",
       "      <td>32</td>\n",
       "      <td>1</td>\n",
       "      <td>0</td>\n",
       "      <td>M</td>\n",
       "      <td>сотрудник</td>\n",
       "      <td>0</td>\n",
       "      <td>267628</td>\n",
       "      <td>дополнительное образование</td>\n",
       "      <td>B</td>\n",
       "    </tr>\n",
       "    <tr>\n",
       "      <th>4</th>\n",
       "      <td>0</td>\n",
       "      <td>3402</td>\n",
       "      <td>53</td>\n",
       "      <td>1</td>\n",
       "      <td>1</td>\n",
       "      <td>F</td>\n",
       "      <td>пенсионер</td>\n",
       "      <td>0</td>\n",
       "      <td>158616</td>\n",
       "      <td>сыграть свадьбу</td>\n",
       "      <td>C</td>\n",
       "    </tr>\n",
       "  </tbody>\n",
       "</table>\n",
       "</div>"
      ],
      "text/plain": [
       "   children  days_employed  dob_years  education_id  family_status_id gender  \\\n",
       "0         1           8437         42             0                 0      F   \n",
       "1         1           4024         36             1                 0      F   \n",
       "2         0           5623         33             1                 0      M   \n",
       "3         3           4124         32             1                 0      M   \n",
       "4         0           3402         53             1                 1      F   \n",
       "\n",
       "  income_type  debt  total_income                     purpose  \\\n",
       "0   сотрудник     0        253875               покупка жилья   \n",
       "1   сотрудник     0        112080     приобретение автомобиля   \n",
       "2   сотрудник     0        145885               покупка жилья   \n",
       "3   сотрудник     0        267628  дополнительное образование   \n",
       "4   пенсионер     0        158616             сыграть свадьбу   \n",
       "\n",
       "  total_income_category  \n",
       "0                     B  \n",
       "1                     C  \n",
       "2                     C  \n",
       "3                     B  \n",
       "4                     C  "
      ]
     },
     "execution_count": 102,
     "metadata": {},
     "output_type": "execute_result"
    }
   ],
   "source": [
    "def total_income_category(income):\n",
    "    if income <= 30000:\n",
    "        return 'E'\n",
    "    if income <= 50000:\n",
    "        return 'D'\n",
    "    if income <= 200000:\n",
    "        return 'C'\n",
    "    if income <= 1000000:\n",
    "        return 'B'\n",
    "    return 'A'\n",
    "\n",
    "df['total_income_category'] = df['total_income'].apply(total_income_category)\n",
    "df.head()"
   ]
  },
  {
   "cell_type": "markdown",
   "id": "90485a7e",
   "metadata": {},
   "source": [
    "### Шаг 2.6. Категоризация целей кредита."
   ]
  },
  {
   "cell_type": "markdown",
   "id": "800310a5",
   "metadata": {},
   "source": [
    "Посмотрим, какие цели преследуют заемщики банка."
   ]
  },
  {
   "cell_type": "code",
   "execution_count": 103,
   "id": "1caa1a7d",
   "metadata": {
    "scrolled": true
   },
   "outputs": [
    {
     "data": {
      "text/plain": [
       "array(['покупка жилья', 'приобретение автомобиля',\n",
       "       'дополнительное образование', 'сыграть свадьбу',\n",
       "       'операции с жильем', 'образование', 'на проведение свадьбы',\n",
       "       'покупка жилья для семьи', 'покупка недвижимости',\n",
       "       'покупка коммерческой недвижимости', 'покупка жилой недвижимости',\n",
       "       'строительство собственной недвижимости', 'недвижимость',\n",
       "       'строительство недвижимости', 'на покупку подержанного автомобиля',\n",
       "       'на покупку своего автомобиля',\n",
       "       'операции с коммерческой недвижимостью',\n",
       "       'строительство жилой недвижимости', 'жилье',\n",
       "       'операции со своей недвижимостью', 'автомобили',\n",
       "       'заняться образованием', 'сделка с подержанным автомобилем',\n",
       "       'получение образования', 'автомобиль', 'свадьба',\n",
       "       'получение дополнительного образования', 'покупка своего жилья',\n",
       "       'операции с недвижимостью', 'получение высшего образования',\n",
       "       'свой автомобиль', 'сделка с автомобилем',\n",
       "       'профильное образование', 'высшее образование',\n",
       "       'покупка жилья для сдачи', 'на покупку автомобиля', 'ремонт жилью',\n",
       "       'заняться высшим образованием'], dtype=object)"
      ]
     },
     "execution_count": 103,
     "metadata": {},
     "output_type": "execute_result"
    }
   ],
   "source": [
    "df['purpose'].unique()"
   ]
  },
  {
   "cell_type": "markdown",
   "id": "0d100184",
   "metadata": {},
   "source": [
    "В основной таблице создадим столбец 'purpose_category', в котором клиентов банка распределили по категориям в зависимости от целей кредитования."
   ]
  },
  {
   "cell_type": "code",
   "execution_count": 104,
   "id": "fe7f7d4d",
   "metadata": {},
   "outputs": [
    {
     "data": {
      "text/html": [
       "<div>\n",
       "<style scoped>\n",
       "    .dataframe tbody tr th:only-of-type {\n",
       "        vertical-align: middle;\n",
       "    }\n",
       "\n",
       "    .dataframe tbody tr th {\n",
       "        vertical-align: top;\n",
       "    }\n",
       "\n",
       "    .dataframe thead th {\n",
       "        text-align: right;\n",
       "    }\n",
       "</style>\n",
       "<table border=\"1\" class=\"dataframe\">\n",
       "  <thead>\n",
       "    <tr style=\"text-align: right;\">\n",
       "      <th></th>\n",
       "      <th>children</th>\n",
       "      <th>days_employed</th>\n",
       "      <th>dob_years</th>\n",
       "      <th>education_id</th>\n",
       "      <th>family_status_id</th>\n",
       "      <th>gender</th>\n",
       "      <th>income_type</th>\n",
       "      <th>debt</th>\n",
       "      <th>total_income</th>\n",
       "      <th>purpose</th>\n",
       "      <th>total_income_category</th>\n",
       "      <th>purpose_category</th>\n",
       "    </tr>\n",
       "  </thead>\n",
       "  <tbody>\n",
       "    <tr>\n",
       "      <th>0</th>\n",
       "      <td>1</td>\n",
       "      <td>8437</td>\n",
       "      <td>42</td>\n",
       "      <td>0</td>\n",
       "      <td>0</td>\n",
       "      <td>F</td>\n",
       "      <td>сотрудник</td>\n",
       "      <td>0</td>\n",
       "      <td>253875</td>\n",
       "      <td>покупка жилья</td>\n",
       "      <td>B</td>\n",
       "      <td>операции с недвижимостью</td>\n",
       "    </tr>\n",
       "    <tr>\n",
       "      <th>1</th>\n",
       "      <td>1</td>\n",
       "      <td>4024</td>\n",
       "      <td>36</td>\n",
       "      <td>1</td>\n",
       "      <td>0</td>\n",
       "      <td>F</td>\n",
       "      <td>сотрудник</td>\n",
       "      <td>0</td>\n",
       "      <td>112080</td>\n",
       "      <td>приобретение автомобиля</td>\n",
       "      <td>C</td>\n",
       "      <td>операции с автомобилем</td>\n",
       "    </tr>\n",
       "    <tr>\n",
       "      <th>2</th>\n",
       "      <td>0</td>\n",
       "      <td>5623</td>\n",
       "      <td>33</td>\n",
       "      <td>1</td>\n",
       "      <td>0</td>\n",
       "      <td>M</td>\n",
       "      <td>сотрудник</td>\n",
       "      <td>0</td>\n",
       "      <td>145885</td>\n",
       "      <td>покупка жилья</td>\n",
       "      <td>C</td>\n",
       "      <td>операции с недвижимостью</td>\n",
       "    </tr>\n",
       "    <tr>\n",
       "      <th>3</th>\n",
       "      <td>3</td>\n",
       "      <td>4124</td>\n",
       "      <td>32</td>\n",
       "      <td>1</td>\n",
       "      <td>0</td>\n",
       "      <td>M</td>\n",
       "      <td>сотрудник</td>\n",
       "      <td>0</td>\n",
       "      <td>267628</td>\n",
       "      <td>дополнительное образование</td>\n",
       "      <td>B</td>\n",
       "      <td>получение образования</td>\n",
       "    </tr>\n",
       "    <tr>\n",
       "      <th>4</th>\n",
       "      <td>0</td>\n",
       "      <td>3402</td>\n",
       "      <td>53</td>\n",
       "      <td>1</td>\n",
       "      <td>1</td>\n",
       "      <td>F</td>\n",
       "      <td>пенсионер</td>\n",
       "      <td>0</td>\n",
       "      <td>158616</td>\n",
       "      <td>сыграть свадьбу</td>\n",
       "      <td>C</td>\n",
       "      <td>проведение свадьбы</td>\n",
       "    </tr>\n",
       "  </tbody>\n",
       "</table>\n",
       "</div>"
      ],
      "text/plain": [
       "   children  days_employed  dob_years  education_id  family_status_id gender  \\\n",
       "0         1           8437         42             0                 0      F   \n",
       "1         1           4024         36             1                 0      F   \n",
       "2         0           5623         33             1                 0      M   \n",
       "3         3           4124         32             1                 0      M   \n",
       "4         0           3402         53             1                 1      F   \n",
       "\n",
       "  income_type  debt  total_income                     purpose  \\\n",
       "0   сотрудник     0        253875               покупка жилья   \n",
       "1   сотрудник     0        112080     приобретение автомобиля   \n",
       "2   сотрудник     0        145885               покупка жилья   \n",
       "3   сотрудник     0        267628  дополнительное образование   \n",
       "4   пенсионер     0        158616             сыграть свадьбу   \n",
       "\n",
       "  total_income_category          purpose_category  \n",
       "0                     B  операции с недвижимостью  \n",
       "1                     C    операции с автомобилем  \n",
       "2                     C  операции с недвижимостью  \n",
       "3                     B     получение образования  \n",
       "4                     C        проведение свадьбы  "
      ]
     },
     "execution_count": 104,
     "metadata": {},
     "output_type": "execute_result"
    }
   ],
   "source": [
    "def purpose_category(purpose):\n",
    "    if 'жиль' in purpose:\n",
    "        return 'операции с недвижимостью'\n",
    "    if 'недв' in purpose:\n",
    "        return 'операции с недвижимостью'\n",
    "    if 'авто' in purpose:\n",
    "        return 'операции с автомобилем'\n",
    "    if 'образ' in purpose:\n",
    "        return 'получение образования'\n",
    "    return 'проведение свадьбы'\n",
    "\n",
    "df['purpose_category'] = df['purpose'].apply(purpose_category)\n",
    "df.head()"
   ]
  },
  {
   "cell_type": "markdown",
   "id": "99024610",
   "metadata": {},
   "source": [
    "### Ответы на вопросы."
   ]
  },
  {
   "cell_type": "markdown",
   "id": "d894a212",
   "metadata": {},
   "source": [
    "Посмотрим, каков процент возврата кредита среди 4-х групп категорий заемщиков: \n",
    "- категории с детьми/без детей\n",
    "- в зависимости от семейного положения\n",
    "- дохода\n",
    "- целей кредита"
   ]
  },
  {
   "cell_type": "markdown",
   "id": "e4f13c48",
   "metadata": {},
   "source": [
    "##### Вопрос 1:"
   ]
  },
  {
   "cell_type": "markdown",
   "id": "c69607c4",
   "metadata": {},
   "source": [
    "Есть ли зависимость между количеством детей и возвратом кредита в срок?"
   ]
  },
  {
   "cell_type": "code",
   "execution_count": 105,
   "id": "604adb11",
   "metadata": {},
   "outputs": [
    {
     "data": {
      "text/html": [
       "<div>\n",
       "<style scoped>\n",
       "    .dataframe tbody tr th:only-of-type {\n",
       "        vertical-align: middle;\n",
       "    }\n",
       "\n",
       "    .dataframe tbody tr th {\n",
       "        vertical-align: top;\n",
       "    }\n",
       "\n",
       "    .dataframe thead th {\n",
       "        text-align: right;\n",
       "    }\n",
       "</style>\n",
       "<table border=\"1\" class=\"dataframe\">\n",
       "  <thead>\n",
       "    <tr style=\"text-align: right;\">\n",
       "      <th>debt</th>\n",
       "      <th>0</th>\n",
       "      <th>1</th>\n",
       "      <th>debt_percentage</th>\n",
       "    </tr>\n",
       "    <tr>\n",
       "      <th>children</th>\n",
       "      <th></th>\n",
       "      <th></th>\n",
       "      <th></th>\n",
       "    </tr>\n",
       "  </thead>\n",
       "  <tbody>\n",
       "    <tr>\n",
       "      <th>0</th>\n",
       "      <td>13028.0</td>\n",
       "      <td>1063.0</td>\n",
       "      <td>7.543822</td>\n",
       "    </tr>\n",
       "    <tr>\n",
       "      <th>1</th>\n",
       "      <td>4410.0</td>\n",
       "      <td>445.0</td>\n",
       "      <td>9.165808</td>\n",
       "    </tr>\n",
       "    <tr>\n",
       "      <th>2</th>\n",
       "      <td>1858.0</td>\n",
       "      <td>194.0</td>\n",
       "      <td>9.454191</td>\n",
       "    </tr>\n",
       "    <tr>\n",
       "      <th>3</th>\n",
       "      <td>303.0</td>\n",
       "      <td>27.0</td>\n",
       "      <td>8.181818</td>\n",
       "    </tr>\n",
       "    <tr>\n",
       "      <th>4</th>\n",
       "      <td>37.0</td>\n",
       "      <td>4.0</td>\n",
       "      <td>9.756098</td>\n",
       "    </tr>\n",
       "    <tr>\n",
       "      <th>5</th>\n",
       "      <td>9.0</td>\n",
       "      <td>NaN</td>\n",
       "      <td>NaN</td>\n",
       "    </tr>\n",
       "    <tr>\n",
       "      <th>20</th>\n",
       "      <td>68.0</td>\n",
       "      <td>8.0</td>\n",
       "      <td>10.526316</td>\n",
       "    </tr>\n",
       "  </tbody>\n",
       "</table>\n",
       "</div>"
      ],
      "text/plain": [
       "debt            0       1  debt_percentage\n",
       "children                                  \n",
       "0         13028.0  1063.0         7.543822\n",
       "1          4410.0   445.0         9.165808\n",
       "2          1858.0   194.0         9.454191\n",
       "3           303.0    27.0         8.181818\n",
       "4            37.0     4.0         9.756098\n",
       "5             9.0     NaN              NaN\n",
       "20           68.0     8.0        10.526316"
      ]
     },
     "execution_count": 105,
     "metadata": {},
     "output_type": "execute_result"
    }
   ],
   "source": [
    "children_pivot = df.pivot_table(index='children', columns='debt', values='days_employed', aggfunc='count')\n",
    "children_pivot['debt_percentage'] = (children_pivot[1]/(children_pivot[1] + children_pivot[0]))*100\n",
    "children_pivot"
   ]
  },
  {
   "cell_type": "markdown",
   "id": "6f249062",
   "metadata": {},
   "source": [
    "##### Вывод 1:"
   ]
  },
  {
   "cell_type": "markdown",
   "id": "1a010312",
   "metadata": {},
   "source": [
    "Судя по распределению процентов возврата кредита, **небольшая закономерность** есть: **бездетные** возвращают кредит в срок чаще всего (и при этом берут кредит намного **чаще** остальных, ок 66% кредиторов - бездетные.) \n",
    "\n",
    "Если же говорить о заемщиках с разным количеством детей, то **прямой зависимости не видно**. Можно уверенно сказать, что чаще проблемы с возвратом у многодетных заемщиков (20 детей), но таких примеров в принципе немного (и то, если предположить, что это не ошибочные данные.) Очень хорошо возвращают заемщики с 5ю детьми, у них 100% возврата вовремя, но таких в абсолютных цифрах еще меньше, чем тех, у кого 20 детей. При этом **небольшие значения** просрочки у заемщиков с 3-мя детьми."
   ]
  },
  {
   "cell_type": "markdown",
   "id": "2e92dfa0",
   "metadata": {},
   "source": [
    "##### Вопрос 2:"
   ]
  },
  {
   "cell_type": "markdown",
   "id": "59576f52",
   "metadata": {},
   "source": [
    "Есть ли зависимость между семейным положением и возвратом кредита в срок?"
   ]
  },
  {
   "cell_type": "code",
   "execution_count": 106,
   "id": "1cc29172",
   "metadata": {
    "scrolled": true
   },
   "outputs": [
    {
     "data": {
      "text/html": [
       "<div>\n",
       "<style scoped>\n",
       "    .dataframe tbody tr th:only-of-type {\n",
       "        vertical-align: middle;\n",
       "    }\n",
       "\n",
       "    .dataframe tbody tr th {\n",
       "        vertical-align: top;\n",
       "    }\n",
       "\n",
       "    .dataframe thead th {\n",
       "        text-align: right;\n",
       "    }\n",
       "</style>\n",
       "<table border=\"1\" class=\"dataframe\">\n",
       "  <thead>\n",
       "    <tr style=\"text-align: right;\">\n",
       "      <th></th>\n",
       "      <th>family_status_id</th>\n",
       "      <th>0</th>\n",
       "      <th>1</th>\n",
       "      <th>debt_percentage</th>\n",
       "      <th>family_status</th>\n",
       "    </tr>\n",
       "  </thead>\n",
       "  <tbody>\n",
       "    <tr>\n",
       "      <th>0</th>\n",
       "      <td>0</td>\n",
       "      <td>11408</td>\n",
       "      <td>931</td>\n",
       "      <td>7.545182</td>\n",
       "      <td>женат / замужем</td>\n",
       "    </tr>\n",
       "    <tr>\n",
       "      <th>1</th>\n",
       "      <td>1</td>\n",
       "      <td>3763</td>\n",
       "      <td>388</td>\n",
       "      <td>9.347145</td>\n",
       "      <td>гражданский брак</td>\n",
       "    </tr>\n",
       "    <tr>\n",
       "      <th>2</th>\n",
       "      <td>2</td>\n",
       "      <td>896</td>\n",
       "      <td>63</td>\n",
       "      <td>6.569343</td>\n",
       "      <td>вдовец / вдова</td>\n",
       "    </tr>\n",
       "    <tr>\n",
       "      <th>3</th>\n",
       "      <td>3</td>\n",
       "      <td>1110</td>\n",
       "      <td>85</td>\n",
       "      <td>7.112971</td>\n",
       "      <td>в разводе</td>\n",
       "    </tr>\n",
       "    <tr>\n",
       "      <th>4</th>\n",
       "      <td>4</td>\n",
       "      <td>2536</td>\n",
       "      <td>274</td>\n",
       "      <td>9.750890</td>\n",
       "      <td>Не женат / не замужем</td>\n",
       "    </tr>\n",
       "  </tbody>\n",
       "</table>\n",
       "</div>"
      ],
      "text/plain": [
       "   family_status_id      0    1  debt_percentage          family_status\n",
       "0                 0  11408  931         7.545182        женат / замужем\n",
       "1                 1   3763  388         9.347145       гражданский брак\n",
       "2                 2    896   63         6.569343         вдовец / вдова\n",
       "3                 3   1110   85         7.112971              в разводе\n",
       "4                 4   2536  274         9.750890  Не женат / не замужем"
      ]
     },
     "execution_count": 106,
     "metadata": {},
     "output_type": "execute_result"
    }
   ],
   "source": [
    "family_status_pivot = df.pivot_table(index='family_status_id', columns='debt', values='days_employed', aggfunc='count')\n",
    "family_status_pivot['debt_percentage'] = (family_status_pivot[1]/(family_status_pivot[1] + family_status_pivot[0]))*100\n",
    "family_status_pivot = family_status_pivot.merge(family_status_dict, on='family_status_id', how='left')\n",
    "family_status_pivot"
   ]
  },
  {
   "cell_type": "markdown",
   "id": "ff41a17f",
   "metadata": {},
   "source": [
    "##### Вывод 2:"
   ]
  },
  {
   "cell_type": "markdown",
   "id": "bdf26cdf",
   "metadata": {},
   "source": [
    "**Меньше** всего задерживают выплату кредита **вдовцы/вдовы** и **разведенные** заемщики (видимо, они более тщательно следят за финансами.) Не замужние/ не женатые чаще других не соблюдают сроки выплат. \n",
    "\n",
    "Так что зависимость все-таки **наблюдается**."
   ]
  },
  {
   "cell_type": "markdown",
   "id": "b6489f91",
   "metadata": {},
   "source": [
    "##### Вопрос 3:"
   ]
  },
  {
   "cell_type": "markdown",
   "id": "e4751869",
   "metadata": {},
   "source": [
    "Есть ли зависимость между уровнем дохода и возвратом кредита в срок?"
   ]
  },
  {
   "cell_type": "code",
   "execution_count": 107,
   "id": "4cdcb276",
   "metadata": {},
   "outputs": [
    {
     "data": {
      "text/html": [
       "<div>\n",
       "<style scoped>\n",
       "    .dataframe tbody tr th:only-of-type {\n",
       "        vertical-align: middle;\n",
       "    }\n",
       "\n",
       "    .dataframe tbody tr th {\n",
       "        vertical-align: top;\n",
       "    }\n",
       "\n",
       "    .dataframe thead th {\n",
       "        text-align: right;\n",
       "    }\n",
       "</style>\n",
       "<table border=\"1\" class=\"dataframe\">\n",
       "  <thead>\n",
       "    <tr style=\"text-align: right;\">\n",
       "      <th>debt</th>\n",
       "      <th>0</th>\n",
       "      <th>1</th>\n",
       "      <th>debt_percentage</th>\n",
       "      <th>total_income_description</th>\n",
       "    </tr>\n",
       "    <tr>\n",
       "      <th>total_income_category</th>\n",
       "      <th></th>\n",
       "      <th></th>\n",
       "      <th></th>\n",
       "      <th></th>\n",
       "    </tr>\n",
       "  </thead>\n",
       "  <tbody>\n",
       "    <tr>\n",
       "      <th>A</th>\n",
       "      <td>23</td>\n",
       "      <td>2</td>\n",
       "      <td>8.000000</td>\n",
       "      <td>Доход от 1 миллиона</td>\n",
       "    </tr>\n",
       "    <tr>\n",
       "      <th>B</th>\n",
       "      <td>4685</td>\n",
       "      <td>356</td>\n",
       "      <td>7.062091</td>\n",
       "      <td>От 200к до 1М</td>\n",
       "    </tr>\n",
       "    <tr>\n",
       "      <th>C</th>\n",
       "      <td>14656</td>\n",
       "      <td>1360</td>\n",
       "      <td>8.491508</td>\n",
       "      <td>От 50к до 200к</td>\n",
       "    </tr>\n",
       "    <tr>\n",
       "      <th>D</th>\n",
       "      <td>329</td>\n",
       "      <td>21</td>\n",
       "      <td>6.000000</td>\n",
       "      <td>От 30к до 50к</td>\n",
       "    </tr>\n",
       "    <tr>\n",
       "      <th>E</th>\n",
       "      <td>20</td>\n",
       "      <td>2</td>\n",
       "      <td>9.090909</td>\n",
       "      <td>Менее 30к</td>\n",
       "    </tr>\n",
       "  </tbody>\n",
       "</table>\n",
       "</div>"
      ],
      "text/plain": [
       "debt                       0     1  debt_percentage total_income_description\n",
       "total_income_category                                                       \n",
       "A                         23     2         8.000000      Доход от 1 миллиона\n",
       "B                       4685   356         7.062091            От 200к до 1М\n",
       "C                      14656  1360         8.491508           От 50к до 200к\n",
       "D                        329    21         6.000000            От 30к до 50к\n",
       "E                         20     2         9.090909                Менее 30к"
      ]
     },
     "execution_count": 107,
     "metadata": {},
     "output_type": "execute_result"
    }
   ],
   "source": [
    "income_pivot = df.pivot_table(index='total_income_category', columns='debt', values='days_employed', aggfunc='count')\n",
    "income_pivot['debt_percentage'] = (income_pivot[1]/(income_pivot[1] + income_pivot[0]))*100\n",
    "income_pivot['total_income_description'] = ['Доход от 1 миллиона', 'От 200к до 1М', 'От 50к до 200к', 'От 30к до 50к', 'Менее 30к']\n",
    "income_pivot"
   ]
  },
  {
   "cell_type": "markdown",
   "id": "ef181e10",
   "metadata": {},
   "source": [
    "##### Вывод 3:"
   ]
  },
  {
   "cell_type": "markdown",
   "id": "1d2206f4",
   "metadata": {},
   "source": [
    "В этой категории самый **большой разброс** процентов невозврата. Чаще всего вовремя расплачиваются заемщики с **доходом 30-50 т.р.** А вот те, кто мало зарабатывают (менее 30 т.р.) чаще задерживают, но таких заемщиков мало, возможно банк неохотно дает кредиты этой группе. Довольно часто **задерживает** возврат самая многочисленная группа заемщиков с доходом в 50-200 т.р. (те, кого в России считают средним классом.) \n",
    "\n",
    "Можем утверждать, что **уровень дохода влияет на вероятность возврата кредита в срок**."
   ]
  },
  {
   "cell_type": "markdown",
   "id": "8d9e5d15",
   "metadata": {},
   "source": [
    "##### Вопрос 4:"
   ]
  },
  {
   "cell_type": "markdown",
   "id": "d8b68270",
   "metadata": {},
   "source": [
    "Как разные цели кредита влияют на его возврат в срок?"
   ]
  },
  {
   "cell_type": "code",
   "execution_count": 108,
   "id": "76a40229",
   "metadata": {},
   "outputs": [
    {
     "data": {
      "text/html": [
       "<div>\n",
       "<style scoped>\n",
       "    .dataframe tbody tr th:only-of-type {\n",
       "        vertical-align: middle;\n",
       "    }\n",
       "\n",
       "    .dataframe tbody tr th {\n",
       "        vertical-align: top;\n",
       "    }\n",
       "\n",
       "    .dataframe thead th {\n",
       "        text-align: right;\n",
       "    }\n",
       "</style>\n",
       "<table border=\"1\" class=\"dataframe\">\n",
       "  <thead>\n",
       "    <tr style=\"text-align: right;\">\n",
       "      <th>debt</th>\n",
       "      <th>0</th>\n",
       "      <th>1</th>\n",
       "      <th>debt_percentage</th>\n",
       "    </tr>\n",
       "    <tr>\n",
       "      <th>purpose_category</th>\n",
       "      <th></th>\n",
       "      <th></th>\n",
       "      <th></th>\n",
       "    </tr>\n",
       "  </thead>\n",
       "  <tbody>\n",
       "    <tr>\n",
       "      <th>операции с автомобилем</th>\n",
       "      <td>3903</td>\n",
       "      <td>403</td>\n",
       "      <td>9.359034</td>\n",
       "    </tr>\n",
       "    <tr>\n",
       "      <th>операции с недвижимостью</th>\n",
       "      <td>10029</td>\n",
       "      <td>782</td>\n",
       "      <td>7.233373</td>\n",
       "    </tr>\n",
       "    <tr>\n",
       "      <th>получение образования</th>\n",
       "      <td>3643</td>\n",
       "      <td>370</td>\n",
       "      <td>9.220035</td>\n",
       "    </tr>\n",
       "    <tr>\n",
       "      <th>проведение свадьбы</th>\n",
       "      <td>2138</td>\n",
       "      <td>186</td>\n",
       "      <td>8.003442</td>\n",
       "    </tr>\n",
       "  </tbody>\n",
       "</table>\n",
       "</div>"
      ],
      "text/plain": [
       "debt                          0    1  debt_percentage\n",
       "purpose_category                                     \n",
       "операции с автомобилем     3903  403         9.359034\n",
       "операции с недвижимостью  10029  782         7.233373\n",
       "получение образования      3643  370         9.220035\n",
       "проведение свадьбы         2138  186         8.003442"
      ]
     },
     "execution_count": 108,
     "metadata": {},
     "output_type": "execute_result"
    }
   ],
   "source": [
    "purpose_pivot = df.pivot_table(index='purpose_category', columns='debt', values='days_employed', aggfunc='count')\n",
    "purpose_pivot['debt_percentage'] = (purpose_pivot[1]/(purpose_pivot[1] + purpose_pivot[0]))*100\n",
    "purpose_pivot"
   ]
  },
  {
   "cell_type": "markdown",
   "id": "0dc7adaf",
   "metadata": {},
   "source": [
    "##### Вывод 4:"
   ]
  },
  {
   "cell_type": "markdown",
   "id": "13a1800a",
   "metadata": {},
   "source": [
    "В случае **операций с недвижимостью** заемщики чаще всего возвращают кредит в срок (хотя сам по себе процент невозврата не самый маленький из всех категорий заемщиков.) А вот те, кто взяли кредиты на покупку автомобиля и получение образования примерно в 10% случаев **задерживали** выплаты. Зависимость, хоть не **небольшая**, но видима."
   ]
  },
  {
   "cell_type": "markdown",
   "id": "9338d250",
   "metadata": {},
   "source": [
    "## Общий вывод:"
   ]
  },
  {
   "cell_type": "markdown",
   "id": "b7d43875",
   "metadata": {},
   "source": [
    "Мы изучили доли возврата/задержки возврата кредитов для разных категорий заёмщиков и обнаружили, что социально-демографические факторы хоть и в разной степени, но влияют на ответственное поведение клиентов банка. \n",
    "\n",
    "Если рискнуть обобщить эти данные, то можно составить портреты рискованного и ответственного заёмщиков. \n",
    "- **задержит выплату**: многодетный (или наоборот с 1-2 детьми) заемщик в гражданском браке с доходом от 50 до 200 т.р., решивший сменить или купить автомобиль. \n",
    "- **вернет вовремя**: бездетный вдовец с доходом 30-50 т.р., решивший обменять или купить недвижимость."
   ]
  }
 ],
 "metadata": {
  "ExecuteTimeLog": [
   {
    "duration": 62,
    "start_time": "2022-05-19T21:33:02.705Z"
   },
   {
    "duration": 560,
    "start_time": "2022-05-19T21:33:38.143Z"
   },
   {
    "duration": 308,
    "start_time": "2022-05-19T21:33:39.788Z"
   },
   {
    "duration": 13,
    "start_time": "2022-05-19T21:34:47.854Z"
   },
   {
    "duration": 19,
    "start_time": "2022-05-19T21:36:14.376Z"
   },
   {
    "duration": 12,
    "start_time": "2022-05-19T21:36:50.844Z"
   },
   {
    "duration": 132,
    "start_time": "2022-05-19T21:37:27.147Z"
   },
   {
    "duration": 14,
    "start_time": "2022-05-19T21:38:19.350Z"
   },
   {
    "duration": 7,
    "start_time": "2022-05-19T21:39:00.247Z"
   },
   {
    "duration": 6,
    "start_time": "2022-05-19T21:39:31.129Z"
   },
   {
    "duration": 26,
    "start_time": "2022-05-19T21:40:59.348Z"
   },
   {
    "duration": 18,
    "start_time": "2022-05-19T21:42:04.991Z"
   },
   {
    "duration": 9,
    "start_time": "2022-05-19T21:42:36.072Z"
   },
   {
    "duration": 13,
    "start_time": "2022-05-19T21:43:07.990Z"
   },
   {
    "duration": 16,
    "start_time": "2022-05-19T21:43:37.031Z"
   },
   {
    "duration": 4,
    "start_time": "2022-05-19T21:44:03.107Z"
   },
   {
    "duration": 8,
    "start_time": "2022-05-19T21:44:30.873Z"
   },
   {
    "duration": 5,
    "start_time": "2022-05-19T21:45:06.982Z"
   },
   {
    "duration": 6,
    "start_time": "2022-05-19T21:45:28.495Z"
   },
   {
    "duration": 13,
    "start_time": "2022-05-19T21:46:38.366Z"
   },
   {
    "duration": 44,
    "start_time": "2022-05-19T21:48:18.174Z"
   },
   {
    "duration": 22,
    "start_time": "2022-05-19T21:48:51.432Z"
   },
   {
    "duration": 17,
    "start_time": "2022-05-19T21:49:29.415Z"
   },
   {
    "duration": 5,
    "start_time": "2022-05-19T21:49:52.965Z"
   },
   {
    "duration": 17,
    "start_time": "2022-05-19T21:50:13.215Z"
   },
   {
    "duration": 20,
    "start_time": "2022-05-19T21:52:04.768Z"
   },
   {
    "duration": 20,
    "start_time": "2022-05-19T21:55:19.748Z"
   },
   {
    "duration": 18,
    "start_time": "2022-05-19T21:57:24.453Z"
   },
   {
    "duration": 21,
    "start_time": "2022-05-19T21:59:46.624Z"
   },
   {
    "duration": 3,
    "start_time": "2022-05-19T22:06:59.102Z"
   },
   {
    "duration": 85,
    "start_time": "2022-05-19T22:06:59.107Z"
   },
   {
    "duration": 9,
    "start_time": "2022-05-19T22:06:59.193Z"
   },
   {
    "duration": 10,
    "start_time": "2022-05-19T22:06:59.204Z"
   },
   {
    "duration": 12,
    "start_time": "2022-05-19T22:06:59.216Z"
   },
   {
    "duration": 16,
    "start_time": "2022-05-19T22:06:59.230Z"
   },
   {
    "duration": 44,
    "start_time": "2022-05-19T22:06:59.248Z"
   },
   {
    "duration": 6,
    "start_time": "2022-05-19T22:06:59.293Z"
   },
   {
    "duration": 7,
    "start_time": "2022-05-19T22:06:59.302Z"
   },
   {
    "duration": 29,
    "start_time": "2022-05-19T22:06:59.310Z"
   },
   {
    "duration": 46,
    "start_time": "2022-05-19T22:06:59.340Z"
   },
   {
    "duration": 7,
    "start_time": "2022-05-19T22:06:59.387Z"
   },
   {
    "duration": 9,
    "start_time": "2022-05-19T22:06:59.396Z"
   },
   {
    "duration": 17,
    "start_time": "2022-05-19T22:06:59.407Z"
   },
   {
    "duration": 4,
    "start_time": "2022-05-19T22:06:59.426Z"
   },
   {
    "duration": 11,
    "start_time": "2022-05-19T22:06:59.431Z"
   },
   {
    "duration": 6,
    "start_time": "2022-05-19T22:06:59.444Z"
   },
   {
    "duration": 36,
    "start_time": "2022-05-19T22:06:59.451Z"
   },
   {
    "duration": 13,
    "start_time": "2022-05-19T22:06:59.489Z"
   },
   {
    "duration": 42,
    "start_time": "2022-05-19T22:06:59.503Z"
   },
   {
    "duration": 48,
    "start_time": "2022-05-19T22:06:59.547Z"
   },
   {
    "duration": 14,
    "start_time": "2022-05-19T22:06:59.597Z"
   },
   {
    "duration": 7,
    "start_time": "2022-05-19T22:06:59.613Z"
   },
   {
    "duration": 16,
    "start_time": "2022-05-19T22:06:59.622Z"
   },
   {
    "duration": 45,
    "start_time": "2022-05-19T22:06:59.639Z"
   },
   {
    "duration": 29,
    "start_time": "2022-05-19T22:06:59.687Z"
   },
   {
    "duration": 18,
    "start_time": "2022-05-19T22:06:59.717Z"
   },
   {
    "duration": 16,
    "start_time": "2022-05-19T22:06:59.737Z"
   },
   {
    "duration": 440,
    "start_time": "2022-05-20T16:28:09.555Z"
   },
   {
    "duration": 89,
    "start_time": "2022-05-20T16:28:09.997Z"
   },
   {
    "duration": 11,
    "start_time": "2022-05-20T16:28:10.087Z"
   },
   {
    "duration": 19,
    "start_time": "2022-05-20T16:28:10.099Z"
   },
   {
    "duration": 12,
    "start_time": "2022-05-20T16:28:10.120Z"
   },
   {
    "duration": 50,
    "start_time": "2022-05-20T16:28:10.133Z"
   },
   {
    "duration": 14,
    "start_time": "2022-05-20T16:28:10.185Z"
   },
   {
    "duration": 9,
    "start_time": "2022-05-20T16:28:10.200Z"
   },
   {
    "duration": 7,
    "start_time": "2022-05-20T16:28:10.210Z"
   },
   {
    "duration": 29,
    "start_time": "2022-05-20T16:28:10.219Z"
   },
   {
    "duration": 45,
    "start_time": "2022-05-20T16:28:10.249Z"
   },
   {
    "duration": 9,
    "start_time": "2022-05-20T16:28:10.295Z"
   },
   {
    "duration": 9,
    "start_time": "2022-05-20T16:28:10.306Z"
   },
   {
    "duration": 16,
    "start_time": "2022-05-20T16:28:10.317Z"
   },
   {
    "duration": 4,
    "start_time": "2022-05-20T16:28:10.334Z"
   },
   {
    "duration": 43,
    "start_time": "2022-05-20T16:28:10.340Z"
   },
   {
    "duration": 6,
    "start_time": "2022-05-20T16:28:10.385Z"
   },
   {
    "duration": 14,
    "start_time": "2022-05-20T16:28:10.392Z"
   },
   {
    "duration": 15,
    "start_time": "2022-05-20T16:28:10.408Z"
   },
   {
    "duration": 75,
    "start_time": "2022-05-20T16:28:10.424Z"
   },
   {
    "duration": 25,
    "start_time": "2022-05-20T16:28:10.501Z"
   },
   {
    "duration": 17,
    "start_time": "2022-05-20T16:28:10.528Z"
   },
   {
    "duration": 10,
    "start_time": "2022-05-20T16:28:10.546Z"
   },
   {
    "duration": 40,
    "start_time": "2022-05-20T16:28:10.558Z"
   },
   {
    "duration": 23,
    "start_time": "2022-05-20T16:28:10.600Z"
   },
   {
    "duration": 20,
    "start_time": "2022-05-20T16:28:10.625Z"
   },
   {
    "duration": 44,
    "start_time": "2022-05-20T16:28:10.647Z"
   },
   {
    "duration": 23,
    "start_time": "2022-05-20T16:28:10.693Z"
   },
   {
    "duration": 31,
    "start_time": "2022-05-20T16:30:46.209Z"
   },
   {
    "duration": 15,
    "start_time": "2022-05-20T16:33:57.706Z"
   }
  ],
  "kernelspec": {
   "display_name": "Python 3 (ipykernel)",
   "language": "python",
   "name": "python3"
  },
  "language_info": {
   "codemirror_mode": {
    "name": "ipython",
    "version": 3
   },
   "file_extension": ".py",
   "mimetype": "text/x-python",
   "name": "python",
   "nbconvert_exporter": "python",
   "pygments_lexer": "ipython3",
   "version": "3.9.7"
  },
  "toc": {
   "base_numbering": 1,
   "nav_menu": {},
   "number_sections": true,
   "sideBar": true,
   "skip_h1_title": true,
   "title_cell": "Table of Contents",
   "title_sidebar": "Contents",
   "toc_cell": false,
   "toc_position": {},
   "toc_section_display": true,
   "toc_window_display": false
  }
 },
 "nbformat": 4,
 "nbformat_minor": 5
}
