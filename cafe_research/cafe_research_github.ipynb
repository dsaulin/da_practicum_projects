{
 "cells": [
  {
   "cell_type": "markdown",
   "id": "4b453ab3",
   "metadata": {},
   "source": [
    "# Исследование рынка общественного питания в Москве"
   ]
  },
  {
   "cell_type": "markdown",
   "id": "568a0d59",
   "metadata": {},
   "source": [
    "Партнеры стартапа обратились к инвесторам с предложением об открытии сети кафе с новой моделью обслуживания в Москве. Перед тем, как обсуждать инвестиции, необходимо исследовать московский рынок общественного питания и подготовить презентацию с рекомендациями по поводу развития проекта. "
   ]
  },
  {
   "cell_type": "markdown",
   "id": "55d59d45",
   "metadata": {},
   "source": [
    "**Цель:**\n",
    "\n",
    "- Исследование рынка общественного питания в Москве;\n",
    "- Создание презентации с рекомендациями по поводу развития проекта;\n",
    "\n",
    "**Задачи:**\n",
    "\n",
    "- Загрузка данных и подготовка их к анализу;\n",
    "- Объединение данных по точкам общепита и информации о районах Москвы;\n",
    "- Анализ данных (изучние видов заведений общепита, их принаджлежности к сетям, распределение посадочных мест по заведениям, географическое расположение заведений, проникновение заведений в различные районы города;\n",
    "- Формулировка общего вывода и рекомендаций о виде заведений, количестве посадочных мест, а также районе расположения. Комметарии по поводу возможности развития сети;\n",
    "- Подготовка презентации исследования для инвесторов в формате pdf;"
   ]
  },
  {
   "cell_type": "markdown",
   "id": "3ee20fdf",
   "metadata": {},
   "source": [
    "**Описание данных:**\n",
    "\n",
    "Файл /datasets/rest_data.csv:\n",
    "\n",
    "    id — идентификатор объекта;\n",
    "    object_name — название объекта общественного питания;\n",
    "    chain — сетевой ресторан;\n",
    "    object_type — тип объекта общественного питания;\n",
    "    address — адрес;\n",
    "    number — количество посадочных мест.\n",
    "\n",
    "Файл /data-4275-2022-09-06_cafe.xlsx (источник данных - https://data.mos.ru/):\n",
    "\n",
    "    ID - Код;\n",
    "    Name - Наименование;\n",
    "    global_id - Идентификатор;\n",
    "    IsNetObject - Является сетевым заведением;\n",
    "    OperatingCompany - Название управляющей компании;\n",
    "    TypeObject - Вид объекта;\n",
    "    AdmArea - Административный округ по адресу;\n",
    "    District - Район;\n",
    "    Address - Адрес;\n",
    "    PublicPhone - Контактный телефон;\n",
    "    SeatsCount - Число посадочных мест;\n",
    "    SocialPrivileges - Показатель социальных льгот;\n",
    "    Longitude_WGS84 - Долгота в WGS-84;\n",
    "    Latitude_WGS84 - Широта в WGS-84;"
   ]
  },
  {
   "cell_type": "markdown",
   "id": "34a3ed87",
   "metadata": {},
   "source": [
    "<a id=\"preprocessing\"> </a>\n",
    "## Загрузка и подготовка данных к анализу "
   ]
  },
  {
   "cell_type": "code",
   "execution_count": 269,
   "id": "b0a146b9",
   "metadata": {},
   "outputs": [],
   "source": [
    "import pandas as pd\n",
    "import numpy as np\n",
    "from matplotlib import pyplot as plt\n",
    "import seaborn as sns"
   ]
  },
  {
   "cell_type": "code",
   "execution_count": 270,
   "id": "1db8dc74",
   "metadata": {},
   "outputs": [],
   "source": [
    "try:\n",
    "    data = pd.read_csv('/datasets/rest_data.csv')\n",
    "\n",
    "except:\n",
    "    data = pd.read_csv('rest_data.csv')"
   ]
  },
  {
   "cell_type": "code",
   "execution_count": 271,
   "id": "caa2ce10",
   "metadata": {},
   "outputs": [],
   "source": [
    "def check(data):\n",
    "    data.info()\n",
    "    display(data.head(5))\n",
    "    print('Количество пропусков:', data.isnull().sum())\n",
    "    print('Количество дубликатов:', data.duplicated().sum())"
   ]
  },
  {
   "cell_type": "code",
   "execution_count": 272,
   "id": "f375c192",
   "metadata": {
    "scrolled": false
   },
   "outputs": [
    {
     "name": "stdout",
     "output_type": "stream",
     "text": [
      "<class 'pandas.core.frame.DataFrame'>\n",
      "RangeIndex: 15366 entries, 0 to 15365\n",
      "Data columns (total 6 columns):\n",
      " #   Column       Non-Null Count  Dtype \n",
      "---  ------       --------------  ----- \n",
      " 0   id           15366 non-null  int64 \n",
      " 1   object_name  15366 non-null  object\n",
      " 2   chain        15366 non-null  object\n",
      " 3   object_type  15366 non-null  object\n",
      " 4   address      15366 non-null  object\n",
      " 5   number       15366 non-null  int64 \n",
      "dtypes: int64(2), object(4)\n",
      "memory usage: 720.4+ KB\n"
     ]
    },
    {
     "data": {
      "text/html": [
       "<div>\n",
       "<style scoped>\n",
       "    .dataframe tbody tr th:only-of-type {\n",
       "        vertical-align: middle;\n",
       "    }\n",
       "\n",
       "    .dataframe tbody tr th {\n",
       "        vertical-align: top;\n",
       "    }\n",
       "\n",
       "    .dataframe thead th {\n",
       "        text-align: right;\n",
       "    }\n",
       "</style>\n",
       "<table border=\"1\" class=\"dataframe\">\n",
       "  <thead>\n",
       "    <tr style=\"text-align: right;\">\n",
       "      <th></th>\n",
       "      <th>id</th>\n",
       "      <th>object_name</th>\n",
       "      <th>chain</th>\n",
       "      <th>object_type</th>\n",
       "      <th>address</th>\n",
       "      <th>number</th>\n",
       "    </tr>\n",
       "  </thead>\n",
       "  <tbody>\n",
       "    <tr>\n",
       "      <th>0</th>\n",
       "      <td>151635</td>\n",
       "      <td>СМЕТАНА</td>\n",
       "      <td>нет</td>\n",
       "      <td>кафе</td>\n",
       "      <td>город Москва, улица Егора Абакумова, дом 9</td>\n",
       "      <td>48</td>\n",
       "    </tr>\n",
       "    <tr>\n",
       "      <th>1</th>\n",
       "      <td>77874</td>\n",
       "      <td>Родник</td>\n",
       "      <td>нет</td>\n",
       "      <td>кафе</td>\n",
       "      <td>город Москва, улица Талалихина, дом 2/1, корпус 1</td>\n",
       "      <td>35</td>\n",
       "    </tr>\n",
       "    <tr>\n",
       "      <th>2</th>\n",
       "      <td>24309</td>\n",
       "      <td>Кафе «Академия»</td>\n",
       "      <td>нет</td>\n",
       "      <td>кафе</td>\n",
       "      <td>город Москва, Абельмановская улица, дом 6</td>\n",
       "      <td>95</td>\n",
       "    </tr>\n",
       "    <tr>\n",
       "      <th>3</th>\n",
       "      <td>21894</td>\n",
       "      <td>ПИЦЦЕТОРИЯ</td>\n",
       "      <td>да</td>\n",
       "      <td>кафе</td>\n",
       "      <td>город Москва, Абрамцевская улица, дом 1</td>\n",
       "      <td>40</td>\n",
       "    </tr>\n",
       "    <tr>\n",
       "      <th>4</th>\n",
       "      <td>119365</td>\n",
       "      <td>Кафе «Вишневая метель»</td>\n",
       "      <td>нет</td>\n",
       "      <td>кафе</td>\n",
       "      <td>город Москва, Абрамцевская улица, дом 9, корпус 1</td>\n",
       "      <td>50</td>\n",
       "    </tr>\n",
       "  </tbody>\n",
       "</table>\n",
       "</div>"
      ],
      "text/plain": [
       "       id             object_name chain object_type  \\\n",
       "0  151635                 СМЕТАНА   нет        кафе   \n",
       "1   77874                  Родник   нет        кафе   \n",
       "2   24309         Кафе «Академия»   нет        кафе   \n",
       "3   21894              ПИЦЦЕТОРИЯ    да        кафе   \n",
       "4  119365  Кафе «Вишневая метель»   нет        кафе   \n",
       "\n",
       "                                             address  number  \n",
       "0         город Москва, улица Егора Абакумова, дом 9      48  \n",
       "1  город Москва, улица Талалихина, дом 2/1, корпус 1      35  \n",
       "2          город Москва, Абельмановская улица, дом 6      95  \n",
       "3            город Москва, Абрамцевская улица, дом 1      40  \n",
       "4  город Москва, Абрамцевская улица, дом 9, корпус 1      50  "
      ]
     },
     "metadata": {},
     "output_type": "display_data"
    },
    {
     "name": "stdout",
     "output_type": "stream",
     "text": [
      "Количество пропусков: id             0\n",
      "object_name    0\n",
      "chain          0\n",
      "object_type    0\n",
      "address        0\n",
      "number         0\n",
      "dtype: int64\n",
      "Количество дубликатов: 0\n"
     ]
    }
   ],
   "source": [
    "check(data)"
   ]
  },
  {
   "cell_type": "code",
   "execution_count": 273,
   "id": "1b9194b1",
   "metadata": {
    "scrolled": true
   },
   "outputs": [
    {
     "data": {
      "text/plain": [
       "2"
      ]
     },
     "execution_count": 273,
     "metadata": {},
     "output_type": "execute_result"
    }
   ],
   "source": [
    "len(data['chain'].unique())"
   ]
  },
  {
   "cell_type": "code",
   "execution_count": 274,
   "id": "c7bd6ffd",
   "metadata": {},
   "outputs": [
    {
     "data": {
      "text/plain": [
       "array(['кафе', 'столовая', 'закусочная',\n",
       "       'предприятие быстрого обслуживания', 'ресторан', 'кафетерий',\n",
       "       'буфет', 'бар', 'магазин (отдел кулинарии)'], dtype=object)"
      ]
     },
     "execution_count": 274,
     "metadata": {},
     "output_type": "execute_result"
    }
   ],
   "source": [
    "data['object_type'].unique()"
   ]
  },
  {
   "cell_type": "code",
   "execution_count": 275,
   "id": "c3f3f5a8",
   "metadata": {
    "scrolled": false
   },
   "outputs": [
    {
     "data": {
      "text/plain": [
       "10393"
      ]
     },
     "execution_count": 275,
     "metadata": {},
     "output_type": "execute_result"
    }
   ],
   "source": [
    "len(data['object_name'].unique())"
   ]
  },
  {
   "cell_type": "code",
   "execution_count": 276,
   "id": "8195a415",
   "metadata": {},
   "outputs": [],
   "source": [
    "data['object_name'] = data['object_name'].str.lower()"
   ]
  },
  {
   "cell_type": "code",
   "execution_count": 277,
   "id": "86ebfbab",
   "metadata": {},
   "outputs": [],
   "source": [
    "data['object_name'] = data['object_name'].str.title()"
   ]
  },
  {
   "cell_type": "code",
   "execution_count": 278,
   "id": "3595fcac",
   "metadata": {
    "scrolled": false
   },
   "outputs": [
    {
     "data": {
      "text/plain": [
       "9924"
      ]
     },
     "execution_count": 278,
     "metadata": {},
     "output_type": "execute_result"
    }
   ],
   "source": [
    "len(data['object_name'].unique())"
   ]
  },
  {
   "cell_type": "code",
   "execution_count": 279,
   "id": "195121f5",
   "metadata": {
    "scrolled": true
   },
   "outputs": [],
   "source": [
    "data['object_name'] = data['object_name'].str.replace(',', '', regex=False)\n",
    "data['object_name'] = data['object_name'].str.replace('.', '', regex=False)"
   ]
  },
  {
   "cell_type": "code",
   "execution_count": 280,
   "id": "9e7075b3",
   "metadata": {
    "scrolled": true
   },
   "outputs": [
    {
     "data": {
      "text/plain": [
       "9913"
      ]
     },
     "execution_count": 280,
     "metadata": {},
     "output_type": "execute_result"
    }
   ],
   "source": [
    "len(data['object_name'].unique())"
   ]
  },
  {
   "cell_type": "code",
   "execution_count": 281,
   "id": "b6387194",
   "metadata": {},
   "outputs": [],
   "source": [
    "data['chain'] = data['chain'] == 'да'"
   ]
  },
  {
   "cell_type": "code",
   "execution_count": 282,
   "id": "b0f217be",
   "metadata": {},
   "outputs": [
    {
     "data": {
      "text/html": [
       "<div>\n",
       "<style scoped>\n",
       "    .dataframe tbody tr th:only-of-type {\n",
       "        vertical-align: middle;\n",
       "    }\n",
       "\n",
       "    .dataframe tbody tr th {\n",
       "        vertical-align: top;\n",
       "    }\n",
       "\n",
       "    .dataframe thead th {\n",
       "        text-align: right;\n",
       "    }\n",
       "</style>\n",
       "<table border=\"1\" class=\"dataframe\">\n",
       "  <thead>\n",
       "    <tr style=\"text-align: right;\">\n",
       "      <th></th>\n",
       "      <th>id</th>\n",
       "      <th>object_name</th>\n",
       "      <th>chain</th>\n",
       "      <th>object_type</th>\n",
       "      <th>address</th>\n",
       "      <th>number</th>\n",
       "    </tr>\n",
       "  </thead>\n",
       "  <tbody>\n",
       "    <tr>\n",
       "      <th>0</th>\n",
       "      <td>151635</td>\n",
       "      <td>Сметана</td>\n",
       "      <td>False</td>\n",
       "      <td>кафе</td>\n",
       "      <td>город Москва, улица Егора Абакумова, дом 9</td>\n",
       "      <td>48</td>\n",
       "    </tr>\n",
       "    <tr>\n",
       "      <th>1</th>\n",
       "      <td>77874</td>\n",
       "      <td>Родник</td>\n",
       "      <td>False</td>\n",
       "      <td>кафе</td>\n",
       "      <td>город Москва, улица Талалихина, дом 2/1, корпус 1</td>\n",
       "      <td>35</td>\n",
       "    </tr>\n",
       "    <tr>\n",
       "      <th>2</th>\n",
       "      <td>24309</td>\n",
       "      <td>Кафе «Академия»</td>\n",
       "      <td>False</td>\n",
       "      <td>кафе</td>\n",
       "      <td>город Москва, Абельмановская улица, дом 6</td>\n",
       "      <td>95</td>\n",
       "    </tr>\n",
       "    <tr>\n",
       "      <th>3</th>\n",
       "      <td>21894</td>\n",
       "      <td>Пиццетория</td>\n",
       "      <td>True</td>\n",
       "      <td>кафе</td>\n",
       "      <td>город Москва, Абрамцевская улица, дом 1</td>\n",
       "      <td>40</td>\n",
       "    </tr>\n",
       "    <tr>\n",
       "      <th>4</th>\n",
       "      <td>119365</td>\n",
       "      <td>Кафе «Вишневая Метель»</td>\n",
       "      <td>False</td>\n",
       "      <td>кафе</td>\n",
       "      <td>город Москва, Абрамцевская улица, дом 9, корпус 1</td>\n",
       "      <td>50</td>\n",
       "    </tr>\n",
       "  </tbody>\n",
       "</table>\n",
       "</div>"
      ],
      "text/plain": [
       "       id             object_name  chain object_type  \\\n",
       "0  151635                 Сметана  False        кафе   \n",
       "1   77874                  Родник  False        кафе   \n",
       "2   24309         Кафе «Академия»  False        кафе   \n",
       "3   21894              Пиццетория   True        кафе   \n",
       "4  119365  Кафе «Вишневая Метель»  False        кафе   \n",
       "\n",
       "                                             address  number  \n",
       "0         город Москва, улица Егора Абакумова, дом 9      48  \n",
       "1  город Москва, улица Талалихина, дом 2/1, корпус 1      35  \n",
       "2          город Москва, Абельмановская улица, дом 6      95  \n",
       "3            город Москва, Абрамцевская улица, дом 1      40  \n",
       "4  город Москва, Абрамцевская улица, дом 9, корпус 1      50  "
      ]
     },
     "execution_count": 282,
     "metadata": {},
     "output_type": "execute_result"
    }
   ],
   "source": [
    "data.head(5)"
   ]
  },
  {
   "cell_type": "code",
   "execution_count": 283,
   "id": "eb957207",
   "metadata": {},
   "outputs": [],
   "source": [
    "del data['id']"
   ]
  },
  {
   "cell_type": "code",
   "execution_count": 284,
   "id": "0571d3e2",
   "metadata": {
    "scrolled": false
   },
   "outputs": [
    {
     "data": {
      "text/plain": [
       "85"
      ]
     },
     "execution_count": 284,
     "metadata": {},
     "output_type": "execute_result"
    }
   ],
   "source": [
    "data.duplicated().sum()"
   ]
  },
  {
   "cell_type": "code",
   "execution_count": 285,
   "id": "97c07da6",
   "metadata": {},
   "outputs": [],
   "source": [
    "data = data.drop_duplicates().reset_index()"
   ]
  },
  {
   "cell_type": "code",
   "execution_count": 286,
   "id": "dbc4d1db",
   "metadata": {},
   "outputs": [],
   "source": [
    "data = data.reset_index(drop=True)"
   ]
  },
  {
   "cell_type": "code",
   "execution_count": 287,
   "id": "5d0329c7",
   "metadata": {},
   "outputs": [
    {
     "data": {
      "text/html": [
       "<div>\n",
       "<style scoped>\n",
       "    .dataframe tbody tr th:only-of-type {\n",
       "        vertical-align: middle;\n",
       "    }\n",
       "\n",
       "    .dataframe tbody tr th {\n",
       "        vertical-align: top;\n",
       "    }\n",
       "\n",
       "    .dataframe thead th {\n",
       "        text-align: right;\n",
       "    }\n",
       "</style>\n",
       "<table border=\"1\" class=\"dataframe\">\n",
       "  <thead>\n",
       "    <tr style=\"text-align: right;\">\n",
       "      <th></th>\n",
       "      <th>id</th>\n",
       "      <th>object_name</th>\n",
       "      <th>chain</th>\n",
       "      <th>object_type</th>\n",
       "      <th>address</th>\n",
       "      <th>number</th>\n",
       "    </tr>\n",
       "  </thead>\n",
       "  <tbody>\n",
       "    <tr>\n",
       "      <th>0</th>\n",
       "      <td>0</td>\n",
       "      <td>Сметана</td>\n",
       "      <td>False</td>\n",
       "      <td>кафе</td>\n",
       "      <td>город Москва, улица Егора Абакумова, дом 9</td>\n",
       "      <td>48</td>\n",
       "    </tr>\n",
       "    <tr>\n",
       "      <th>1</th>\n",
       "      <td>1</td>\n",
       "      <td>Родник</td>\n",
       "      <td>False</td>\n",
       "      <td>кафе</td>\n",
       "      <td>город Москва, улица Талалихина, дом 2/1, корпус 1</td>\n",
       "      <td>35</td>\n",
       "    </tr>\n",
       "    <tr>\n",
       "      <th>2</th>\n",
       "      <td>2</td>\n",
       "      <td>Кафе «Академия»</td>\n",
       "      <td>False</td>\n",
       "      <td>кафе</td>\n",
       "      <td>город Москва, Абельмановская улица, дом 6</td>\n",
       "      <td>95</td>\n",
       "    </tr>\n",
       "    <tr>\n",
       "      <th>3</th>\n",
       "      <td>3</td>\n",
       "      <td>Пиццетория</td>\n",
       "      <td>True</td>\n",
       "      <td>кафе</td>\n",
       "      <td>город Москва, Абрамцевская улица, дом 1</td>\n",
       "      <td>40</td>\n",
       "    </tr>\n",
       "    <tr>\n",
       "      <th>4</th>\n",
       "      <td>4</td>\n",
       "      <td>Кафе «Вишневая Метель»</td>\n",
       "      <td>False</td>\n",
       "      <td>кафе</td>\n",
       "      <td>город Москва, Абрамцевская улица, дом 9, корпус 1</td>\n",
       "      <td>50</td>\n",
       "    </tr>\n",
       "  </tbody>\n",
       "</table>\n",
       "</div>"
      ],
      "text/plain": [
       "   id             object_name  chain object_type  \\\n",
       "0   0                 Сметана  False        кафе   \n",
       "1   1                  Родник  False        кафе   \n",
       "2   2         Кафе «Академия»  False        кафе   \n",
       "3   3              Пиццетория   True        кафе   \n",
       "4   4  Кафе «Вишневая Метель»  False        кафе   \n",
       "\n",
       "                                             address  number  \n",
       "0         город Москва, улица Егора Абакумова, дом 9      48  \n",
       "1  город Москва, улица Талалихина, дом 2/1, корпус 1      35  \n",
       "2          город Москва, Абельмановская улица, дом 6      95  \n",
       "3            город Москва, Абрамцевская улица, дом 1      40  \n",
       "4  город Москва, Абрамцевская улица, дом 9, корпус 1      50  "
      ]
     },
     "execution_count": 287,
     "metadata": {},
     "output_type": "execute_result"
    }
   ],
   "source": [
    "data = data.rename(columns={'index': 'id'})\n",
    "data.head()"
   ]
  },
  {
   "cell_type": "markdown",
   "id": "d7de7d0f",
   "metadata": {},
   "source": [
    "Результат загрузки и изучения данных:\n",
    "- Пропусков;\n",
    "- Устранили разницу в написании названий объектов, из-за чего снизили количество уникальных (привели к одному регистру символы, убрали точки и запятые из названий);\n",
    "- Принадлежность к сетям перевели в булевы значения;\n",
    "- После удаления столбца с id обнаружили 85 дублей, удалили их.\n"
   ]
  },
  {
   "cell_type": "markdown",
   "id": "c1b92a6a",
   "metadata": {},
   "source": [
    "Импортируем данные о заведениях общепита Москвы, где содержится информация о районах, где расположены кафе и рестораны."
   ]
  },
  {
   "cell_type": "code",
   "execution_count": 288,
   "id": "15a3e0a6",
   "metadata": {
    "scrolled": true
   },
   "outputs": [
    {
     "data": {
      "text/html": [
       "<div>\n",
       "<style scoped>\n",
       "    .dataframe tbody tr th:only-of-type {\n",
       "        vertical-align: middle;\n",
       "    }\n",
       "\n",
       "    .dataframe tbody tr th {\n",
       "        vertical-align: top;\n",
       "    }\n",
       "\n",
       "    .dataframe thead th {\n",
       "        text-align: right;\n",
       "    }\n",
       "</style>\n",
       "<table border=\"1\" class=\"dataframe\">\n",
       "  <thead>\n",
       "    <tr style=\"text-align: right;\">\n",
       "      <th></th>\n",
       "      <th>id</th>\n",
       "      <th>name</th>\n",
       "      <th>global_id</th>\n",
       "      <th>is_net_object</th>\n",
       "      <th>operating_company</th>\n",
       "      <th>type_object</th>\n",
       "      <th>adm_area</th>\n",
       "      <th>district</th>\n",
       "      <th>address</th>\n",
       "      <th>public_phone</th>\n",
       "      <th>seats_count</th>\n",
       "      <th>social_privileges</th>\n",
       "      <th>longitude_WGS84</th>\n",
       "      <th>latitude_WGS84</th>\n",
       "      <th>geodata_center</th>\n",
       "      <th>geoarea</th>\n",
       "    </tr>\n",
       "  </thead>\n",
       "  <tbody>\n",
       "    <tr>\n",
       "      <th>0</th>\n",
       "      <td>Код</td>\n",
       "      <td>Наименование</td>\n",
       "      <td>global_id</td>\n",
       "      <td>Является сетевым</td>\n",
       "      <td>Название управляющей компании</td>\n",
       "      <td>Вид объекта</td>\n",
       "      <td>Административный округ по адресу</td>\n",
       "      <td>Район</td>\n",
       "      <td>Адрес</td>\n",
       "      <td>Контактный телефон</td>\n",
       "      <td>Число посадочных мест</td>\n",
       "      <td>Показатель социальных льгот</td>\n",
       "      <td>Долгота в WGS-84</td>\n",
       "      <td>Широта в WGS-84</td>\n",
       "      <td>geodata_center</td>\n",
       "      <td>geoarea</td>\n",
       "    </tr>\n",
       "    <tr>\n",
       "      <th>1</th>\n",
       "      <td>00151635</td>\n",
       "      <td>СМЕТАНА</td>\n",
       "      <td>637376221</td>\n",
       "      <td>нет</td>\n",
       "      <td>NaN</td>\n",
       "      <td>кафе</td>\n",
       "      <td>Северо-Восточный административный округ</td>\n",
       "      <td>Ярославский район</td>\n",
       "      <td>город Москва, улица Егора Абакумова, дом 9</td>\n",
       "      <td>PublicPhone:(499) 183-14-10\\n\\n</td>\n",
       "      <td>48</td>\n",
       "      <td>нет</td>\n",
       "      <td>37.7145650004360390</td>\n",
       "      <td>55.8790015313033730</td>\n",
       "      <td>NaN</td>\n",
       "      <td>NaN</td>\n",
       "    </tr>\n",
       "    <tr>\n",
       "      <th>2</th>\n",
       "      <td>000077874</td>\n",
       "      <td>Родник</td>\n",
       "      <td>637376331</td>\n",
       "      <td>нет</td>\n",
       "      <td>NaN</td>\n",
       "      <td>кафе</td>\n",
       "      <td>Центральный административный округ</td>\n",
       "      <td>Таганский район</td>\n",
       "      <td>город Москва, улица Талалихина, дом 2/1, корпус 1</td>\n",
       "      <td>PublicPhone:(495) 676-55-35\\n\\n</td>\n",
       "      <td>35</td>\n",
       "      <td>нет</td>\n",
       "      <td>37.6733061300344000</td>\n",
       "      <td>55.7382386551547000</td>\n",
       "      <td>NaN</td>\n",
       "      <td>NaN</td>\n",
       "    </tr>\n",
       "    <tr>\n",
       "      <th>3</th>\n",
       "      <td>000024309</td>\n",
       "      <td>Кафе «Академия»</td>\n",
       "      <td>637376349</td>\n",
       "      <td>нет</td>\n",
       "      <td>NaN</td>\n",
       "      <td>ресторан</td>\n",
       "      <td>Центральный административный округ</td>\n",
       "      <td>Таганский район</td>\n",
       "      <td>Российская Федерация, город Москва, внутригоро...</td>\n",
       "      <td>PublicPhone:(495) 662-30-10\\n\\n</td>\n",
       "      <td>95</td>\n",
       "      <td>нет</td>\n",
       "      <td>37.6696475969381000</td>\n",
       "      <td>55.7355114718314000</td>\n",
       "      <td>NaN</td>\n",
       "      <td>NaN</td>\n",
       "    </tr>\n",
       "    <tr>\n",
       "      <th>4</th>\n",
       "      <td>000027429</td>\n",
       "      <td>ГБОУ «Школа № 1430 имени Героя Социалистическо...</td>\n",
       "      <td>637376480</td>\n",
       "      <td>нет</td>\n",
       "      <td>NaN</td>\n",
       "      <td>столовая</td>\n",
       "      <td>Северо-Восточный административный округ</td>\n",
       "      <td>район Лианозово</td>\n",
       "      <td>город Москва, Угличская улица, дом 17</td>\n",
       "      <td>PublicPhone:(499) 908-06-15\\n\\n</td>\n",
       "      <td>240</td>\n",
       "      <td>нет</td>\n",
       "      <td>37.5669400000000020</td>\n",
       "      <td>55.9040188006692200</td>\n",
       "      <td>NaN</td>\n",
       "      <td>NaN</td>\n",
       "    </tr>\n",
       "  </tbody>\n",
       "</table>\n",
       "</div>"
      ],
      "text/plain": [
       "          id                                               name  global_id  \\\n",
       "0        Код                                       Наименование  global_id   \n",
       "1   00151635                                            СМЕТАНА  637376221   \n",
       "2  000077874                                             Родник  637376331   \n",
       "3  000024309                                    Кафе «Академия»  637376349   \n",
       "4  000027429  ГБОУ «Школа № 1430 имени Героя Социалистическо...  637376480   \n",
       "\n",
       "      is_net_object              operating_company  type_object  \\\n",
       "0  Является сетевым  Название управляющей компании  Вид объекта   \n",
       "1               нет                            NaN         кафе   \n",
       "2               нет                            NaN         кафе   \n",
       "3               нет                            NaN     ресторан   \n",
       "4               нет                            NaN     столовая   \n",
       "\n",
       "                                  adm_area           district  \\\n",
       "0         Административный округ по адресу              Район   \n",
       "1  Северо-Восточный административный округ  Ярославский район   \n",
       "2       Центральный административный округ    Таганский район   \n",
       "3       Центральный административный округ    Таганский район   \n",
       "4  Северо-Восточный административный округ    район Лианозово   \n",
       "\n",
       "                                             address  \\\n",
       "0                                              Адрес   \n",
       "1         город Москва, улица Егора Абакумова, дом 9   \n",
       "2  город Москва, улица Талалихина, дом 2/1, корпус 1   \n",
       "3  Российская Федерация, город Москва, внутригоро...   \n",
       "4              город Москва, Угличская улица, дом 17   \n",
       "\n",
       "                      public_phone            seats_count  \\\n",
       "0               Контактный телефон  Число посадочных мест   \n",
       "1  PublicPhone:(499) 183-14-10\\n\\n                     48   \n",
       "2  PublicPhone:(495) 676-55-35\\n\\n                     35   \n",
       "3  PublicPhone:(495) 662-30-10\\n\\n                     95   \n",
       "4  PublicPhone:(499) 908-06-15\\n\\n                    240   \n",
       "\n",
       "             social_privileges      longitude_WGS84       latitude_WGS84  \\\n",
       "0  Показатель социальных льгот     Долгота в WGS-84      Широта в WGS-84   \n",
       "1                          нет  37.7145650004360390  55.8790015313033730   \n",
       "2                          нет  37.6733061300344000  55.7382386551547000   \n",
       "3                          нет  37.6696475969381000  55.7355114718314000   \n",
       "4                          нет  37.5669400000000020  55.9040188006692200   \n",
       "\n",
       "   geodata_center  geoarea  \n",
       "0  geodata_center  geoarea  \n",
       "1             NaN      NaN  \n",
       "2             NaN      NaN  \n",
       "3             NaN      NaN  \n",
       "4             NaN      NaN  "
      ]
     },
     "execution_count": 288,
     "metadata": {},
     "output_type": "execute_result"
    }
   ],
   "source": [
    "from io import BytesIO\n",
    "import requests\n",
    "spreadsheet_id = '1sKkP9PAmlWbcw7bZMvCNlrXnu6iGMEbWv-Kn53Qfz_o'\n",
    "file_name = 'https://docs.google.com/spreadsheets/d/{}/export?format=csv'.format(spreadsheet_id)\n",
    "r = requests.get(file_name)\n",
    "data_moscow = pd.read_csv(BytesIO(r.content))\n",
    "data_moscow = data_moscow.rename(\n",
    "    columns={'Address':'address',\n",
    "             'ID':'id',\n",
    "             'Name':'name',\n",
    "             'IsNetObject':'is_net_object',\n",
    "             'OperatingCompany':'operating_company',\n",
    "             'TypeObject':'type_object',\n",
    "             'AdmArea':'adm_area',\n",
    "             'District':'district',\n",
    "             'PublicPhone':'public_phone',\n",
    "             'SeatsCount':'seats_count',\n",
    "             'SocialPrivileges':'social_privileges',\n",
    "             'Longitude_WGS84':'longitude_WGS84',\n",
    "             'Latitude_WGS84':'latitude_WGS84'\n",
    "            }\n",
    ")\n",
    "data_moscow.head(5)"
   ]
  },
  {
   "cell_type": "code",
   "execution_count": 289,
   "id": "74e96b2e",
   "metadata": {
    "scrolled": true
   },
   "outputs": [
    {
     "name": "stdout",
     "output_type": "stream",
     "text": [
      "<class 'pandas.core.frame.DataFrame'>\n",
      "RangeIndex: 19733 entries, 0 to 19732\n",
      "Data columns (total 16 columns):\n",
      " #   Column             Non-Null Count  Dtype \n",
      "---  ------             --------------  ----- \n",
      " 0   id                 19733 non-null  object\n",
      " 1   name               19733 non-null  object\n",
      " 2   global_id          19733 non-null  object\n",
      " 3   is_net_object      19733 non-null  object\n",
      " 4   operating_company  3585 non-null   object\n",
      " 5   type_object        19733 non-null  object\n",
      " 6   adm_area           19733 non-null  object\n",
      " 7   district           19733 non-null  object\n",
      " 8   address            19733 non-null  object\n",
      " 9   public_phone       18782 non-null  object\n",
      " 10  seats_count        19733 non-null  object\n",
      " 11  social_privileges  19733 non-null  object\n",
      " 12  longitude_WGS84    19733 non-null  object\n",
      " 13  latitude_WGS84     19733 non-null  object\n",
      " 14  geodata_center     1004 non-null   object\n",
      " 15  geoarea            1 non-null      object\n",
      "dtypes: object(16)\n",
      "memory usage: 2.4+ MB\n"
     ]
    }
   ],
   "source": [
    "data_moscow.info()"
   ]
  },
  {
   "cell_type": "markdown",
   "id": "351567f4",
   "metadata": {},
   "source": [
    "Интересующие нас данные (адреса, названия заведений и районы) присутствуют в полной мере, без пропусков."
   ]
  },
  {
   "cell_type": "markdown",
   "id": "31155302",
   "metadata": {},
   "source": [
    "## Анализ данных"
   ]
  },
  {
   "cell_type": "markdown",
   "id": "5ff8f843",
   "metadata": {},
   "source": [
    "Посмотрим распределение заведений по типам объектов общественного питания."
   ]
  },
  {
   "cell_type": "code",
   "execution_count": 290,
   "id": "b7030f38",
   "metadata": {},
   "outputs": [],
   "source": [
    "object_type_df = (\n",
    "    data.groupby('object_type', as_index=False)\n",
    "    .agg({'id': 'count'})\n",
    "    .sort_values(by='id', ascending=False)\n",
    ")\n",
    "object_type_df.columns = ['Тип объекта общественного питания', 'Количество']\n"
   ]
  },
  {
   "cell_type": "code",
   "execution_count": 291,
   "id": "0b8125cb",
   "metadata": {},
   "outputs": [
    {
     "data": {
      "text/html": [
       "<div>\n",
       "<style scoped>\n",
       "    .dataframe tbody tr th:only-of-type {\n",
       "        vertical-align: middle;\n",
       "    }\n",
       "\n",
       "    .dataframe tbody tr th {\n",
       "        vertical-align: top;\n",
       "    }\n",
       "\n",
       "    .dataframe thead th {\n",
       "        text-align: right;\n",
       "    }\n",
       "</style>\n",
       "<table border=\"1\" class=\"dataframe\">\n",
       "  <thead>\n",
       "    <tr style=\"text-align: right;\">\n",
       "      <th></th>\n",
       "      <th>Тип объекта общественного питания</th>\n",
       "      <th>Количество</th>\n",
       "      <th>ratio</th>\n",
       "    </tr>\n",
       "  </thead>\n",
       "  <tbody>\n",
       "    <tr>\n",
       "      <th>3</th>\n",
       "      <td>кафе</td>\n",
       "      <td>6071</td>\n",
       "      <td>39.729075</td>\n",
       "    </tr>\n",
       "    <tr>\n",
       "      <th>8</th>\n",
       "      <td>столовая</td>\n",
       "      <td>2584</td>\n",
       "      <td>16.909888</td>\n",
       "    </tr>\n",
       "    <tr>\n",
       "      <th>7</th>\n",
       "      <td>ресторан</td>\n",
       "      <td>2282</td>\n",
       "      <td>14.933578</td>\n",
       "    </tr>\n",
       "    <tr>\n",
       "      <th>6</th>\n",
       "      <td>предприятие быстрого обслуживания</td>\n",
       "      <td>1897</td>\n",
       "      <td>12.414109</td>\n",
       "    </tr>\n",
       "    <tr>\n",
       "      <th>0</th>\n",
       "      <td>бар</td>\n",
       "      <td>855</td>\n",
       "      <td>5.595184</td>\n",
       "    </tr>\n",
       "    <tr>\n",
       "      <th>1</th>\n",
       "      <td>буфет</td>\n",
       "      <td>576</td>\n",
       "      <td>3.769387</td>\n",
       "    </tr>\n",
       "    <tr>\n",
       "      <th>4</th>\n",
       "      <td>кафетерий</td>\n",
       "      <td>395</td>\n",
       "      <td>2.584909</td>\n",
       "    </tr>\n",
       "    <tr>\n",
       "      <th>2</th>\n",
       "      <td>закусочная</td>\n",
       "      <td>348</td>\n",
       "      <td>2.277338</td>\n",
       "    </tr>\n",
       "    <tr>\n",
       "      <th>5</th>\n",
       "      <td>магазин (отдел кулинарии)</td>\n",
       "      <td>273</td>\n",
       "      <td>1.786532</td>\n",
       "    </tr>\n",
       "  </tbody>\n",
       "</table>\n",
       "</div>"
      ],
      "text/plain": [
       "   Тип объекта общественного питания  Количество      ratio\n",
       "3                               кафе        6071  39.729075\n",
       "8                           столовая        2584  16.909888\n",
       "7                           ресторан        2282  14.933578\n",
       "6  предприятие быстрого обслуживания        1897  12.414109\n",
       "0                                бар         855   5.595184\n",
       "1                              буфет         576   3.769387\n",
       "4                          кафетерий         395   2.584909\n",
       "2                         закусочная         348   2.277338\n",
       "5          магазин (отдел кулинарии)         273   1.786532"
      ]
     },
     "execution_count": 291,
     "metadata": {},
     "output_type": "execute_result"
    }
   ],
   "source": [
    "object_type_df['ratio'] = (object_type_df['Количество'] / object_type_df['Количество'].sum())*100\n",
    "object_type_df"
   ]
  },
  {
   "cell_type": "code",
   "execution_count": 292,
   "id": "b7557a44",
   "metadata": {
    "scrolled": false
   },
   "outputs": [
    {
     "data": {
      "image/png": "[encoded data removed]",
      "text/plain": [
       "<Figure size 1500x750 with 1 Axes>"
      ]
     },
     "metadata": {
      "needs_background": "light"
     },
     "output_type": "display_data"
    }
   ],
   "source": [
    "plt.figure(figsize=(10, 5), dpi=150)\n",
    "sns.barplot(x='Количество', y='Тип объекта общественного питания', data=object_type_df, color='#99ccdd')\n",
    "plt.title('График соотношения видов объектов общественного питания по количеству')\n",
    "plt.show()"
   ]
  },
  {
   "cell_type": "markdown",
   "id": "07c12bea",
   "metadata": {},
   "source": [
    "Самый распространенный тип заведений - кафе (39% от общего количества объектов), далее группа из 3-х видов - столовые, рестораны и предприятия быстрого обслуживания (в диапазоне от 12 до почти 17%). И третья группа - бары, буфеты, кафетерии, закусочные и отделы кулинарии (примерно от 2 до 6% на каждый вид). "
   ]
  },
  {
   "cell_type": "markdown",
   "id": "86971842",
   "metadata": {},
   "source": [
    "Посмотрим принадлежность заведений к сетям. "
   ]
  },
  {
   "cell_type": "code",
   "execution_count": 293,
   "id": "e373dac9",
   "metadata": {
    "scrolled": true
   },
   "outputs": [
    {
     "data": {
      "text/html": [
       "<div>\n",
       "<style scoped>\n",
       "    .dataframe tbody tr th:only-of-type {\n",
       "        vertical-align: middle;\n",
       "    }\n",
       "\n",
       "    .dataframe tbody tr th {\n",
       "        vertical-align: top;\n",
       "    }\n",
       "\n",
       "    .dataframe thead th {\n",
       "        text-align: right;\n",
       "    }\n",
       "</style>\n",
       "<table border=\"1\" class=\"dataframe\">\n",
       "  <thead>\n",
       "    <tr style=\"text-align: right;\">\n",
       "      <th></th>\n",
       "      <th>Принадлежность к сети</th>\n",
       "      <th>Количество</th>\n",
       "      <th>ratio</th>\n",
       "    </tr>\n",
       "  </thead>\n",
       "  <tbody>\n",
       "    <tr>\n",
       "      <th>0</th>\n",
       "      <td>False</td>\n",
       "      <td>12317</td>\n",
       "      <td>80.603364</td>\n",
       "    </tr>\n",
       "    <tr>\n",
       "      <th>1</th>\n",
       "      <td>True</td>\n",
       "      <td>2964</td>\n",
       "      <td>19.396636</td>\n",
       "    </tr>\n",
       "  </tbody>\n",
       "</table>\n",
       "</div>"
      ],
      "text/plain": [
       "   Принадлежность к сети  Количество      ratio\n",
       "0                  False       12317  80.603364\n",
       "1                   True        2964  19.396636"
      ]
     },
     "execution_count": 293,
     "metadata": {},
     "output_type": "execute_result"
    }
   ],
   "source": [
    "chain_type_df = (\n",
    "    data.groupby('chain', as_index=False)\n",
    "    .agg({'id': 'count'})\n",
    "    .sort_values(by='id', ascending=False)\n",
    ")\n",
    "chain_type_df.columns = ['Принадлежность к сети', 'Количество']\n",
    "chain_type_df['ratio'] = (chain_type_df['Количество'] / chain_type_df['Количество'].sum())*100\n",
    "chain_type_df"
   ]
  },
  {
   "cell_type": "code",
   "execution_count": 294,
   "id": "0b235bdf",
   "metadata": {
    "scrolled": true
   },
   "outputs": [
    {
     "data": {
      "image/png": "[encoded data removed]",
      "text/plain": [
       "<Figure size 1200x450 with 1 Axes>"
      ]
     },
     "metadata": {},
     "output_type": "display_data"
    }
   ],
   "source": [
    "plt.figure(figsize=(8, 3), dpi=150)\n",
    "sns.set_palette('colorblind') \n",
    "keys = ['Не принадлежит к сети', 'Принадлежит к сети']\n",
    "plt.pie(x='Количество', labels=keys, data=chain_type_df, autopct='%.0f%%')\n",
    "plt.title('График принадлежности заведения к сети')\n",
    "plt.show()"
   ]
  },
  {
   "cell_type": "markdown",
   "id": "2948ff6a",
   "metadata": {},
   "source": [
    "К сетевым отноcится только 19,3% от общего числа заведений. Остальные точки общепита - не сетевые."
   ]
  },
  {
   "cell_type": "markdown",
   "id": "ddc03db9",
   "metadata": {},
   "source": [
    "Посмотрим принадленжность с сетям разных видов бъектов общественного питания Москвы."
   ]
  },
  {
   "cell_type": "code",
   "execution_count": 295,
   "id": "1a9c70d1",
   "metadata": {},
   "outputs": [
    {
     "data": {
      "text/html": [
       "<div>\n",
       "<style scoped>\n",
       "    .dataframe tbody tr th:only-of-type {\n",
       "        vertical-align: middle;\n",
       "    }\n",
       "\n",
       "    .dataframe tbody tr th {\n",
       "        vertical-align: top;\n",
       "    }\n",
       "\n",
       "    .dataframe thead th {\n",
       "        text-align: right;\n",
       "    }\n",
       "</style>\n",
       "<table border=\"1\" class=\"dataframe\">\n",
       "  <thead>\n",
       "    <tr style=\"text-align: right;\">\n",
       "      <th></th>\n",
       "      <th>Тип объекта общественного питания</th>\n",
       "      <th>Принадлежность к сети</th>\n",
       "      <th>Количество</th>\n",
       "    </tr>\n",
       "  </thead>\n",
       "  <tbody>\n",
       "    <tr>\n",
       "      <th>17</th>\n",
       "      <td>столовая</td>\n",
       "      <td>True</td>\n",
       "      <td>3</td>\n",
       "    </tr>\n",
       "    <tr>\n",
       "      <th>16</th>\n",
       "      <td>столовая</td>\n",
       "      <td>False</td>\n",
       "      <td>2581</td>\n",
       "    </tr>\n",
       "    <tr>\n",
       "      <th>15</th>\n",
       "      <td>ресторан</td>\n",
       "      <td>True</td>\n",
       "      <td>543</td>\n",
       "    </tr>\n",
       "    <tr>\n",
       "      <th>14</th>\n",
       "      <td>ресторан</td>\n",
       "      <td>False</td>\n",
       "      <td>1739</td>\n",
       "    </tr>\n",
       "    <tr>\n",
       "      <th>13</th>\n",
       "      <td>предприятие быстрого обслуживания</td>\n",
       "      <td>True</td>\n",
       "      <td>788</td>\n",
       "    </tr>\n",
       "  </tbody>\n",
       "</table>\n",
       "</div>"
      ],
      "text/plain": [
       "    Тип объекта общественного питания  Принадлежность к сети  Количество\n",
       "17                           столовая                   True           3\n",
       "16                           столовая                  False        2581\n",
       "15                           ресторан                   True         543\n",
       "14                           ресторан                  False        1739\n",
       "13  предприятие быстрого обслуживания                   True         788"
      ]
     },
     "execution_count": 295,
     "metadata": {},
     "output_type": "execute_result"
    }
   ],
   "source": [
    "chain_object_df = (\n",
    "    data.groupby(['object_type', 'chain'], as_index=False)\n",
    "    .agg({'id': 'count'})\n",
    "    .sort_values(by='object_type', ascending=False)\n",
    ")\n",
    "chain_object_df.columns = ['Тип объекта общественного питания', 'Принадлежность к сети', 'Количество']\n",
    "chain_object_df.head(5)"
   ]
  },
  {
   "cell_type": "code",
   "execution_count": 296,
   "id": "5cd5d328",
   "metadata": {
    "scrolled": false
   },
   "outputs": [
    {
     "data": {
      "image/png": "[encoded data removed]",
      "text/plain": [
       "<Figure size 1500x450 with 1 Axes>"
      ]
     },
     "metadata": {
      "needs_background": "light"
     },
     "output_type": "display_data"
    }
   ],
   "source": [
    "plt.figure(figsize=(10, 3), dpi=150)\n",
    "sns.set_palette('colorblind')\n",
    "sns.barplot(\n",
    "    x='Тип объекта общественного питания', \n",
    "    y='Количество', \n",
    "    hue='Принадлежность к сети', \n",
    "    data=chain_object_df,\n",
    "    palette=sns.color_palette(['#99ccdd','royalblue'])\n",
    ")\n",
    "plt.title('График принадлежности типов заведений к сети')\n",
    "plt.xticks(rotation=45)\n",
    "plt.show()\n",
    "\n",
    "\n"
   ]
  },
  {
   "cell_type": "code",
   "execution_count": 297,
   "id": "bb8b5933",
   "metadata": {
    "scrolled": true
   },
   "outputs": [],
   "source": [
    "chain_object_df_2 = (data.query('chain == True')\n",
    "    .groupby(['object_type'], as_index=False)\n",
    "    .agg({'id': 'count'})\n",
    ")"
   ]
  },
  {
   "cell_type": "code",
   "execution_count": 298,
   "id": "51171973",
   "metadata": {
    "scrolled": true
   },
   "outputs": [],
   "source": [
    "chain_object_df_3 = (data.query('chain == False')\n",
    "    .groupby(['object_type'], as_index=False)\n",
    "    .agg({'id': 'count'})\n",
    ")"
   ]
  },
  {
   "cell_type": "code",
   "execution_count": 299,
   "id": "7ad160c9",
   "metadata": {},
   "outputs": [
    {
     "data": {
      "text/html": [
       "<div>\n",
       "<style scoped>\n",
       "    .dataframe tbody tr th:only-of-type {\n",
       "        vertical-align: middle;\n",
       "    }\n",
       "\n",
       "    .dataframe tbody tr th {\n",
       "        vertical-align: top;\n",
       "    }\n",
       "\n",
       "    .dataframe thead th {\n",
       "        text-align: right;\n",
       "    }\n",
       "</style>\n",
       "<table border=\"1\" class=\"dataframe\">\n",
       "  <thead>\n",
       "    <tr style=\"text-align: right;\">\n",
       "      <th></th>\n",
       "      <th>Тип объекта общественного питания</th>\n",
       "      <th>Принадлежит к сети</th>\n",
       "      <th>Не принадлежит к сети</th>\n",
       "      <th>Доля сетевых заведений</th>\n",
       "    </tr>\n",
       "  </thead>\n",
       "  <tbody>\n",
       "    <tr>\n",
       "      <th>6</th>\n",
       "      <td>предприятие быстрого обслуживания</td>\n",
       "      <td>788</td>\n",
       "      <td>1109</td>\n",
       "      <td>41.539273</td>\n",
       "    </tr>\n",
       "    <tr>\n",
       "      <th>5</th>\n",
       "      <td>магазин (отдел кулинарии)</td>\n",
       "      <td>78</td>\n",
       "      <td>195</td>\n",
       "      <td>28.571429</td>\n",
       "    </tr>\n",
       "    <tr>\n",
       "      <th>7</th>\n",
       "      <td>ресторан</td>\n",
       "      <td>543</td>\n",
       "      <td>1739</td>\n",
       "      <td>23.794917</td>\n",
       "    </tr>\n",
       "    <tr>\n",
       "      <th>3</th>\n",
       "      <td>кафе</td>\n",
       "      <td>1396</td>\n",
       "      <td>4675</td>\n",
       "      <td>22.994564</td>\n",
       "    </tr>\n",
       "    <tr>\n",
       "      <th>2</th>\n",
       "      <td>закусочная</td>\n",
       "      <td>56</td>\n",
       "      <td>292</td>\n",
       "      <td>16.091954</td>\n",
       "    </tr>\n",
       "    <tr>\n",
       "      <th>4</th>\n",
       "      <td>кафетерий</td>\n",
       "      <td>52</td>\n",
       "      <td>343</td>\n",
       "      <td>13.164557</td>\n",
       "    </tr>\n",
       "    <tr>\n",
       "      <th>0</th>\n",
       "      <td>бар</td>\n",
       "      <td>37</td>\n",
       "      <td>818</td>\n",
       "      <td>4.327485</td>\n",
       "    </tr>\n",
       "    <tr>\n",
       "      <th>1</th>\n",
       "      <td>буфет</td>\n",
       "      <td>11</td>\n",
       "      <td>565</td>\n",
       "      <td>1.909722</td>\n",
       "    </tr>\n",
       "    <tr>\n",
       "      <th>8</th>\n",
       "      <td>столовая</td>\n",
       "      <td>3</td>\n",
       "      <td>2581</td>\n",
       "      <td>0.116099</td>\n",
       "    </tr>\n",
       "  </tbody>\n",
       "</table>\n",
       "</div>"
      ],
      "text/plain": [
       "   Тип объекта общественного питания  Принадлежит к сети  \\\n",
       "6  предприятие быстрого обслуживания                 788   \n",
       "5          магазин (отдел кулинарии)                  78   \n",
       "7                           ресторан                 543   \n",
       "3                               кафе                1396   \n",
       "2                         закусочная                  56   \n",
       "4                          кафетерий                  52   \n",
       "0                                бар                  37   \n",
       "1                              буфет                  11   \n",
       "8                           столовая                   3   \n",
       "\n",
       "   Не принадлежит к сети  Доля сетевых заведений  \n",
       "6                   1109               41.539273  \n",
       "5                    195               28.571429  \n",
       "7                   1739               23.794917  \n",
       "3                   4675               22.994564  \n",
       "2                    292               16.091954  \n",
       "4                    343               13.164557  \n",
       "0                    818                4.327485  \n",
       "1                    565                1.909722  \n",
       "8                   2581                0.116099  "
      ]
     },
     "execution_count": 299,
     "metadata": {},
     "output_type": "execute_result"
    }
   ],
   "source": [
    "chain_object_df_2 = chain_object_df_2.merge(chain_object_df_3, on='object_type', how='left')\n",
    "chain_object_df_2['Доля сетевых заведений'] = (chain_object_df_2['id_x'] / (chain_object_df_2['id_x'] + chain_object_df_2['id_y']))*100\n",
    "chain_object_df_2.columns = ['Тип объекта общественного питания', 'Принадлежит к сети', 'Не принадлежит к сети', 'Доля сетевых заведений']\n",
    "\n",
    "chain_object_df_2.sort_values(by='Доля сетевых заведений', ascending=False)"
   ]
  },
  {
   "cell_type": "markdown",
   "id": "873bcd37",
   "metadata": {},
   "source": [
    "В первую очередь в сетевом виде развивается такой вид общепита, как предприятия быстрого обслуживания (что объяснимо с т.зр. сложности технологической цепочки и логистики), здесь максимальная доля сетевых заведений по сравнению со остальными видами. Далее схожие друг с другом по соотношению сети/не сети - магазины с отделами кулинарии, рестораны и кафе. В абсолютных цифрах по количеству сетевых заведений лидирует тип \"кафе\". "
   ]
  },
  {
   "cell_type": "markdown",
   "id": "5126556c",
   "metadata": {},
   "source": [
    "Изучим количество заведений у каждого типа сетевых точек общепита, а также среднее количество посадочных мест в сетевых заведениях."
   ]
  },
  {
   "cell_type": "code",
   "execution_count": 300,
   "id": "329c5613",
   "metadata": {},
   "outputs": [],
   "source": [
    "data_chain = data.query('chain == True')"
   ]
  },
  {
   "cell_type": "code",
   "execution_count": 301,
   "id": "fc93b1d1",
   "metadata": {
    "scrolled": false
   },
   "outputs": [
    {
     "data": {
      "text/html": [
       "<div>\n",
       "<style scoped>\n",
       "    .dataframe tbody tr th:only-of-type {\n",
       "        vertical-align: middle;\n",
       "    }\n",
       "\n",
       "    .dataframe tbody tr th {\n",
       "        vertical-align: top;\n",
       "    }\n",
       "\n",
       "    .dataframe thead th {\n",
       "        text-align: right;\n",
       "    }\n",
       "</style>\n",
       "<table border=\"1\" class=\"dataframe\">\n",
       "  <thead>\n",
       "    <tr style=\"text-align: right;\">\n",
       "      <th></th>\n",
       "      <th>Тип объекта общественного питания</th>\n",
       "      <th>Количество заведений</th>\n",
       "      <th>Количество посадочных мест</th>\n",
       "      <th>Соотношение посадочных мест к количеству заведений</th>\n",
       "    </tr>\n",
       "  </thead>\n",
       "  <tbody>\n",
       "    <tr>\n",
       "      <th>3</th>\n",
       "      <td>кафе</td>\n",
       "      <td>1396</td>\n",
       "      <td>66208</td>\n",
       "      <td>47.426934</td>\n",
       "    </tr>\n",
       "    <tr>\n",
       "      <th>6</th>\n",
       "      <td>предприятие быстрого обслуживания</td>\n",
       "      <td>788</td>\n",
       "      <td>31772</td>\n",
       "      <td>40.319797</td>\n",
       "    </tr>\n",
       "    <tr>\n",
       "      <th>7</th>\n",
       "      <td>ресторан</td>\n",
       "      <td>543</td>\n",
       "      <td>54497</td>\n",
       "      <td>100.362799</td>\n",
       "    </tr>\n",
       "    <tr>\n",
       "      <th>5</th>\n",
       "      <td>магазин (отдел кулинарии)</td>\n",
       "      <td>78</td>\n",
       "      <td>677</td>\n",
       "      <td>8.679487</td>\n",
       "    </tr>\n",
       "    <tr>\n",
       "      <th>2</th>\n",
       "      <td>закусочная</td>\n",
       "      <td>56</td>\n",
       "      <td>805</td>\n",
       "      <td>14.375000</td>\n",
       "    </tr>\n",
       "    <tr>\n",
       "      <th>4</th>\n",
       "      <td>кафетерий</td>\n",
       "      <td>52</td>\n",
       "      <td>638</td>\n",
       "      <td>12.269231</td>\n",
       "    </tr>\n",
       "    <tr>\n",
       "      <th>0</th>\n",
       "      <td>бар</td>\n",
       "      <td>37</td>\n",
       "      <td>1962</td>\n",
       "      <td>53.027027</td>\n",
       "    </tr>\n",
       "    <tr>\n",
       "      <th>1</th>\n",
       "      <td>буфет</td>\n",
       "      <td>11</td>\n",
       "      <td>140</td>\n",
       "      <td>12.727273</td>\n",
       "    </tr>\n",
       "    <tr>\n",
       "      <th>8</th>\n",
       "      <td>столовая</td>\n",
       "      <td>3</td>\n",
       "      <td>337</td>\n",
       "      <td>112.333333</td>\n",
       "    </tr>\n",
       "  </tbody>\n",
       "</table>\n",
       "</div>"
      ],
      "text/plain": [
       "   Тип объекта общественного питания  Количество заведений  \\\n",
       "3                               кафе                  1396   \n",
       "6  предприятие быстрого обслуживания                   788   \n",
       "7                           ресторан                   543   \n",
       "5          магазин (отдел кулинарии)                    78   \n",
       "2                         закусочная                    56   \n",
       "4                          кафетерий                    52   \n",
       "0                                бар                    37   \n",
       "1                              буфет                    11   \n",
       "8                           столовая                     3   \n",
       "\n",
       "   Количество посадочных мест  \\\n",
       "3                       66208   \n",
       "6                       31772   \n",
       "7                       54497   \n",
       "5                         677   \n",
       "2                         805   \n",
       "4                         638   \n",
       "0                        1962   \n",
       "1                         140   \n",
       "8                         337   \n",
       "\n",
       "   Соотношение посадочных мест к количеству заведений  \n",
       "3                                          47.426934   \n",
       "6                                          40.319797   \n",
       "7                                         100.362799   \n",
       "5                                           8.679487   \n",
       "2                                          14.375000   \n",
       "4                                          12.269231   \n",
       "0                                          53.027027   \n",
       "1                                          12.727273   \n",
       "8                                         112.333333   "
      ]
     },
     "execution_count": 301,
     "metadata": {},
     "output_type": "execute_result"
    }
   ],
   "source": [
    "data_chain_tables = data_chain.pivot_table(index='object_type', values='id', aggfunc='count')\n",
    "data_chain_tables['tables'] = data_chain.pivot_table(index='object_type', values='number', aggfunc='sum')\n",
    "data_chain_tables = data_chain_tables.reset_index().sort_values(by='id', ascending=False)\n",
    "data_chain_tables['ratio_tables'] = data_chain_tables['tables'] / data_chain_tables['id']\n",
    "data_chain_tables.columns = ['Тип объекта общественного питания', 'Количество заведений', 'Количество посадочных мест', 'Соотношение посадочных мест к количеству заведений']\n",
    "data_chain_tables\n"
   ]
  },
  {
   "cell_type": "code",
   "execution_count": 302,
   "id": "747cfa60",
   "metadata": {},
   "outputs": [],
   "source": [
    "data_chain_research = data_chain.pivot_table(index='object_name', values='id', aggfunc='count')\n",
    "data_chain_research['tables'] = data_chain.pivot_table(index='object_name', values='number', aggfunc='sum')\n",
    "data_chain_research = data_chain_research.reset_index().sort_values(by='id', ascending=False)\n",
    "data_chain_research.columns = ['object_name', 'objects', 'tables']\n",
    "data_chain_research['tables_mean'] = data_chain_research['tables'] / data_chain_research['objects']"
   ]
  },
  {
   "cell_type": "code",
   "execution_count": 303,
   "id": "f1b711a4",
   "metadata": {
    "scrolled": true
   },
   "outputs": [
    {
     "data": {
      "text/html": [
       "<div>\n",
       "<style scoped>\n",
       "    .dataframe tbody tr th:only-of-type {\n",
       "        vertical-align: middle;\n",
       "    }\n",
       "\n",
       "    .dataframe tbody tr th {\n",
       "        vertical-align: top;\n",
       "    }\n",
       "\n",
       "    .dataframe thead th {\n",
       "        text-align: right;\n",
       "    }\n",
       "</style>\n",
       "<table border=\"1\" class=\"dataframe\">\n",
       "  <thead>\n",
       "    <tr style=\"text-align: right;\">\n",
       "      <th></th>\n",
       "      <th>object_name</th>\n",
       "      <th>objects</th>\n",
       "      <th>tables</th>\n",
       "      <th>tables_mean</th>\n",
       "    </tr>\n",
       "  </thead>\n",
       "  <tbody>\n",
       "    <tr>\n",
       "      <th>563</th>\n",
       "      <td>Шоколадница</td>\n",
       "      <td>157</td>\n",
       "      <td>8978</td>\n",
       "      <td>57.184713</td>\n",
       "    </tr>\n",
       "    <tr>\n",
       "      <th>25</th>\n",
       "      <td>Kfc</td>\n",
       "      <td>155</td>\n",
       "      <td>8578</td>\n",
       "      <td>55.341935</td>\n",
       "    </tr>\n",
       "    <tr>\n",
       "      <th>331</th>\n",
       "      <td>Макдоналдс</td>\n",
       "      <td>150</td>\n",
       "      <td>13155</td>\n",
       "      <td>87.700000</td>\n",
       "    </tr>\n",
       "    <tr>\n",
       "      <th>110</th>\n",
       "      <td>Бургер Кинг</td>\n",
       "      <td>137</td>\n",
       "      <td>6391</td>\n",
       "      <td>46.649635</td>\n",
       "    </tr>\n",
       "    <tr>\n",
       "      <th>521</th>\n",
       "      <td>Теремок</td>\n",
       "      <td>94</td>\n",
       "      <td>2407</td>\n",
       "      <td>25.606383</td>\n",
       "    </tr>\n",
       "    <tr>\n",
       "      <th>...</th>\n",
       "      <td>...</td>\n",
       "      <td>...</td>\n",
       "      <td>...</td>\n",
       "      <td>...</td>\n",
       "    </tr>\n",
       "    <tr>\n",
       "      <th>343</th>\n",
       "      <td>Мираторг</td>\n",
       "      <td>1</td>\n",
       "      <td>12</td>\n",
       "      <td>12.000000</td>\n",
       "    </tr>\n",
       "    <tr>\n",
       "      <th>342</th>\n",
       "      <td>Мимино Хинкальная</td>\n",
       "      <td>1</td>\n",
       "      <td>70</td>\n",
       "      <td>70.000000</td>\n",
       "    </tr>\n",
       "    <tr>\n",
       "      <th>148</th>\n",
       "      <td>Дабл Би Блэк</td>\n",
       "      <td>1</td>\n",
       "      <td>40</td>\n",
       "      <td>40.000000</td>\n",
       "    </tr>\n",
       "    <tr>\n",
       "      <th>152</th>\n",
       "      <td>Детский Клуб «Андерсон»</td>\n",
       "      <td>1</td>\n",
       "      <td>41</td>\n",
       "      <td>41.000000</td>\n",
       "    </tr>\n",
       "    <tr>\n",
       "      <th>0</th>\n",
       "      <td>Beverly Hills Diner</td>\n",
       "      <td>1</td>\n",
       "      <td>88</td>\n",
       "      <td>88.000000</td>\n",
       "    </tr>\n",
       "  </tbody>\n",
       "</table>\n",
       "<p>576 rows × 4 columns</p>\n",
       "</div>"
      ],
      "text/plain": [
       "                 object_name  objects  tables  tables_mean\n",
       "563              Шоколадница      157    8978    57.184713\n",
       "25                       Kfc      155    8578    55.341935\n",
       "331               Макдоналдс      150   13155    87.700000\n",
       "110              Бургер Кинг      137    6391    46.649635\n",
       "521                  Теремок       94    2407    25.606383\n",
       "..                       ...      ...     ...          ...\n",
       "343                 Мираторг        1      12    12.000000\n",
       "342        Мимино Хинкальная        1      70    70.000000\n",
       "148             Дабл Би Блэк        1      40    40.000000\n",
       "152  Детский Клуб «Андерсон»        1      41    41.000000\n",
       "0        Beverly Hills Diner        1      88    88.000000\n",
       "\n",
       "[576 rows x 4 columns]"
      ]
     },
     "execution_count": 303,
     "metadata": {},
     "output_type": "execute_result"
    }
   ],
   "source": [
    "data_chain_research"
   ]
  },
  {
   "cell_type": "code",
   "execution_count": 304,
   "id": "accf201e",
   "metadata": {},
   "outputs": [
    {
     "data": {
      "text/html": [
       "<div>\n",
       "<style scoped>\n",
       "    .dataframe tbody tr th:only-of-type {\n",
       "        vertical-align: middle;\n",
       "    }\n",
       "\n",
       "    .dataframe tbody tr th {\n",
       "        vertical-align: top;\n",
       "    }\n",
       "\n",
       "    .dataframe thead th {\n",
       "        text-align: right;\n",
       "    }\n",
       "</style>\n",
       "<table border=\"1\" class=\"dataframe\">\n",
       "  <thead>\n",
       "    <tr style=\"text-align: right;\">\n",
       "      <th></th>\n",
       "      <th>object_name</th>\n",
       "      <th>objects</th>\n",
       "      <th>tables</th>\n",
       "      <th>tables_mean</th>\n",
       "    </tr>\n",
       "  </thead>\n",
       "  <tbody>\n",
       "    <tr>\n",
       "      <th>563</th>\n",
       "      <td>Шоколадница</td>\n",
       "      <td>157</td>\n",
       "      <td>8978</td>\n",
       "      <td>57.184713</td>\n",
       "    </tr>\n",
       "    <tr>\n",
       "      <th>25</th>\n",
       "      <td>Kfc</td>\n",
       "      <td>155</td>\n",
       "      <td>8578</td>\n",
       "      <td>55.341935</td>\n",
       "    </tr>\n",
       "    <tr>\n",
       "      <th>331</th>\n",
       "      <td>Макдоналдс</td>\n",
       "      <td>150</td>\n",
       "      <td>13155</td>\n",
       "      <td>87.700000</td>\n",
       "    </tr>\n",
       "    <tr>\n",
       "      <th>110</th>\n",
       "      <td>Бургер Кинг</td>\n",
       "      <td>137</td>\n",
       "      <td>6391</td>\n",
       "      <td>46.649635</td>\n",
       "    </tr>\n",
       "    <tr>\n",
       "      <th>521</th>\n",
       "      <td>Теремок</td>\n",
       "      <td>94</td>\n",
       "      <td>2407</td>\n",
       "      <td>25.606383</td>\n",
       "    </tr>\n",
       "    <tr>\n",
       "      <th>...</th>\n",
       "      <td>...</td>\n",
       "      <td>...</td>\n",
       "      <td>...</td>\n",
       "      <td>...</td>\n",
       "    </tr>\n",
       "    <tr>\n",
       "      <th>203</th>\n",
       "      <td>Кафе «Prime» Прайм Стар</td>\n",
       "      <td>2</td>\n",
       "      <td>52</td>\n",
       "      <td>26.000000</td>\n",
       "    </tr>\n",
       "    <tr>\n",
       "      <th>94</th>\n",
       "      <td>Барбекю</td>\n",
       "      <td>2</td>\n",
       "      <td>45</td>\n",
       "      <td>22.500000</td>\n",
       "    </tr>\n",
       "    <tr>\n",
       "      <th>97</th>\n",
       "      <td>Бенто Wok</td>\n",
       "      <td>2</td>\n",
       "      <td>36</td>\n",
       "      <td>18.000000</td>\n",
       "    </tr>\n",
       "    <tr>\n",
       "      <th>211</th>\n",
       "      <td>Кафе «Данкин Донатс»</td>\n",
       "      <td>2</td>\n",
       "      <td>55</td>\n",
       "      <td>27.500000</td>\n",
       "    </tr>\n",
       "    <tr>\n",
       "      <th>121</th>\n",
       "      <td>Венеция</td>\n",
       "      <td>2</td>\n",
       "      <td>195</td>\n",
       "      <td>97.500000</td>\n",
       "    </tr>\n",
       "  </tbody>\n",
       "</table>\n",
       "<p>247 rows × 4 columns</p>\n",
       "</div>"
      ],
      "text/plain": [
       "                 object_name  objects  tables  tables_mean\n",
       "563              Шоколадница      157    8978    57.184713\n",
       "25                       Kfc      155    8578    55.341935\n",
       "331               Макдоналдс      150   13155    87.700000\n",
       "110              Бургер Кинг      137    6391    46.649635\n",
       "521                  Теремок       94    2407    25.606383\n",
       "..                       ...      ...     ...          ...\n",
       "203  Кафе «Prime» Прайм Стар        2      52    26.000000\n",
       "94                   Барбекю        2      45    22.500000\n",
       "97                 Бенто Wok        2      36    18.000000\n",
       "211     Кафе «Данкин Донатс»        2      55    27.500000\n",
       "121                  Венеция        2     195    97.500000\n",
       "\n",
       "[247 rows x 4 columns]"
      ]
     },
     "execution_count": 304,
     "metadata": {},
     "output_type": "execute_result"
    }
   ],
   "source": [
    "data_chain_research = data_chain_research.query('objects != 1')\n",
    "data_chain_research"
   ]
  },
  {
   "cell_type": "code",
   "execution_count": 305,
   "id": "157485ea",
   "metadata": {
    "scrolled": false
   },
   "outputs": [
    {
     "name": "stdout",
     "output_type": "stream",
     "text": [
      "[3. 6.]\n",
      "[26.    67.744]\n"
     ]
    }
   ],
   "source": [
    "print(np.quantile(data_chain_research['objects'], q = [0.33, 0.66]))\n",
    "print(np.quantile(data_chain_research['tables_mean'], q = [0.33, 0.66]))"
   ]
  },
  {
   "cell_type": "code",
   "execution_count": 306,
   "id": "f96575b0",
   "metadata": {},
   "outputs": [],
   "source": [
    "few_ob = 3\n",
    "lot_ob = 6\n",
    "few_tab = 26\n",
    "lot_tab = 67"
   ]
  },
  {
   "cell_type": "code",
   "execution_count": 307,
   "id": "b31118e2",
   "metadata": {
    "scrolled": false
   },
   "outputs": [
    {
     "name": "stderr",
     "output_type": "stream",
     "text": [
      "C:\\Users\\dsaulin\\AppData\\Local\\Temp/ipykernel_8336/4061517007.py:9: SettingWithCopyWarning: \n",
      "A value is trying to be set on a copy of a slice from a DataFrame.\n",
      "Try using .loc[row_indexer,col_indexer] = value instead\n",
      "\n",
      "See the caveats in the documentation: https://pandas.pydata.org/pandas-docs/stable/user_guide/indexing.html#returning-a-view-versus-a-copy\n",
      "  data_chain_research['objects_category'] = data_chain_research.apply(objects_category, axis=1)\n"
     ]
    }
   ],
   "source": [
    "def objects_category(data_chain_research):\n",
    "    objects = data_chain_research['objects']\n",
    "    if objects <= few_ob:\n",
    "        return 'Мало заведений'\n",
    "    if objects >= lot_ob:\n",
    "        return 'Много заведений'\n",
    "    return 'Среднее количество'\n",
    "\n",
    "data_chain_research['objects_category'] = data_chain_research.apply(objects_category, axis=1)"
   ]
  },
  {
   "cell_type": "code",
   "execution_count": 308,
   "id": "1380a0a5",
   "metadata": {},
   "outputs": [
    {
     "name": "stderr",
     "output_type": "stream",
     "text": [
      "C:\\Users\\dsaulin\\AppData\\Local\\Temp/ipykernel_8336/4274712454.py:9: SettingWithCopyWarning: \n",
      "A value is trying to be set on a copy of a slice from a DataFrame.\n",
      "Try using .loc[row_indexer,col_indexer] = value instead\n",
      "\n",
      "See the caveats in the documentation: https://pandas.pydata.org/pandas-docs/stable/user_guide/indexing.html#returning-a-view-versus-a-copy\n",
      "  data_chain_research['tables_category'] = data_chain_research.apply(table_category, axis=1)\n"
     ]
    }
   ],
   "source": [
    "def table_category(data_chain_research):\n",
    "    tables = data_chain_research['tables_mean']\n",
    "    if tables <= few_tab:\n",
    "        return 'Мало мест'\n",
    "    if tables >= lot_tab:\n",
    "        return 'Много мест'\n",
    "    return 'Среднее количество'\n",
    "\n",
    "data_chain_research['tables_category'] = data_chain_research.apply(table_category, axis=1)"
   ]
  },
  {
   "cell_type": "code",
   "execution_count": 309,
   "id": "fc4a0dbe",
   "metadata": {
    "scrolled": true
   },
   "outputs": [
    {
     "data": {
      "text/html": [
       "<div>\n",
       "<style scoped>\n",
       "    .dataframe tbody tr th:only-of-type {\n",
       "        vertical-align: middle;\n",
       "    }\n",
       "\n",
       "    .dataframe tbody tr th {\n",
       "        vertical-align: top;\n",
       "    }\n",
       "\n",
       "    .dataframe thead th {\n",
       "        text-align: right;\n",
       "    }\n",
       "</style>\n",
       "<table border=\"1\" class=\"dataframe\">\n",
       "  <thead>\n",
       "    <tr style=\"text-align: right;\">\n",
       "      <th></th>\n",
       "      <th>object_name</th>\n",
       "      <th>objects</th>\n",
       "      <th>tables</th>\n",
       "      <th>tables_mean</th>\n",
       "      <th>objects_category</th>\n",
       "      <th>tables_category</th>\n",
       "    </tr>\n",
       "  </thead>\n",
       "  <tbody>\n",
       "    <tr>\n",
       "      <th>563</th>\n",
       "      <td>Шоколадница</td>\n",
       "      <td>157</td>\n",
       "      <td>8978</td>\n",
       "      <td>57.184713</td>\n",
       "      <td>Много заведений</td>\n",
       "      <td>Среднее количество</td>\n",
       "    </tr>\n",
       "    <tr>\n",
       "      <th>25</th>\n",
       "      <td>Kfc</td>\n",
       "      <td>155</td>\n",
       "      <td>8578</td>\n",
       "      <td>55.341935</td>\n",
       "      <td>Много заведений</td>\n",
       "      <td>Среднее количество</td>\n",
       "    </tr>\n",
       "    <tr>\n",
       "      <th>331</th>\n",
       "      <td>Макдоналдс</td>\n",
       "      <td>150</td>\n",
       "      <td>13155</td>\n",
       "      <td>87.700000</td>\n",
       "      <td>Много заведений</td>\n",
       "      <td>Много мест</td>\n",
       "    </tr>\n",
       "    <tr>\n",
       "      <th>110</th>\n",
       "      <td>Бургер Кинг</td>\n",
       "      <td>137</td>\n",
       "      <td>6391</td>\n",
       "      <td>46.649635</td>\n",
       "      <td>Много заведений</td>\n",
       "      <td>Среднее количество</td>\n",
       "    </tr>\n",
       "    <tr>\n",
       "      <th>521</th>\n",
       "      <td>Теремок</td>\n",
       "      <td>94</td>\n",
       "      <td>2407</td>\n",
       "      <td>25.606383</td>\n",
       "      <td>Много заведений</td>\n",
       "      <td>Мало мест</td>\n",
       "    </tr>\n",
       "    <tr>\n",
       "      <th>...</th>\n",
       "      <td>...</td>\n",
       "      <td>...</td>\n",
       "      <td>...</td>\n",
       "      <td>...</td>\n",
       "      <td>...</td>\n",
       "      <td>...</td>\n",
       "    </tr>\n",
       "    <tr>\n",
       "      <th>203</th>\n",
       "      <td>Кафе «Prime» Прайм Стар</td>\n",
       "      <td>2</td>\n",
       "      <td>52</td>\n",
       "      <td>26.000000</td>\n",
       "      <td>Мало заведений</td>\n",
       "      <td>Мало мест</td>\n",
       "    </tr>\n",
       "    <tr>\n",
       "      <th>94</th>\n",
       "      <td>Барбекю</td>\n",
       "      <td>2</td>\n",
       "      <td>45</td>\n",
       "      <td>22.500000</td>\n",
       "      <td>Мало заведений</td>\n",
       "      <td>Мало мест</td>\n",
       "    </tr>\n",
       "    <tr>\n",
       "      <th>97</th>\n",
       "      <td>Бенто Wok</td>\n",
       "      <td>2</td>\n",
       "      <td>36</td>\n",
       "      <td>18.000000</td>\n",
       "      <td>Мало заведений</td>\n",
       "      <td>Мало мест</td>\n",
       "    </tr>\n",
       "    <tr>\n",
       "      <th>211</th>\n",
       "      <td>Кафе «Данкин Донатс»</td>\n",
       "      <td>2</td>\n",
       "      <td>55</td>\n",
       "      <td>27.500000</td>\n",
       "      <td>Мало заведений</td>\n",
       "      <td>Среднее количество</td>\n",
       "    </tr>\n",
       "    <tr>\n",
       "      <th>121</th>\n",
       "      <td>Венеция</td>\n",
       "      <td>2</td>\n",
       "      <td>195</td>\n",
       "      <td>97.500000</td>\n",
       "      <td>Мало заведений</td>\n",
       "      <td>Много мест</td>\n",
       "    </tr>\n",
       "  </tbody>\n",
       "</table>\n",
       "<p>247 rows × 6 columns</p>\n",
       "</div>"
      ],
      "text/plain": [
       "                 object_name  objects  tables  tables_mean objects_category  \\\n",
       "563              Шоколадница      157    8978    57.184713  Много заведений   \n",
       "25                       Kfc      155    8578    55.341935  Много заведений   \n",
       "331               Макдоналдс      150   13155    87.700000  Много заведений   \n",
       "110              Бургер Кинг      137    6391    46.649635  Много заведений   \n",
       "521                  Теремок       94    2407    25.606383  Много заведений   \n",
       "..                       ...      ...     ...          ...              ...   \n",
       "203  Кафе «Prime» Прайм Стар        2      52    26.000000   Мало заведений   \n",
       "94                   Барбекю        2      45    22.500000   Мало заведений   \n",
       "97                 Бенто Wok        2      36    18.000000   Мало заведений   \n",
       "211     Кафе «Данкин Донатс»        2      55    27.500000   Мало заведений   \n",
       "121                  Венеция        2     195    97.500000   Мало заведений   \n",
       "\n",
       "        tables_category  \n",
       "563  Среднее количество  \n",
       "25   Среднее количество  \n",
       "331          Много мест  \n",
       "110  Среднее количество  \n",
       "521           Мало мест  \n",
       "..                  ...  \n",
       "203           Мало мест  \n",
       "94            Мало мест  \n",
       "97            Мало мест  \n",
       "211  Среднее количество  \n",
       "121          Много мест  \n",
       "\n",
       "[247 rows x 6 columns]"
      ]
     },
     "execution_count": 309,
     "metadata": {},
     "output_type": "execute_result"
    }
   ],
   "source": [
    "data_chain_research"
   ]
  },
  {
   "cell_type": "code",
   "execution_count": 310,
   "id": "4bd53e03",
   "metadata": {},
   "outputs": [],
   "source": [
    "data_chain_category = data_chain_research \\\n",
    ".query('tables_category == \"Много мест\"') \\\n",
    ".pivot_table(\n",
    "    index='objects_category', \n",
    "    values='tables_category', \n",
    "    aggfunc='count'\n",
    ")\n",
    "\n",
    "data_chain_category['Мало мест'] = data_chain_research \\\n",
    ".query('tables_category == \"Мало мест\"') \\\n",
    ".pivot_table(\n",
    "    index='objects_category', \n",
    "    values='tables_category', \n",
    "    aggfunc='count'\n",
    ")\n",
    "\n",
    "data_chain_category['Среднее количество мест'] = data_chain_research \\\n",
    ".query('tables_category == \"Среднее количество\"') \\\n",
    ".pivot_table(\n",
    "    index='objects_category', \n",
    "    values='tables_category', \n",
    "    aggfunc='count'\n",
    ")\n",
    "\n",
    "data_chain_category = data_chain_category.reset_index()\n",
    "\n",
    "data_chain_category.columns = ['Количество заведений', 'Много мест', 'Мало мест', 'Среднее количество мест']"
   ]
  },
  {
   "cell_type": "code",
   "execution_count": 311,
   "id": "f3f801a8",
   "metadata": {
    "scrolled": true
   },
   "outputs": [
    {
     "data": {
      "text/html": [
       "<div>\n",
       "<style scoped>\n",
       "    .dataframe tbody tr th:only-of-type {\n",
       "        vertical-align: middle;\n",
       "    }\n",
       "\n",
       "    .dataframe tbody tr th {\n",
       "        vertical-align: top;\n",
       "    }\n",
       "\n",
       "    .dataframe thead th {\n",
       "        text-align: right;\n",
       "    }\n",
       "</style>\n",
       "<table border=\"1\" class=\"dataframe\">\n",
       "  <thead>\n",
       "    <tr style=\"text-align: right;\">\n",
       "      <th></th>\n",
       "      <th>Количество заведений</th>\n",
       "      <th>Много мест</th>\n",
       "      <th>Мало мест</th>\n",
       "      <th>Среднее количество мест</th>\n",
       "    </tr>\n",
       "  </thead>\n",
       "  <tbody>\n",
       "    <tr>\n",
       "      <th>0</th>\n",
       "      <td>Мало заведений</td>\n",
       "      <td>46</td>\n",
       "      <td>43</td>\n",
       "      <td>34</td>\n",
       "    </tr>\n",
       "    <tr>\n",
       "      <th>1</th>\n",
       "      <td>Много заведений</td>\n",
       "      <td>29</td>\n",
       "      <td>31</td>\n",
       "      <td>32</td>\n",
       "    </tr>\n",
       "    <tr>\n",
       "      <th>2</th>\n",
       "      <td>Среднее количество</td>\n",
       "      <td>11</td>\n",
       "      <td>9</td>\n",
       "      <td>12</td>\n",
       "    </tr>\n",
       "  </tbody>\n",
       "</table>\n",
       "</div>"
      ],
      "text/plain": [
       "  Количество заведений  Много мест  Мало мест  Среднее количество мест\n",
       "0       Мало заведений          46         43                       34\n",
       "1      Много заведений          29         31                       32\n",
       "2   Среднее количество          11          9                       12"
      ]
     },
     "execution_count": 311,
     "metadata": {},
     "output_type": "execute_result"
    }
   ],
   "source": [
    "data_chain_category"
   ]
  },
  {
   "cell_type": "markdown",
   "id": "cf6b2568",
   "metadata": {},
   "source": [
    "В результате **18,6%** \"неодиночных\" сетей - с **малым** количеством заведений и **большим** количеством мест.\n",
    "\n",
    "17,4% - с малым количеством заведений и мест.\n",
    "\n",
    "12,5% - с большим количеством заведений и малым количеством мест. И 11,7% - много заведений и мест.\n",
    "\n"
   ]
  },
  {
   "cell_type": "markdown",
   "id": "5ff96a8e",
   "metadata": {},
   "source": [
    "Изучим средние количества посадочных мест для всех видов объектов."
   ]
  },
  {
   "cell_type": "code",
   "execution_count": 312,
   "id": "5aa36f01",
   "metadata": {
    "scrolled": true
   },
   "outputs": [
    {
     "data": {
      "text/html": [
       "<div>\n",
       "<style scoped>\n",
       "    .dataframe tbody tr th:only-of-type {\n",
       "        vertical-align: middle;\n",
       "    }\n",
       "\n",
       "    .dataframe tbody tr th {\n",
       "        vertical-align: top;\n",
       "    }\n",
       "\n",
       "    .dataframe thead th {\n",
       "        text-align: right;\n",
       "    }\n",
       "</style>\n",
       "<table border=\"1\" class=\"dataframe\">\n",
       "  <thead>\n",
       "    <tr style=\"text-align: right;\">\n",
       "      <th></th>\n",
       "      <th>Тип объекта общественного питания</th>\n",
       "      <th>Количество заведений</th>\n",
       "      <th>Среднее количество посадочных мест</th>\n",
       "    </tr>\n",
       "  </thead>\n",
       "  <tbody>\n",
       "    <tr>\n",
       "      <th>8</th>\n",
       "      <td>столовая</td>\n",
       "      <td>2584</td>\n",
       "      <td>130.337848</td>\n",
       "    </tr>\n",
       "    <tr>\n",
       "      <th>7</th>\n",
       "      <td>ресторан</td>\n",
       "      <td>2282</td>\n",
       "      <td>96.884750</td>\n",
       "    </tr>\n",
       "    <tr>\n",
       "      <th>1</th>\n",
       "      <td>буфет</td>\n",
       "      <td>576</td>\n",
       "      <td>51.425347</td>\n",
       "    </tr>\n",
       "    <tr>\n",
       "      <th>0</th>\n",
       "      <td>бар</td>\n",
       "      <td>855</td>\n",
       "      <td>43.533333</td>\n",
       "    </tr>\n",
       "    <tr>\n",
       "      <th>3</th>\n",
       "      <td>кафе</td>\n",
       "      <td>6071</td>\n",
       "      <td>39.785703</td>\n",
       "    </tr>\n",
       "    <tr>\n",
       "      <th>6</th>\n",
       "      <td>предприятие быстрого обслуживания</td>\n",
       "      <td>1897</td>\n",
       "      <td>20.808645</td>\n",
       "    </tr>\n",
       "    <tr>\n",
       "      <th>4</th>\n",
       "      <td>кафетерий</td>\n",
       "      <td>395</td>\n",
       "      <td>9.184810</td>\n",
       "    </tr>\n",
       "    <tr>\n",
       "      <th>2</th>\n",
       "      <td>закусочная</td>\n",
       "      <td>348</td>\n",
       "      <td>7.847701</td>\n",
       "    </tr>\n",
       "    <tr>\n",
       "      <th>5</th>\n",
       "      <td>магазин (отдел кулинарии)</td>\n",
       "      <td>273</td>\n",
       "      <td>5.589744</td>\n",
       "    </tr>\n",
       "  </tbody>\n",
       "</table>\n",
       "</div>"
      ],
      "text/plain": [
       "   Тип объекта общественного питания  Количество заведений  \\\n",
       "8                           столовая                  2584   \n",
       "7                           ресторан                  2282   \n",
       "1                              буфет                   576   \n",
       "0                                бар                   855   \n",
       "3                               кафе                  6071   \n",
       "6  предприятие быстрого обслуживания                  1897   \n",
       "4                          кафетерий                   395   \n",
       "2                         закусочная                   348   \n",
       "5          магазин (отдел кулинарии)                   273   \n",
       "\n",
       "   Среднее количество посадочных мест  \n",
       "8                          130.337848  \n",
       "7                           96.884750  \n",
       "1                           51.425347  \n",
       "0                           43.533333  \n",
       "3                           39.785703  \n",
       "6                           20.808645  \n",
       "4                            9.184810  \n",
       "2                            7.847701  \n",
       "5                            5.589744  "
      ]
     },
     "execution_count": 312,
     "metadata": {},
     "output_type": "execute_result"
    }
   ],
   "source": [
    "data_object_mean = data.pivot_table(index='object_type', values='id', aggfunc='count')\n",
    "data_object_mean['ratio_tables'] = data.pivot_table(index='object_type', values='number', aggfunc='mean')\n",
    "data_object_mean = data_object_mean.reset_index()\n",
    "data_object_mean.columns = ['Тип объекта общественного питания', 'Количество заведений', 'Среднее количество посадочных мест']\n",
    "data_object_mean = data_object_mean.sort_values(by='Среднее количество посадочных мест', ascending=False)\n",
    "data_object_mean"
   ]
  },
  {
   "cell_type": "code",
   "execution_count": 313,
   "id": "ce3ef240",
   "metadata": {
    "scrolled": false
   },
   "outputs": [
    {
     "data": {
      "image/png": "[encoded data removed]",
      "text/plain": [
       "<Figure size 2250x900 with 1 Axes>"
      ]
     },
     "metadata": {
      "needs_background": "light"
     },
     "output_type": "display_data"
    }
   ],
   "source": [
    "plt.figure(figsize=(15,6), dpi=150)\n",
    "sns.barplot(x='Среднее количество посадочных мест', y='Тип объекта общественного питания', data=data_object_mean, color='#99ccdd')\n",
    "plt.title('График среднего количества посадочных мест в зависимости от вида заведения')\n",
    "plt.show()"
   ]
  },
  {
   "cell_type": "markdown",
   "id": "7482aba4",
   "metadata": {},
   "source": [
    "Как и в случае с сетевыми заведениями, общая статистика говорит, что столовые на первом месте по среднему количеству посадочных мест на точку. Также схожим с предыдущими подсчетами образом лидируют рестораны и бары. И в отличие от сетей в общей группе много посадочных мест у буфетов. "
   ]
  },
  {
   "cell_type": "markdown",
   "id": "c7e3dc7c",
   "metadata": {},
   "source": [
    "Изучим географические особенности распределения точек общепита в Москве. "
   ]
  },
  {
   "cell_type": "markdown",
   "id": "6049b924",
   "metadata": {},
   "source": [
    "Выделим в обоих датасетах названия улиц в отдельный столбец"
   ]
  },
  {
   "cell_type": "code",
   "execution_count": 314,
   "id": "15eda24e",
   "metadata": {},
   "outputs": [],
   "source": [
    "data['street'] = data['address'].str.lower()\n",
    "data['street'] = data['street'].str.split(\", \")\n",
    "data['street'] = data['street'].str.get(1)"
   ]
  },
  {
   "cell_type": "code",
   "execution_count": 315,
   "id": "4ecc8f7f",
   "metadata": {
    "scrolled": false
   },
   "outputs": [
    {
     "data": {
      "text/html": [
       "<div>\n",
       "<style scoped>\n",
       "    .dataframe tbody tr th:only-of-type {\n",
       "        vertical-align: middle;\n",
       "    }\n",
       "\n",
       "    .dataframe tbody tr th {\n",
       "        vertical-align: top;\n",
       "    }\n",
       "\n",
       "    .dataframe thead th {\n",
       "        text-align: right;\n",
       "    }\n",
       "</style>\n",
       "<table border=\"1\" class=\"dataframe\">\n",
       "  <thead>\n",
       "    <tr style=\"text-align: right;\">\n",
       "      <th></th>\n",
       "      <th>id</th>\n",
       "      <th>object_name</th>\n",
       "      <th>chain</th>\n",
       "      <th>object_type</th>\n",
       "      <th>address</th>\n",
       "      <th>number</th>\n",
       "      <th>street</th>\n",
       "    </tr>\n",
       "  </thead>\n",
       "  <tbody>\n",
       "    <tr>\n",
       "      <th>0</th>\n",
       "      <td>0</td>\n",
       "      <td>Сметана</td>\n",
       "      <td>False</td>\n",
       "      <td>кафе</td>\n",
       "      <td>город Москва, улица Егора Абакумова, дом 9</td>\n",
       "      <td>48</td>\n",
       "      <td>улица егора абакумова</td>\n",
       "    </tr>\n",
       "    <tr>\n",
       "      <th>1</th>\n",
       "      <td>1</td>\n",
       "      <td>Родник</td>\n",
       "      <td>False</td>\n",
       "      <td>кафе</td>\n",
       "      <td>город Москва, улица Талалихина, дом 2/1, корпус 1</td>\n",
       "      <td>35</td>\n",
       "      <td>улица талалихина</td>\n",
       "    </tr>\n",
       "    <tr>\n",
       "      <th>2</th>\n",
       "      <td>2</td>\n",
       "      <td>Кафе «Академия»</td>\n",
       "      <td>False</td>\n",
       "      <td>кафе</td>\n",
       "      <td>город Москва, Абельмановская улица, дом 6</td>\n",
       "      <td>95</td>\n",
       "      <td>абельмановская улица</td>\n",
       "    </tr>\n",
       "    <tr>\n",
       "      <th>3</th>\n",
       "      <td>3</td>\n",
       "      <td>Пиццетория</td>\n",
       "      <td>True</td>\n",
       "      <td>кафе</td>\n",
       "      <td>город Москва, Абрамцевская улица, дом 1</td>\n",
       "      <td>40</td>\n",
       "      <td>абрамцевская улица</td>\n",
       "    </tr>\n",
       "    <tr>\n",
       "      <th>4</th>\n",
       "      <td>4</td>\n",
       "      <td>Кафе «Вишневая Метель»</td>\n",
       "      <td>False</td>\n",
       "      <td>кафе</td>\n",
       "      <td>город Москва, Абрамцевская улица, дом 9, корпус 1</td>\n",
       "      <td>50</td>\n",
       "      <td>абрамцевская улица</td>\n",
       "    </tr>\n",
       "  </tbody>\n",
       "</table>\n",
       "</div>"
      ],
      "text/plain": [
       "   id             object_name  chain object_type  \\\n",
       "0   0                 Сметана  False        кафе   \n",
       "1   1                  Родник  False        кафе   \n",
       "2   2         Кафе «Академия»  False        кафе   \n",
       "3   3              Пиццетория   True        кафе   \n",
       "4   4  Кафе «Вишневая Метель»  False        кафе   \n",
       "\n",
       "                                             address  number  \\\n",
       "0         город Москва, улица Егора Абакумова, дом 9      48   \n",
       "1  город Москва, улица Талалихина, дом 2/1, корпус 1      35   \n",
       "2          город Москва, Абельмановская улица, дом 6      95   \n",
       "3            город Москва, Абрамцевская улица, дом 1      40   \n",
       "4  город Москва, Абрамцевская улица, дом 9, корпус 1      50   \n",
       "\n",
       "                  street  \n",
       "0  улица егора абакумова  \n",
       "1       улица талалихина  \n",
       "2   абельмановская улица  \n",
       "3     абрамцевская улица  \n",
       "4     абрамцевская улица  "
      ]
     },
     "execution_count": 315,
     "metadata": {},
     "output_type": "execute_result"
    }
   ],
   "source": [
    "data.head(5)"
   ]
  },
  {
   "cell_type": "code",
   "execution_count": 316,
   "id": "4bf45b33",
   "metadata": {},
   "outputs": [],
   "source": [
    "data_moscow['street'] = data_moscow['address'].str.lower()\n",
    "data_moscow['street'] = data_moscow['street'].str.split(\", \")\n",
    "data_moscow['street'] = data_moscow['street'].str.get(1)"
   ]
  },
  {
   "cell_type": "code",
   "execution_count": 317,
   "id": "d430ae4d",
   "metadata": {
    "scrolled": false
   },
   "outputs": [
    {
     "data": {
      "text/html": [
       "<div>\n",
       "<style scoped>\n",
       "    .dataframe tbody tr th:only-of-type {\n",
       "        vertical-align: middle;\n",
       "    }\n",
       "\n",
       "    .dataframe tbody tr th {\n",
       "        vertical-align: top;\n",
       "    }\n",
       "\n",
       "    .dataframe thead th {\n",
       "        text-align: right;\n",
       "    }\n",
       "</style>\n",
       "<table border=\"1\" class=\"dataframe\">\n",
       "  <thead>\n",
       "    <tr style=\"text-align: right;\">\n",
       "      <th></th>\n",
       "      <th>id</th>\n",
       "      <th>name</th>\n",
       "      <th>global_id</th>\n",
       "      <th>is_net_object</th>\n",
       "      <th>operating_company</th>\n",
       "      <th>type_object</th>\n",
       "      <th>adm_area</th>\n",
       "      <th>district</th>\n",
       "      <th>address</th>\n",
       "      <th>public_phone</th>\n",
       "      <th>seats_count</th>\n",
       "      <th>social_privileges</th>\n",
       "      <th>longitude_WGS84</th>\n",
       "      <th>latitude_WGS84</th>\n",
       "      <th>geodata_center</th>\n",
       "      <th>geoarea</th>\n",
       "      <th>street</th>\n",
       "    </tr>\n",
       "  </thead>\n",
       "  <tbody>\n",
       "    <tr>\n",
       "      <th>0</th>\n",
       "      <td>Код</td>\n",
       "      <td>Наименование</td>\n",
       "      <td>global_id</td>\n",
       "      <td>Является сетевым</td>\n",
       "      <td>Название управляющей компании</td>\n",
       "      <td>Вид объекта</td>\n",
       "      <td>Административный округ по адресу</td>\n",
       "      <td>Район</td>\n",
       "      <td>Адрес</td>\n",
       "      <td>Контактный телефон</td>\n",
       "      <td>Число посадочных мест</td>\n",
       "      <td>Показатель социальных льгот</td>\n",
       "      <td>Долгота в WGS-84</td>\n",
       "      <td>Широта в WGS-84</td>\n",
       "      <td>geodata_center</td>\n",
       "      <td>geoarea</td>\n",
       "      <td>NaN</td>\n",
       "    </tr>\n",
       "    <tr>\n",
       "      <th>1</th>\n",
       "      <td>00151635</td>\n",
       "      <td>СМЕТАНА</td>\n",
       "      <td>637376221</td>\n",
       "      <td>нет</td>\n",
       "      <td>NaN</td>\n",
       "      <td>кафе</td>\n",
       "      <td>Северо-Восточный административный округ</td>\n",
       "      <td>Ярославский район</td>\n",
       "      <td>город Москва, улица Егора Абакумова, дом 9</td>\n",
       "      <td>PublicPhone:(499) 183-14-10\\n\\n</td>\n",
       "      <td>48</td>\n",
       "      <td>нет</td>\n",
       "      <td>37.7145650004360390</td>\n",
       "      <td>55.8790015313033730</td>\n",
       "      <td>NaN</td>\n",
       "      <td>NaN</td>\n",
       "      <td>улица егора абакумова</td>\n",
       "    </tr>\n",
       "    <tr>\n",
       "      <th>2</th>\n",
       "      <td>000077874</td>\n",
       "      <td>Родник</td>\n",
       "      <td>637376331</td>\n",
       "      <td>нет</td>\n",
       "      <td>NaN</td>\n",
       "      <td>кафе</td>\n",
       "      <td>Центральный административный округ</td>\n",
       "      <td>Таганский район</td>\n",
       "      <td>город Москва, улица Талалихина, дом 2/1, корпус 1</td>\n",
       "      <td>PublicPhone:(495) 676-55-35\\n\\n</td>\n",
       "      <td>35</td>\n",
       "      <td>нет</td>\n",
       "      <td>37.6733061300344000</td>\n",
       "      <td>55.7382386551547000</td>\n",
       "      <td>NaN</td>\n",
       "      <td>NaN</td>\n",
       "      <td>улица талалихина</td>\n",
       "    </tr>\n",
       "    <tr>\n",
       "      <th>3</th>\n",
       "      <td>000024309</td>\n",
       "      <td>Кафе «Академия»</td>\n",
       "      <td>637376349</td>\n",
       "      <td>нет</td>\n",
       "      <td>NaN</td>\n",
       "      <td>ресторан</td>\n",
       "      <td>Центральный административный округ</td>\n",
       "      <td>Таганский район</td>\n",
       "      <td>Российская Федерация, город Москва, внутригоро...</td>\n",
       "      <td>PublicPhone:(495) 662-30-10\\n\\n</td>\n",
       "      <td>95</td>\n",
       "      <td>нет</td>\n",
       "      <td>37.6696475969381000</td>\n",
       "      <td>55.7355114718314000</td>\n",
       "      <td>NaN</td>\n",
       "      <td>NaN</td>\n",
       "      <td>город москва</td>\n",
       "    </tr>\n",
       "    <tr>\n",
       "      <th>4</th>\n",
       "      <td>000027429</td>\n",
       "      <td>ГБОУ «Школа № 1430 имени Героя Социалистическо...</td>\n",
       "      <td>637376480</td>\n",
       "      <td>нет</td>\n",
       "      <td>NaN</td>\n",
       "      <td>столовая</td>\n",
       "      <td>Северо-Восточный административный округ</td>\n",
       "      <td>район Лианозово</td>\n",
       "      <td>город Москва, Угличская улица, дом 17</td>\n",
       "      <td>PublicPhone:(499) 908-06-15\\n\\n</td>\n",
       "      <td>240</td>\n",
       "      <td>нет</td>\n",
       "      <td>37.5669400000000020</td>\n",
       "      <td>55.9040188006692200</td>\n",
       "      <td>NaN</td>\n",
       "      <td>NaN</td>\n",
       "      <td>угличская улица</td>\n",
       "    </tr>\n",
       "  </tbody>\n",
       "</table>\n",
       "</div>"
      ],
      "text/plain": [
       "          id                                               name  global_id  \\\n",
       "0        Код                                       Наименование  global_id   \n",
       "1   00151635                                            СМЕТАНА  637376221   \n",
       "2  000077874                                             Родник  637376331   \n",
       "3  000024309                                    Кафе «Академия»  637376349   \n",
       "4  000027429  ГБОУ «Школа № 1430 имени Героя Социалистическо...  637376480   \n",
       "\n",
       "      is_net_object              operating_company  type_object  \\\n",
       "0  Является сетевым  Название управляющей компании  Вид объекта   \n",
       "1               нет                            NaN         кафе   \n",
       "2               нет                            NaN         кафе   \n",
       "3               нет                            NaN     ресторан   \n",
       "4               нет                            NaN     столовая   \n",
       "\n",
       "                                  adm_area           district  \\\n",
       "0         Административный округ по адресу              Район   \n",
       "1  Северо-Восточный административный округ  Ярославский район   \n",
       "2       Центральный административный округ    Таганский район   \n",
       "3       Центральный административный округ    Таганский район   \n",
       "4  Северо-Восточный административный округ    район Лианозово   \n",
       "\n",
       "                                             address  \\\n",
       "0                                              Адрес   \n",
       "1         город Москва, улица Егора Абакумова, дом 9   \n",
       "2  город Москва, улица Талалихина, дом 2/1, корпус 1   \n",
       "3  Российская Федерация, город Москва, внутригоро...   \n",
       "4              город Москва, Угличская улица, дом 17   \n",
       "\n",
       "                      public_phone            seats_count  \\\n",
       "0               Контактный телефон  Число посадочных мест   \n",
       "1  PublicPhone:(499) 183-14-10\\n\\n                     48   \n",
       "2  PublicPhone:(495) 676-55-35\\n\\n                     35   \n",
       "3  PublicPhone:(495) 662-30-10\\n\\n                     95   \n",
       "4  PublicPhone:(499) 908-06-15\\n\\n                    240   \n",
       "\n",
       "             social_privileges      longitude_WGS84       latitude_WGS84  \\\n",
       "0  Показатель социальных льгот     Долгота в WGS-84      Широта в WGS-84   \n",
       "1                          нет  37.7145650004360390  55.8790015313033730   \n",
       "2                          нет  37.6733061300344000  55.7382386551547000   \n",
       "3                          нет  37.6696475969381000  55.7355114718314000   \n",
       "4                          нет  37.5669400000000020  55.9040188006692200   \n",
       "\n",
       "   geodata_center  geoarea                 street  \n",
       "0  geodata_center  geoarea                    NaN  \n",
       "1             NaN      NaN  улица егора абакумова  \n",
       "2             NaN      NaN       улица талалихина  \n",
       "3             NaN      NaN           город москва  \n",
       "4             NaN      NaN        угличская улица  "
      ]
     },
     "execution_count": 317,
     "metadata": {},
     "output_type": "execute_result"
    }
   ],
   "source": [
    "data_moscow.head(5)"
   ]
  },
  {
   "cell_type": "markdown",
   "id": "b46f6687",
   "metadata": {},
   "source": [
    "Составим справочник московских улиц и районов"
   ]
  },
  {
   "cell_type": "code",
   "execution_count": 318,
   "id": "924c377c",
   "metadata": {
    "scrolled": false
   },
   "outputs": [
    {
     "data": {
      "text/html": [
       "<div>\n",
       "<style scoped>\n",
       "    .dataframe tbody tr th:only-of-type {\n",
       "        vertical-align: middle;\n",
       "    }\n",
       "\n",
       "    .dataframe tbody tr th {\n",
       "        vertical-align: top;\n",
       "    }\n",
       "\n",
       "    .dataframe thead th {\n",
       "        text-align: right;\n",
       "    }\n",
       "</style>\n",
       "<table border=\"1\" class=\"dataframe\">\n",
       "  <thead>\n",
       "    <tr style=\"text-align: right;\">\n",
       "      <th></th>\n",
       "      <th>address</th>\n",
       "      <th>district</th>\n",
       "    </tr>\n",
       "  </thead>\n",
       "  <tbody>\n",
       "    <tr>\n",
       "      <th>0</th>\n",
       "      <td>Адрес</td>\n",
       "      <td>Район</td>\n",
       "    </tr>\n",
       "    <tr>\n",
       "      <th>1</th>\n",
       "      <td>город Москва, улица Егора Абакумова, дом 9</td>\n",
       "      <td>Ярославский район</td>\n",
       "    </tr>\n",
       "    <tr>\n",
       "      <th>2</th>\n",
       "      <td>город Москва, улица Талалихина, дом 2/1, корпус 1</td>\n",
       "      <td>Таганский район</td>\n",
       "    </tr>\n",
       "    <tr>\n",
       "      <th>3</th>\n",
       "      <td>Российская Федерация, город Москва, внутригоро...</td>\n",
       "      <td>Таганский район</td>\n",
       "    </tr>\n",
       "    <tr>\n",
       "      <th>4</th>\n",
       "      <td>город Москва, Угличская улица, дом 17</td>\n",
       "      <td>район Лианозово</td>\n",
       "    </tr>\n",
       "    <tr>\n",
       "      <th>...</th>\n",
       "      <td>...</td>\n",
       "      <td>...</td>\n",
       "    </tr>\n",
       "    <tr>\n",
       "      <th>19728</th>\n",
       "      <td>Российская Федерация, город Москва, внутригоро...</td>\n",
       "      <td>Алексеевский район</td>\n",
       "    </tr>\n",
       "    <tr>\n",
       "      <th>19729</th>\n",
       "      <td>Российская Федерация, город Москва, внутригоро...</td>\n",
       "      <td>Алексеевский район</td>\n",
       "    </tr>\n",
       "    <tr>\n",
       "      <th>19730</th>\n",
       "      <td>город Москва, Русаковская улица, дом 31</td>\n",
       "      <td>район Сокольники</td>\n",
       "    </tr>\n",
       "    <tr>\n",
       "      <th>19731</th>\n",
       "      <td>Российская Федерация, город Москва, внутригоро...</td>\n",
       "      <td>Тверской район</td>\n",
       "    </tr>\n",
       "    <tr>\n",
       "      <th>19732</th>\n",
       "      <td>Российская Федерация, город Москва, внутригоро...</td>\n",
       "      <td>Тверской район</td>\n",
       "    </tr>\n",
       "  </tbody>\n",
       "</table>\n",
       "<p>19733 rows × 2 columns</p>\n",
       "</div>"
      ],
      "text/plain": [
       "                                                 address            district\n",
       "0                                                  Адрес               Район\n",
       "1             город Москва, улица Егора Абакумова, дом 9   Ярославский район\n",
       "2      город Москва, улица Талалихина, дом 2/1, корпус 1     Таганский район\n",
       "3      Российская Федерация, город Москва, внутригоро...     Таганский район\n",
       "4                  город Москва, Угличская улица, дом 17     район Лианозово\n",
       "...                                                  ...                 ...\n",
       "19728  Российская Федерация, город Москва, внутригоро...  Алексеевский район\n",
       "19729  Российская Федерация, город Москва, внутригоро...  Алексеевский район\n",
       "19730            город Москва, Русаковская улица, дом 31    район Сокольники\n",
       "19731  Российская Федерация, город Москва, внутригоро...      Тверской район\n",
       "19732  Российская Федерация, город Москва, внутригоро...      Тверской район\n",
       "\n",
       "[19733 rows x 2 columns]"
      ]
     },
     "execution_count": 318,
     "metadata": {},
     "output_type": "execute_result"
    }
   ],
   "source": [
    "data_moscow_district = data_moscow[['address', 'district']]\n",
    "data_moscow_district"
   ]
  },
  {
   "cell_type": "code",
   "execution_count": 319,
   "id": "fa766369",
   "metadata": {
    "scrolled": false
   },
   "outputs": [
    {
     "data": {
      "text/html": [
       "<div>\n",
       "<style scoped>\n",
       "    .dataframe tbody tr th:only-of-type {\n",
       "        vertical-align: middle;\n",
       "    }\n",
       "\n",
       "    .dataframe tbody tr th {\n",
       "        vertical-align: top;\n",
       "    }\n",
       "\n",
       "    .dataframe thead th {\n",
       "        text-align: right;\n",
       "    }\n",
       "</style>\n",
       "<table border=\"1\" class=\"dataframe\">\n",
       "  <thead>\n",
       "    <tr style=\"text-align: right;\">\n",
       "      <th></th>\n",
       "      <th>address</th>\n",
       "      <th>district</th>\n",
       "    </tr>\n",
       "  </thead>\n",
       "  <tbody>\n",
       "    <tr>\n",
       "      <th>4217</th>\n",
       "      <td>1-й Красногвардейский проезд, дом 15, помещени...</td>\n",
       "      <td>Пресненский район</td>\n",
       "    </tr>\n",
       "    <tr>\n",
       "      <th>869</th>\n",
       "      <td>1-й Нагатинский проезд, дом 14, машино-место 120</td>\n",
       "      <td>район Нагатино-Садовники</td>\n",
       "    </tr>\n",
       "    <tr>\n",
       "      <th>2701</th>\n",
       "      <td>17-й проезд Марьиной Рощи, дом 4, машино-место...</td>\n",
       "      <td>район Марьина Роща</td>\n",
       "    </tr>\n",
       "    <tr>\n",
       "      <th>10819</th>\n",
       "      <td>2-й Грайвороновский проезд, дом 44, корпус 2</td>\n",
       "      <td>Рязанский район</td>\n",
       "    </tr>\n",
       "    <tr>\n",
       "      <th>5731</th>\n",
       "      <td>2-я Тверская-Ямская улица, дом 40/3, строение 1</td>\n",
       "      <td>Тверской район</td>\n",
       "    </tr>\n",
       "    <tr>\n",
       "      <th>...</th>\n",
       "      <td>...</td>\n",
       "      <td>...</td>\n",
       "    </tr>\n",
       "    <tr>\n",
       "      <th>9336</th>\n",
       "      <td>улица Расплетина, дом 1, квартира 38, комната 1</td>\n",
       "      <td>район Щукино</td>\n",
       "    </tr>\n",
       "    <tr>\n",
       "      <th>10562</th>\n",
       "      <td>улица Рождественка, дом 6/9/20, строение 11</td>\n",
       "      <td>Мещанский район</td>\n",
       "    </tr>\n",
       "    <tr>\n",
       "      <th>10965</th>\n",
       "      <td>улица Свободы, дом 48, строение 1</td>\n",
       "      <td>район Южное Тушино</td>\n",
       "    </tr>\n",
       "    <tr>\n",
       "      <th>5725</th>\n",
       "      <td>улица Солянка, дом 1/2, строение 1, помещение ...</td>\n",
       "      <td>Басманный район</td>\n",
       "    </tr>\n",
       "    <tr>\n",
       "      <th>11208</th>\n",
       "      <td>улица Твардовского, дом 12, корпус 3, помещени...</td>\n",
       "      <td>район Строгино</td>\n",
       "    </tr>\n",
       "  </tbody>\n",
       "</table>\n",
       "<p>11222 rows × 2 columns</p>\n",
       "</div>"
      ],
      "text/plain": [
       "                                                 address  \\\n",
       "4217   1-й Красногвардейский проезд, дом 15, помещени...   \n",
       "869     1-й Нагатинский проезд, дом 14, машино-место 120   \n",
       "2701   17-й проезд Марьиной Рощи, дом 4, машино-место...   \n",
       "10819       2-й Грайвороновский проезд, дом 44, корпус 2   \n",
       "5731     2-я Тверская-Ямская улица, дом 40/3, строение 1   \n",
       "...                                                  ...   \n",
       "9336     улица Расплетина, дом 1, квартира 38, комната 1   \n",
       "10562        улица Рождественка, дом 6/9/20, строение 11   \n",
       "10965                  улица Свободы, дом 48, строение 1   \n",
       "5725   улица Солянка, дом 1/2, строение 1, помещение ...   \n",
       "11208  улица Твардовского, дом 12, корпус 3, помещени...   \n",
       "\n",
       "                       district  \n",
       "4217          Пресненский район  \n",
       "869    район Нагатино-Садовники  \n",
       "2701         район Марьина Роща  \n",
       "10819           Рязанский район  \n",
       "5731             Тверской район  \n",
       "...                         ...  \n",
       "9336               район Щукино  \n",
       "10562           Мещанский район  \n",
       "10965        район Южное Тушино  \n",
       "5725            Басманный район  \n",
       "11208            район Строгино  \n",
       "\n",
       "[11222 rows x 2 columns]"
      ]
     },
     "execution_count": 319,
     "metadata": {},
     "output_type": "execute_result"
    }
   ],
   "source": [
    "data_moscow_district = data_moscow_district.drop_duplicates().reset_index(drop=True)\n",
    "data_moscow_district = data_moscow_district.sort_values(by='address', ascending=True)\n",
    "data_moscow_district = data_moscow_district.dropna()\n",
    "data_moscow_district"
   ]
  },
  {
   "cell_type": "code",
   "execution_count": 320,
   "id": "d8f61f64",
   "metadata": {},
   "outputs": [],
   "source": [
    "data = data.merge(data_moscow_district, on='address', how='left')"
   ]
  },
  {
   "cell_type": "code",
   "execution_count": 321,
   "id": "ff08611c",
   "metadata": {
    "scrolled": true
   },
   "outputs": [],
   "source": [
    "data = data.dropna()"
   ]
  },
  {
   "cell_type": "code",
   "execution_count": 322,
   "id": "e8058d56",
   "metadata": {},
   "outputs": [
    {
     "data": {
      "text/html": [
       "<div>\n",
       "<style scoped>\n",
       "    .dataframe tbody tr th:only-of-type {\n",
       "        vertical-align: middle;\n",
       "    }\n",
       "\n",
       "    .dataframe tbody tr th {\n",
       "        vertical-align: top;\n",
       "    }\n",
       "\n",
       "    .dataframe thead th {\n",
       "        text-align: right;\n",
       "    }\n",
       "</style>\n",
       "<table border=\"1\" class=\"dataframe\">\n",
       "  <thead>\n",
       "    <tr style=\"text-align: right;\">\n",
       "      <th></th>\n",
       "      <th>id</th>\n",
       "      <th>object_name</th>\n",
       "      <th>chain</th>\n",
       "      <th>object_type</th>\n",
       "      <th>address</th>\n",
       "      <th>number</th>\n",
       "      <th>street</th>\n",
       "      <th>district</th>\n",
       "    </tr>\n",
       "  </thead>\n",
       "  <tbody>\n",
       "    <tr>\n",
       "      <th>0</th>\n",
       "      <td>0</td>\n",
       "      <td>Сметана</td>\n",
       "      <td>False</td>\n",
       "      <td>кафе</td>\n",
       "      <td>город Москва, улица Егора Абакумова, дом 9</td>\n",
       "      <td>48</td>\n",
       "      <td>улица егора абакумова</td>\n",
       "      <td>Ярославский район</td>\n",
       "    </tr>\n",
       "    <tr>\n",
       "      <th>1</th>\n",
       "      <td>1</td>\n",
       "      <td>Родник</td>\n",
       "      <td>False</td>\n",
       "      <td>кафе</td>\n",
       "      <td>город Москва, улица Талалихина, дом 2/1, корпус 1</td>\n",
       "      <td>35</td>\n",
       "      <td>улица талалихина</td>\n",
       "      <td>Таганский район</td>\n",
       "    </tr>\n",
       "    <tr>\n",
       "      <th>3</th>\n",
       "      <td>3</td>\n",
       "      <td>Пиццетория</td>\n",
       "      <td>True</td>\n",
       "      <td>кафе</td>\n",
       "      <td>город Москва, Абрамцевская улица, дом 1</td>\n",
       "      <td>40</td>\n",
       "      <td>абрамцевская улица</td>\n",
       "      <td>район Лианозово</td>\n",
       "    </tr>\n",
       "    <tr>\n",
       "      <th>6</th>\n",
       "      <td>6</td>\n",
       "      <td>Брусника</td>\n",
       "      <td>True</td>\n",
       "      <td>кафе</td>\n",
       "      <td>город Москва, переулок Сивцев Вражек, дом 6/2</td>\n",
       "      <td>10</td>\n",
       "      <td>переулок сивцев вражек</td>\n",
       "      <td>район Арбат</td>\n",
       "    </tr>\n",
       "    <tr>\n",
       "      <th>7</th>\n",
       "      <td>7</td>\n",
       "      <td>Буфет Мтуси</td>\n",
       "      <td>False</td>\n",
       "      <td>столовая</td>\n",
       "      <td>город Москва, Авиамоторная улица, дом 8, строе...</td>\n",
       "      <td>90</td>\n",
       "      <td>авиамоторная улица</td>\n",
       "      <td>район Лефортово</td>\n",
       "    </tr>\n",
       "  </tbody>\n",
       "</table>\n",
       "</div>"
      ],
      "text/plain": [
       "   id  object_name  chain object_type  \\\n",
       "0   0      Сметана  False        кафе   \n",
       "1   1       Родник  False        кафе   \n",
       "3   3   Пиццетория   True        кафе   \n",
       "6   6     Брусника   True        кафе   \n",
       "7   7  Буфет Мтуси  False    столовая   \n",
       "\n",
       "                                             address  number  \\\n",
       "0         город Москва, улица Егора Абакумова, дом 9      48   \n",
       "1  город Москва, улица Талалихина, дом 2/1, корпус 1      35   \n",
       "3            город Москва, Абрамцевская улица, дом 1      40   \n",
       "6      город Москва, переулок Сивцев Вражек, дом 6/2      10   \n",
       "7  город Москва, Авиамоторная улица, дом 8, строе...      90   \n",
       "\n",
       "                   street           district  \n",
       "0   улица егора абакумова  Ярославский район  \n",
       "1        улица талалихина    Таганский район  \n",
       "3      абрамцевская улица    район Лианозово  \n",
       "6  переулок сивцев вражек        район Арбат  \n",
       "7      авиамоторная улица    район Лефортово  "
      ]
     },
     "execution_count": 322,
     "metadata": {},
     "output_type": "execute_result"
    }
   ],
   "source": [
    "data.head()"
   ]
  },
  {
   "cell_type": "markdown",
   "id": "3c725740",
   "metadata": {},
   "source": [
    "Составим топ-10 улиц Москвы по количеству заведений общепита, исключив при этом из топа районы пригородов."
   ]
  },
  {
   "cell_type": "code",
   "execution_count": 323,
   "id": "b89ae386",
   "metadata": {
    "scrolled": false
   },
   "outputs": [
    {
     "name": "stderr",
     "output_type": "stream",
     "text": [
      "C:\\Users\\dsaulin\\AppData\\Local\\Temp/ipykernel_8336/2553567963.py:1: FutureWarning: Indexing with multiple keys (implicitly converted to a tuple of keys) will be deprecated, use a list instead.\n",
      "  data_top_10 = (data.query('street != \"город зеленоград\" and street != \"поселение сосенское\"')\n"
     ]
    },
    {
     "data": {
      "text/html": [
       "<div>\n",
       "<style scoped>\n",
       "    .dataframe tbody tr th:only-of-type {\n",
       "        vertical-align: middle;\n",
       "    }\n",
       "\n",
       "    .dataframe tbody tr th {\n",
       "        vertical-align: top;\n",
       "    }\n",
       "\n",
       "    .dataframe thead th {\n",
       "        text-align: right;\n",
       "    }\n",
       "</style>\n",
       "<table border=\"1\" class=\"dataframe\">\n",
       "  <thead>\n",
       "    <tr style=\"text-align: right;\">\n",
       "      <th></th>\n",
       "      <th>Улица Москвы</th>\n",
       "      <th>Количество заведений</th>\n",
       "      <th>Количество посадочных мест</th>\n",
       "      <th>Список районов</th>\n",
       "    </tr>\n",
       "  </thead>\n",
       "  <tbody>\n",
       "    <tr>\n",
       "      <th>0</th>\n",
       "      <td>проспект мира</td>\n",
       "      <td>173</td>\n",
       "      <td>11715</td>\n",
       "      <td>{Алексеевский район, район Ростокино, Мещански...</td>\n",
       "    </tr>\n",
       "    <tr>\n",
       "      <th>1</th>\n",
       "      <td>профсоюзная улица</td>\n",
       "      <td>143</td>\n",
       "      <td>7337</td>\n",
       "      <td>{район Ясенево, район Тёплый Стан, Обручевский...</td>\n",
       "    </tr>\n",
       "    <tr>\n",
       "      <th>2</th>\n",
       "      <td>кутузовский проспект</td>\n",
       "      <td>142</td>\n",
       "      <td>10415</td>\n",
       "      <td>{район Фили-Давыдково, поселение Краснопахорск...</td>\n",
       "    </tr>\n",
       "    <tr>\n",
       "      <th>3</th>\n",
       "      <td>ленинградский проспект</td>\n",
       "      <td>139</td>\n",
       "      <td>7169</td>\n",
       "      <td>{район Беговой, район Сокол, Хорошёвский район...</td>\n",
       "    </tr>\n",
       "    <tr>\n",
       "      <th>4</th>\n",
       "      <td>пресненская набережная</td>\n",
       "      <td>135</td>\n",
       "      <td>6678</td>\n",
       "      <td>{Пресненский район}</td>\n",
       "    </tr>\n",
       "    <tr>\n",
       "      <th>5</th>\n",
       "      <td>варшавское шоссе</td>\n",
       "      <td>120</td>\n",
       "      <td>6043</td>\n",
       "      <td>{Нагорный район, район Чертаново Северное, рай...</td>\n",
       "    </tr>\n",
       "    <tr>\n",
       "      <th>6</th>\n",
       "      <td>ленинский проспект</td>\n",
       "      <td>116</td>\n",
       "      <td>7560</td>\n",
       "      <td>{район Проспект Вернадского, Гагаринский район...</td>\n",
       "    </tr>\n",
       "    <tr>\n",
       "      <th>7</th>\n",
       "      <td>проспект вернадского</td>\n",
       "      <td>103</td>\n",
       "      <td>6045</td>\n",
       "      <td>{район Проспект Вернадского, Ломоносовский рай...</td>\n",
       "    </tr>\n",
       "    <tr>\n",
       "      <th>8</th>\n",
       "      <td>кировоградская улица</td>\n",
       "      <td>102</td>\n",
       "      <td>5525</td>\n",
       "      <td>{район Чертаново Северное, район Чертаново Цен...</td>\n",
       "    </tr>\n",
       "    <tr>\n",
       "      <th>9</th>\n",
       "      <td>ходынский бульвар</td>\n",
       "      <td>99</td>\n",
       "      <td>1663</td>\n",
       "      <td>{Хорошёвский район}</td>\n",
       "    </tr>\n",
       "  </tbody>\n",
       "</table>\n",
       "</div>"
      ],
      "text/plain": [
       "             Улица Москвы  Количество заведений  Количество посадочных мест  \\\n",
       "0           проспект мира                   173                       11715   \n",
       "1       профсоюзная улица                   143                        7337   \n",
       "2    кутузовский проспект                   142                       10415   \n",
       "3  ленинградский проспект                   139                        7169   \n",
       "4  пресненская набережная                   135                        6678   \n",
       "5        варшавское шоссе                   120                        6043   \n",
       "6      ленинский проспект                   116                        7560   \n",
       "7    проспект вернадского                   103                        6045   \n",
       "8    кировоградская улица                   102                        5525   \n",
       "9       ходынский бульвар                    99                        1663   \n",
       "\n",
       "                                      Список районов  \n",
       "0  {Алексеевский район, район Ростокино, Мещански...  \n",
       "1  {район Ясенево, район Тёплый Стан, Обручевский...  \n",
       "2  {район Фили-Давыдково, поселение Краснопахорск...  \n",
       "3  {район Беговой, район Сокол, Хорошёвский район...  \n",
       "4                                {Пресненский район}  \n",
       "5  {Нагорный район, район Чертаново Северное, рай...  \n",
       "6  {район Проспект Вернадского, Гагаринский район...  \n",
       "7  {район Проспект Вернадского, Ломоносовский рай...  \n",
       "8  {район Чертаново Северное, район Чертаново Цен...  \n",
       "9                                {Хорошёвский район}  "
      ]
     },
     "execution_count": 323,
     "metadata": {},
     "output_type": "execute_result"
    }
   ],
   "source": [
    "data_top_10 = (data.query('street != \"город зеленоград\" and street != \"поселение сосенское\"')\n",
    "               .groupby('street')['id', 'number', 'district']\n",
    "               .agg({'id':'count', 'number':'sum', 'district': set})\n",
    "               .sort_values(by='id', ascending=False)\n",
    "               .reset_index()\n",
    "               .head(10)\n",
    ")\n",
    "data_top_10.columns = ['Улица Москвы', 'Количество заведений', 'Количество посадочных мест', 'Список районов']\n",
    "\n",
    "\n",
    "\n",
    "data_top_10\n",
    "\n",
    "# 'district':list"
   ]
  },
  {
   "cell_type": "code",
   "execution_count": 324,
   "id": "a2223dcd",
   "metadata": {},
   "outputs": [
    {
     "data": {
      "text/html": [
       "<div>\n",
       "<style scoped>\n",
       "    .dataframe tbody tr th:only-of-type {\n",
       "        vertical-align: middle;\n",
       "    }\n",
       "\n",
       "    .dataframe tbody tr th {\n",
       "        vertical-align: top;\n",
       "    }\n",
       "\n",
       "    .dataframe thead th {\n",
       "        text-align: right;\n",
       "    }\n",
       "</style>\n",
       "<table border=\"1\" class=\"dataframe\">\n",
       "  <thead>\n",
       "    <tr style=\"text-align: right;\">\n",
       "      <th></th>\n",
       "      <th>Улица Москвы</th>\n",
       "      <th>Количество заведений</th>\n",
       "      <th>Количество посадочных мест</th>\n",
       "      <th>Список районов</th>\n",
       "      <th>Среднее количество посадочных мест</th>\n",
       "    </tr>\n",
       "  </thead>\n",
       "  <tbody>\n",
       "    <tr>\n",
       "      <th>0</th>\n",
       "      <td>проспект мира</td>\n",
       "      <td>173</td>\n",
       "      <td>11715</td>\n",
       "      <td>{Алексеевский район, район Ростокино, Мещански...</td>\n",
       "      <td>67.716763</td>\n",
       "    </tr>\n",
       "    <tr>\n",
       "      <th>1</th>\n",
       "      <td>профсоюзная улица</td>\n",
       "      <td>143</td>\n",
       "      <td>7337</td>\n",
       "      <td>{район Ясенево, район Тёплый Стан, Обручевский...</td>\n",
       "      <td>51.307692</td>\n",
       "    </tr>\n",
       "    <tr>\n",
       "      <th>2</th>\n",
       "      <td>кутузовский проспект</td>\n",
       "      <td>142</td>\n",
       "      <td>10415</td>\n",
       "      <td>{район Фили-Давыдково, поселение Краснопахорск...</td>\n",
       "      <td>73.345070</td>\n",
       "    </tr>\n",
       "    <tr>\n",
       "      <th>3</th>\n",
       "      <td>ленинградский проспект</td>\n",
       "      <td>139</td>\n",
       "      <td>7169</td>\n",
       "      <td>{район Беговой, район Сокол, Хорошёвский район...</td>\n",
       "      <td>51.575540</td>\n",
       "    </tr>\n",
       "    <tr>\n",
       "      <th>4</th>\n",
       "      <td>пресненская набережная</td>\n",
       "      <td>135</td>\n",
       "      <td>6678</td>\n",
       "      <td>{Пресненский район}</td>\n",
       "      <td>49.466667</td>\n",
       "    </tr>\n",
       "    <tr>\n",
       "      <th>5</th>\n",
       "      <td>варшавское шоссе</td>\n",
       "      <td>120</td>\n",
       "      <td>6043</td>\n",
       "      <td>{Нагорный район, район Чертаново Северное, рай...</td>\n",
       "      <td>50.358333</td>\n",
       "    </tr>\n",
       "    <tr>\n",
       "      <th>6</th>\n",
       "      <td>ленинский проспект</td>\n",
       "      <td>116</td>\n",
       "      <td>7560</td>\n",
       "      <td>{район Проспект Вернадского, Гагаринский район...</td>\n",
       "      <td>65.172414</td>\n",
       "    </tr>\n",
       "    <tr>\n",
       "      <th>7</th>\n",
       "      <td>проспект вернадского</td>\n",
       "      <td>103</td>\n",
       "      <td>6045</td>\n",
       "      <td>{район Проспект Вернадского, Ломоносовский рай...</td>\n",
       "      <td>58.689320</td>\n",
       "    </tr>\n",
       "    <tr>\n",
       "      <th>8</th>\n",
       "      <td>кировоградская улица</td>\n",
       "      <td>102</td>\n",
       "      <td>5525</td>\n",
       "      <td>{район Чертаново Северное, район Чертаново Цен...</td>\n",
       "      <td>54.166667</td>\n",
       "    </tr>\n",
       "    <tr>\n",
       "      <th>9</th>\n",
       "      <td>ходынский бульвар</td>\n",
       "      <td>99</td>\n",
       "      <td>1663</td>\n",
       "      <td>{Хорошёвский район}</td>\n",
       "      <td>16.797980</td>\n",
       "    </tr>\n",
       "  </tbody>\n",
       "</table>\n",
       "</div>"
      ],
      "text/plain": [
       "             Улица Москвы  Количество заведений  Количество посадочных мест  \\\n",
       "0           проспект мира                   173                       11715   \n",
       "1       профсоюзная улица                   143                        7337   \n",
       "2    кутузовский проспект                   142                       10415   \n",
       "3  ленинградский проспект                   139                        7169   \n",
       "4  пресненская набережная                   135                        6678   \n",
       "5        варшавское шоссе                   120                        6043   \n",
       "6      ленинский проспект                   116                        7560   \n",
       "7    проспект вернадского                   103                        6045   \n",
       "8    кировоградская улица                   102                        5525   \n",
       "9       ходынский бульвар                    99                        1663   \n",
       "\n",
       "                                      Список районов  \\\n",
       "0  {Алексеевский район, район Ростокино, Мещански...   \n",
       "1  {район Ясенево, район Тёплый Стан, Обручевский...   \n",
       "2  {район Фили-Давыдково, поселение Краснопахорск...   \n",
       "3  {район Беговой, район Сокол, Хорошёвский район...   \n",
       "4                                {Пресненский район}   \n",
       "5  {Нагорный район, район Чертаново Северное, рай...   \n",
       "6  {район Проспект Вернадского, Гагаринский район...   \n",
       "7  {район Проспект Вернадского, Ломоносовский рай...   \n",
       "8  {район Чертаново Северное, район Чертаново Цен...   \n",
       "9                                {Хорошёвский район}   \n",
       "\n",
       "   Среднее количество посадочных мест  \n",
       "0                           67.716763  \n",
       "1                           51.307692  \n",
       "2                           73.345070  \n",
       "3                           51.575540  \n",
       "4                           49.466667  \n",
       "5                           50.358333  \n",
       "6                           65.172414  \n",
       "7                           58.689320  \n",
       "8                           54.166667  \n",
       "9                           16.797980  "
      ]
     },
     "execution_count": 324,
     "metadata": {},
     "output_type": "execute_result"
    }
   ],
   "source": [
    "data_top_10['tables_ratio'] = data_top_10['Количество посадочных мест'] / data_top_10['Количество заведений']\n",
    "data_top_10.columns = ['Улица Москвы', 'Количество заведений', 'Количество посадочных мест', 'Список районов', 'Среднее количество посадочных мест']\n",
    "data_top_10"
   ]
  },
  {
   "cell_type": "code",
   "execution_count": 325,
   "id": "4ca67cc9",
   "metadata": {
    "scrolled": true
   },
   "outputs": [
    {
     "data": {
      "image/png": "[encoded data removed]",
      "text/plain": [
       "<Figure size 432x288 with 1 Axes>"
      ]
     },
     "metadata": {
      "needs_background": "light"
     },
     "output_type": "display_data"
    }
   ],
   "source": [
    "sns.barplot(x='Количество заведений', y='Улица Москвы', data=data_top_10, color='#99ccdd')\n",
    "plt.title('График улиц с максимальным количеством объектов общественного питания')\n",
    "plt.show()"
   ]
  },
  {
   "cell_type": "code",
   "execution_count": 326,
   "id": "e80600d2",
   "metadata": {
    "scrolled": true
   },
   "outputs": [
    {
     "data": {
      "image/png": "[encoded data removed]",
      "text/plain": [
       "<Figure size 432x288 with 1 Axes>"
      ]
     },
     "metadata": {
      "needs_background": "light"
     },
     "output_type": "display_data"
    }
   ],
   "source": [
    "sns.barplot(x='Количество посадочных мест', y='Улица Москвы', data=data_top_10, color='#99ccdd')\n",
    "plt.title('Распределение посадочных мест среди улиц Москвы из топ-10')\n",
    "plt.show()"
   ]
  },
  {
   "cell_type": "code",
   "execution_count": 327,
   "id": "faeb3ba1",
   "metadata": {
    "scrolled": false
   },
   "outputs": [
    {
     "data": {
      "image/png": "[encoded data removed]",
      "text/plain": [
       "<Figure size 432x288 with 1 Axes>"
      ]
     },
     "metadata": {
      "needs_background": "light"
     },
     "output_type": "display_data"
    }
   ],
   "source": [
    "sns.barplot(x='Среднее количество посадочных мест', y='Улица Москвы', data=data_top_10, color='#99ccdd')\n",
    "plt.title('Средние посадочных мест среди заведений улиц Москвы из топ-10')\n",
    "plt.show()"
   ]
  },
  {
   "cell_type": "markdown",
   "id": "24a1ed8c",
   "metadata": {},
   "source": [
    "В топ-10 попали самые магистрали столицы, некоторые из которых проходят через несколько районов. Отметим, по количеству посадочных мест лидирует улица с максимальным количеством заведений - Проспект Мира. Также по количеству посадочных мест выделяются Ленинский проспект и Кутузовский, и они же в компании Проспекта Вернадского лидируют по среднему количеству посадочных мест. Т.е крупные заведения концентрируются в районах и на улицах, не всегда совпадающих с рекордсменами по общему количеству заведений."
   ]
  },
  {
   "cell_type": "code",
   "execution_count": 328,
   "id": "215cf485",
   "metadata": {
    "scrolled": true
   },
   "outputs": [
    {
     "name": "stderr",
     "output_type": "stream",
     "text": [
      "C:\\Users\\dsaulin\\AppData\\Local\\Temp/ipykernel_8336/3345048928.py:1: FutureWarning: Indexing with multiple keys (implicitly converted to a tuple of keys) will be deprecated, use a list instead.\n",
      "  data_streets_districts = (data.groupby('street')['id', 'district']\n"
     ]
    },
    {
     "data": {
      "text/html": [
       "<div>\n",
       "<style scoped>\n",
       "    .dataframe tbody tr th:only-of-type {\n",
       "        vertical-align: middle;\n",
       "    }\n",
       "\n",
       "    .dataframe tbody tr th {\n",
       "        vertical-align: top;\n",
       "    }\n",
       "\n",
       "    .dataframe thead th {\n",
       "        text-align: right;\n",
       "    }\n",
       "</style>\n",
       "<table border=\"1\" class=\"dataframe\">\n",
       "  <thead>\n",
       "    <tr style=\"text-align: right;\">\n",
       "      <th></th>\n",
       "      <th>Улица Москвы</th>\n",
       "      <th>Количество заведений</th>\n",
       "      <th>Количество районов</th>\n",
       "    </tr>\n",
       "  </thead>\n",
       "  <tbody>\n",
       "    <tr>\n",
       "      <th>0</th>\n",
       "      <td>пресненская набережная</td>\n",
       "      <td>135</td>\n",
       "      <td>1</td>\n",
       "    </tr>\n",
       "    <tr>\n",
       "      <th>1</th>\n",
       "      <td>ходынский бульвар</td>\n",
       "      <td>99</td>\n",
       "      <td>1</td>\n",
       "    </tr>\n",
       "    <tr>\n",
       "      <th>2</th>\n",
       "      <td>улица новый арбат</td>\n",
       "      <td>87</td>\n",
       "      <td>1</td>\n",
       "    </tr>\n",
       "    <tr>\n",
       "      <th>3</th>\n",
       "      <td>улица ленинская слобода</td>\n",
       "      <td>77</td>\n",
       "      <td>1</td>\n",
       "    </tr>\n",
       "    <tr>\n",
       "      <th>4</th>\n",
       "      <td>улица покровка</td>\n",
       "      <td>70</td>\n",
       "      <td>1</td>\n",
       "    </tr>\n",
       "    <tr>\n",
       "      <th>5</th>\n",
       "      <td>пятницкая улица</td>\n",
       "      <td>64</td>\n",
       "      <td>1</td>\n",
       "    </tr>\n",
       "    <tr>\n",
       "      <th>6</th>\n",
       "      <td>улица арбат</td>\n",
       "      <td>60</td>\n",
       "      <td>1</td>\n",
       "    </tr>\n",
       "    <tr>\n",
       "      <th>7</th>\n",
       "      <td>ярцевская улица</td>\n",
       "      <td>58</td>\n",
       "      <td>1</td>\n",
       "    </tr>\n",
       "    <tr>\n",
       "      <th>8</th>\n",
       "      <td>улица маросейка</td>\n",
       "      <td>57</td>\n",
       "      <td>1</td>\n",
       "    </tr>\n",
       "    <tr>\n",
       "      <th>9</th>\n",
       "      <td>хорошёвское шоссе</td>\n",
       "      <td>54</td>\n",
       "      <td>1</td>\n",
       "    </tr>\n",
       "  </tbody>\n",
       "</table>\n",
       "</div>"
      ],
      "text/plain": [
       "              Улица Москвы  Количество заведений  Количество районов\n",
       "0   пресненская набережная                   135                   1\n",
       "1        ходынский бульвар                    99                   1\n",
       "2        улица новый арбат                    87                   1\n",
       "3  улица ленинская слобода                    77                   1\n",
       "4           улица покровка                    70                   1\n",
       "5          пятницкая улица                    64                   1\n",
       "6              улица арбат                    60                   1\n",
       "7          ярцевская улица                    58                   1\n",
       "8          улица маросейка                    57                   1\n",
       "9        хорошёвское шоссе                    54                   1"
      ]
     },
     "execution_count": 328,
     "metadata": {},
     "output_type": "execute_result"
    }
   ],
   "source": [
    "data_streets_districts = (data.groupby('street')['id', 'district']\n",
    "               .agg({'id':'count', 'district':'nunique'})\n",
    "               .query('district == 1 and street != \"поселение сосенское\"')\n",
    "               .sort_values(by='id', ascending=False)\n",
    "               .reset_index()\n",
    "               .head(10)\n",
    ")\n",
    "\n",
    "data_streets_districts.columns = ['Улица Москвы', 'Количество заведений', 'Количество районов']\n",
    "data_streets_districts"
   ]
  },
  {
   "cell_type": "markdown",
   "id": "56f107fe",
   "metadata": {},
   "source": [
    "Можно обратить внимание на топ-10 улиц, которые размещены только в рамках одно района. Скорее всего конкуренция по этим адресам будем особенно высока, равно как и стоимость аренды."
   ]
  },
  {
   "cell_type": "markdown",
   "id": "a4d90d80",
   "metadata": {},
   "source": [
    "Составим список улиц и проспектов, где мы смогли найти только одно заведение, а также изучим, в каких районах их можно найти."
   ]
  },
  {
   "cell_type": "code",
   "execution_count": 329,
   "id": "7ca49b51",
   "metadata": {
    "scrolled": true
   },
   "outputs": [
    {
     "name": "stderr",
     "output_type": "stream",
     "text": [
      "C:\\Users\\dsaulin\\AppData\\Local\\Temp/ipykernel_8336/462483128.py:1: FutureWarning: Indexing with multiple keys (implicitly converted to a tuple of keys) will be deprecated, use a list instead.\n",
      "  data_one_street = (data.groupby('street')['district', 'id']\n"
     ]
    },
    {
     "data": {
      "text/html": [
       "<div>\n",
       "<style scoped>\n",
       "    .dataframe tbody tr th:only-of-type {\n",
       "        vertical-align: middle;\n",
       "    }\n",
       "\n",
       "    .dataframe tbody tr th {\n",
       "        vertical-align: top;\n",
       "    }\n",
       "\n",
       "    .dataframe thead th {\n",
       "        text-align: right;\n",
       "    }\n",
       "</style>\n",
       "<table border=\"1\" class=\"dataframe\">\n",
       "  <thead>\n",
       "    <tr style=\"text-align: right;\">\n",
       "      <th></th>\n",
       "      <th>street</th>\n",
       "      <th>id</th>\n",
       "      <th>district</th>\n",
       "    </tr>\n",
       "  </thead>\n",
       "  <tbody>\n",
       "    <tr>\n",
       "      <th>0</th>\n",
       "      <td>1-й балтийский переулок</td>\n",
       "      <td>1</td>\n",
       "      <td>{район Аэропорт}</td>\n",
       "    </tr>\n",
       "    <tr>\n",
       "      <th>1</th>\n",
       "      <td>1-й басманный переулок</td>\n",
       "      <td>1</td>\n",
       "      <td>{Красносельский район}</td>\n",
       "    </tr>\n",
       "    <tr>\n",
       "      <th>2</th>\n",
       "      <td>1-й ботанический проезд</td>\n",
       "      <td>1</td>\n",
       "      <td>{район Свиблово}</td>\n",
       "    </tr>\n",
       "    <tr>\n",
       "      <th>3</th>\n",
       "      <td>1-й голутвинский переулок</td>\n",
       "      <td>1</td>\n",
       "      <td>{район Якиманка}</td>\n",
       "    </tr>\n",
       "    <tr>\n",
       "      <th>4</th>\n",
       "      <td>1-й котельнический переулок</td>\n",
       "      <td>1</td>\n",
       "      <td>{Таганский район}</td>\n",
       "    </tr>\n",
       "    <tr>\n",
       "      <th>...</th>\n",
       "      <td>...</td>\n",
       "      <td>...</td>\n",
       "      <td>...</td>\n",
       "    </tr>\n",
       "    <tr>\n",
       "      <th>516</th>\n",
       "      <td>штурвальная улица</td>\n",
       "      <td>1</td>\n",
       "      <td>{район Южное Тушино}</td>\n",
       "    </tr>\n",
       "    <tr>\n",
       "      <th>517</th>\n",
       "      <td>электрический переулок</td>\n",
       "      <td>1</td>\n",
       "      <td>{Пресненский район}</td>\n",
       "    </tr>\n",
       "    <tr>\n",
       "      <th>518</th>\n",
       "      <td>якиманский переулок</td>\n",
       "      <td>1</td>\n",
       "      <td>{район Якиманка}</td>\n",
       "    </tr>\n",
       "    <tr>\n",
       "      <th>519</th>\n",
       "      <td>янтарный проезд</td>\n",
       "      <td>1</td>\n",
       "      <td>{Лосиноостровский район}</td>\n",
       "    </tr>\n",
       "    <tr>\n",
       "      <th>520</th>\n",
       "      <td>яузский бульвар</td>\n",
       "      <td>1</td>\n",
       "      <td>{Таганский район}</td>\n",
       "    </tr>\n",
       "  </tbody>\n",
       "</table>\n",
       "<p>521 rows × 3 columns</p>\n",
       "</div>"
      ],
      "text/plain": [
       "                          street  id                  district\n",
       "0        1-й балтийский переулок   1          {район Аэропорт}\n",
       "1         1-й басманный переулок   1    {Красносельский район}\n",
       "2        1-й ботанический проезд   1          {район Свиблово}\n",
       "3      1-й голутвинский переулок   1          {район Якиманка}\n",
       "4    1-й котельнический переулок   1         {Таганский район}\n",
       "..                           ...  ..                       ...\n",
       "516            штурвальная улица   1      {район Южное Тушино}\n",
       "517       электрический переулок   1       {Пресненский район}\n",
       "518          якиманский переулок   1          {район Якиманка}\n",
       "519              янтарный проезд   1  {Лосиноостровский район}\n",
       "520              яузский бульвар   1         {Таганский район}\n",
       "\n",
       "[521 rows x 3 columns]"
      ]
     },
     "execution_count": 329,
     "metadata": {},
     "output_type": "execute_result"
    }
   ],
   "source": [
    "data_one_street = (data.groupby('street')['district', 'id']\n",
    "               .agg({'id':'count', 'district':set})\n",
    "               .query('id == 1')\n",
    "               .reset_index()\n",
    ")\n",
    "data_one_street"
   ]
  },
  {
   "cell_type": "code",
   "execution_count": 330,
   "id": "580ab1e2",
   "metadata": {
    "scrolled": true
   },
   "outputs": [
    {
     "data": {
      "text/html": [
       "<div>\n",
       "<style scoped>\n",
       "    .dataframe tbody tr th:only-of-type {\n",
       "        vertical-align: middle;\n",
       "    }\n",
       "\n",
       "    .dataframe tbody tr th {\n",
       "        vertical-align: top;\n",
       "    }\n",
       "\n",
       "    .dataframe thead th {\n",
       "        text-align: right;\n",
       "    }\n",
       "</style>\n",
       "<table border=\"1\" class=\"dataframe\">\n",
       "  <thead>\n",
       "    <tr style=\"text-align: right;\">\n",
       "      <th></th>\n",
       "      <th>district</th>\n",
       "    </tr>\n",
       "  </thead>\n",
       "  <tbody>\n",
       "    <tr>\n",
       "      <th>{Таганский район}</th>\n",
       "      <td>26</td>\n",
       "    </tr>\n",
       "    <tr>\n",
       "      <th>{Басманный район}</th>\n",
       "      <td>25</td>\n",
       "    </tr>\n",
       "    <tr>\n",
       "      <th>{район Хамовники}</th>\n",
       "      <td>24</td>\n",
       "    </tr>\n",
       "    <tr>\n",
       "      <th>{Пресненский район}</th>\n",
       "      <td>20</td>\n",
       "    </tr>\n",
       "    <tr>\n",
       "      <th>{Тверской район}</th>\n",
       "      <td>17</td>\n",
       "    </tr>\n",
       "    <tr>\n",
       "      <th>{район Сокольники}</th>\n",
       "      <td>15</td>\n",
       "    </tr>\n",
       "    <tr>\n",
       "      <th>{Мещанский район}</th>\n",
       "      <td>11</td>\n",
       "    </tr>\n",
       "    <tr>\n",
       "      <th>{Можайский район}</th>\n",
       "      <td>11</td>\n",
       "    </tr>\n",
       "    <tr>\n",
       "      <th>{район Аэропорт}</th>\n",
       "      <td>10</td>\n",
       "    </tr>\n",
       "    <tr>\n",
       "      <th>{Красносельский район}</th>\n",
       "      <td>10</td>\n",
       "    </tr>\n",
       "    <tr>\n",
       "      <th>{район Южное Бутово}</th>\n",
       "      <td>9</td>\n",
       "    </tr>\n",
       "    <tr>\n",
       "      <th>{Тимирязевский район}</th>\n",
       "      <td>9</td>\n",
       "    </tr>\n",
       "    <tr>\n",
       "      <th>{район Арбат}</th>\n",
       "      <td>8</td>\n",
       "    </tr>\n",
       "    <tr>\n",
       "      <th>{район Якиманка}</th>\n",
       "      <td>8</td>\n",
       "    </tr>\n",
       "    <tr>\n",
       "      <th>{район Хорошёво-Мнёвники}</th>\n",
       "      <td>8</td>\n",
       "    </tr>\n",
       "    <tr>\n",
       "      <th>{район Богородское}</th>\n",
       "      <td>8</td>\n",
       "    </tr>\n",
       "    <tr>\n",
       "      <th>{район Солнцево}</th>\n",
       "      <td>7</td>\n",
       "    </tr>\n",
       "    <tr>\n",
       "      <th>{Алексеевский район}</th>\n",
       "      <td>7</td>\n",
       "    </tr>\n",
       "    <tr>\n",
       "      <th>{район Замоскворечье}</th>\n",
       "      <td>7</td>\n",
       "    </tr>\n",
       "    <tr>\n",
       "      <th>{район Соколиная Гора}</th>\n",
       "      <td>7</td>\n",
       "    </tr>\n",
       "  </tbody>\n",
       "</table>\n",
       "</div>"
      ],
      "text/plain": [
       "                           district\n",
       "{Таганский район}                26\n",
       "{Басманный район}                25\n",
       "{район Хамовники}                24\n",
       "{Пресненский район}              20\n",
       "{Тверской район}                 17\n",
       "{район Сокольники}               15\n",
       "{Мещанский район}                11\n",
       "{Можайский район}                11\n",
       "{район Аэропорт}                 10\n",
       "{Красносельский район}           10\n",
       "{район Южное Бутово}              9\n",
       "{Тимирязевский район}             9\n",
       "{район Арбат}                     8\n",
       "{район Якиманка}                  8\n",
       "{район Хорошёво-Мнёвники}         8\n",
       "{район Богородское}               8\n",
       "{район Солнцево}                  7\n",
       "{Алексеевский район}              7\n",
       "{район Замоскворечье}             7\n",
       "{район Соколиная Гора}            7"
      ]
     },
     "execution_count": 330,
     "metadata": {},
     "output_type": "execute_result"
    }
   ],
   "source": [
    "data_one_street_sum = data_one_street['district'].value_counts()\n",
    "\n",
    "data_one_street_sum = pd.DataFrame(data_one_street_sum)\n",
    "\n",
    "data_one_street_sum.head(20)"
   ]
  },
  {
   "cell_type": "markdown",
   "id": "88ee1e07",
   "metadata": {},
   "source": [
    "Можно обратить внимание на несколько районов, где есть десятки улиц с минимальным количеством точек общепита - Таганский, Басманный районы, Хамовники и т.д. Общее количество таких улиц - 521, а районов - 113. Часть из них находится в центре (и от малого количества точек общепита точно не страдают), скорее всего дело в наличии переулков. Если говорить о нецентральных районах, то адреса могут быть близкими к промзонам и предприятиям."
   ]
  },
  {
   "cell_type": "markdown",
   "id": "0788b4ca",
   "metadata": {},
   "source": [
    "## Общие выводы"
   ]
  },
  {
   "cell_type": "markdown",
   "id": "6d92cdf0",
   "metadata": {},
   "source": [
    "- Самый распространенный тип заведений - кафе, далее группа из 3-х видов - столовые, рестораны и предприятия быстрого обслуживания. \n",
    "- К сетевым отноcится только 19,3% от общего числа заведений. В сетевом виде развиваются предприятия быстрого обслуживания, магазины с отделами кулинарии, рестораны и кафе. В абсолютных цифрах по количеству сетевых заведений лидирует тип \"кафе\". \n",
    "- Для сетевых заведений в общем характерно малое количество заведений (менее или равно 3-м заведениям в сети) с большим количеством мест (от 67 мест и более на одно заведение). На втором месте - небольшие заведения с 26 и меньшим количеством мест на точку. \n",
    "- Общая статистика говорит, что столовые на первом месте по среднему количеству посадочных мест на точку. Также лидируют рестораны и бары. И в отличие от сетей в общей группе много посадочных мест у буфетов. \n",
    "- В топ-10 улиц по количеству точек попали магистрали столицы, некоторые из которых проходят через несколько районов. Отметим, по количеству посадочных мест лидирует улица с максимальным количеством заведений - Проспект Мира. Также по количеству посадочных мест выделяются Ленинский проспект и Кутузовский, и они же в компании Проспекта Вернадского лидируют по среднему количеству посадочных мест. Т.е крупные заведения концентрируются в районах и на улицах, не всегда совпадающих с рекордсменами по общему количеству заведений. \n",
    "- Можно обратить внимание на несколько районов, где есть десятки улиц с минимальным количеством точек общепита - Таганский, Басманный районы, Хамовники и т.д. Общее количество таких улиц - 521, а районов - 113. Также мы составили топ-10, где улицы располагаются в рамках одного района каждая. Развитие в таких микрорайонах дело искованное из-за конкуренции и высокой цены аренды."
   ]
  },
  {
   "cell_type": "markdown",
   "id": "74b740eb",
   "metadata": {},
   "source": [
    "## Рекомендации"
   ]
  },
  {
   "cell_type": "markdown",
   "id": "ca933fb4",
   "metadata": {},
   "source": [
    "- Поскольку проект дорогостоящий и долгосрочный, первая рекомендация - создавать сетевое заведение. С одной стороны конкуренция не очень высока в силу небольшого количества сетей (247 сетей с количеством заведений более двух, из них крупных - 92), с другой - расходы на создание и продвижение точки сети будут ниже, чем в случае одиночных заведений, а значит можно развивать бОльшее количество точек (что и демонстрируют некоторые сети);\n",
    "- В сетях успешно развиваются такие типы объектов, как кафе, бары и рестораны, для них характерны либо небольшое количество заведений с большим количеством посадочных мест;\n",
    "- Другая тенденция - крупные и/или многочисленные сети с такими типа объектов, как предприятие быстрого обслуживания (фастфуд) и столовые. Здесь интересно то, что такие объекты не всегда концентрируются в центральных или модных районах, а разбросаны по всему городу. Роботизированное обслуживание в таких заведениях также будет работать на идею конвеерного сервиса;\n",
    "- Если говорить о географическом расположении, то 10 самых насыщенных общепитом мест - крупные улицы и проспекты, пролегающие через несколько районов Москвы. При этом в некоторых случаях крупные по размеру заведения располагаются не всегда в первой пятерке улиц (лидер по большим заведениям - Кутузовский проспект.)\n",
    "- Другая идея для роста - выбор районов, где есть десятки улиц с 1 заведением на магистрали: Таганский район, Басманный район, район Хамовники, Тверской район и т.д. Понятно, что малая концентрация точек общепита может быть связана с факторами, которые препятствуют успеху, но дополнительный анализ может помочь найти новые места для открытия проекта. "
   ]
  },
  {
   "cell_type": "markdown",
   "id": "dd4e10fa",
   "metadata": {},
   "source": [
    "Презентация: <https://disk.yandex.ru/i/EU9onUOxd4KTIg> "
   ]
  }
 ],
 "metadata": {
  "ExecuteTimeLog": [
   {
    "duration": 394,
    "start_time": "2022-09-08T10:51:19.787Z"
   },
   {
    "duration": 5,
    "start_time": "2022-09-08T10:51:27.237Z"
   },
   {
    "duration": 55,
    "start_time": "2022-09-08T11:04:20.714Z"
   },
   {
    "duration": 698,
    "start_time": "2022-09-08T11:04:24.286Z"
   },
   {
    "duration": 116,
    "start_time": "2022-09-08T11:04:24.986Z"
   },
   {
    "duration": 4,
    "start_time": "2022-09-08T11:04:25.104Z"
   },
   {
    "duration": 51,
    "start_time": "2022-09-08T11:04:25.110Z"
   },
   {
    "duration": 4,
    "start_time": "2022-09-08T11:04:25.163Z"
   },
   {
    "duration": 9,
    "start_time": "2022-09-08T11:04:25.168Z"
   },
   {
    "duration": 7,
    "start_time": "2022-09-08T11:04:25.178Z"
   },
   {
    "duration": 10,
    "start_time": "2022-09-08T11:04:25.205Z"
   },
   {
    "duration": 12,
    "start_time": "2022-09-08T11:04:25.216Z"
   },
   {
    "duration": 8,
    "start_time": "2022-09-08T11:04:25.230Z"
   },
   {
    "duration": 13,
    "start_time": "2022-09-08T11:04:25.240Z"
   },
   {
    "duration": 5,
    "start_time": "2022-09-08T11:04:25.255Z"
   },
   {
    "duration": 51,
    "start_time": "2022-09-08T11:04:25.261Z"
   },
   {
    "duration": 8,
    "start_time": "2022-09-08T11:04:25.314Z"
   },
   {
    "duration": 3399,
    "start_time": "2022-09-08T11:04:25.323Z"
   },
   {
    "duration": 17,
    "start_time": "2022-09-08T11:04:28.723Z"
   },
   {
    "duration": 7,
    "start_time": "2022-09-08T11:04:28.741Z"
   },
   {
    "duration": 12,
    "start_time": "2022-09-08T11:04:28.749Z"
   },
   {
    "duration": 188,
    "start_time": "2022-09-08T11:04:28.764Z"
   },
   {
    "duration": 13,
    "start_time": "2022-09-08T11:04:28.954Z"
   },
   {
    "duration": 114,
    "start_time": "2022-09-08T11:04:28.968Z"
   },
   {
    "duration": 13,
    "start_time": "2022-09-08T11:04:29.084Z"
   },
   {
    "duration": 285,
    "start_time": "2022-09-08T11:04:29.105Z"
   },
   {
    "duration": 21,
    "start_time": "2022-09-08T11:04:29.391Z"
   },
   {
    "duration": 9,
    "start_time": "2022-09-08T11:04:29.413Z"
   },
   {
    "duration": 14,
    "start_time": "2022-09-08T11:04:29.423Z"
   },
   {
    "duration": 256,
    "start_time": "2022-09-08T11:04:29.438Z"
   },
   {
    "duration": 9,
    "start_time": "2022-09-08T11:04:29.697Z"
   },
   {
    "duration": 26,
    "start_time": "2022-09-08T11:04:29.707Z"
   },
   {
    "duration": 21,
    "start_time": "2022-09-08T11:04:29.734Z"
   },
   {
    "duration": 174,
    "start_time": "2022-09-08T11:04:29.757Z"
   },
   {
    "duration": 39,
    "start_time": "2022-09-08T11:04:29.933Z"
   },
   {
    "duration": 8,
    "start_time": "2022-09-08T11:04:29.973Z"
   },
   {
    "duration": 129,
    "start_time": "2022-09-08T11:04:29.983Z"
   },
   {
    "duration": 14,
    "start_time": "2022-09-08T11:04:30.114Z"
   },
   {
    "duration": 20,
    "start_time": "2022-09-08T11:04:30.130Z"
   },
   {
    "duration": 19,
    "start_time": "2022-09-08T11:04:30.151Z"
   },
   {
    "duration": 48,
    "start_time": "2022-09-08T11:04:30.172Z"
   },
   {
    "duration": 7,
    "start_time": "2022-09-08T11:04:30.222Z"
   },
   {
    "duration": 29,
    "start_time": "2022-09-08T11:04:30.230Z"
   },
   {
    "duration": 23,
    "start_time": "2022-09-08T11:04:30.261Z"
   },
   {
    "duration": 231,
    "start_time": "2022-09-08T11:04:30.286Z"
   },
   {
    "duration": 189,
    "start_time": "2022-09-08T11:04:30.518Z"
   },
   {
    "duration": 207,
    "start_time": "2022-09-08T11:04:30.709Z"
   },
   {
    "duration": 262,
    "start_time": "2022-09-08T11:04:30.917Z"
   },
   {
    "duration": 179,
    "start_time": "2022-09-08T11:04:31.181Z"
   },
   {
    "duration": 64,
    "start_time": "2022-09-08T11:04:31.361Z"
   },
   {
    "duration": 13,
    "start_time": "2022-09-08T11:04:31.427Z"
   },
   {
    "duration": 376,
    "start_time": "2022-09-08T11:04:46.266Z"
   },
   {
    "duration": 358,
    "start_time": "2022-09-08T11:05:53.406Z"
   },
   {
    "duration": 384,
    "start_time": "2022-09-08T11:05:57.363Z"
   },
   {
    "duration": 346,
    "start_time": "2022-09-08T11:06:43.950Z"
   },
   {
    "duration": 468,
    "start_time": "2022-09-08T11:06:59.065Z"
   },
   {
    "duration": 358,
    "start_time": "2022-09-08T11:07:13.698Z"
   },
   {
    "duration": 45,
    "start_time": "2022-09-08T11:15:47.533Z"
   },
   {
    "duration": 97,
    "start_time": "2022-09-08T11:16:03.947Z"
   },
   {
    "duration": 8,
    "start_time": "2022-09-08T11:16:07.336Z"
   },
   {
    "duration": 3,
    "start_time": "2022-09-08T11:16:09.998Z"
   },
   {
    "duration": 16,
    "start_time": "2022-09-08T11:16:37.036Z"
   },
   {
    "duration": 122,
    "start_time": "2022-09-08T11:22:49.788Z"
   },
   {
    "duration": 11,
    "start_time": "2022-09-08T11:22:54.313Z"
   },
   {
    "duration": 29,
    "start_time": "2022-09-08T11:23:01.985Z"
   },
   {
    "duration": 10,
    "start_time": "2022-09-08T11:23:10.042Z"
   },
   {
    "duration": 53,
    "start_time": "2022-09-08T11:23:27.470Z"
   },
   {
    "duration": 19,
    "start_time": "2022-09-08T11:23:52.966Z"
   },
   {
    "duration": 4,
    "start_time": "2022-09-08T11:24:38.220Z"
   },
   {
    "duration": 4,
    "start_time": "2022-09-08T11:24:58.369Z"
   },
   {
    "duration": 56,
    "start_time": "2022-09-08T11:25:15.317Z"
   },
   {
    "duration": 26,
    "start_time": "2022-09-08T11:25:17.910Z"
   },
   {
    "duration": 53,
    "start_time": "2022-09-08T11:25:19.076Z"
   },
   {
    "duration": 52,
    "start_time": "2022-09-08T11:27:47.739Z"
   },
   {
    "duration": 59,
    "start_time": "2022-09-08T11:27:58.403Z"
   },
   {
    "duration": 3016,
    "start_time": "2022-09-08T11:28:03.467Z"
   },
   {
    "duration": 32,
    "start_time": "2022-09-08T11:29:22.696Z"
   },
   {
    "duration": 27,
    "start_time": "2022-09-08T11:29:34.188Z"
   },
   {
    "duration": 5,
    "start_time": "2022-09-08T11:30:05.856Z"
   },
   {
    "duration": 4,
    "start_time": "2022-09-08T11:30:08.695Z"
   },
   {
    "duration": 169,
    "start_time": "2022-09-08T11:30:10.458Z"
   },
   {
    "duration": 113,
    "start_time": "2022-09-08T11:30:12.762Z"
   },
   {
    "duration": 8,
    "start_time": "2022-09-08T11:30:19.853Z"
   },
   {
    "duration": 4,
    "start_time": "2022-09-08T11:30:31.146Z"
   },
   {
    "duration": 5,
    "start_time": "2022-09-08T11:30:35.177Z"
   },
   {
    "duration": 4,
    "start_time": "2022-09-08T11:30:54.585Z"
   },
   {
    "duration": 52,
    "start_time": "2022-09-08T11:33:14.231Z"
   },
   {
    "duration": 554,
    "start_time": "2022-09-08T11:35:47.669Z"
   },
   {
    "duration": 547,
    "start_time": "2022-09-08T11:36:06.131Z"
   },
   {
    "duration": 589,
    "start_time": "2022-09-08T11:36:15.763Z"
   },
   {
    "duration": 533,
    "start_time": "2022-09-08T11:37:12.413Z"
   },
   {
    "duration": 537,
    "start_time": "2022-09-08T11:37:21.008Z"
   },
   {
    "duration": 1358,
    "start_time": "2022-09-10T20:45:13.112Z"
   },
   {
    "duration": 3,
    "start_time": "2022-09-10T20:45:25.364Z"
   },
   {
    "duration": 3,
    "start_time": "2022-09-10T20:45:32.700Z"
   },
   {
    "duration": 633,
    "start_time": "2022-09-10T20:45:32.715Z"
   },
   {
    "duration": 3,
    "start_time": "2022-09-10T20:45:33.351Z"
   },
   {
    "duration": 42,
    "start_time": "2022-09-10T20:45:33.356Z"
   },
   {
    "duration": 6,
    "start_time": "2022-09-10T20:45:33.400Z"
   },
   {
    "duration": 11,
    "start_time": "2022-09-10T20:45:33.409Z"
   },
   {
    "duration": 14,
    "start_time": "2022-09-10T20:45:33.423Z"
   },
   {
    "duration": 16,
    "start_time": "2022-09-10T20:45:33.439Z"
   },
   {
    "duration": 26,
    "start_time": "2022-09-10T20:45:33.456Z"
   },
   {
    "duration": 12,
    "start_time": "2022-09-10T20:45:33.483Z"
   },
   {
    "duration": 14,
    "start_time": "2022-09-10T20:45:33.497Z"
   },
   {
    "duration": 12,
    "start_time": "2022-09-10T20:45:33.513Z"
   },
   {
    "duration": 40,
    "start_time": "2022-09-10T20:45:33.526Z"
   },
   {
    "duration": 10,
    "start_time": "2022-09-10T20:45:33.568Z"
   },
   {
    "duration": 3112,
    "start_time": "2022-09-10T20:45:33.582Z"
   },
   {
    "duration": 21,
    "start_time": "2022-09-10T20:45:36.696Z"
   },
   {
    "duration": 25,
    "start_time": "2022-09-10T20:45:36.719Z"
   },
   {
    "duration": 14,
    "start_time": "2022-09-10T20:45:36.746Z"
   },
   {
    "duration": 201,
    "start_time": "2022-09-10T20:45:36.762Z"
   },
   {
    "duration": 12,
    "start_time": "2022-09-10T20:45:36.965Z"
   },
   {
    "duration": 117,
    "start_time": "2022-09-10T20:45:36.978Z"
   },
   {
    "duration": 13,
    "start_time": "2022-09-10T20:45:37.096Z"
   },
   {
    "duration": 287,
    "start_time": "2022-09-10T20:45:37.111Z"
   },
   {
    "duration": 11,
    "start_time": "2022-09-10T20:45:37.400Z"
   },
   {
    "duration": 51,
    "start_time": "2022-09-10T20:45:37.413Z"
   },
   {
    "duration": 31,
    "start_time": "2022-09-10T20:45:37.465Z"
   },
   {
    "duration": 430,
    "start_time": "2022-09-10T20:45:37.498Z"
   },
   {
    "duration": 13,
    "start_time": "2022-09-10T20:45:37.929Z"
   },
   {
    "duration": 34,
    "start_time": "2022-09-10T20:45:37.944Z"
   },
   {
    "duration": 30,
    "start_time": "2022-09-10T20:45:37.979Z"
   },
   {
    "duration": 181,
    "start_time": "2022-09-10T20:45:38.011Z"
   },
   {
    "duration": 126,
    "start_time": "2022-09-10T20:45:38.193Z"
   },
   {
    "duration": 19,
    "start_time": "2022-09-10T20:45:38.320Z"
   },
   {
    "duration": 89,
    "start_time": "2022-09-10T20:45:38.341Z"
   },
   {
    "duration": 22,
    "start_time": "2022-09-10T20:45:38.432Z"
   },
   {
    "duration": 33,
    "start_time": "2022-09-10T20:45:38.456Z"
   },
   {
    "duration": 18,
    "start_time": "2022-09-10T20:45:38.490Z"
   },
   {
    "duration": 57,
    "start_time": "2022-09-10T20:45:38.510Z"
   },
   {
    "duration": 7,
    "start_time": "2022-09-10T20:45:38.569Z"
   },
   {
    "duration": 25,
    "start_time": "2022-09-10T20:45:38.578Z"
   },
   {
    "duration": 22,
    "start_time": "2022-09-10T20:45:38.604Z"
   },
   {
    "duration": 241,
    "start_time": "2022-09-10T20:45:38.629Z"
   },
   {
    "duration": 16,
    "start_time": "2022-09-10T20:45:38.871Z"
   },
   {
    "duration": 187,
    "start_time": "2022-09-10T20:45:38.889Z"
   },
   {
    "duration": 203,
    "start_time": "2022-09-10T20:45:39.078Z"
   },
   {
    "duration": 192,
    "start_time": "2022-09-10T20:45:39.283Z"
   },
   {
    "duration": 202,
    "start_time": "2022-09-10T20:45:39.477Z"
   },
   {
    "duration": 86,
    "start_time": "2022-09-10T20:45:39.681Z"
   },
   {
    "duration": 16,
    "start_time": "2022-09-10T20:45:39.770Z"
   },
   {
    "duration": 671,
    "start_time": "2022-09-10T20:45:39.787Z"
   },
   {
    "duration": 4,
    "start_time": "2022-09-10T20:46:09.655Z"
   },
   {
    "duration": 4,
    "start_time": "2022-09-10T20:46:15.508Z"
   },
   {
    "duration": 729,
    "start_time": "2022-09-10T20:46:17.208Z"
   },
   {
    "duration": 3,
    "start_time": "2022-09-10T20:46:21.565Z"
   },
   {
    "duration": 66,
    "start_time": "2022-09-10T20:46:21.575Z"
   },
   {
    "duration": 6,
    "start_time": "2022-09-10T20:46:21.643Z"
   },
   {
    "duration": 60,
    "start_time": "2022-09-10T20:46:21.651Z"
   },
   {
    "duration": 30,
    "start_time": "2022-09-10T20:46:21.712Z"
   },
   {
    "duration": 13,
    "start_time": "2022-09-10T20:46:21.745Z"
   },
   {
    "duration": 10,
    "start_time": "2022-09-10T20:46:21.760Z"
   },
   {
    "duration": 14,
    "start_time": "2022-09-10T20:46:21.771Z"
   },
   {
    "duration": 18,
    "start_time": "2022-09-10T20:46:21.787Z"
   },
   {
    "duration": 37,
    "start_time": "2022-09-10T20:46:21.807Z"
   },
   {
    "duration": 21,
    "start_time": "2022-09-10T20:46:21.847Z"
   },
   {
    "duration": 8,
    "start_time": "2022-09-10T20:46:21.870Z"
   },
   {
    "duration": 30,
    "start_time": "2022-09-10T20:46:21.880Z"
   },
   {
    "duration": 35,
    "start_time": "2022-09-10T20:46:21.912Z"
   },
   {
    "duration": 2082,
    "start_time": "2022-09-10T20:46:21.952Z"
   },
   {
    "duration": 33,
    "start_time": "2022-09-10T20:46:24.035Z"
   },
   {
    "duration": 8,
    "start_time": "2022-09-10T20:46:24.069Z"
   },
   {
    "duration": 17,
    "start_time": "2022-09-10T20:46:24.078Z"
   },
   {
    "duration": 191,
    "start_time": "2022-09-10T20:46:24.097Z"
   },
   {
    "duration": 13,
    "start_time": "2022-09-10T20:46:24.291Z"
   },
   {
    "duration": 125,
    "start_time": "2022-09-10T20:46:24.305Z"
   },
   {
    "duration": 21,
    "start_time": "2022-09-10T20:46:24.432Z"
   },
   {
    "duration": 243,
    "start_time": "2022-09-10T20:46:24.455Z"
   },
   {
    "duration": 9,
    "start_time": "2022-09-10T20:46:24.699Z"
   },
   {
    "duration": 12,
    "start_time": "2022-09-10T20:46:24.709Z"
   },
   {
    "duration": 20,
    "start_time": "2022-09-10T20:46:24.736Z"
   },
   {
    "duration": 484,
    "start_time": "2022-09-10T20:46:24.757Z"
   },
   {
    "duration": 10,
    "start_time": "2022-09-10T20:46:25.243Z"
   },
   {
    "duration": 24,
    "start_time": "2022-09-10T20:46:25.256Z"
   },
   {
    "duration": 21,
    "start_time": "2022-09-10T20:46:25.282Z"
   },
   {
    "duration": 215,
    "start_time": "2022-09-10T20:46:25.304Z"
   },
   {
    "duration": 53,
    "start_time": "2022-09-10T20:46:25.521Z"
   },
   {
    "duration": 10,
    "start_time": "2022-09-10T20:46:25.576Z"
   },
   {
    "duration": 89,
    "start_time": "2022-09-10T20:46:25.587Z"
   },
   {
    "duration": 14,
    "start_time": "2022-09-10T20:46:25.678Z"
   },
   {
    "duration": 20,
    "start_time": "2022-09-10T20:46:25.694Z"
   },
   {
    "duration": 41,
    "start_time": "2022-09-10T20:46:25.716Z"
   },
   {
    "duration": 39,
    "start_time": "2022-09-10T20:46:25.760Z"
   },
   {
    "duration": 8,
    "start_time": "2022-09-10T20:46:25.800Z"
   },
   {
    "duration": 41,
    "start_time": "2022-09-10T20:46:25.810Z"
   },
   {
    "duration": 26,
    "start_time": "2022-09-10T20:46:25.853Z"
   },
   {
    "duration": 279,
    "start_time": "2022-09-10T20:46:25.884Z"
   },
   {
    "duration": 19,
    "start_time": "2022-09-10T20:46:26.168Z"
   },
   {
    "duration": 180,
    "start_time": "2022-09-10T20:46:26.189Z"
   },
   {
    "duration": 193,
    "start_time": "2022-09-10T20:46:26.371Z"
   },
   {
    "duration": 197,
    "start_time": "2022-09-10T20:46:26.565Z"
   },
   {
    "duration": 200,
    "start_time": "2022-09-10T20:46:26.763Z"
   },
   {
    "duration": 57,
    "start_time": "2022-09-10T20:46:26.964Z"
   },
   {
    "duration": 38,
    "start_time": "2022-09-10T20:46:27.022Z"
   },
   {
    "duration": 675,
    "start_time": "2022-09-10T20:46:27.062Z"
   },
   {
    "duration": 16,
    "start_time": "2022-09-10T20:50:58.560Z"
   },
   {
    "duration": 26,
    "start_time": "2022-09-10T20:51:04.237Z"
   },
   {
    "duration": 60,
    "start_time": "2022-09-11T14:08:03.826Z"
   },
   {
    "duration": 1409,
    "start_time": "2022-09-11T14:08:09.195Z"
   },
   {
    "duration": 128,
    "start_time": "2022-09-11T14:08:10.607Z"
   },
   {
    "duration": 3,
    "start_time": "2022-09-11T14:08:10.737Z"
   },
   {
    "duration": 74,
    "start_time": "2022-09-11T14:08:10.742Z"
   },
   {
    "duration": 5,
    "start_time": "2022-09-11T14:08:10.818Z"
   },
   {
    "duration": 7,
    "start_time": "2022-09-11T14:08:10.824Z"
   },
   {
    "duration": 6,
    "start_time": "2022-09-11T14:08:10.833Z"
   },
   {
    "duration": 40,
    "start_time": "2022-09-11T14:08:10.841Z"
   },
   {
    "duration": 14,
    "start_time": "2022-09-11T14:08:10.883Z"
   },
   {
    "duration": 8,
    "start_time": "2022-09-11T14:08:10.900Z"
   },
   {
    "duration": 18,
    "start_time": "2022-09-11T14:08:10.910Z"
   },
   {
    "duration": 10,
    "start_time": "2022-09-11T14:08:10.929Z"
   },
   {
    "duration": 55,
    "start_time": "2022-09-11T14:08:10.941Z"
   },
   {
    "duration": 10,
    "start_time": "2022-09-11T14:08:10.998Z"
   },
   {
    "duration": 8,
    "start_time": "2022-09-11T14:08:11.010Z"
   },
   {
    "duration": 3451,
    "start_time": "2022-09-11T14:08:11.019Z"
   },
   {
    "duration": 24,
    "start_time": "2022-09-11T14:08:14.476Z"
   },
   {
    "duration": 97,
    "start_time": "2022-09-11T14:08:14.502Z"
   },
   {
    "duration": 0,
    "start_time": "2022-09-11T14:08:14.602Z"
   },
   {
    "duration": 0,
    "start_time": "2022-09-11T14:08:14.604Z"
   },
   {
    "duration": 0,
    "start_time": "2022-09-11T14:08:14.605Z"
   },
   {
    "duration": 0,
    "start_time": "2022-09-11T14:08:14.606Z"
   },
   {
    "duration": 0,
    "start_time": "2022-09-11T14:08:14.607Z"
   },
   {
    "duration": 0,
    "start_time": "2022-09-11T14:08:14.608Z"
   },
   {
    "duration": 0,
    "start_time": "2022-09-11T14:08:14.609Z"
   },
   {
    "duration": 0,
    "start_time": "2022-09-11T14:08:14.610Z"
   },
   {
    "duration": 0,
    "start_time": "2022-09-11T14:08:14.611Z"
   },
   {
    "duration": 0,
    "start_time": "2022-09-11T14:08:14.612Z"
   },
   {
    "duration": 0,
    "start_time": "2022-09-11T14:08:14.613Z"
   },
   {
    "duration": 0,
    "start_time": "2022-09-11T14:08:14.614Z"
   },
   {
    "duration": 0,
    "start_time": "2022-09-11T14:08:14.616Z"
   },
   {
    "duration": 0,
    "start_time": "2022-09-11T14:08:14.617Z"
   },
   {
    "duration": 0,
    "start_time": "2022-09-11T14:08:14.618Z"
   },
   {
    "duration": 0,
    "start_time": "2022-09-11T14:08:14.619Z"
   },
   {
    "duration": 0,
    "start_time": "2022-09-11T14:08:14.620Z"
   },
   {
    "duration": 0,
    "start_time": "2022-09-11T14:08:14.621Z"
   },
   {
    "duration": 0,
    "start_time": "2022-09-11T14:08:14.622Z"
   },
   {
    "duration": 0,
    "start_time": "2022-09-11T14:08:14.623Z"
   },
   {
    "duration": 0,
    "start_time": "2022-09-11T14:08:14.625Z"
   },
   {
    "duration": 1,
    "start_time": "2022-09-11T14:08:14.625Z"
   },
   {
    "duration": 0,
    "start_time": "2022-09-11T14:08:14.668Z"
   },
   {
    "duration": 3,
    "start_time": "2022-09-11T14:08:14.668Z"
   },
   {
    "duration": 0,
    "start_time": "2022-09-11T14:08:14.672Z"
   },
   {
    "duration": 0,
    "start_time": "2022-09-11T14:08:14.672Z"
   },
   {
    "duration": 0,
    "start_time": "2022-09-11T14:08:14.673Z"
   },
   {
    "duration": 0,
    "start_time": "2022-09-11T14:08:14.674Z"
   },
   {
    "duration": 0,
    "start_time": "2022-09-11T14:08:14.674Z"
   },
   {
    "duration": 0,
    "start_time": "2022-09-11T14:08:14.675Z"
   },
   {
    "duration": 0,
    "start_time": "2022-09-11T14:08:14.675Z"
   },
   {
    "duration": 0,
    "start_time": "2022-09-11T14:08:14.676Z"
   },
   {
    "duration": 0,
    "start_time": "2022-09-11T14:08:14.677Z"
   },
   {
    "duration": 20,
    "start_time": "2022-09-11T14:10:33.898Z"
   },
   {
    "duration": 3,
    "start_time": "2022-09-11T14:10:39.248Z"
   },
   {
    "duration": 128,
    "start_time": "2022-09-11T14:10:39.263Z"
   },
   {
    "duration": 5,
    "start_time": "2022-09-11T14:10:39.394Z"
   },
   {
    "duration": 107,
    "start_time": "2022-09-11T14:10:39.401Z"
   },
   {
    "duration": 8,
    "start_time": "2022-09-11T14:10:39.511Z"
   },
   {
    "duration": 29,
    "start_time": "2022-09-11T14:10:39.521Z"
   },
   {
    "duration": 44,
    "start_time": "2022-09-11T14:10:39.552Z"
   },
   {
    "duration": 32,
    "start_time": "2022-09-11T14:10:39.598Z"
   },
   {
    "duration": 49,
    "start_time": "2022-09-11T14:10:39.632Z"
   },
   {
    "duration": 40,
    "start_time": "2022-09-11T14:10:39.684Z"
   },
   {
    "duration": 32,
    "start_time": "2022-09-11T14:10:39.727Z"
   },
   {
    "duration": 46,
    "start_time": "2022-09-11T14:10:39.762Z"
   },
   {
    "duration": 84,
    "start_time": "2022-09-11T14:10:39.810Z"
   },
   {
    "duration": 30,
    "start_time": "2022-09-11T14:10:39.901Z"
   },
   {
    "duration": 55,
    "start_time": "2022-09-11T14:10:39.933Z"
   },
   {
    "duration": 2295,
    "start_time": "2022-09-11T14:10:39.990Z"
   },
   {
    "duration": 30,
    "start_time": "2022-09-11T14:10:42.288Z"
   },
   {
    "duration": 9,
    "start_time": "2022-09-11T14:10:42.320Z"
   },
   {
    "duration": 13,
    "start_time": "2022-09-11T14:10:42.331Z"
   },
   {
    "duration": 243,
    "start_time": "2022-09-11T14:10:42.347Z"
   },
   {
    "duration": 17,
    "start_time": "2022-09-11T14:10:42.592Z"
   },
   {
    "duration": 163,
    "start_time": "2022-09-11T14:10:42.611Z"
   },
   {
    "duration": 19,
    "start_time": "2022-09-11T14:10:42.778Z"
   },
   {
    "duration": 290,
    "start_time": "2022-09-11T14:10:42.798Z"
   },
   {
    "duration": 18,
    "start_time": "2022-09-11T14:10:43.091Z"
   },
   {
    "duration": 15,
    "start_time": "2022-09-11T14:10:43.112Z"
   },
   {
    "duration": 16,
    "start_time": "2022-09-11T14:10:43.129Z"
   },
   {
    "duration": 465,
    "start_time": "2022-09-11T14:10:43.146Z"
   },
   {
    "duration": 6,
    "start_time": "2022-09-11T14:10:43.615Z"
   },
   {
    "duration": 24,
    "start_time": "2022-09-11T14:10:43.623Z"
   },
   {
    "duration": 28,
    "start_time": "2022-09-11T14:10:43.669Z"
   },
   {
    "duration": 196,
    "start_time": "2022-09-11T14:10:43.698Z"
   },
   {
    "duration": 40,
    "start_time": "2022-09-11T14:10:43.896Z"
   },
   {
    "duration": 10,
    "start_time": "2022-09-11T14:10:43.938Z"
   },
   {
    "duration": 165,
    "start_time": "2022-09-11T14:10:43.950Z"
   },
   {
    "duration": 16,
    "start_time": "2022-09-11T14:10:44.117Z"
   },
   {
    "duration": 43,
    "start_time": "2022-09-11T14:10:44.135Z"
   },
   {
    "duration": 31,
    "start_time": "2022-09-11T14:10:44.179Z"
   },
   {
    "duration": 70,
    "start_time": "2022-09-11T14:10:44.212Z"
   },
   {
    "duration": 8,
    "start_time": "2022-09-11T14:10:44.284Z"
   },
   {
    "duration": 24,
    "start_time": "2022-09-11T14:10:44.294Z"
   },
   {
    "duration": 19,
    "start_time": "2022-09-11T14:10:44.320Z"
   },
   {
    "duration": 301,
    "start_time": "2022-09-11T14:10:44.341Z"
   },
   {
    "duration": 39,
    "start_time": "2022-09-11T14:10:44.644Z"
   },
   {
    "duration": 191,
    "start_time": "2022-09-11T14:10:44.685Z"
   },
   {
    "duration": 217,
    "start_time": "2022-09-11T14:10:44.878Z"
   },
   {
    "duration": 218,
    "start_time": "2022-09-11T14:10:45.097Z"
   },
   {
    "duration": 245,
    "start_time": "2022-09-11T14:10:45.317Z"
   },
   {
    "duration": 88,
    "start_time": "2022-09-11T14:10:45.563Z"
   },
   {
    "duration": 33,
    "start_time": "2022-09-11T14:10:45.653Z"
   },
   {
    "duration": 704,
    "start_time": "2022-09-11T14:10:45.689Z"
   },
   {
    "duration": 21,
    "start_time": "2022-09-11T14:11:15.763Z"
   },
   {
    "duration": 6,
    "start_time": "2022-09-11T14:11:52.787Z"
   },
   {
    "duration": 732,
    "start_time": "2022-09-11T14:11:57.193Z"
   },
   {
    "duration": 698,
    "start_time": "2022-09-11T14:12:02.627Z"
   },
   {
    "duration": 5,
    "start_time": "2022-09-11T14:12:13.795Z"
   },
   {
    "duration": 67,
    "start_time": "2022-09-11T14:12:13.803Z"
   },
   {
    "duration": 4,
    "start_time": "2022-09-11T14:12:13.872Z"
   },
   {
    "duration": 88,
    "start_time": "2022-09-11T14:12:13.878Z"
   },
   {
    "duration": 7,
    "start_time": "2022-09-11T14:12:13.969Z"
   },
   {
    "duration": 34,
    "start_time": "2022-09-11T14:12:13.977Z"
   },
   {
    "duration": 8,
    "start_time": "2022-09-11T14:12:14.013Z"
   },
   {
    "duration": 13,
    "start_time": "2022-09-11T14:12:14.023Z"
   },
   {
    "duration": 31,
    "start_time": "2022-09-11T14:12:14.038Z"
   },
   {
    "duration": 33,
    "start_time": "2022-09-11T14:12:14.076Z"
   },
   {
    "duration": 18,
    "start_time": "2022-09-11T14:12:14.110Z"
   },
   {
    "duration": 8,
    "start_time": "2022-09-11T14:12:14.130Z"
   },
   {
    "duration": 40,
    "start_time": "2022-09-11T14:12:14.140Z"
   },
   {
    "duration": 29,
    "start_time": "2022-09-11T14:12:14.184Z"
   },
   {
    "duration": 8,
    "start_time": "2022-09-11T14:12:14.215Z"
   },
   {
    "duration": 19,
    "start_time": "2022-09-11T14:12:14.225Z"
   },
   {
    "duration": 2339,
    "start_time": "2022-09-11T14:12:14.246Z"
   },
   {
    "duration": 33,
    "start_time": "2022-09-11T14:12:16.587Z"
   },
   {
    "duration": 10,
    "start_time": "2022-09-11T14:12:16.623Z"
   },
   {
    "duration": 21,
    "start_time": "2022-09-11T14:12:16.635Z"
   },
   {
    "duration": 270,
    "start_time": "2022-09-11T14:12:16.658Z"
   },
   {
    "duration": 20,
    "start_time": "2022-09-11T14:12:16.930Z"
   },
   {
    "duration": 140,
    "start_time": "2022-09-11T14:12:16.968Z"
   },
   {
    "duration": 17,
    "start_time": "2022-09-11T14:12:17.110Z"
   },
   {
    "duration": 292,
    "start_time": "2022-09-11T14:12:17.129Z"
   },
   {
    "duration": 11,
    "start_time": "2022-09-11T14:12:17.423Z"
   },
   {
    "duration": 10,
    "start_time": "2022-09-11T14:12:17.436Z"
   },
   {
    "duration": 39,
    "start_time": "2022-09-11T14:12:17.448Z"
   },
   {
    "duration": 465,
    "start_time": "2022-09-11T14:12:17.489Z"
   },
   {
    "duration": 26,
    "start_time": "2022-09-11T14:12:17.956Z"
   },
   {
    "duration": 28,
    "start_time": "2022-09-11T14:12:17.985Z"
   },
   {
    "duration": 28,
    "start_time": "2022-09-11T14:12:18.015Z"
   },
   {
    "duration": 313,
    "start_time": "2022-09-11T14:12:18.045Z"
   },
   {
    "duration": 64,
    "start_time": "2022-09-11T14:12:18.360Z"
   },
   {
    "duration": 11,
    "start_time": "2022-09-11T14:12:18.426Z"
   },
   {
    "duration": 89,
    "start_time": "2022-09-11T14:12:18.439Z"
   },
   {
    "duration": 17,
    "start_time": "2022-09-11T14:12:18.530Z"
   },
   {
    "duration": 35,
    "start_time": "2022-09-11T14:12:18.548Z"
   },
   {
    "duration": 23,
    "start_time": "2022-09-11T14:12:18.585Z"
   },
   {
    "duration": 70,
    "start_time": "2022-09-11T14:12:18.610Z"
   },
   {
    "duration": 13,
    "start_time": "2022-09-11T14:12:18.686Z"
   },
   {
    "duration": 18,
    "start_time": "2022-09-11T14:12:18.701Z"
   },
   {
    "duration": 20,
    "start_time": "2022-09-11T14:12:18.721Z"
   },
   {
    "duration": 281,
    "start_time": "2022-09-11T14:12:18.742Z"
   },
   {
    "duration": 19,
    "start_time": "2022-09-11T14:12:19.025Z"
   },
   {
    "duration": 219,
    "start_time": "2022-09-11T14:12:19.046Z"
   },
   {
    "duration": 230,
    "start_time": "2022-09-11T14:12:19.267Z"
   },
   {
    "duration": 221,
    "start_time": "2022-09-11T14:12:19.499Z"
   },
   {
    "duration": 217,
    "start_time": "2022-09-11T14:12:19.722Z"
   },
   {
    "duration": 82,
    "start_time": "2022-09-11T14:12:19.941Z"
   },
   {
    "duration": 16,
    "start_time": "2022-09-11T14:12:20.025Z"
   },
   {
    "duration": 642,
    "start_time": "2022-09-11T14:12:20.043Z"
   },
   {
    "duration": 35,
    "start_time": "2022-09-11T14:13:01.952Z"
   },
   {
    "duration": 24,
    "start_time": "2022-09-11T14:13:11.988Z"
   },
   {
    "duration": 3,
    "start_time": "2022-09-11T14:13:17.087Z"
   },
   {
    "duration": 64,
    "start_time": "2022-09-11T14:13:17.093Z"
   },
   {
    "duration": 4,
    "start_time": "2022-09-11T14:13:17.158Z"
   },
   {
    "duration": 80,
    "start_time": "2022-09-11T14:13:17.164Z"
   },
   {
    "duration": 5,
    "start_time": "2022-09-11T14:13:17.246Z"
   },
   {
    "duration": 7,
    "start_time": "2022-09-11T14:13:17.252Z"
   },
   {
    "duration": 11,
    "start_time": "2022-09-11T14:13:17.274Z"
   },
   {
    "duration": 13,
    "start_time": "2022-09-11T14:13:17.288Z"
   },
   {
    "duration": 12,
    "start_time": "2022-09-11T14:13:17.302Z"
   },
   {
    "duration": 10,
    "start_time": "2022-09-11T14:13:17.316Z"
   },
   {
    "duration": 16,
    "start_time": "2022-09-11T14:13:17.328Z"
   },
   {
    "duration": 40,
    "start_time": "2022-09-11T14:13:17.346Z"
   },
   {
    "duration": 36,
    "start_time": "2022-09-11T14:13:17.388Z"
   },
   {
    "duration": 9,
    "start_time": "2022-09-11T14:13:17.428Z"
   },
   {
    "duration": 6,
    "start_time": "2022-09-11T14:13:17.438Z"
   },
   {
    "duration": 31,
    "start_time": "2022-09-11T14:13:17.446Z"
   },
   {
    "duration": 26,
    "start_time": "2022-09-11T14:13:17.479Z"
   },
   {
    "duration": 2262,
    "start_time": "2022-09-11T14:13:17.507Z"
   },
   {
    "duration": 26,
    "start_time": "2022-09-11T14:13:19.770Z"
   },
   {
    "duration": 9,
    "start_time": "2022-09-11T14:13:19.798Z"
   },
   {
    "duration": 10,
    "start_time": "2022-09-11T14:13:19.809Z"
   },
   {
    "duration": 213,
    "start_time": "2022-09-11T14:13:19.821Z"
   },
   {
    "duration": 14,
    "start_time": "2022-09-11T14:13:20.036Z"
   },
   {
    "duration": 211,
    "start_time": "2022-09-11T14:13:20.052Z"
   },
   {
    "duration": 24,
    "start_time": "2022-09-11T14:13:20.268Z"
   },
   {
    "duration": 253,
    "start_time": "2022-09-11T14:13:20.295Z"
   },
   {
    "duration": 12,
    "start_time": "2022-09-11T14:13:20.549Z"
   },
   {
    "duration": 28,
    "start_time": "2022-09-11T14:13:20.572Z"
   },
   {
    "duration": 15,
    "start_time": "2022-09-11T14:13:20.602Z"
   },
   {
    "duration": 413,
    "start_time": "2022-09-11T14:13:20.619Z"
   },
   {
    "duration": 5,
    "start_time": "2022-09-11T14:13:21.034Z"
   },
   {
    "duration": 46,
    "start_time": "2022-09-11T14:13:21.041Z"
   },
   {
    "duration": 26,
    "start_time": "2022-09-11T14:13:21.090Z"
   },
   {
    "duration": 219,
    "start_time": "2022-09-11T14:13:21.117Z"
   },
   {
    "duration": 58,
    "start_time": "2022-09-11T14:13:21.337Z"
   },
   {
    "duration": 11,
    "start_time": "2022-09-11T14:13:21.400Z"
   },
   {
    "duration": 77,
    "start_time": "2022-09-11T14:13:21.413Z"
   },
   {
    "duration": 25,
    "start_time": "2022-09-11T14:13:21.493Z"
   },
   {
    "duration": 39,
    "start_time": "2022-09-11T14:13:21.520Z"
   },
   {
    "duration": 32,
    "start_time": "2022-09-11T14:13:21.561Z"
   },
   {
    "duration": 55,
    "start_time": "2022-09-11T14:13:21.595Z"
   },
   {
    "duration": 30,
    "start_time": "2022-09-11T14:13:21.652Z"
   },
   {
    "duration": 34,
    "start_time": "2022-09-11T14:13:21.684Z"
   },
   {
    "duration": 21,
    "start_time": "2022-09-11T14:13:21.720Z"
   },
   {
    "duration": 270,
    "start_time": "2022-09-11T14:13:21.743Z"
   },
   {
    "duration": 20,
    "start_time": "2022-09-11T14:13:22.015Z"
   },
   {
    "duration": 212,
    "start_time": "2022-09-11T14:13:22.037Z"
   },
   {
    "duration": 238,
    "start_time": "2022-09-11T14:13:22.250Z"
   },
   {
    "duration": 225,
    "start_time": "2022-09-11T14:13:22.490Z"
   },
   {
    "duration": 325,
    "start_time": "2022-09-11T14:13:22.717Z"
   },
   {
    "duration": 81,
    "start_time": "2022-09-11T14:13:23.044Z"
   },
   {
    "duration": 15,
    "start_time": "2022-09-11T14:13:23.127Z"
   },
   {
    "duration": 678,
    "start_time": "2022-09-11T14:13:23.144Z"
   },
   {
    "duration": 25,
    "start_time": "2022-09-11T14:15:36.986Z"
   },
   {
    "duration": 17,
    "start_time": "2022-09-11T14:16:56.895Z"
   },
   {
    "duration": 32,
    "start_time": "2022-09-11T14:17:01.488Z"
   },
   {
    "duration": 25,
    "start_time": "2022-09-11T14:17:04.604Z"
   },
   {
    "duration": 15,
    "start_time": "2022-09-11T14:17:11.013Z"
   },
   {
    "duration": 33,
    "start_time": "2022-09-11T14:17:14.447Z"
   },
   {
    "duration": 4,
    "start_time": "2022-09-11T14:19:46.769Z"
   },
   {
    "duration": 102,
    "start_time": "2022-09-11T14:19:46.782Z"
   },
   {
    "duration": 4,
    "start_time": "2022-09-11T14:19:46.886Z"
   },
   {
    "duration": 97,
    "start_time": "2022-09-11T14:19:46.892Z"
   },
   {
    "duration": 7,
    "start_time": "2022-09-11T14:19:46.992Z"
   },
   {
    "duration": 16,
    "start_time": "2022-09-11T14:19:47.001Z"
   },
   {
    "duration": 33,
    "start_time": "2022-09-11T14:19:47.019Z"
   },
   {
    "duration": 22,
    "start_time": "2022-09-11T14:19:47.055Z"
   },
   {
    "duration": 29,
    "start_time": "2022-09-11T14:19:47.082Z"
   },
   {
    "duration": 11,
    "start_time": "2022-09-11T14:19:47.113Z"
   },
   {
    "duration": 17,
    "start_time": "2022-09-11T14:19:47.126Z"
   },
   {
    "duration": 7,
    "start_time": "2022-09-11T14:19:47.145Z"
   },
   {
    "duration": 45,
    "start_time": "2022-09-11T14:19:47.154Z"
   },
   {
    "duration": 10,
    "start_time": "2022-09-11T14:19:47.202Z"
   },
   {
    "duration": 5,
    "start_time": "2022-09-11T14:19:47.214Z"
   },
   {
    "duration": 17,
    "start_time": "2022-09-11T14:19:47.220Z"
   },
   {
    "duration": 47,
    "start_time": "2022-09-11T14:19:47.239Z"
   },
   {
    "duration": 3228,
    "start_time": "2022-09-11T14:19:47.288Z"
   },
   {
    "duration": 21,
    "start_time": "2022-09-11T14:19:50.518Z"
   },
   {
    "duration": 30,
    "start_time": "2022-09-11T14:19:50.540Z"
   },
   {
    "duration": 0,
    "start_time": "2022-09-11T14:19:50.573Z"
   },
   {
    "duration": 0,
    "start_time": "2022-09-11T14:19:50.573Z"
   },
   {
    "duration": 0,
    "start_time": "2022-09-11T14:19:50.574Z"
   },
   {
    "duration": 0,
    "start_time": "2022-09-11T14:19:50.575Z"
   },
   {
    "duration": 0,
    "start_time": "2022-09-11T14:19:50.575Z"
   },
   {
    "duration": 0,
    "start_time": "2022-09-11T14:19:50.576Z"
   },
   {
    "duration": 0,
    "start_time": "2022-09-11T14:19:50.579Z"
   },
   {
    "duration": 0,
    "start_time": "2022-09-11T14:19:50.580Z"
   },
   {
    "duration": 0,
    "start_time": "2022-09-11T14:19:50.582Z"
   },
   {
    "duration": 0,
    "start_time": "2022-09-11T14:19:50.582Z"
   },
   {
    "duration": 0,
    "start_time": "2022-09-11T14:19:50.585Z"
   },
   {
    "duration": 0,
    "start_time": "2022-09-11T14:19:50.586Z"
   },
   {
    "duration": 0,
    "start_time": "2022-09-11T14:19:50.587Z"
   },
   {
    "duration": 0,
    "start_time": "2022-09-11T14:19:50.588Z"
   },
   {
    "duration": 0,
    "start_time": "2022-09-11T14:19:50.589Z"
   },
   {
    "duration": 0,
    "start_time": "2022-09-11T14:19:50.590Z"
   },
   {
    "duration": 0,
    "start_time": "2022-09-11T14:19:50.591Z"
   },
   {
    "duration": 0,
    "start_time": "2022-09-11T14:19:50.592Z"
   },
   {
    "duration": 0,
    "start_time": "2022-09-11T14:19:50.593Z"
   },
   {
    "duration": 0,
    "start_time": "2022-09-11T14:19:50.594Z"
   },
   {
    "duration": 0,
    "start_time": "2022-09-11T14:19:50.595Z"
   },
   {
    "duration": 0,
    "start_time": "2022-09-11T14:19:50.596Z"
   },
   {
    "duration": 0,
    "start_time": "2022-09-11T14:19:50.597Z"
   },
   {
    "duration": 0,
    "start_time": "2022-09-11T14:19:50.598Z"
   },
   {
    "duration": 0,
    "start_time": "2022-09-11T14:19:50.599Z"
   },
   {
    "duration": 0,
    "start_time": "2022-09-11T14:19:50.600Z"
   },
   {
    "duration": 0,
    "start_time": "2022-09-11T14:19:50.601Z"
   },
   {
    "duration": 0,
    "start_time": "2022-09-11T14:19:50.602Z"
   },
   {
    "duration": 0,
    "start_time": "2022-09-11T14:19:50.603Z"
   },
   {
    "duration": 0,
    "start_time": "2022-09-11T14:19:50.604Z"
   },
   {
    "duration": 0,
    "start_time": "2022-09-11T14:19:50.605Z"
   },
   {
    "duration": 0,
    "start_time": "2022-09-11T14:19:50.606Z"
   },
   {
    "duration": 0,
    "start_time": "2022-09-11T14:19:50.607Z"
   },
   {
    "duration": 15,
    "start_time": "2022-09-11T14:20:33.133Z"
   },
   {
    "duration": 27,
    "start_time": "2022-09-11T14:41:38.701Z"
   },
   {
    "duration": 3,
    "start_time": "2022-09-11T14:41:53.522Z"
   },
   {
    "duration": 65,
    "start_time": "2022-09-11T14:41:53.529Z"
   },
   {
    "duration": 4,
    "start_time": "2022-09-11T14:41:53.596Z"
   },
   {
    "duration": 68,
    "start_time": "2022-09-11T14:41:53.601Z"
   },
   {
    "duration": 5,
    "start_time": "2022-09-11T14:41:53.671Z"
   },
   {
    "duration": 10,
    "start_time": "2022-09-11T14:41:53.677Z"
   },
   {
    "duration": 7,
    "start_time": "2022-09-11T14:41:53.689Z"
   },
   {
    "duration": 13,
    "start_time": "2022-09-11T14:41:53.698Z"
   },
   {
    "duration": 16,
    "start_time": "2022-09-11T14:41:53.713Z"
   },
   {
    "duration": 10,
    "start_time": "2022-09-11T14:41:53.731Z"
   },
   {
    "duration": 20,
    "start_time": "2022-09-11T14:41:53.768Z"
   },
   {
    "duration": 7,
    "start_time": "2022-09-11T14:41:53.790Z"
   },
   {
    "duration": 53,
    "start_time": "2022-09-11T14:41:53.799Z"
   },
   {
    "duration": 15,
    "start_time": "2022-09-11T14:41:53.854Z"
   },
   {
    "duration": 7,
    "start_time": "2022-09-11T14:41:53.871Z"
   },
   {
    "duration": 23,
    "start_time": "2022-09-11T14:41:53.880Z"
   },
   {
    "duration": 29,
    "start_time": "2022-09-11T14:41:53.905Z"
   },
   {
    "duration": 37,
    "start_time": "2022-09-11T14:42:22.740Z"
   },
   {
    "duration": 17,
    "start_time": "2022-09-11T14:42:56.318Z"
   },
   {
    "duration": 2,
    "start_time": "2022-09-11T14:43:12.490Z"
   },
   {
    "duration": 66,
    "start_time": "2022-09-11T14:43:12.498Z"
   },
   {
    "duration": 4,
    "start_time": "2022-09-11T14:43:12.567Z"
   },
   {
    "duration": 56,
    "start_time": "2022-09-11T14:43:12.572Z"
   },
   {
    "duration": 4,
    "start_time": "2022-09-11T14:43:12.630Z"
   },
   {
    "duration": 31,
    "start_time": "2022-09-11T14:43:12.637Z"
   },
   {
    "duration": 7,
    "start_time": "2022-09-11T14:43:12.669Z"
   },
   {
    "duration": 14,
    "start_time": "2022-09-11T14:43:12.677Z"
   },
   {
    "duration": 14,
    "start_time": "2022-09-11T14:43:12.693Z"
   },
   {
    "duration": 7,
    "start_time": "2022-09-11T14:43:12.709Z"
   },
   {
    "duration": 16,
    "start_time": "2022-09-11T14:43:12.718Z"
   },
   {
    "duration": 35,
    "start_time": "2022-09-11T14:43:12.736Z"
   },
   {
    "duration": 35,
    "start_time": "2022-09-11T14:43:12.772Z"
   },
   {
    "duration": 9,
    "start_time": "2022-09-11T14:43:12.808Z"
   },
   {
    "duration": 6,
    "start_time": "2022-09-11T14:43:12.820Z"
   },
   {
    "duration": 41,
    "start_time": "2022-09-11T14:43:12.827Z"
   },
   {
    "duration": 15,
    "start_time": "2022-09-11T14:43:12.869Z"
   },
   {
    "duration": 4,
    "start_time": "2022-09-11T14:43:12.885Z"
   },
   {
    "duration": 25,
    "start_time": "2022-09-11T14:43:12.891Z"
   },
   {
    "duration": 16,
    "start_time": "2022-09-11T14:44:14.150Z"
   },
   {
    "duration": 2,
    "start_time": "2022-09-11T14:44:20.739Z"
   },
   {
    "duration": 69,
    "start_time": "2022-09-11T14:44:20.744Z"
   },
   {
    "duration": 4,
    "start_time": "2022-09-11T14:44:20.816Z"
   },
   {
    "duration": 73,
    "start_time": "2022-09-11T14:44:20.822Z"
   },
   {
    "duration": 5,
    "start_time": "2022-09-11T14:44:20.898Z"
   },
   {
    "duration": 10,
    "start_time": "2022-09-11T14:44:20.905Z"
   },
   {
    "duration": 8,
    "start_time": "2022-09-11T14:44:20.917Z"
   },
   {
    "duration": 50,
    "start_time": "2022-09-11T14:44:20.927Z"
   },
   {
    "duration": 12,
    "start_time": "2022-09-11T14:44:20.979Z"
   },
   {
    "duration": 13,
    "start_time": "2022-09-11T14:44:20.994Z"
   },
   {
    "duration": 18,
    "start_time": "2022-09-11T14:44:21.011Z"
   },
   {
    "duration": 37,
    "start_time": "2022-09-11T14:44:21.031Z"
   },
   {
    "duration": 35,
    "start_time": "2022-09-11T14:44:21.070Z"
   },
   {
    "duration": 14,
    "start_time": "2022-09-11T14:44:21.107Z"
   },
   {
    "duration": 6,
    "start_time": "2022-09-11T14:44:21.123Z"
   },
   {
    "duration": 17,
    "start_time": "2022-09-11T14:44:21.131Z"
   },
   {
    "duration": 32,
    "start_time": "2022-09-11T14:44:21.149Z"
   },
   {
    "duration": 4,
    "start_time": "2022-09-11T14:44:21.183Z"
   },
   {
    "duration": 17,
    "start_time": "2022-09-11T14:44:21.189Z"
   },
   {
    "duration": 2842,
    "start_time": "2022-09-11T14:44:21.208Z"
   },
   {
    "duration": 24,
    "start_time": "2022-09-11T14:44:24.051Z"
   },
   {
    "duration": 11,
    "start_time": "2022-09-11T14:44:24.077Z"
   },
   {
    "duration": 11,
    "start_time": "2022-09-11T14:44:24.089Z"
   },
   {
    "duration": 200,
    "start_time": "2022-09-11T14:44:24.102Z"
   },
   {
    "duration": 14,
    "start_time": "2022-09-11T14:44:24.304Z"
   },
   {
    "duration": 132,
    "start_time": "2022-09-11T14:44:24.320Z"
   },
   {
    "duration": 23,
    "start_time": "2022-09-11T14:44:24.454Z"
   },
   {
    "duration": 252,
    "start_time": "2022-09-11T14:44:24.479Z"
   },
   {
    "duration": 10,
    "start_time": "2022-09-11T14:44:24.734Z"
   },
   {
    "duration": 21,
    "start_time": "2022-09-11T14:44:24.746Z"
   },
   {
    "duration": 16,
    "start_time": "2022-09-11T14:44:24.769Z"
   },
   {
    "duration": 411,
    "start_time": "2022-09-11T14:44:24.786Z"
   },
   {
    "duration": 6,
    "start_time": "2022-09-11T14:44:25.198Z"
   },
   {
    "duration": 25,
    "start_time": "2022-09-11T14:44:25.205Z"
   },
   {
    "duration": 37,
    "start_time": "2022-09-11T14:44:25.231Z"
   },
   {
    "duration": 195,
    "start_time": "2022-09-11T14:44:25.270Z"
   },
   {
    "duration": 45,
    "start_time": "2022-09-11T14:44:25.466Z"
   },
   {
    "duration": 11,
    "start_time": "2022-09-11T14:44:25.513Z"
   },
   {
    "duration": 172,
    "start_time": "2022-09-11T14:44:25.526Z"
   },
   {
    "duration": 16,
    "start_time": "2022-09-11T14:44:25.700Z"
   },
   {
    "duration": 18,
    "start_time": "2022-09-11T14:44:25.718Z"
   },
   {
    "duration": 37,
    "start_time": "2022-09-11T14:44:25.739Z"
   },
   {
    "duration": 45,
    "start_time": "2022-09-11T14:44:25.778Z"
   },
   {
    "duration": 8,
    "start_time": "2022-09-11T14:44:25.825Z"
   },
   {
    "duration": 38,
    "start_time": "2022-09-11T14:44:25.835Z"
   },
   {
    "duration": 19,
    "start_time": "2022-09-11T14:44:25.875Z"
   },
   {
    "duration": 244,
    "start_time": "2022-09-11T14:44:25.896Z"
   },
   {
    "duration": 27,
    "start_time": "2022-09-11T14:44:26.141Z"
   },
   {
    "duration": 176,
    "start_time": "2022-09-11T14:44:26.170Z"
   },
   {
    "duration": 231,
    "start_time": "2022-09-11T14:44:26.349Z"
   },
   {
    "duration": 269,
    "start_time": "2022-09-11T14:44:26.582Z"
   },
   {
    "duration": 203,
    "start_time": "2022-09-11T14:44:26.853Z"
   },
   {
    "duration": 69,
    "start_time": "2022-09-11T14:44:27.058Z"
   },
   {
    "duration": 14,
    "start_time": "2022-09-11T14:44:27.129Z"
   },
   {
    "duration": 558,
    "start_time": "2022-09-11T14:44:27.145Z"
   },
   {
    "duration": 5,
    "start_time": "2022-09-11T14:49:06.438Z"
   },
   {
    "duration": 19,
    "start_time": "2022-09-11T14:49:08.126Z"
   },
   {
    "duration": 3,
    "start_time": "2022-09-11T14:49:15.142Z"
   },
   {
    "duration": 69,
    "start_time": "2022-09-11T14:49:15.147Z"
   },
   {
    "duration": 4,
    "start_time": "2022-09-11T14:49:15.218Z"
   },
   {
    "duration": 64,
    "start_time": "2022-09-11T14:49:15.223Z"
   },
   {
    "duration": 5,
    "start_time": "2022-09-11T14:49:15.289Z"
   },
   {
    "duration": 7,
    "start_time": "2022-09-11T14:49:15.295Z"
   },
   {
    "duration": 8,
    "start_time": "2022-09-11T14:49:15.304Z"
   },
   {
    "duration": 12,
    "start_time": "2022-09-11T14:49:15.314Z"
   },
   {
    "duration": 43,
    "start_time": "2022-09-11T14:49:15.327Z"
   },
   {
    "duration": 13,
    "start_time": "2022-09-11T14:49:15.372Z"
   },
   {
    "duration": 23,
    "start_time": "2022-09-11T14:49:15.388Z"
   },
   {
    "duration": 6,
    "start_time": "2022-09-11T14:49:15.413Z"
   },
   {
    "duration": 56,
    "start_time": "2022-09-11T14:49:15.421Z"
   },
   {
    "duration": 10,
    "start_time": "2022-09-11T14:49:15.479Z"
   },
   {
    "duration": 9,
    "start_time": "2022-09-11T14:49:15.490Z"
   },
   {
    "duration": 39,
    "start_time": "2022-09-11T14:49:15.501Z"
   },
   {
    "duration": 17,
    "start_time": "2022-09-11T14:49:15.541Z"
   },
   {
    "duration": 3,
    "start_time": "2022-09-11T14:49:15.560Z"
   },
   {
    "duration": 16,
    "start_time": "2022-09-11T14:49:15.568Z"
   },
   {
    "duration": 16,
    "start_time": "2022-09-11T14:49:29.651Z"
   },
   {
    "duration": 3,
    "start_time": "2022-09-11T14:49:36.186Z"
   },
   {
    "duration": 69,
    "start_time": "2022-09-11T14:49:36.191Z"
   },
   {
    "duration": 4,
    "start_time": "2022-09-11T14:49:36.262Z"
   },
   {
    "duration": 52,
    "start_time": "2022-09-11T14:49:36.268Z"
   },
   {
    "duration": 4,
    "start_time": "2022-09-11T14:49:36.322Z"
   },
   {
    "duration": 7,
    "start_time": "2022-09-11T14:49:36.327Z"
   },
   {
    "duration": 6,
    "start_time": "2022-09-11T14:49:36.336Z"
   },
   {
    "duration": 9,
    "start_time": "2022-09-11T14:49:36.344Z"
   },
   {
    "duration": 21,
    "start_time": "2022-09-11T14:49:36.355Z"
   },
   {
    "duration": 7,
    "start_time": "2022-09-11T14:49:36.378Z"
   },
   {
    "duration": 22,
    "start_time": "2022-09-11T14:49:36.387Z"
   },
   {
    "duration": 6,
    "start_time": "2022-09-11T14:49:36.411Z"
   },
   {
    "duration": 30,
    "start_time": "2022-09-11T14:49:36.418Z"
   },
   {
    "duration": 8,
    "start_time": "2022-09-11T14:49:36.451Z"
   },
   {
    "duration": 5,
    "start_time": "2022-09-11T14:49:36.469Z"
   },
   {
    "duration": 21,
    "start_time": "2022-09-11T14:49:36.475Z"
   },
   {
    "duration": 22,
    "start_time": "2022-09-11T14:49:36.498Z"
   },
   {
    "duration": 5,
    "start_time": "2022-09-11T14:49:36.522Z"
   },
   {
    "duration": 53,
    "start_time": "2022-09-11T14:49:36.529Z"
   },
   {
    "duration": 8,
    "start_time": "2022-09-11T14:49:45.310Z"
   },
   {
    "duration": 75,
    "start_time": "2022-09-11T14:53:42.799Z"
   },
   {
    "duration": 2659,
    "start_time": "2022-09-11T14:54:26.578Z"
   },
   {
    "duration": 23,
    "start_time": "2022-09-11T14:54:39.842Z"
   },
   {
    "duration": 10,
    "start_time": "2022-09-11T14:57:25.248Z"
   },
   {
    "duration": 11,
    "start_time": "2022-09-11T14:59:54.705Z"
   },
   {
    "duration": 3,
    "start_time": "2022-09-11T15:00:00.741Z"
   },
   {
    "duration": 74,
    "start_time": "2022-09-11T15:00:00.746Z"
   },
   {
    "duration": 4,
    "start_time": "2022-09-11T15:00:00.821Z"
   },
   {
    "duration": 66,
    "start_time": "2022-09-11T15:00:00.827Z"
   },
   {
    "duration": 5,
    "start_time": "2022-09-11T15:00:00.896Z"
   },
   {
    "duration": 15,
    "start_time": "2022-09-11T15:00:00.903Z"
   },
   {
    "duration": 12,
    "start_time": "2022-09-11T15:00:00.919Z"
   },
   {
    "duration": 37,
    "start_time": "2022-09-11T15:00:00.934Z"
   },
   {
    "duration": 24,
    "start_time": "2022-09-11T15:00:00.973Z"
   },
   {
    "duration": 23,
    "start_time": "2022-09-11T15:00:00.999Z"
   },
   {
    "duration": 26,
    "start_time": "2022-09-11T15:00:01.024Z"
   },
   {
    "duration": 29,
    "start_time": "2022-09-11T15:00:01.052Z"
   },
   {
    "duration": 75,
    "start_time": "2022-09-11T15:00:01.085Z"
   },
   {
    "duration": 11,
    "start_time": "2022-09-11T15:00:01.161Z"
   },
   {
    "duration": 14,
    "start_time": "2022-09-11T15:00:01.174Z"
   },
   {
    "duration": 39,
    "start_time": "2022-09-11T15:00:01.190Z"
   },
   {
    "duration": 22,
    "start_time": "2022-09-11T15:00:01.231Z"
   },
   {
    "duration": 5,
    "start_time": "2022-09-11T15:00:01.255Z"
   },
   {
    "duration": 29,
    "start_time": "2022-09-11T15:00:01.262Z"
   },
   {
    "duration": 2537,
    "start_time": "2022-09-11T15:00:01.293Z"
   },
   {
    "duration": 22,
    "start_time": "2022-09-11T15:00:03.831Z"
   },
   {
    "duration": 20,
    "start_time": "2022-09-11T15:00:03.855Z"
   },
   {
    "duration": 28,
    "start_time": "2022-09-11T15:00:03.877Z"
   },
   {
    "duration": 225,
    "start_time": "2022-09-11T15:00:03.906Z"
   },
   {
    "duration": 16,
    "start_time": "2022-09-11T15:00:04.133Z"
   },
   {
    "duration": 24,
    "start_time": "2022-09-11T15:00:04.151Z"
   },
   {
    "duration": 0,
    "start_time": "2022-09-11T15:00:04.177Z"
   },
   {
    "duration": 0,
    "start_time": "2022-09-11T15:00:04.178Z"
   },
   {
    "duration": 0,
    "start_time": "2022-09-11T15:00:04.180Z"
   },
   {
    "duration": 0,
    "start_time": "2022-09-11T15:00:04.181Z"
   },
   {
    "duration": 0,
    "start_time": "2022-09-11T15:00:04.181Z"
   },
   {
    "duration": 0,
    "start_time": "2022-09-11T15:00:04.183Z"
   },
   {
    "duration": 0,
    "start_time": "2022-09-11T15:00:04.184Z"
   },
   {
    "duration": 0,
    "start_time": "2022-09-11T15:00:04.185Z"
   },
   {
    "duration": 0,
    "start_time": "2022-09-11T15:00:04.186Z"
   },
   {
    "duration": 0,
    "start_time": "2022-09-11T15:00:04.187Z"
   },
   {
    "duration": 0,
    "start_time": "2022-09-11T15:00:04.189Z"
   },
   {
    "duration": 0,
    "start_time": "2022-09-11T15:00:04.190Z"
   },
   {
    "duration": 0,
    "start_time": "2022-09-11T15:00:04.191Z"
   },
   {
    "duration": 0,
    "start_time": "2022-09-11T15:00:04.192Z"
   },
   {
    "duration": 0,
    "start_time": "2022-09-11T15:00:04.193Z"
   },
   {
    "duration": 0,
    "start_time": "2022-09-11T15:00:04.194Z"
   },
   {
    "duration": 0,
    "start_time": "2022-09-11T15:00:04.195Z"
   },
   {
    "duration": 0,
    "start_time": "2022-09-11T15:00:04.196Z"
   },
   {
    "duration": 0,
    "start_time": "2022-09-11T15:00:04.196Z"
   },
   {
    "duration": 0,
    "start_time": "2022-09-11T15:00:04.198Z"
   },
   {
    "duration": 0,
    "start_time": "2022-09-11T15:00:04.198Z"
   },
   {
    "duration": 0,
    "start_time": "2022-09-11T15:00:04.199Z"
   },
   {
    "duration": 0,
    "start_time": "2022-09-11T15:00:04.200Z"
   },
   {
    "duration": 0,
    "start_time": "2022-09-11T15:00:04.202Z"
   },
   {
    "duration": 0,
    "start_time": "2022-09-11T15:00:04.202Z"
   },
   {
    "duration": 0,
    "start_time": "2022-09-11T15:00:04.203Z"
   },
   {
    "duration": 0,
    "start_time": "2022-09-11T15:00:04.204Z"
   },
   {
    "duration": 0,
    "start_time": "2022-09-11T15:00:04.205Z"
   },
   {
    "duration": 0,
    "start_time": "2022-09-11T15:00:04.206Z"
   },
   {
    "duration": 10,
    "start_time": "2022-09-11T15:00:29.891Z"
   },
   {
    "duration": 10,
    "start_time": "2022-09-11T15:01:27.518Z"
   },
   {
    "duration": 61,
    "start_time": "2022-09-11T15:01:51.661Z"
   },
   {
    "duration": 9,
    "start_time": "2022-09-11T15:02:28.434Z"
   },
   {
    "duration": 61,
    "start_time": "2022-09-11T15:03:05.081Z"
   },
   {
    "duration": 67,
    "start_time": "2022-09-11T15:03:51.657Z"
   },
   {
    "duration": 74,
    "start_time": "2022-09-11T15:04:05.644Z"
   },
   {
    "duration": 10,
    "start_time": "2022-09-11T15:04:17.029Z"
   },
   {
    "duration": 78,
    "start_time": "2022-09-11T15:04:22.067Z"
   },
   {
    "duration": 84,
    "start_time": "2022-09-11T15:05:23.947Z"
   },
   {
    "duration": 753,
    "start_time": "2022-09-11T15:06:01.912Z"
   },
   {
    "duration": 85,
    "start_time": "2022-09-11T15:06:04.418Z"
   },
   {
    "duration": 94,
    "start_time": "2022-09-11T15:06:44.982Z"
   },
   {
    "duration": 11,
    "start_time": "2022-09-11T15:07:21.459Z"
   },
   {
    "duration": 88,
    "start_time": "2022-09-11T15:07:29.074Z"
   },
   {
    "duration": 226,
    "start_time": "2022-09-11T15:08:56.586Z"
   },
   {
    "duration": 107,
    "start_time": "2022-09-11T15:09:01.427Z"
   },
   {
    "duration": 93,
    "start_time": "2022-09-11T15:09:35.828Z"
   },
   {
    "duration": 109,
    "start_time": "2022-09-11T15:09:40.166Z"
   },
   {
    "duration": 98,
    "start_time": "2022-09-11T15:10:22.186Z"
   },
   {
    "duration": 20,
    "start_time": "2022-09-11T15:10:34.180Z"
   },
   {
    "duration": 101,
    "start_time": "2022-09-11T15:10:37.491Z"
   },
   {
    "duration": 97,
    "start_time": "2022-09-11T15:10:49.038Z"
   },
   {
    "duration": 190,
    "start_time": "2022-09-11T15:11:12.166Z"
   },
   {
    "duration": 202,
    "start_time": "2022-09-11T15:11:18.305Z"
   },
   {
    "duration": 187,
    "start_time": "2022-09-11T15:11:24.257Z"
   },
   {
    "duration": 3,
    "start_time": "2022-09-11T15:11:34.754Z"
   },
   {
    "duration": 72,
    "start_time": "2022-09-11T15:11:34.759Z"
   },
   {
    "duration": 3,
    "start_time": "2022-09-11T15:11:34.833Z"
   },
   {
    "duration": 60,
    "start_time": "2022-09-11T15:11:34.838Z"
   },
   {
    "duration": 5,
    "start_time": "2022-09-11T15:11:34.900Z"
   },
   {
    "duration": 7,
    "start_time": "2022-09-11T15:11:34.906Z"
   },
   {
    "duration": 6,
    "start_time": "2022-09-11T15:11:34.914Z"
   },
   {
    "duration": 10,
    "start_time": "2022-09-11T15:11:34.922Z"
   },
   {
    "duration": 45,
    "start_time": "2022-09-11T15:11:34.934Z"
   },
   {
    "duration": 13,
    "start_time": "2022-09-11T15:11:34.981Z"
   },
   {
    "duration": 16,
    "start_time": "2022-09-11T15:11:34.996Z"
   },
   {
    "duration": 11,
    "start_time": "2022-09-11T15:11:35.014Z"
   },
   {
    "duration": 55,
    "start_time": "2022-09-11T15:11:35.027Z"
   },
   {
    "duration": 10,
    "start_time": "2022-09-11T15:11:35.085Z"
   },
   {
    "duration": 6,
    "start_time": "2022-09-11T15:11:35.097Z"
   },
   {
    "duration": 23,
    "start_time": "2022-09-11T15:11:35.105Z"
   },
   {
    "duration": 16,
    "start_time": "2022-09-11T15:11:35.130Z"
   },
   {
    "duration": 26,
    "start_time": "2022-09-11T15:11:35.148Z"
   },
   {
    "duration": 25,
    "start_time": "2022-09-11T15:11:35.176Z"
   },
   {
    "duration": 2508,
    "start_time": "2022-09-11T15:11:35.203Z"
   },
   {
    "duration": 19,
    "start_time": "2022-09-11T15:11:37.712Z"
   },
   {
    "duration": 17,
    "start_time": "2022-09-11T15:11:37.733Z"
   },
   {
    "duration": 26,
    "start_time": "2022-09-11T15:11:37.752Z"
   },
   {
    "duration": 184,
    "start_time": "2022-09-11T15:11:37.780Z"
   },
   {
    "duration": 20,
    "start_time": "2022-09-11T15:11:37.967Z"
   },
   {
    "duration": 102,
    "start_time": "2022-09-11T15:11:37.989Z"
   },
   {
    "duration": 96,
    "start_time": "2022-09-11T15:11:48.647Z"
   },
   {
    "duration": 40,
    "start_time": "2022-09-11T15:11:48.745Z"
   },
   {
    "duration": 251,
    "start_time": "2022-09-11T15:11:48.787Z"
   },
   {
    "duration": 10,
    "start_time": "2022-09-11T15:11:49.040Z"
   },
   {
    "duration": 19,
    "start_time": "2022-09-11T15:11:49.069Z"
   },
   {
    "duration": 15,
    "start_time": "2022-09-11T15:11:49.090Z"
   },
   {
    "duration": 530,
    "start_time": "2022-09-11T15:11:49.107Z"
   },
   {
    "duration": 6,
    "start_time": "2022-09-11T15:11:49.639Z"
   },
   {
    "duration": 40,
    "start_time": "2022-09-11T15:11:49.646Z"
   },
   {
    "duration": 24,
    "start_time": "2022-09-11T15:11:49.687Z"
   },
   {
    "duration": 211,
    "start_time": "2022-09-11T15:11:49.713Z"
   },
   {
    "duration": 64,
    "start_time": "2022-09-11T15:11:49.926Z"
   },
   {
    "duration": 10,
    "start_time": "2022-09-11T15:11:49.991Z"
   },
   {
    "duration": 90,
    "start_time": "2022-09-11T15:11:50.004Z"
   },
   {
    "duration": 16,
    "start_time": "2022-09-11T15:11:50.096Z"
   },
   {
    "duration": 16,
    "start_time": "2022-09-11T15:11:50.114Z"
   },
   {
    "duration": 0,
    "start_time": "2022-09-11T15:11:50.132Z"
   },
   {
    "duration": 0,
    "start_time": "2022-09-11T15:11:50.133Z"
   },
   {
    "duration": 0,
    "start_time": "2022-09-11T15:11:50.134Z"
   },
   {
    "duration": 0,
    "start_time": "2022-09-11T15:11:50.136Z"
   },
   {
    "duration": 0,
    "start_time": "2022-09-11T15:11:50.137Z"
   },
   {
    "duration": 0,
    "start_time": "2022-09-11T15:11:50.138Z"
   },
   {
    "duration": 0,
    "start_time": "2022-09-11T15:11:50.139Z"
   },
   {
    "duration": 0,
    "start_time": "2022-09-11T15:11:50.140Z"
   },
   {
    "duration": 0,
    "start_time": "2022-09-11T15:11:50.171Z"
   },
   {
    "duration": 0,
    "start_time": "2022-09-11T15:11:50.178Z"
   },
   {
    "duration": 0,
    "start_time": "2022-09-11T15:11:50.180Z"
   },
   {
    "duration": 0,
    "start_time": "2022-09-11T15:11:50.182Z"
   },
   {
    "duration": 0,
    "start_time": "2022-09-11T15:11:50.183Z"
   },
   {
    "duration": 0,
    "start_time": "2022-09-11T15:11:50.185Z"
   },
   {
    "duration": 95,
    "start_time": "2022-09-11T15:12:19.185Z"
   },
   {
    "duration": 272,
    "start_time": "2022-09-11T15:12:52.633Z"
   },
   {
    "duration": 82,
    "start_time": "2022-09-11T15:13:01.256Z"
   },
   {
    "duration": 271,
    "start_time": "2022-09-11T15:13:10.448Z"
   },
   {
    "duration": 257,
    "start_time": "2022-09-11T15:13:17.752Z"
   },
   {
    "duration": 270,
    "start_time": "2022-09-11T15:13:28.952Z"
   },
   {
    "duration": 374,
    "start_time": "2022-09-11T15:13:40.112Z"
   },
   {
    "duration": 264,
    "start_time": "2022-09-11T15:13:54.836Z"
   },
   {
    "duration": 87,
    "start_time": "2022-09-11T15:14:04.324Z"
   },
   {
    "duration": 391,
    "start_time": "2022-09-11T15:14:41.838Z"
   },
   {
    "duration": 152,
    "start_time": "2022-09-11T15:14:47.716Z"
   },
   {
    "duration": 150,
    "start_time": "2022-09-11T15:14:51.400Z"
   },
   {
    "duration": 133,
    "start_time": "2022-09-11T15:14:55.118Z"
   },
   {
    "duration": 146,
    "start_time": "2022-09-11T15:15:02.355Z"
   },
   {
    "duration": 127,
    "start_time": "2022-09-11T15:15:10.363Z"
   },
   {
    "duration": 109,
    "start_time": "2022-09-11T15:15:15.696Z"
   },
   {
    "duration": 299,
    "start_time": "2022-09-11T15:15:35.862Z"
   },
   {
    "duration": 393,
    "start_time": "2022-09-11T15:19:44.566Z"
   },
   {
    "duration": 549,
    "start_time": "2022-09-11T15:20:36.390Z"
   },
   {
    "duration": 24,
    "start_time": "2022-09-11T15:21:01.974Z"
   },
   {
    "duration": 348,
    "start_time": "2022-09-11T15:21:13.258Z"
   },
   {
    "duration": 375,
    "start_time": "2022-09-11T15:22:25.634Z"
   },
   {
    "duration": 363,
    "start_time": "2022-09-11T15:22:33.201Z"
   },
   {
    "duration": 16,
    "start_time": "2022-09-11T15:31:40.617Z"
   },
   {
    "duration": 26,
    "start_time": "2022-09-11T15:32:09.126Z"
   },
   {
    "duration": 20,
    "start_time": "2022-09-11T15:32:21.726Z"
   },
   {
    "duration": 3,
    "start_time": "2022-09-11T15:32:29.846Z"
   },
   {
    "duration": 79,
    "start_time": "2022-09-11T15:32:29.851Z"
   },
   {
    "duration": 4,
    "start_time": "2022-09-11T15:32:29.932Z"
   },
   {
    "duration": 61,
    "start_time": "2022-09-11T15:32:29.938Z"
   },
   {
    "duration": 5,
    "start_time": "2022-09-11T15:32:30.001Z"
   },
   {
    "duration": 20,
    "start_time": "2022-09-11T15:32:30.008Z"
   },
   {
    "duration": 16,
    "start_time": "2022-09-11T15:32:30.030Z"
   },
   {
    "duration": 33,
    "start_time": "2022-09-11T15:32:30.047Z"
   },
   {
    "duration": 31,
    "start_time": "2022-09-11T15:32:30.083Z"
   },
   {
    "duration": 27,
    "start_time": "2022-09-11T15:32:30.116Z"
   },
   {
    "duration": 34,
    "start_time": "2022-09-11T15:32:30.146Z"
   },
   {
    "duration": 11,
    "start_time": "2022-09-11T15:32:30.182Z"
   },
   {
    "duration": 33,
    "start_time": "2022-09-11T15:32:30.194Z"
   },
   {
    "duration": 10,
    "start_time": "2022-09-11T15:32:30.229Z"
   },
   {
    "duration": 20,
    "start_time": "2022-09-11T15:32:30.240Z"
   },
   {
    "duration": 30,
    "start_time": "2022-09-11T15:32:30.262Z"
   },
   {
    "duration": 19,
    "start_time": "2022-09-11T15:32:30.293Z"
   },
   {
    "duration": 10,
    "start_time": "2022-09-11T15:32:30.313Z"
   },
   {
    "duration": 17,
    "start_time": "2022-09-11T15:32:30.324Z"
   },
   {
    "duration": 2807,
    "start_time": "2022-09-11T15:32:30.343Z"
   },
   {
    "duration": 31,
    "start_time": "2022-09-11T15:32:33.151Z"
   },
   {
    "duration": 22,
    "start_time": "2022-09-11T15:32:33.183Z"
   },
   {
    "duration": 15,
    "start_time": "2022-09-11T15:32:33.207Z"
   },
   {
    "duration": 330,
    "start_time": "2022-09-11T15:32:33.224Z"
   },
   {
    "duration": 28,
    "start_time": "2022-09-11T15:32:33.556Z"
   },
   {
    "duration": 114,
    "start_time": "2022-09-11T15:32:33.585Z"
   },
   {
    "duration": 14,
    "start_time": "2022-09-11T15:32:33.701Z"
   },
   {
    "duration": 359,
    "start_time": "2022-09-11T15:32:33.716Z"
   },
   {
    "duration": 9,
    "start_time": "2022-09-11T15:32:34.081Z"
   },
   {
    "duration": 17,
    "start_time": "2022-09-11T15:32:34.091Z"
   },
   {
    "duration": 15,
    "start_time": "2022-09-11T15:32:34.110Z"
   },
   {
    "duration": 428,
    "start_time": "2022-09-11T15:32:34.126Z"
   },
   {
    "duration": 24,
    "start_time": "2022-09-11T15:32:34.556Z"
   },
   {
    "duration": 35,
    "start_time": "2022-09-11T15:32:34.582Z"
   },
   {
    "duration": 24,
    "start_time": "2022-09-11T15:33:20.734Z"
   },
   {
    "duration": 17,
    "start_time": "2022-09-11T15:33:38.606Z"
   },
   {
    "duration": 14,
    "start_time": "2022-09-11T15:33:46.834Z"
   },
   {
    "duration": 2429,
    "start_time": "2022-09-11T15:35:09.195Z"
   },
   {
    "duration": 19,
    "start_time": "2022-09-11T15:35:17.175Z"
   },
   {
    "duration": 3,
    "start_time": "2022-09-11T15:35:35.573Z"
   },
   {
    "duration": 61,
    "start_time": "2022-09-11T15:35:35.582Z"
   },
   {
    "duration": 4,
    "start_time": "2022-09-11T15:35:35.645Z"
   },
   {
    "duration": 52,
    "start_time": "2022-09-11T15:35:35.650Z"
   },
   {
    "duration": 6,
    "start_time": "2022-09-11T15:35:35.704Z"
   },
   {
    "duration": 5,
    "start_time": "2022-09-11T15:35:35.712Z"
   },
   {
    "duration": 6,
    "start_time": "2022-09-11T15:35:35.718Z"
   },
   {
    "duration": 44,
    "start_time": "2022-09-11T15:35:35.725Z"
   },
   {
    "duration": 15,
    "start_time": "2022-09-11T15:35:35.771Z"
   },
   {
    "duration": 13,
    "start_time": "2022-09-11T15:35:35.788Z"
   },
   {
    "duration": 17,
    "start_time": "2022-09-11T15:35:35.802Z"
   },
   {
    "duration": 6,
    "start_time": "2022-09-11T15:35:35.822Z"
   },
   {
    "duration": 50,
    "start_time": "2022-09-11T15:35:35.830Z"
   },
   {
    "duration": 9,
    "start_time": "2022-09-11T15:35:35.882Z"
   },
   {
    "duration": 11,
    "start_time": "2022-09-11T15:35:35.894Z"
   },
   {
    "duration": 19,
    "start_time": "2022-09-11T15:35:35.907Z"
   },
   {
    "duration": 14,
    "start_time": "2022-09-11T15:35:35.928Z"
   },
   {
    "duration": 3,
    "start_time": "2022-09-11T15:35:35.944Z"
   },
   {
    "duration": 33,
    "start_time": "2022-09-11T15:35:35.949Z"
   },
   {
    "duration": 2009,
    "start_time": "2022-09-11T15:35:35.984Z"
   },
   {
    "duration": 19,
    "start_time": "2022-09-11T15:35:37.995Z"
   },
   {
    "duration": 8,
    "start_time": "2022-09-11T15:35:38.016Z"
   },
   {
    "duration": 10,
    "start_time": "2022-09-11T15:35:38.025Z"
   },
   {
    "duration": 298,
    "start_time": "2022-09-11T15:35:38.037Z"
   },
   {
    "duration": 14,
    "start_time": "2022-09-11T15:35:38.337Z"
   },
   {
    "duration": 116,
    "start_time": "2022-09-11T15:35:38.353Z"
   },
   {
    "duration": 16,
    "start_time": "2022-09-11T15:35:38.471Z"
   },
   {
    "duration": 438,
    "start_time": "2022-09-11T15:35:38.488Z"
   },
   {
    "duration": 10,
    "start_time": "2022-09-11T15:35:38.928Z"
   },
   {
    "duration": 28,
    "start_time": "2022-09-11T15:35:38.940Z"
   },
   {
    "duration": 16,
    "start_time": "2022-09-11T15:35:38.969Z"
   },
   {
    "duration": 392,
    "start_time": "2022-09-11T15:35:38.987Z"
   },
   {
    "duration": 7,
    "start_time": "2022-09-11T15:35:39.381Z"
   },
   {
    "duration": 24,
    "start_time": "2022-09-11T15:35:39.390Z"
   },
   {
    "duration": 19,
    "start_time": "2022-09-11T15:35:39.416Z"
   },
   {
    "duration": 39,
    "start_time": "2022-09-11T15:35:39.437Z"
   },
   {
    "duration": 5,
    "start_time": "2022-09-11T15:37:09.472Z"
   },
   {
    "duration": 12,
    "start_time": "2022-09-11T15:37:13.028Z"
   },
   {
    "duration": 20,
    "start_time": "2022-09-11T15:41:42.582Z"
   },
   {
    "duration": 12,
    "start_time": "2022-09-11T15:41:45.076Z"
   },
   {
    "duration": 15,
    "start_time": "2022-09-11T15:41:58.043Z"
   },
   {
    "duration": 14,
    "start_time": "2022-09-11T15:53:29.547Z"
   },
   {
    "duration": 13,
    "start_time": "2022-09-11T15:53:34.591Z"
   },
   {
    "duration": 9,
    "start_time": "2022-09-11T16:00:07.387Z"
   },
   {
    "duration": 19,
    "start_time": "2022-09-11T16:01:12.727Z"
   },
   {
    "duration": 4,
    "start_time": "2022-09-11T16:08:47.216Z"
   },
   {
    "duration": 5,
    "start_time": "2022-09-11T16:09:26.972Z"
   },
   {
    "duration": 5,
    "start_time": "2022-09-11T16:14:52.780Z"
   },
   {
    "duration": 9,
    "start_time": "2022-09-11T16:16:40.504Z"
   },
   {
    "duration": 14,
    "start_time": "2022-09-11T16:16:50.676Z"
   },
   {
    "duration": 17,
    "start_time": "2022-09-11T16:18:15.697Z"
   },
   {
    "duration": 9,
    "start_time": "2022-09-11T16:18:42.291Z"
   },
   {
    "duration": 8,
    "start_time": "2022-09-11T16:19:50.493Z"
   },
   {
    "duration": 16,
    "start_time": "2022-09-11T16:19:53.452Z"
   },
   {
    "duration": 13,
    "start_time": "2022-09-11T16:30:06.681Z"
   },
   {
    "duration": 6,
    "start_time": "2022-09-11T16:30:13.373Z"
   },
   {
    "duration": 82,
    "start_time": "2022-09-11T16:31:01.945Z"
   },
   {
    "duration": 106,
    "start_time": "2022-09-11T16:31:28.065Z"
   },
   {
    "duration": 70,
    "start_time": "2022-09-11T16:31:54.016Z"
   },
   {
    "duration": 111,
    "start_time": "2022-09-11T16:32:08.416Z"
   },
   {
    "duration": 75,
    "start_time": "2022-09-11T16:32:14.345Z"
   },
   {
    "duration": 11,
    "start_time": "2022-09-11T16:33:03.699Z"
   },
   {
    "duration": 16,
    "start_time": "2022-09-11T16:34:40.397Z"
   },
   {
    "duration": 16,
    "start_time": "2022-09-11T16:35:29.361Z"
   },
   {
    "duration": 12,
    "start_time": "2022-09-11T16:38:01.360Z"
   },
   {
    "duration": 11,
    "start_time": "2022-09-11T16:38:17.580Z"
   },
   {
    "duration": 6,
    "start_time": "2022-09-11T16:38:21.626Z"
   },
   {
    "duration": 10,
    "start_time": "2022-09-11T16:39:12.317Z"
   },
   {
    "duration": 7,
    "start_time": "2022-09-11T16:39:18.408Z"
   },
   {
    "duration": 18,
    "start_time": "2022-09-11T16:40:13.905Z"
   },
   {
    "duration": 7,
    "start_time": "2022-09-11T16:40:15.797Z"
   },
   {
    "duration": 175,
    "start_time": "2022-09-11T16:40:46.373Z"
   },
   {
    "duration": 25,
    "start_time": "2022-09-11T16:41:01.075Z"
   },
   {
    "duration": 1487,
    "start_time": "2022-09-11T16:41:07.748Z"
   },
   {
    "duration": 19,
    "start_time": "2022-09-11T16:41:30.394Z"
   },
   {
    "duration": 19,
    "start_time": "2022-09-11T16:41:56.364Z"
   },
   {
    "duration": 4,
    "start_time": "2022-09-11T16:41:59.129Z"
   },
   {
    "duration": 474,
    "start_time": "2022-09-11T16:42:51.264Z"
   },
   {
    "duration": 8,
    "start_time": "2022-09-11T16:42:59.408Z"
   },
   {
    "duration": 19,
    "start_time": "2022-09-11T16:43:18.737Z"
   },
   {
    "duration": 9,
    "start_time": "2022-09-11T16:43:22.337Z"
   },
   {
    "duration": 26,
    "start_time": "2022-09-11T16:46:29.597Z"
   },
   {
    "duration": 7,
    "start_time": "2022-09-11T16:46:31.854Z"
   },
   {
    "duration": 11,
    "start_time": "2022-09-11T17:54:05.938Z"
   },
   {
    "duration": 12,
    "start_time": "2022-09-11T17:54:30.674Z"
   },
   {
    "duration": 0,
    "start_time": "2022-09-11T17:54:30.687Z"
   },
   {
    "duration": 60,
    "start_time": "2022-09-11T17:54:30.693Z"
   },
   {
    "duration": 8,
    "start_time": "2022-09-11T17:54:30.755Z"
   },
   {
    "duration": 22,
    "start_time": "2022-09-11T17:54:30.768Z"
   },
   {
    "duration": 0,
    "start_time": "2022-09-11T17:54:30.792Z"
   },
   {
    "duration": 0,
    "start_time": "2022-09-11T17:54:30.793Z"
   },
   {
    "duration": 0,
    "start_time": "2022-09-11T17:54:30.795Z"
   },
   {
    "duration": 0,
    "start_time": "2022-09-11T17:54:30.796Z"
   },
   {
    "duration": 0,
    "start_time": "2022-09-11T17:54:30.797Z"
   },
   {
    "duration": 0,
    "start_time": "2022-09-11T17:54:30.798Z"
   },
   {
    "duration": 233,
    "start_time": "2022-09-11T17:54:30.803Z"
   },
   {
    "duration": 15,
    "start_time": "2022-09-11T17:54:31.038Z"
   },
   {
    "duration": 0,
    "start_time": "2022-09-11T17:54:31.067Z"
   },
   {
    "duration": 0,
    "start_time": "2022-09-11T17:54:31.069Z"
   },
   {
    "duration": 3,
    "start_time": "2022-09-11T17:55:06.393Z"
   },
   {
    "duration": 65,
    "start_time": "2022-09-11T17:55:06.417Z"
   },
   {
    "duration": 4,
    "start_time": "2022-09-11T17:55:06.484Z"
   },
   {
    "duration": 95,
    "start_time": "2022-09-11T17:55:06.489Z"
   },
   {
    "duration": 7,
    "start_time": "2022-09-11T17:55:06.586Z"
   },
   {
    "duration": 15,
    "start_time": "2022-09-11T17:55:06.595Z"
   },
   {
    "duration": 15,
    "start_time": "2022-09-11T17:55:06.612Z"
   },
   {
    "duration": 38,
    "start_time": "2022-09-11T17:55:06.630Z"
   },
   {
    "duration": 16,
    "start_time": "2022-09-11T17:55:06.671Z"
   },
   {
    "duration": 17,
    "start_time": "2022-09-11T17:55:06.690Z"
   },
   {
    "duration": 23,
    "start_time": "2022-09-11T17:55:06.709Z"
   },
   {
    "duration": 34,
    "start_time": "2022-09-11T17:55:06.734Z"
   },
   {
    "duration": 37,
    "start_time": "2022-09-11T17:55:06.771Z"
   },
   {
    "duration": 9,
    "start_time": "2022-09-11T17:55:06.810Z"
   },
   {
    "duration": 6,
    "start_time": "2022-09-11T17:55:06.823Z"
   },
   {
    "duration": 17,
    "start_time": "2022-09-11T17:55:06.830Z"
   },
   {
    "duration": 32,
    "start_time": "2022-09-11T17:55:06.848Z"
   },
   {
    "duration": 4,
    "start_time": "2022-09-11T17:55:06.881Z"
   },
   {
    "duration": 19,
    "start_time": "2022-09-11T17:55:06.886Z"
   },
   {
    "duration": 2968,
    "start_time": "2022-09-11T17:55:06.906Z"
   },
   {
    "duration": 20,
    "start_time": "2022-09-11T17:55:09.877Z"
   },
   {
    "duration": 8,
    "start_time": "2022-09-11T17:55:09.899Z"
   },
   {
    "duration": 9,
    "start_time": "2022-09-11T17:55:09.909Z"
   },
   {
    "duration": 334,
    "start_time": "2022-09-11T17:55:09.920Z"
   },
   {
    "duration": 24,
    "start_time": "2022-09-11T17:55:10.256Z"
   },
   {
    "duration": 110,
    "start_time": "2022-09-11T17:55:10.281Z"
   },
   {
    "duration": 15,
    "start_time": "2022-09-11T17:55:10.393Z"
   },
   {
    "duration": 341,
    "start_time": "2022-09-11T17:55:10.410Z"
   },
   {
    "duration": 17,
    "start_time": "2022-09-11T17:55:10.753Z"
   },
   {
    "duration": 10,
    "start_time": "2022-09-11T17:55:10.771Z"
   },
   {
    "duration": 14,
    "start_time": "2022-09-11T17:55:10.783Z"
   },
   {
    "duration": 412,
    "start_time": "2022-09-11T17:55:10.799Z"
   },
   {
    "duration": 5,
    "start_time": "2022-09-11T17:55:11.213Z"
   },
   {
    "duration": 25,
    "start_time": "2022-09-11T17:55:11.220Z"
   },
   {
    "duration": 38,
    "start_time": "2022-09-11T17:55:11.247Z"
   },
   {
    "duration": 12,
    "start_time": "2022-09-11T17:55:11.287Z"
   },
   {
    "duration": 14,
    "start_time": "2022-09-11T17:55:11.301Z"
   },
   {
    "duration": 6,
    "start_time": "2022-09-11T17:55:11.317Z"
   },
   {
    "duration": 5,
    "start_time": "2022-09-11T17:55:11.325Z"
   },
   {
    "duration": 39,
    "start_time": "2022-09-11T17:55:11.331Z"
   },
   {
    "duration": 10,
    "start_time": "2022-09-11T17:55:11.371Z"
   },
   {
    "duration": 14,
    "start_time": "2022-09-11T17:55:11.385Z"
   },
   {
    "duration": 27,
    "start_time": "2022-09-11T17:55:11.401Z"
   },
   {
    "duration": 14,
    "start_time": "2022-09-11T17:55:11.429Z"
   },
   {
    "duration": 55,
    "start_time": "2022-09-11T17:55:11.445Z"
   },
   {
    "duration": 211,
    "start_time": "2022-09-11T17:55:11.503Z"
   },
   {
    "duration": 54,
    "start_time": "2022-09-11T17:55:11.716Z"
   },
   {
    "duration": 9,
    "start_time": "2022-09-11T17:55:11.772Z"
   },
   {
    "duration": 188,
    "start_time": "2022-09-11T17:55:11.783Z"
   },
   {
    "duration": 16,
    "start_time": "2022-09-11T17:55:11.973Z"
   },
   {
    "duration": 17,
    "start_time": "2022-09-11T17:55:41.189Z"
   },
   {
    "duration": 15,
    "start_time": "2022-09-11T18:12:54.561Z"
   },
   {
    "duration": 12,
    "start_time": "2022-09-11T18:18:52.807Z"
   },
   {
    "duration": 45,
    "start_time": "2022-09-11T18:19:23.088Z"
   },
   {
    "duration": 13,
    "start_time": "2022-09-11T18:19:58.270Z"
   },
   {
    "duration": 44,
    "start_time": "2022-09-11T18:20:03.187Z"
   },
   {
    "duration": 3,
    "start_time": "2022-09-11T18:20:10.471Z"
   },
   {
    "duration": 63,
    "start_time": "2022-09-11T18:20:10.487Z"
   },
   {
    "duration": 4,
    "start_time": "2022-09-11T18:20:10.552Z"
   },
   {
    "duration": 65,
    "start_time": "2022-09-11T18:20:10.557Z"
   },
   {
    "duration": 6,
    "start_time": "2022-09-11T18:20:10.624Z"
   },
   {
    "duration": 8,
    "start_time": "2022-09-11T18:20:10.634Z"
   },
   {
    "duration": 7,
    "start_time": "2022-09-11T18:20:10.668Z"
   },
   {
    "duration": 13,
    "start_time": "2022-09-11T18:20:10.677Z"
   },
   {
    "duration": 19,
    "start_time": "2022-09-11T18:20:10.692Z"
   },
   {
    "duration": 10,
    "start_time": "2022-09-11T18:20:10.712Z"
   },
   {
    "duration": 45,
    "start_time": "2022-09-11T18:20:10.724Z"
   },
   {
    "duration": 13,
    "start_time": "2022-09-11T18:20:10.771Z"
   },
   {
    "duration": 33,
    "start_time": "2022-09-11T18:20:10.786Z"
   },
   {
    "duration": 11,
    "start_time": "2022-09-11T18:20:10.820Z"
   },
   {
    "duration": 5,
    "start_time": "2022-09-11T18:20:10.833Z"
   },
   {
    "duration": 40,
    "start_time": "2022-09-11T18:20:10.839Z"
   },
   {
    "duration": 16,
    "start_time": "2022-09-11T18:20:10.881Z"
   },
   {
    "duration": 4,
    "start_time": "2022-09-11T18:20:10.898Z"
   },
   {
    "duration": 18,
    "start_time": "2022-09-11T18:20:10.903Z"
   },
   {
    "duration": 3039,
    "start_time": "2022-09-11T18:20:10.922Z"
   },
   {
    "duration": 23,
    "start_time": "2022-09-11T18:20:13.963Z"
   },
   {
    "duration": 9,
    "start_time": "2022-09-11T18:20:13.988Z"
   },
   {
    "duration": 10,
    "start_time": "2022-09-11T18:20:13.999Z"
   },
   {
    "duration": 322,
    "start_time": "2022-09-11T18:20:14.011Z"
   },
   {
    "duration": 15,
    "start_time": "2022-09-11T18:20:14.335Z"
   },
   {
    "duration": 124,
    "start_time": "2022-09-11T18:20:14.352Z"
   },
   {
    "duration": 17,
    "start_time": "2022-09-11T18:20:14.479Z"
   },
   {
    "duration": 413,
    "start_time": "2022-09-11T18:20:14.498Z"
   },
   {
    "duration": 12,
    "start_time": "2022-09-11T18:20:14.913Z"
   },
   {
    "duration": 12,
    "start_time": "2022-09-11T18:20:14.927Z"
   },
   {
    "duration": 39,
    "start_time": "2022-09-11T18:20:14.941Z"
   },
   {
    "duration": 437,
    "start_time": "2022-09-11T18:20:14.982Z"
   },
   {
    "duration": 7,
    "start_time": "2022-09-11T18:20:15.421Z"
   },
   {
    "duration": 40,
    "start_time": "2022-09-11T18:20:15.430Z"
   },
   {
    "duration": 22,
    "start_time": "2022-09-11T18:20:15.473Z"
   },
   {
    "duration": 13,
    "start_time": "2022-09-11T18:20:15.497Z"
   },
   {
    "duration": 17,
    "start_time": "2022-09-11T18:20:15.512Z"
   },
   {
    "duration": 36,
    "start_time": "2022-09-11T18:20:15.532Z"
   },
   {
    "duration": 4,
    "start_time": "2022-09-11T18:20:15.570Z"
   },
   {
    "duration": 11,
    "start_time": "2022-09-11T18:20:15.576Z"
   },
   {
    "duration": 16,
    "start_time": "2022-09-11T18:20:15.590Z"
   },
   {
    "duration": 21,
    "start_time": "2022-09-11T18:20:15.613Z"
   },
   {
    "duration": 63,
    "start_time": "2022-09-11T18:20:15.637Z"
   },
   {
    "duration": 7,
    "start_time": "2022-09-11T18:20:15.702Z"
   },
   {
    "duration": 31,
    "start_time": "2022-09-11T18:20:15.711Z"
   },
   {
    "duration": 230,
    "start_time": "2022-09-11T18:20:15.744Z"
   },
   {
    "duration": 49,
    "start_time": "2022-09-11T18:20:15.976Z"
   },
   {
    "duration": 12,
    "start_time": "2022-09-11T18:20:16.027Z"
   },
   {
    "duration": 194,
    "start_time": "2022-09-11T18:20:16.041Z"
   },
   {
    "duration": 18,
    "start_time": "2022-09-11T18:20:16.237Z"
   },
   {
    "duration": 19,
    "start_time": "2022-09-11T18:20:16.269Z"
   },
   {
    "duration": 77,
    "start_time": "2022-09-11T18:20:16.290Z"
   },
   {
    "duration": 25,
    "start_time": "2022-09-11T18:20:34.139Z"
   },
   {
    "duration": 10,
    "start_time": "2022-09-11T18:20:37.631Z"
   },
   {
    "duration": 12,
    "start_time": "2022-09-11T18:20:40.798Z"
   },
   {
    "duration": 10,
    "start_time": "2022-09-11T18:20:48.014Z"
   },
   {
    "duration": 25,
    "start_time": "2022-09-11T18:20:54.104Z"
   },
   {
    "duration": 38,
    "start_time": "2022-09-11T18:21:05.323Z"
   },
   {
    "duration": 41,
    "start_time": "2022-09-11T18:21:29.299Z"
   },
   {
    "duration": 38,
    "start_time": "2022-09-11T18:21:37.322Z"
   },
   {
    "duration": 2,
    "start_time": "2022-09-11T18:23:59.516Z"
   },
   {
    "duration": 64,
    "start_time": "2022-09-11T18:23:59.520Z"
   },
   {
    "duration": 3,
    "start_time": "2022-09-11T18:23:59.586Z"
   },
   {
    "duration": 57,
    "start_time": "2022-09-11T18:23:59.591Z"
   },
   {
    "duration": 20,
    "start_time": "2022-09-11T18:23:59.650Z"
   },
   {
    "duration": 7,
    "start_time": "2022-09-11T18:23:59.671Z"
   },
   {
    "duration": 7,
    "start_time": "2022-09-11T18:23:59.679Z"
   },
   {
    "duration": 18,
    "start_time": "2022-09-11T18:23:59.688Z"
   },
   {
    "duration": 60,
    "start_time": "2022-09-11T18:23:59.708Z"
   },
   {
    "duration": 10,
    "start_time": "2022-09-11T18:23:59.770Z"
   },
   {
    "duration": 18,
    "start_time": "2022-09-11T18:23:59.783Z"
   },
   {
    "duration": 9,
    "start_time": "2022-09-11T18:23:59.803Z"
   },
   {
    "duration": 54,
    "start_time": "2022-09-11T18:23:59.814Z"
   },
   {
    "duration": 10,
    "start_time": "2022-09-11T18:23:59.869Z"
   },
   {
    "duration": 7,
    "start_time": "2022-09-11T18:23:59.881Z"
   },
   {
    "duration": 25,
    "start_time": "2022-09-11T18:23:59.890Z"
   },
   {
    "duration": 18,
    "start_time": "2022-09-11T18:23:59.918Z"
   },
   {
    "duration": 4,
    "start_time": "2022-09-11T18:23:59.938Z"
   },
   {
    "duration": 17,
    "start_time": "2022-09-11T18:23:59.967Z"
   },
   {
    "duration": 2073,
    "start_time": "2022-09-11T18:23:59.986Z"
   },
   {
    "duration": 24,
    "start_time": "2022-09-11T18:24:02.061Z"
   },
   {
    "duration": 8,
    "start_time": "2022-09-11T18:24:02.087Z"
   },
   {
    "duration": 11,
    "start_time": "2022-09-11T18:24:02.096Z"
   },
   {
    "duration": 316,
    "start_time": "2022-09-11T18:24:02.109Z"
   },
   {
    "duration": 15,
    "start_time": "2022-09-11T18:24:02.427Z"
   },
   {
    "duration": 117,
    "start_time": "2022-09-11T18:24:02.443Z"
   },
   {
    "duration": 17,
    "start_time": "2022-09-11T18:24:02.563Z"
   },
   {
    "duration": 364,
    "start_time": "2022-09-11T18:24:02.582Z"
   },
   {
    "duration": 22,
    "start_time": "2022-09-11T18:24:02.949Z"
   },
   {
    "duration": 11,
    "start_time": "2022-09-11T18:24:02.973Z"
   },
   {
    "duration": 15,
    "start_time": "2022-09-11T18:24:02.986Z"
   },
   {
    "duration": 435,
    "start_time": "2022-09-11T18:24:03.002Z"
   },
   {
    "duration": 6,
    "start_time": "2022-09-11T18:24:03.439Z"
   },
   {
    "duration": 40,
    "start_time": "2022-09-11T18:24:03.447Z"
   },
   {
    "duration": 19,
    "start_time": "2022-09-11T18:24:03.489Z"
   },
   {
    "duration": 11,
    "start_time": "2022-09-11T18:24:03.510Z"
   },
   {
    "duration": 14,
    "start_time": "2022-09-11T18:24:03.523Z"
   },
   {
    "duration": 29,
    "start_time": "2022-09-11T18:24:03.539Z"
   },
   {
    "duration": 3,
    "start_time": "2022-09-11T18:24:03.569Z"
   },
   {
    "duration": 11,
    "start_time": "2022-09-11T18:24:03.573Z"
   },
   {
    "duration": 11,
    "start_time": "2022-09-11T18:24:03.586Z"
   },
   {
    "duration": 16,
    "start_time": "2022-09-11T18:24:03.599Z"
   },
   {
    "duration": 51,
    "start_time": "2022-09-11T18:24:03.617Z"
   },
   {
    "duration": 12,
    "start_time": "2022-09-11T18:24:03.670Z"
   },
   {
    "duration": 27,
    "start_time": "2022-09-11T18:24:03.683Z"
   },
   {
    "duration": 229,
    "start_time": "2022-09-11T18:24:03.712Z"
   },
   {
    "duration": 55,
    "start_time": "2022-09-11T18:24:03.942Z"
   },
   {
    "duration": 11,
    "start_time": "2022-09-11T18:24:04.000Z"
   },
   {
    "duration": 89,
    "start_time": "2022-09-11T18:24:04.013Z"
   },
   {
    "duration": 16,
    "start_time": "2022-09-11T18:24:04.103Z"
   },
   {
    "duration": 19,
    "start_time": "2022-09-11T18:24:04.120Z"
   },
   {
    "duration": 68,
    "start_time": "2022-09-11T18:24:04.141Z"
   },
   {
    "duration": 4,
    "start_time": "2022-09-11T18:24:04.210Z"
   },
   {
    "duration": 6,
    "start_time": "2022-09-11T18:24:04.216Z"
   },
   {
    "duration": 15,
    "start_time": "2022-09-11T18:24:43.720Z"
   },
   {
    "duration": 13,
    "start_time": "2022-09-11T18:25:06.851Z"
   },
   {
    "duration": 3,
    "start_time": "2022-09-11T18:26:05.071Z"
   },
   {
    "duration": 69,
    "start_time": "2022-09-11T18:26:05.078Z"
   },
   {
    "duration": 4,
    "start_time": "2022-09-11T18:26:05.149Z"
   },
   {
    "duration": 64,
    "start_time": "2022-09-11T18:26:05.154Z"
   },
   {
    "duration": 5,
    "start_time": "2022-09-11T18:26:05.220Z"
   },
   {
    "duration": 11,
    "start_time": "2022-09-11T18:26:05.227Z"
   },
   {
    "duration": 30,
    "start_time": "2022-09-11T18:26:05.240Z"
   },
   {
    "duration": 15,
    "start_time": "2022-09-11T18:26:05.272Z"
   },
   {
    "duration": 14,
    "start_time": "2022-09-11T18:26:05.288Z"
   },
   {
    "duration": 14,
    "start_time": "2022-09-11T18:26:05.304Z"
   },
   {
    "duration": 52,
    "start_time": "2022-09-11T18:26:05.320Z"
   },
   {
    "duration": 14,
    "start_time": "2022-09-11T18:26:05.374Z"
   },
   {
    "duration": 33,
    "start_time": "2022-09-11T18:26:05.390Z"
   },
   {
    "duration": 10,
    "start_time": "2022-09-11T18:26:05.424Z"
   },
   {
    "duration": 11,
    "start_time": "2022-09-11T18:26:05.437Z"
   },
   {
    "duration": 39,
    "start_time": "2022-09-11T18:26:05.449Z"
   },
   {
    "duration": 26,
    "start_time": "2022-09-11T18:26:05.490Z"
   },
   {
    "duration": 5,
    "start_time": "2022-09-11T18:26:05.519Z"
   },
   {
    "duration": 23,
    "start_time": "2022-09-11T18:26:05.526Z"
   },
   {
    "duration": 2173,
    "start_time": "2022-09-11T18:26:05.568Z"
   },
   {
    "duration": 24,
    "start_time": "2022-09-11T18:26:07.743Z"
   },
   {
    "duration": 8,
    "start_time": "2022-09-11T18:26:07.769Z"
   },
   {
    "duration": 9,
    "start_time": "2022-09-11T18:26:07.779Z"
   },
   {
    "duration": 319,
    "start_time": "2022-09-11T18:26:07.790Z"
   },
   {
    "duration": 14,
    "start_time": "2022-09-11T18:26:08.111Z"
   },
   {
    "duration": 114,
    "start_time": "2022-09-11T18:26:08.126Z"
   },
   {
    "duration": 15,
    "start_time": "2022-09-11T18:26:08.242Z"
   },
   {
    "duration": 433,
    "start_time": "2022-09-11T18:26:08.267Z"
   },
   {
    "duration": 9,
    "start_time": "2022-09-11T18:26:08.702Z"
   },
   {
    "duration": 10,
    "start_time": "2022-09-11T18:26:08.713Z"
   },
   {
    "duration": 15,
    "start_time": "2022-09-11T18:26:08.725Z"
   },
   {
    "duration": 402,
    "start_time": "2022-09-11T18:26:08.768Z"
   },
   {
    "duration": 6,
    "start_time": "2022-09-11T18:26:09.172Z"
   },
   {
    "duration": 26,
    "start_time": "2022-09-11T18:26:09.180Z"
   },
   {
    "duration": 20,
    "start_time": "2022-09-11T18:26:09.208Z"
   },
   {
    "duration": 11,
    "start_time": "2022-09-11T18:26:09.229Z"
   },
   {
    "duration": 14,
    "start_time": "2022-09-11T18:26:09.268Z"
   },
   {
    "duration": 6,
    "start_time": "2022-09-11T18:26:09.284Z"
   },
   {
    "duration": 5,
    "start_time": "2022-09-11T18:26:09.291Z"
   },
   {
    "duration": 9,
    "start_time": "2022-09-11T18:26:09.298Z"
   },
   {
    "duration": 13,
    "start_time": "2022-09-11T18:26:09.308Z"
   },
   {
    "duration": 17,
    "start_time": "2022-09-11T18:26:09.325Z"
   },
   {
    "duration": 50,
    "start_time": "2022-09-11T18:26:09.344Z"
   },
   {
    "duration": 10,
    "start_time": "2022-09-11T18:26:09.396Z"
   },
   {
    "duration": 25,
    "start_time": "2022-09-11T18:26:09.408Z"
   },
   {
    "duration": 217,
    "start_time": "2022-09-11T18:26:09.435Z"
   },
   {
    "duration": 49,
    "start_time": "2022-09-11T18:26:09.653Z"
   },
   {
    "duration": 11,
    "start_time": "2022-09-11T18:26:09.704Z"
   },
   {
    "duration": 85,
    "start_time": "2022-09-11T18:26:09.717Z"
   },
   {
    "duration": 15,
    "start_time": "2022-09-11T18:26:09.804Z"
   },
   {
    "duration": 19,
    "start_time": "2022-09-11T18:26:09.821Z"
   },
   {
    "duration": 69,
    "start_time": "2022-09-11T18:26:09.842Z"
   },
   {
    "duration": 3,
    "start_time": "2022-09-11T18:26:09.912Z"
   },
   {
    "duration": 8,
    "start_time": "2022-09-11T18:26:09.916Z"
   },
   {
    "duration": 16,
    "start_time": "2022-09-11T18:26:09.925Z"
   },
   {
    "duration": 0,
    "start_time": "2022-09-11T18:26:09.943Z"
   },
   {
    "duration": 21,
    "start_time": "2022-09-11T18:26:25.115Z"
   },
   {
    "duration": 13,
    "start_time": "2022-09-11T18:26:35.399Z"
   },
   {
    "duration": 14,
    "start_time": "2022-09-11T18:27:16.948Z"
   },
   {
    "duration": 30,
    "start_time": "2022-09-11T18:27:48.580Z"
   },
   {
    "duration": 29,
    "start_time": "2022-09-11T18:27:53.519Z"
   },
   {
    "duration": 15,
    "start_time": "2022-09-11T18:28:23.496Z"
   },
   {
    "duration": 38,
    "start_time": "2022-09-11T18:28:27.808Z"
   },
   {
    "duration": 23,
    "start_time": "2022-09-11T18:28:36.739Z"
   },
   {
    "duration": 23,
    "start_time": "2022-09-11T18:28:38.458Z"
   },
   {
    "duration": 4,
    "start_time": "2022-09-11T18:28:44.639Z"
   },
   {
    "duration": 80,
    "start_time": "2022-09-11T18:28:44.647Z"
   },
   {
    "duration": 4,
    "start_time": "2022-09-11T18:28:44.728Z"
   },
   {
    "duration": 76,
    "start_time": "2022-09-11T18:28:44.734Z"
   },
   {
    "duration": 5,
    "start_time": "2022-09-11T18:28:44.811Z"
   },
   {
    "duration": 9,
    "start_time": "2022-09-11T18:28:44.818Z"
   },
   {
    "duration": 9,
    "start_time": "2022-09-11T18:28:44.828Z"
   },
   {
    "duration": 18,
    "start_time": "2022-09-11T18:28:44.867Z"
   },
   {
    "duration": 19,
    "start_time": "2022-09-11T18:28:44.888Z"
   },
   {
    "duration": 11,
    "start_time": "2022-09-11T18:28:44.909Z"
   },
   {
    "duration": 17,
    "start_time": "2022-09-11T18:28:44.922Z"
   },
   {
    "duration": 41,
    "start_time": "2022-09-11T18:28:44.941Z"
   },
   {
    "duration": 35,
    "start_time": "2022-09-11T18:28:44.984Z"
   },
   {
    "duration": 9,
    "start_time": "2022-09-11T18:28:45.021Z"
   },
   {
    "duration": 11,
    "start_time": "2022-09-11T18:28:45.032Z"
   },
   {
    "duration": 17,
    "start_time": "2022-09-11T18:28:45.045Z"
   },
   {
    "duration": 20,
    "start_time": "2022-09-11T18:28:45.067Z"
   },
   {
    "duration": 11,
    "start_time": "2022-09-11T18:28:45.090Z"
   },
   {
    "duration": 22,
    "start_time": "2022-09-11T18:28:45.104Z"
   },
   {
    "duration": 1945,
    "start_time": "2022-09-11T18:28:45.128Z"
   },
   {
    "duration": 30,
    "start_time": "2022-09-11T18:28:47.077Z"
   },
   {
    "duration": 11,
    "start_time": "2022-09-11T18:28:47.109Z"
   },
   {
    "duration": 10,
    "start_time": "2022-09-11T18:28:47.122Z"
   },
   {
    "duration": 339,
    "start_time": "2022-09-11T18:28:47.136Z"
   },
   {
    "duration": 17,
    "start_time": "2022-09-11T18:28:47.484Z"
   },
   {
    "duration": 106,
    "start_time": "2022-09-11T18:28:47.502Z"
   },
   {
    "duration": 16,
    "start_time": "2022-09-11T18:28:47.610Z"
   },
   {
    "duration": 389,
    "start_time": "2022-09-11T18:28:47.628Z"
   },
   {
    "duration": 12,
    "start_time": "2022-09-11T18:28:48.019Z"
   },
   {
    "duration": 12,
    "start_time": "2022-09-11T18:28:48.033Z"
   },
   {
    "duration": 40,
    "start_time": "2022-09-11T18:28:48.047Z"
   },
   {
    "duration": 443,
    "start_time": "2022-09-11T18:28:48.089Z"
   },
   {
    "duration": 6,
    "start_time": "2022-09-11T18:28:48.534Z"
   },
   {
    "duration": 44,
    "start_time": "2022-09-11T18:28:48.542Z"
   },
   {
    "duration": 21,
    "start_time": "2022-09-11T18:28:48.588Z"
   },
   {
    "duration": 11,
    "start_time": "2022-09-11T18:28:48.610Z"
   },
   {
    "duration": 16,
    "start_time": "2022-09-11T18:28:48.623Z"
   },
   {
    "duration": 26,
    "start_time": "2022-09-11T18:28:48.641Z"
   },
   {
    "duration": 17,
    "start_time": "2022-09-11T18:28:48.672Z"
   },
   {
    "duration": 8,
    "start_time": "2022-09-11T18:28:48.691Z"
   },
   {
    "duration": 9,
    "start_time": "2022-09-11T18:28:48.701Z"
   },
   {
    "duration": 18,
    "start_time": "2022-09-11T18:28:48.712Z"
   },
   {
    "duration": 159,
    "start_time": "2022-09-11T18:28:48.732Z"
   },
   {
    "duration": 12,
    "start_time": "2022-09-11T18:28:48.894Z"
   },
   {
    "duration": 33,
    "start_time": "2022-09-11T18:28:48.908Z"
   },
   {
    "duration": 227,
    "start_time": "2022-09-11T18:28:48.942Z"
   },
   {
    "duration": 54,
    "start_time": "2022-09-11T18:28:49.177Z"
   },
   {
    "duration": 11,
    "start_time": "2022-09-11T18:28:49.233Z"
   },
   {
    "duration": 78,
    "start_time": "2022-09-11T18:28:49.246Z"
   },
   {
    "duration": 17,
    "start_time": "2022-09-11T18:28:49.326Z"
   },
   {
    "duration": 36,
    "start_time": "2022-09-11T18:28:49.344Z"
   },
   {
    "duration": 40,
    "start_time": "2022-09-11T18:28:49.381Z"
   },
   {
    "duration": 2,
    "start_time": "2022-09-11T18:28:49.423Z"
   },
   {
    "duration": 5,
    "start_time": "2022-09-11T18:28:49.426Z"
   },
   {
    "duration": 43,
    "start_time": "2022-09-11T18:28:49.433Z"
   },
   {
    "duration": 22,
    "start_time": "2022-09-11T18:28:49.480Z"
   },
   {
    "duration": 44,
    "start_time": "2022-09-11T18:30:09.717Z"
   },
   {
    "duration": 88,
    "start_time": "2022-09-11T18:31:12.561Z"
   },
   {
    "duration": 91,
    "start_time": "2022-09-11T18:31:20.013Z"
   },
   {
    "duration": 36,
    "start_time": "2022-09-11T18:31:50.254Z"
   },
   {
    "duration": 97,
    "start_time": "2022-09-11T18:32:33.355Z"
   },
   {
    "duration": 138,
    "start_time": "2022-09-11T18:32:52.561Z"
   },
   {
    "duration": 82,
    "start_time": "2022-09-11T18:33:05.008Z"
   },
   {
    "duration": 83,
    "start_time": "2022-09-11T18:36:43.234Z"
   },
   {
    "duration": 6,
    "start_time": "2022-09-11T18:37:04.737Z"
   },
   {
    "duration": 28,
    "start_time": "2022-09-11T18:37:18.358Z"
   },
   {
    "duration": 1312,
    "start_time": "2022-09-11T18:37:30.449Z"
   },
   {
    "duration": 2,
    "start_time": "2022-09-11T18:37:45.054Z"
   },
   {
    "duration": 33,
    "start_time": "2022-09-11T18:40:51.621Z"
   },
   {
    "duration": 14,
    "start_time": "2022-09-11T18:41:22.411Z"
   },
   {
    "duration": 247,
    "start_time": "2022-09-11T18:41:31.432Z"
   },
   {
    "duration": 206,
    "start_time": "2022-09-11T18:41:35.811Z"
   },
   {
    "duration": 200,
    "start_time": "2022-09-11T18:41:38.464Z"
   },
   {
    "duration": 35,
    "start_time": "2022-09-11T18:45:04.595Z"
   },
   {
    "duration": 51,
    "start_time": "2022-09-11T18:46:00.084Z"
   },
   {
    "duration": 16,
    "start_time": "2022-09-11T18:47:22.859Z"
   },
   {
    "duration": 20,
    "start_time": "2022-09-11T18:47:24.711Z"
   },
   {
    "duration": 46,
    "start_time": "2022-09-11T18:47:35.530Z"
   },
   {
    "duration": 65,
    "start_time": "2022-09-11T18:47:55.486Z"
   },
   {
    "duration": 6,
    "start_time": "2022-09-11T18:49:21.529Z"
   },
   {
    "duration": 75,
    "start_time": "2022-09-11T18:49:21.553Z"
   },
   {
    "duration": 4,
    "start_time": "2022-09-11T18:49:21.630Z"
   },
   {
    "duration": 71,
    "start_time": "2022-09-11T18:49:21.636Z"
   },
   {
    "duration": 5,
    "start_time": "2022-09-11T18:49:21.709Z"
   },
   {
    "duration": 9,
    "start_time": "2022-09-11T18:49:21.716Z"
   },
   {
    "duration": 7,
    "start_time": "2022-09-11T18:49:21.727Z"
   },
   {
    "duration": 49,
    "start_time": "2022-09-11T18:49:21.736Z"
   },
   {
    "duration": 14,
    "start_time": "2022-09-11T18:49:21.788Z"
   },
   {
    "duration": 11,
    "start_time": "2022-09-11T18:49:21.804Z"
   },
   {
    "duration": 17,
    "start_time": "2022-09-11T18:49:21.818Z"
   },
   {
    "duration": 12,
    "start_time": "2022-09-11T18:49:21.867Z"
   },
   {
    "duration": 42,
    "start_time": "2022-09-11T18:49:21.882Z"
   },
   {
    "duration": 11,
    "start_time": "2022-09-11T18:49:21.926Z"
   },
   {
    "duration": 28,
    "start_time": "2022-09-11T18:49:21.940Z"
   },
   {
    "duration": 23,
    "start_time": "2022-09-11T18:49:21.971Z"
   },
   {
    "duration": 22,
    "start_time": "2022-09-11T18:49:21.996Z"
   },
   {
    "duration": 4,
    "start_time": "2022-09-11T18:49:22.020Z"
   },
   {
    "duration": 53,
    "start_time": "2022-09-11T18:49:22.026Z"
   },
   {
    "duration": 3458,
    "start_time": "2022-09-11T18:49:22.082Z"
   },
   {
    "duration": 33,
    "start_time": "2022-09-11T18:49:25.542Z"
   },
   {
    "duration": 12,
    "start_time": "2022-09-11T18:49:25.578Z"
   },
   {
    "duration": 15,
    "start_time": "2022-09-11T18:49:25.593Z"
   },
   {
    "duration": 409,
    "start_time": "2022-09-11T18:49:25.610Z"
   },
   {
    "duration": 17,
    "start_time": "2022-09-11T18:49:26.022Z"
   },
   {
    "duration": 242,
    "start_time": "2022-09-11T18:49:26.042Z"
   },
   {
    "duration": 16,
    "start_time": "2022-09-11T18:49:26.286Z"
   },
   {
    "duration": 417,
    "start_time": "2022-09-11T18:49:26.304Z"
   },
   {
    "duration": 13,
    "start_time": "2022-09-11T18:49:26.723Z"
   },
   {
    "duration": 12,
    "start_time": "2022-09-11T18:49:26.738Z"
   },
   {
    "duration": 34,
    "start_time": "2022-09-11T18:49:26.776Z"
   },
   {
    "duration": 516,
    "start_time": "2022-09-11T18:49:26.813Z"
   },
   {
    "duration": 7,
    "start_time": "2022-09-11T18:49:27.331Z"
   },
   {
    "duration": 38,
    "start_time": "2022-09-11T18:49:27.339Z"
   },
   {
    "duration": 24,
    "start_time": "2022-09-11T18:49:27.379Z"
   },
   {
    "duration": 14,
    "start_time": "2022-09-11T18:49:27.405Z"
   },
   {
    "duration": 18,
    "start_time": "2022-09-11T18:49:27.421Z"
   },
   {
    "duration": 29,
    "start_time": "2022-09-11T18:49:27.441Z"
   },
   {
    "duration": 24,
    "start_time": "2022-09-11T18:49:27.473Z"
   },
   {
    "duration": 9,
    "start_time": "2022-09-11T18:49:27.499Z"
   },
   {
    "duration": 11,
    "start_time": "2022-09-11T18:49:27.510Z"
   },
   {
    "duration": 21,
    "start_time": "2022-09-11T18:49:27.525Z"
   },
   {
    "duration": 43,
    "start_time": "2022-09-11T18:49:27.548Z"
   },
   {
    "duration": 12,
    "start_time": "2022-09-11T18:49:27.594Z"
   },
   {
    "duration": 23,
    "start_time": "2022-09-11T18:49:27.608Z"
   },
   {
    "duration": 217,
    "start_time": "2022-09-11T18:49:27.633Z"
   },
   {
    "duration": 55,
    "start_time": "2022-09-11T18:49:27.852Z"
   },
   {
    "duration": 10,
    "start_time": "2022-09-11T18:49:27.910Z"
   },
   {
    "duration": 92,
    "start_time": "2022-09-11T18:49:27.923Z"
   },
   {
    "duration": 17,
    "start_time": "2022-09-11T18:49:28.017Z"
   },
   {
    "duration": 34,
    "start_time": "2022-09-11T18:49:28.037Z"
   },
   {
    "duration": 43,
    "start_time": "2022-09-11T18:49:28.073Z"
   },
   {
    "duration": 2,
    "start_time": "2022-09-11T18:49:28.119Z"
   },
   {
    "duration": 4,
    "start_time": "2022-09-11T18:49:28.124Z"
   },
   {
    "duration": 51,
    "start_time": "2022-09-11T18:49:28.130Z"
   },
   {
    "duration": 20,
    "start_time": "2022-09-11T18:49:28.183Z"
   },
   {
    "duration": 18,
    "start_time": "2022-09-11T18:49:28.205Z"
   },
   {
    "duration": 73,
    "start_time": "2022-09-11T18:49:28.225Z"
   },
   {
    "duration": 2,
    "start_time": "2022-09-11T18:49:28.300Z"
   },
   {
    "duration": 404,
    "start_time": "2022-09-11T18:49:28.303Z"
   },
   {
    "duration": 0,
    "start_time": "2022-09-11T18:49:28.709Z"
   },
   {
    "duration": 0,
    "start_time": "2022-09-11T18:49:28.710Z"
   },
   {
    "duration": 0,
    "start_time": "2022-09-11T18:49:28.712Z"
   },
   {
    "duration": 18,
    "start_time": "2022-09-11T18:50:00.558Z"
   },
   {
    "duration": 76,
    "start_time": "2022-09-11T18:50:45.481Z"
   },
   {
    "duration": 13,
    "start_time": "2022-09-11T18:51:09.819Z"
   },
   {
    "duration": 3,
    "start_time": "2022-09-11T18:51:18.006Z"
   },
   {
    "duration": 75,
    "start_time": "2022-09-11T18:51:18.011Z"
   },
   {
    "duration": 4,
    "start_time": "2022-09-11T18:51:18.088Z"
   },
   {
    "duration": 122,
    "start_time": "2022-09-11T18:51:18.095Z"
   },
   {
    "duration": 5,
    "start_time": "2022-09-11T18:51:18.220Z"
   },
   {
    "duration": 10,
    "start_time": "2022-09-11T18:51:18.227Z"
   },
   {
    "duration": 43,
    "start_time": "2022-09-11T18:51:18.239Z"
   },
   {
    "duration": 23,
    "start_time": "2022-09-11T18:51:18.284Z"
   },
   {
    "duration": 16,
    "start_time": "2022-09-11T18:51:18.310Z"
   },
   {
    "duration": 17,
    "start_time": "2022-09-11T18:51:18.328Z"
   },
   {
    "duration": 41,
    "start_time": "2022-09-11T18:51:18.348Z"
   },
   {
    "duration": 9,
    "start_time": "2022-09-11T18:51:18.393Z"
   },
   {
    "duration": 35,
    "start_time": "2022-09-11T18:51:18.406Z"
   },
   {
    "duration": 37,
    "start_time": "2022-09-11T18:51:18.443Z"
   },
   {
    "duration": 12,
    "start_time": "2022-09-11T18:51:18.486Z"
   },
   {
    "duration": 21,
    "start_time": "2022-09-11T18:51:18.500Z"
   },
   {
    "duration": 16,
    "start_time": "2022-09-11T18:51:18.522Z"
   },
   {
    "duration": 4,
    "start_time": "2022-09-11T18:51:18.540Z"
   },
   {
    "duration": 29,
    "start_time": "2022-09-11T18:51:18.546Z"
   },
   {
    "duration": 2087,
    "start_time": "2022-09-11T18:51:18.577Z"
   },
   {
    "duration": 30,
    "start_time": "2022-09-11T18:51:20.668Z"
   },
   {
    "duration": 13,
    "start_time": "2022-09-11T18:51:20.700Z"
   },
   {
    "duration": 9,
    "start_time": "2022-09-11T18:51:20.715Z"
   },
   {
    "duration": 444,
    "start_time": "2022-09-11T18:51:20.726Z"
   },
   {
    "duration": 29,
    "start_time": "2022-09-11T18:51:21.174Z"
   },
   {
    "duration": 124,
    "start_time": "2022-09-11T18:51:21.206Z"
   },
   {
    "duration": 15,
    "start_time": "2022-09-11T18:51:21.332Z"
   },
   {
    "duration": 566,
    "start_time": "2022-09-11T18:51:21.349Z"
   },
   {
    "duration": 14,
    "start_time": "2022-09-11T18:51:21.918Z"
   },
   {
    "duration": 13,
    "start_time": "2022-09-11T18:51:21.935Z"
   },
   {
    "duration": 45,
    "start_time": "2022-09-11T18:51:21.951Z"
   },
   {
    "duration": 431,
    "start_time": "2022-09-11T18:51:21.998Z"
   },
   {
    "duration": 8,
    "start_time": "2022-09-11T18:51:22.431Z"
   },
   {
    "duration": 44,
    "start_time": "2022-09-11T18:51:22.442Z"
   },
   {
    "duration": 19,
    "start_time": "2022-09-11T18:51:22.488Z"
   },
   {
    "duration": 11,
    "start_time": "2022-09-11T18:51:22.508Z"
   },
   {
    "duration": 13,
    "start_time": "2022-09-11T18:51:22.524Z"
   },
   {
    "duration": 34,
    "start_time": "2022-09-11T18:51:22.539Z"
   },
   {
    "duration": 3,
    "start_time": "2022-09-11T18:51:22.576Z"
   },
   {
    "duration": 8,
    "start_time": "2022-09-11T18:51:22.581Z"
   },
   {
    "duration": 12,
    "start_time": "2022-09-11T18:51:22.590Z"
   },
   {
    "duration": 22,
    "start_time": "2022-09-11T18:51:22.604Z"
   },
   {
    "duration": 67,
    "start_time": "2022-09-11T18:51:22.628Z"
   },
   {
    "duration": 30,
    "start_time": "2022-09-11T18:51:22.698Z"
   },
   {
    "duration": 35,
    "start_time": "2022-09-11T18:51:22.730Z"
   },
   {
    "duration": 228,
    "start_time": "2022-09-11T18:51:22.771Z"
   },
   {
    "duration": 83,
    "start_time": "2022-09-11T18:51:23.000Z"
   },
   {
    "duration": 17,
    "start_time": "2022-09-11T18:51:23.085Z"
   },
   {
    "duration": 101,
    "start_time": "2022-09-11T18:51:23.104Z"
   },
   {
    "duration": 18,
    "start_time": "2022-09-11T18:51:23.207Z"
   },
   {
    "duration": 48,
    "start_time": "2022-09-11T18:51:23.227Z"
   },
   {
    "duration": 60,
    "start_time": "2022-09-11T18:51:23.277Z"
   },
   {
    "duration": 3,
    "start_time": "2022-09-11T18:51:23.338Z"
   },
   {
    "duration": 5,
    "start_time": "2022-09-11T18:51:23.343Z"
   },
   {
    "duration": 44,
    "start_time": "2022-09-11T18:51:23.350Z"
   },
   {
    "duration": 20,
    "start_time": "2022-09-11T18:51:23.396Z"
   },
   {
    "duration": 17,
    "start_time": "2022-09-11T18:51:23.418Z"
   },
   {
    "duration": 72,
    "start_time": "2022-09-11T18:51:23.436Z"
   },
   {
    "duration": 4,
    "start_time": "2022-09-11T18:51:23.510Z"
   },
   {
    "duration": 26,
    "start_time": "2022-09-11T18:51:23.516Z"
   },
   {
    "duration": 232,
    "start_time": "2022-09-11T18:51:23.544Z"
   },
   {
    "duration": 236,
    "start_time": "2022-09-11T18:51:23.778Z"
   },
   {
    "duration": 244,
    "start_time": "2022-09-11T18:51:24.015Z"
   },
   {
    "duration": 30,
    "start_time": "2022-09-11T18:51:40.949Z"
   },
   {
    "duration": 3,
    "start_time": "2022-09-11T18:51:50.546Z"
   },
   {
    "duration": 12,
    "start_time": "2022-09-11T18:54:52.718Z"
   },
   {
    "duration": 27,
    "start_time": "2022-09-11T18:58:34.492Z"
   },
   {
    "duration": 34,
    "start_time": "2022-09-11T18:59:27.745Z"
   },
   {
    "duration": 24,
    "start_time": "2022-09-11T19:00:47.688Z"
   },
   {
    "duration": 25,
    "start_time": "2022-09-11T19:00:59.279Z"
   },
   {
    "duration": 18,
    "start_time": "2022-09-11T19:01:55.410Z"
   },
   {
    "duration": 4,
    "start_time": "2022-09-11T19:02:01.533Z"
   },
   {
    "duration": 127,
    "start_time": "2022-09-11T19:02:01.539Z"
   },
   {
    "duration": 7,
    "start_time": "2022-09-11T19:02:01.671Z"
   },
   {
    "duration": 114,
    "start_time": "2022-09-11T19:02:01.681Z"
   },
   {
    "duration": 5,
    "start_time": "2022-09-11T19:02:01.799Z"
   },
   {
    "duration": 28,
    "start_time": "2022-09-11T19:02:01.806Z"
   },
   {
    "duration": 26,
    "start_time": "2022-09-11T19:02:01.836Z"
   },
   {
    "duration": 45,
    "start_time": "2022-09-11T19:02:01.864Z"
   },
   {
    "duration": 49,
    "start_time": "2022-09-11T19:02:01.910Z"
   },
   {
    "duration": 67,
    "start_time": "2022-09-11T19:02:01.961Z"
   },
   {
    "duration": 38,
    "start_time": "2022-09-11T19:02:02.030Z"
   },
   {
    "duration": 74,
    "start_time": "2022-09-11T19:02:02.070Z"
   },
   {
    "duration": 71,
    "start_time": "2022-09-11T19:02:02.148Z"
   },
   {
    "duration": 32,
    "start_time": "2022-09-11T19:02:02.221Z"
   },
   {
    "duration": 55,
    "start_time": "2022-09-11T19:02:02.254Z"
   },
   {
    "duration": 33,
    "start_time": "2022-09-11T19:02:02.311Z"
   },
   {
    "duration": 41,
    "start_time": "2022-09-11T19:02:02.346Z"
   },
   {
    "duration": 11,
    "start_time": "2022-09-11T19:02:02.389Z"
   },
   {
    "duration": 30,
    "start_time": "2022-09-11T19:02:02.402Z"
   },
   {
    "duration": 3807,
    "start_time": "2022-09-11T19:02:02.434Z"
   },
   {
    "duration": 37,
    "start_time": "2022-09-11T19:02:06.244Z"
   },
   {
    "duration": 18,
    "start_time": "2022-09-11T19:02:06.285Z"
   },
   {
    "duration": 13,
    "start_time": "2022-09-11T19:02:06.305Z"
   },
   {
    "duration": 369,
    "start_time": "2022-09-11T19:02:06.320Z"
   },
   {
    "duration": 19,
    "start_time": "2022-09-11T19:02:06.692Z"
   },
   {
    "duration": 251,
    "start_time": "2022-09-11T19:02:06.713Z"
   },
   {
    "duration": 20,
    "start_time": "2022-09-11T19:02:06.966Z"
   },
   {
    "duration": 390,
    "start_time": "2022-09-11T19:02:06.988Z"
   },
   {
    "duration": 14,
    "start_time": "2022-09-11T19:02:07.380Z"
   },
   {
    "duration": 13,
    "start_time": "2022-09-11T19:02:07.396Z"
   },
   {
    "duration": 16,
    "start_time": "2022-09-11T19:02:07.411Z"
   },
   {
    "duration": 477,
    "start_time": "2022-09-11T19:02:07.430Z"
   },
   {
    "duration": 8,
    "start_time": "2022-09-11T19:02:07.910Z"
   },
   {
    "duration": 31,
    "start_time": "2022-09-11T19:02:07.919Z"
   },
   {
    "duration": 24,
    "start_time": "2022-09-11T19:02:07.967Z"
   },
   {
    "duration": 11,
    "start_time": "2022-09-11T19:02:07.993Z"
   },
   {
    "duration": 13,
    "start_time": "2022-09-11T19:02:08.008Z"
   },
   {
    "duration": 8,
    "start_time": "2022-09-11T19:02:08.023Z"
   },
   {
    "duration": 8,
    "start_time": "2022-09-11T19:02:08.032Z"
   },
   {
    "duration": 15,
    "start_time": "2022-09-11T19:02:08.071Z"
   },
   {
    "duration": 26,
    "start_time": "2022-09-11T19:02:08.088Z"
   },
   {
    "duration": 21,
    "start_time": "2022-09-11T19:02:08.115Z"
   },
   {
    "duration": 39,
    "start_time": "2022-09-11T19:02:08.138Z"
   },
   {
    "duration": 22,
    "start_time": "2022-09-11T19:02:08.179Z"
   },
   {
    "duration": 32,
    "start_time": "2022-09-11T19:02:08.203Z"
   },
   {
    "duration": 215,
    "start_time": "2022-09-11T19:02:08.237Z"
   },
   {
    "duration": 54,
    "start_time": "2022-09-11T19:02:08.453Z"
   },
   {
    "duration": 10,
    "start_time": "2022-09-11T19:02:08.509Z"
   },
   {
    "duration": 91,
    "start_time": "2022-09-11T19:02:08.521Z"
   },
   {
    "duration": 17,
    "start_time": "2022-09-11T19:02:08.614Z"
   },
   {
    "duration": 18,
    "start_time": "2022-09-11T19:02:08.633Z"
   },
   {
    "duration": 45,
    "start_time": "2022-09-11T19:02:08.678Z"
   },
   {
    "duration": 3,
    "start_time": "2022-09-11T19:02:08.724Z"
   },
   {
    "duration": 6,
    "start_time": "2022-09-11T19:02:08.728Z"
   },
   {
    "duration": 35,
    "start_time": "2022-09-11T19:02:08.735Z"
   },
   {
    "duration": 21,
    "start_time": "2022-09-11T19:02:08.773Z"
   },
   {
    "duration": 16,
    "start_time": "2022-09-11T19:02:08.796Z"
   },
   {
    "duration": 66,
    "start_time": "2022-09-11T19:02:08.814Z"
   },
   {
    "duration": 4,
    "start_time": "2022-09-11T19:02:08.882Z"
   },
   {
    "duration": 16,
    "start_time": "2022-09-11T19:02:08.888Z"
   },
   {
    "duration": 236,
    "start_time": "2022-09-11T19:02:08.906Z"
   },
   {
    "duration": 220,
    "start_time": "2022-09-11T19:02:09.144Z"
   },
   {
    "duration": 237,
    "start_time": "2022-09-11T19:02:09.366Z"
   },
   {
    "duration": 10,
    "start_time": "2022-09-11T19:02:09.605Z"
   },
   {
    "duration": 25,
    "start_time": "2022-09-11T19:02:09.617Z"
   },
   {
    "duration": 23,
    "start_time": "2022-09-11T19:02:17.186Z"
   },
   {
    "duration": 110,
    "start_time": "2022-09-11T19:02:41.557Z"
   },
   {
    "duration": 28,
    "start_time": "2022-09-11T19:02:58.135Z"
   },
   {
    "duration": 24,
    "start_time": "2022-09-11T19:03:03.518Z"
   },
   {
    "duration": 17,
    "start_time": "2022-09-11T19:05:21.042Z"
   },
   {
    "duration": 167,
    "start_time": "2022-09-11T19:05:36.277Z"
   },
   {
    "duration": 42,
    "start_time": "2022-09-11T19:05:51.991Z"
   },
   {
    "duration": 14,
    "start_time": "2022-09-11T19:06:45.881Z"
   },
   {
    "duration": 540,
    "start_time": "2022-09-11T19:09:00.353Z"
   },
   {
    "duration": 3,
    "start_time": "2022-09-11T19:09:36.913Z"
   },
   {
    "duration": 10,
    "start_time": "2022-09-11T19:11:32.758Z"
   },
   {
    "duration": 13,
    "start_time": "2022-09-11T19:12:03.633Z"
   },
   {
    "duration": 93,
    "start_time": "2022-09-11T19:33:02.028Z"
   },
   {
    "duration": 86,
    "start_time": "2022-09-11T19:33:41.666Z"
   },
   {
    "duration": 110,
    "start_time": "2022-09-11T19:33:46.032Z"
   },
   {
    "duration": 127,
    "start_time": "2022-09-11T19:33:52.388Z"
   },
   {
    "duration": 133,
    "start_time": "2022-09-11T19:35:38.159Z"
   },
   {
    "duration": 109,
    "start_time": "2022-09-11T19:35:43.041Z"
   },
   {
    "duration": 126,
    "start_time": "2022-09-11T19:37:47.106Z"
   },
   {
    "duration": 354,
    "start_time": "2022-09-11T19:38:45.913Z"
   },
   {
    "duration": 27,
    "start_time": "2022-09-11T19:46:44.508Z"
   },
   {
    "duration": 8,
    "start_time": "2022-09-11T19:46:47.322Z"
   },
   {
    "duration": 3,
    "start_time": "2022-09-11T19:53:36.275Z"
   },
   {
    "duration": 70,
    "start_time": "2022-09-11T19:53:36.281Z"
   },
   {
    "duration": 4,
    "start_time": "2022-09-11T19:53:36.352Z"
   },
   {
    "duration": 56,
    "start_time": "2022-09-11T19:53:36.358Z"
   },
   {
    "duration": 5,
    "start_time": "2022-09-11T19:53:36.416Z"
   },
   {
    "duration": 8,
    "start_time": "2022-09-11T19:53:36.423Z"
   },
   {
    "duration": 40,
    "start_time": "2022-09-11T19:53:36.432Z"
   },
   {
    "duration": 13,
    "start_time": "2022-09-11T19:53:36.474Z"
   },
   {
    "duration": 17,
    "start_time": "2022-09-11T19:53:36.489Z"
   },
   {
    "duration": 12,
    "start_time": "2022-09-11T19:53:36.508Z"
   },
   {
    "duration": 51,
    "start_time": "2022-09-11T19:53:36.522Z"
   },
   {
    "duration": 8,
    "start_time": "2022-09-11T19:53:36.576Z"
   },
   {
    "duration": 54,
    "start_time": "2022-09-11T19:53:36.586Z"
   },
   {
    "duration": 13,
    "start_time": "2022-09-11T19:53:36.643Z"
   },
   {
    "duration": 10,
    "start_time": "2022-09-11T19:53:36.667Z"
   },
   {
    "duration": 27,
    "start_time": "2022-09-11T19:53:36.680Z"
   },
   {
    "duration": 18,
    "start_time": "2022-09-11T19:53:36.709Z"
   },
   {
    "duration": 13,
    "start_time": "2022-09-11T19:53:36.729Z"
   },
   {
    "duration": 29,
    "start_time": "2022-09-11T19:53:36.744Z"
   },
   {
    "duration": 3137,
    "start_time": "2022-09-11T19:53:36.776Z"
   },
   {
    "duration": 24,
    "start_time": "2022-09-11T19:53:39.914Z"
   },
   {
    "duration": 12,
    "start_time": "2022-09-11T19:53:39.955Z"
   },
   {
    "duration": 10,
    "start_time": "2022-09-11T19:53:39.969Z"
   },
   {
    "duration": 318,
    "start_time": "2022-09-11T19:53:39.981Z"
   },
   {
    "duration": 16,
    "start_time": "2022-09-11T19:53:40.301Z"
   },
   {
    "duration": 128,
    "start_time": "2022-09-11T19:53:40.318Z"
   },
   {
    "duration": 24,
    "start_time": "2022-09-11T19:53:40.448Z"
   },
   {
    "duration": 344,
    "start_time": "2022-09-11T19:53:40.474Z"
   },
   {
    "duration": 11,
    "start_time": "2022-09-11T19:53:40.819Z"
   },
   {
    "duration": 11,
    "start_time": "2022-09-11T19:53:40.831Z"
   },
   {
    "duration": 36,
    "start_time": "2022-09-11T19:53:40.844Z"
   },
   {
    "duration": 411,
    "start_time": "2022-09-11T19:53:40.882Z"
   },
   {
    "duration": 6,
    "start_time": "2022-09-11T19:53:41.295Z"
   },
   {
    "duration": 26,
    "start_time": "2022-09-11T19:53:41.303Z"
   },
   {
    "duration": 43,
    "start_time": "2022-09-11T19:53:41.331Z"
   },
   {
    "duration": 10,
    "start_time": "2022-09-11T19:53:41.376Z"
   },
   {
    "duration": 14,
    "start_time": "2022-09-11T19:53:41.388Z"
   },
   {
    "duration": 6,
    "start_time": "2022-09-11T19:53:41.404Z"
   },
   {
    "duration": 5,
    "start_time": "2022-09-11T19:53:41.412Z"
   },
   {
    "duration": 12,
    "start_time": "2022-09-11T19:53:41.418Z"
   },
   {
    "duration": 34,
    "start_time": "2022-09-11T19:53:41.434Z"
   },
   {
    "duration": 17,
    "start_time": "2022-09-11T19:53:41.469Z"
   },
   {
    "duration": 36,
    "start_time": "2022-09-11T19:53:41.488Z"
   },
   {
    "duration": 21,
    "start_time": "2022-09-11T19:53:41.526Z"
   },
   {
    "duration": 49,
    "start_time": "2022-09-11T19:53:41.549Z"
   },
   {
    "duration": 357,
    "start_time": "2022-09-11T19:53:41.600Z"
   },
   {
    "duration": 170,
    "start_time": "2022-09-11T19:53:41.959Z"
   },
   {
    "duration": 10,
    "start_time": "2022-09-11T19:53:42.131Z"
   },
   {
    "duration": 84,
    "start_time": "2022-09-11T19:53:42.143Z"
   },
   {
    "duration": 17,
    "start_time": "2022-09-11T19:53:42.229Z"
   },
   {
    "duration": 30,
    "start_time": "2022-09-11T19:53:42.247Z"
   },
   {
    "duration": 38,
    "start_time": "2022-09-11T19:53:42.278Z"
   },
   {
    "duration": 20,
    "start_time": "2022-09-11T19:53:42.317Z"
   },
   {
    "duration": 37,
    "start_time": "2022-09-11T19:53:42.338Z"
   },
   {
    "duration": 23,
    "start_time": "2022-09-11T19:53:42.378Z"
   },
   {
    "duration": 66,
    "start_time": "2022-09-11T19:53:42.403Z"
   },
   {
    "duration": 2,
    "start_time": "2022-09-11T19:53:42.471Z"
   },
   {
    "duration": 22,
    "start_time": "2022-09-11T19:53:42.475Z"
   },
   {
    "duration": 222,
    "start_time": "2022-09-11T19:53:42.499Z"
   },
   {
    "duration": 218,
    "start_time": "2022-09-11T19:53:42.723Z"
   },
   {
    "duration": 199,
    "start_time": "2022-09-11T19:53:42.943Z"
   },
   {
    "duration": 25,
    "start_time": "2022-09-11T19:53:43.144Z"
   },
   {
    "duration": 47,
    "start_time": "2022-09-11T19:53:43.171Z"
   },
   {
    "duration": 37,
    "start_time": "2022-09-11T19:53:43.219Z"
   },
   {
    "duration": 15,
    "start_time": "2022-09-11T19:53:43.259Z"
   },
   {
    "duration": 8,
    "start_time": "2022-09-11T19:53:43.277Z"
   },
   {
    "duration": 329,
    "start_time": "2022-09-11T19:55:36.841Z"
   },
   {
    "duration": 1455,
    "start_time": "2022-09-11T19:57:26.097Z"
   },
   {
    "duration": 8,
    "start_time": "2022-09-12T10:31:05.751Z"
   },
   {
    "duration": 45,
    "start_time": "2022-09-12T10:31:15.584Z"
   },
   {
    "duration": 1331,
    "start_time": "2022-09-12T10:31:22.260Z"
   },
   {
    "duration": 107,
    "start_time": "2022-09-12T10:31:23.593Z"
   },
   {
    "duration": 4,
    "start_time": "2022-09-12T10:31:23.702Z"
   },
   {
    "duration": 112,
    "start_time": "2022-09-12T10:31:23.707Z"
   },
   {
    "duration": 3,
    "start_time": "2022-09-12T10:31:23.821Z"
   },
   {
    "duration": 91,
    "start_time": "2022-09-12T10:31:23.826Z"
   },
   {
    "duration": 5,
    "start_time": "2022-09-12T10:31:23.919Z"
   },
   {
    "duration": 64,
    "start_time": "2022-09-12T10:31:23.926Z"
   },
   {
    "duration": 16,
    "start_time": "2022-09-12T10:31:23.992Z"
   },
   {
    "duration": 21,
    "start_time": "2022-09-12T10:31:24.010Z"
   },
   {
    "duration": 59,
    "start_time": "2022-09-12T10:31:24.033Z"
   },
   {
    "duration": 36,
    "start_time": "2022-09-12T10:31:24.094Z"
   },
   {
    "duration": 60,
    "start_time": "2022-09-12T10:31:24.132Z"
   },
   {
    "duration": 14,
    "start_time": "2022-09-12T10:31:24.196Z"
   },
   {
    "duration": 80,
    "start_time": "2022-09-12T10:31:24.212Z"
   },
   {
    "duration": 9,
    "start_time": "2022-09-12T10:31:24.294Z"
   },
   {
    "duration": 12,
    "start_time": "2022-09-12T10:31:24.305Z"
   },
   {
    "duration": 72,
    "start_time": "2022-09-12T10:31:24.319Z"
   },
   {
    "duration": 15,
    "start_time": "2022-09-12T10:31:24.393Z"
   },
   {
    "duration": 9,
    "start_time": "2022-09-12T10:31:24.410Z"
   },
   {
    "duration": 70,
    "start_time": "2022-09-12T10:31:24.421Z"
   },
   {
    "duration": 3237,
    "start_time": "2022-09-12T10:31:24.492Z"
   },
   {
    "duration": 22,
    "start_time": "2022-09-12T10:31:27.731Z"
   },
   {
    "duration": 9,
    "start_time": "2022-09-12T10:31:27.755Z"
   },
   {
    "duration": 31,
    "start_time": "2022-09-12T10:31:27.766Z"
   },
   {
    "duration": 314,
    "start_time": "2022-09-12T10:31:27.799Z"
   },
   {
    "duration": 16,
    "start_time": "2022-09-12T10:31:28.115Z"
   },
   {
    "duration": 145,
    "start_time": "2022-09-12T10:31:28.132Z"
   },
   {
    "duration": 19,
    "start_time": "2022-09-12T10:31:28.280Z"
   },
   {
    "duration": 362,
    "start_time": "2022-09-12T10:31:28.302Z"
   },
   {
    "duration": 10,
    "start_time": "2022-09-12T10:31:28.665Z"
   },
   {
    "duration": 21,
    "start_time": "2022-09-12T10:31:28.677Z"
   },
   {
    "duration": 18,
    "start_time": "2022-09-12T10:31:28.699Z"
   },
   {
    "duration": 424,
    "start_time": "2022-09-12T10:31:28.720Z"
   },
   {
    "duration": 6,
    "start_time": "2022-09-12T10:31:29.146Z"
   },
   {
    "duration": 37,
    "start_time": "2022-09-12T10:31:29.153Z"
   },
   {
    "duration": 18,
    "start_time": "2022-09-12T10:31:29.192Z"
   },
   {
    "duration": 12,
    "start_time": "2022-09-12T10:31:29.212Z"
   },
   {
    "duration": 18,
    "start_time": "2022-09-12T10:31:29.225Z"
   },
   {
    "duration": 7,
    "start_time": "2022-09-12T10:31:29.244Z"
   },
   {
    "duration": 34,
    "start_time": "2022-09-12T10:31:29.255Z"
   },
   {
    "duration": 8,
    "start_time": "2022-09-12T10:31:29.291Z"
   },
   {
    "duration": 11,
    "start_time": "2022-09-12T10:31:29.301Z"
   },
   {
    "duration": 16,
    "start_time": "2022-09-12T10:31:29.314Z"
   },
   {
    "duration": 57,
    "start_time": "2022-09-12T10:31:29.332Z"
   },
   {
    "duration": 8,
    "start_time": "2022-09-12T10:31:29.391Z"
   },
   {
    "duration": 28,
    "start_time": "2022-09-12T10:31:29.401Z"
   },
   {
    "duration": 381,
    "start_time": "2022-09-12T10:31:29.430Z"
   },
   {
    "duration": 131,
    "start_time": "2022-09-12T10:31:29.813Z"
   },
   {
    "duration": 10,
    "start_time": "2022-09-12T10:31:29.945Z"
   },
   {
    "duration": 75,
    "start_time": "2022-09-12T10:31:29.956Z"
   },
   {
    "duration": 16,
    "start_time": "2022-09-12T10:31:30.033Z"
   },
   {
    "duration": 44,
    "start_time": "2022-09-12T10:31:30.051Z"
   },
   {
    "duration": 42,
    "start_time": "2022-09-12T10:31:30.097Z"
   },
   {
    "duration": 20,
    "start_time": "2022-09-12T10:31:30.142Z"
   },
   {
    "duration": 38,
    "start_time": "2022-09-12T10:31:30.164Z"
   },
   {
    "duration": 50,
    "start_time": "2022-09-12T10:31:30.204Z"
   },
   {
    "duration": 88,
    "start_time": "2022-09-12T10:31:30.256Z"
   },
   {
    "duration": 1667,
    "start_time": "2022-09-12T10:31:30.346Z"
   },
   {
    "duration": 0,
    "start_time": "2022-09-12T10:31:32.015Z"
   },
   {
    "duration": 0,
    "start_time": "2022-09-12T10:31:32.017Z"
   },
   {
    "duration": 0,
    "start_time": "2022-09-12T10:31:32.018Z"
   },
   {
    "duration": 0,
    "start_time": "2022-09-12T10:31:32.020Z"
   },
   {
    "duration": 0,
    "start_time": "2022-09-12T10:31:32.022Z"
   },
   {
    "duration": 0,
    "start_time": "2022-09-12T10:31:32.023Z"
   },
   {
    "duration": 0,
    "start_time": "2022-09-12T10:31:32.024Z"
   },
   {
    "duration": 0,
    "start_time": "2022-09-12T10:31:32.026Z"
   },
   {
    "duration": 14,
    "start_time": "2022-09-12T11:03:15.476Z"
   },
   {
    "duration": 18,
    "start_time": "2022-09-12T11:04:29.360Z"
   },
   {
    "duration": 18,
    "start_time": "2022-09-12T11:04:34.797Z"
   },
   {
    "duration": 3,
    "start_time": "2022-09-12T11:05:26.893Z"
   },
   {
    "duration": 75,
    "start_time": "2022-09-12T11:05:26.898Z"
   },
   {
    "duration": 4,
    "start_time": "2022-09-12T11:05:26.975Z"
   },
   {
    "duration": 64,
    "start_time": "2022-09-12T11:05:26.981Z"
   },
   {
    "duration": 4,
    "start_time": "2022-09-12T11:05:27.047Z"
   },
   {
    "duration": 62,
    "start_time": "2022-09-12T11:05:27.053Z"
   },
   {
    "duration": 5,
    "start_time": "2022-09-12T11:05:27.117Z"
   },
   {
    "duration": 9,
    "start_time": "2022-09-12T11:05:27.124Z"
   },
   {
    "duration": 11,
    "start_time": "2022-09-12T11:05:27.134Z"
   },
   {
    "duration": 14,
    "start_time": "2022-09-12T11:05:27.147Z"
   },
   {
    "duration": 13,
    "start_time": "2022-09-12T11:05:27.190Z"
   },
   {
    "duration": 13,
    "start_time": "2022-09-12T11:05:27.205Z"
   },
   {
    "duration": 18,
    "start_time": "2022-09-12T11:05:27.220Z"
   },
   {
    "duration": 10,
    "start_time": "2022-09-12T11:05:27.240Z"
   },
   {
    "duration": 55,
    "start_time": "2022-09-12T11:05:27.252Z"
   },
   {
    "duration": 9,
    "start_time": "2022-09-12T11:05:27.309Z"
   },
   {
    "duration": 15,
    "start_time": "2022-09-12T11:05:27.319Z"
   },
   {
    "duration": 21,
    "start_time": "2022-09-12T11:05:27.336Z"
   },
   {
    "duration": 30,
    "start_time": "2022-09-12T11:05:27.359Z"
   },
   {
    "duration": 6,
    "start_time": "2022-09-12T11:05:27.391Z"
   },
   {
    "duration": 17,
    "start_time": "2022-09-12T11:05:27.399Z"
   },
   {
    "duration": 2881,
    "start_time": "2022-09-12T11:05:27.418Z"
   },
   {
    "duration": 22,
    "start_time": "2022-09-12T11:05:30.301Z"
   },
   {
    "duration": 32,
    "start_time": "2022-09-12T11:05:30.325Z"
   },
   {
    "duration": 25,
    "start_time": "2022-09-12T11:05:30.359Z"
   },
   {
    "duration": 332,
    "start_time": "2022-09-12T11:05:30.386Z"
   },
   {
    "duration": 16,
    "start_time": "2022-09-12T11:05:30.720Z"
   },
   {
    "duration": 148,
    "start_time": "2022-09-12T11:05:30.738Z"
   },
   {
    "duration": 14,
    "start_time": "2022-09-12T11:05:30.890Z"
   },
   {
    "duration": 354,
    "start_time": "2022-09-12T11:05:30.905Z"
   },
   {
    "duration": 10,
    "start_time": "2022-09-12T11:05:31.261Z"
   },
   {
    "duration": 38,
    "start_time": "2022-09-12T11:05:31.273Z"
   },
   {
    "duration": 54,
    "start_time": "2022-09-12T11:05:31.313Z"
   },
   {
    "duration": 450,
    "start_time": "2022-09-12T11:05:31.369Z"
   },
   {
    "duration": 7,
    "start_time": "2022-09-12T11:05:31.821Z"
   },
   {
    "duration": 34,
    "start_time": "2022-09-12T11:05:31.831Z"
   },
   {
    "duration": 39,
    "start_time": "2022-09-12T11:05:31.868Z"
   },
   {
    "duration": 15,
    "start_time": "2022-09-12T11:05:31.909Z"
   },
   {
    "duration": 27,
    "start_time": "2022-09-12T11:05:31.927Z"
   },
   {
    "duration": 10,
    "start_time": "2022-09-12T11:05:31.957Z"
   },
   {
    "duration": 23,
    "start_time": "2022-09-12T11:05:31.970Z"
   },
   {
    "duration": 37,
    "start_time": "2022-09-12T11:05:31.995Z"
   },
   {
    "duration": 19,
    "start_time": "2022-09-12T11:05:32.034Z"
   },
   {
    "duration": 28,
    "start_time": "2022-09-12T11:05:32.055Z"
   },
   {
    "duration": 34,
    "start_time": "2022-09-12T11:05:32.085Z"
   },
   {
    "duration": 14,
    "start_time": "2022-09-12T11:05:32.120Z"
   },
   {
    "duration": 25,
    "start_time": "2022-09-12T11:05:32.136Z"
   },
   {
    "duration": 33,
    "start_time": "2022-09-12T11:05:32.163Z"
   },
   {
    "duration": 368,
    "start_time": "2022-09-12T11:05:32.197Z"
   },
   {
    "duration": 54,
    "start_time": "2022-09-12T11:05:32.566Z"
   },
   {
    "duration": 10,
    "start_time": "2022-09-12T11:05:32.622Z"
   },
   {
    "duration": 164,
    "start_time": "2022-09-12T11:05:32.634Z"
   },
   {
    "duration": 16,
    "start_time": "2022-09-12T11:05:32.800Z"
   },
   {
    "duration": 21,
    "start_time": "2022-09-12T11:05:32.818Z"
   },
   {
    "duration": 56,
    "start_time": "2022-09-12T11:05:32.840Z"
   },
   {
    "duration": 19,
    "start_time": "2022-09-12T11:05:32.898Z"
   },
   {
    "duration": 15,
    "start_time": "2022-09-12T11:05:32.919Z"
   },
   {
    "duration": 18,
    "start_time": "2022-09-12T11:05:32.936Z"
   },
   {
    "duration": 61,
    "start_time": "2022-09-12T11:05:32.956Z"
   },
   {
    "duration": 2,
    "start_time": "2022-09-12T11:05:33.019Z"
   },
   {
    "duration": 20,
    "start_time": "2022-09-12T11:05:33.023Z"
   },
   {
    "duration": 228,
    "start_time": "2022-09-12T11:05:33.045Z"
   },
   {
    "duration": 223,
    "start_time": "2022-09-12T11:05:33.275Z"
   },
   {
    "duration": 217,
    "start_time": "2022-09-12T11:05:33.500Z"
   },
   {
    "duration": 24,
    "start_time": "2022-09-12T11:05:33.719Z"
   },
   {
    "duration": 55,
    "start_time": "2022-09-12T11:05:33.745Z"
   },
   {
    "duration": 13,
    "start_time": "2022-09-12T11:05:33.801Z"
   },
   {
    "duration": 26,
    "start_time": "2022-09-12T11:05:33.815Z"
   },
   {
    "duration": 11,
    "start_time": "2022-09-12T11:08:40.274Z"
   },
   {
    "duration": 11,
    "start_time": "2022-09-12T11:08:51.130Z"
   },
   {
    "duration": 19,
    "start_time": "2022-09-12T11:09:01.931Z"
   },
   {
    "duration": 16,
    "start_time": "2022-09-12T11:10:09.583Z"
   },
   {
    "duration": 574,
    "start_time": "2022-09-12T11:10:40.530Z"
   },
   {
    "duration": 4073,
    "start_time": "2022-09-12T11:10:52.643Z"
   },
   {
    "duration": 61,
    "start_time": "2022-09-12T12:52:42.946Z"
   },
   {
    "duration": 1254,
    "start_time": "2022-09-12T12:52:52.779Z"
   },
   {
    "duration": 257,
    "start_time": "2022-09-12T12:52:54.036Z"
   },
   {
    "duration": 3,
    "start_time": "2022-09-12T12:52:54.295Z"
   },
   {
    "duration": 58,
    "start_time": "2022-09-12T12:52:54.299Z"
   },
   {
    "duration": 3,
    "start_time": "2022-09-12T12:52:54.359Z"
   },
   {
    "duration": 37,
    "start_time": "2022-09-12T12:52:54.363Z"
   },
   {
    "duration": 5,
    "start_time": "2022-09-12T12:52:54.401Z"
   },
   {
    "duration": 30,
    "start_time": "2022-09-12T12:52:54.408Z"
   },
   {
    "duration": 5,
    "start_time": "2022-09-12T12:52:54.439Z"
   },
   {
    "duration": 12,
    "start_time": "2022-09-12T12:52:54.446Z"
   },
   {
    "duration": 15,
    "start_time": "2022-09-12T12:52:54.459Z"
   },
   {
    "duration": 12,
    "start_time": "2022-09-12T12:52:54.475Z"
   },
   {
    "duration": 14,
    "start_time": "2022-09-12T12:52:54.489Z"
   },
   {
    "duration": 5,
    "start_time": "2022-09-12T12:52:54.506Z"
   },
   {
    "duration": 51,
    "start_time": "2022-09-12T12:52:54.512Z"
   },
   {
    "duration": 9,
    "start_time": "2022-09-12T12:52:54.565Z"
   },
   {
    "duration": 5,
    "start_time": "2022-09-12T12:52:54.576Z"
   },
   {
    "duration": 15,
    "start_time": "2022-09-12T12:52:54.582Z"
   },
   {
    "duration": 12,
    "start_time": "2022-09-12T12:52:54.598Z"
   },
   {
    "duration": 3,
    "start_time": "2022-09-12T12:52:54.636Z"
   },
   {
    "duration": 17,
    "start_time": "2022-09-12T12:52:54.641Z"
   },
   {
    "duration": 2813,
    "start_time": "2022-09-12T12:52:54.659Z"
   },
   {
    "duration": 20,
    "start_time": "2022-09-12T12:52:57.473Z"
   },
   {
    "duration": 10,
    "start_time": "2022-09-12T12:52:57.494Z"
   },
   {
    "duration": 13,
    "start_time": "2022-09-12T12:52:57.505Z"
   },
   {
    "duration": 302,
    "start_time": "2022-09-12T12:52:57.519Z"
   },
   {
    "duration": 20,
    "start_time": "2022-09-12T12:52:57.823Z"
   },
   {
    "duration": 105,
    "start_time": "2022-09-12T12:52:57.844Z"
   },
   {
    "duration": 13,
    "start_time": "2022-09-12T12:52:57.951Z"
   },
   {
    "duration": 339,
    "start_time": "2022-09-12T12:52:57.965Z"
   },
   {
    "duration": 9,
    "start_time": "2022-09-12T12:52:58.306Z"
   },
   {
    "duration": 14,
    "start_time": "2022-09-12T12:52:58.316Z"
   },
   {
    "duration": 33,
    "start_time": "2022-09-12T12:52:58.332Z"
   },
   {
    "duration": 359,
    "start_time": "2022-09-12T12:52:58.366Z"
   },
   {
    "duration": 12,
    "start_time": "2022-09-12T12:52:58.727Z"
   },
   {
    "duration": 27,
    "start_time": "2022-09-12T12:52:58.740Z"
   },
   {
    "duration": 17,
    "start_time": "2022-09-12T12:52:58.768Z"
   },
   {
    "duration": 26,
    "start_time": "2022-09-12T12:52:58.786Z"
   },
   {
    "duration": 27,
    "start_time": "2022-09-12T12:52:58.813Z"
   },
   {
    "duration": 25,
    "start_time": "2022-09-12T12:52:58.842Z"
   },
   {
    "duration": 7,
    "start_time": "2022-09-12T12:52:58.872Z"
   },
   {
    "duration": 27,
    "start_time": "2022-09-12T12:52:58.881Z"
   },
   {
    "duration": 14,
    "start_time": "2022-09-12T12:52:58.909Z"
   },
   {
    "duration": 24,
    "start_time": "2022-09-12T12:52:58.925Z"
   },
   {
    "duration": 51,
    "start_time": "2022-09-12T12:52:58.951Z"
   },
   {
    "duration": 25,
    "start_time": "2022-09-12T12:52:59.003Z"
   },
   {
    "duration": 29,
    "start_time": "2022-09-12T12:52:59.029Z"
   },
   {
    "duration": 33,
    "start_time": "2022-09-12T12:52:59.060Z"
   },
   {
    "duration": 335,
    "start_time": "2022-09-12T12:52:59.095Z"
   },
   {
    "duration": 125,
    "start_time": "2022-09-12T12:52:59.431Z"
   },
   {
    "duration": 9,
    "start_time": "2022-09-12T12:52:59.557Z"
   },
   {
    "duration": 74,
    "start_time": "2022-09-12T12:52:59.567Z"
   },
   {
    "duration": 15,
    "start_time": "2022-09-12T12:52:59.643Z"
   },
   {
    "duration": 42,
    "start_time": "2022-09-12T12:52:59.659Z"
   },
   {
    "duration": 35,
    "start_time": "2022-09-12T12:52:59.703Z"
   },
   {
    "duration": 17,
    "start_time": "2022-09-12T12:52:59.739Z"
   },
   {
    "duration": 25,
    "start_time": "2022-09-12T12:52:59.758Z"
   },
   {
    "duration": 14,
    "start_time": "2022-09-12T12:52:59.784Z"
   },
   {
    "duration": 52,
    "start_time": "2022-09-12T12:52:59.800Z"
   },
   {
    "duration": 3,
    "start_time": "2022-09-12T12:52:59.854Z"
   },
   {
    "duration": 26,
    "start_time": "2022-09-12T12:52:59.859Z"
   },
   {
    "duration": 193,
    "start_time": "2022-09-12T12:52:59.887Z"
   },
   {
    "duration": 188,
    "start_time": "2022-09-12T12:53:00.082Z"
   },
   {
    "duration": 197,
    "start_time": "2022-09-12T12:53:00.272Z"
   },
   {
    "duration": 20,
    "start_time": "2022-09-12T12:53:00.471Z"
   },
   {
    "duration": 56,
    "start_time": "2022-09-12T12:53:00.492Z"
   },
   {
    "duration": 24,
    "start_time": "2022-09-12T12:53:00.549Z"
   },
   {
    "duration": 29,
    "start_time": "2022-09-12T12:53:00.575Z"
   },
   {
    "duration": 1997,
    "start_time": "2022-09-12T12:53:00.606Z"
   }
  ],
  "kernelspec": {
   "display_name": "Python 3 (ipykernel)",
   "language": "python",
   "name": "python3"
  },
  "language_info": {
   "codemirror_mode": {
    "name": "ipython",
    "version": 3
   },
   "file_extension": ".py",
   "mimetype": "text/x-python",
   "name": "python",
   "nbconvert_exporter": "python",
   "pygments_lexer": "ipython3",
   "version": "3.9.7"
  },
  "toc": {
   "base_numbering": 1,
   "nav_menu": {},
   "number_sections": true,
   "sideBar": true,
   "skip_h1_title": false,
   "title_cell": "Table of Contents",
   "title_sidebar": "Contents",
   "toc_cell": false,
   "toc_position": {
    "height": "calc(100% - 180px)",
    "left": "10px",
    "top": "150px",
    "width": "237.825px"
   },
   "toc_section_display": true,
   "toc_window_display": true
  }
 },
 "nbformat": 4,
 "nbformat_minor": 5
}
