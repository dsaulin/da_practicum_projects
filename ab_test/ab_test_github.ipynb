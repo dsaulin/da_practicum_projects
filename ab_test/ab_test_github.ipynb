{
 "cells": [
  {
   "cell_type": "markdown",
   "id": "fd2364fb",
   "metadata": {},
   "source": [
    "# Анализ поведения пользователей мобильного приложения"
   ]
  },
  {
   "cell_type": "markdown",
   "id": "16479efe",
   "metadata": {},
   "source": [
    "Компания-стартап продает продукты питания через мобильное приложение. \n",
    "\n",
    "**Цель** - изучить поведение пользователей в мобильном приложении.\n",
    "\n",
    "**Задачи**:\n",
    "- Загрузить и подготовить данные к анализу;\n",
    "- Создать воронку продаж, изучить движение покупателей по всем шагам воронки;\n",
    "- Изучить группы А/А/В теста;\n",
    "- Посмотреть, влияет ли изменение шрифта на поведение пользователей на разных шагах воронки продаж;\n",
    "- Сформулировать выводы;"
   ]
  },
  {
   "cell_type": "markdown",
   "id": "df27281c",
   "metadata": {},
   "source": [
    "**Описание данных**\n",
    "\n",
    "Файл /datasets/logs_exp.csv:\n",
    "\n",
    "    EventName — название события;\n",
    "    DeviceIDHash — уникальный идентификатор пользователя;\n",
    "    EventTimestamp — время события;\n",
    "    ExpId — номер эксперимента: 246 и 247 — контрольные группы, а 248 — экспериментальная."
   ]
  },
  {
   "cell_type": "markdown",
   "id": "ce5b155b",
   "metadata": {},
   "source": [
    "## Загрузка и подготовка данных"
   ]
  },
  {
   "cell_type": "code",
   "execution_count": 77,
   "id": "6ffe626b",
   "metadata": {},
   "outputs": [],
   "source": [
    "import pandas as pd\n",
    "import numpy as np\n",
    "from datetime import datetime, timedelta\n",
    "from matplotlib import pyplot as plt\n",
    "import seaborn as sns\n",
    "import scipy.stats as st\n",
    "from plotly import graph_objects as go \n",
    "import math as mth"
   ]
  },
  {
   "cell_type": "code",
   "execution_count": 78,
   "id": "80d6f26b",
   "metadata": {},
   "outputs": [],
   "source": [
    "try:\n",
    "    df = pd.read_csv('/datasets/logs_exp.csv', sep='\\t')\n",
    "except:\n",
    "    df = pd.read_csv('logs_exp.csv', sep='\\t')"
   ]
  },
  {
   "cell_type": "code",
   "execution_count": 79,
   "id": "278a13ac",
   "metadata": {},
   "outputs": [],
   "source": [
    "def check(df):\n",
    "    df.info()\n",
    "    display(df.head(5))\n",
    "    print('Количество пропусков:', df.isnull().sum())\n",
    "    print('Количество дубликатов:', df.duplicated().sum())"
   ]
  },
  {
   "cell_type": "code",
   "execution_count": 80,
   "id": "63f1f87e",
   "metadata": {
    "scrolled": false
   },
   "outputs": [
    {
     "name": "stdout",
     "output_type": "stream",
     "text": [
      "<class 'pandas.core.frame.DataFrame'>\n",
      "RangeIndex: 244126 entries, 0 to 244125\n",
      "Data columns (total 4 columns):\n",
      " #   Column          Non-Null Count   Dtype \n",
      "---  ------          --------------   ----- \n",
      " 0   EventName       244126 non-null  object\n",
      " 1   DeviceIDHash    244126 non-null  int64 \n",
      " 2   EventTimestamp  244126 non-null  int64 \n",
      " 3   ExpId           244126 non-null  int64 \n",
      "dtypes: int64(3), object(1)\n",
      "memory usage: 7.5+ MB\n"
     ]
    },
    {
     "data": {
      "text/html": [
       "<div>\n",
       "<style scoped>\n",
       "    .dataframe tbody tr th:only-of-type {\n",
       "        vertical-align: middle;\n",
       "    }\n",
       "\n",
       "    .dataframe tbody tr th {\n",
       "        vertical-align: top;\n",
       "    }\n",
       "\n",
       "    .dataframe thead th {\n",
       "        text-align: right;\n",
       "    }\n",
       "</style>\n",
       "<table border=\"1\" class=\"dataframe\">\n",
       "  <thead>\n",
       "    <tr style=\"text-align: right;\">\n",
       "      <th></th>\n",
       "      <th>EventName</th>\n",
       "      <th>DeviceIDHash</th>\n",
       "      <th>EventTimestamp</th>\n",
       "      <th>ExpId</th>\n",
       "    </tr>\n",
       "  </thead>\n",
       "  <tbody>\n",
       "    <tr>\n",
       "      <th>0</th>\n",
       "      <td>MainScreenAppear</td>\n",
       "      <td>4575588528974610257</td>\n",
       "      <td>1564029816</td>\n",
       "      <td>246</td>\n",
       "    </tr>\n",
       "    <tr>\n",
       "      <th>1</th>\n",
       "      <td>MainScreenAppear</td>\n",
       "      <td>7416695313311560658</td>\n",
       "      <td>1564053102</td>\n",
       "      <td>246</td>\n",
       "    </tr>\n",
       "    <tr>\n",
       "      <th>2</th>\n",
       "      <td>PaymentScreenSuccessful</td>\n",
       "      <td>3518123091307005509</td>\n",
       "      <td>1564054127</td>\n",
       "      <td>248</td>\n",
       "    </tr>\n",
       "    <tr>\n",
       "      <th>3</th>\n",
       "      <td>CartScreenAppear</td>\n",
       "      <td>3518123091307005509</td>\n",
       "      <td>1564054127</td>\n",
       "      <td>248</td>\n",
       "    </tr>\n",
       "    <tr>\n",
       "      <th>4</th>\n",
       "      <td>PaymentScreenSuccessful</td>\n",
       "      <td>6217807653094995999</td>\n",
       "      <td>1564055322</td>\n",
       "      <td>248</td>\n",
       "    </tr>\n",
       "  </tbody>\n",
       "</table>\n",
       "</div>"
      ],
      "text/plain": [
       "                 EventName         DeviceIDHash  EventTimestamp  ExpId\n",
       "0         MainScreenAppear  4575588528974610257      1564029816    246\n",
       "1         MainScreenAppear  7416695313311560658      1564053102    246\n",
       "2  PaymentScreenSuccessful  3518123091307005509      1564054127    248\n",
       "3         CartScreenAppear  3518123091307005509      1564054127    248\n",
       "4  PaymentScreenSuccessful  6217807653094995999      1564055322    248"
      ]
     },
     "metadata": {},
     "output_type": "display_data"
    },
    {
     "name": "stdout",
     "output_type": "stream",
     "text": [
      "Количество пропусков: EventName         0\n",
      "DeviceIDHash      0\n",
      "EventTimestamp    0\n",
      "ExpId             0\n",
      "dtype: int64\n",
      "Количество дубликатов: 413\n"
     ]
    }
   ],
   "source": [
    "check(df)"
   ]
  },
  {
   "cell_type": "code",
   "execution_count": 81,
   "id": "b86dcb70",
   "metadata": {
    "scrolled": true
   },
   "outputs": [
    {
     "name": "stdout",
     "output_type": "stream",
     "text": [
      "Доля дубликатов: 0.0016917493425526163\n"
     ]
    }
   ],
   "source": [
    "print('Доля дубликатов:', df.duplicated().sum() / len(df))"
   ]
  },
  {
   "cell_type": "code",
   "execution_count": 82,
   "id": "aa1a6a15",
   "metadata": {
    "scrolled": true
   },
   "outputs": [
    {
     "name": "stdout",
     "output_type": "stream",
     "text": [
      "<class 'pandas.core.frame.DataFrame'>\n",
      "RangeIndex: 243713 entries, 0 to 243712\n",
      "Data columns (total 4 columns):\n",
      " #   Column          Non-Null Count   Dtype \n",
      "---  ------          --------------   ----- \n",
      " 0   EventName       243713 non-null  object\n",
      " 1   DeviceIDHash    243713 non-null  int64 \n",
      " 2   EventTimestamp  243713 non-null  int64 \n",
      " 3   ExpId           243713 non-null  int64 \n",
      "dtypes: int64(3), object(1)\n",
      "memory usage: 7.4+ MB\n"
     ]
    }
   ],
   "source": [
    "df = df.drop_duplicates()\n",
    "df = df.reset_index(drop=True)\n",
    "df.info()"
   ]
  },
  {
   "cell_type": "code",
   "execution_count": 83,
   "id": "2af1bc24",
   "metadata": {
    "scrolled": true
   },
   "outputs": [
    {
     "data": {
      "text/html": [
       "<div>\n",
       "<style scoped>\n",
       "    .dataframe tbody tr th:only-of-type {\n",
       "        vertical-align: middle;\n",
       "    }\n",
       "\n",
       "    .dataframe tbody tr th {\n",
       "        vertical-align: top;\n",
       "    }\n",
       "\n",
       "    .dataframe thead th {\n",
       "        text-align: right;\n",
       "    }\n",
       "</style>\n",
       "<table border=\"1\" class=\"dataframe\">\n",
       "  <thead>\n",
       "    <tr style=\"text-align: right;\">\n",
       "      <th></th>\n",
       "      <th>event_name</th>\n",
       "      <th>device_id_hash</th>\n",
       "      <th>event_timestamp</th>\n",
       "      <th>exp_id</th>\n",
       "    </tr>\n",
       "  </thead>\n",
       "  <tbody>\n",
       "    <tr>\n",
       "      <th>0</th>\n",
       "      <td>MainScreenAppear</td>\n",
       "      <td>4575588528974610257</td>\n",
       "      <td>1564029816</td>\n",
       "      <td>246</td>\n",
       "    </tr>\n",
       "    <tr>\n",
       "      <th>1</th>\n",
       "      <td>MainScreenAppear</td>\n",
       "      <td>7416695313311560658</td>\n",
       "      <td>1564053102</td>\n",
       "      <td>246</td>\n",
       "    </tr>\n",
       "    <tr>\n",
       "      <th>2</th>\n",
       "      <td>PaymentScreenSuccessful</td>\n",
       "      <td>3518123091307005509</td>\n",
       "      <td>1564054127</td>\n",
       "      <td>248</td>\n",
       "    </tr>\n",
       "    <tr>\n",
       "      <th>3</th>\n",
       "      <td>CartScreenAppear</td>\n",
       "      <td>3518123091307005509</td>\n",
       "      <td>1564054127</td>\n",
       "      <td>248</td>\n",
       "    </tr>\n",
       "    <tr>\n",
       "      <th>4</th>\n",
       "      <td>PaymentScreenSuccessful</td>\n",
       "      <td>6217807653094995999</td>\n",
       "      <td>1564055322</td>\n",
       "      <td>248</td>\n",
       "    </tr>\n",
       "  </tbody>\n",
       "</table>\n",
       "</div>"
      ],
      "text/plain": [
       "                event_name       device_id_hash  event_timestamp  exp_id\n",
       "0         MainScreenAppear  4575588528974610257       1564029816     246\n",
       "1         MainScreenAppear  7416695313311560658       1564053102     246\n",
       "2  PaymentScreenSuccessful  3518123091307005509       1564054127     248\n",
       "3         CartScreenAppear  3518123091307005509       1564054127     248\n",
       "4  PaymentScreenSuccessful  6217807653094995999       1564055322     248"
      ]
     },
     "execution_count": 83,
     "metadata": {},
     "output_type": "execute_result"
    }
   ],
   "source": [
    "df.columns = ['event_name', 'device_id_hash', 'event_timestamp', 'exp_id']\n",
    "df.head(5)"
   ]
  },
  {
   "cell_type": "code",
   "execution_count": 84,
   "id": "ad6d6bcc",
   "metadata": {},
   "outputs": [],
   "source": [
    "df['event_timestamp'] = pd.to_datetime(df['event_timestamp'], unit='s')"
   ]
  },
  {
   "cell_type": "code",
   "execution_count": 85,
   "id": "867d6b84",
   "metadata": {},
   "outputs": [],
   "source": [
    "df['date'] = df['event_timestamp'].dt.date\n",
    "df['date'] = df['date'].astype(\"datetime64[ns]\")"
   ]
  },
  {
   "cell_type": "code",
   "execution_count": 86,
   "id": "62076bf1",
   "metadata": {
    "scrolled": false
   },
   "outputs": [
    {
     "name": "stdout",
     "output_type": "stream",
     "text": [
      "<class 'pandas.core.frame.DataFrame'>\n",
      "RangeIndex: 243713 entries, 0 to 243712\n",
      "Data columns (total 5 columns):\n",
      " #   Column           Non-Null Count   Dtype         \n",
      "---  ------           --------------   -----         \n",
      " 0   event_name       243713 non-null  object        \n",
      " 1   device_id_hash   243713 non-null  int64         \n",
      " 2   event_timestamp  243713 non-null  datetime64[ns]\n",
      " 3   exp_id           243713 non-null  int64         \n",
      " 4   date             243713 non-null  datetime64[ns]\n",
      "dtypes: datetime64[ns](2), int64(2), object(1)\n",
      "memory usage: 9.3+ MB\n"
     ]
    }
   ],
   "source": [
    "df.info()"
   ]
  },
  {
   "cell_type": "code",
   "execution_count": 87,
   "id": "afd6e5b9",
   "metadata": {
    "scrolled": true
   },
   "outputs": [
    {
     "data": {
      "text/html": [
       "<div>\n",
       "<style scoped>\n",
       "    .dataframe tbody tr th:only-of-type {\n",
       "        vertical-align: middle;\n",
       "    }\n",
       "\n",
       "    .dataframe tbody tr th {\n",
       "        vertical-align: top;\n",
       "    }\n",
       "\n",
       "    .dataframe thead th {\n",
       "        text-align: right;\n",
       "    }\n",
       "</style>\n",
       "<table border=\"1\" class=\"dataframe\">\n",
       "  <thead>\n",
       "    <tr style=\"text-align: right;\">\n",
       "      <th></th>\n",
       "      <th>event_name</th>\n",
       "      <th>device_id_hash</th>\n",
       "      <th>event_timestamp</th>\n",
       "      <th>exp_id</th>\n",
       "      <th>date</th>\n",
       "    </tr>\n",
       "  </thead>\n",
       "  <tbody>\n",
       "    <tr>\n",
       "      <th>0</th>\n",
       "      <td>MainScreenAppear</td>\n",
       "      <td>4575588528974610257</td>\n",
       "      <td>2019-07-25 04:43:36</td>\n",
       "      <td>246</td>\n",
       "      <td>2019-07-25</td>\n",
       "    </tr>\n",
       "    <tr>\n",
       "      <th>1</th>\n",
       "      <td>MainScreenAppear</td>\n",
       "      <td>7416695313311560658</td>\n",
       "      <td>2019-07-25 11:11:42</td>\n",
       "      <td>246</td>\n",
       "      <td>2019-07-25</td>\n",
       "    </tr>\n",
       "    <tr>\n",
       "      <th>2</th>\n",
       "      <td>PaymentScreenSuccessful</td>\n",
       "      <td>3518123091307005509</td>\n",
       "      <td>2019-07-25 11:28:47</td>\n",
       "      <td>248</td>\n",
       "      <td>2019-07-25</td>\n",
       "    </tr>\n",
       "    <tr>\n",
       "      <th>3</th>\n",
       "      <td>CartScreenAppear</td>\n",
       "      <td>3518123091307005509</td>\n",
       "      <td>2019-07-25 11:28:47</td>\n",
       "      <td>248</td>\n",
       "      <td>2019-07-25</td>\n",
       "    </tr>\n",
       "    <tr>\n",
       "      <th>4</th>\n",
       "      <td>PaymentScreenSuccessful</td>\n",
       "      <td>6217807653094995999</td>\n",
       "      <td>2019-07-25 11:48:42</td>\n",
       "      <td>248</td>\n",
       "      <td>2019-07-25</td>\n",
       "    </tr>\n",
       "  </tbody>\n",
       "</table>\n",
       "</div>"
      ],
      "text/plain": [
       "                event_name       device_id_hash     event_timestamp  exp_id  \\\n",
       "0         MainScreenAppear  4575588528974610257 2019-07-25 04:43:36     246   \n",
       "1         MainScreenAppear  7416695313311560658 2019-07-25 11:11:42     246   \n",
       "2  PaymentScreenSuccessful  3518123091307005509 2019-07-25 11:28:47     248   \n",
       "3         CartScreenAppear  3518123091307005509 2019-07-25 11:28:47     248   \n",
       "4  PaymentScreenSuccessful  6217807653094995999 2019-07-25 11:48:42     248   \n",
       "\n",
       "        date  \n",
       "0 2019-07-25  \n",
       "1 2019-07-25  \n",
       "2 2019-07-25  \n",
       "3 2019-07-25  \n",
       "4 2019-07-25  "
      ]
     },
     "execution_count": 87,
     "metadata": {},
     "output_type": "execute_result"
    }
   ],
   "source": [
    "df.head(5)"
   ]
  },
  {
   "cell_type": "markdown",
   "id": "6c23441b",
   "metadata": {},
   "source": [
    "Результаты изучения и подготовки данных к анализу:\n",
    "- Пропусков не обнаружено;\n",
    "- Найдены 413 дублей, после краткого изучения этих дублей принято решение их удалить;\n",
    "- Переименованы столбцы датасета (перевод к \"змеиному\" регистру);\n",
    "- Данные времени переведены из текстового формата во временной;\n",
    "- Отдельно создан столбец с датами событий, тоже в формате времени;\n"
   ]
  },
  {
   "cell_type": "markdown",
   "id": "cb5939ee",
   "metadata": {},
   "source": [
    "## Анализ данных"
   ]
  },
  {
   "cell_type": "code",
   "execution_count": 88,
   "id": "8f4d414e",
   "metadata": {
    "scrolled": false
   },
   "outputs": [
    {
     "data": {
      "text/plain": [
       "MainScreenAppear           119101\n",
       "OffersScreenAppear          46808\n",
       "CartScreenAppear            42668\n",
       "PaymentScreenSuccessful     34118\n",
       "Tutorial                     1018\n",
       "Name: event_name, dtype: int64"
      ]
     },
     "execution_count": 88,
     "metadata": {},
     "output_type": "execute_result"
    }
   ],
   "source": [
    "df['event_name'].value_counts()"
   ]
  },
  {
   "cell_type": "code",
   "execution_count": 89,
   "id": "fecb60a2",
   "metadata": {
    "scrolled": true
   },
   "outputs": [
    {
     "name": "stdout",
     "output_type": "stream",
     "text": [
      "Всего событий в логе: 243713\n",
      "Количество уникальных пользователей: 7551\n",
      "Среднее количество событий на одного пользователя: 32.27559263673685\n"
     ]
    }
   ],
   "source": [
    "print('Всего событий в логе:', df['event_name'].count())\n",
    "print('Количество уникальных пользователей:', df['device_id_hash'].nunique())\n",
    "print('Среднее количество событий на одного пользователя:', df['event_name'].count() / df['device_id_hash'].nunique())"
   ]
  },
  {
   "cell_type": "code",
   "execution_count": 90,
   "id": "c80e57b8",
   "metadata": {
    "scrolled": true
   },
   "outputs": [
    {
     "data": {
      "text/html": [
       "<div>\n",
       "<style scoped>\n",
       "    .dataframe tbody tr th:only-of-type {\n",
       "        vertical-align: middle;\n",
       "    }\n",
       "\n",
       "    .dataframe tbody tr th {\n",
       "        vertical-align: top;\n",
       "    }\n",
       "\n",
       "    .dataframe thead th {\n",
       "        text-align: right;\n",
       "    }\n",
       "</style>\n",
       "<table border=\"1\" class=\"dataframe\">\n",
       "  <thead>\n",
       "    <tr style=\"text-align: right;\">\n",
       "      <th></th>\n",
       "      <th>event_name</th>\n",
       "    </tr>\n",
       "  </thead>\n",
       "  <tbody>\n",
       "    <tr>\n",
       "      <th>count</th>\n",
       "      <td>7551.000000</td>\n",
       "    </tr>\n",
       "    <tr>\n",
       "      <th>mean</th>\n",
       "      <td>32.275593</td>\n",
       "    </tr>\n",
       "    <tr>\n",
       "      <th>std</th>\n",
       "      <td>65.154219</td>\n",
       "    </tr>\n",
       "    <tr>\n",
       "      <th>min</th>\n",
       "      <td>1.000000</td>\n",
       "    </tr>\n",
       "    <tr>\n",
       "      <th>25%</th>\n",
       "      <td>9.000000</td>\n",
       "    </tr>\n",
       "    <tr>\n",
       "      <th>50%</th>\n",
       "      <td>20.000000</td>\n",
       "    </tr>\n",
       "    <tr>\n",
       "      <th>75%</th>\n",
       "      <td>37.000000</td>\n",
       "    </tr>\n",
       "    <tr>\n",
       "      <th>max</th>\n",
       "      <td>2307.000000</td>\n",
       "    </tr>\n",
       "  </tbody>\n",
       "</table>\n",
       "</div>"
      ],
      "text/plain": [
       "        event_name\n",
       "count  7551.000000\n",
       "mean     32.275593\n",
       "std      65.154219\n",
       "min       1.000000\n",
       "25%       9.000000\n",
       "50%      20.000000\n",
       "75%      37.000000\n",
       "max    2307.000000"
      ]
     },
     "execution_count": 90,
     "metadata": {},
     "output_type": "execute_result"
    }
   ],
   "source": [
    "df_users_acivity = df.groupby('device_id_hash').agg({'event_name': 'count'})\n",
    "df_users_acivity.describe()"
   ]
  },
  {
   "cell_type": "code",
   "execution_count": 91,
   "id": "d5b7cba6",
   "metadata": {
    "scrolled": false
   },
   "outputs": [
    {
     "data": {
      "image/png": "[encoded data removed]",
      "text/plain": [
       "<Figure size 432x288 with 1 Axes>"
      ]
     },
     "metadata": {
      "needs_background": "light"
     },
     "output_type": "display_data"
    }
   ],
   "source": [
    "sns.boxplot(data = df_users_acivity)\n",
    "plt.title('Активность пользователей');\n",
    "plt.xlabel('События');\n"
   ]
  },
  {
   "cell_type": "code",
   "execution_count": 92,
   "id": "79c40a1c",
   "metadata": {
    "scrolled": true
   },
   "outputs": [
    {
     "data": {
      "image/png": "[encoded data removed]",
      "text/plain": [
       "<Figure size 432x288 with 1 Axes>"
      ]
     },
     "metadata": {
      "needs_background": "light"
     },
     "output_type": "display_data"
    }
   ],
   "source": [
    "sns.boxplot(data = df_users_acivity, showfliers=False)\n",
    "plt.title('Активность пользователей без выбросов');\n",
    "plt.xlabel('События');\n"
   ]
  },
  {
   "cell_type": "code",
   "execution_count": 93,
   "id": "22a691f8",
   "metadata": {},
   "outputs": [
    {
     "name": "stdout",
     "output_type": "stream",
     "text": [
      "Количество аномальных пользователей: event_name    483\n",
      "dtype: int64\n",
      "Доля пользователей: event_name    0.063965\n",
      "dtype: float64\n"
     ]
    }
   ],
   "source": [
    "print('Количество аномальных пользователей:', df_users_acivity.query('event_name > 80').count())\n",
    "print('Доля пользователей:', df_users_acivity.query('event_name > 80').count() / df_users_acivity.count())"
   ]
  },
  {
   "cell_type": "code",
   "execution_count": 94,
   "id": "3652df43",
   "metadata": {
    "scrolled": true
   },
   "outputs": [
    {
     "name": "stdout",
     "output_type": "stream",
     "text": [
      "Время начала лога 2019-07-25 04:43:36\n",
      "Время последнего события 2019-08-07 21:15:17\n"
     ]
    }
   ],
   "source": [
    "print('Время начала лога', df['event_timestamp'].min())\n",
    "print('Время последнего события', df['event_timestamp'].max())"
   ]
  },
  {
   "cell_type": "markdown",
   "id": "8f2d820c",
   "metadata": {},
   "source": [
    "В логе данные до 7551 пользователи, которые в сумме совершили 243713 действий в период с 25 июля 2019 г. по 7 августа 2019 г. В среднем это 32.27 на пользователя. Также мы видим, что пользователи совершали 5 действий (Посещение главной страницы, Посещение страницы с оффером, Посещение страницы с оплатой, Посещение страницы с успешным проведением оплаты и наконец страницы с инструкцией.) События перечислены нами в порядке уменьшения количества действий на каждое событие. 483 пользователя (ок. 6,3%) являются аномальными - они совершали более 80 действий в указанный период."
   ]
  },
  {
   "cell_type": "code",
   "execution_count": 95,
   "id": "d775415b",
   "metadata": {
    "scrolled": false
   },
   "outputs": [
    {
     "data": {
      "image/png": "[encoded data removed]",
      "text/plain": [
       "<Figure size 3750x1200 with 1 Axes>"
      ]
     },
     "metadata": {
      "needs_background": "light"
     },
     "output_type": "display_data"
    }
   ],
   "source": [
    "plt.figure(figsize=(25, 8), dpi=150)\n",
    "sns.histplot(df['event_timestamp'])\n",
    "plt.title('Распределение событий')\n",
    "plt.xlabel('Даты')\n",
    "plt.ylabel('Частота событий'); "
   ]
  },
  {
   "cell_type": "markdown",
   "id": "8bceab32",
   "metadata": {},
   "source": [
    "Гистограмма действий пользователей показывает, что бОльшая часть событий произошла после 1-го августа 2019. Волнообразность гистограммы объясняется временем суток. Технически в логи новых дней по некоторым пользователям могут «доезжать» события из прошлого — это может «перекашивать данные». \n",
    "\n",
    "Мы предлагаем брать данные с 1-го августа, причем в период с 09:00, чтобы отсечь данные, которые \"доедут\" с предыдущего периода (например, с вечера предыдущего дня или с ночи). Обычно такое происходит, когда телефон или планшет находятся вне зоны действия сети, и пачка событий приходит в один момент, причем позднее совершенного действия. \n",
    "\n",
    "Отфильтруем датасет по этой границе."
   ]
  },
  {
   "cell_type": "code",
   "execution_count": 96,
   "id": "b51ffb84",
   "metadata": {},
   "outputs": [],
   "source": [
    "df_filtered = df.query('event_timestamp > \"2019-08-01 09:00:00\"')"
   ]
  },
  {
   "cell_type": "code",
   "execution_count": 97,
   "id": "f86fea64",
   "metadata": {},
   "outputs": [
    {
     "name": "stdout",
     "output_type": "stream",
     "text": [
      "Количество событий после изменения временного периода: 232441\n",
      "Количество отброшенных событий: 11272\n",
      "Доля отброшенных событий: 0.04625112324742628\n",
      "Количество уникальных пользователей после изменения временного периода: 7488\n",
      "Количество отброшенных пользователей: 63\n",
      "Доля отброшенных пользователей: 0.00834326579261025\n",
      "Среднее количество событий на пользователя после изменения временного периода 31.041800213675213\n"
     ]
    }
   ],
   "source": [
    "print('Количество событий после изменения временного периода:', df_filtered['event_name'].count())\n",
    "print('Количество отброшенных событий:', df['event_name'].count() - df_filtered['event_name'].count())\n",
    "print('Доля отброшенных событий:', (df['event_name'].count() - df_filtered['event_name'].count()) / df['event_name'].count())\n",
    "print('Количество уникальных пользователей после изменения временного периода:', df_filtered['device_id_hash'].nunique())\n",
    "print('Количество отброшенных пользователей:', (df['device_id_hash'].nunique() - df_filtered['device_id_hash'].nunique()))\n",
    "print('Доля отброшенных пользователей:', (df['device_id_hash'].nunique() - df_filtered['device_id_hash'].nunique()) / df['device_id_hash'].nunique())\n",
    "print('Среднее количество событий на пользователя после изменения временного периода', df_filtered['event_name'].count() / df_filtered['device_id_hash'].nunique())\n"
   ]
  },
  {
   "cell_type": "code",
   "execution_count": 98,
   "id": "c774d444",
   "metadata": {
    "scrolled": false
   },
   "outputs": [
    {
     "data": {
      "text/html": [
       "<div>\n",
       "<style scoped>\n",
       "    .dataframe tbody tr th:only-of-type {\n",
       "        vertical-align: middle;\n",
       "    }\n",
       "\n",
       "    .dataframe tbody tr th {\n",
       "        vertical-align: top;\n",
       "    }\n",
       "\n",
       "    .dataframe thead th {\n",
       "        text-align: right;\n",
       "    }\n",
       "</style>\n",
       "<table border=\"1\" class=\"dataframe\">\n",
       "  <thead>\n",
       "    <tr style=\"text-align: right;\">\n",
       "      <th></th>\n",
       "      <th>exp_id</th>\n",
       "      <th>event_name</th>\n",
       "      <th>device_id_hash</th>\n",
       "      <th>event_timestamp</th>\n",
       "      <th>date</th>\n",
       "    </tr>\n",
       "  </thead>\n",
       "  <tbody>\n",
       "    <tr>\n",
       "      <th>0</th>\n",
       "      <td>246</td>\n",
       "      <td>5</td>\n",
       "      <td>2465</td>\n",
       "      <td>63588</td>\n",
       "      <td>7</td>\n",
       "    </tr>\n",
       "    <tr>\n",
       "      <th>1</th>\n",
       "      <td>247</td>\n",
       "      <td>5</td>\n",
       "      <td>2500</td>\n",
       "      <td>62212</td>\n",
       "      <td>7</td>\n",
       "    </tr>\n",
       "    <tr>\n",
       "      <th>2</th>\n",
       "      <td>248</td>\n",
       "      <td>5</td>\n",
       "      <td>2523</td>\n",
       "      <td>68241</td>\n",
       "      <td>7</td>\n",
       "    </tr>\n",
       "  </tbody>\n",
       "</table>\n",
       "</div>"
      ],
      "text/plain": [
       "   exp_id  event_name  device_id_hash  event_timestamp  date\n",
       "0     246           5            2465            63588     7\n",
       "1     247           5            2500            62212     7\n",
       "2     248           5            2523            68241     7"
      ]
     },
     "execution_count": 98,
     "metadata": {},
     "output_type": "execute_result"
    }
   ],
   "source": [
    "df_filtered.groupby('exp_id').nunique().reset_index()"
   ]
  },
  {
   "cell_type": "markdown",
   "id": "0d42bd26",
   "metadata": {},
   "source": [
    "В каждой из трех групп у нас есть пользователи, числом от 2450 до 2503 человек."
   ]
  },
  {
   "cell_type": "markdown",
   "id": "286d3c25",
   "metadata": {},
   "source": [
    "## Анализ воронки событий"
   ]
  },
  {
   "cell_type": "code",
   "execution_count": 99,
   "id": "b7bbe9eb",
   "metadata": {
    "scrolled": true
   },
   "outputs": [
    {
     "data": {
      "text/plain": [
       "MainScreenAppear           112056\n",
       "OffersScreenAppear          44686\n",
       "CartScreenAppear            41466\n",
       "PaymentScreenSuccessful     33271\n",
       "Tutorial                      962\n",
       "Name: event_name, dtype: int64"
      ]
     },
     "execution_count": 99,
     "metadata": {},
     "output_type": "execute_result"
    }
   ],
   "source": [
    "df_filtered['event_name'].value_counts()"
   ]
  },
  {
   "cell_type": "code",
   "execution_count": 100,
   "id": "d6cc7ef0",
   "metadata": {},
   "outputs": [],
   "source": [
    "event_grouped = df_filtered.groupby('event_name')\\\n",
    "    .agg({'device_id_hash':'nunique'})\\\n",
    "    .sort_values(by='device_id_hash', ascending=False) \\\n",
    "    .reset_index()"
   ]
  },
  {
   "cell_type": "code",
   "execution_count": 101,
   "id": "ce234471",
   "metadata": {},
   "outputs": [],
   "source": [
    "event_grouped.columns = ['event', 'users']"
   ]
  },
  {
   "cell_type": "code",
   "execution_count": 102,
   "id": "2107d157",
   "metadata": {},
   "outputs": [],
   "source": [
    "value_full = 7488\n",
    "event_grouped['rate'] = event_grouped['users'] / value_full"
   ]
  },
  {
   "cell_type": "code",
   "execution_count": 103,
   "id": "98ec3283",
   "metadata": {
    "scrolled": true
   },
   "outputs": [
    {
     "data": {
      "text/html": [
       "<div>\n",
       "<style scoped>\n",
       "    .dataframe tbody tr th:only-of-type {\n",
       "        vertical-align: middle;\n",
       "    }\n",
       "\n",
       "    .dataframe tbody tr th {\n",
       "        vertical-align: top;\n",
       "    }\n",
       "\n",
       "    .dataframe thead th {\n",
       "        text-align: right;\n",
       "    }\n",
       "</style>\n",
       "<table border=\"1\" class=\"dataframe\">\n",
       "  <thead>\n",
       "    <tr style=\"text-align: right;\">\n",
       "      <th></th>\n",
       "      <th>event</th>\n",
       "      <th>users</th>\n",
       "      <th>rate</th>\n",
       "    </tr>\n",
       "  </thead>\n",
       "  <tbody>\n",
       "    <tr>\n",
       "      <th>0</th>\n",
       "      <td>MainScreenAppear</td>\n",
       "      <td>7367</td>\n",
       "      <td>0.983841</td>\n",
       "    </tr>\n",
       "    <tr>\n",
       "      <th>1</th>\n",
       "      <td>OffersScreenAppear</td>\n",
       "      <td>4552</td>\n",
       "      <td>0.607906</td>\n",
       "    </tr>\n",
       "    <tr>\n",
       "      <th>2</th>\n",
       "      <td>CartScreenAppear</td>\n",
       "      <td>3710</td>\n",
       "      <td>0.495459</td>\n",
       "    </tr>\n",
       "    <tr>\n",
       "      <th>3</th>\n",
       "      <td>PaymentScreenSuccessful</td>\n",
       "      <td>3515</td>\n",
       "      <td>0.469418</td>\n",
       "    </tr>\n",
       "    <tr>\n",
       "      <th>4</th>\n",
       "      <td>Tutorial</td>\n",
       "      <td>801</td>\n",
       "      <td>0.106971</td>\n",
       "    </tr>\n",
       "  </tbody>\n",
       "</table>\n",
       "</div>"
      ],
      "text/plain": [
       "                     event  users      rate\n",
       "0         MainScreenAppear   7367  0.983841\n",
       "1       OffersScreenAppear   4552  0.607906\n",
       "2         CartScreenAppear   3710  0.495459\n",
       "3  PaymentScreenSuccessful   3515  0.469418\n",
       "4                 Tutorial    801  0.106971"
      ]
     },
     "execution_count": 103,
     "metadata": {},
     "output_type": "execute_result"
    }
   ],
   "source": [
    "event_grouped"
   ]
  },
  {
   "cell_type": "markdown",
   "id": "58cae105",
   "metadata": {},
   "source": [
    "Как было сказано выше, пользователи совершали 5 действий (Посещение главной страницы, Посещение страницы с оффером, Посещение страницы с оплатой, Посещение страницы с успешным проведением оплаты и наконец страницы с инструкцией.) События перечислены нами в порядке уменьшения количества действий на каждое событие. \n",
    "\n",
    "Порядок действий скорее всего совпадает с указанным за исключением посещения страницы с руководством, тк неясно, является ли оно обязательным на каком либо шаге (судя по количеству юзеров и действий - нет), и его \"непопулярность\" связана с тем, что на эту страницу пользователи идут не в рамках сценария покупки продуктов, а только в случае затруднений. Поэтому подробно изучать этот шаг мы не будем. \n",
    "\n",
    "Также мы посчитали количество юзеров на каждое событие и доли юзеров по отношению к первому шагу."
   ]
  },
  {
   "cell_type": "markdown",
   "id": "03b58591",
   "metadata": {},
   "source": [
    "Построим воронку продаж"
   ]
  },
  {
   "cell_type": "code",
   "execution_count": 104,
   "id": "da5883c4",
   "metadata": {},
   "outputs": [
    {
     "data": {
      "application/vnd.plotly.v1+json": {
       "config": {
        "plotlyServerURL": "https://plot.ly"
       },
       "data": [
        {
         "type": "funnel",
         "x": [
          7367,
          4552,
          3710,
          3515
         ],
         "y": [
          "MainScreenAppear",
          "OffersScreenAppear",
          "CartScreenAppear",
          "PaymentScreenSuccessful"
         ]
        }
       ],
       "layout": {
        "template": {
         "data": {
          "bar": [
           {
            "error_x": {
             "color": "#2a3f5f"
            },
            "error_y": {
             "color": "#2a3f5f"
            },
            "marker": {
             "line": {
              "color": "#E5ECF6",
              "width": 0.5
             },
             "pattern": {
              "fillmode": "overlay",
              "size": 10,
              "solidity": 0.2
             }
            },
            "type": "bar"
           }
          ],
          "barpolar": [
           {
            "marker": {
             "line": {
              "color": "#E5ECF6",
              "width": 0.5
             },
             "pattern": {
              "fillmode": "overlay",
              "size": 10,
              "solidity": 0.2
             }
            },
            "type": "barpolar"
           }
          ],
          "carpet": [
           {
            "aaxis": {
             "endlinecolor": "#2a3f5f",
             "gridcolor": "white",
             "linecolor": "white",
             "minorgridcolor": "white",
             "startlinecolor": "#2a3f5f"
            },
            "baxis": {
             "endlinecolor": "#2a3f5f",
             "gridcolor": "white",
             "linecolor": "white",
             "minorgridcolor": "white",
             "startlinecolor": "#2a3f5f"
            },
            "type": "carpet"
           }
          ],
          "choropleth": [
           {
            "colorbar": {
             "outlinewidth": 0,
             "ticks": ""
            },
            "type": "choropleth"
           }
          ],
          "contour": [
           {
            "colorbar": {
             "outlinewidth": 0,
             "ticks": ""
            },
            "colorscale": [
             [
              0,
              "#0d0887"
             ],
             [
              0.1111111111111111,
              "#46039f"
             ],
             [
              0.2222222222222222,
              "#7201a8"
             ],
             [
              0.3333333333333333,
              "#9c179e"
             ],
             [
              0.4444444444444444,
              "#bd3786"
             ],
             [
              0.5555555555555556,
              "#d8576b"
             ],
             [
              0.6666666666666666,
              "#ed7953"
             ],
             [
              0.7777777777777778,
              "#fb9f3a"
             ],
             [
              0.8888888888888888,
              "#fdca26"
             ],
             [
              1,
              "#f0f921"
             ]
            ],
            "type": "contour"
           }
          ],
          "contourcarpet": [
           {
            "colorbar": {
             "outlinewidth": 0,
             "ticks": ""
            },
            "type": "contourcarpet"
           }
          ],
          "heatmap": [
           {
            "colorbar": {
             "outlinewidth": 0,
             "ticks": ""
            },
            "colorscale": [
             [
              0,
              "#0d0887"
             ],
             [
              0.1111111111111111,
              "#46039f"
             ],
             [
              0.2222222222222222,
              "#7201a8"
             ],
             [
              0.3333333333333333,
              "#9c179e"
             ],
             [
              0.4444444444444444,
              "#bd3786"
             ],
             [
              0.5555555555555556,
              "#d8576b"
             ],
             [
              0.6666666666666666,
              "#ed7953"
             ],
             [
              0.7777777777777778,
              "#fb9f3a"
             ],
             [
              0.8888888888888888,
              "#fdca26"
             ],
             [
              1,
              "#f0f921"
             ]
            ],
            "type": "heatmap"
           }
          ],
          "heatmapgl": [
           {
            "colorbar": {
             "outlinewidth": 0,
             "ticks": ""
            },
            "colorscale": [
             [
              0,
              "#0d0887"
             ],
             [
              0.1111111111111111,
              "#46039f"
             ],
             [
              0.2222222222222222,
              "#7201a8"
             ],
             [
              0.3333333333333333,
              "#9c179e"
             ],
             [
              0.4444444444444444,
              "#bd3786"
             ],
             [
              0.5555555555555556,
              "#d8576b"
             ],
             [
              0.6666666666666666,
              "#ed7953"
             ],
             [
              0.7777777777777778,
              "#fb9f3a"
             ],
             [
              0.8888888888888888,
              "#fdca26"
             ],
             [
              1,
              "#f0f921"
             ]
            ],
            "type": "heatmapgl"
           }
          ],
          "histogram": [
           {
            "marker": {
             "pattern": {
              "fillmode": "overlay",
              "size": 10,
              "solidity": 0.2
             }
            },
            "type": "histogram"
           }
          ],
          "histogram2d": [
           {
            "colorbar": {
             "outlinewidth": 0,
             "ticks": ""
            },
            "colorscale": [
             [
              0,
              "#0d0887"
             ],
             [
              0.1111111111111111,
              "#46039f"
             ],
             [
              0.2222222222222222,
              "#7201a8"
             ],
             [
              0.3333333333333333,
              "#9c179e"
             ],
             [
              0.4444444444444444,
              "#bd3786"
             ],
             [
              0.5555555555555556,
              "#d8576b"
             ],
             [
              0.6666666666666666,
              "#ed7953"
             ],
             [
              0.7777777777777778,
              "#fb9f3a"
             ],
             [
              0.8888888888888888,
              "#fdca26"
             ],
             [
              1,
              "#f0f921"
             ]
            ],
            "type": "histogram2d"
           }
          ],
          "histogram2dcontour": [
           {
            "colorbar": {
             "outlinewidth": 0,
             "ticks": ""
            },
            "colorscale": [
             [
              0,
              "#0d0887"
             ],
             [
              0.1111111111111111,
              "#46039f"
             ],
             [
              0.2222222222222222,
              "#7201a8"
             ],
             [
              0.3333333333333333,
              "#9c179e"
             ],
             [
              0.4444444444444444,
              "#bd3786"
             ],
             [
              0.5555555555555556,
              "#d8576b"
             ],
             [
              0.6666666666666666,
              "#ed7953"
             ],
             [
              0.7777777777777778,
              "#fb9f3a"
             ],
             [
              0.8888888888888888,
              "#fdca26"
             ],
             [
              1,
              "#f0f921"
             ]
            ],
            "type": "histogram2dcontour"
           }
          ],
          "mesh3d": [
           {
            "colorbar": {
             "outlinewidth": 0,
             "ticks": ""
            },
            "type": "mesh3d"
           }
          ],
          "parcoords": [
           {
            "line": {
             "colorbar": {
              "outlinewidth": 0,
              "ticks": ""
             }
            },
            "type": "parcoords"
           }
          ],
          "pie": [
           {
            "automargin": true,
            "type": "pie"
           }
          ],
          "scatter": [
           {
            "fillpattern": {
             "fillmode": "overlay",
             "size": 10,
             "solidity": 0.2
            },
            "type": "scatter"
           }
          ],
          "scatter3d": [
           {
            "line": {
             "colorbar": {
              "outlinewidth": 0,
              "ticks": ""
             }
            },
            "marker": {
             "colorbar": {
              "outlinewidth": 0,
              "ticks": ""
             }
            },
            "type": "scatter3d"
           }
          ],
          "scattercarpet": [
           {
            "marker": {
             "colorbar": {
              "outlinewidth": 0,
              "ticks": ""
             }
            },
            "type": "scattercarpet"
           }
          ],
          "scattergeo": [
           {
            "marker": {
             "colorbar": {
              "outlinewidth": 0,
              "ticks": ""
             }
            },
            "type": "scattergeo"
           }
          ],
          "scattergl": [
           {
            "marker": {
             "colorbar": {
              "outlinewidth": 0,
              "ticks": ""
             }
            },
            "type": "scattergl"
           }
          ],
          "scattermapbox": [
           {
            "marker": {
             "colorbar": {
              "outlinewidth": 0,
              "ticks": ""
             }
            },
            "type": "scattermapbox"
           }
          ],
          "scatterpolar": [
           {
            "marker": {
             "colorbar": {
              "outlinewidth": 0,
              "ticks": ""
             }
            },
            "type": "scatterpolar"
           }
          ],
          "scatterpolargl": [
           {
            "marker": {
             "colorbar": {
              "outlinewidth": 0,
              "ticks": ""
             }
            },
            "type": "scatterpolargl"
           }
          ],
          "scatterternary": [
           {
            "marker": {
             "colorbar": {
              "outlinewidth": 0,
              "ticks": ""
             }
            },
            "type": "scatterternary"
           }
          ],
          "surface": [
           {
            "colorbar": {
             "outlinewidth": 0,
             "ticks": ""
            },
            "colorscale": [
             [
              0,
              "#0d0887"
             ],
             [
              0.1111111111111111,
              "#46039f"
             ],
             [
              0.2222222222222222,
              "#7201a8"
             ],
             [
              0.3333333333333333,
              "#9c179e"
             ],
             [
              0.4444444444444444,
              "#bd3786"
             ],
             [
              0.5555555555555556,
              "#d8576b"
             ],
             [
              0.6666666666666666,
              "#ed7953"
             ],
             [
              0.7777777777777778,
              "#fb9f3a"
             ],
             [
              0.8888888888888888,
              "#fdca26"
             ],
             [
              1,
              "#f0f921"
             ]
            ],
            "type": "surface"
           }
          ],
          "table": [
           {
            "cells": {
             "fill": {
              "color": "#EBF0F8"
             },
             "line": {
              "color": "white"
             }
            },
            "header": {
             "fill": {
              "color": "#C8D4E3"
             },
             "line": {
              "color": "white"
             }
            },
            "type": "table"
           }
          ]
         },
         "layout": {
          "annotationdefaults": {
           "arrowcolor": "#2a3f5f",
           "arrowhead": 0,
           "arrowwidth": 1
          },
          "autotypenumbers": "strict",
          "coloraxis": {
           "colorbar": {
            "outlinewidth": 0,
            "ticks": ""
           }
          },
          "colorscale": {
           "diverging": [
            [
             0,
             "#8e0152"
            ],
            [
             0.1,
             "#c51b7d"
            ],
            [
             0.2,
             "#de77ae"
            ],
            [
             0.3,
             "#f1b6da"
            ],
            [
             0.4,
             "#fde0ef"
            ],
            [
             0.5,
             "#f7f7f7"
            ],
            [
             0.6,
             "#e6f5d0"
            ],
            [
             0.7,
             "#b8e186"
            ],
            [
             0.8,
             "#7fbc41"
            ],
            [
             0.9,
             "#4d9221"
            ],
            [
             1,
             "#276419"
            ]
           ],
           "sequential": [
            [
             0,
             "#0d0887"
            ],
            [
             0.1111111111111111,
             "#46039f"
            ],
            [
             0.2222222222222222,
             "#7201a8"
            ],
            [
             0.3333333333333333,
             "#9c179e"
            ],
            [
             0.4444444444444444,
             "#bd3786"
            ],
            [
             0.5555555555555556,
             "#d8576b"
            ],
            [
             0.6666666666666666,
             "#ed7953"
            ],
            [
             0.7777777777777778,
             "#fb9f3a"
            ],
            [
             0.8888888888888888,
             "#fdca26"
            ],
            [
             1,
             "#f0f921"
            ]
           ],
           "sequentialminus": [
            [
             0,
             "#0d0887"
            ],
            [
             0.1111111111111111,
             "#46039f"
            ],
            [
             0.2222222222222222,
             "#7201a8"
            ],
            [
             0.3333333333333333,
             "#9c179e"
            ],
            [
             0.4444444444444444,
             "#bd3786"
            ],
            [
             0.5555555555555556,
             "#d8576b"
            ],
            [
             0.6666666666666666,
             "#ed7953"
            ],
            [
             0.7777777777777778,
             "#fb9f3a"
            ],
            [
             0.8888888888888888,
             "#fdca26"
            ],
            [
             1,
             "#f0f921"
            ]
           ]
          },
          "colorway": [
           "#636efa",
           "#EF553B",
           "#00cc96",
           "#ab63fa",
           "#FFA15A",
           "#19d3f3",
           "#FF6692",
           "#B6E880",
           "#FF97FF",
           "#FECB52"
          ],
          "font": {
           "color": "#2a3f5f"
          },
          "geo": {
           "bgcolor": "white",
           "lakecolor": "white",
           "landcolor": "#E5ECF6",
           "showlakes": true,
           "showland": true,
           "subunitcolor": "white"
          },
          "hoverlabel": {
           "align": "left"
          },
          "hovermode": "closest",
          "mapbox": {
           "style": "light"
          },
          "paper_bgcolor": "white",
          "plot_bgcolor": "#E5ECF6",
          "polar": {
           "angularaxis": {
            "gridcolor": "white",
            "linecolor": "white",
            "ticks": ""
           },
           "bgcolor": "#E5ECF6",
           "radialaxis": {
            "gridcolor": "white",
            "linecolor": "white",
            "ticks": ""
           }
          },
          "scene": {
           "xaxis": {
            "backgroundcolor": "#E5ECF6",
            "gridcolor": "white",
            "gridwidth": 2,
            "linecolor": "white",
            "showbackground": true,
            "ticks": "",
            "zerolinecolor": "white"
           },
           "yaxis": {
            "backgroundcolor": "#E5ECF6",
            "gridcolor": "white",
            "gridwidth": 2,
            "linecolor": "white",
            "showbackground": true,
            "ticks": "",
            "zerolinecolor": "white"
           },
           "zaxis": {
            "backgroundcolor": "#E5ECF6",
            "gridcolor": "white",
            "gridwidth": 2,
            "linecolor": "white",
            "showbackground": true,
            "ticks": "",
            "zerolinecolor": "white"
           }
          },
          "shapedefaults": {
           "line": {
            "color": "#2a3f5f"
           }
          },
          "ternary": {
           "aaxis": {
            "gridcolor": "white",
            "linecolor": "white",
            "ticks": ""
           },
           "baxis": {
            "gridcolor": "white",
            "linecolor": "white",
            "ticks": ""
           },
           "bgcolor": "#E5ECF6",
           "caxis": {
            "gridcolor": "white",
            "linecolor": "white",
            "ticks": ""
           }
          },
          "title": {
           "x": 0.05
          },
          "xaxis": {
           "automargin": true,
           "gridcolor": "white",
           "linecolor": "white",
           "ticks": "",
           "title": {
            "standoff": 15
           },
           "zerolinecolor": "white",
           "zerolinewidth": 2
          },
          "yaxis": {
           "automargin": true,
           "gridcolor": "white",
           "linecolor": "white",
           "ticks": "",
           "title": {
            "standoff": 15
           },
           "zerolinecolor": "white",
           "zerolinewidth": 2
          }
         }
        },
        "title": {
         "text": "Воронка событий"
        }
       }
      },
      "text/html": [
       "<div>                            <div id=\"1193136b-dd45-4244-b6c3-e5d780fe0d26\" class=\"plotly-graph-div\" style=\"height:525px; width:100%;\"></div>            <script type=\"text/javascript\">                require([\"plotly\"], function(Plotly) {                    window.PLOTLYENV=window.PLOTLYENV || {};                                    if (document.getElementById(\"1193136b-dd45-4244-b6c3-e5d780fe0d26\")) {                    Plotly.newPlot(                        \"1193136b-dd45-4244-b6c3-e5d780fe0d26\",                        [{\"x\":[7367,4552,3710,3515],\"y\":[\"MainScreenAppear\",\"OffersScreenAppear\",\"CartScreenAppear\",\"PaymentScreenSuccessful\"],\"type\":\"funnel\"}],                        {\"template\":{\"data\":{\"histogram2dcontour\":[{\"type\":\"histogram2dcontour\",\"colorbar\":{\"outlinewidth\":0,\"ticks\":\"\"},\"colorscale\":[[0.0,\"#0d0887\"],[0.1111111111111111,\"#46039f\"],[0.2222222222222222,\"#7201a8\"],[0.3333333333333333,\"#9c179e\"],[0.4444444444444444,\"#bd3786\"],[0.5555555555555556,\"#d8576b\"],[0.6666666666666666,\"#ed7953\"],[0.7777777777777778,\"#fb9f3a\"],[0.8888888888888888,\"#fdca26\"],[1.0,\"#f0f921\"]]}],\"choropleth\":[{\"type\":\"choropleth\",\"colorbar\":{\"outlinewidth\":0,\"ticks\":\"\"}}],\"histogram2d\":[{\"type\":\"histogram2d\",\"colorbar\":{\"outlinewidth\":0,\"ticks\":\"\"},\"colorscale\":[[0.0,\"#0d0887\"],[0.1111111111111111,\"#46039f\"],[0.2222222222222222,\"#7201a8\"],[0.3333333333333333,\"#9c179e\"],[0.4444444444444444,\"#bd3786\"],[0.5555555555555556,\"#d8576b\"],[0.6666666666666666,\"#ed7953\"],[0.7777777777777778,\"#fb9f3a\"],[0.8888888888888888,\"#fdca26\"],[1.0,\"#f0f921\"]]}],\"heatmap\":[{\"type\":\"heatmap\",\"colorbar\":{\"outlinewidth\":0,\"ticks\":\"\"},\"colorscale\":[[0.0,\"#0d0887\"],[0.1111111111111111,\"#46039f\"],[0.2222222222222222,\"#7201a8\"],[0.3333333333333333,\"#9c179e\"],[0.4444444444444444,\"#bd3786\"],[0.5555555555555556,\"#d8576b\"],[0.6666666666666666,\"#ed7953\"],[0.7777777777777778,\"#fb9f3a\"],[0.8888888888888888,\"#fdca26\"],[1.0,\"#f0f921\"]]}],\"heatmapgl\":[{\"type\":\"heatmapgl\",\"colorbar\":{\"outlinewidth\":0,\"ticks\":\"\"},\"colorscale\":[[0.0,\"#0d0887\"],[0.1111111111111111,\"#46039f\"],[0.2222222222222222,\"#7201a8\"],[0.3333333333333333,\"#9c179e\"],[0.4444444444444444,\"#bd3786\"],[0.5555555555555556,\"#d8576b\"],[0.6666666666666666,\"#ed7953\"],[0.7777777777777778,\"#fb9f3a\"],[0.8888888888888888,\"#fdca26\"],[1.0,\"#f0f921\"]]}],\"contourcarpet\":[{\"type\":\"contourcarpet\",\"colorbar\":{\"outlinewidth\":0,\"ticks\":\"\"}}],\"contour\":[{\"type\":\"contour\",\"colorbar\":{\"outlinewidth\":0,\"ticks\":\"\"},\"colorscale\":[[0.0,\"#0d0887\"],[0.1111111111111111,\"#46039f\"],[0.2222222222222222,\"#7201a8\"],[0.3333333333333333,\"#9c179e\"],[0.4444444444444444,\"#bd3786\"],[0.5555555555555556,\"#d8576b\"],[0.6666666666666666,\"#ed7953\"],[0.7777777777777778,\"#fb9f3a\"],[0.8888888888888888,\"#fdca26\"],[1.0,\"#f0f921\"]]}],\"surface\":[{\"type\":\"surface\",\"colorbar\":{\"outlinewidth\":0,\"ticks\":\"\"},\"colorscale\":[[0.0,\"#0d0887\"],[0.1111111111111111,\"#46039f\"],[0.2222222222222222,\"#7201a8\"],[0.3333333333333333,\"#9c179e\"],[0.4444444444444444,\"#bd3786\"],[0.5555555555555556,\"#d8576b\"],[0.6666666666666666,\"#ed7953\"],[0.7777777777777778,\"#fb9f3a\"],[0.8888888888888888,\"#fdca26\"],[1.0,\"#f0f921\"]]}],\"mesh3d\":[{\"type\":\"mesh3d\",\"colorbar\":{\"outlinewidth\":0,\"ticks\":\"\"}}],\"scatter\":[{\"fillpattern\":{\"fillmode\":\"overlay\",\"size\":10,\"solidity\":0.2},\"type\":\"scatter\"}],\"parcoords\":[{\"type\":\"parcoords\",\"line\":{\"colorbar\":{\"outlinewidth\":0,\"ticks\":\"\"}}}],\"scatterpolargl\":[{\"type\":\"scatterpolargl\",\"marker\":{\"colorbar\":{\"outlinewidth\":0,\"ticks\":\"\"}}}],\"bar\":[{\"error_x\":{\"color\":\"#2a3f5f\"},\"error_y\":{\"color\":\"#2a3f5f\"},\"marker\":{\"line\":{\"color\":\"#E5ECF6\",\"width\":0.5},\"pattern\":{\"fillmode\":\"overlay\",\"size\":10,\"solidity\":0.2}},\"type\":\"bar\"}],\"scattergeo\":[{\"type\":\"scattergeo\",\"marker\":{\"colorbar\":{\"outlinewidth\":0,\"ticks\":\"\"}}}],\"scatterpolar\":[{\"type\":\"scatterpolar\",\"marker\":{\"colorbar\":{\"outlinewidth\":0,\"ticks\":\"\"}}}],\"histogram\":[{\"marker\":{\"pattern\":{\"fillmode\":\"overlay\",\"size\":10,\"solidity\":0.2}},\"type\":\"histogram\"}],\"scattergl\":[{\"type\":\"scattergl\",\"marker\":{\"colorbar\":{\"outlinewidth\":0,\"ticks\":\"\"}}}],\"scatter3d\":[{\"type\":\"scatter3d\",\"line\":{\"colorbar\":{\"outlinewidth\":0,\"ticks\":\"\"}},\"marker\":{\"colorbar\":{\"outlinewidth\":0,\"ticks\":\"\"}}}],\"scattermapbox\":[{\"type\":\"scattermapbox\",\"marker\":{\"colorbar\":{\"outlinewidth\":0,\"ticks\":\"\"}}}],\"scatterternary\":[{\"type\":\"scatterternary\",\"marker\":{\"colorbar\":{\"outlinewidth\":0,\"ticks\":\"\"}}}],\"scattercarpet\":[{\"type\":\"scattercarpet\",\"marker\":{\"colorbar\":{\"outlinewidth\":0,\"ticks\":\"\"}}}],\"carpet\":[{\"aaxis\":{\"endlinecolor\":\"#2a3f5f\",\"gridcolor\":\"white\",\"linecolor\":\"white\",\"minorgridcolor\":\"white\",\"startlinecolor\":\"#2a3f5f\"},\"baxis\":{\"endlinecolor\":\"#2a3f5f\",\"gridcolor\":\"white\",\"linecolor\":\"white\",\"minorgridcolor\":\"white\",\"startlinecolor\":\"#2a3f5f\"},\"type\":\"carpet\"}],\"table\":[{\"cells\":{\"fill\":{\"color\":\"#EBF0F8\"},\"line\":{\"color\":\"white\"}},\"header\":{\"fill\":{\"color\":\"#C8D4E3\"},\"line\":{\"color\":\"white\"}},\"type\":\"table\"}],\"barpolar\":[{\"marker\":{\"line\":{\"color\":\"#E5ECF6\",\"width\":0.5},\"pattern\":{\"fillmode\":\"overlay\",\"size\":10,\"solidity\":0.2}},\"type\":\"barpolar\"}],\"pie\":[{\"automargin\":true,\"type\":\"pie\"}]},\"layout\":{\"autotypenumbers\":\"strict\",\"colorway\":[\"#636efa\",\"#EF553B\",\"#00cc96\",\"#ab63fa\",\"#FFA15A\",\"#19d3f3\",\"#FF6692\",\"#B6E880\",\"#FF97FF\",\"#FECB52\"],\"font\":{\"color\":\"#2a3f5f\"},\"hovermode\":\"closest\",\"hoverlabel\":{\"align\":\"left\"},\"paper_bgcolor\":\"white\",\"plot_bgcolor\":\"#E5ECF6\",\"polar\":{\"bgcolor\":\"#E5ECF6\",\"angularaxis\":{\"gridcolor\":\"white\",\"linecolor\":\"white\",\"ticks\":\"\"},\"radialaxis\":{\"gridcolor\":\"white\",\"linecolor\":\"white\",\"ticks\":\"\"}},\"ternary\":{\"bgcolor\":\"#E5ECF6\",\"aaxis\":{\"gridcolor\":\"white\",\"linecolor\":\"white\",\"ticks\":\"\"},\"baxis\":{\"gridcolor\":\"white\",\"linecolor\":\"white\",\"ticks\":\"\"},\"caxis\":{\"gridcolor\":\"white\",\"linecolor\":\"white\",\"ticks\":\"\"}},\"coloraxis\":{\"colorbar\":{\"outlinewidth\":0,\"ticks\":\"\"}},\"colorscale\":{\"sequential\":[[0.0,\"#0d0887\"],[0.1111111111111111,\"#46039f\"],[0.2222222222222222,\"#7201a8\"],[0.3333333333333333,\"#9c179e\"],[0.4444444444444444,\"#bd3786\"],[0.5555555555555556,\"#d8576b\"],[0.6666666666666666,\"#ed7953\"],[0.7777777777777778,\"#fb9f3a\"],[0.8888888888888888,\"#fdca26\"],[1.0,\"#f0f921\"]],\"sequentialminus\":[[0.0,\"#0d0887\"],[0.1111111111111111,\"#46039f\"],[0.2222222222222222,\"#7201a8\"],[0.3333333333333333,\"#9c179e\"],[0.4444444444444444,\"#bd3786\"],[0.5555555555555556,\"#d8576b\"],[0.6666666666666666,\"#ed7953\"],[0.7777777777777778,\"#fb9f3a\"],[0.8888888888888888,\"#fdca26\"],[1.0,\"#f0f921\"]],\"diverging\":[[0,\"#8e0152\"],[0.1,\"#c51b7d\"],[0.2,\"#de77ae\"],[0.3,\"#f1b6da\"],[0.4,\"#fde0ef\"],[0.5,\"#f7f7f7\"],[0.6,\"#e6f5d0\"],[0.7,\"#b8e186\"],[0.8,\"#7fbc41\"],[0.9,\"#4d9221\"],[1,\"#276419\"]]},\"xaxis\":{\"gridcolor\":\"white\",\"linecolor\":\"white\",\"ticks\":\"\",\"title\":{\"standoff\":15},\"zerolinecolor\":\"white\",\"automargin\":true,\"zerolinewidth\":2},\"yaxis\":{\"gridcolor\":\"white\",\"linecolor\":\"white\",\"ticks\":\"\",\"title\":{\"standoff\":15},\"zerolinecolor\":\"white\",\"automargin\":true,\"zerolinewidth\":2},\"scene\":{\"xaxis\":{\"backgroundcolor\":\"#E5ECF6\",\"gridcolor\":\"white\",\"linecolor\":\"white\",\"showbackground\":true,\"ticks\":\"\",\"zerolinecolor\":\"white\",\"gridwidth\":2},\"yaxis\":{\"backgroundcolor\":\"#E5ECF6\",\"gridcolor\":\"white\",\"linecolor\":\"white\",\"showbackground\":true,\"ticks\":\"\",\"zerolinecolor\":\"white\",\"gridwidth\":2},\"zaxis\":{\"backgroundcolor\":\"#E5ECF6\",\"gridcolor\":\"white\",\"linecolor\":\"white\",\"showbackground\":true,\"ticks\":\"\",\"zerolinecolor\":\"white\",\"gridwidth\":2}},\"shapedefaults\":{\"line\":{\"color\":\"#2a3f5f\"}},\"annotationdefaults\":{\"arrowcolor\":\"#2a3f5f\",\"arrowhead\":0,\"arrowwidth\":1},\"geo\":{\"bgcolor\":\"white\",\"landcolor\":\"#E5ECF6\",\"subunitcolor\":\"white\",\"showland\":true,\"showlakes\":true,\"lakecolor\":\"white\"},\"title\":{\"x\":0.05},\"mapbox\":{\"style\":\"light\"}}},\"title\":{\"text\":\"\\u0412\\u043e\\u0440\\u043e\\u043d\\u043a\\u0430 \\u0441\\u043e\\u0431\\u044b\\u0442\\u0438\\u0439\"}},                        {\"responsive\": true}                    ).then(function(){\n",
       "                            \n",
       "var gd = document.getElementById('1193136b-dd45-4244-b6c3-e5d780fe0d26');\n",
       "var x = new MutationObserver(function (mutations, observer) {{\n",
       "        var display = window.getComputedStyle(gd).display;\n",
       "        if (!display || display === 'none') {{\n",
       "            console.log([gd, 'removed!']);\n",
       "            Plotly.purge(gd);\n",
       "            observer.disconnect();\n",
       "        }}\n",
       "}});\n",
       "\n",
       "// Listen for the removal of the full notebook cells\n",
       "var notebookContainer = gd.closest('#notebook-container');\n",
       "if (notebookContainer) {{\n",
       "    x.observe(notebookContainer, {childList: true});\n",
       "}}\n",
       "\n",
       "// Listen for the clearing of the current output cell\n",
       "var outputEl = gd.closest('.output');\n",
       "if (outputEl) {{\n",
       "    x.observe(outputEl, {childList: true});\n",
       "}}\n",
       "\n",
       "                        })                };                });            </script>        </div>"
      ]
     },
     "metadata": {},
     "output_type": "display_data"
    }
   ],
   "source": [
    "fig = go.Figure(\n",
    "    go.Funnel(\n",
    "        y=event_grouped.query('event != \"Tutorial\"')['event'],\n",
    "        x=event_grouped.query('event != \"Tutorial\"')['users'],\n",
    "    )\n",
    ")\n",
    "fig.update_layout(title=\"Воронка событий\")\n",
    "fig.show()"
   ]
  },
  {
   "cell_type": "markdown",
   "id": "1ceaa7de",
   "metadata": {},
   "source": [
    "Больше всего пользователей мы теряем на втором шаге воронки (38,3% юзеров не доходят до страницы с оффером).\n",
    "От первого события до оплаты доходит 47,7% юзеров из первого шага или 46,8% от общего количество юзеров из фильтрованного по времени датасета. Такая довольно высокая конверсия, вероятно, связана со спецификой работы магазина - на первую страницу попадают уже относительно мотивированные покупатели, и если уже они прошли страницу с оффером, то в дальнейшем от сделки отказывается небольшая часть юзеров. "
   ]
  },
  {
   "cell_type": "markdown",
   "id": "7941a655",
   "metadata": {},
   "source": [
    "## Изучение результатов эксперимента"
   ]
  },
  {
   "cell_type": "markdown",
   "id": "71c0bb01",
   "metadata": {},
   "source": [
    "Посмотрим, сколько пользователей в каждой группе."
   ]
  },
  {
   "cell_type": "code",
   "execution_count": 105,
   "id": "368097f1",
   "metadata": {},
   "outputs": [],
   "source": [
    "df_exp_groups = df_filtered.groupby('exp_id').nunique().reset_index()\n",
    "df_exp_groups.columns = ['group_number', 'events', 'users', 'event_timestamp', 'date']"
   ]
  },
  {
   "cell_type": "code",
   "execution_count": 106,
   "id": "64adb15c",
   "metadata": {
    "scrolled": false
   },
   "outputs": [
    {
     "data": {
      "text/html": [
       "<div>\n",
       "<style scoped>\n",
       "    .dataframe tbody tr th:only-of-type {\n",
       "        vertical-align: middle;\n",
       "    }\n",
       "\n",
       "    .dataframe tbody tr th {\n",
       "        vertical-align: top;\n",
       "    }\n",
       "\n",
       "    .dataframe thead th {\n",
       "        text-align: right;\n",
       "    }\n",
       "</style>\n",
       "<table border=\"1\" class=\"dataframe\">\n",
       "  <thead>\n",
       "    <tr style=\"text-align: right;\">\n",
       "      <th></th>\n",
       "      <th>group_number</th>\n",
       "      <th>events</th>\n",
       "      <th>users</th>\n",
       "      <th>event_timestamp</th>\n",
       "      <th>date</th>\n",
       "    </tr>\n",
       "  </thead>\n",
       "  <tbody>\n",
       "    <tr>\n",
       "      <th>0</th>\n",
       "      <td>246</td>\n",
       "      <td>5</td>\n",
       "      <td>2465</td>\n",
       "      <td>63588</td>\n",
       "      <td>7</td>\n",
       "    </tr>\n",
       "    <tr>\n",
       "      <th>1</th>\n",
       "      <td>247</td>\n",
       "      <td>5</td>\n",
       "      <td>2500</td>\n",
       "      <td>62212</td>\n",
       "      <td>7</td>\n",
       "    </tr>\n",
       "    <tr>\n",
       "      <th>2</th>\n",
       "      <td>248</td>\n",
       "      <td>5</td>\n",
       "      <td>2523</td>\n",
       "      <td>68241</td>\n",
       "      <td>7</td>\n",
       "    </tr>\n",
       "  </tbody>\n",
       "</table>\n",
       "</div>"
      ],
      "text/plain": [
       "   group_number  events  users  event_timestamp  date\n",
       "0           246       5   2465            63588     7\n",
       "1           247       5   2500            62212     7\n",
       "2           248       5   2523            68241     7"
      ]
     },
     "execution_count": 106,
     "metadata": {},
     "output_type": "execute_result"
    }
   ],
   "source": [
    "df_exp_groups"
   ]
  },
  {
   "cell_type": "markdown",
   "id": "e20aa167",
   "metadata": {},
   "source": [
    "Проверим, есть ли пользователи, которые попали более, чем в одну экспериметальную группу."
   ]
  },
  {
   "cell_type": "code",
   "execution_count": 107,
   "id": "21d607f4",
   "metadata": {},
   "outputs": [],
   "source": [
    "bad_clients = df_filtered.groupby('device_id_hash') \\\n",
    "    .agg({'exp_id' : 'nunique'}) \\\n",
    "    .reset_index().query('exp_id>1')['device_id_hash']"
   ]
  },
  {
   "cell_type": "code",
   "execution_count": 108,
   "id": "63f6ac8a",
   "metadata": {
    "scrolled": true
   },
   "outputs": [
    {
     "data": {
      "text/plain": [
       "Series([], Name: device_id_hash, dtype: int64)"
      ]
     },
     "execution_count": 108,
     "metadata": {},
     "output_type": "execute_result"
    }
   ],
   "source": [
    "bad_clients"
   ]
  },
  {
   "cell_type": "markdown",
   "id": "bea50806",
   "metadata": {},
   "source": [
    "Таких пользователей нет, соответственно, группы не пересекаются."
   ]
  },
  {
   "cell_type": "markdown",
   "id": "8cf093a9",
   "metadata": {},
   "source": [
    "Посчитаем распределение пользователей всех трех групп по 5-ти событям. "
   ]
  },
  {
   "cell_type": "code",
   "execution_count": 109,
   "id": "1fb26389",
   "metadata": {},
   "outputs": [],
   "source": [
    "df_events_groups_2 = df_filtered.query('exp_id == 246').groupby('event_name').agg({'device_id_hash' : 'nunique'}).reset_index()\n",
    "\n",
    "df_events_groups_3 = df_filtered.query('exp_id == 247').groupby('event_name').agg({'device_id_hash' : 'nunique'}).reset_index()\n",
    "\n",
    "df_events_groups_4 = df_filtered.query('exp_id == 248').groupby('event_name').agg({'device_id_hash' : 'nunique'}).reset_index()\n",
    "\n",
    "df_events_groups = df_events_groups_2.merge(df_events_groups_3, on='event_name', how='left')\n",
    "df_events_groups = df_events_groups.merge(df_events_groups_4, on='event_name', how='left')\n",
    "\n",
    "df_events_groups.columns = ['event_name', '246', '247', '248']"
   ]
  },
  {
   "cell_type": "code",
   "execution_count": 110,
   "id": "471f9dae",
   "metadata": {},
   "outputs": [],
   "source": [
    "new_row_all = {'event_name':'all_users', '246':2450, '247':2480, '248':2503}"
   ]
  },
  {
   "cell_type": "code",
   "execution_count": 111,
   "id": "f46de814",
   "metadata": {},
   "outputs": [],
   "source": [
    "df_events_groups = df_events_groups.append(new_row_all, ignore_index=True)"
   ]
  },
  {
   "cell_type": "code",
   "execution_count": 112,
   "id": "48108ba9",
   "metadata": {
    "scrolled": true
   },
   "outputs": [
    {
     "data": {
      "text/html": [
       "<div>\n",
       "<style scoped>\n",
       "    .dataframe tbody tr th:only-of-type {\n",
       "        vertical-align: middle;\n",
       "    }\n",
       "\n",
       "    .dataframe tbody tr th {\n",
       "        vertical-align: top;\n",
       "    }\n",
       "\n",
       "    .dataframe thead th {\n",
       "        text-align: right;\n",
       "    }\n",
       "</style>\n",
       "<table border=\"1\" class=\"dataframe\">\n",
       "  <thead>\n",
       "    <tr style=\"text-align: right;\">\n",
       "      <th></th>\n",
       "      <th>event_name</th>\n",
       "      <th>246</th>\n",
       "      <th>247</th>\n",
       "      <th>248</th>\n",
       "    </tr>\n",
       "  </thead>\n",
       "  <tbody>\n",
       "    <tr>\n",
       "      <th>5</th>\n",
       "      <td>all_users</td>\n",
       "      <td>2450</td>\n",
       "      <td>2480</td>\n",
       "      <td>2503</td>\n",
       "    </tr>\n",
       "    <tr>\n",
       "      <th>1</th>\n",
       "      <td>MainScreenAppear</td>\n",
       "      <td>2430</td>\n",
       "      <td>2463</td>\n",
       "      <td>2474</td>\n",
       "    </tr>\n",
       "    <tr>\n",
       "      <th>2</th>\n",
       "      <td>OffersScreenAppear</td>\n",
       "      <td>1528</td>\n",
       "      <td>1501</td>\n",
       "      <td>1523</td>\n",
       "    </tr>\n",
       "    <tr>\n",
       "      <th>0</th>\n",
       "      <td>CartScreenAppear</td>\n",
       "      <td>1260</td>\n",
       "      <td>1230</td>\n",
       "      <td>1220</td>\n",
       "    </tr>\n",
       "    <tr>\n",
       "      <th>3</th>\n",
       "      <td>PaymentScreenSuccessful</td>\n",
       "      <td>1193</td>\n",
       "      <td>1151</td>\n",
       "      <td>1171</td>\n",
       "    </tr>\n",
       "    <tr>\n",
       "      <th>4</th>\n",
       "      <td>Tutorial</td>\n",
       "      <td>265</td>\n",
       "      <td>269</td>\n",
       "      <td>267</td>\n",
       "    </tr>\n",
       "  </tbody>\n",
       "</table>\n",
       "</div>"
      ],
      "text/plain": [
       "                event_name   246   247   248\n",
       "5                all_users  2450  2480  2503\n",
       "1         MainScreenAppear  2430  2463  2474\n",
       "2       OffersScreenAppear  1528  1501  1523\n",
       "0         CartScreenAppear  1260  1230  1220\n",
       "3  PaymentScreenSuccessful  1193  1151  1171\n",
       "4                 Tutorial   265   269   267"
      ]
     },
     "execution_count": 112,
     "metadata": {},
     "output_type": "execute_result"
    }
   ],
   "source": [
    "df_events_groups.sort_values(by='246', ascending=False)"
   ]
  },
  {
   "cell_type": "markdown",
   "id": "fed47232",
   "metadata": {},
   "source": [
    "Сравним контрольные группы (246 и 247)"
   ]
  },
  {
   "cell_type": "markdown",
   "id": "f7c3d92e",
   "metadata": {},
   "source": [
    "H0 - между долями нет значимой разницы;\n",
    "\n",
    "H1 - между долями есть значимая разница;"
   ]
  },
  {
   "cell_type": "code",
   "execution_count": 113,
   "id": "e3fac3a1",
   "metadata": {},
   "outputs": [],
   "source": [
    "def check_hypothesis(successes1, successes2, trials1, trials2, alpha=0.01):\n",
    "    # пропорция успехов в первой группе:\n",
    "    p1 = successes1/trials1\n",
    "\n",
    "    # пропорция успехов во второй группе:\n",
    "    p2 = successes2/trials2\n",
    "\n",
    "    # пропорция успехов в комбинированном датасете:\n",
    "    p_combined = (successes1 + successes2) / (trials1 + trials2)\n",
    "\n",
    "    # разница пропорций в датасетах\n",
    "    difference = p1 - p2\n",
    "    \n",
    "    # считаем статистику в ст.отклонениях стандартного нормального распределения\n",
    "    z_value = difference / mth.sqrt(p_combined * (1 - p_combined) * (1/trials1 + 1/trials2))\n",
    "\n",
    "    # задаем стандартное нормальное распределение (среднее 0, ст.отклонение 1)\n",
    "    distr = st.norm(0, 1) \n",
    "\n",
    "    # считаем статистику в ст.отклонениях стандартного нормального распределения\n",
    "    z_value = difference / mth.sqrt(p_combined * (1 - p_combined) * (1/trials1 + 1/trials2))\n",
    "\n",
    "\n",
    "    p_value = (1 - distr.cdf(abs(z_value))) * 2\n",
    "\n",
    "    print('p-значение: ', p_value)\n",
    "\n",
    "    if (p_value < alpha):\n",
    "        print(\"Отвергаем нулевую гипотезу: между долями есть значимая разница\")\n",
    "    else:\n",
    "        print(\"Не получилось отвергнуть нулевую гипотезу, нет оснований считать доли разными\")"
   ]
  },
  {
   "cell_type": "code",
   "execution_count": 114,
   "id": "c84f459a",
   "metadata": {},
   "outputs": [
    {
     "name": "stdout",
     "output_type": "stream",
     "text": [
      "p-значение:  0.5945718968689468\n",
      "Не получилось отвергнуть нулевую гипотезу, нет оснований считать доли разными\n"
     ]
    }
   ],
   "source": [
    "#MainScreenAppear\n",
    "check_hypothesis(df_events_groups.loc[1, '246'],\n",
    "                 df_events_groups.loc[1, '247'],\n",
    "                 df_events_groups.loc[5, '246'],\n",
    "                 df_events_groups.loc[5, '247'],\n",
    "                )"
   ]
  },
  {
   "cell_type": "code",
   "execution_count": 115,
   "id": "47610568",
   "metadata": {},
   "outputs": [
    {
     "name": "stdout",
     "output_type": "stream",
     "text": [
      "p-значение:  0.18371860954761843\n",
      "Не получилось отвергнуть нулевую гипотезу, нет оснований считать доли разными\n"
     ]
    }
   ],
   "source": [
    "#OffersScreenAppear\n",
    "check_hypothesis(df_events_groups.loc[2, '246'],\n",
    "                 df_events_groups.loc[2, '247'],\n",
    "                 df_events_groups.loc[5, '246'],\n",
    "                 df_events_groups.loc[5, '247'],\n",
    "                )"
   ]
  },
  {
   "cell_type": "code",
   "execution_count": 116,
   "id": "d18f88ec",
   "metadata": {},
   "outputs": [
    {
     "name": "stdout",
     "output_type": "stream",
     "text": [
      "p-значение:  0.19836640012803985\n",
      "Не получилось отвергнуть нулевую гипотезу, нет оснований считать доли разными\n"
     ]
    }
   ],
   "source": [
    "#CartScreenAppear\n",
    "check_hypothesis(df_events_groups.loc[0, '246'],\n",
    "                 df_events_groups.loc[0, '247'],\n",
    "                 df_events_groups.loc[5, '246'],\n",
    "                 df_events_groups.loc[5, '247'],\n",
    "                )"
   ]
  },
  {
   "cell_type": "code",
   "execution_count": 117,
   "id": "6d775506",
   "metadata": {},
   "outputs": [
    {
     "name": "stdout",
     "output_type": "stream",
     "text": [
      "p-значение:  0.1085819644524586\n",
      "Не получилось отвергнуть нулевую гипотезу, нет оснований считать доли разными\n"
     ]
    }
   ],
   "source": [
    "#PaymentScreenSuccessful\n",
    "check_hypothesis(df_events_groups.loc[3, '246'],\n",
    "                 df_events_groups.loc[3, '247'],\n",
    "                 df_events_groups.loc[5, '246'],\n",
    "                 df_events_groups.loc[5, '247'],\n",
    "                )"
   ]
  },
  {
   "cell_type": "markdown",
   "id": "e53f8106",
   "metadata": {},
   "source": [
    "При сравнении распределения пользователей двух контрольных групп по событиям во всемх случаях нам не удалось опровергнуть нулевую гипотезу. Это значит, что мы не можем статистически подтвердить разницу между двумя контрольными группами, а значит они подходят для проведения A/A/B эксперимента."
   ]
  },
  {
   "cell_type": "markdown",
   "id": "5ce32229",
   "metadata": {},
   "source": [
    "Сравним экспериментальную группу и первую контрольную группу (248 и 246)"
   ]
  },
  {
   "cell_type": "code",
   "execution_count": 118,
   "id": "631d930c",
   "metadata": {},
   "outputs": [
    {
     "name": "stdout",
     "output_type": "stream",
     "text": [
      "p-значение:  0.22363696254782295\n",
      "Не получилось отвергнуть нулевую гипотезу, нет оснований считать доли разными\n"
     ]
    }
   ],
   "source": [
    "#MainScreenAppear\n",
    "check_hypothesis(df_events_groups.loc[1, '246'],\n",
    "                 df_events_groups.loc[1, '248'],\n",
    "                 df_events_groups.loc[5, '246'],\n",
    "                 df_events_groups.loc[5, '248'],\n",
    "                )"
   ]
  },
  {
   "cell_type": "code",
   "execution_count": 119,
   "id": "e12fc5a7",
   "metadata": {},
   "outputs": [
    {
     "name": "stdout",
     "output_type": "stream",
     "text": [
      "p-значение:  0.27135864218610783\n",
      "Не получилось отвергнуть нулевую гипотезу, нет оснований считать доли разными\n"
     ]
    }
   ],
   "source": [
    "#OffersScreenAppear\n",
    "check_hypothesis(df_events_groups.loc[2, '246'],\n",
    "                 df_events_groups.loc[2, '248'],\n",
    "                 df_events_groups.loc[5, '246'],\n",
    "                 df_events_groups.loc[5, '248'],\n",
    "                )"
   ]
  },
  {
   "cell_type": "code",
   "execution_count": 120,
   "id": "93fe916e",
   "metadata": {},
   "outputs": [
    {
     "name": "stdout",
     "output_type": "stream",
     "text": [
      "p-значение:  0.09530919638710689\n",
      "Не получилось отвергнуть нулевую гипотезу, нет оснований считать доли разными\n"
     ]
    }
   ],
   "source": [
    "#CartScreenAppear\n",
    "check_hypothesis(df_events_groups.loc[0, '246'],\n",
    "                 df_events_groups.loc[0, '248'],\n",
    "                 df_events_groups.loc[2, '246'],\n",
    "                 df_events_groups.loc[2, '248'],\n",
    "                )"
   ]
  },
  {
   "cell_type": "code",
   "execution_count": 121,
   "id": "d97ce6d1",
   "metadata": {
    "scrolled": true
   },
   "outputs": [
    {
     "name": "stdout",
     "output_type": "stream",
     "text": [
      "p-значение:  0.17845215445196194\n",
      "Не получилось отвергнуть нулевую гипотезу, нет оснований считать доли разными\n"
     ]
    }
   ],
   "source": [
    "#PaymentScreenSuccessful\n",
    "check_hypothesis(df_events_groups.loc[3, '246'],\n",
    "                 df_events_groups.loc[3, '248'],\n",
    "                 df_events_groups.loc[5, '246'],\n",
    "                 df_events_groups.loc[5, '248'],\n",
    "                )"
   ]
  },
  {
   "cell_type": "markdown",
   "id": "f68615b8",
   "metadata": {},
   "source": [
    "При сравнении распределения пользователей первой контрольной группы и экспериментальной группы во всех случаях нам не удалось опровергнуть нулевую гипотезу. Это значит, что мы не можем статистически подтвердить разницу между этими группами."
   ]
  },
  {
   "cell_type": "markdown",
   "id": "641d84cf",
   "metadata": {},
   "source": [
    "Сравним экспериментальную группу и вторую контрольную группу (248 и 247)"
   ]
  },
  {
   "cell_type": "code",
   "execution_count": 122,
   "id": "bc0c30b3",
   "metadata": {},
   "outputs": [
    {
     "name": "stdout",
     "output_type": "stream",
     "text": [
      "p-значение:  0.08079445286479436\n",
      "Не получилось отвергнуть нулевую гипотезу, нет оснований считать доли разными\n"
     ]
    }
   ],
   "source": [
    "#MainScreenAppear\n",
    "check_hypothesis(df_events_groups.loc[1, '247'],\n",
    "                 df_events_groups.loc[1, '248'],\n",
    "                 df_events_groups.loc[5, '247'],\n",
    "                 df_events_groups.loc[5, '248'],\n",
    "                )"
   ]
  },
  {
   "cell_type": "code",
   "execution_count": 123,
   "id": "1b40c164",
   "metadata": {},
   "outputs": [
    {
     "name": "stdout",
     "output_type": "stream",
     "text": [
      "p-значение:  0.8155705711748202\n",
      "Не получилось отвергнуть нулевую гипотезу, нет оснований считать доли разными\n"
     ]
    }
   ],
   "source": [
    "#OffersScreenAppear\n",
    "check_hypothesis(df_events_groups.loc[2, '247'],\n",
    "                 df_events_groups.loc[2, '248'],\n",
    "                 df_events_groups.loc[5, '247'],\n",
    "                 df_events_groups.loc[5, '248'],\n",
    "                )"
   ]
  },
  {
   "cell_type": "code",
   "execution_count": 124,
   "id": "090403f8",
   "metadata": {},
   "outputs": [
    {
     "name": "stdout",
     "output_type": "stream",
     "text": [
      "p-значение:  0.5459690778262263\n",
      "Не получилось отвергнуть нулевую гипотезу, нет оснований считать доли разными\n"
     ]
    }
   ],
   "source": [
    "#CartScreenAppear\n",
    "check_hypothesis(df_events_groups.loc[0, '247'],\n",
    "                 df_events_groups.loc[0, '248'],\n",
    "                 df_events_groups.loc[5, '247'],\n",
    "                 df_events_groups.loc[5, '248'],\n",
    "                )"
   ]
  },
  {
   "cell_type": "code",
   "execution_count": 125,
   "id": "6270f1aa",
   "metadata": {
    "scrolled": true
   },
   "outputs": [
    {
     "name": "stdout",
     "output_type": "stream",
     "text": [
      "p-значение:  0.7920837018348257\n",
      "Не получилось отвергнуть нулевую гипотезу, нет оснований считать доли разными\n"
     ]
    }
   ],
   "source": [
    "#PaymentScreenSuccessful\n",
    "check_hypothesis(df_events_groups.loc[3, '247'],\n",
    "                 df_events_groups.loc[3, '248'],\n",
    "                 df_events_groups.loc[5, '247'],\n",
    "                 df_events_groups.loc[5, '248'],\n",
    "                )"
   ]
  },
  {
   "cell_type": "markdown",
   "id": "47647ca2",
   "metadata": {},
   "source": [
    "При сравнении распределения пользователей второй контрольной группы и экспериментальной группы во всех случаях нам не удалось опровергнуть нулевую гипотезу. Это значит, что мы не можем статистически подтвердить разницу между этими группами."
   ]
  },
  {
   "cell_type": "markdown",
   "id": "6e6c03bf",
   "metadata": {},
   "source": [
    "Сравним экспериментальную группу и объединенную контрольную группу (248 и 246+247)"
   ]
  },
  {
   "cell_type": "code",
   "execution_count": 126,
   "id": "397eccf4",
   "metadata": {
    "scrolled": false
   },
   "outputs": [
    {
     "data": {
      "text/html": [
       "<div>\n",
       "<style scoped>\n",
       "    .dataframe tbody tr th:only-of-type {\n",
       "        vertical-align: middle;\n",
       "    }\n",
       "\n",
       "    .dataframe tbody tr th {\n",
       "        vertical-align: top;\n",
       "    }\n",
       "\n",
       "    .dataframe thead th {\n",
       "        text-align: right;\n",
       "    }\n",
       "</style>\n",
       "<table border=\"1\" class=\"dataframe\">\n",
       "  <thead>\n",
       "    <tr style=\"text-align: right;\">\n",
       "      <th></th>\n",
       "      <th>event_name</th>\n",
       "      <th>246</th>\n",
       "      <th>247</th>\n",
       "      <th>248</th>\n",
       "      <th>246_247</th>\n",
       "    </tr>\n",
       "  </thead>\n",
       "  <tbody>\n",
       "    <tr>\n",
       "      <th>5</th>\n",
       "      <td>all_users</td>\n",
       "      <td>2450</td>\n",
       "      <td>2480</td>\n",
       "      <td>2503</td>\n",
       "      <td>4930</td>\n",
       "    </tr>\n",
       "    <tr>\n",
       "      <th>1</th>\n",
       "      <td>MainScreenAppear</td>\n",
       "      <td>2430</td>\n",
       "      <td>2463</td>\n",
       "      <td>2474</td>\n",
       "      <td>4893</td>\n",
       "    </tr>\n",
       "    <tr>\n",
       "      <th>2</th>\n",
       "      <td>OffersScreenAppear</td>\n",
       "      <td>1528</td>\n",
       "      <td>1501</td>\n",
       "      <td>1523</td>\n",
       "      <td>3029</td>\n",
       "    </tr>\n",
       "    <tr>\n",
       "      <th>0</th>\n",
       "      <td>CartScreenAppear</td>\n",
       "      <td>1260</td>\n",
       "      <td>1230</td>\n",
       "      <td>1220</td>\n",
       "      <td>2490</td>\n",
       "    </tr>\n",
       "    <tr>\n",
       "      <th>3</th>\n",
       "      <td>PaymentScreenSuccessful</td>\n",
       "      <td>1193</td>\n",
       "      <td>1151</td>\n",
       "      <td>1171</td>\n",
       "      <td>2344</td>\n",
       "    </tr>\n",
       "    <tr>\n",
       "      <th>4</th>\n",
       "      <td>Tutorial</td>\n",
       "      <td>265</td>\n",
       "      <td>269</td>\n",
       "      <td>267</td>\n",
       "      <td>534</td>\n",
       "    </tr>\n",
       "  </tbody>\n",
       "</table>\n",
       "</div>"
      ],
      "text/plain": [
       "                event_name   246   247   248  246_247\n",
       "5                all_users  2450  2480  2503     4930\n",
       "1         MainScreenAppear  2430  2463  2474     4893\n",
       "2       OffersScreenAppear  1528  1501  1523     3029\n",
       "0         CartScreenAppear  1260  1230  1220     2490\n",
       "3  PaymentScreenSuccessful  1193  1151  1171     2344\n",
       "4                 Tutorial   265   269   267      534"
      ]
     },
     "execution_count": 126,
     "metadata": {},
     "output_type": "execute_result"
    }
   ],
   "source": [
    "df_events_groups['246_247'] = df_events_groups['246'] + df_events_groups['247']\n",
    "\n",
    "df_events_groups.sort_values(by='246', ascending=False)"
   ]
  },
  {
   "cell_type": "code",
   "execution_count": 127,
   "id": "a06fd97a",
   "metadata": {},
   "outputs": [
    {
     "name": "stdout",
     "output_type": "stream",
     "text": [
      "p-значение:  0.07631042228420926\n",
      "Не получилось отвергнуть нулевую гипотезу, нет оснований считать доли разными\n"
     ]
    }
   ],
   "source": [
    "#MainScreenAppear\n",
    "check_hypothesis(df_events_groups.loc[1, '246_247'],\n",
    "                 df_events_groups.loc[1, '248'],\n",
    "                 df_events_groups.loc[5, '246_247'],\n",
    "                 df_events_groups.loc[5, '248'],\n",
    "                )"
   ]
  },
  {
   "cell_type": "code",
   "execution_count": 128,
   "id": "1a5e077b",
   "metadata": {},
   "outputs": [
    {
     "name": "stdout",
     "output_type": "stream",
     "text": [
      "p-значение:  0.6198403953553162\n",
      "Не получилось отвергнуть нулевую гипотезу, нет оснований считать доли разными\n"
     ]
    }
   ],
   "source": [
    "#OffersScreenAppear\n",
    "check_hypothesis(df_events_groups.loc[2, '246_247'],\n",
    "                 df_events_groups.loc[2, '248'],\n",
    "                 df_events_groups.loc[5, '246_247'],\n",
    "                 df_events_groups.loc[5, '248'],\n",
    "                )"
   ]
  },
  {
   "cell_type": "code",
   "execution_count": 129,
   "id": "07b3a8e9",
   "metadata": {},
   "outputs": [
    {
     "name": "stdout",
     "output_type": "stream",
     "text": [
      "p-значение:  0.15021497705192988\n",
      "Не получилось отвергнуть нулевую гипотезу, нет оснований считать доли разными\n"
     ]
    }
   ],
   "source": [
    "#CartScreenAppear\n",
    "check_hypothesis(df_events_groups.loc[0, '246_247'],\n",
    "                 df_events_groups.loc[0, '248'],\n",
    "                 df_events_groups.loc[5, '246_247'],\n",
    "                 df_events_groups.loc[5, '248'],\n",
    "                )"
   ]
  },
  {
   "cell_type": "code",
   "execution_count": 130,
   "id": "1a139d3d",
   "metadata": {},
   "outputs": [
    {
     "name": "stdout",
     "output_type": "stream",
     "text": [
      "p-значение:  0.5341490107446054\n",
      "Не получилось отвергнуть нулевую гипотезу, нет оснований считать доли разными\n"
     ]
    }
   ],
   "source": [
    "#PaymentScreenSuccessful\n",
    "check_hypothesis(df_events_groups.loc[3, '246_247'],\n",
    "                 df_events_groups.loc[3, '248'],\n",
    "                 df_events_groups.loc[5, '246_247'],\n",
    "                 df_events_groups.loc[5, '248'],\n",
    "                )"
   ]
  },
  {
   "cell_type": "markdown",
   "id": "6dd24978",
   "metadata": {},
   "source": [
    "При сравнении распределения пользователей объединенной контрольной группы и экспериментальной группы во всех случаях нам не удалось опровергнуть нулевую гипотезу. Это значит, что мы не можем статистически подтвердить разницу между этими группами."
   ]
  },
  {
   "cell_type": "markdown",
   "id": "e9be78a9",
   "metadata": {},
   "source": [
    "Всего мы провели 16 проверок статистических гипотез. Уровень значимости выбран 0.01. Т.е. ложный результат мы можем получить только в каждом сотом эксперименте. Обычно при выборе уровня значимости предлагают обратить внимание на объем выборки (см. https://www.statmethods.ru/stati/vybor-urovnya-znachimosti-pri-proverke-statisticheskikh-gipotez/). В нашем случае это тысячи испытуемых в каждой группе, а значит можно было провести эксперименты при уровне значимости в 0.001. Довольно легко просмотреть все 16 результатов и увидеть, что везде p-значение больше alpha, а значит тест уже в 100% показывает отсутствие разницы в поведении юзеров. "
   ]
  },
  {
   "cell_type": "markdown",
   "id": "ce8087d8",
   "metadata": {},
   "source": [
    "## Общие выводы"
   ]
  },
  {
   "cell_type": "markdown",
   "id": "525467f5",
   "metadata": {},
   "source": [
    "- Эксперимент проводился с участием 2-х контрольных групп и 1-й экспериментальной. Изучаемый фактор - изменение шрифта приложения.\n",
    "- Были использованы данные за период 1-7 августа 2019, количество уникальных пользователей - 7488, которые проходили 5 шагов при заказе продуктов (4 из которых мы включили в воронку событий). Количество произошедших событий в сумме - 232441 (в среднем 31 событие на одного пользователя.) Было также обнаружено, что 483 юзеров (ок 6,3%) совершали аномальное большое количество действий. \n",
    "- Перечень событий - Посещение главной страницы, Посещение страницы с оффером, Посещение страницы с оплатой, Посещение страницы с успешным проведением оплаты и наконец страницы с инструкцией. Больше всего пользователей мы теряем на втором шаге воронки (38,3% юзеров не доходят до страницы с оффером). От первого события до оплаты доходит 47,7% юзеров из первого шага или 46,8% от общего количество юзеров из фильтрованного по времени датасета.\n",
    "- Общий вывод по результатам A/A/B-теста: во всех случаях нам не удалось найти разницу в поведении пользователей в случае изменения шрифта. "
   ]
  }
 ],
 "metadata": {
  "ExecuteTimeLog": [
   {
    "duration": 1262,
    "start_time": "2022-09-15T10:16:33.521Z"
   },
   {
    "duration": 521,
    "start_time": "2022-09-15T10:16:34.785Z"
   },
   {
    "duration": 18,
    "start_time": "2022-09-15T10:16:35.307Z"
   },
   {
    "duration": 112,
    "start_time": "2022-09-15T10:16:35.326Z"
   },
   {
    "duration": 66,
    "start_time": "2022-09-15T10:16:35.440Z"
   },
   {
    "duration": 88,
    "start_time": "2022-09-15T10:16:35.508Z"
   },
   {
    "duration": 23,
    "start_time": "2022-09-15T10:16:35.598Z"
   },
   {
    "duration": 13,
    "start_time": "2022-09-15T10:16:35.624Z"
   },
   {
    "duration": 113,
    "start_time": "2022-09-15T10:16:35.639Z"
   },
   {
    "duration": 17,
    "start_time": "2022-09-15T10:16:35.754Z"
   },
   {
    "duration": 7,
    "start_time": "2022-09-15T10:16:35.773Z"
   },
   {
    "duration": 51,
    "start_time": "2022-09-15T10:16:35.781Z"
   },
   {
    "duration": 10,
    "start_time": "2022-09-15T10:16:35.833Z"
   },
   {
    "duration": 12,
    "start_time": "2022-09-15T10:16:35.846Z"
   },
   {
    "duration": 13,
    "start_time": "2022-09-15T10:16:35.860Z"
   },
   {
    "duration": 5,
    "start_time": "2022-09-15T10:16:35.874Z"
   },
   {
    "duration": 1427,
    "start_time": "2022-09-15T10:16:35.909Z"
   },
   {
    "duration": 16,
    "start_time": "2022-09-15T10:16:37.337Z"
   },
   {
    "duration": 25,
    "start_time": "2022-09-15T10:16:37.355Z"
   },
   {
    "duration": 113,
    "start_time": "2022-09-15T10:16:37.381Z"
   },
   {
    "duration": 32,
    "start_time": "2022-09-15T10:16:37.496Z"
   },
   {
    "duration": 48,
    "start_time": "2022-09-15T10:16:37.529Z"
   },
   {
    "duration": 3,
    "start_time": "2022-09-15T10:16:37.578Z"
   },
   {
    "duration": 6,
    "start_time": "2022-09-15T10:16:37.583Z"
   },
   {
    "duration": 40,
    "start_time": "2022-09-15T10:16:37.590Z"
   },
   {
    "duration": 188,
    "start_time": "2022-09-15T10:16:37.632Z"
   },
   {
    "duration": 135,
    "start_time": "2022-09-15T10:16:37.822Z"
   },
   {
    "duration": 61,
    "start_time": "2022-09-15T10:16:37.958Z"
   },
   {
    "duration": 40,
    "start_time": "2022-09-15T10:16:38.023Z"
   },
   {
    "duration": 4,
    "start_time": "2022-09-15T10:16:38.065Z"
   },
   {
    "duration": 81,
    "start_time": "2022-09-15T10:16:38.071Z"
   },
   {
    "duration": 3,
    "start_time": "2022-09-15T10:16:38.153Z"
   },
   {
    "duration": 12,
    "start_time": "2022-09-15T10:16:38.158Z"
   },
   {
    "duration": 10,
    "start_time": "2022-09-15T10:16:38.172Z"
   },
   {
    "duration": 9,
    "start_time": "2022-09-15T10:16:38.184Z"
   },
   {
    "duration": 154,
    "start_time": "2022-09-15T10:16:38.194Z"
   },
   {
    "duration": 0,
    "start_time": "2022-09-15T10:16:38.349Z"
   },
   {
    "duration": 0,
    "start_time": "2022-09-15T10:16:38.350Z"
   },
   {
    "duration": 0,
    "start_time": "2022-09-15T10:16:38.351Z"
   },
   {
    "duration": 0,
    "start_time": "2022-09-15T10:16:38.352Z"
   },
   {
    "duration": 0,
    "start_time": "2022-09-15T10:16:38.353Z"
   },
   {
    "duration": 0,
    "start_time": "2022-09-15T10:16:38.353Z"
   },
   {
    "duration": 0,
    "start_time": "2022-09-15T10:16:38.354Z"
   },
   {
    "duration": 0,
    "start_time": "2022-09-15T10:16:38.355Z"
   },
   {
    "duration": 0,
    "start_time": "2022-09-15T10:16:38.356Z"
   },
   {
    "duration": 0,
    "start_time": "2022-09-15T10:16:38.357Z"
   },
   {
    "duration": 0,
    "start_time": "2022-09-15T10:16:38.357Z"
   },
   {
    "duration": 0,
    "start_time": "2022-09-15T10:16:38.359Z"
   },
   {
    "duration": 0,
    "start_time": "2022-09-15T10:16:38.360Z"
   },
   {
    "duration": 0,
    "start_time": "2022-09-15T10:16:38.360Z"
   },
   {
    "duration": 0,
    "start_time": "2022-09-15T10:16:38.361Z"
   },
   {
    "duration": 0,
    "start_time": "2022-09-15T10:16:38.362Z"
   },
   {
    "duration": 43,
    "start_time": "2022-09-15T10:25:22.368Z"
   },
   {
    "duration": 7,
    "start_time": "2022-09-15T10:39:19.057Z"
   },
   {
    "duration": 9,
    "start_time": "2022-09-15T10:40:13.795Z"
   },
   {
    "duration": 9,
    "start_time": "2022-09-15T10:40:28.189Z"
   },
   {
    "duration": 1065,
    "start_time": "2022-09-15T10:40:39.222Z"
   },
   {
    "duration": 154,
    "start_time": "2022-09-15T10:40:40.288Z"
   },
   {
    "duration": 3,
    "start_time": "2022-09-15T10:40:40.444Z"
   },
   {
    "duration": 97,
    "start_time": "2022-09-15T10:40:40.449Z"
   },
   {
    "duration": 75,
    "start_time": "2022-09-15T10:40:40.547Z"
   },
   {
    "duration": 97,
    "start_time": "2022-09-15T10:40:40.624Z"
   },
   {
    "duration": 8,
    "start_time": "2022-09-15T10:40:40.723Z"
   },
   {
    "duration": 12,
    "start_time": "2022-09-15T10:40:40.733Z"
   },
   {
    "duration": 129,
    "start_time": "2022-09-15T10:40:40.746Z"
   },
   {
    "duration": 18,
    "start_time": "2022-09-15T10:40:40.878Z"
   },
   {
    "duration": 16,
    "start_time": "2022-09-15T10:40:40.898Z"
   },
   {
    "duration": 31,
    "start_time": "2022-09-15T10:40:40.916Z"
   },
   {
    "duration": 17,
    "start_time": "2022-09-15T10:40:40.948Z"
   },
   {
    "duration": 10,
    "start_time": "2022-09-15T10:40:40.967Z"
   },
   {
    "duration": 14,
    "start_time": "2022-09-15T10:40:40.979Z"
   },
   {
    "duration": 4,
    "start_time": "2022-09-15T10:40:40.994Z"
   },
   {
    "duration": 1376,
    "start_time": "2022-09-15T10:40:41.000Z"
   },
   {
    "duration": 16,
    "start_time": "2022-09-15T10:40:42.378Z"
   },
   {
    "duration": 43,
    "start_time": "2022-09-15T10:40:42.395Z"
   },
   {
    "duration": 105,
    "start_time": "2022-09-15T10:40:42.439Z"
   },
   {
    "duration": 22,
    "start_time": "2022-09-15T10:40:42.548Z"
   },
   {
    "duration": 58,
    "start_time": "2022-09-15T10:40:42.572Z"
   },
   {
    "duration": 4,
    "start_time": "2022-09-15T10:40:42.632Z"
   },
   {
    "duration": 12,
    "start_time": "2022-09-15T10:40:42.638Z"
   },
   {
    "duration": 16,
    "start_time": "2022-09-15T10:40:42.651Z"
   },
   {
    "duration": 219,
    "start_time": "2022-09-15T10:40:42.669Z"
   },
   {
    "duration": 138,
    "start_time": "2022-09-15T10:40:42.889Z"
   },
   {
    "duration": 6,
    "start_time": "2022-09-15T10:40:43.032Z"
   },
   {
    "duration": 34,
    "start_time": "2022-09-15T10:40:43.040Z"
   },
   {
    "duration": 4,
    "start_time": "2022-09-15T10:40:43.075Z"
   },
   {
    "duration": 67,
    "start_time": "2022-09-15T10:40:43.110Z"
   },
   {
    "duration": 3,
    "start_time": "2022-09-15T10:40:43.178Z"
   },
   {
    "duration": 8,
    "start_time": "2022-09-15T10:40:43.182Z"
   },
   {
    "duration": 34,
    "start_time": "2022-09-15T10:40:43.191Z"
   },
   {
    "duration": 5,
    "start_time": "2022-09-15T10:40:43.227Z"
   },
   {
    "duration": 127,
    "start_time": "2022-09-15T10:40:43.234Z"
   },
   {
    "duration": 0,
    "start_time": "2022-09-15T10:40:43.363Z"
   },
   {
    "duration": 0,
    "start_time": "2022-09-15T10:40:43.365Z"
   },
   {
    "duration": 0,
    "start_time": "2022-09-15T10:40:43.366Z"
   },
   {
    "duration": 0,
    "start_time": "2022-09-15T10:40:43.367Z"
   },
   {
    "duration": 0,
    "start_time": "2022-09-15T10:40:43.368Z"
   },
   {
    "duration": 0,
    "start_time": "2022-09-15T10:40:43.369Z"
   },
   {
    "duration": 0,
    "start_time": "2022-09-15T10:40:43.371Z"
   },
   {
    "duration": 0,
    "start_time": "2022-09-15T10:40:43.373Z"
   },
   {
    "duration": 0,
    "start_time": "2022-09-15T10:40:43.374Z"
   },
   {
    "duration": 0,
    "start_time": "2022-09-15T10:40:43.375Z"
   },
   {
    "duration": 0,
    "start_time": "2022-09-15T10:40:43.376Z"
   },
   {
    "duration": 0,
    "start_time": "2022-09-15T10:40:43.378Z"
   },
   {
    "duration": 0,
    "start_time": "2022-09-15T10:40:43.379Z"
   },
   {
    "duration": 0,
    "start_time": "2022-09-15T10:40:43.380Z"
   },
   {
    "duration": 0,
    "start_time": "2022-09-15T10:40:43.381Z"
   },
   {
    "duration": 0,
    "start_time": "2022-09-15T10:40:43.382Z"
   },
   {
    "duration": 5,
    "start_time": "2022-09-15T10:40:57.722Z"
   },
   {
    "duration": 5,
    "start_time": "2022-09-15T10:40:58.255Z"
   },
   {
    "duration": 5,
    "start_time": "2022-09-15T10:41:01.435Z"
   },
   {
    "duration": 4,
    "start_time": "2022-09-15T10:41:01.695Z"
   },
   {
    "duration": 4,
    "start_time": "2022-09-15T10:41:01.922Z"
   },
   {
    "duration": 5,
    "start_time": "2022-09-15T10:41:02.751Z"
   },
   {
    "duration": 5,
    "start_time": "2022-09-15T10:41:02.995Z"
   },
   {
    "duration": 4,
    "start_time": "2022-09-15T10:41:03.234Z"
   },
   {
    "duration": 5,
    "start_time": "2022-09-15T10:41:03.453Z"
   },
   {
    "duration": 5,
    "start_time": "2022-09-15T10:41:04.078Z"
   },
   {
    "duration": 5,
    "start_time": "2022-09-15T10:41:04.274Z"
   },
   {
    "duration": 5,
    "start_time": "2022-09-15T10:41:04.473Z"
   },
   {
    "duration": 5,
    "start_time": "2022-09-15T10:41:04.776Z"
   },
   {
    "duration": 8,
    "start_time": "2022-09-15T10:41:05.695Z"
   },
   {
    "duration": 5,
    "start_time": "2022-09-15T10:41:06.022Z"
   },
   {
    "duration": 4,
    "start_time": "2022-09-15T10:43:41.294Z"
   },
   {
    "duration": 3,
    "start_time": "2022-09-15T10:44:09.363Z"
   },
   {
    "duration": 8,
    "start_time": "2022-09-15T10:44:48.739Z"
   },
   {
    "duration": 4,
    "start_time": "2022-09-15T10:45:35.873Z"
   },
   {
    "duration": 7,
    "start_time": "2022-09-15T10:45:45.472Z"
   },
   {
    "duration": 4,
    "start_time": "2022-09-15T10:46:24.334Z"
   },
   {
    "duration": 4,
    "start_time": "2022-09-15T10:48:05.062Z"
   },
   {
    "duration": 44,
    "start_time": "2022-09-16T16:00:08.535Z"
   },
   {
    "duration": 1289,
    "start_time": "2022-09-16T16:00:13.472Z"
   },
   {
    "duration": 712,
    "start_time": "2022-09-16T16:00:14.763Z"
   },
   {
    "duration": 3,
    "start_time": "2022-09-16T16:00:15.477Z"
   },
   {
    "duration": 96,
    "start_time": "2022-09-16T16:00:15.482Z"
   },
   {
    "duration": 61,
    "start_time": "2022-09-16T16:00:15.580Z"
   },
   {
    "duration": 83,
    "start_time": "2022-09-16T16:00:15.643Z"
   },
   {
    "duration": 94,
    "start_time": "2022-09-16T16:00:15.727Z"
   },
   {
    "duration": 7,
    "start_time": "2022-09-16T16:00:15.823Z"
   },
   {
    "duration": 23,
    "start_time": "2022-09-16T16:00:15.832Z"
   },
   {
    "duration": 114,
    "start_time": "2022-09-16T16:00:15.859Z"
   },
   {
    "duration": 19,
    "start_time": "2022-09-16T16:00:15.977Z"
   },
   {
    "duration": 8,
    "start_time": "2022-09-16T16:00:15.997Z"
   },
   {
    "duration": 21,
    "start_time": "2022-09-16T16:00:16.006Z"
   },
   {
    "duration": 13,
    "start_time": "2022-09-16T16:00:16.028Z"
   },
   {
    "duration": 11,
    "start_time": "2022-09-16T16:00:16.042Z"
   },
   {
    "duration": 14,
    "start_time": "2022-09-16T16:00:16.076Z"
   },
   {
    "duration": 4,
    "start_time": "2022-09-16T16:00:16.092Z"
   },
   {
    "duration": 1292,
    "start_time": "2022-09-16T16:00:16.098Z"
   },
   {
    "duration": 17,
    "start_time": "2022-09-16T16:00:17.392Z"
   },
   {
    "duration": 23,
    "start_time": "2022-09-16T16:00:17.411Z"
   },
   {
    "duration": 109,
    "start_time": "2022-09-16T16:00:17.436Z"
   },
   {
    "duration": 19,
    "start_time": "2022-09-16T16:00:17.547Z"
   },
   {
    "duration": 53,
    "start_time": "2022-09-16T16:00:17.578Z"
   },
   {
    "duration": 5,
    "start_time": "2022-09-16T16:00:17.632Z"
   },
   {
    "duration": 17,
    "start_time": "2022-09-16T16:00:17.638Z"
   },
   {
    "duration": 14,
    "start_time": "2022-09-16T16:00:17.656Z"
   },
   {
    "duration": 196,
    "start_time": "2022-09-16T16:00:17.677Z"
   },
   {
    "duration": 137,
    "start_time": "2022-09-16T16:00:17.877Z"
   },
   {
    "duration": 8,
    "start_time": "2022-09-16T16:00:18.016Z"
   },
   {
    "duration": 56,
    "start_time": "2022-09-16T16:00:18.026Z"
   },
   {
    "duration": 4,
    "start_time": "2022-09-16T16:00:18.083Z"
   },
   {
    "duration": 66,
    "start_time": "2022-09-16T16:00:18.089Z"
   },
   {
    "duration": 3,
    "start_time": "2022-09-16T16:00:18.156Z"
   },
   {
    "duration": 18,
    "start_time": "2022-09-16T16:00:18.160Z"
   },
   {
    "duration": 11,
    "start_time": "2022-09-16T16:00:18.179Z"
   },
   {
    "duration": 5,
    "start_time": "2022-09-16T16:00:18.191Z"
   },
   {
    "duration": 9,
    "start_time": "2022-09-16T16:00:18.198Z"
   },
   {
    "duration": 7,
    "start_time": "2022-09-16T16:00:18.209Z"
   },
   {
    "duration": 9,
    "start_time": "2022-09-16T16:00:18.218Z"
   },
   {
    "duration": 7,
    "start_time": "2022-09-16T16:00:18.228Z"
   },
   {
    "duration": 7,
    "start_time": "2022-09-16T16:00:18.236Z"
   },
   {
    "duration": 6,
    "start_time": "2022-09-16T16:00:18.244Z"
   },
   {
    "duration": 5,
    "start_time": "2022-09-16T16:00:18.251Z"
   },
   {
    "duration": 5,
    "start_time": "2022-09-16T16:00:18.278Z"
   },
   {
    "duration": 7,
    "start_time": "2022-09-16T16:00:18.284Z"
   },
   {
    "duration": 7,
    "start_time": "2022-09-16T16:00:18.292Z"
   },
   {
    "duration": 8,
    "start_time": "2022-09-16T16:00:18.300Z"
   },
   {
    "duration": 7,
    "start_time": "2022-09-16T16:00:18.309Z"
   },
   {
    "duration": 11,
    "start_time": "2022-09-16T16:00:18.317Z"
   },
   {
    "duration": 12,
    "start_time": "2022-09-16T16:00:18.329Z"
   },
   {
    "duration": 7,
    "start_time": "2022-09-16T16:00:18.342Z"
   },
   {
    "duration": 26,
    "start_time": "2022-09-16T16:00:18.351Z"
   },
   {
    "duration": 5,
    "start_time": "2022-09-16T16:00:18.379Z"
   },
   {
    "duration": 56,
    "start_time": "2022-09-16T16:01:02.971Z"
   },
   {
    "duration": 4,
    "start_time": "2022-09-16T16:01:14.751Z"
   },
   {
    "duration": 138,
    "start_time": "2022-09-16T16:01:14.756Z"
   },
   {
    "duration": 3,
    "start_time": "2022-09-16T16:01:14.896Z"
   },
   {
    "duration": 84,
    "start_time": "2022-09-16T16:01:14.900Z"
   },
   {
    "duration": 48,
    "start_time": "2022-09-16T16:01:14.986Z"
   },
   {
    "duration": 49,
    "start_time": "2022-09-16T16:02:00.387Z"
   },
   {
    "duration": 49,
    "start_time": "2022-09-16T16:02:19.881Z"
   },
   {
    "duration": 59,
    "start_time": "2022-09-16T16:02:42.790Z"
   },
   {
    "duration": 1570,
    "start_time": "2022-09-16T16:05:42.705Z"
   },
   {
    "duration": 3,
    "start_time": "2022-09-16T16:05:50.553Z"
   },
   {
    "duration": 135,
    "start_time": "2022-09-16T16:05:50.557Z"
   },
   {
    "duration": 3,
    "start_time": "2022-09-16T16:05:50.694Z"
   },
   {
    "duration": 85,
    "start_time": "2022-09-16T16:05:50.698Z"
   },
   {
    "duration": 47,
    "start_time": "2022-09-16T16:05:50.785Z"
   },
   {
    "duration": 70,
    "start_time": "2022-09-16T16:05:50.834Z"
   },
   {
    "duration": 63,
    "start_time": "2022-09-16T16:05:50.905Z"
   },
   {
    "duration": 7,
    "start_time": "2022-09-16T16:05:50.977Z"
   },
   {
    "duration": 11,
    "start_time": "2022-09-16T16:05:50.986Z"
   },
   {
    "duration": 117,
    "start_time": "2022-09-16T16:05:50.998Z"
   },
   {
    "duration": 18,
    "start_time": "2022-09-16T16:05:51.118Z"
   },
   {
    "duration": 8,
    "start_time": "2022-09-16T16:05:51.137Z"
   },
   {
    "duration": 35,
    "start_time": "2022-09-16T16:05:51.146Z"
   },
   {
    "duration": 25,
    "start_time": "2022-09-16T16:05:51.183Z"
   },
   {
    "duration": 13,
    "start_time": "2022-09-16T16:09:53.772Z"
   },
   {
    "duration": 26,
    "start_time": "2022-09-16T16:09:57.548Z"
   },
   {
    "duration": 74,
    "start_time": "2022-09-16T16:12:42.332Z"
   },
   {
    "duration": 36,
    "start_time": "2022-09-16T16:13:10.534Z"
   },
   {
    "duration": 29,
    "start_time": "2022-09-16T16:13:26.462Z"
   },
   {
    "duration": 33,
    "start_time": "2022-09-16T16:13:56.826Z"
   },
   {
    "duration": 3,
    "start_time": "2022-09-16T16:14:29.963Z"
   },
   {
    "duration": 138,
    "start_time": "2022-09-16T16:14:29.967Z"
   },
   {
    "duration": 3,
    "start_time": "2022-09-16T16:14:30.107Z"
   },
   {
    "duration": 82,
    "start_time": "2022-09-16T16:14:30.111Z"
   },
   {
    "duration": 49,
    "start_time": "2022-09-16T16:14:30.195Z"
   },
   {
    "duration": 68,
    "start_time": "2022-09-16T16:14:30.245Z"
   },
   {
    "duration": 79,
    "start_time": "2022-09-16T16:14:30.315Z"
   },
   {
    "duration": 9,
    "start_time": "2022-09-16T16:14:30.395Z"
   },
   {
    "duration": 71,
    "start_time": "2022-09-16T16:14:30.405Z"
   },
   {
    "duration": 126,
    "start_time": "2022-09-16T16:14:30.478Z"
   },
   {
    "duration": 18,
    "start_time": "2022-09-16T16:14:30.607Z"
   },
   {
    "duration": 28,
    "start_time": "2022-09-16T16:14:30.626Z"
   },
   {
    "duration": 67,
    "start_time": "2022-09-16T16:14:30.656Z"
   },
   {
    "duration": 70,
    "start_time": "2022-09-16T16:14:30.724Z"
   },
   {
    "duration": 8,
    "start_time": "2022-09-16T16:14:30.795Z"
   },
   {
    "duration": 1287,
    "start_time": "2022-09-16T16:14:30.805Z"
   },
   {
    "duration": 12,
    "start_time": "2022-09-16T16:14:32.094Z"
   },
   {
    "duration": 36,
    "start_time": "2022-09-16T16:14:32.108Z"
   },
   {
    "duration": 36,
    "start_time": "2022-09-16T16:15:29.326Z"
   },
   {
    "duration": 13,
    "start_time": "2022-09-16T16:16:33.951Z"
   },
   {
    "duration": 7,
    "start_time": "2022-09-16T16:16:49.142Z"
   },
   {
    "duration": 7,
    "start_time": "2022-09-16T16:16:55.299Z"
   },
   {
    "duration": 12,
    "start_time": "2022-09-16T16:17:15.305Z"
   },
   {
    "duration": 40,
    "start_time": "2022-09-16T16:17:32.231Z"
   },
   {
    "duration": 56,
    "start_time": "2022-09-16T16:26:19.060Z"
   },
   {
    "duration": 53,
    "start_time": "2022-09-16T16:26:23.305Z"
   },
   {
    "duration": 72,
    "start_time": "2022-09-16T16:27:04.061Z"
   },
   {
    "duration": 26,
    "start_time": "2022-09-16T16:27:59.588Z"
   },
   {
    "duration": 3,
    "start_time": "2022-09-16T16:28:17.122Z"
   },
   {
    "duration": 137,
    "start_time": "2022-09-16T16:28:17.127Z"
   },
   {
    "duration": 3,
    "start_time": "2022-09-16T16:28:17.266Z"
   },
   {
    "duration": 75,
    "start_time": "2022-09-16T16:28:17.270Z"
   },
   {
    "duration": 63,
    "start_time": "2022-09-16T16:28:17.348Z"
   },
   {
    "duration": 65,
    "start_time": "2022-09-16T16:28:17.413Z"
   },
   {
    "duration": 63,
    "start_time": "2022-09-16T16:28:17.480Z"
   },
   {
    "duration": 7,
    "start_time": "2022-09-16T16:28:17.545Z"
   },
   {
    "duration": 27,
    "start_time": "2022-09-16T16:28:17.554Z"
   },
   {
    "duration": 142,
    "start_time": "2022-09-16T16:28:17.583Z"
   },
   {
    "duration": 21,
    "start_time": "2022-09-16T16:28:17.728Z"
   },
   {
    "duration": 26,
    "start_time": "2022-09-16T16:28:17.751Z"
   },
   {
    "duration": 25,
    "start_time": "2022-09-16T16:28:17.780Z"
   },
   {
    "duration": 34,
    "start_time": "2022-09-16T16:28:17.807Z"
   },
   {
    "duration": 4,
    "start_time": "2022-09-16T16:28:25.587Z"
   },
   {
    "duration": 140,
    "start_time": "2022-09-16T16:28:25.592Z"
   },
   {
    "duration": 3,
    "start_time": "2022-09-16T16:28:25.734Z"
   },
   {
    "duration": 89,
    "start_time": "2022-09-16T16:28:25.738Z"
   },
   {
    "duration": 62,
    "start_time": "2022-09-16T16:28:25.830Z"
   },
   {
    "duration": 54,
    "start_time": "2022-09-16T16:28:25.894Z"
   },
   {
    "duration": 83,
    "start_time": "2022-09-16T16:28:25.950Z"
   },
   {
    "duration": 9,
    "start_time": "2022-09-16T16:28:26.035Z"
   },
   {
    "duration": 11,
    "start_time": "2022-09-16T16:28:26.046Z"
   },
   {
    "duration": 134,
    "start_time": "2022-09-16T16:28:26.058Z"
   },
   {
    "duration": 19,
    "start_time": "2022-09-16T16:28:26.194Z"
   },
   {
    "duration": 9,
    "start_time": "2022-09-16T16:28:26.215Z"
   },
   {
    "duration": 23,
    "start_time": "2022-09-16T16:28:26.225Z"
   },
   {
    "duration": 48,
    "start_time": "2022-09-16T16:28:26.249Z"
   },
   {
    "duration": 28,
    "start_time": "2022-09-16T16:28:26.298Z"
   },
   {
    "duration": 18,
    "start_time": "2022-09-16T16:28:34.529Z"
   },
   {
    "duration": 25,
    "start_time": "2022-09-16T16:28:46.407Z"
   },
   {
    "duration": 13,
    "start_time": "2022-09-16T16:29:40.750Z"
   },
   {
    "duration": 16,
    "start_time": "2022-09-16T16:30:58.673Z"
   },
   {
    "duration": 20,
    "start_time": "2022-09-16T16:31:03.245Z"
   },
   {
    "duration": 24,
    "start_time": "2022-09-16T16:31:13.506Z"
   },
   {
    "duration": 12,
    "start_time": "2022-09-16T16:32:23.211Z"
   },
   {
    "duration": 11,
    "start_time": "2022-09-16T16:34:26.765Z"
   },
   {
    "duration": 3,
    "start_time": "2022-09-16T16:34:34.605Z"
   },
   {
    "duration": 142,
    "start_time": "2022-09-16T16:34:34.610Z"
   },
   {
    "duration": 3,
    "start_time": "2022-09-16T16:34:34.754Z"
   },
   {
    "duration": 84,
    "start_time": "2022-09-16T16:34:34.758Z"
   },
   {
    "duration": 71,
    "start_time": "2022-09-16T16:34:34.844Z"
   },
   {
    "duration": 65,
    "start_time": "2022-09-16T16:34:34.917Z"
   },
   {
    "duration": 68,
    "start_time": "2022-09-16T16:34:34.983Z"
   },
   {
    "duration": 8,
    "start_time": "2022-09-16T16:34:35.053Z"
   },
   {
    "duration": 8,
    "start_time": "2022-09-16T16:34:35.078Z"
   },
   {
    "duration": 122,
    "start_time": "2022-09-16T16:34:35.087Z"
   },
   {
    "duration": 19,
    "start_time": "2022-09-16T16:34:35.211Z"
   },
   {
    "duration": 8,
    "start_time": "2022-09-16T16:34:35.232Z"
   },
   {
    "duration": 44,
    "start_time": "2022-09-16T16:34:35.241Z"
   },
   {
    "duration": 28,
    "start_time": "2022-09-16T16:34:35.287Z"
   },
   {
    "duration": 24,
    "start_time": "2022-09-16T16:34:35.317Z"
   },
   {
    "duration": 11,
    "start_time": "2022-09-16T16:34:52.519Z"
   },
   {
    "duration": 308,
    "start_time": "2022-09-16T16:34:56.729Z"
   },
   {
    "duration": 6484,
    "start_time": "2022-09-16T16:35:20.828Z"
   },
   {
    "duration": 449,
    "start_time": "2022-09-16T16:36:02.161Z"
   },
   {
    "duration": 346,
    "start_time": "2022-09-16T16:37:24.090Z"
   },
   {
    "duration": 356,
    "start_time": "2022-09-16T16:37:30.123Z"
   },
   {
    "duration": 295,
    "start_time": "2022-09-16T16:37:37.606Z"
   },
   {
    "duration": 163,
    "start_time": "2022-09-16T16:37:44.922Z"
   },
   {
    "duration": 141,
    "start_time": "2022-09-16T16:37:48.048Z"
   },
   {
    "duration": 143,
    "start_time": "2022-09-16T16:38:04.744Z"
   },
   {
    "duration": 129,
    "start_time": "2022-09-16T16:39:00.578Z"
   },
   {
    "duration": 123,
    "start_time": "2022-09-16T16:39:21.347Z"
   },
   {
    "duration": 123,
    "start_time": "2022-09-16T16:39:32.628Z"
   },
   {
    "duration": 102,
    "start_time": "2022-09-16T16:39:41.845Z"
   },
   {
    "duration": 108,
    "start_time": "2022-09-16T16:39:48.311Z"
   },
   {
    "duration": 106,
    "start_time": "2022-09-16T16:39:55.760Z"
   },
   {
    "duration": 97,
    "start_time": "2022-09-16T16:40:02.944Z"
   },
   {
    "duration": 170,
    "start_time": "2022-09-16T16:40:07.089Z"
   },
   {
    "duration": 5,
    "start_time": "2022-09-16T16:40:49.633Z"
   },
   {
    "duration": 7,
    "start_time": "2022-09-16T16:41:53.992Z"
   },
   {
    "duration": 11,
    "start_time": "2022-09-16T16:42:41.335Z"
   },
   {
    "duration": 86,
    "start_time": "2022-09-16T21:57:31.500Z"
   },
   {
    "duration": 92,
    "start_time": "2022-09-16T21:57:41.290Z"
   },
   {
    "duration": 71,
    "start_time": "2022-09-16T21:58:07.469Z"
   },
   {
    "duration": 3,
    "start_time": "2022-09-16T21:58:56.045Z"
   },
   {
    "duration": 141,
    "start_time": "2022-09-16T21:58:56.050Z"
   },
   {
    "duration": 3,
    "start_time": "2022-09-16T21:58:56.193Z"
   },
   {
    "duration": 97,
    "start_time": "2022-09-16T21:58:56.198Z"
   },
   {
    "duration": 48,
    "start_time": "2022-09-16T21:58:56.297Z"
   },
   {
    "duration": 79,
    "start_time": "2022-09-16T21:58:56.347Z"
   },
   {
    "duration": 80,
    "start_time": "2022-09-16T21:58:56.428Z"
   },
   {
    "duration": 7,
    "start_time": "2022-09-16T21:58:56.510Z"
   },
   {
    "duration": 10,
    "start_time": "2022-09-16T21:58:56.519Z"
   },
   {
    "duration": 123,
    "start_time": "2022-09-16T21:58:56.530Z"
   },
   {
    "duration": 28,
    "start_time": "2022-09-16T21:58:56.655Z"
   },
   {
    "duration": 8,
    "start_time": "2022-09-16T21:58:56.685Z"
   },
   {
    "duration": 24,
    "start_time": "2022-09-16T21:58:56.695Z"
   },
   {
    "duration": 30,
    "start_time": "2022-09-16T21:58:56.720Z"
   },
   {
    "duration": 60,
    "start_time": "2022-09-16T21:58:56.752Z"
   },
   {
    "duration": 108,
    "start_time": "2022-09-16T21:58:56.814Z"
   },
   {
    "duration": 118,
    "start_time": "2022-09-16T21:58:56.924Z"
   },
   {
    "duration": 11,
    "start_time": "2022-09-16T21:58:57.043Z"
   },
   {
    "duration": 24,
    "start_time": "2022-09-16T21:58:57.056Z"
   },
   {
    "duration": 1386,
    "start_time": "2022-09-16T21:58:57.081Z"
   },
   {
    "duration": 15,
    "start_time": "2022-09-16T21:58:58.468Z"
   },
   {
    "duration": 73,
    "start_time": "2022-09-16T21:58:58.485Z"
   },
   {
    "duration": 0,
    "start_time": "2022-09-16T21:58:58.560Z"
   },
   {
    "duration": 0,
    "start_time": "2022-09-16T21:58:58.561Z"
   },
   {
    "duration": 85,
    "start_time": "2022-09-16T21:59:10.916Z"
   },
   {
    "duration": 75,
    "start_time": "2022-09-16T21:59:42.456Z"
   },
   {
    "duration": 70,
    "start_time": "2022-09-16T22:01:03.625Z"
   },
   {
    "duration": 3,
    "start_time": "2022-09-16T22:01:18.938Z"
   },
   {
    "duration": 166,
    "start_time": "2022-09-16T22:01:18.943Z"
   },
   {
    "duration": 4,
    "start_time": "2022-09-16T22:01:19.111Z"
   },
   {
    "duration": 112,
    "start_time": "2022-09-16T22:01:19.117Z"
   },
   {
    "duration": 58,
    "start_time": "2022-09-16T22:01:19.231Z"
   },
   {
    "duration": 61,
    "start_time": "2022-09-16T22:01:19.292Z"
   },
   {
    "duration": 86,
    "start_time": "2022-09-16T22:01:19.354Z"
   },
   {
    "duration": 7,
    "start_time": "2022-09-16T22:01:19.442Z"
   },
   {
    "duration": 28,
    "start_time": "2022-09-16T22:01:19.451Z"
   },
   {
    "duration": 130,
    "start_time": "2022-09-16T22:01:19.482Z"
   },
   {
    "duration": 20,
    "start_time": "2022-09-16T22:01:19.616Z"
   },
   {
    "duration": 9,
    "start_time": "2022-09-16T22:01:19.637Z"
   },
   {
    "duration": 36,
    "start_time": "2022-09-16T22:01:19.648Z"
   },
   {
    "duration": 34,
    "start_time": "2022-09-16T22:01:19.687Z"
   },
   {
    "duration": 22,
    "start_time": "2022-09-16T22:01:19.723Z"
   },
   {
    "duration": 130,
    "start_time": "2022-09-16T22:01:19.747Z"
   },
   {
    "duration": 133,
    "start_time": "2022-09-16T22:01:19.879Z"
   },
   {
    "duration": 13,
    "start_time": "2022-09-16T22:01:20.014Z"
   },
   {
    "duration": 8,
    "start_time": "2022-09-16T22:01:20.028Z"
   },
   {
    "duration": 1484,
    "start_time": "2022-09-16T22:01:20.037Z"
   },
   {
    "duration": 13,
    "start_time": "2022-09-16T22:01:21.523Z"
   },
   {
    "duration": 81,
    "start_time": "2022-09-16T22:01:21.538Z"
   },
   {
    "duration": 0,
    "start_time": "2022-09-16T22:01:21.622Z"
   },
   {
    "duration": 0,
    "start_time": "2022-09-16T22:01:21.623Z"
   },
   {
    "duration": 0,
    "start_time": "2022-09-16T22:01:21.624Z"
   },
   {
    "duration": 0,
    "start_time": "2022-09-16T22:01:21.625Z"
   },
   {
    "duration": 0,
    "start_time": "2022-09-16T22:01:21.627Z"
   },
   {
    "duration": 0,
    "start_time": "2022-09-16T22:01:21.628Z"
   },
   {
    "duration": 0,
    "start_time": "2022-09-16T22:01:21.628Z"
   },
   {
    "duration": 0,
    "start_time": "2022-09-16T22:01:21.630Z"
   },
   {
    "duration": 0,
    "start_time": "2022-09-16T22:01:21.631Z"
   },
   {
    "duration": 0,
    "start_time": "2022-09-16T22:01:21.632Z"
   },
   {
    "duration": 0,
    "start_time": "2022-09-16T22:01:21.633Z"
   },
   {
    "duration": 0,
    "start_time": "2022-09-16T22:01:21.634Z"
   },
   {
    "duration": 0,
    "start_time": "2022-09-16T22:01:21.635Z"
   },
   {
    "duration": 0,
    "start_time": "2022-09-16T22:01:21.636Z"
   },
   {
    "duration": 0,
    "start_time": "2022-09-16T22:01:21.637Z"
   },
   {
    "duration": 0,
    "start_time": "2022-09-16T22:01:21.638Z"
   },
   {
    "duration": 0,
    "start_time": "2022-09-16T22:01:21.639Z"
   },
   {
    "duration": 0,
    "start_time": "2022-09-16T22:01:21.640Z"
   },
   {
    "duration": 0,
    "start_time": "2022-09-16T22:01:21.640Z"
   },
   {
    "duration": 0,
    "start_time": "2022-09-16T22:01:21.642Z"
   },
   {
    "duration": 0,
    "start_time": "2022-09-16T22:01:21.642Z"
   },
   {
    "duration": 0,
    "start_time": "2022-09-16T22:01:21.644Z"
   },
   {
    "duration": 0,
    "start_time": "2022-09-16T22:01:21.645Z"
   },
   {
    "duration": 0,
    "start_time": "2022-09-16T22:01:21.646Z"
   },
   {
    "duration": 0,
    "start_time": "2022-09-16T22:01:21.647Z"
   },
   {
    "duration": 0,
    "start_time": "2022-09-16T22:01:21.648Z"
   },
   {
    "duration": 0,
    "start_time": "2022-09-16T22:01:21.649Z"
   },
   {
    "duration": 0,
    "start_time": "2022-09-16T22:01:21.650Z"
   },
   {
    "duration": 0,
    "start_time": "2022-09-16T22:01:21.650Z"
   },
   {
    "duration": 0,
    "start_time": "2022-09-16T22:01:21.651Z"
   },
   {
    "duration": 0,
    "start_time": "2022-09-16T22:01:21.652Z"
   },
   {
    "duration": 0,
    "start_time": "2022-09-16T22:01:21.653Z"
   },
   {
    "duration": 0,
    "start_time": "2022-09-16T22:01:21.654Z"
   },
   {
    "duration": 0,
    "start_time": "2022-09-16T22:01:21.655Z"
   },
   {
    "duration": 2,
    "start_time": "2022-09-16T22:17:11.797Z"
   },
   {
    "duration": 100,
    "start_time": "2022-09-16T22:17:58.936Z"
   },
   {
    "duration": 84,
    "start_time": "2022-09-16T22:18:05.321Z"
   },
   {
    "duration": 3,
    "start_time": "2022-09-16T22:18:32.195Z"
   },
   {
    "duration": 139,
    "start_time": "2022-09-16T22:18:32.200Z"
   },
   {
    "duration": 3,
    "start_time": "2022-09-16T22:18:32.341Z"
   },
   {
    "duration": 90,
    "start_time": "2022-09-16T22:18:32.346Z"
   },
   {
    "duration": 63,
    "start_time": "2022-09-16T22:18:32.438Z"
   },
   {
    "duration": 56,
    "start_time": "2022-09-16T22:18:32.503Z"
   },
   {
    "duration": 77,
    "start_time": "2022-09-16T22:18:32.560Z"
   },
   {
    "duration": 8,
    "start_time": "2022-09-16T22:18:32.639Z"
   },
   {
    "duration": 27,
    "start_time": "2022-09-16T22:18:32.650Z"
   },
   {
    "duration": 146,
    "start_time": "2022-09-16T22:18:32.679Z"
   },
   {
    "duration": 22,
    "start_time": "2022-09-16T22:18:32.827Z"
   },
   {
    "duration": 9,
    "start_time": "2022-09-16T22:18:32.851Z"
   },
   {
    "duration": 30,
    "start_time": "2022-09-16T22:18:32.877Z"
   },
   {
    "duration": 27,
    "start_time": "2022-09-16T22:18:32.908Z"
   },
   {
    "duration": 22,
    "start_time": "2022-09-16T22:18:32.937Z"
   },
   {
    "duration": 86,
    "start_time": "2022-09-16T22:18:32.978Z"
   },
   {
    "duration": 117,
    "start_time": "2022-09-16T22:18:33.065Z"
   },
   {
    "duration": 11,
    "start_time": "2022-09-16T22:18:33.184Z"
   },
   {
    "duration": 8,
    "start_time": "2022-09-16T22:18:33.197Z"
   },
   {
    "duration": 1366,
    "start_time": "2022-09-16T22:18:33.207Z"
   },
   {
    "duration": 13,
    "start_time": "2022-09-16T22:18:34.576Z"
   },
   {
    "duration": 7,
    "start_time": "2022-09-16T22:18:34.591Z"
   },
   {
    "duration": 89,
    "start_time": "2022-09-16T22:18:34.600Z"
   },
   {
    "duration": 93,
    "start_time": "2022-09-16T22:18:34.692Z"
   },
   {
    "duration": 18,
    "start_time": "2022-09-16T22:18:34.787Z"
   },
   {
    "duration": 60,
    "start_time": "2022-09-16T22:18:34.807Z"
   },
   {
    "duration": 3,
    "start_time": "2022-09-16T22:18:34.869Z"
   },
   {
    "duration": 15,
    "start_time": "2022-09-16T22:18:34.873Z"
   },
   {
    "duration": 12,
    "start_time": "2022-09-16T22:18:34.889Z"
   },
   {
    "duration": 17,
    "start_time": "2022-09-16T22:18:34.903Z"
   },
   {
    "duration": 99,
    "start_time": "2022-09-16T22:18:34.922Z"
   },
   {
    "duration": 7,
    "start_time": "2022-09-16T22:18:35.022Z"
   },
   {
    "duration": 41,
    "start_time": "2022-09-16T22:18:35.030Z"
   },
   {
    "duration": 4,
    "start_time": "2022-09-16T22:18:35.076Z"
   },
   {
    "duration": 83,
    "start_time": "2022-09-16T22:18:35.082Z"
   },
   {
    "duration": 2,
    "start_time": "2022-09-16T22:18:35.167Z"
   },
   {
    "duration": 14,
    "start_time": "2022-09-16T22:18:35.171Z"
   },
   {
    "duration": 20,
    "start_time": "2022-09-16T22:18:35.187Z"
   },
   {
    "duration": 33,
    "start_time": "2022-09-16T22:18:35.209Z"
   },
   {
    "duration": 33,
    "start_time": "2022-09-16T22:18:35.244Z"
   },
   {
    "duration": 18,
    "start_time": "2022-09-16T22:18:35.278Z"
   },
   {
    "duration": 21,
    "start_time": "2022-09-16T22:18:35.298Z"
   },
   {
    "duration": 19,
    "start_time": "2022-09-16T22:18:35.321Z"
   },
   {
    "duration": 17,
    "start_time": "2022-09-16T22:18:35.342Z"
   },
   {
    "duration": 14,
    "start_time": "2022-09-16T22:18:35.361Z"
   },
   {
    "duration": 8,
    "start_time": "2022-09-16T22:18:35.377Z"
   },
   {
    "duration": 23,
    "start_time": "2022-09-16T22:18:35.387Z"
   },
   {
    "duration": 17,
    "start_time": "2022-09-16T22:18:35.411Z"
   },
   {
    "duration": 15,
    "start_time": "2022-09-16T22:18:35.430Z"
   },
   {
    "duration": 24,
    "start_time": "2022-09-16T22:18:35.447Z"
   },
   {
    "duration": 15,
    "start_time": "2022-09-16T22:18:35.472Z"
   },
   {
    "duration": 28,
    "start_time": "2022-09-16T22:18:35.488Z"
   },
   {
    "duration": 11,
    "start_time": "2022-09-16T22:18:35.518Z"
   },
   {
    "duration": 11,
    "start_time": "2022-09-16T22:18:35.530Z"
   },
   {
    "duration": 13,
    "start_time": "2022-09-16T22:18:35.543Z"
   },
   {
    "duration": 12,
    "start_time": "2022-09-16T22:18:35.557Z"
   },
   {
    "duration": 4,
    "start_time": "2022-09-16T22:19:06.220Z"
   },
   {
    "duration": 3,
    "start_time": "2022-09-16T22:19:10.993Z"
   },
   {
    "duration": 7,
    "start_time": "2022-09-16T22:19:17.075Z"
   },
   {
    "duration": 15,
    "start_time": "2022-09-16T22:20:03.068Z"
   },
   {
    "duration": 8,
    "start_time": "2022-09-16T22:21:38.138Z"
   },
   {
    "duration": 3,
    "start_time": "2022-09-16T22:23:17.035Z"
   },
   {
    "duration": 145,
    "start_time": "2022-09-16T22:23:17.040Z"
   },
   {
    "duration": 3,
    "start_time": "2022-09-16T22:23:17.186Z"
   },
   {
    "duration": 98,
    "start_time": "2022-09-16T22:23:17.191Z"
   },
   {
    "duration": 49,
    "start_time": "2022-09-16T22:23:17.291Z"
   },
   {
    "duration": 73,
    "start_time": "2022-09-16T22:23:17.341Z"
   },
   {
    "duration": 76,
    "start_time": "2022-09-16T22:23:17.416Z"
   },
   {
    "duration": 7,
    "start_time": "2022-09-16T22:23:17.494Z"
   },
   {
    "duration": 9,
    "start_time": "2022-09-16T22:23:17.503Z"
   },
   {
    "duration": 138,
    "start_time": "2022-09-16T22:23:17.514Z"
   },
   {
    "duration": 29,
    "start_time": "2022-09-16T22:23:17.655Z"
   },
   {
    "duration": 16,
    "start_time": "2022-09-16T22:23:17.686Z"
   },
   {
    "duration": 32,
    "start_time": "2022-09-16T22:23:17.704Z"
   },
   {
    "duration": 55,
    "start_time": "2022-09-16T22:23:17.738Z"
   },
   {
    "duration": 24,
    "start_time": "2022-09-16T22:23:17.794Z"
   },
   {
    "duration": 108,
    "start_time": "2022-09-16T22:23:17.820Z"
   },
   {
    "duration": 106,
    "start_time": "2022-09-16T22:23:17.929Z"
   },
   {
    "duration": 11,
    "start_time": "2022-09-16T22:23:18.037Z"
   },
   {
    "duration": 4,
    "start_time": "2022-09-16T22:23:18.050Z"
   },
   {
    "duration": 1362,
    "start_time": "2022-09-16T22:23:18.056Z"
   },
   {
    "duration": 12,
    "start_time": "2022-09-16T22:23:19.420Z"
   },
   {
    "duration": 2,
    "start_time": "2022-09-16T22:23:19.434Z"
   },
   {
    "duration": 91,
    "start_time": "2022-09-16T22:23:19.438Z"
   },
   {
    "duration": 100,
    "start_time": "2022-09-16T22:23:19.531Z"
   },
   {
    "duration": 22,
    "start_time": "2022-09-16T22:23:19.633Z"
   },
   {
    "duration": 61,
    "start_time": "2022-09-16T22:23:19.657Z"
   },
   {
    "duration": 4,
    "start_time": "2022-09-16T22:23:19.719Z"
   },
   {
    "duration": 8,
    "start_time": "2022-09-16T22:23:19.724Z"
   },
   {
    "duration": 10,
    "start_time": "2022-09-16T22:23:19.736Z"
   },
   {
    "duration": 14,
    "start_time": "2022-09-16T22:23:19.748Z"
   },
   {
    "duration": 103,
    "start_time": "2022-09-16T22:23:19.777Z"
   },
   {
    "duration": 7,
    "start_time": "2022-09-16T22:23:19.881Z"
   },
   {
    "duration": 36,
    "start_time": "2022-09-16T22:23:19.889Z"
   },
   {
    "duration": 3,
    "start_time": "2022-09-16T22:23:19.927Z"
   },
   {
    "duration": 87,
    "start_time": "2022-09-16T22:23:19.932Z"
   },
   {
    "duration": 3,
    "start_time": "2022-09-16T22:23:20.021Z"
   },
   {
    "duration": 10,
    "start_time": "2022-09-16T22:23:20.026Z"
   },
   {
    "duration": 21,
    "start_time": "2022-09-16T22:23:20.038Z"
   },
   {
    "duration": 21,
    "start_time": "2022-09-16T22:23:20.061Z"
   },
   {
    "duration": 13,
    "start_time": "2022-09-16T22:23:20.084Z"
   },
   {
    "duration": 7,
    "start_time": "2022-09-16T22:23:20.099Z"
   },
   {
    "duration": 12,
    "start_time": "2022-09-16T22:23:20.108Z"
   },
   {
    "duration": 5,
    "start_time": "2022-09-16T22:23:20.122Z"
   },
   {
    "duration": 6,
    "start_time": "2022-09-16T22:23:20.129Z"
   },
   {
    "duration": 6,
    "start_time": "2022-09-16T22:23:20.137Z"
   },
   {
    "duration": 7,
    "start_time": "2022-09-16T22:23:20.144Z"
   },
   {
    "duration": 5,
    "start_time": "2022-09-16T22:23:20.177Z"
   },
   {
    "duration": 7,
    "start_time": "2022-09-16T22:23:20.183Z"
   },
   {
    "duration": 6,
    "start_time": "2022-09-16T22:23:20.191Z"
   },
   {
    "duration": 9,
    "start_time": "2022-09-16T22:23:20.198Z"
   },
   {
    "duration": 8,
    "start_time": "2022-09-16T22:23:20.209Z"
   },
   {
    "duration": 11,
    "start_time": "2022-09-16T22:23:20.219Z"
   },
   {
    "duration": 13,
    "start_time": "2022-09-16T22:23:20.231Z"
   },
   {
    "duration": 34,
    "start_time": "2022-09-16T22:23:20.246Z"
   },
   {
    "duration": 7,
    "start_time": "2022-09-16T22:23:20.282Z"
   },
   {
    "duration": 9,
    "start_time": "2022-09-16T22:23:20.290Z"
   },
   {
    "duration": 6,
    "start_time": "2022-09-16T22:40:07.248Z"
   },
   {
    "duration": 4,
    "start_time": "2022-09-16T22:41:32.161Z"
   },
   {
    "duration": 5,
    "start_time": "2022-09-16T22:41:39.407Z"
   },
   {
    "duration": 4,
    "start_time": "2022-09-16T22:41:45.214Z"
   },
   {
    "duration": 4,
    "start_time": "2022-09-16T22:42:05.312Z"
   },
   {
    "duration": 6,
    "start_time": "2022-09-16T22:42:11.009Z"
   },
   {
    "duration": 6,
    "start_time": "2022-09-16T22:42:15.501Z"
   },
   {
    "duration": 5,
    "start_time": "2022-09-16T22:42:30.346Z"
   },
   {
    "duration": 5,
    "start_time": "2022-09-16T22:42:36.102Z"
   },
   {
    "duration": 4,
    "start_time": "2022-09-16T22:42:40.173Z"
   },
   {
    "duration": 4,
    "start_time": "2022-09-16T22:42:45.653Z"
   },
   {
    "duration": 6,
    "start_time": "2022-09-16T22:43:49.317Z"
   },
   {
    "duration": 5,
    "start_time": "2022-09-16T22:43:55.252Z"
   },
   {
    "duration": 5,
    "start_time": "2022-09-16T22:44:00.203Z"
   },
   {
    "duration": 4,
    "start_time": "2022-09-16T23:00:42.694Z"
   },
   {
    "duration": 149,
    "start_time": "2022-09-16T23:00:42.700Z"
   },
   {
    "duration": 3,
    "start_time": "2022-09-16T23:00:42.850Z"
   },
   {
    "duration": 86,
    "start_time": "2022-09-16T23:00:42.855Z"
   },
   {
    "duration": 55,
    "start_time": "2022-09-16T23:00:42.943Z"
   },
   {
    "duration": 51,
    "start_time": "2022-09-16T23:00:42.999Z"
   },
   {
    "duration": 81,
    "start_time": "2022-09-16T23:00:43.052Z"
   },
   {
    "duration": 7,
    "start_time": "2022-09-16T23:00:43.134Z"
   },
   {
    "duration": 12,
    "start_time": "2022-09-16T23:00:43.142Z"
   },
   {
    "duration": 143,
    "start_time": "2022-09-16T23:00:43.156Z"
   },
   {
    "duration": 20,
    "start_time": "2022-09-16T23:00:43.301Z"
   },
   {
    "duration": 8,
    "start_time": "2022-09-16T23:00:43.323Z"
   },
   {
    "duration": 48,
    "start_time": "2022-09-16T23:00:43.335Z"
   },
   {
    "duration": 29,
    "start_time": "2022-09-16T23:00:43.391Z"
   },
   {
    "duration": 27,
    "start_time": "2022-09-16T23:00:43.421Z"
   },
   {
    "duration": 119,
    "start_time": "2022-09-16T23:00:43.450Z"
   },
   {
    "duration": 109,
    "start_time": "2022-09-16T23:00:43.571Z"
   },
   {
    "duration": 15,
    "start_time": "2022-09-16T23:00:43.687Z"
   },
   {
    "duration": 10,
    "start_time": "2022-09-16T23:00:43.703Z"
   },
   {
    "duration": 1323,
    "start_time": "2022-09-16T23:00:43.715Z"
   },
   {
    "duration": 14,
    "start_time": "2022-09-16T23:00:45.039Z"
   },
   {
    "duration": 4,
    "start_time": "2022-09-16T23:00:45.055Z"
   },
   {
    "duration": 96,
    "start_time": "2022-09-16T23:00:45.061Z"
   },
   {
    "duration": 100,
    "start_time": "2022-09-16T23:00:45.159Z"
   },
   {
    "duration": 35,
    "start_time": "2022-09-16T23:00:45.260Z"
   },
   {
    "duration": 49,
    "start_time": "2022-09-16T23:00:45.297Z"
   },
   {
    "duration": 3,
    "start_time": "2022-09-16T23:00:45.347Z"
   },
   {
    "duration": 6,
    "start_time": "2022-09-16T23:00:45.352Z"
   },
   {
    "duration": 28,
    "start_time": "2022-09-16T23:00:45.360Z"
   },
   {
    "duration": 105,
    "start_time": "2022-09-16T23:00:45.390Z"
   },
   {
    "duration": 89,
    "start_time": "2022-09-16T23:00:45.497Z"
   },
   {
    "duration": 8,
    "start_time": "2022-09-16T23:00:45.592Z"
   },
   {
    "duration": 50,
    "start_time": "2022-09-16T23:00:45.602Z"
   },
   {
    "duration": 3,
    "start_time": "2022-09-16T23:00:45.654Z"
   },
   {
    "duration": 83,
    "start_time": "2022-09-16T23:00:45.659Z"
   },
   {
    "duration": 3,
    "start_time": "2022-09-16T23:00:45.744Z"
   },
   {
    "duration": 6,
    "start_time": "2022-09-16T23:00:45.750Z"
   },
   {
    "duration": 9,
    "start_time": "2022-09-16T23:00:45.757Z"
   },
   {
    "duration": 12,
    "start_time": "2022-09-16T23:00:45.768Z"
   },
   {
    "duration": 17,
    "start_time": "2022-09-16T23:00:45.785Z"
   },
   {
    "duration": 7,
    "start_time": "2022-09-16T23:00:45.803Z"
   },
   {
    "duration": 8,
    "start_time": "2022-09-16T23:00:45.812Z"
   },
   {
    "duration": 6,
    "start_time": "2022-09-16T23:00:45.822Z"
   },
   {
    "duration": 5,
    "start_time": "2022-09-16T23:00:45.835Z"
   },
   {
    "duration": 11,
    "start_time": "2022-09-16T23:00:45.842Z"
   },
   {
    "duration": 15,
    "start_time": "2022-09-16T23:00:45.855Z"
   },
   {
    "duration": 14,
    "start_time": "2022-09-16T23:00:45.871Z"
   },
   {
    "duration": 16,
    "start_time": "2022-09-16T23:00:45.886Z"
   },
   {
    "duration": 7,
    "start_time": "2022-09-16T23:00:45.904Z"
   },
   {
    "duration": 9,
    "start_time": "2022-09-16T23:00:45.913Z"
   },
   {
    "duration": 6,
    "start_time": "2022-09-16T23:00:45.923Z"
   },
   {
    "duration": 11,
    "start_time": "2022-09-16T23:00:45.931Z"
   },
   {
    "duration": 8,
    "start_time": "2022-09-16T23:00:45.944Z"
   },
   {
    "duration": 6,
    "start_time": "2022-09-16T23:00:45.953Z"
   },
   {
    "duration": 35,
    "start_time": "2022-09-16T23:00:45.960Z"
   },
   {
    "duration": 10,
    "start_time": "2022-09-16T23:00:45.998Z"
   },
   {
    "duration": 1088,
    "start_time": "2022-09-17T07:18:42.321Z"
   },
   {
    "duration": 153,
    "start_time": "2022-09-17T07:18:43.411Z"
   },
   {
    "duration": 4,
    "start_time": "2022-09-17T07:18:43.566Z"
   },
   {
    "duration": 99,
    "start_time": "2022-09-17T07:18:43.572Z"
   },
   {
    "duration": 69,
    "start_time": "2022-09-17T07:18:43.673Z"
   },
   {
    "duration": 64,
    "start_time": "2022-09-17T07:18:43.744Z"
   },
   {
    "duration": 92,
    "start_time": "2022-09-17T07:18:43.810Z"
   },
   {
    "duration": 7,
    "start_time": "2022-09-17T07:18:43.904Z"
   },
   {
    "duration": 9,
    "start_time": "2022-09-17T07:18:43.922Z"
   },
   {
    "duration": 118,
    "start_time": "2022-09-17T07:18:43.934Z"
   },
   {
    "duration": 18,
    "start_time": "2022-09-17T07:18:44.054Z"
   },
   {
    "duration": 8,
    "start_time": "2022-09-17T07:18:44.073Z"
   },
   {
    "duration": 23,
    "start_time": "2022-09-17T07:18:44.082Z"
   },
   {
    "duration": 45,
    "start_time": "2022-09-17T07:18:44.106Z"
   },
   {
    "duration": 25,
    "start_time": "2022-09-17T07:18:44.152Z"
   },
   {
    "duration": 113,
    "start_time": "2022-09-17T07:18:44.179Z"
   },
   {
    "duration": 107,
    "start_time": "2022-09-17T07:18:44.293Z"
   },
   {
    "duration": 21,
    "start_time": "2022-09-17T07:18:44.401Z"
   },
   {
    "duration": 5,
    "start_time": "2022-09-17T07:18:44.423Z"
   },
   {
    "duration": 1370,
    "start_time": "2022-09-17T07:18:44.429Z"
   },
   {
    "duration": 23,
    "start_time": "2022-09-17T07:18:45.801Z"
   },
   {
    "duration": 3,
    "start_time": "2022-09-17T07:18:45.825Z"
   },
   {
    "duration": 86,
    "start_time": "2022-09-17T07:18:45.829Z"
   },
   {
    "duration": 99,
    "start_time": "2022-09-17T07:18:45.923Z"
   },
   {
    "duration": 21,
    "start_time": "2022-09-17T07:18:46.024Z"
   },
   {
    "duration": 51,
    "start_time": "2022-09-17T07:18:46.046Z"
   },
   {
    "duration": 3,
    "start_time": "2022-09-17T07:18:46.098Z"
   },
   {
    "duration": 11,
    "start_time": "2022-09-17T07:18:46.104Z"
   },
   {
    "duration": 23,
    "start_time": "2022-09-17T07:18:46.116Z"
   },
   {
    "duration": 168,
    "start_time": "2022-09-17T07:18:46.140Z"
   },
   {
    "duration": 132,
    "start_time": "2022-09-17T07:18:46.310Z"
   },
   {
    "duration": 7,
    "start_time": "2022-09-17T07:18:46.443Z"
   },
   {
    "duration": 41,
    "start_time": "2022-09-17T07:18:46.451Z"
   },
   {
    "duration": 3,
    "start_time": "2022-09-17T07:18:46.494Z"
   },
   {
    "duration": 73,
    "start_time": "2022-09-17T07:18:46.498Z"
   },
   {
    "duration": 2,
    "start_time": "2022-09-17T07:18:46.572Z"
   },
   {
    "duration": 18,
    "start_time": "2022-09-17T07:18:46.576Z"
   },
   {
    "duration": 17,
    "start_time": "2022-09-17T07:18:46.595Z"
   },
   {
    "duration": 18,
    "start_time": "2022-09-17T07:18:46.613Z"
   },
   {
    "duration": 15,
    "start_time": "2022-09-17T07:18:46.633Z"
   },
   {
    "duration": 8,
    "start_time": "2022-09-17T07:18:46.650Z"
   },
   {
    "duration": 9,
    "start_time": "2022-09-17T07:18:46.659Z"
   },
   {
    "duration": 7,
    "start_time": "2022-09-17T07:18:46.669Z"
   },
   {
    "duration": 7,
    "start_time": "2022-09-17T07:18:46.678Z"
   },
   {
    "duration": 7,
    "start_time": "2022-09-17T07:18:46.687Z"
   },
   {
    "duration": 6,
    "start_time": "2022-09-17T07:18:46.695Z"
   },
   {
    "duration": 7,
    "start_time": "2022-09-17T07:18:46.702Z"
   },
   {
    "duration": 9,
    "start_time": "2022-09-17T07:18:46.710Z"
   },
   {
    "duration": 7,
    "start_time": "2022-09-17T07:18:46.721Z"
   },
   {
    "duration": 12,
    "start_time": "2022-09-17T07:18:46.729Z"
   },
   {
    "duration": 6,
    "start_time": "2022-09-17T07:18:46.742Z"
   },
   {
    "duration": 10,
    "start_time": "2022-09-17T07:18:46.749Z"
   },
   {
    "duration": 6,
    "start_time": "2022-09-17T07:18:46.760Z"
   },
   {
    "duration": 5,
    "start_time": "2022-09-17T07:18:46.767Z"
   },
   {
    "duration": 6,
    "start_time": "2022-09-17T07:18:46.774Z"
   },
   {
    "duration": 6,
    "start_time": "2022-09-17T07:18:46.781Z"
   },
   {
    "duration": 59,
    "start_time": "2022-09-17T07:21:13.586Z"
   },
   {
    "duration": 5,
    "start_time": "2022-09-17T07:21:16.819Z"
   }
  ],
  "kernelspec": {
   "display_name": "Python 3 (ipykernel)",
   "language": "python",
   "name": "python3"
  },
  "language_info": {
   "codemirror_mode": {
    "name": "ipython",
    "version": 3
   },
   "file_extension": ".py",
   "mimetype": "text/x-python",
   "name": "python",
   "nbconvert_exporter": "python",
   "pygments_lexer": "ipython3",
   "version": "3.9.7"
  },
  "toc": {
   "base_numbering": 1,
   "nav_menu": {},
   "number_sections": true,
   "sideBar": true,
   "skip_h1_title": false,
   "title_cell": "Table of Contents",
   "title_sidebar": "Contents",
   "toc_cell": false,
   "toc_position": {},
   "toc_section_display": true,
   "toc_window_display": true
  }
 },
 "nbformat": 4,
 "nbformat_minor": 5
}
