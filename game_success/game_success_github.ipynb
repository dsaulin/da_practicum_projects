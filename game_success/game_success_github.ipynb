{
 "cells": [
  {
   "cell_type": "markdown",
   "id": "15de1269",
   "metadata": {},
   "source": [
    "# Исследование продаж в игровой индустрии"
   ]
  },
  {
   "cell_type": "markdown",
   "id": "c4dc221a",
   "metadata": {},
   "source": [
    "Мы работаем в интернет-магазине «Стримчик», который продаёт по всему миру компьютерные игры. Из открытых источников доступны исторические данные о продажах игр, оценки пользователей и экспертов, жанры и платформы (например, Xbox или PlayStation). Нам нужно выявить определяющие успешность игры закономерности. Это позволит сделать ставку на потенциально популярный продукт и спланировать рекламные кампании."
   ]
  },
  {
   "cell_type": "markdown",
   "id": "103f2b92",
   "metadata": {},
   "source": [
    "Нам предстоит решить следующие **задачи**:\n",
    "- Изучить статистику продаж игр на различных платформах на 4-м мировых рынках в период 1980-2016 гг.\n",
    "- В датасете при необходимости исправить ошибки, привести данные к нужному типу, определить, в каких случаях выбросы будут мешать анализу.\n",
    "- Определить период, в рамках которого мы можем определить закономерности жизненного цикла платформ.\n",
    "- Определить лидеров среди платформ в актуальном периоде, посмотреть тенденции роста и паления продаж.\n",
    "- Изучить влияние отзывов пользователей и критиков на продажи игр.\n",
    "- Изучить популярность жанров игр.\n",
    "- Изучить разницу в продажах в разных регионах (популярные платформы, жанры и разница в возрастных рейтингах, составление портрета \"игрока региона\".)\n",
    "- Проверить гипотезы о сходстве/различии пользовательских рейтингов Xbox One и PC, а также от сходстве/различии рейтингов игровых жанров Action и Sports.\n",
    "- Сформулировать общие выводы, а также идеи, которые позволят бизнесу принять решения о ставках на платформы и о планировании рекламных кампаний."
   ]
  },
  {
   "cell_type": "markdown",
   "id": "96aa5070",
   "metadata": {},
   "source": [
    "**Использованные данные**:\n",
    "\n",
    "- Name — название игры\n",
    "- Platform — платформа\n",
    "- Year_of_Release — год выпуска\n",
    "- Genre — жанр игры\n",
    "- NA_sales — продажи в Северной Америке (миллионы проданных копий)\n",
    "- EU_sales — продажи в Европе (миллионы проданных копий)\n",
    "- JP_sales — продажи в Японии (миллионы проданных копий)\n",
    "- Other_sales — продажи в других странах (миллионы проданных копий)\n",
    "- Critic_Score — оценка критиков (максимум 100)\n",
    "- User_Score — оценка пользователей (максимум 10)\n",
    "- Rating — рейтинг от организации ESRB (англ. Entertainment Software Rating Board). Эта ассоциация определяет рейтинг компьютерных игр и присваивает им подходящую возрастную категорию."
   ]
  },
  {
   "cell_type": "markdown",
   "id": "8561f2a7",
   "metadata": {},
   "source": [
    "## Изучение данных из файла"
   ]
  },
  {
   "cell_type": "markdown",
   "id": "411bda65",
   "metadata": {},
   "source": [
    "Импортируем датасет с данными о продажах игр."
   ]
  },
  {
   "cell_type": "code",
   "execution_count": 389,
   "id": "0f138922",
   "metadata": {},
   "outputs": [],
   "source": [
    "import pandas as pd\n",
    "import numpy as np\n",
    "import matplotlib.pyplot as plt\n",
    "import math\n",
    "from scipy import stats as st\n",
    "import seaborn as sns"
   ]
  },
  {
   "cell_type": "code",
   "execution_count": 390,
   "id": "6b7846d4",
   "metadata": {},
   "outputs": [],
   "source": [
    "try:\n",
    "    df = pd.read_csv('games.csv')\n",
    "except:\n",
    "    df = pd.read_csv('/datasets/games.csv')"
   ]
  },
  {
   "cell_type": "code",
   "execution_count": 391,
   "id": "63bdae78",
   "metadata": {
    "scrolled": false
   },
   "outputs": [
    {
     "name": "stdout",
     "output_type": "stream",
     "text": [
      "<class 'pandas.core.frame.DataFrame'>\n",
      "RangeIndex: 16715 entries, 0 to 16714\n",
      "Data columns (total 11 columns):\n",
      " #   Column           Non-Null Count  Dtype  \n",
      "---  ------           --------------  -----  \n",
      " 0   Name             16713 non-null  object \n",
      " 1   Platform         16715 non-null  object \n",
      " 2   Year_of_Release  16446 non-null  float64\n",
      " 3   Genre            16713 non-null  object \n",
      " 4   NA_sales         16715 non-null  float64\n",
      " 5   EU_sales         16715 non-null  float64\n",
      " 6   JP_sales         16715 non-null  float64\n",
      " 7   Other_sales      16715 non-null  float64\n",
      " 8   Critic_Score     8137 non-null   float64\n",
      " 9   User_Score       10014 non-null  object \n",
      " 10  Rating           9949 non-null   object \n",
      "dtypes: float64(6), object(5)\n",
      "memory usage: 1.4+ MB\n"
     ]
    }
   ],
   "source": [
    "df.info()"
   ]
  },
  {
   "cell_type": "code",
   "execution_count": 392,
   "id": "d2631aa0",
   "metadata": {},
   "outputs": [
    {
     "data": {
      "text/html": [
       "<div>\n",
       "<style scoped>\n",
       "    .dataframe tbody tr th:only-of-type {\n",
       "        vertical-align: middle;\n",
       "    }\n",
       "\n",
       "    .dataframe tbody tr th {\n",
       "        vertical-align: top;\n",
       "    }\n",
       "\n",
       "    .dataframe thead th {\n",
       "        text-align: right;\n",
       "    }\n",
       "</style>\n",
       "<table border=\"1\" class=\"dataframe\">\n",
       "  <thead>\n",
       "    <tr style=\"text-align: right;\">\n",
       "      <th></th>\n",
       "      <th>Year_of_Release</th>\n",
       "      <th>NA_sales</th>\n",
       "      <th>EU_sales</th>\n",
       "      <th>JP_sales</th>\n",
       "      <th>Other_sales</th>\n",
       "      <th>Critic_Score</th>\n",
       "    </tr>\n",
       "  </thead>\n",
       "  <tbody>\n",
       "    <tr>\n",
       "      <th>count</th>\n",
       "      <td>16446.000000</td>\n",
       "      <td>16715.000000</td>\n",
       "      <td>16715.000000</td>\n",
       "      <td>16715.000000</td>\n",
       "      <td>16715.000000</td>\n",
       "      <td>8137.000000</td>\n",
       "    </tr>\n",
       "    <tr>\n",
       "      <th>mean</th>\n",
       "      <td>2006.484616</td>\n",
       "      <td>0.263377</td>\n",
       "      <td>0.145060</td>\n",
       "      <td>0.077617</td>\n",
       "      <td>0.047342</td>\n",
       "      <td>68.967679</td>\n",
       "    </tr>\n",
       "    <tr>\n",
       "      <th>std</th>\n",
       "      <td>5.877050</td>\n",
       "      <td>0.813604</td>\n",
       "      <td>0.503339</td>\n",
       "      <td>0.308853</td>\n",
       "      <td>0.186731</td>\n",
       "      <td>13.938165</td>\n",
       "    </tr>\n",
       "    <tr>\n",
       "      <th>min</th>\n",
       "      <td>1980.000000</td>\n",
       "      <td>0.000000</td>\n",
       "      <td>0.000000</td>\n",
       "      <td>0.000000</td>\n",
       "      <td>0.000000</td>\n",
       "      <td>13.000000</td>\n",
       "    </tr>\n",
       "    <tr>\n",
       "      <th>25%</th>\n",
       "      <td>2003.000000</td>\n",
       "      <td>0.000000</td>\n",
       "      <td>0.000000</td>\n",
       "      <td>0.000000</td>\n",
       "      <td>0.000000</td>\n",
       "      <td>60.000000</td>\n",
       "    </tr>\n",
       "    <tr>\n",
       "      <th>50%</th>\n",
       "      <td>2007.000000</td>\n",
       "      <td>0.080000</td>\n",
       "      <td>0.020000</td>\n",
       "      <td>0.000000</td>\n",
       "      <td>0.010000</td>\n",
       "      <td>71.000000</td>\n",
       "    </tr>\n",
       "    <tr>\n",
       "      <th>75%</th>\n",
       "      <td>2010.000000</td>\n",
       "      <td>0.240000</td>\n",
       "      <td>0.110000</td>\n",
       "      <td>0.040000</td>\n",
       "      <td>0.030000</td>\n",
       "      <td>79.000000</td>\n",
       "    </tr>\n",
       "    <tr>\n",
       "      <th>max</th>\n",
       "      <td>2016.000000</td>\n",
       "      <td>41.360000</td>\n",
       "      <td>28.960000</td>\n",
       "      <td>10.220000</td>\n",
       "      <td>10.570000</td>\n",
       "      <td>98.000000</td>\n",
       "    </tr>\n",
       "  </tbody>\n",
       "</table>\n",
       "</div>"
      ],
      "text/plain": [
       "       Year_of_Release      NA_sales      EU_sales      JP_sales  \\\n",
       "count     16446.000000  16715.000000  16715.000000  16715.000000   \n",
       "mean       2006.484616      0.263377      0.145060      0.077617   \n",
       "std           5.877050      0.813604      0.503339      0.308853   \n",
       "min        1980.000000      0.000000      0.000000      0.000000   \n",
       "25%        2003.000000      0.000000      0.000000      0.000000   \n",
       "50%        2007.000000      0.080000      0.020000      0.000000   \n",
       "75%        2010.000000      0.240000      0.110000      0.040000   \n",
       "max        2016.000000     41.360000     28.960000     10.220000   \n",
       "\n",
       "        Other_sales  Critic_Score  \n",
       "count  16715.000000   8137.000000  \n",
       "mean       0.047342     68.967679  \n",
       "std        0.186731     13.938165  \n",
       "min        0.000000     13.000000  \n",
       "25%        0.000000     60.000000  \n",
       "50%        0.010000     71.000000  \n",
       "75%        0.030000     79.000000  \n",
       "max       10.570000     98.000000  "
      ]
     },
     "execution_count": 392,
     "metadata": {},
     "output_type": "execute_result"
    }
   ],
   "source": [
    "df.describe()"
   ]
  },
  {
   "cell_type": "code",
   "execution_count": 393,
   "id": "d1d24ff3",
   "metadata": {
    "scrolled": false
   },
   "outputs": [
    {
     "data": {
      "text/html": [
       "<div>\n",
       "<style scoped>\n",
       "    .dataframe tbody tr th:only-of-type {\n",
       "        vertical-align: middle;\n",
       "    }\n",
       "\n",
       "    .dataframe tbody tr th {\n",
       "        vertical-align: top;\n",
       "    }\n",
       "\n",
       "    .dataframe thead th {\n",
       "        text-align: right;\n",
       "    }\n",
       "</style>\n",
       "<table border=\"1\" class=\"dataframe\">\n",
       "  <thead>\n",
       "    <tr style=\"text-align: right;\">\n",
       "      <th></th>\n",
       "      <th>Name</th>\n",
       "      <th>Platform</th>\n",
       "      <th>Year_of_Release</th>\n",
       "      <th>Genre</th>\n",
       "      <th>NA_sales</th>\n",
       "      <th>EU_sales</th>\n",
       "      <th>JP_sales</th>\n",
       "      <th>Other_sales</th>\n",
       "      <th>Critic_Score</th>\n",
       "      <th>User_Score</th>\n",
       "      <th>Rating</th>\n",
       "    </tr>\n",
       "  </thead>\n",
       "  <tbody>\n",
       "    <tr>\n",
       "      <th>0</th>\n",
       "      <td>Wii Sports</td>\n",
       "      <td>Wii</td>\n",
       "      <td>2006.0</td>\n",
       "      <td>Sports</td>\n",
       "      <td>41.36</td>\n",
       "      <td>28.96</td>\n",
       "      <td>3.77</td>\n",
       "      <td>8.45</td>\n",
       "      <td>76.0</td>\n",
       "      <td>8</td>\n",
       "      <td>E</td>\n",
       "    </tr>\n",
       "    <tr>\n",
       "      <th>1</th>\n",
       "      <td>Super Mario Bros.</td>\n",
       "      <td>NES</td>\n",
       "      <td>1985.0</td>\n",
       "      <td>Platform</td>\n",
       "      <td>29.08</td>\n",
       "      <td>3.58</td>\n",
       "      <td>6.81</td>\n",
       "      <td>0.77</td>\n",
       "      <td>NaN</td>\n",
       "      <td>NaN</td>\n",
       "      <td>NaN</td>\n",
       "    </tr>\n",
       "    <tr>\n",
       "      <th>2</th>\n",
       "      <td>Mario Kart Wii</td>\n",
       "      <td>Wii</td>\n",
       "      <td>2008.0</td>\n",
       "      <td>Racing</td>\n",
       "      <td>15.68</td>\n",
       "      <td>12.76</td>\n",
       "      <td>3.79</td>\n",
       "      <td>3.29</td>\n",
       "      <td>82.0</td>\n",
       "      <td>8.3</td>\n",
       "      <td>E</td>\n",
       "    </tr>\n",
       "    <tr>\n",
       "      <th>3</th>\n",
       "      <td>Wii Sports Resort</td>\n",
       "      <td>Wii</td>\n",
       "      <td>2009.0</td>\n",
       "      <td>Sports</td>\n",
       "      <td>15.61</td>\n",
       "      <td>10.93</td>\n",
       "      <td>3.28</td>\n",
       "      <td>2.95</td>\n",
       "      <td>80.0</td>\n",
       "      <td>8</td>\n",
       "      <td>E</td>\n",
       "    </tr>\n",
       "    <tr>\n",
       "      <th>4</th>\n",
       "      <td>Pokemon Red/Pokemon Blue</td>\n",
       "      <td>GB</td>\n",
       "      <td>1996.0</td>\n",
       "      <td>Role-Playing</td>\n",
       "      <td>11.27</td>\n",
       "      <td>8.89</td>\n",
       "      <td>10.22</td>\n",
       "      <td>1.00</td>\n",
       "      <td>NaN</td>\n",
       "      <td>NaN</td>\n",
       "      <td>NaN</td>\n",
       "    </tr>\n",
       "  </tbody>\n",
       "</table>\n",
       "</div>"
      ],
      "text/plain": [
       "                       Name Platform  Year_of_Release         Genre  NA_sales  \\\n",
       "0                Wii Sports      Wii           2006.0        Sports     41.36   \n",
       "1         Super Mario Bros.      NES           1985.0      Platform     29.08   \n",
       "2            Mario Kart Wii      Wii           2008.0        Racing     15.68   \n",
       "3         Wii Sports Resort      Wii           2009.0        Sports     15.61   \n",
       "4  Pokemon Red/Pokemon Blue       GB           1996.0  Role-Playing     11.27   \n",
       "\n",
       "   EU_sales  JP_sales  Other_sales  Critic_Score User_Score Rating  \n",
       "0     28.96      3.77         8.45          76.0          8      E  \n",
       "1      3.58      6.81         0.77           NaN        NaN    NaN  \n",
       "2     12.76      3.79         3.29          82.0        8.3      E  \n",
       "3     10.93      3.28         2.95          80.0          8      E  \n",
       "4      8.89     10.22         1.00           NaN        NaN    NaN  "
      ]
     },
     "execution_count": 393,
     "metadata": {},
     "output_type": "execute_result"
    }
   ],
   "source": [
    "df.head()"
   ]
  },
  {
   "cell_type": "markdown",
   "id": "28d81964",
   "metadata": {},
   "source": [
    "Приведем названия столбцов к нижнему регистру."
   ]
  },
  {
   "cell_type": "code",
   "execution_count": 394,
   "id": "2abe04a8",
   "metadata": {},
   "outputs": [],
   "source": [
    "df.columns = df.columns.str.lower()"
   ]
  },
  {
   "cell_type": "markdown",
   "id": "ede11eec",
   "metadata": {},
   "source": [
    "В столбце \"name\" - у 2-х строк нет названия игры (индексы 659, 14244), и этих же строк нет жанра. Подсчет уникальных значений в названиях показал, что некоторые игры приведены больше одного раза, но сравнение указанных строчек с теми, где названия есть, по показателям выручки не позволило провести аналогию с другими играми. Это значит, что 2-х названий мы не знаем (а ошибка могла возникнуть при переносе данных из одной базы в другую.) "
   ]
  },
  {
   "cell_type": "code",
   "execution_count": 395,
   "id": "625b49bd",
   "metadata": {
    "scrolled": true
   },
   "outputs": [
    {
     "data": {
      "text/plain": [
       "Need for Speed: Most Wanted                         12\n",
       "Ratatouille                                          9\n",
       "LEGO Marvel Super Heroes                             9\n",
       "FIFA 14                                              9\n",
       "Madden NFL 07                                        9\n",
       "                                                    ..\n",
       "Jewels of the Tropical Lost Island                   1\n",
       "Sherlock Holmes and the Mystery of Osborne House     1\n",
       "The King of Fighters '95 (CD)                        1\n",
       "Megamind: Mega Team Unite                            1\n",
       "Haitaka no Psychedelica                              1\n",
       "Name: name, Length: 11559, dtype: int64"
      ]
     },
     "execution_count": 395,
     "metadata": {},
     "output_type": "execute_result"
    }
   ],
   "source": [
    "df['name'].value_counts()"
   ]
  },
  {
   "cell_type": "code",
   "execution_count": 396,
   "id": "15edff60",
   "metadata": {},
   "outputs": [
    {
     "data": {
      "text/plain": [
       "Action          3369\n",
       "Sports          2348\n",
       "Misc            1750\n",
       "Role-Playing    1498\n",
       "Shooter         1323\n",
       "Adventure       1303\n",
       "Racing          1249\n",
       "Platform         888\n",
       "Simulation       873\n",
       "Fighting         849\n",
       "Strategy         683\n",
       "Puzzle           580\n",
       "Name: genre, dtype: int64"
      ]
     },
     "execution_count": 396,
     "metadata": {},
     "output_type": "execute_result"
    }
   ],
   "source": [
    "df['genre'].value_counts()"
   ]
  },
  {
   "cell_type": "code",
   "execution_count": 397,
   "id": "ac3a1557",
   "metadata": {
    "scrolled": false
   },
   "outputs": [
    {
     "data": {
      "text/html": [
       "<div>\n",
       "<style scoped>\n",
       "    .dataframe tbody tr th:only-of-type {\n",
       "        vertical-align: middle;\n",
       "    }\n",
       "\n",
       "    .dataframe tbody tr th {\n",
       "        vertical-align: top;\n",
       "    }\n",
       "\n",
       "    .dataframe thead th {\n",
       "        text-align: right;\n",
       "    }\n",
       "</style>\n",
       "<table border=\"1\" class=\"dataframe\">\n",
       "  <thead>\n",
       "    <tr style=\"text-align: right;\">\n",
       "      <th></th>\n",
       "      <th>name</th>\n",
       "      <th>platform</th>\n",
       "      <th>year_of_release</th>\n",
       "      <th>genre</th>\n",
       "      <th>na_sales</th>\n",
       "      <th>eu_sales</th>\n",
       "      <th>jp_sales</th>\n",
       "      <th>other_sales</th>\n",
       "      <th>critic_score</th>\n",
       "      <th>user_score</th>\n",
       "      <th>rating</th>\n",
       "    </tr>\n",
       "  </thead>\n",
       "  <tbody>\n",
       "    <tr>\n",
       "      <th>659</th>\n",
       "      <td>NaN</td>\n",
       "      <td>GEN</td>\n",
       "      <td>1993.0</td>\n",
       "      <td>NaN</td>\n",
       "      <td>1.78</td>\n",
       "      <td>0.53</td>\n",
       "      <td>0.00</td>\n",
       "      <td>0.08</td>\n",
       "      <td>NaN</td>\n",
       "      <td>NaN</td>\n",
       "      <td>NaN</td>\n",
       "    </tr>\n",
       "    <tr>\n",
       "      <th>14244</th>\n",
       "      <td>NaN</td>\n",
       "      <td>GEN</td>\n",
       "      <td>1993.0</td>\n",
       "      <td>NaN</td>\n",
       "      <td>0.00</td>\n",
       "      <td>0.00</td>\n",
       "      <td>0.03</td>\n",
       "      <td>0.00</td>\n",
       "      <td>NaN</td>\n",
       "      <td>NaN</td>\n",
       "      <td>NaN</td>\n",
       "    </tr>\n",
       "  </tbody>\n",
       "</table>\n",
       "</div>"
      ],
      "text/plain": [
       "      name platform  year_of_release genre  na_sales  eu_sales  jp_sales  \\\n",
       "659    NaN      GEN           1993.0   NaN      1.78      0.53      0.00   \n",
       "14244  NaN      GEN           1993.0   NaN      0.00      0.00      0.03   \n",
       "\n",
       "       other_sales  critic_score user_score rating  \n",
       "659           0.08           NaN        NaN    NaN  \n",
       "14244         0.00           NaN        NaN    NaN  "
      ]
     },
     "execution_count": 397,
     "metadata": {},
     "output_type": "execute_result"
    }
   ],
   "source": [
    "df[df['name'].isnull()]"
   ]
  },
  {
   "cell_type": "code",
   "execution_count": 398,
   "id": "da8a6735",
   "metadata": {},
   "outputs": [
    {
     "name": "stdout",
     "output_type": "stream",
     "text": [
      "<class 'pandas.core.frame.DataFrame'>\n",
      "RangeIndex: 16715 entries, 0 to 16714\n",
      "Data columns (total 11 columns):\n",
      " #   Column           Non-Null Count  Dtype  \n",
      "---  ------           --------------  -----  \n",
      " 0   name             16715 non-null  object \n",
      " 1   platform         16715 non-null  object \n",
      " 2   year_of_release  16446 non-null  float64\n",
      " 3   genre            16715 non-null  object \n",
      " 4   na_sales         16715 non-null  float64\n",
      " 5   eu_sales         16715 non-null  float64\n",
      " 6   jp_sales         16715 non-null  float64\n",
      " 7   other_sales      16715 non-null  float64\n",
      " 8   critic_score     8137 non-null   float64\n",
      " 9   user_score       10014 non-null  object \n",
      " 10  rating           9949 non-null   object \n",
      "dtypes: float64(6), object(5)\n",
      "memory usage: 1.4+ MB\n"
     ]
    }
   ],
   "source": [
    "df['name'] = df['name'].fillna('unknown')\n",
    "df['genre'] = df['genre'].fillna('unknown')\n",
    "df.info()"
   ]
  },
  {
   "cell_type": "markdown",
   "id": "faf4369f",
   "metadata": {},
   "source": [
    "Данные столбца с годом релиза - в формате чисел с плавающей запятой. Также у нас есть пропущенные значения в 269 строках. Эти данные нам взять не откуда, поэтому заполняем \"-1\", а данные переводим в целочисленный тип. "
   ]
  },
  {
   "cell_type": "code",
   "execution_count": 399,
   "id": "503a96de",
   "metadata": {},
   "outputs": [],
   "source": [
    "df['year_of_release'] = df['year_of_release'].fillna(-1)\n",
    "df['year_of_release'] = df['year_of_release'].astype(int)"
   ]
  },
  {
   "cell_type": "markdown",
   "id": "505aac3d",
   "metadata": {},
   "source": [
    "В столбце с оценками пользователей есть пропущенные данные, а также строки с текстом \"tbd\". TBD — сокращение от To Be Determined (или Decided.) Служит для отметки неясностей или пропусков, которые надо заполнить. Соответственно, переводим эти данные в NaN. А данные с оценками переводим в числа с плавающей точкой."
   ]
  },
  {
   "cell_type": "code",
   "execution_count": 400,
   "id": "a5891b2b",
   "metadata": {
    "scrolled": false
   },
   "outputs": [
    {
     "data": {
      "text/plain": [
       "NaN    6701\n",
       "tbd    2424\n",
       "7.8     324\n",
       "8       290\n",
       "8.2     282\n",
       "       ... \n",
       "1.1       2\n",
       "1.9       2\n",
       "9.6       2\n",
       "0         1\n",
       "9.7       1\n",
       "Name: user_score, Length: 97, dtype: int64"
      ]
     },
     "execution_count": 400,
     "metadata": {},
     "output_type": "execute_result"
    }
   ],
   "source": [
    "df['user_score'].value_counts(dropna=False)"
   ]
  },
  {
   "cell_type": "code",
   "execution_count": 401,
   "id": "23265869",
   "metadata": {},
   "outputs": [],
   "source": [
    "df['user_score'] = df['user_score'].replace('tbd', np.NaN)"
   ]
  },
  {
   "cell_type": "code",
   "execution_count": 402,
   "id": "5e70dbbf",
   "metadata": {},
   "outputs": [],
   "source": [
    "df['user_score'] = df['user_score'].astype('float64')"
   ]
  },
  {
   "cell_type": "code",
   "execution_count": 403,
   "id": "a433ac76",
   "metadata": {
    "scrolled": false
   },
   "outputs": [
    {
     "name": "stdout",
     "output_type": "stream",
     "text": [
      "<class 'pandas.core.frame.DataFrame'>\n",
      "RangeIndex: 16715 entries, 0 to 16714\n",
      "Data columns (total 11 columns):\n",
      " #   Column           Non-Null Count  Dtype  \n",
      "---  ------           --------------  -----  \n",
      " 0   name             16715 non-null  object \n",
      " 1   platform         16715 non-null  object \n",
      " 2   year_of_release  16715 non-null  int32  \n",
      " 3   genre            16715 non-null  object \n",
      " 4   na_sales         16715 non-null  float64\n",
      " 5   eu_sales         16715 non-null  float64\n",
      " 6   jp_sales         16715 non-null  float64\n",
      " 7   other_sales      16715 non-null  float64\n",
      " 8   critic_score     8137 non-null   float64\n",
      " 9   user_score       7590 non-null   float64\n",
      " 10  rating           9949 non-null   object \n",
      "dtypes: float64(6), int32(1), object(4)\n",
      "memory usage: 1.3+ MB\n"
     ]
    }
   ],
   "source": [
    "df.info()"
   ]
  },
  {
   "cell_type": "markdown",
   "id": "49b8b6ea",
   "metadata": {},
   "source": [
    "Посмотрим, есть ли в столбце с возрастным рейтингом неявные дубли"
   ]
  },
  {
   "cell_type": "code",
   "execution_count": 404,
   "id": "7aa1ca2f",
   "metadata": {
    "scrolled": true
   },
   "outputs": [
    {
     "data": {
      "text/plain": [
       "NaN     6766\n",
       "E       3990\n",
       "T       2961\n",
       "M       1563\n",
       "E10+    1420\n",
       "EC         8\n",
       "K-A        3\n",
       "RP         3\n",
       "AO         1\n",
       "Name: rating, dtype: int64"
      ]
     },
     "execution_count": 404,
     "metadata": {},
     "output_type": "execute_result"
    }
   ],
   "source": [
    "df['rating'].value_counts(dropna=False)"
   ]
  },
  {
   "cell_type": "markdown",
   "id": "54bf613c",
   "metadata": {},
   "source": [
    "Проверим датасет на полные дубли"
   ]
  },
  {
   "cell_type": "code",
   "execution_count": 405,
   "id": "85d029d2",
   "metadata": {
    "scrolled": true
   },
   "outputs": [
    {
     "data": {
      "text/plain": [
       "0"
      ]
     },
     "execution_count": 405,
     "metadata": {},
     "output_type": "execute_result"
    }
   ],
   "source": [
    "df.duplicated().sum()"
   ]
  },
  {
   "cell_type": "markdown",
   "id": "fc734a60",
   "metadata": {},
   "source": [
    "Создадим столбец с **суммарными продажами** игр по регионам. Также создадим датасет с данными о суммарных продажах всех игр в 4-м регионах."
   ]
  },
  {
   "cell_type": "code",
   "execution_count": 406,
   "id": "07ef94cb",
   "metadata": {},
   "outputs": [
    {
     "data": {
      "text/html": [
       "<div>\n",
       "<style scoped>\n",
       "    .dataframe tbody tr th:only-of-type {\n",
       "        vertical-align: middle;\n",
       "    }\n",
       "\n",
       "    .dataframe tbody tr th {\n",
       "        vertical-align: top;\n",
       "    }\n",
       "\n",
       "    .dataframe thead th {\n",
       "        text-align: right;\n",
       "    }\n",
       "</style>\n",
       "<table border=\"1\" class=\"dataframe\">\n",
       "  <thead>\n",
       "    <tr style=\"text-align: right;\">\n",
       "      <th></th>\n",
       "      <th>name</th>\n",
       "      <th>platform</th>\n",
       "      <th>year_of_release</th>\n",
       "      <th>genre</th>\n",
       "      <th>na_sales</th>\n",
       "      <th>eu_sales</th>\n",
       "      <th>jp_sales</th>\n",
       "      <th>other_sales</th>\n",
       "      <th>critic_score</th>\n",
       "      <th>user_score</th>\n",
       "      <th>rating</th>\n",
       "      <th>sales</th>\n",
       "    </tr>\n",
       "  </thead>\n",
       "  <tbody>\n",
       "    <tr>\n",
       "      <th>0</th>\n",
       "      <td>Wii Sports</td>\n",
       "      <td>Wii</td>\n",
       "      <td>2006</td>\n",
       "      <td>Sports</td>\n",
       "      <td>41.36</td>\n",
       "      <td>28.96</td>\n",
       "      <td>3.77</td>\n",
       "      <td>8.45</td>\n",
       "      <td>76.0</td>\n",
       "      <td>8.0</td>\n",
       "      <td>E</td>\n",
       "      <td>82.54</td>\n",
       "    </tr>\n",
       "    <tr>\n",
       "      <th>1</th>\n",
       "      <td>Super Mario Bros.</td>\n",
       "      <td>NES</td>\n",
       "      <td>1985</td>\n",
       "      <td>Platform</td>\n",
       "      <td>29.08</td>\n",
       "      <td>3.58</td>\n",
       "      <td>6.81</td>\n",
       "      <td>0.77</td>\n",
       "      <td>NaN</td>\n",
       "      <td>NaN</td>\n",
       "      <td>NaN</td>\n",
       "      <td>40.24</td>\n",
       "    </tr>\n",
       "    <tr>\n",
       "      <th>2</th>\n",
       "      <td>Mario Kart Wii</td>\n",
       "      <td>Wii</td>\n",
       "      <td>2008</td>\n",
       "      <td>Racing</td>\n",
       "      <td>15.68</td>\n",
       "      <td>12.76</td>\n",
       "      <td>3.79</td>\n",
       "      <td>3.29</td>\n",
       "      <td>82.0</td>\n",
       "      <td>8.3</td>\n",
       "      <td>E</td>\n",
       "      <td>35.52</td>\n",
       "    </tr>\n",
       "    <tr>\n",
       "      <th>3</th>\n",
       "      <td>Wii Sports Resort</td>\n",
       "      <td>Wii</td>\n",
       "      <td>2009</td>\n",
       "      <td>Sports</td>\n",
       "      <td>15.61</td>\n",
       "      <td>10.93</td>\n",
       "      <td>3.28</td>\n",
       "      <td>2.95</td>\n",
       "      <td>80.0</td>\n",
       "      <td>8.0</td>\n",
       "      <td>E</td>\n",
       "      <td>32.77</td>\n",
       "    </tr>\n",
       "    <tr>\n",
       "      <th>4</th>\n",
       "      <td>Pokemon Red/Pokemon Blue</td>\n",
       "      <td>GB</td>\n",
       "      <td>1996</td>\n",
       "      <td>Role-Playing</td>\n",
       "      <td>11.27</td>\n",
       "      <td>8.89</td>\n",
       "      <td>10.22</td>\n",
       "      <td>1.00</td>\n",
       "      <td>NaN</td>\n",
       "      <td>NaN</td>\n",
       "      <td>NaN</td>\n",
       "      <td>31.38</td>\n",
       "    </tr>\n",
       "  </tbody>\n",
       "</table>\n",
       "</div>"
      ],
      "text/plain": [
       "                       name platform  year_of_release         genre  na_sales  \\\n",
       "0                Wii Sports      Wii             2006        Sports     41.36   \n",
       "1         Super Mario Bros.      NES             1985      Platform     29.08   \n",
       "2            Mario Kart Wii      Wii             2008        Racing     15.68   \n",
       "3         Wii Sports Resort      Wii             2009        Sports     15.61   \n",
       "4  Pokemon Red/Pokemon Blue       GB             1996  Role-Playing     11.27   \n",
       "\n",
       "   eu_sales  jp_sales  other_sales  critic_score  user_score rating  sales  \n",
       "0     28.96      3.77         8.45          76.0         8.0      E  82.54  \n",
       "1      3.58      6.81         0.77           NaN         NaN    NaN  40.24  \n",
       "2     12.76      3.79         3.29          82.0         8.3      E  35.52  \n",
       "3     10.93      3.28         2.95          80.0         8.0      E  32.77  \n",
       "4      8.89     10.22         1.00           NaN         NaN    NaN  31.38  "
      ]
     },
     "execution_count": 406,
     "metadata": {},
     "output_type": "execute_result"
    }
   ],
   "source": [
    "df['sales'] = df['na_sales'] + df['eu_sales'] + df['jp_sales'] + df['other_sales']\n",
    "df.head()"
   ]
  },
  {
   "cell_type": "code",
   "execution_count": 407,
   "id": "0dfdf955",
   "metadata": {
    "scrolled": false
   },
   "outputs": [
    {
     "data": {
      "text/html": [
       "<div>\n",
       "<style scoped>\n",
       "    .dataframe tbody tr th:only-of-type {\n",
       "        vertical-align: middle;\n",
       "    }\n",
       "\n",
       "    .dataframe tbody tr th {\n",
       "        vertical-align: top;\n",
       "    }\n",
       "\n",
       "    .dataframe thead th {\n",
       "        text-align: right;\n",
       "    }\n",
       "</style>\n",
       "<table border=\"1\" class=\"dataframe\">\n",
       "  <thead>\n",
       "    <tr style=\"text-align: right;\">\n",
       "      <th></th>\n",
       "      <th>territory</th>\n",
       "      <th>revenue_sum</th>\n",
       "    </tr>\n",
       "  </thead>\n",
       "  <tbody>\n",
       "    <tr>\n",
       "      <th>0</th>\n",
       "      <td>na_sales_sum</td>\n",
       "      <td>4402.35</td>\n",
       "    </tr>\n",
       "    <tr>\n",
       "      <th>1</th>\n",
       "      <td>eu_sales_sum</td>\n",
       "      <td>2424.67</td>\n",
       "    </tr>\n",
       "    <tr>\n",
       "      <th>2</th>\n",
       "      <td>jp_sales_sum</td>\n",
       "      <td>1297.37</td>\n",
       "    </tr>\n",
       "    <tr>\n",
       "      <th>3</th>\n",
       "      <td>other_sales_sum</td>\n",
       "      <td>791.32</td>\n",
       "    </tr>\n",
       "  </tbody>\n",
       "</table>\n",
       "</div>"
      ],
      "text/plain": [
       "         territory  revenue_sum\n",
       "0     na_sales_sum      4402.35\n",
       "1     eu_sales_sum      2424.67\n",
       "2     jp_sales_sum      1297.37\n",
       "3  other_sales_sum       791.32"
      ]
     },
     "metadata": {},
     "output_type": "display_data"
    }
   ],
   "source": [
    "revenue_list = [{\"territory\":'na_sales_sum', \"revenue_sum\":df['na_sales'].sum()},\\\n",
    "                {\"territory\":'eu_sales_sum', \"revenue_sum\":df['eu_sales'].sum()},\\\n",
    "                {\"territory\":'jp_sales_sum', \"revenue_sum\":df['jp_sales'].sum()},\\\n",
    "                {\"territory\":'other_sales_sum', \"revenue_sum\":df['other_sales'].sum()}]\n",
    "revenue_sum = pd.DataFrame(revenue_list)\n",
    "display(revenue_sum)"
   ]
  },
  {
   "cell_type": "markdown",
   "id": "c739af4d",
   "metadata": {},
   "source": [
    "В продажах закономерно лидирует Северная Америка, потом идет Евросоюз, далее Япония и остальные страны. "
   ]
  },
  {
   "cell_type": "markdown",
   "id": "d3bdf907",
   "metadata": {},
   "source": [
    "**Результаты предобработки данных**:\n",
    "- названия столбцов мы привели к нижнему регистру;\n",
    "- нашли 2 строки с отсутствием данных о названии игры и другой информации;\n",
    "- В жанрах и названиях игр отсутствующие значения заменили на \"unknown\";\n",
    "- В годе релиза заменили отсутствующие данные на \"-1\", а все указанные данные привели к целочисленному типу;\n",
    "- Оценки пользователей - заменили значения \"tbd\" на отсутствующие данные, а все указанные данные привели к целочисленному типу;\n",
    "- Проверили рейтинги игра на наличие неявных дублей, а весь датасет - на наличие полных дублей;\n",
    "- Создали столбец с суммарными продажами каждой игры, а также посчитали сумму продаж по регионам;"
   ]
  },
  {
   "cell_type": "markdown",
   "id": "4bbe2328",
   "metadata": {},
   "source": [
    "## Исследовательский анализ данных"
   ]
  },
  {
   "cell_type": "markdown",
   "id": "1afc84b8",
   "metadata": {},
   "source": [
    "Посчитаем распределение выпуска игр по годам. Примем каждую строку, как отдельное событие (при том, что у некоторых игр есть по несколько релизов и по платформам, и по годам.)"
   ]
  },
  {
   "cell_type": "code",
   "execution_count": 408,
   "id": "06e705ca",
   "metadata": {
    "scrolled": true
   },
   "outputs": [
    {
     "data": {
      "text/plain": [
       "Text(0.5, 0, 'Годы.')"
      ]
     },
     "execution_count": 408,
     "metadata": {},
     "output_type": "execute_result"
    },
    {
     "data": {
      "image/png": "[encoded data removed]",
      "text/plain": [
       "<Figure size 1800x360 with 1 Axes>"
      ]
     },
     "metadata": {
      "needs_background": "light"
     },
     "output_type": "display_data"
    }
   ],
   "source": [
    "df[df['year_of_release'] > 0]['year_of_release']\\\n",
    "    .plot(kind='hist', bins=100, grid=True, figsize=(25,5))\\\n",
    "    .set_title('Распределение релизов игр, штук в год')\n",
    "plt.xlabel(\"Годы.\")"
   ]
  },
  {
   "cell_type": "markdown",
   "id": "714c8500",
   "metadata": {},
   "source": [
    "Если анализировать продажи игр по годам, то видно:\n",
    "- до начала 90-х стабильно небольшие продажи (десятки штук.);\n",
    "- подъем продаж в 1994, рост продаж в десятки раз;\n",
    "- подьем в 2001, рост в несколько раз;\n",
    "- спад после 2011-го до уровня начала 00-х. \n",
    "\n",
    "Если ограничивать период анализа, я бы не брал продажи до 1995-го года, когда начался рост \"современных\" продаж, связанных с технологическим и финансовым развитием индустрии. Также придется исключить строки с неизвестным годом выпуска (ок 1,6%). Актуальный период анализа определим позже."
   ]
  },
  {
   "cell_type": "markdown",
   "id": "ca5a7b04",
   "metadata": {},
   "source": [
    "Определим топ платформ про суммарным продажам. Также создадим столбец по количеству проданных наименований игр."
   ]
  },
  {
   "cell_type": "code",
   "execution_count": 409,
   "id": "02038dd8",
   "metadata": {
    "scrolled": false
   },
   "outputs": [
    {
     "data": {
      "text/html": [
       "<div>\n",
       "<style scoped>\n",
       "    .dataframe tbody tr th:only-of-type {\n",
       "        vertical-align: middle;\n",
       "    }\n",
       "\n",
       "    .dataframe tbody tr th {\n",
       "        vertical-align: top;\n",
       "    }\n",
       "\n",
       "    .dataframe thead th {\n",
       "        text-align: right;\n",
       "    }\n",
       "</style>\n",
       "<table border=\"1\" class=\"dataframe\">\n",
       "  <thead>\n",
       "    <tr style=\"text-align: right;\">\n",
       "      <th></th>\n",
       "      <th>index</th>\n",
       "      <th>platform</th>\n",
       "      <th>titles_quantity</th>\n",
       "      <th>platform_sales</th>\n",
       "    </tr>\n",
       "  </thead>\n",
       "  <tbody>\n",
       "    <tr>\n",
       "      <th>0</th>\n",
       "      <td>16</td>\n",
       "      <td>PS2</td>\n",
       "      <td>2161</td>\n",
       "      <td>1255.77</td>\n",
       "    </tr>\n",
       "    <tr>\n",
       "      <th>1</th>\n",
       "      <td>28</td>\n",
       "      <td>X360</td>\n",
       "      <td>1262</td>\n",
       "      <td>971.42</td>\n",
       "    </tr>\n",
       "    <tr>\n",
       "      <th>2</th>\n",
       "      <td>17</td>\n",
       "      <td>PS3</td>\n",
       "      <td>1331</td>\n",
       "      <td>939.65</td>\n",
       "    </tr>\n",
       "    <tr>\n",
       "      <th>3</th>\n",
       "      <td>26</td>\n",
       "      <td>Wii</td>\n",
       "      <td>1320</td>\n",
       "      <td>907.51</td>\n",
       "    </tr>\n",
       "    <tr>\n",
       "      <th>4</th>\n",
       "      <td>4</td>\n",
       "      <td>DS</td>\n",
       "      <td>2151</td>\n",
       "      <td>806.12</td>\n",
       "    </tr>\n",
       "    <tr>\n",
       "      <th>5</th>\n",
       "      <td>15</td>\n",
       "      <td>PS</td>\n",
       "      <td>1197</td>\n",
       "      <td>730.86</td>\n",
       "    </tr>\n",
       "    <tr>\n",
       "      <th>6</th>\n",
       "      <td>6</td>\n",
       "      <td>GBA</td>\n",
       "      <td>822</td>\n",
       "      <td>317.85</td>\n",
       "    </tr>\n",
       "    <tr>\n",
       "      <th>7</th>\n",
       "      <td>18</td>\n",
       "      <td>PS4</td>\n",
       "      <td>392</td>\n",
       "      <td>314.14</td>\n",
       "    </tr>\n",
       "    <tr>\n",
       "      <th>8</th>\n",
       "      <td>19</td>\n",
       "      <td>PSP</td>\n",
       "      <td>1209</td>\n",
       "      <td>294.05</td>\n",
       "    </tr>\n",
       "    <tr>\n",
       "      <th>9</th>\n",
       "      <td>13</td>\n",
       "      <td>PC</td>\n",
       "      <td>974</td>\n",
       "      <td>259.52</td>\n",
       "    </tr>\n",
       "    <tr>\n",
       "      <th>10</th>\n",
       "      <td>2</td>\n",
       "      <td>3DS</td>\n",
       "      <td>520</td>\n",
       "      <td>259.00</td>\n",
       "    </tr>\n",
       "    <tr>\n",
       "      <th>11</th>\n",
       "      <td>29</td>\n",
       "      <td>XB</td>\n",
       "      <td>824</td>\n",
       "      <td>257.74</td>\n",
       "    </tr>\n",
       "    <tr>\n",
       "      <th>12</th>\n",
       "      <td>5</td>\n",
       "      <td>GB</td>\n",
       "      <td>98</td>\n",
       "      <td>255.46</td>\n",
       "    </tr>\n",
       "    <tr>\n",
       "      <th>13</th>\n",
       "      <td>11</td>\n",
       "      <td>NES</td>\n",
       "      <td>98</td>\n",
       "      <td>251.05</td>\n",
       "    </tr>\n",
       "    <tr>\n",
       "      <th>14</th>\n",
       "      <td>10</td>\n",
       "      <td>N64</td>\n",
       "      <td>319</td>\n",
       "      <td>218.68</td>\n",
       "    </tr>\n",
       "    <tr>\n",
       "      <th>15</th>\n",
       "      <td>23</td>\n",
       "      <td>SNES</td>\n",
       "      <td>239</td>\n",
       "      <td>200.04</td>\n",
       "    </tr>\n",
       "    <tr>\n",
       "      <th>16</th>\n",
       "      <td>7</td>\n",
       "      <td>GC</td>\n",
       "      <td>556</td>\n",
       "      <td>198.93</td>\n",
       "    </tr>\n",
       "    <tr>\n",
       "      <th>17</th>\n",
       "      <td>30</td>\n",
       "      <td>XOne</td>\n",
       "      <td>247</td>\n",
       "      <td>159.32</td>\n",
       "    </tr>\n",
       "    <tr>\n",
       "      <th>18</th>\n",
       "      <td>0</td>\n",
       "      <td>2600</td>\n",
       "      <td>133</td>\n",
       "      <td>96.98</td>\n",
       "    </tr>\n",
       "    <tr>\n",
       "      <th>19</th>\n",
       "      <td>27</td>\n",
       "      <td>WiiU</td>\n",
       "      <td>147</td>\n",
       "      <td>82.19</td>\n",
       "    </tr>\n",
       "    <tr>\n",
       "      <th>20</th>\n",
       "      <td>20</td>\n",
       "      <td>PSV</td>\n",
       "      <td>430</td>\n",
       "      <td>54.07</td>\n",
       "    </tr>\n",
       "    <tr>\n",
       "      <th>21</th>\n",
       "      <td>21</td>\n",
       "      <td>SAT</td>\n",
       "      <td>173</td>\n",
       "      <td>33.59</td>\n",
       "    </tr>\n",
       "    <tr>\n",
       "      <th>22</th>\n",
       "      <td>8</td>\n",
       "      <td>GEN</td>\n",
       "      <td>29</td>\n",
       "      <td>30.77</td>\n",
       "    </tr>\n",
       "    <tr>\n",
       "      <th>23</th>\n",
       "      <td>3</td>\n",
       "      <td>DC</td>\n",
       "      <td>52</td>\n",
       "      <td>15.95</td>\n",
       "    </tr>\n",
       "    <tr>\n",
       "      <th>24</th>\n",
       "      <td>22</td>\n",
       "      <td>SCD</td>\n",
       "      <td>6</td>\n",
       "      <td>1.86</td>\n",
       "    </tr>\n",
       "    <tr>\n",
       "      <th>25</th>\n",
       "      <td>12</td>\n",
       "      <td>NG</td>\n",
       "      <td>12</td>\n",
       "      <td>1.44</td>\n",
       "    </tr>\n",
       "    <tr>\n",
       "      <th>26</th>\n",
       "      <td>25</td>\n",
       "      <td>WS</td>\n",
       "      <td>6</td>\n",
       "      <td>1.42</td>\n",
       "    </tr>\n",
       "    <tr>\n",
       "      <th>27</th>\n",
       "      <td>24</td>\n",
       "      <td>TG16</td>\n",
       "      <td>2</td>\n",
       "      <td>0.16</td>\n",
       "    </tr>\n",
       "    <tr>\n",
       "      <th>28</th>\n",
       "      <td>1</td>\n",
       "      <td>3DO</td>\n",
       "      <td>3</td>\n",
       "      <td>0.10</td>\n",
       "    </tr>\n",
       "    <tr>\n",
       "      <th>29</th>\n",
       "      <td>9</td>\n",
       "      <td>GG</td>\n",
       "      <td>1</td>\n",
       "      <td>0.04</td>\n",
       "    </tr>\n",
       "    <tr>\n",
       "      <th>30</th>\n",
       "      <td>14</td>\n",
       "      <td>PCFX</td>\n",
       "      <td>1</td>\n",
       "      <td>0.03</td>\n",
       "    </tr>\n",
       "  </tbody>\n",
       "</table>\n",
       "</div>"
      ],
      "text/plain": [
       "    index platform  titles_quantity  platform_sales\n",
       "0      16      PS2             2161         1255.77\n",
       "1      28     X360             1262          971.42\n",
       "2      17      PS3             1331          939.65\n",
       "3      26      Wii             1320          907.51\n",
       "4       4       DS             2151          806.12\n",
       "5      15       PS             1197          730.86\n",
       "6       6      GBA              822          317.85\n",
       "7      18      PS4              392          314.14\n",
       "8      19      PSP             1209          294.05\n",
       "9      13       PC              974          259.52\n",
       "10      2      3DS              520          259.00\n",
       "11     29       XB              824          257.74\n",
       "12      5       GB               98          255.46\n",
       "13     11      NES               98          251.05\n",
       "14     10      N64              319          218.68\n",
       "15     23     SNES              239          200.04\n",
       "16      7       GC              556          198.93\n",
       "17     30     XOne              247          159.32\n",
       "18      0     2600              133           96.98\n",
       "19     27     WiiU              147           82.19\n",
       "20     20      PSV              430           54.07\n",
       "21     21      SAT              173           33.59\n",
       "22      8      GEN               29           30.77\n",
       "23      3       DC               52           15.95\n",
       "24     22      SCD                6            1.86\n",
       "25     12       NG               12            1.44\n",
       "26     25       WS                6            1.42\n",
       "27     24     TG16                2            0.16\n",
       "28      1      3DO                3            0.10\n",
       "29      9       GG                1            0.04\n",
       "30     14     PCFX                1            0.03"
      ]
     },
     "execution_count": 409,
     "metadata": {},
     "output_type": "execute_result"
    }
   ],
   "source": [
    "df_platforms_sum = df.pivot_table(index='platform', values='year_of_release', aggfunc='count')\n",
    "df_platforms_sum['platform_sales'] = df.pivot_table(index='platform', values='sales', aggfunc='sum')\n",
    "df_platforms_sum = df_platforms_sum.reset_index()\n",
    "df_platforms_sum = df_platforms_sum.sort_values(by='platform_sales', ascending=False)\n",
    "df_platforms_sum = df_platforms_sum.reset_index()\n",
    "df_platforms_sum = df_platforms_sum.rename(columns={'year_of_release':'titles_quantity'})\n",
    "\n",
    "df_platforms_sum"
   ]
  },
  {
   "cell_type": "markdown",
   "id": "76844e7e",
   "metadata": {},
   "source": [
    "На наш взгляд лидеры продаж - те платформы, которые перешли границу в 700 млн. копий. До этой границы продажи \"растут\" без скачков, а у 6-й по величине продаж палатформы - резкий отрыв от своего ближайшего конкурента (разница почти в 2 раза.)"
   ]
  },
  {
   "cell_type": "code",
   "execution_count": 410,
   "id": "dffe3cfb",
   "metadata": {},
   "outputs": [
    {
     "data": {
      "text/html": [
       "<div>\n",
       "<style scoped>\n",
       "    .dataframe tbody tr th:only-of-type {\n",
       "        vertical-align: middle;\n",
       "    }\n",
       "\n",
       "    .dataframe tbody tr th {\n",
       "        vertical-align: top;\n",
       "    }\n",
       "\n",
       "    .dataframe thead th {\n",
       "        text-align: right;\n",
       "    }\n",
       "</style>\n",
       "<table border=\"1\" class=\"dataframe\">\n",
       "  <thead>\n",
       "    <tr style=\"text-align: right;\">\n",
       "      <th></th>\n",
       "      <th>index</th>\n",
       "      <th>platform</th>\n",
       "      <th>titles_quantity</th>\n",
       "      <th>platform_sales</th>\n",
       "    </tr>\n",
       "  </thead>\n",
       "  <tbody>\n",
       "    <tr>\n",
       "      <th>0</th>\n",
       "      <td>16</td>\n",
       "      <td>PS2</td>\n",
       "      <td>2161</td>\n",
       "      <td>1255.77</td>\n",
       "    </tr>\n",
       "    <tr>\n",
       "      <th>1</th>\n",
       "      <td>28</td>\n",
       "      <td>X360</td>\n",
       "      <td>1262</td>\n",
       "      <td>971.42</td>\n",
       "    </tr>\n",
       "    <tr>\n",
       "      <th>2</th>\n",
       "      <td>17</td>\n",
       "      <td>PS3</td>\n",
       "      <td>1331</td>\n",
       "      <td>939.65</td>\n",
       "    </tr>\n",
       "    <tr>\n",
       "      <th>3</th>\n",
       "      <td>26</td>\n",
       "      <td>Wii</td>\n",
       "      <td>1320</td>\n",
       "      <td>907.51</td>\n",
       "    </tr>\n",
       "    <tr>\n",
       "      <th>4</th>\n",
       "      <td>4</td>\n",
       "      <td>DS</td>\n",
       "      <td>2151</td>\n",
       "      <td>806.12</td>\n",
       "    </tr>\n",
       "    <tr>\n",
       "      <th>5</th>\n",
       "      <td>15</td>\n",
       "      <td>PS</td>\n",
       "      <td>1197</td>\n",
       "      <td>730.86</td>\n",
       "    </tr>\n",
       "  </tbody>\n",
       "</table>\n",
       "</div>"
      ],
      "text/plain": [
       "   index platform  titles_quantity  platform_sales\n",
       "0     16      PS2             2161         1255.77\n",
       "1     28     X360             1262          971.42\n",
       "2     17      PS3             1331          939.65\n",
       "3     26      Wii             1320          907.51\n",
       "4      4       DS             2151          806.12\n",
       "5     15       PS             1197          730.86"
      ]
     },
     "execution_count": 410,
     "metadata": {},
     "output_type": "execute_result"
    }
   ],
   "source": [
    "df_platforms_sum_6 = df_platforms_sum[df_platforms_sum['platform_sales'] > 700]\n",
    "df_platforms_sum_6"
   ]
  },
  {
   "cell_type": "code",
   "execution_count": 411,
   "id": "ea3464f3",
   "metadata": {
    "scrolled": true
   },
   "outputs": [
    {
     "data": {
      "text/html": [
       "<div>\n",
       "<style scoped>\n",
       "    .dataframe tbody tr th:only-of-type {\n",
       "        vertical-align: middle;\n",
       "    }\n",
       "\n",
       "    .dataframe tbody tr th {\n",
       "        vertical-align: top;\n",
       "    }\n",
       "\n",
       "    .dataframe thead th {\n",
       "        text-align: right;\n",
       "    }\n",
       "</style>\n",
       "<table border=\"1\" class=\"dataframe\">\n",
       "  <thead>\n",
       "    <tr style=\"text-align: right;\">\n",
       "      <th></th>\n",
       "      <th>name</th>\n",
       "      <th>platform</th>\n",
       "      <th>year_of_release</th>\n",
       "      <th>genre</th>\n",
       "      <th>na_sales</th>\n",
       "      <th>eu_sales</th>\n",
       "      <th>jp_sales</th>\n",
       "      <th>other_sales</th>\n",
       "      <th>critic_score</th>\n",
       "      <th>user_score</th>\n",
       "      <th>rating</th>\n",
       "      <th>sales</th>\n",
       "    </tr>\n",
       "  </thead>\n",
       "  <tbody>\n",
       "    <tr>\n",
       "      <th>0</th>\n",
       "      <td>Wii Sports</td>\n",
       "      <td>Wii</td>\n",
       "      <td>2006</td>\n",
       "      <td>Sports</td>\n",
       "      <td>41.36</td>\n",
       "      <td>28.96</td>\n",
       "      <td>3.77</td>\n",
       "      <td>8.45</td>\n",
       "      <td>76.0</td>\n",
       "      <td>8.0</td>\n",
       "      <td>E</td>\n",
       "      <td>82.54</td>\n",
       "    </tr>\n",
       "    <tr>\n",
       "      <th>2</th>\n",
       "      <td>Mario Kart Wii</td>\n",
       "      <td>Wii</td>\n",
       "      <td>2008</td>\n",
       "      <td>Racing</td>\n",
       "      <td>15.68</td>\n",
       "      <td>12.76</td>\n",
       "      <td>3.79</td>\n",
       "      <td>3.29</td>\n",
       "      <td>82.0</td>\n",
       "      <td>8.3</td>\n",
       "      <td>E</td>\n",
       "      <td>35.52</td>\n",
       "    </tr>\n",
       "    <tr>\n",
       "      <th>3</th>\n",
       "      <td>Wii Sports Resort</td>\n",
       "      <td>Wii</td>\n",
       "      <td>2009</td>\n",
       "      <td>Sports</td>\n",
       "      <td>15.61</td>\n",
       "      <td>10.93</td>\n",
       "      <td>3.28</td>\n",
       "      <td>2.95</td>\n",
       "      <td>80.0</td>\n",
       "      <td>8.0</td>\n",
       "      <td>E</td>\n",
       "      <td>32.77</td>\n",
       "    </tr>\n",
       "    <tr>\n",
       "      <th>6</th>\n",
       "      <td>New Super Mario Bros.</td>\n",
       "      <td>DS</td>\n",
       "      <td>2006</td>\n",
       "      <td>Platform</td>\n",
       "      <td>11.28</td>\n",
       "      <td>9.14</td>\n",
       "      <td>6.50</td>\n",
       "      <td>2.88</td>\n",
       "      <td>89.0</td>\n",
       "      <td>8.5</td>\n",
       "      <td>E</td>\n",
       "      <td>29.80</td>\n",
       "    </tr>\n",
       "    <tr>\n",
       "      <th>7</th>\n",
       "      <td>Wii Play</td>\n",
       "      <td>Wii</td>\n",
       "      <td>2006</td>\n",
       "      <td>Misc</td>\n",
       "      <td>13.96</td>\n",
       "      <td>9.18</td>\n",
       "      <td>2.93</td>\n",
       "      <td>2.84</td>\n",
       "      <td>58.0</td>\n",
       "      <td>6.6</td>\n",
       "      <td>E</td>\n",
       "      <td>28.91</td>\n",
       "    </tr>\n",
       "  </tbody>\n",
       "</table>\n",
       "</div>"
      ],
      "text/plain": [
       "                    name platform  year_of_release     genre  na_sales  \\\n",
       "0             Wii Sports      Wii             2006    Sports     41.36   \n",
       "2         Mario Kart Wii      Wii             2008    Racing     15.68   \n",
       "3      Wii Sports Resort      Wii             2009    Sports     15.61   \n",
       "6  New Super Mario Bros.       DS             2006  Platform     11.28   \n",
       "7               Wii Play      Wii             2006      Misc     13.96   \n",
       "\n",
       "   eu_sales  jp_sales  other_sales  critic_score  user_score rating  sales  \n",
       "0     28.96      3.77         8.45          76.0         8.0      E  82.54  \n",
       "2     12.76      3.79         3.29          82.0         8.3      E  35.52  \n",
       "3     10.93      3.28         2.95          80.0         8.0      E  32.77  \n",
       "6      9.14      6.50         2.88          89.0         8.5      E  29.80  \n",
       "7      9.18      2.93         2.84          58.0         6.6      E  28.91  "
      ]
     },
     "execution_count": 411,
     "metadata": {},
     "output_type": "execute_result"
    }
   ],
   "source": [
    "df_top_6 = df[df['platform'].isin(df_platforms_sum_6['platform'])]\n",
    "df_top_6.head()   "
   ]
  },
  {
   "cell_type": "code",
   "execution_count": 412,
   "id": "23314efb",
   "metadata": {
    "scrolled": false
   },
   "outputs": [
    {
     "data": {
      "image/png": "[encoded data removed]",
      "text/plain": [
       "<Figure size 1440x288 with 1 Axes>"
      ]
     },
     "metadata": {
      "needs_background": "light"
     },
     "output_type": "display_data"
    }
   ],
   "source": [
    "(df_top_6[df_top_6['year_of_release'] > 0]\n",
    " .pivot_table(index='platform', columns='year_of_release', values='sales', aggfunc='count')\n",
    " .T\n",
    " .plot(kind='line', figsize=(20,4),  style = 'o-', grid=True)\n",
    ")\n",
    "plt.title('Продажи платформ из топ-6'+ \"\\n\")\n",
    "plt.xlabel('years')\n",
    "plt.ylabel('sales');"
   ]
  },
  {
   "cell_type": "markdown",
   "id": "dc4f1e52",
   "metadata": {},
   "source": [
    "Судя по графикам продаж по годам среди самых популярных платформ, жизненный цикл (точнее, период популярности) составляет примерно 6-8 лет."
   ]
  },
  {
   "cell_type": "markdown",
   "id": "cf00caee",
   "metadata": {},
   "source": [
    "**Актуальным периодом** на примере топовых платформ я бы считал 2011-2016 - перед ним начинается рост сразу нескольких топовых платформ и приходятся пики нескольких топовых платформ, а в 2013 ясно видно, что спад продолжается 2-й год подряд, и после этого продажи только падают. Важно, что этот период близок к 2017-му, тренды которого мы хотим прогнозировать, а данные до 2011-го всё-таки уже избыточны для такого прогноза (хотя и позволяют увидеть жизненный цикл платформ.)"
   ]
  },
  {
   "cell_type": "markdown",
   "id": "d904da47",
   "metadata": {},
   "source": [
    "Изучим динамику продаж игр на платформах в период 2011-2016."
   ]
  },
  {
   "cell_type": "code",
   "execution_count": 413,
   "id": "364ef637",
   "metadata": {
    "scrolled": true
   },
   "outputs": [
    {
     "data": {
      "text/html": [
       "<div>\n",
       "<style scoped>\n",
       "    .dataframe tbody tr th:only-of-type {\n",
       "        vertical-align: middle;\n",
       "    }\n",
       "\n",
       "    .dataframe tbody tr th {\n",
       "        vertical-align: top;\n",
       "    }\n",
       "\n",
       "    .dataframe thead th {\n",
       "        text-align: right;\n",
       "    }\n",
       "</style>\n",
       "<table border=\"1\" class=\"dataframe\">\n",
       "  <thead>\n",
       "    <tr style=\"text-align: right;\">\n",
       "      <th></th>\n",
       "      <th>name</th>\n",
       "      <th>platform</th>\n",
       "      <th>year_of_release</th>\n",
       "      <th>genre</th>\n",
       "      <th>na_sales</th>\n",
       "      <th>eu_sales</th>\n",
       "      <th>jp_sales</th>\n",
       "      <th>other_sales</th>\n",
       "      <th>critic_score</th>\n",
       "      <th>user_score</th>\n",
       "      <th>rating</th>\n",
       "      <th>sales</th>\n",
       "    </tr>\n",
       "  </thead>\n",
       "  <tbody>\n",
       "    <tr>\n",
       "      <th>16</th>\n",
       "      <td>Grand Theft Auto V</td>\n",
       "      <td>PS3</td>\n",
       "      <td>2013</td>\n",
       "      <td>Action</td>\n",
       "      <td>7.02</td>\n",
       "      <td>9.09</td>\n",
       "      <td>0.98</td>\n",
       "      <td>3.96</td>\n",
       "      <td>97.0</td>\n",
       "      <td>8.2</td>\n",
       "      <td>M</td>\n",
       "      <td>21.05</td>\n",
       "    </tr>\n",
       "    <tr>\n",
       "      <th>23</th>\n",
       "      <td>Grand Theft Auto V</td>\n",
       "      <td>X360</td>\n",
       "      <td>2013</td>\n",
       "      <td>Action</td>\n",
       "      <td>9.66</td>\n",
       "      <td>5.14</td>\n",
       "      <td>0.06</td>\n",
       "      <td>1.41</td>\n",
       "      <td>97.0</td>\n",
       "      <td>8.1</td>\n",
       "      <td>M</td>\n",
       "      <td>16.27</td>\n",
       "    </tr>\n",
       "    <tr>\n",
       "      <th>29</th>\n",
       "      <td>Call of Duty: Modern Warfare 3</td>\n",
       "      <td>X360</td>\n",
       "      <td>2011</td>\n",
       "      <td>Shooter</td>\n",
       "      <td>9.04</td>\n",
       "      <td>4.24</td>\n",
       "      <td>0.13</td>\n",
       "      <td>1.32</td>\n",
       "      <td>88.0</td>\n",
       "      <td>3.4</td>\n",
       "      <td>M</td>\n",
       "      <td>14.73</td>\n",
       "    </tr>\n",
       "    <tr>\n",
       "      <th>31</th>\n",
       "      <td>Call of Duty: Black Ops 3</td>\n",
       "      <td>PS4</td>\n",
       "      <td>2015</td>\n",
       "      <td>Shooter</td>\n",
       "      <td>6.03</td>\n",
       "      <td>5.86</td>\n",
       "      <td>0.36</td>\n",
       "      <td>2.38</td>\n",
       "      <td>NaN</td>\n",
       "      <td>NaN</td>\n",
       "      <td>NaN</td>\n",
       "      <td>14.63</td>\n",
       "    </tr>\n",
       "    <tr>\n",
       "      <th>33</th>\n",
       "      <td>Pokemon X/Pokemon Y</td>\n",
       "      <td>3DS</td>\n",
       "      <td>2013</td>\n",
       "      <td>Role-Playing</td>\n",
       "      <td>5.28</td>\n",
       "      <td>4.19</td>\n",
       "      <td>4.35</td>\n",
       "      <td>0.78</td>\n",
       "      <td>NaN</td>\n",
       "      <td>NaN</td>\n",
       "      <td>NaN</td>\n",
       "      <td>14.60</td>\n",
       "    </tr>\n",
       "  </tbody>\n",
       "</table>\n",
       "</div>"
      ],
      "text/plain": [
       "                              name platform  year_of_release         genre  \\\n",
       "16              Grand Theft Auto V      PS3             2013        Action   \n",
       "23              Grand Theft Auto V     X360             2013        Action   \n",
       "29  Call of Duty: Modern Warfare 3     X360             2011       Shooter   \n",
       "31       Call of Duty: Black Ops 3      PS4             2015       Shooter   \n",
       "33             Pokemon X/Pokemon Y      3DS             2013  Role-Playing   \n",
       "\n",
       "    na_sales  eu_sales  jp_sales  other_sales  critic_score  user_score  \\\n",
       "16      7.02      9.09      0.98         3.96          97.0         8.2   \n",
       "23      9.66      5.14      0.06         1.41          97.0         8.1   \n",
       "29      9.04      4.24      0.13         1.32          88.0         3.4   \n",
       "31      6.03      5.86      0.36         2.38           NaN         NaN   \n",
       "33      5.28      4.19      4.35         0.78           NaN         NaN   \n",
       "\n",
       "   rating  sales  \n",
       "16      M  21.05  \n",
       "23      M  16.27  \n",
       "29      M  14.73  \n",
       "31    NaN  14.63  \n",
       "33    NaN  14.60  "
      ]
     },
     "execution_count": 413,
     "metadata": {},
     "output_type": "execute_result"
    }
   ],
   "source": [
    "df_11_16 = df[df['year_of_release'] > 2010]\n",
    "df_11_16.head()"
   ]
  },
  {
   "cell_type": "code",
   "execution_count": 414,
   "id": "d43d91a2",
   "metadata": {
    "scrolled": true
   },
   "outputs": [
    {
     "data": {
      "text/plain": [
       "PS3     708\n",
       "3DS     512\n",
       "X360    498\n",
       "PSV     429\n",
       "PS4     392\n",
       "PC      389\n",
       "PSP     312\n",
       "XOne    247\n",
       "Wii     197\n",
       "DS      184\n",
       "WiiU    147\n",
       "PS2       7\n",
       "Name: platform, dtype: int64"
      ]
     },
     "execution_count": 414,
     "metadata": {},
     "output_type": "execute_result"
    }
   ],
   "source": [
    "df_11_16['platform'].value_counts()"
   ]
  },
  {
   "cell_type": "code",
   "execution_count": 415,
   "id": "fc9e9bf9",
   "metadata": {
    "scrolled": true
   },
   "outputs": [
    {
     "data": {
      "image/png": "[encoded data removed]",
      "text/plain": [
       "<Figure size 1440x432 with 1 Axes>"
      ]
     },
     "metadata": {
      "needs_background": "light"
     },
     "output_type": "display_data"
    }
   ],
   "source": [
    "(df[df['year_of_release'] > 2005]\n",
    " .pivot_table(index='platform', columns='year_of_release', values='sales', aggfunc='sum')\n",
    " .T\n",
    " .plot(kind='line', figsize=(20,6),  style = 'o-', grid=True)\n",
    ")\n",
    "plt.title('Продажи платформ 2005-2016'+ \"\\n\")\n",
    "plt.xlabel('years')\n",
    "plt.ylabel('sales');"
   ]
  },
  {
   "cell_type": "markdown",
   "id": "7dde63db",
   "metadata": {},
   "source": [
    "Видно, что на начало это периода приходится окончание жизненного цикла некоторых платформ. На середину - пики продаж еще нескольких наименований. В конце периода есть пара \"выскочек\", а у остальных - падение продаж. Посмотрим на данные после 2011-го года, чтобы оценить тренды периода, близкого к интересующему нас 2016-му, а также отсечь платформы, популярность которых в прошлом."
   ]
  },
  {
   "cell_type": "code",
   "execution_count": 416,
   "id": "5bc096a2",
   "metadata": {
    "scrolled": true
   },
   "outputs": [
    {
     "data": {
      "image/png": "[encoded data removed]",
      "text/plain": [
       "<Figure size 1440x432 with 1 Axes>"
      ]
     },
     "metadata": {
      "needs_background": "light"
     },
     "output_type": "display_data"
    }
   ],
   "source": [
    "(df_11_16\n",
    " .pivot_table(index='platform', columns='year_of_release', values='sales', aggfunc='sum')\n",
    " .T\n",
    " .plot(kind='line', figsize=(20,6),  style = 'o-', grid=True)\n",
    ")\n",
    "plt.title('Продажи платформ 2011-2016'+ \"\\n\")\n",
    "plt.xlabel('years')\n",
    "plt.ylabel('sales');"
   ]
  },
  {
   "cell_type": "code",
   "execution_count": 417,
   "id": "0ab27d5a",
   "metadata": {
    "scrolled": true
   },
   "outputs": [
    {
     "data": {
      "text/html": [
       "<div>\n",
       "<style scoped>\n",
       "    .dataframe tbody tr th:only-of-type {\n",
       "        vertical-align: middle;\n",
       "    }\n",
       "\n",
       "    .dataframe tbody tr th {\n",
       "        vertical-align: top;\n",
       "    }\n",
       "\n",
       "    .dataframe thead th {\n",
       "        text-align: right;\n",
       "    }\n",
       "</style>\n",
       "<table border=\"1\" class=\"dataframe\">\n",
       "  <thead>\n",
       "    <tr style=\"text-align: right;\">\n",
       "      <th></th>\n",
       "      <th>sales</th>\n",
       "    </tr>\n",
       "    <tr>\n",
       "      <th>platform</th>\n",
       "      <th></th>\n",
       "    </tr>\n",
       "  </thead>\n",
       "  <tbody>\n",
       "    <tr>\n",
       "      <th>PS4</th>\n",
       "      <td>69.25</td>\n",
       "    </tr>\n",
       "    <tr>\n",
       "      <th>XOne</th>\n",
       "      <td>26.15</td>\n",
       "    </tr>\n",
       "    <tr>\n",
       "      <th>3DS</th>\n",
       "      <td>15.14</td>\n",
       "    </tr>\n",
       "    <tr>\n",
       "      <th>PC</th>\n",
       "      <td>5.25</td>\n",
       "    </tr>\n",
       "    <tr>\n",
       "      <th>WiiU</th>\n",
       "      <td>4.60</td>\n",
       "    </tr>\n",
       "    <tr>\n",
       "      <th>PSV</th>\n",
       "      <td>4.25</td>\n",
       "    </tr>\n",
       "    <tr>\n",
       "      <th>PS3</th>\n",
       "      <td>3.60</td>\n",
       "    </tr>\n",
       "    <tr>\n",
       "      <th>X360</th>\n",
       "      <td>1.52</td>\n",
       "    </tr>\n",
       "    <tr>\n",
       "      <th>Wii</th>\n",
       "      <td>0.18</td>\n",
       "    </tr>\n",
       "  </tbody>\n",
       "</table>\n",
       "</div>"
      ],
      "text/plain": [
       "          sales\n",
       "platform       \n",
       "PS4       69.25\n",
       "XOne      26.15\n",
       "3DS       15.14\n",
       "PC         5.25\n",
       "WiiU       4.60\n",
       "PSV        4.25\n",
       "PS3        3.60\n",
       "X360       1.52\n",
       "Wii        0.18"
      ]
     },
     "execution_count": 417,
     "metadata": {},
     "output_type": "execute_result"
    }
   ],
   "source": [
    "df_2016 = df[df['year_of_release'] == 2016].pivot_table(index='platform', values='sales', aggfunc='sum')\n",
    "df_2016.sort_values(by='sales', ascending=False)"
   ]
  },
  {
   "cell_type": "markdown",
   "id": "5668c7a1",
   "metadata": {},
   "source": [
    "Также посмотрим, что произошло с платформами к концу периода на 3-х разных территориях."
   ]
  },
  {
   "cell_type": "code",
   "execution_count": 418,
   "id": "3f961c17",
   "metadata": {
    "scrolled": true
   },
   "outputs": [
    {
     "data": {
      "image/png": "[encoded data removed]",
      "text/plain": [
       "<Figure size 1440x432 with 1 Axes>"
      ]
     },
     "metadata": {
      "needs_background": "light"
     },
     "output_type": "display_data"
    }
   ],
   "source": [
    "(df[df['year_of_release'] > 2011]\n",
    " .pivot_table(index='platform', columns='year_of_release', values='na_sales', aggfunc='sum')\n",
    " .T\n",
    " .plot(kind='line', figsize=(20,6),  style = 'o-', grid=True)\n",
    ")\n",
    "plt.title('Продажи платформ 2011-2016, Северная Америка'+ \"\\n\")\n",
    "plt.xlabel('years')\n",
    "plt.ylabel('sales');"
   ]
  },
  {
   "cell_type": "code",
   "execution_count": 419,
   "id": "8a967464",
   "metadata": {},
   "outputs": [
    {
     "data": {
      "text/html": [
       "<div>\n",
       "<style scoped>\n",
       "    .dataframe tbody tr th:only-of-type {\n",
       "        vertical-align: middle;\n",
       "    }\n",
       "\n",
       "    .dataframe tbody tr th {\n",
       "        vertical-align: top;\n",
       "    }\n",
       "\n",
       "    .dataframe thead th {\n",
       "        text-align: right;\n",
       "    }\n",
       "</style>\n",
       "<table border=\"1\" class=\"dataframe\">\n",
       "  <thead>\n",
       "    <tr style=\"text-align: right;\">\n",
       "      <th></th>\n",
       "      <th>na_sales</th>\n",
       "    </tr>\n",
       "    <tr>\n",
       "      <th>platform</th>\n",
       "      <th></th>\n",
       "    </tr>\n",
       "  </thead>\n",
       "  <tbody>\n",
       "    <tr>\n",
       "      <th>PS4</th>\n",
       "      <td>21.49</td>\n",
       "    </tr>\n",
       "    <tr>\n",
       "      <th>XOne</th>\n",
       "      <td>14.27</td>\n",
       "    </tr>\n",
       "    <tr>\n",
       "      <th>3DS</th>\n",
       "      <td>4.14</td>\n",
       "    </tr>\n",
       "    <tr>\n",
       "      <th>WiiU</th>\n",
       "      <td>2.10</td>\n",
       "    </tr>\n",
       "    <tr>\n",
       "      <th>PC</th>\n",
       "      <td>1.36</td>\n",
       "    </tr>\n",
       "    <tr>\n",
       "      <th>X360</th>\n",
       "      <td>0.69</td>\n",
       "    </tr>\n",
       "    <tr>\n",
       "      <th>PS3</th>\n",
       "      <td>0.67</td>\n",
       "    </tr>\n",
       "    <tr>\n",
       "      <th>PSV</th>\n",
       "      <td>0.15</td>\n",
       "    </tr>\n",
       "    <tr>\n",
       "      <th>Wii</th>\n",
       "      <td>0.06</td>\n",
       "    </tr>\n",
       "  </tbody>\n",
       "</table>\n",
       "</div>"
      ],
      "text/plain": [
       "          na_sales\n",
       "platform          \n",
       "PS4          21.49\n",
       "XOne         14.27\n",
       "3DS           4.14\n",
       "WiiU          2.10\n",
       "PC            1.36\n",
       "X360          0.69\n",
       "PS3           0.67\n",
       "PSV           0.15\n",
       "Wii           0.06"
      ]
     },
     "execution_count": 419,
     "metadata": {},
     "output_type": "execute_result"
    }
   ],
   "source": [
    "df_2016 = df[df['year_of_release'] == 2016].pivot_table(index='platform', values='na_sales', aggfunc='sum')\n",
    "df_2016.sort_values(by='na_sales', ascending=False)"
   ]
  },
  {
   "cell_type": "code",
   "execution_count": 420,
   "id": "0dd097d7",
   "metadata": {
    "scrolled": true
   },
   "outputs": [
    {
     "data": {
      "image/png": "[encoded data removed]",
      "text/plain": [
       "<Figure size 1440x432 with 1 Axes>"
      ]
     },
     "metadata": {
      "needs_background": "light"
     },
     "output_type": "display_data"
    }
   ],
   "source": [
    "(df[df['year_of_release'] > 2011]\n",
    " .pivot_table(index='platform', columns='year_of_release', values='jp_sales', aggfunc='sum')\n",
    " .T\n",
    " .plot(kind='line', figsize=(20,6),  style = 'o-', grid=True)\n",
    ")\n",
    "plt.title('Продажи платформ 2011-2016, Япония'+ \"\\n\")\n",
    "plt.xlabel('years')\n",
    "plt.ylabel('sales');"
   ]
  },
  {
   "cell_type": "code",
   "execution_count": 421,
   "id": "c38cb1a7",
   "metadata": {},
   "outputs": [
    {
     "data": {
      "text/html": [
       "<div>\n",
       "<style scoped>\n",
       "    .dataframe tbody tr th:only-of-type {\n",
       "        vertical-align: middle;\n",
       "    }\n",
       "\n",
       "    .dataframe tbody tr th {\n",
       "        vertical-align: top;\n",
       "    }\n",
       "\n",
       "    .dataframe thead th {\n",
       "        text-align: right;\n",
       "    }\n",
       "</style>\n",
       "<table border=\"1\" class=\"dataframe\">\n",
       "  <thead>\n",
       "    <tr style=\"text-align: right;\">\n",
       "      <th></th>\n",
       "      <th>jp_sales</th>\n",
       "    </tr>\n",
       "    <tr>\n",
       "      <th>platform</th>\n",
       "      <th></th>\n",
       "    </tr>\n",
       "  </thead>\n",
       "  <tbody>\n",
       "    <tr>\n",
       "      <th>3DS</th>\n",
       "      <td>8.03</td>\n",
       "    </tr>\n",
       "    <tr>\n",
       "      <th>PS4</th>\n",
       "      <td>5.74</td>\n",
       "    </tr>\n",
       "    <tr>\n",
       "      <th>PSV</th>\n",
       "      <td>3.56</td>\n",
       "    </tr>\n",
       "    <tr>\n",
       "      <th>PS3</th>\n",
       "      <td>1.30</td>\n",
       "    </tr>\n",
       "    <tr>\n",
       "      <th>WiiU</th>\n",
       "      <td>0.67</td>\n",
       "    </tr>\n",
       "    <tr>\n",
       "      <th>XOne</th>\n",
       "      <td>0.01</td>\n",
       "    </tr>\n",
       "    <tr>\n",
       "      <th>PC</th>\n",
       "      <td>0.00</td>\n",
       "    </tr>\n",
       "    <tr>\n",
       "      <th>Wii</th>\n",
       "      <td>0.00</td>\n",
       "    </tr>\n",
       "    <tr>\n",
       "      <th>X360</th>\n",
       "      <td>0.00</td>\n",
       "    </tr>\n",
       "  </tbody>\n",
       "</table>\n",
       "</div>"
      ],
      "text/plain": [
       "          jp_sales\n",
       "platform          \n",
       "3DS           8.03\n",
       "PS4           5.74\n",
       "PSV           3.56\n",
       "PS3           1.30\n",
       "WiiU          0.67\n",
       "XOne          0.01\n",
       "PC            0.00\n",
       "Wii           0.00\n",
       "X360          0.00"
      ]
     },
     "execution_count": 421,
     "metadata": {},
     "output_type": "execute_result"
    }
   ],
   "source": [
    "df_2016 = df[df['year_of_release'] == 2016].pivot_table(index='platform', values='jp_sales', aggfunc='sum')\n",
    "df_2016.sort_values(by='jp_sales', ascending=False)"
   ]
  },
  {
   "cell_type": "code",
   "execution_count": 422,
   "id": "120c7f6f",
   "metadata": {},
   "outputs": [],
   "source": [
    "# df_05_16_jp = df_05_16[df_05_16['year_of_release'] > 2011].pivot_table(index='platform', values='jp_sales', aggfunc='sum')\n",
    "# df_05_16_jp.sort_values(by='jp_sales', ascending=False)"
   ]
  },
  {
   "cell_type": "code",
   "execution_count": 423,
   "id": "75dee603",
   "metadata": {
    "scrolled": true
   },
   "outputs": [
    {
     "data": {
      "image/png": "[encoded data removed]",
      "text/plain": [
       "<Figure size 1440x432 with 1 Axes>"
      ]
     },
     "metadata": {
      "needs_background": "light"
     },
     "output_type": "display_data"
    }
   ],
   "source": [
    "(df[df['year_of_release'] > 2011]\n",
    " .pivot_table(index='platform', columns='year_of_release', values='eu_sales', aggfunc='sum')\n",
    " .T\n",
    " .plot(kind='line', figsize=(20,6),  style = 'o-', grid=True)\n",
    ")\n",
    "plt.title('Продажи платформ 2011-2016, Евросоюз'+ \"\\n\")\n",
    "plt.xlabel('years')\n",
    "plt.ylabel('sales');"
   ]
  },
  {
   "cell_type": "code",
   "execution_count": 424,
   "id": "e915aae4",
   "metadata": {},
   "outputs": [
    {
     "data": {
      "text/html": [
       "<div>\n",
       "<style scoped>\n",
       "    .dataframe tbody tr th:only-of-type {\n",
       "        vertical-align: middle;\n",
       "    }\n",
       "\n",
       "    .dataframe tbody tr th {\n",
       "        vertical-align: top;\n",
       "    }\n",
       "\n",
       "    .dataframe thead th {\n",
       "        text-align: right;\n",
       "    }\n",
       "</style>\n",
       "<table border=\"1\" class=\"dataframe\">\n",
       "  <thead>\n",
       "    <tr style=\"text-align: right;\">\n",
       "      <th></th>\n",
       "      <th>eu_sales</th>\n",
       "    </tr>\n",
       "    <tr>\n",
       "      <th>platform</th>\n",
       "      <th></th>\n",
       "    </tr>\n",
       "  </thead>\n",
       "  <tbody>\n",
       "    <tr>\n",
       "      <th>PS4</th>\n",
       "      <td>31.78</td>\n",
       "    </tr>\n",
       "    <tr>\n",
       "      <th>XOne</th>\n",
       "      <td>9.63</td>\n",
       "    </tr>\n",
       "    <tr>\n",
       "      <th>PC</th>\n",
       "      <td>3.53</td>\n",
       "    </tr>\n",
       "    <tr>\n",
       "      <th>3DS</th>\n",
       "      <td>2.33</td>\n",
       "    </tr>\n",
       "    <tr>\n",
       "      <th>WiiU</th>\n",
       "      <td>1.48</td>\n",
       "    </tr>\n",
       "    <tr>\n",
       "      <th>PS3</th>\n",
       "      <td>1.26</td>\n",
       "    </tr>\n",
       "    <tr>\n",
       "      <th>X360</th>\n",
       "      <td>0.71</td>\n",
       "    </tr>\n",
       "    <tr>\n",
       "      <th>PSV</th>\n",
       "      <td>0.39</td>\n",
       "    </tr>\n",
       "    <tr>\n",
       "      <th>Wii</th>\n",
       "      <td>0.11</td>\n",
       "    </tr>\n",
       "  </tbody>\n",
       "</table>\n",
       "</div>"
      ],
      "text/plain": [
       "          eu_sales\n",
       "platform          \n",
       "PS4          31.78\n",
       "XOne          9.63\n",
       "PC            3.53\n",
       "3DS           2.33\n",
       "WiiU          1.48\n",
       "PS3           1.26\n",
       "X360          0.71\n",
       "PSV           0.39\n",
       "Wii           0.11"
      ]
     },
     "execution_count": 424,
     "metadata": {},
     "output_type": "execute_result"
    }
   ],
   "source": [
    "df_2016 = df[df['year_of_release'] == 2016].pivot_table(index='platform', values='eu_sales', aggfunc='sum')\n",
    "df_2016.sort_values(by='eu_sales', ascending=False)"
   ]
  },
  {
   "cell_type": "markdown",
   "id": "c95aa0f3",
   "metadata": {},
   "source": [
    "- В период 2005-2016 лидировали такие **платформы**, как X360, PS3, Wii, DS. Пики их продаж пришлись на 2009-2011, но к концу актуального периода все они пошли на спад. Надежды на их возрождение или успех в 2017-м минимальны.\n",
    "- Если говорить о **конце** актуального периода, сложно однозначно выделить потенциальных лидеров или тех, кому предстоит вырасти в ближайший после 2016-го года период. Дело в том, что все платформы демонстрируют **падение** к 2016-му, ни одна из них не растет. Можно обратить внимание на **PS4**, она стартовала в 2013-м, продемонстрировала пик в 2015-м, потом продажи снизились, но в последний отчетный период она самая популярная их всех, кто еще на рынке + у нее большой отрыв от конкурентов.\n",
    "- У **XOne** более плавная кривая продаж, и их сумма меньше в 2,5 раза, чем у лидера. Тем не менее это второе место по состоянию на 2016-й. За этой платформой тоже можно следить, предполагая вероятность роста. \n",
    "- **3DS** закончила 2016 на падении, и снижение она демонстрирует с 2013-го. Вряд ли в будущем она резко рванет вверх. \n",
    "- Остальные платформы тоже склонны к снижению, к тому же их результаты в 2016-м были не большими, каждая из них продала в несколько раз меньше вышеупомянутых платформ. Вряд ли они станут темными лошадками, которые смогут стать чемпионами в будущем. \n",
    "- На **американском рынке** тенденции, близкие к суммарным продажам. При этом разрыв между XOne и PS4 меньше, чем на остальных территориях.\n",
    "- На **японском рынке** интересен случай XOne, которая росла до 2015, а в 2016-м было совсем небольшое снижение, более похожее на плато. Есть шанс, что на этом рынке у нее есть шансы к росту в рамках цикла 6-7 лет. Также обратим внимание на судьбу 3DS, которая падает уже несколько лет, но в 2016-м на этом рынке обходит остальные платформы. \n",
    "- На **европейском** рынке интересно будет посмотреть судьбу PS4, у нее здесь высокий пик в 2015-м, и большой отрыв от  XOne (в 2016м у них разница в 3 раза!) На этом рынке у нее вряд ли уже будет большой подъем, но можно сделать ставку на плато на несколько лет, либо на плавное снижение с длинным хвостом, что будет означать хорошие продажи в сумме за все годы. Упомянем, что ранее были 2 примера с ростом после падения (у платформ PS3 и Wii были 2 пика в продажах.) Может быть именно Европа позволит PS4 выйти еще на один пик. "
   ]
  },
  {
   "cell_type": "markdown",
   "id": "88091355",
   "metadata": {},
   "source": [
    "Построим диаграмму размаха для суммарных продаж по всем платформам за актуальный период. По медианам количества продаж лидируют X360, XOne, WiiU. По величине стандартного отклонения продаж выделим X360, PS3, PS4, XOne. Интересно, что по абсолютным цифрам количества наименований игр XOne и WiiU - далеко не чемпионы (получается на них игры продаются в среднем дороже и при этом с бОльшим разбросом в количестве продаж.) Также интересно, что 3DS (один лидеров по количеству наименований игр) в среднем продает их дешевле и с относительно небольшим разбросом в количестве продаж. "
   ]
  },
  {
   "cell_type": "code",
   "execution_count": 425,
   "id": "8a1e75ba",
   "metadata": {},
   "outputs": [
    {
     "name": "stdout",
     "output_type": "stream",
     "text": [
      "Максимальный уровень продаж, млн: 21.05\n"
     ]
    }
   ],
   "source": [
    "print('Максимальный уровень продаж, млн:', df_11_16['sales'].max())"
   ]
  },
  {
   "cell_type": "code",
   "execution_count": 426,
   "id": "2e6b0a34",
   "metadata": {
    "scrolled": false
   },
   "outputs": [
    {
     "data": {
      "text/plain": [
       "<seaborn.axisgrid.FacetGrid at 0x2c41650d760>"
      ]
     },
     "execution_count": 426,
     "metadata": {},
     "output_type": "execute_result"
    },
    {
     "data": {
      "image/png": "[encoded data removed]",
      "text/plain": [
       "<Figure size 1440x720 with 1 Axes>"
      ]
     },
     "metadata": {
      "needs_background": "light"
     },
     "output_type": "display_data"
    }
   ],
   "source": [
    "for column in ['sales']:    \n",
    "    g = sns.catplot(y=column, x='platform', kind=\"box\", data= df_11_16, palette = 'pastel', showfliers=False)\n",
    "    g.fig.set_figwidth(20)\n",
    "    g.fig.set_figheight(10)\n",
    "    \n",
    "g.set(title = \"Разброс продаж игр по платформам без выбросов, 2011-2016\")"
   ]
  },
  {
   "cell_type": "markdown",
   "id": "17f9a1bd",
   "metadata": {},
   "source": [
    "<div class=\"alert alert-success\">\n",
    "<h2> Комментарий ревьюера 👍<a class=\"tocSkip\"> </h2>\n",
    "\n",
    "Отличный график! можно было бы сделать еще одини доп.график, чтобы посмотреть на выбросы (потому что выбросы - это игры-бестселлеры; возможно могла бы быть полезной информация о том, у каких платформ таких бестселлеров больше), но это совсем необязательно"
   ]
  },
  {
   "cell_type": "code",
   "execution_count": 427,
   "id": "0770a749",
   "metadata": {
    "scrolled": false
   },
   "outputs": [
    {
     "data": {
      "text/plain": [
       "<seaborn.axisgrid.FacetGrid at 0x2c40e23fe80>"
      ]
     },
     "execution_count": 427,
     "metadata": {},
     "output_type": "execute_result"
    },
    {
     "data": {
      "image/png": "[encoded data removed]",
      "text/plain": [
       "<Figure size 1440x720 with 1 Axes>"
      ]
     },
     "metadata": {
      "needs_background": "light"
     },
     "output_type": "display_data"
    }
   ],
   "source": [
    "for column in ['sales']:    \n",
    "    g = sns.catplot(y=column, x='platform', kind=\"box\", data= df_11_16, palette = 'pastel')\n",
    "    g.fig.set_figwidth(20)\n",
    "    g.fig.set_figheight(10)\n",
    "    \n",
    "g.set(title = \"Разброс продаж игр по платформам с выбросами, 2011-2016\")"
   ]
  },
  {
   "cell_type": "markdown",
   "id": "bb73f214",
   "metadata": {},
   "source": [
    "Если посмотреть на выбросы на диаграммах размаха, можно выделить PS3 (одна из игр продалась в количестве 21 миллион шт!), X360, PS4, 3DS. Последняя, хоть и продает игры дешевле и с меньшим, чем у других, стандартным отклонением, но также имеет игры-бестселлеры в своем каталоге. "
   ]
  },
  {
   "cell_type": "markdown",
   "id": "b183564c",
   "metadata": {},
   "source": [
    "Построим диаграмму рассеяния и посчитаем корреляцию между отзывами пользователей и критиков и продажами."
   ]
  },
  {
   "cell_type": "code",
   "execution_count": 428,
   "id": "9191c26c",
   "metadata": {
    "scrolled": true
   },
   "outputs": [
    {
     "data": {
      "text/plain": [
       "Text(0.5, 1.0, 'Взаимосвязь продаж на PS4 и оценок критиков\\n')"
      ]
     },
     "execution_count": 428,
     "metadata": {},
     "output_type": "execute_result"
    },
    {
     "data": {
      "image/png": "[encoded data removed]",
      "text/plain": [
       "<Figure size 432x288 with 1 Axes>"
      ]
     },
     "metadata": {
      "needs_background": "light"
     },
     "output_type": "display_data"
    }
   ],
   "source": [
    "df_ps_4_11_16 = df_11_16[df_11_16['platform'] == 'PS4']\n",
    "sns.scatterplot(data=df_11_16[df_11_16['platform'] == 'PS4'], x=\"critic_score\", y=\"sales\")\n",
    "plt.title('Взаимосвязь продаж на PS4 и оценок критиков'+ \"\\n\")"
   ]
  },
  {
   "cell_type": "code",
   "execution_count": 429,
   "id": "01f4a0f5",
   "metadata": {
    "scrolled": true
   },
   "outputs": [
    {
     "name": "stdout",
     "output_type": "stream",
     "text": [
      "Корреляция продаж на PS4 и оценок критиков: 0.40656790206178095\n"
     ]
    }
   ],
   "source": [
    "print('Корреляция продаж на PS4 и оценок критиков:', df_ps_4_11_16['critic_score'].corr(df_ps_4_11_16['sales']))"
   ]
  },
  {
   "cell_type": "code",
   "execution_count": 430,
   "id": "e23f4ff9",
   "metadata": {
    "scrolled": true
   },
   "outputs": [
    {
     "data": {
      "text/plain": [
       "Text(0.5, 1.0, 'Взаимосвязь продаж на PS4 и оценок пользователей\\n')"
      ]
     },
     "execution_count": 430,
     "metadata": {},
     "output_type": "execute_result"
    },
    {
     "data": {
      "image/png": "[encoded data removed]",
      "text/plain": [
       "<Figure size 432x288 with 1 Axes>"
      ]
     },
     "metadata": {
      "needs_background": "light"
     },
     "output_type": "display_data"
    }
   ],
   "source": [
    "sns.scatterplot(data=df_11_16[df_11_16['platform'] == 'PS4'], x=\"user_score\", y=\"sales\")\n",
    "plt.title('Взаимосвязь продаж на PS4 и оценок пользователей'+ \"\\n\")"
   ]
  },
  {
   "cell_type": "code",
   "execution_count": 431,
   "id": "d9d3acea",
   "metadata": {
    "scrolled": false
   },
   "outputs": [
    {
     "name": "stdout",
     "output_type": "stream",
     "text": [
      "Корреляция продаж на PS4 и оценок пользователей: -0.031957110204556424\n"
     ]
    }
   ],
   "source": [
    "print('Корреляция продаж на PS4 и оценок пользователей:', df_ps_4_11_16['user_score'].corr(df_ps_4_11_16['sales']))"
   ]
  },
  {
   "cell_type": "markdown",
   "id": "0bda7b89",
   "metadata": {},
   "source": [
    "Отзывы критиков влияют на рост продаж, но на среднем уровне. А в случае влияния оценок пользователей обнаружена очень небольшая отрицательная корреляция."
   ]
  },
  {
   "cell_type": "markdown",
   "id": "085be6d1",
   "metadata": {},
   "source": [
    "Посмотрим взаимосвязь таких оценок и продаж у самых популярных платформ за весь период."
   ]
  },
  {
   "cell_type": "code",
   "execution_count": 432,
   "id": "aad7ea93",
   "metadata": {},
   "outputs": [
    {
     "name": "stdout",
     "output_type": "stream",
     "text": [
      "Корреляция продаж на DS и оценок пользователей: 0.13043550111642488\n",
      "Корреляция продаж на PS и оценок пользователей: 0.29797783612684925\n",
      "Корреляция продаж на PS2 и оценок пользователей: 0.17286551112058182\n",
      "Корреляция продаж на PS3 и оценок пользователей: 0.12669133936341706\n",
      "Корреляция продаж на Wii и оценок пользователей: 0.11241436067003167\n",
      "Корреляция продаж на X360 и оценок пользователей: 0.1144588297845418\n"
     ]
    }
   ],
   "source": [
    "print('Корреляция продаж на DS и оценок пользователей:', df_top_6.query('platform == \"DS\"')['user_score']\\\n",
    "      .corr(df_top_6.query('platform == \"DS\"')['sales']))\n",
    "print('Корреляция продаж на PS и оценок пользователей:', df_top_6.query('platform == \"PS\"')['user_score']\\\n",
    "      .corr(df_top_6.query('platform == \"PS\"')['sales']))\n",
    "print('Корреляция продаж на PS2 и оценок пользователей:', df_top_6.query('platform == \"PS2\"')['user_score']\\\n",
    "      .corr(df_top_6.query('platform == \"PS2\"')['sales']))\n",
    "print('Корреляция продаж на PS3 и оценок пользователей:', df_top_6.query('platform == \"PS3\"')['user_score']\\\n",
    "      .corr(df_top_6.query('platform == \"PS3\"')['sales']))\n",
    "print('Корреляция продаж на Wii и оценок пользователей:', df_top_6.query('platform == \"Wii\"')['user_score']\\\n",
    "      .corr(df_top_6.query('platform == \"Wii\"')['sales']))\n",
    "print('Корреляция продаж на X360 и оценок пользователей:', df_top_6.query('platform == \"X360\"')['user_score']\\\n",
    "      .corr(df_top_6.query('platform == \"X360\"')['sales']))\n"
   ]
  },
  {
   "cell_type": "code",
   "execution_count": 433,
   "id": "ab0e5208",
   "metadata": {
    "scrolled": false
   },
   "outputs": [
    {
     "name": "stdout",
     "output_type": "stream",
     "text": [
      "Корреляция продаж на DS и оценок критиков: 0.23637945738859714\n",
      "Корреляция продаж на PS и оценок критиков: 0.44563998586242454\n",
      "Корреляция продаж на PS2 и оценок критиков: 0.3954345494545488\n",
      "Корреляция продаж на PS3 и оценок критиков: 0.43243156856420617\n",
      "Корреляция продаж на Wii и оценок критиков: 0.1775598880608996\n",
      "Корреляция продаж на X360 и оценок критиков: 0.39373586530725874\n"
     ]
    }
   ],
   "source": [
    "print('Корреляция продаж на DS и оценок критиков:', df_top_6.query('platform == \"DS\"')['critic_score']\\\n",
    "      .corr(df_top_6.query('platform == \"DS\"')['sales']))\n",
    "print('Корреляция продаж на PS и оценок критиков:', df_top_6.query('platform == \"PS\"')['critic_score']\\\n",
    "      .corr(df_top_6.query('platform == \"PS\"')['sales']))\n",
    "print('Корреляция продаж на PS2 и оценок критиков:', df_top_6.query('platform == \"PS2\"')['critic_score']\\\n",
    "      .corr(df_top_6.query('platform == \"PS2\"')['sales']))\n",
    "print('Корреляция продаж на PS3 и оценок критиков:', df_top_6.query('platform == \"PS3\"')['critic_score']\\\n",
    "      .corr(df_top_6.query('platform == \"PS3\"')['sales']))\n",
    "print('Корреляция продаж на Wii и оценок критиков:', df_top_6.query('platform == \"Wii\"')['critic_score']\\\n",
    "      .corr(df_top_6.query('platform == \"Wii\"')['sales']))\n",
    "print('Корреляция продаж на X360 и оценок критиков:', df_top_6.query('platform == \"X360\"')['critic_score']\\\n",
    "      .corr(df_top_6.query('platform == \"X360\"')['sales']))"
   ]
  },
  {
   "cell_type": "markdown",
   "id": "cba966bb",
   "metadata": {},
   "source": [
    "Если говорить о платформах из топ-6, то во всех случаях мы видим **положительные** корреляции в диапазоне от 0.11 до 0.44. Максимальная корреляция у платформы PS и отзывов критиков. Таким образом отзывы критиков и отзывы пользователей **связаны** с ростом продаж игр на разных платформах, но влияние оценок не очень велико."
   ]
  },
  {
   "cell_type": "markdown",
   "id": "a2245cfd",
   "metadata": {},
   "source": [
    "Посмотрим на общее распределение игр по жанрам. "
   ]
  },
  {
   "cell_type": "code",
   "execution_count": 434,
   "id": "d1f777cf",
   "metadata": {
    "scrolled": false
   },
   "outputs": [
    {
     "data": {
      "text/html": [
       "<div>\n",
       "<style scoped>\n",
       "    .dataframe tbody tr th:only-of-type {\n",
       "        vertical-align: middle;\n",
       "    }\n",
       "\n",
       "    .dataframe tbody tr th {\n",
       "        vertical-align: top;\n",
       "    }\n",
       "\n",
       "    .dataframe thead th {\n",
       "        text-align: right;\n",
       "    }\n",
       "</style>\n",
       "<table border=\"1\" class=\"dataframe\">\n",
       "  <thead>\n",
       "    <tr style=\"text-align: right;\">\n",
       "      <th></th>\n",
       "      <th>name</th>\n",
       "      <th>genre</th>\n",
       "      <th>sales</th>\n",
       "    </tr>\n",
       "  </thead>\n",
       "  <tbody>\n",
       "    <tr>\n",
       "      <th>0</th>\n",
       "      <td>Beyblade Burst</td>\n",
       "      <td>Role-Playing</td>\n",
       "      <td>0.03</td>\n",
       "    </tr>\n",
       "    <tr>\n",
       "      <th>1</th>\n",
       "      <td>Fire Emblem Fates</td>\n",
       "      <td>Role-Playing</td>\n",
       "      <td>1.67</td>\n",
       "    </tr>\n",
       "    <tr>\n",
       "      <th>2</th>\n",
       "      <td>Frozen: Olaf's Quest</td>\n",
       "      <td>Platform</td>\n",
       "      <td>1.10</td>\n",
       "    </tr>\n",
       "    <tr>\n",
       "      <th>3</th>\n",
       "      <td>Haikyu!! Cross Team Match!</td>\n",
       "      <td>Adventure</td>\n",
       "      <td>0.04</td>\n",
       "    </tr>\n",
       "    <tr>\n",
       "      <th>4</th>\n",
       "      <td>Tales of Xillia 2</td>\n",
       "      <td>Role-Playing</td>\n",
       "      <td>0.84</td>\n",
       "    </tr>\n",
       "  </tbody>\n",
       "</table>\n",
       "</div>"
      ],
      "text/plain": [
       "                          name         genre  sales\n",
       "0               Beyblade Burst  Role-Playing   0.03\n",
       "1            Fire Emblem Fates  Role-Playing   1.67\n",
       "2         Frozen: Olaf's Quest      Platform   1.10\n",
       "3   Haikyu!! Cross Team Match!     Adventure   0.04\n",
       "4            Tales of Xillia 2  Role-Playing   0.84"
      ]
     },
     "execution_count": 434,
     "metadata": {},
     "output_type": "execute_result"
    }
   ],
   "source": [
    "df_11_16_genre = df_11_16.groupby(['name', 'genre'])['sales'].sum()\n",
    "df_11_16_genre = df_11_16_genre.reset_index()\n",
    "df_11_16_genre.head()"
   ]
  },
  {
   "cell_type": "code",
   "execution_count": 435,
   "id": "db0be504",
   "metadata": {},
   "outputs": [
    {
     "data": {
      "text/plain": [
       "Action          695\n",
       "Role-Playing    340\n",
       "Adventure       303\n",
       "Misc            271\n",
       "Sports          160\n",
       "Shooter         149\n",
       "Simulation      110\n",
       "Strategy         96\n",
       "Fighting         87\n",
       "Racing           74\n",
       "Platform         71\n",
       "Puzzle           63\n",
       "Name: genre, dtype: int64"
      ]
     },
     "execution_count": 435,
     "metadata": {},
     "output_type": "execute_result"
    }
   ],
   "source": [
    "df_11_16_genre['genre'].value_counts()"
   ]
  },
  {
   "cell_type": "code",
   "execution_count": 436,
   "id": "86e21e83",
   "metadata": {
    "scrolled": true
   },
   "outputs": [
    {
     "data": {
      "text/html": [
       "<div>\n",
       "<style scoped>\n",
       "    .dataframe tbody tr th:only-of-type {\n",
       "        vertical-align: middle;\n",
       "    }\n",
       "\n",
       "    .dataframe tbody tr th {\n",
       "        vertical-align: top;\n",
       "    }\n",
       "\n",
       "    .dataframe thead th {\n",
       "        text-align: right;\n",
       "    }\n",
       "</style>\n",
       "<table border=\"1\" class=\"dataframe\">\n",
       "  <thead>\n",
       "    <tr style=\"text-align: right;\">\n",
       "      <th></th>\n",
       "      <th>genre</th>\n",
       "      <th>sales</th>\n",
       "    </tr>\n",
       "  </thead>\n",
       "  <tbody>\n",
       "    <tr>\n",
       "      <th>0</th>\n",
       "      <td>Action</td>\n",
       "      <td>557.80</td>\n",
       "    </tr>\n",
       "    <tr>\n",
       "      <th>1</th>\n",
       "      <td>Shooter</td>\n",
       "      <td>402.91</td>\n",
       "    </tr>\n",
       "    <tr>\n",
       "      <th>2</th>\n",
       "      <td>Role-Playing</td>\n",
       "      <td>245.63</td>\n",
       "    </tr>\n",
       "    <tr>\n",
       "      <th>3</th>\n",
       "      <td>Sports</td>\n",
       "      <td>237.15</td>\n",
       "    </tr>\n",
       "    <tr>\n",
       "      <th>4</th>\n",
       "      <td>Misc</td>\n",
       "      <td>139.42</td>\n",
       "    </tr>\n",
       "    <tr>\n",
       "      <th>5</th>\n",
       "      <td>Platform</td>\n",
       "      <td>88.68</td>\n",
       "    </tr>\n",
       "    <tr>\n",
       "      <th>6</th>\n",
       "      <td>Racing</td>\n",
       "      <td>88.31</td>\n",
       "    </tr>\n",
       "    <tr>\n",
       "      <th>7</th>\n",
       "      <td>Fighting</td>\n",
       "      <td>66.90</td>\n",
       "    </tr>\n",
       "    <tr>\n",
       "      <th>8</th>\n",
       "      <td>Simulation</td>\n",
       "      <td>50.26</td>\n",
       "    </tr>\n",
       "    <tr>\n",
       "      <th>9</th>\n",
       "      <td>Adventure</td>\n",
       "      <td>45.04</td>\n",
       "    </tr>\n",
       "    <tr>\n",
       "      <th>10</th>\n",
       "      <td>Strategy</td>\n",
       "      <td>22.16</td>\n",
       "    </tr>\n",
       "    <tr>\n",
       "      <th>11</th>\n",
       "      <td>Puzzle</td>\n",
       "      <td>9.85</td>\n",
       "    </tr>\n",
       "  </tbody>\n",
       "</table>\n",
       "</div>"
      ],
      "text/plain": [
       "           genre   sales\n",
       "0         Action  557.80\n",
       "1        Shooter  402.91\n",
       "2   Role-Playing  245.63\n",
       "3         Sports  237.15\n",
       "4           Misc  139.42\n",
       "5       Platform   88.68\n",
       "6         Racing   88.31\n",
       "7       Fighting   66.90\n",
       "8     Simulation   50.26\n",
       "9      Adventure   45.04\n",
       "10      Strategy   22.16\n",
       "11        Puzzle    9.85"
      ]
     },
     "execution_count": 436,
     "metadata": {},
     "output_type": "execute_result"
    }
   ],
   "source": [
    "df_11_16_genre_sales = df_11_16.groupby('genre')['sales'].sum().sort_values(ascending=False)\n",
    "df_11_16_genre_sales = df_11_16_genre_sales.reset_index()\n",
    "df_11_16_genre_sales"
   ]
  },
  {
   "cell_type": "code",
   "execution_count": 437,
   "id": "8a09a66f",
   "metadata": {},
   "outputs": [
    {
     "data": {
      "text/html": [
       "<div>\n",
       "<style scoped>\n",
       "    .dataframe tbody tr th:only-of-type {\n",
       "        vertical-align: middle;\n",
       "    }\n",
       "\n",
       "    .dataframe tbody tr th {\n",
       "        vertical-align: top;\n",
       "    }\n",
       "\n",
       "    .dataframe thead th {\n",
       "        text-align: right;\n",
       "    }\n",
       "</style>\n",
       "<table border=\"1\" class=\"dataframe\">\n",
       "  <thead>\n",
       "    <tr style=\"text-align: right;\">\n",
       "      <th></th>\n",
       "      <th>name</th>\n",
       "      <th>genre</th>\n",
       "      <th>sales</th>\n",
       "    </tr>\n",
       "  </thead>\n",
       "  <tbody>\n",
       "    <tr>\n",
       "      <th>0</th>\n",
       "      <td>Grand Theft Auto V</td>\n",
       "      <td>Action</td>\n",
       "      <td>56.58</td>\n",
       "    </tr>\n",
       "    <tr>\n",
       "      <th>1</th>\n",
       "      <td>Call of Duty: Modern Warfare 3</td>\n",
       "      <td>Shooter</td>\n",
       "      <td>30.60</td>\n",
       "    </tr>\n",
       "    <tr>\n",
       "      <th>2</th>\n",
       "      <td>Call of Duty: Black Ops II</td>\n",
       "      <td>Shooter</td>\n",
       "      <td>29.40</td>\n",
       "    </tr>\n",
       "    <tr>\n",
       "      <th>3</th>\n",
       "      <td>Call of Duty: Ghosts</td>\n",
       "      <td>Shooter</td>\n",
       "      <td>27.39</td>\n",
       "    </tr>\n",
       "    <tr>\n",
       "      <th>4</th>\n",
       "      <td>Call of Duty: Black Ops 3</td>\n",
       "      <td>Shooter</td>\n",
       "      <td>25.67</td>\n",
       "    </tr>\n",
       "    <tr>\n",
       "      <th>5</th>\n",
       "      <td>Minecraft</td>\n",
       "      <td>Misc</td>\n",
       "      <td>24.16</td>\n",
       "    </tr>\n",
       "    <tr>\n",
       "      <th>6</th>\n",
       "      <td>Call of Duty: Advanced Warfare</td>\n",
       "      <td>Shooter</td>\n",
       "      <td>21.97</td>\n",
       "    </tr>\n",
       "    <tr>\n",
       "      <th>7</th>\n",
       "      <td>The Elder Scrolls V: Skyrim</td>\n",
       "      <td>Role-Playing</td>\n",
       "      <td>21.14</td>\n",
       "    </tr>\n",
       "    <tr>\n",
       "      <th>8</th>\n",
       "      <td>FIFA 15</td>\n",
       "      <td>Sports</td>\n",
       "      <td>17.37</td>\n",
       "    </tr>\n",
       "    <tr>\n",
       "      <th>9</th>\n",
       "      <td>Battlefield 3</td>\n",
       "      <td>Shooter</td>\n",
       "      <td>17.27</td>\n",
       "    </tr>\n",
       "  </tbody>\n",
       "</table>\n",
       "</div>"
      ],
      "text/plain": [
       "                             name         genre  sales\n",
       "0              Grand Theft Auto V        Action  56.58\n",
       "1  Call of Duty: Modern Warfare 3       Shooter  30.60\n",
       "2      Call of Duty: Black Ops II       Shooter  29.40\n",
       "3            Call of Duty: Ghosts       Shooter  27.39\n",
       "4       Call of Duty: Black Ops 3       Shooter  25.67\n",
       "5                       Minecraft          Misc  24.16\n",
       "6  Call of Duty: Advanced Warfare       Shooter  21.97\n",
       "7     The Elder Scrolls V: Skyrim  Role-Playing  21.14\n",
       "8                         FIFA 15        Sports  17.37\n",
       "9                   Battlefield 3       Shooter  17.27"
      ]
     },
     "execution_count": 437,
     "metadata": {},
     "output_type": "execute_result"
    }
   ],
   "source": [
    "df_11_16_name_sales = df_11_16.groupby(['name', 'genre'])['sales'].sum().sort_values(ascending=False)\n",
    "df_11_16_name_sales = df_11_16_name_sales.reset_index()\n",
    "df_11_16_name_sales.head(10)\n"
   ]
  },
  {
   "cell_type": "code",
   "execution_count": 438,
   "id": "dbfeae45",
   "metadata": {
    "scrolled": true
   },
   "outputs": [
    {
     "data": {
      "text/html": [
       "<div>\n",
       "<style scoped>\n",
       "    .dataframe tbody tr th:only-of-type {\n",
       "        vertical-align: middle;\n",
       "    }\n",
       "\n",
       "    .dataframe tbody tr th {\n",
       "        vertical-align: top;\n",
       "    }\n",
       "\n",
       "    .dataframe thead th {\n",
       "        text-align: right;\n",
       "    }\n",
       "</style>\n",
       "<table border=\"1\" class=\"dataframe\">\n",
       "  <thead>\n",
       "    <tr style=\"text-align: right;\">\n",
       "      <th></th>\n",
       "      <th>genre</th>\n",
       "      <th>sales_median</th>\n",
       "    </tr>\n",
       "  </thead>\n",
       "  <tbody>\n",
       "    <tr>\n",
       "      <th>0</th>\n",
       "      <td>Shooter</td>\n",
       "      <td>0.410</td>\n",
       "    </tr>\n",
       "    <tr>\n",
       "      <th>1</th>\n",
       "      <td>Sports</td>\n",
       "      <td>0.200</td>\n",
       "    </tr>\n",
       "    <tr>\n",
       "      <th>2</th>\n",
       "      <td>Platform</td>\n",
       "      <td>0.185</td>\n",
       "    </tr>\n",
       "    <tr>\n",
       "      <th>3</th>\n",
       "      <td>Fighting</td>\n",
       "      <td>0.180</td>\n",
       "    </tr>\n",
       "    <tr>\n",
       "      <th>4</th>\n",
       "      <td>Racing</td>\n",
       "      <td>0.160</td>\n",
       "    </tr>\n",
       "    <tr>\n",
       "      <th>5</th>\n",
       "      <td>Role-Playing</td>\n",
       "      <td>0.150</td>\n",
       "    </tr>\n",
       "    <tr>\n",
       "      <th>6</th>\n",
       "      <td>Action</td>\n",
       "      <td>0.130</td>\n",
       "    </tr>\n",
       "    <tr>\n",
       "      <th>7</th>\n",
       "      <td>Misc</td>\n",
       "      <td>0.130</td>\n",
       "    </tr>\n",
       "    <tr>\n",
       "      <th>8</th>\n",
       "      <td>Simulation</td>\n",
       "      <td>0.110</td>\n",
       "    </tr>\n",
       "    <tr>\n",
       "      <th>9</th>\n",
       "      <td>Strategy</td>\n",
       "      <td>0.080</td>\n",
       "    </tr>\n",
       "    <tr>\n",
       "      <th>10</th>\n",
       "      <td>Puzzle</td>\n",
       "      <td>0.050</td>\n",
       "    </tr>\n",
       "    <tr>\n",
       "      <th>11</th>\n",
       "      <td>Adventure</td>\n",
       "      <td>0.030</td>\n",
       "    </tr>\n",
       "  </tbody>\n",
       "</table>\n",
       "</div>"
      ],
      "text/plain": [
       "           genre  sales_median\n",
       "0        Shooter         0.410\n",
       "1         Sports         0.200\n",
       "2       Platform         0.185\n",
       "3       Fighting         0.180\n",
       "4         Racing         0.160\n",
       "5   Role-Playing         0.150\n",
       "6         Action         0.130\n",
       "7           Misc         0.130\n",
       "8     Simulation         0.110\n",
       "9       Strategy         0.080\n",
       "10        Puzzle         0.050\n",
       "11     Adventure         0.030"
      ]
     },
     "execution_count": 438,
     "metadata": {},
     "output_type": "execute_result"
    }
   ],
   "source": [
    "df_11_16_genre_sales = df_11_16.groupby('genre')['sales'].median().sort_values(ascending=False)\n",
    "df_11_16_genre_sales = df_11_16_genre_sales.reset_index()\n",
    "df_11_16_genre_sales = df_11_16_genre_sales.rename(columns={'sales':'sales_median'})\n",
    "df_11_16_genre_sales"
   ]
  },
  {
   "cell_type": "markdown",
   "id": "62c4faaf",
   "metadata": {},
   "source": [
    "- По **количеству наименований** лидируют жанры Action, Adventure, Role-Playing, Sports. \n",
    "- По **продажам** к лидерам присоединяется Shooter, а вот Adventure в рейтинге опускается в конец первой десятки. \n",
    "- Если посмотреть **10** самых популярных игр, то они принадлежат к жанрам Shooter (6 игр из 10!), Sports, Action, RPG, Shooter.\n",
    "- Если смотреть распределение **медианных продаж** по жанрам, то самые большие продажи в пересчете на игру - в жанрах Shooter, Platform, Sports, Racing. Также в пятерку попадает Fighting. "
   ]
  },
  {
   "cell_type": "markdown",
   "id": "e57fa795",
   "metadata": {},
   "source": [
    "## Портрет пользователя каждого региона (NA, EU, JP)"
   ]
  },
  {
   "cell_type": "markdown",
   "id": "fc8c16c7",
   "metadata": {},
   "source": [
    "Самые популярные платформы (топ-5)"
   ]
  },
  {
   "cell_type": "code",
   "execution_count": 439,
   "id": "bd91b7e6",
   "metadata": {},
   "outputs": [
    {
     "data": {
      "text/html": [
       "<div>\n",
       "<style scoped>\n",
       "    .dataframe tbody tr th:only-of-type {\n",
       "        vertical-align: middle;\n",
       "    }\n",
       "\n",
       "    .dataframe tbody tr th {\n",
       "        vertical-align: top;\n",
       "    }\n",
       "\n",
       "    .dataframe thead th {\n",
       "        text-align: right;\n",
       "    }\n",
       "</style>\n",
       "<table border=\"1\" class=\"dataframe\">\n",
       "  <thead>\n",
       "    <tr style=\"text-align: right;\">\n",
       "      <th></th>\n",
       "      <th>platform</th>\n",
       "      <th>sales</th>\n",
       "      <th>sales_share</th>\n",
       "    </tr>\n",
       "  </thead>\n",
       "  <tbody>\n",
       "    <tr>\n",
       "      <th>0</th>\n",
       "      <td>PS3</td>\n",
       "      <td>445.57</td>\n",
       "      <td>0.286132</td>\n",
       "    </tr>\n",
       "    <tr>\n",
       "      <th>1</th>\n",
       "      <td>X360</td>\n",
       "      <td>380.38</td>\n",
       "      <td>0.244269</td>\n",
       "    </tr>\n",
       "    <tr>\n",
       "      <th>2</th>\n",
       "      <td>PS4</td>\n",
       "      <td>314.14</td>\n",
       "      <td>0.201731</td>\n",
       "    </tr>\n",
       "    <tr>\n",
       "      <th>3</th>\n",
       "      <td>3DS</td>\n",
       "      <td>257.81</td>\n",
       "      <td>0.165558</td>\n",
       "    </tr>\n",
       "    <tr>\n",
       "      <th>4</th>\n",
       "      <td>XOne</td>\n",
       "      <td>159.32</td>\n",
       "      <td>0.102311</td>\n",
       "    </tr>\n",
       "  </tbody>\n",
       "</table>\n",
       "</div>"
      ],
      "text/plain": [
       "  platform   sales  sales_share\n",
       "0      PS3  445.57     0.286132\n",
       "1     X360  380.38     0.244269\n",
       "2      PS4  314.14     0.201731\n",
       "3      3DS  257.81     0.165558\n",
       "4     XOne  159.32     0.102311"
      ]
     },
     "execution_count": 439,
     "metadata": {},
     "output_type": "execute_result"
    }
   ],
   "source": [
    "df_5 = df_11_16.groupby('platform')['sales'].sum().sort_values(ascending=False).head(5)\n",
    "df_5 = df_5.reset_index()\n",
    "df_5['sales_share'] = df_5['sales'] / df_5['sales'].sum()\n",
    "df_5"
   ]
  },
  {
   "cell_type": "markdown",
   "id": "f1d338ee",
   "metadata": {},
   "source": [
    "Платформы Северной Америки."
   ]
  },
  {
   "cell_type": "code",
   "execution_count": 440,
   "id": "1b282e6a",
   "metadata": {
    "scrolled": false
   },
   "outputs": [
    {
     "data": {
      "text/html": [
       "<div>\n",
       "<style scoped>\n",
       "    .dataframe tbody tr th:only-of-type {\n",
       "        vertical-align: middle;\n",
       "    }\n",
       "\n",
       "    .dataframe tbody tr th {\n",
       "        vertical-align: top;\n",
       "    }\n",
       "\n",
       "    .dataframe thead th {\n",
       "        text-align: right;\n",
       "    }\n",
       "</style>\n",
       "<table border=\"1\" class=\"dataframe\">\n",
       "  <thead>\n",
       "    <tr style=\"text-align: right;\">\n",
       "      <th></th>\n",
       "      <th>platform</th>\n",
       "      <th>na_sales</th>\n",
       "      <th>sales_share</th>\n",
       "    </tr>\n",
       "  </thead>\n",
       "  <tbody>\n",
       "    <tr>\n",
       "      <th>0</th>\n",
       "      <td>X360</td>\n",
       "      <td>226.80</td>\n",
       "      <td>0.333740</td>\n",
       "    </tr>\n",
       "    <tr>\n",
       "      <th>1</th>\n",
       "      <td>PS3</td>\n",
       "      <td>168.26</td>\n",
       "      <td>0.247598</td>\n",
       "    </tr>\n",
       "    <tr>\n",
       "      <th>2</th>\n",
       "      <td>PS4</td>\n",
       "      <td>108.74</td>\n",
       "      <td>0.160013</td>\n",
       "    </tr>\n",
       "    <tr>\n",
       "      <th>3</th>\n",
       "      <td>XOne</td>\n",
       "      <td>93.12</td>\n",
       "      <td>0.137028</td>\n",
       "    </tr>\n",
       "    <tr>\n",
       "      <th>4</th>\n",
       "      <td>3DS</td>\n",
       "      <td>82.65</td>\n",
       "      <td>0.121621</td>\n",
       "    </tr>\n",
       "  </tbody>\n",
       "</table>\n",
       "</div>"
      ],
      "text/plain": [
       "  platform  na_sales  sales_share\n",
       "0     X360    226.80     0.333740\n",
       "1      PS3    168.26     0.247598\n",
       "2      PS4    108.74     0.160013\n",
       "3     XOne     93.12     0.137028\n",
       "4      3DS     82.65     0.121621"
      ]
     },
     "execution_count": 440,
     "metadata": {},
     "output_type": "execute_result"
    }
   ],
   "source": [
    "df_na_5 = df_11_16.groupby('platform')['na_sales'].sum().sort_values(ascending=False).head(5)\n",
    "df_na_5 = df_na_5.reset_index()\n",
    "df_na_5['sales_share'] = df_na_5['na_sales'] / df_na_5['na_sales'].sum()\n",
    "df_na_5"
   ]
  },
  {
   "cell_type": "markdown",
   "id": "92be1692",
   "metadata": {},
   "source": [
    "Платформы Евросоюза."
   ]
  },
  {
   "cell_type": "code",
   "execution_count": 441,
   "id": "7872d1bf",
   "metadata": {
    "scrolled": false
   },
   "outputs": [
    {
     "data": {
      "text/html": [
       "<div>\n",
       "<style scoped>\n",
       "    .dataframe tbody tr th:only-of-type {\n",
       "        vertical-align: middle;\n",
       "    }\n",
       "\n",
       "    .dataframe tbody tr th {\n",
       "        vertical-align: top;\n",
       "    }\n",
       "\n",
       "    .dataframe thead th {\n",
       "        text-align: right;\n",
       "    }\n",
       "</style>\n",
       "<table border=\"1\" class=\"dataframe\">\n",
       "  <thead>\n",
       "    <tr style=\"text-align: right;\">\n",
       "      <th></th>\n",
       "      <th>platform</th>\n",
       "      <th>eu_sales</th>\n",
       "      <th>sales_share</th>\n",
       "    </tr>\n",
       "  </thead>\n",
       "  <tbody>\n",
       "    <tr>\n",
       "      <th>0</th>\n",
       "      <td>PS3</td>\n",
       "      <td>163.10</td>\n",
       "      <td>0.302452</td>\n",
       "    </tr>\n",
       "    <tr>\n",
       "      <th>1</th>\n",
       "      <td>PS4</td>\n",
       "      <td>141.09</td>\n",
       "      <td>0.261636</td>\n",
       "    </tr>\n",
       "    <tr>\n",
       "      <th>2</th>\n",
       "      <td>X360</td>\n",
       "      <td>117.10</td>\n",
       "      <td>0.217149</td>\n",
       "    </tr>\n",
       "    <tr>\n",
       "      <th>3</th>\n",
       "      <td>3DS</td>\n",
       "      <td>61.27</td>\n",
       "      <td>0.113619</td>\n",
       "    </tr>\n",
       "    <tr>\n",
       "      <th>4</th>\n",
       "      <td>PC</td>\n",
       "      <td>56.70</td>\n",
       "      <td>0.105144</td>\n",
       "    </tr>\n",
       "  </tbody>\n",
       "</table>\n",
       "</div>"
      ],
      "text/plain": [
       "  platform  eu_sales  sales_share\n",
       "0      PS3    163.10     0.302452\n",
       "1      PS4    141.09     0.261636\n",
       "2     X360    117.10     0.217149\n",
       "3      3DS     61.27     0.113619\n",
       "4       PC     56.70     0.105144"
      ]
     },
     "execution_count": 441,
     "metadata": {},
     "output_type": "execute_result"
    }
   ],
   "source": [
    "df_eu_5 = df_11_16.groupby('platform')['eu_sales'].sum().sort_values(ascending=False).head(5)\n",
    "df_eu_5 = df_eu_5.reset_index()\n",
    "df_eu_5['sales_share'] = df_eu_5['eu_sales'] / df_eu_5['eu_sales'].sum()\n",
    "df_eu_5"
   ]
  },
  {
   "cell_type": "markdown",
   "id": "3043500e",
   "metadata": {},
   "source": [
    "Платформы Японии."
   ]
  },
  {
   "cell_type": "code",
   "execution_count": 442,
   "id": "0490c394",
   "metadata": {
    "scrolled": true
   },
   "outputs": [
    {
     "data": {
      "text/html": [
       "<div>\n",
       "<style scoped>\n",
       "    .dataframe tbody tr th:only-of-type {\n",
       "        vertical-align: middle;\n",
       "    }\n",
       "\n",
       "    .dataframe tbody tr th {\n",
       "        vertical-align: top;\n",
       "    }\n",
       "\n",
       "    .dataframe thead th {\n",
       "        text-align: right;\n",
       "    }\n",
       "</style>\n",
       "<table border=\"1\" class=\"dataframe\">\n",
       "  <thead>\n",
       "    <tr style=\"text-align: right;\">\n",
       "      <th></th>\n",
       "      <th>platform</th>\n",
       "      <th>jp_sales</th>\n",
       "      <th>sales_share</th>\n",
       "    </tr>\n",
       "  </thead>\n",
       "  <tbody>\n",
       "    <tr>\n",
       "      <th>0</th>\n",
       "      <td>3DS</td>\n",
       "      <td>100.62</td>\n",
       "      <td>0.474959</td>\n",
       "    </tr>\n",
       "    <tr>\n",
       "      <th>1</th>\n",
       "      <td>PS3</td>\n",
       "      <td>49.39</td>\n",
       "      <td>0.233137</td>\n",
       "    </tr>\n",
       "    <tr>\n",
       "      <th>2</th>\n",
       "      <td>PSP</td>\n",
       "      <td>24.04</td>\n",
       "      <td>0.113477</td>\n",
       "    </tr>\n",
       "    <tr>\n",
       "      <th>3</th>\n",
       "      <td>PSV</td>\n",
       "      <td>21.84</td>\n",
       "      <td>0.103092</td>\n",
       "    </tr>\n",
       "    <tr>\n",
       "      <th>4</th>\n",
       "      <td>PS4</td>\n",
       "      <td>15.96</td>\n",
       "      <td>0.075336</td>\n",
       "    </tr>\n",
       "  </tbody>\n",
       "</table>\n",
       "</div>"
      ],
      "text/plain": [
       "  platform  jp_sales  sales_share\n",
       "0      3DS    100.62     0.474959\n",
       "1      PS3     49.39     0.233137\n",
       "2      PSP     24.04     0.113477\n",
       "3      PSV     21.84     0.103092\n",
       "4      PS4     15.96     0.075336"
      ]
     },
     "execution_count": 442,
     "metadata": {},
     "output_type": "execute_result"
    }
   ],
   "source": [
    "df_jp_5 = df_11_16.groupby('platform')['jp_sales'].sum().sort_values(ascending=False).head(5)\n",
    "df_jp_5 = df_jp_5.reset_index()\n",
    "df_jp_5['sales_share'] = df_jp_5['jp_sales'] / df_jp_5['jp_sales'].sum()\n",
    "df_jp_5"
   ]
  },
  {
   "cell_type": "markdown",
   "id": "55a0e6d2",
   "metadata": {},
   "source": [
    "Самое главное отличие - на рынке Японии предпочитают портативные консоли 3DS, PSP и PSV а в топ-5 не попали X360 и XOne. Видно, что пользователи в Японии играют на \"ходу\". Европейские и американские вкусы в целом схожи. Отличие в XOne, которая не попала в европейский топ-5 и \"заменена\" в Европе на PC."
   ]
  },
  {
   "cell_type": "markdown",
   "id": "37252405",
   "metadata": {},
   "source": [
    "Самые популярные жанры по регионам (топ-5)."
   ]
  },
  {
   "cell_type": "code",
   "execution_count": 443,
   "id": "801c9ea1",
   "metadata": {},
   "outputs": [
    {
     "data": {
      "text/html": [
       "<div>\n",
       "<style scoped>\n",
       "    .dataframe tbody tr th:only-of-type {\n",
       "        vertical-align: middle;\n",
       "    }\n",
       "\n",
       "    .dataframe tbody tr th {\n",
       "        vertical-align: top;\n",
       "    }\n",
       "\n",
       "    .dataframe thead th {\n",
       "        text-align: right;\n",
       "    }\n",
       "</style>\n",
       "<table border=\"1\" class=\"dataframe\">\n",
       "  <thead>\n",
       "    <tr style=\"text-align: right;\">\n",
       "      <th></th>\n",
       "      <th>genre</th>\n",
       "      <th>sales</th>\n",
       "      <th>sales_share</th>\n",
       "    </tr>\n",
       "  </thead>\n",
       "  <tbody>\n",
       "    <tr>\n",
       "      <th>0</th>\n",
       "      <td>Action</td>\n",
       "      <td>557.80</td>\n",
       "      <td>0.358202</td>\n",
       "    </tr>\n",
       "    <tr>\n",
       "      <th>1</th>\n",
       "      <td>Shooter</td>\n",
       "      <td>402.91</td>\n",
       "      <td>0.258737</td>\n",
       "    </tr>\n",
       "    <tr>\n",
       "      <th>2</th>\n",
       "      <td>Role-Playing</td>\n",
       "      <td>245.63</td>\n",
       "      <td>0.157736</td>\n",
       "    </tr>\n",
       "    <tr>\n",
       "      <th>3</th>\n",
       "      <td>Sports</td>\n",
       "      <td>237.15</td>\n",
       "      <td>0.152291</td>\n",
       "    </tr>\n",
       "    <tr>\n",
       "      <th>4</th>\n",
       "      <td>Misc</td>\n",
       "      <td>139.42</td>\n",
       "      <td>0.089531</td>\n",
       "    </tr>\n",
       "  </tbody>\n",
       "</table>\n",
       "</div>"
      ],
      "text/plain": [
       "          genre   sales  sales_share\n",
       "0        Action  557.80     0.358202\n",
       "1       Shooter  402.91     0.258737\n",
       "2  Role-Playing  245.63     0.157736\n",
       "3        Sports  237.15     0.152291\n",
       "4          Misc  139.42     0.089531"
      ]
     },
     "execution_count": 443,
     "metadata": {},
     "output_type": "execute_result"
    }
   ],
   "source": [
    "df_genre_5 = df_11_16.groupby('genre')['sales'].sum().sort_values(ascending=False).head(5)\n",
    "df_genre_5 = df_genre_5.reset_index()\n",
    "df_genre_5['sales_share'] = df_genre_5['sales'] / df_5['sales'].sum()\n",
    "df_genre_5"
   ]
  },
  {
   "cell_type": "markdown",
   "id": "7ad64fe4",
   "metadata": {},
   "source": [
    "Жанры Северной Америки."
   ]
  },
  {
   "cell_type": "code",
   "execution_count": 444,
   "id": "35d3898a",
   "metadata": {
    "scrolled": false
   },
   "outputs": [
    {
     "data": {
      "text/html": [
       "<div>\n",
       "<style scoped>\n",
       "    .dataframe tbody tr th:only-of-type {\n",
       "        vertical-align: middle;\n",
       "    }\n",
       "\n",
       "    .dataframe tbody tr th {\n",
       "        vertical-align: top;\n",
       "    }\n",
       "\n",
       "    .dataframe thead th {\n",
       "        text-align: right;\n",
       "    }\n",
       "</style>\n",
       "<table border=\"1\" class=\"dataframe\">\n",
       "  <thead>\n",
       "    <tr style=\"text-align: right;\">\n",
       "      <th></th>\n",
       "      <th>genre</th>\n",
       "      <th>na_sales</th>\n",
       "      <th>sales_share</th>\n",
       "    </tr>\n",
       "  </thead>\n",
       "  <tbody>\n",
       "    <tr>\n",
       "      <th>0</th>\n",
       "      <td>Action</td>\n",
       "      <td>230.92</td>\n",
       "      <td>0.335874</td>\n",
       "    </tr>\n",
       "    <tr>\n",
       "      <th>1</th>\n",
       "      <td>Shooter</td>\n",
       "      <td>194.43</td>\n",
       "      <td>0.282799</td>\n",
       "    </tr>\n",
       "    <tr>\n",
       "      <th>2</th>\n",
       "      <td>Sports</td>\n",
       "      <td>108.70</td>\n",
       "      <td>0.158104</td>\n",
       "    </tr>\n",
       "    <tr>\n",
       "      <th>3</th>\n",
       "      <td>Role-Playing</td>\n",
       "      <td>83.78</td>\n",
       "      <td>0.121858</td>\n",
       "    </tr>\n",
       "    <tr>\n",
       "      <th>4</th>\n",
       "      <td>Misc</td>\n",
       "      <td>69.69</td>\n",
       "      <td>0.101364</td>\n",
       "    </tr>\n",
       "  </tbody>\n",
       "</table>\n",
       "</div>"
      ],
      "text/plain": [
       "          genre  na_sales  sales_share\n",
       "0        Action    230.92     0.335874\n",
       "1       Shooter    194.43     0.282799\n",
       "2        Sports    108.70     0.158104\n",
       "3  Role-Playing     83.78     0.121858\n",
       "4          Misc     69.69     0.101364"
      ]
     },
     "execution_count": 444,
     "metadata": {},
     "output_type": "execute_result"
    }
   ],
   "source": [
    "df_genre_na_5 = df_11_16.groupby('genre')['na_sales'].sum().sort_values(ascending=False).head(5)\n",
    "df_genre_na_5 = df_genre_na_5.reset_index()\n",
    "df_genre_na_5['sales_share'] = df_genre_na_5['na_sales'] / df_genre_na_5['na_sales'].sum()\n",
    "df_genre_na_5"
   ]
  },
  {
   "cell_type": "markdown",
   "id": "eb15e963",
   "metadata": {},
   "source": [
    "Жанры Евросоюза."
   ]
  },
  {
   "cell_type": "code",
   "execution_count": 445,
   "id": "7260e7ea",
   "metadata": {
    "scrolled": false
   },
   "outputs": [
    {
     "data": {
      "text/html": [
       "<div>\n",
       "<style scoped>\n",
       "    .dataframe tbody tr th:only-of-type {\n",
       "        vertical-align: middle;\n",
       "    }\n",
       "\n",
       "    .dataframe tbody tr th {\n",
       "        vertical-align: top;\n",
       "    }\n",
       "\n",
       "    .dataframe thead th {\n",
       "        text-align: right;\n",
       "    }\n",
       "</style>\n",
       "<table border=\"1\" class=\"dataframe\">\n",
       "  <thead>\n",
       "    <tr style=\"text-align: right;\">\n",
       "      <th></th>\n",
       "      <th>genre</th>\n",
       "      <th>eu_sales</th>\n",
       "      <th>sales_share</th>\n",
       "    </tr>\n",
       "  </thead>\n",
       "  <tbody>\n",
       "    <tr>\n",
       "      <th>0</th>\n",
       "      <td>Action</td>\n",
       "      <td>199.12</td>\n",
       "      <td>0.369768</td>\n",
       "    </tr>\n",
       "    <tr>\n",
       "      <th>1</th>\n",
       "      <td>Shooter</td>\n",
       "      <td>148.02</td>\n",
       "      <td>0.274875</td>\n",
       "    </tr>\n",
       "    <tr>\n",
       "      <th>2</th>\n",
       "      <td>Sports</td>\n",
       "      <td>88.48</td>\n",
       "      <td>0.164308</td>\n",
       "    </tr>\n",
       "    <tr>\n",
       "      <th>3</th>\n",
       "      <td>Role-Playing</td>\n",
       "      <td>62.30</td>\n",
       "      <td>0.115692</td>\n",
       "    </tr>\n",
       "    <tr>\n",
       "      <th>4</th>\n",
       "      <td>Racing</td>\n",
       "      <td>40.58</td>\n",
       "      <td>0.075357</td>\n",
       "    </tr>\n",
       "  </tbody>\n",
       "</table>\n",
       "</div>"
      ],
      "text/plain": [
       "          genre  eu_sales  sales_share\n",
       "0        Action    199.12     0.369768\n",
       "1       Shooter    148.02     0.274875\n",
       "2        Sports     88.48     0.164308\n",
       "3  Role-Playing     62.30     0.115692\n",
       "4        Racing     40.58     0.075357"
      ]
     },
     "execution_count": 445,
     "metadata": {},
     "output_type": "execute_result"
    }
   ],
   "source": [
    "df_genre_eu_5 = df_11_16.groupby('genre')['eu_sales'].sum().sort_values(ascending=False).head(5)\n",
    "df_genre_eu_5 = df_genre_eu_5.reset_index()\n",
    "df_genre_eu_5['sales_share'] = df_genre_eu_5['eu_sales'] / df_genre_eu_5['eu_sales'].sum()\n",
    "df_genre_eu_5"
   ]
  },
  {
   "cell_type": "markdown",
   "id": "bee36d92",
   "metadata": {},
   "source": [
    "Жанры Японии."
   ]
  },
  {
   "cell_type": "code",
   "execution_count": 446,
   "id": "9d5cef5e",
   "metadata": {
    "scrolled": true
   },
   "outputs": [
    {
     "data": {
      "text/html": [
       "<div>\n",
       "<style scoped>\n",
       "    .dataframe tbody tr th:only-of-type {\n",
       "        vertical-align: middle;\n",
       "    }\n",
       "\n",
       "    .dataframe tbody tr th {\n",
       "        vertical-align: top;\n",
       "    }\n",
       "\n",
       "    .dataframe thead th {\n",
       "        text-align: right;\n",
       "    }\n",
       "</style>\n",
       "<table border=\"1\" class=\"dataframe\">\n",
       "  <thead>\n",
       "    <tr style=\"text-align: right;\">\n",
       "      <th></th>\n",
       "      <th>genre</th>\n",
       "      <th>jp_sales</th>\n",
       "      <th>sales_share</th>\n",
       "    </tr>\n",
       "  </thead>\n",
       "  <tbody>\n",
       "    <tr>\n",
       "      <th>0</th>\n",
       "      <td>Role-Playing</td>\n",
       "      <td>79.87</td>\n",
       "      <td>0.430334</td>\n",
       "    </tr>\n",
       "    <tr>\n",
       "      <th>1</th>\n",
       "      <td>Action</td>\n",
       "      <td>63.62</td>\n",
       "      <td>0.342780</td>\n",
       "    </tr>\n",
       "    <tr>\n",
       "      <th>2</th>\n",
       "      <td>Misc</td>\n",
       "      <td>17.60</td>\n",
       "      <td>0.094828</td>\n",
       "    </tr>\n",
       "    <tr>\n",
       "      <th>3</th>\n",
       "      <td>Fighting</td>\n",
       "      <td>12.38</td>\n",
       "      <td>0.066703</td>\n",
       "    </tr>\n",
       "    <tr>\n",
       "      <th>4</th>\n",
       "      <td>Platform</td>\n",
       "      <td>12.13</td>\n",
       "      <td>0.065356</td>\n",
       "    </tr>\n",
       "  </tbody>\n",
       "</table>\n",
       "</div>"
      ],
      "text/plain": [
       "          genre  jp_sales  sales_share\n",
       "0  Role-Playing     79.87     0.430334\n",
       "1        Action     63.62     0.342780\n",
       "2          Misc     17.60     0.094828\n",
       "3      Fighting     12.38     0.066703\n",
       "4      Platform     12.13     0.065356"
      ]
     },
     "execution_count": 446,
     "metadata": {},
     "output_type": "execute_result"
    }
   ],
   "source": [
    "df_genre_jp_5 = df_11_16.groupby('genre')['jp_sales'].sum().sort_values(ascending=False).head(5)\n",
    "df_genre_jp_5 = df_genre_jp_5.reset_index()\n",
    "df_genre_jp_5['sales_share'] = df_genre_jp_5['jp_sales'] / df_genre_jp_5['jp_sales'].sum()\n",
    "df_genre_jp_5"
   ]
  },
  {
   "cell_type": "markdown",
   "id": "be5c0676",
   "metadata": {},
   "source": [
    "Посмотрим на топы игр по территориям"
   ]
  },
  {
   "cell_type": "markdown",
   "id": "7c8eb98b",
   "metadata": {},
   "source": [
    "Топ игр, Северная Америка"
   ]
  },
  {
   "cell_type": "code",
   "execution_count": 447,
   "id": "cfe0606a",
   "metadata": {
    "scrolled": true
   },
   "outputs": [
    {
     "data": {
      "text/html": [
       "<div>\n",
       "<style scoped>\n",
       "    .dataframe tbody tr th:only-of-type {\n",
       "        vertical-align: middle;\n",
       "    }\n",
       "\n",
       "    .dataframe tbody tr th {\n",
       "        vertical-align: top;\n",
       "    }\n",
       "\n",
       "    .dataframe thead th {\n",
       "        text-align: right;\n",
       "    }\n",
       "</style>\n",
       "<table border=\"1\" class=\"dataframe\">\n",
       "  <thead>\n",
       "    <tr style=\"text-align: right;\">\n",
       "      <th></th>\n",
       "      <th>name</th>\n",
       "      <th>genre</th>\n",
       "      <th>na_sales</th>\n",
       "    </tr>\n",
       "  </thead>\n",
       "  <tbody>\n",
       "    <tr>\n",
       "      <th>0</th>\n",
       "      <td>Grand Theft Auto V</td>\n",
       "      <td>Action</td>\n",
       "      <td>23.84</td>\n",
       "    </tr>\n",
       "    <tr>\n",
       "      <th>1</th>\n",
       "      <td>Call of Duty: Modern Warfare 3</td>\n",
       "      <td>Shooter</td>\n",
       "      <td>15.54</td>\n",
       "    </tr>\n",
       "    <tr>\n",
       "      <th>2</th>\n",
       "      <td>Call of Duty: Ghosts</td>\n",
       "      <td>Shooter</td>\n",
       "      <td>14.94</td>\n",
       "    </tr>\n",
       "    <tr>\n",
       "      <th>3</th>\n",
       "      <td>Call of Duty: Black Ops II</td>\n",
       "      <td>Shooter</td>\n",
       "      <td>14.08</td>\n",
       "    </tr>\n",
       "    <tr>\n",
       "      <th>4</th>\n",
       "      <td>Call of Duty: Black Ops 3</td>\n",
       "      <td>Shooter</td>\n",
       "      <td>12.25</td>\n",
       "    </tr>\n",
       "    <tr>\n",
       "      <th>5</th>\n",
       "      <td>Minecraft</td>\n",
       "      <td>Misc</td>\n",
       "      <td>11.28</td>\n",
       "    </tr>\n",
       "    <tr>\n",
       "      <th>6</th>\n",
       "      <td>Call of Duty: Advanced Warfare</td>\n",
       "      <td>Shooter</td>\n",
       "      <td>10.51</td>\n",
       "    </tr>\n",
       "    <tr>\n",
       "      <th>7</th>\n",
       "      <td>The Elder Scrolls V: Skyrim</td>\n",
       "      <td>Role-Playing</td>\n",
       "      <td>9.65</td>\n",
       "    </tr>\n",
       "    <tr>\n",
       "      <th>8</th>\n",
       "      <td>Battlefield 3</td>\n",
       "      <td>Shooter</td>\n",
       "      <td>8.20</td>\n",
       "    </tr>\n",
       "    <tr>\n",
       "      <th>9</th>\n",
       "      <td>Just Dance 3</td>\n",
       "      <td>Misc</td>\n",
       "      <td>7.75</td>\n",
       "    </tr>\n",
       "  </tbody>\n",
       "</table>\n",
       "</div>"
      ],
      "text/plain": [
       "                             name         genre  na_sales\n",
       "0              Grand Theft Auto V        Action     23.84\n",
       "1  Call of Duty: Modern Warfare 3       Shooter     15.54\n",
       "2            Call of Duty: Ghosts       Shooter     14.94\n",
       "3      Call of Duty: Black Ops II       Shooter     14.08\n",
       "4       Call of Duty: Black Ops 3       Shooter     12.25\n",
       "5                       Minecraft          Misc     11.28\n",
       "6  Call of Duty: Advanced Warfare       Shooter     10.51\n",
       "7     The Elder Scrolls V: Skyrim  Role-Playing      9.65\n",
       "8                   Battlefield 3       Shooter      8.20\n",
       "9                    Just Dance 3          Misc      7.75"
      ]
     },
     "execution_count": 447,
     "metadata": {},
     "output_type": "execute_result"
    }
   ],
   "source": [
    "df_11_16_name_na_sales = df_11_16.groupby(['name', 'genre'])['na_sales'].sum().sort_values(ascending=False)\n",
    "df_11_16_name_na_sales = df_11_16_name_na_sales.reset_index()\n",
    "df_11_16_name_na_sales.head(10)"
   ]
  },
  {
   "cell_type": "markdown",
   "id": "aca5e02b",
   "metadata": {},
   "source": [
    "Топ игр, Евросоюз"
   ]
  },
  {
   "cell_type": "code",
   "execution_count": 448,
   "id": "aa37c532",
   "metadata": {
    "scrolled": true
   },
   "outputs": [
    {
     "data": {
      "text/html": [
       "<div>\n",
       "<style scoped>\n",
       "    .dataframe tbody tr th:only-of-type {\n",
       "        vertical-align: middle;\n",
       "    }\n",
       "\n",
       "    .dataframe tbody tr th {\n",
       "        vertical-align: top;\n",
       "    }\n",
       "\n",
       "    .dataframe thead th {\n",
       "        text-align: right;\n",
       "    }\n",
       "</style>\n",
       "<table border=\"1\" class=\"dataframe\">\n",
       "  <thead>\n",
       "    <tr style=\"text-align: right;\">\n",
       "      <th></th>\n",
       "      <th>name</th>\n",
       "      <th>genre</th>\n",
       "      <th>eu_sales</th>\n",
       "    </tr>\n",
       "  </thead>\n",
       "  <tbody>\n",
       "    <tr>\n",
       "      <th>0</th>\n",
       "      <td>Grand Theft Auto V</td>\n",
       "      <td>Action</td>\n",
       "      <td>23.42</td>\n",
       "    </tr>\n",
       "    <tr>\n",
       "      <th>1</th>\n",
       "      <td>FIFA 15</td>\n",
       "      <td>Sports</td>\n",
       "      <td>12.02</td>\n",
       "    </tr>\n",
       "    <tr>\n",
       "      <th>2</th>\n",
       "      <td>Call of Duty: Modern Warfare 3</td>\n",
       "      <td>Shooter</td>\n",
       "      <td>11.15</td>\n",
       "    </tr>\n",
       "    <tr>\n",
       "      <th>3</th>\n",
       "      <td>FIFA 16</td>\n",
       "      <td>Sports</td>\n",
       "      <td>11.09</td>\n",
       "    </tr>\n",
       "    <tr>\n",
       "      <th>4</th>\n",
       "      <td>FIFA 14</td>\n",
       "      <td>Sports</td>\n",
       "      <td>10.96</td>\n",
       "    </tr>\n",
       "    <tr>\n",
       "      <th>5</th>\n",
       "      <td>Call of Duty: Black Ops II</td>\n",
       "      <td>Shooter</td>\n",
       "      <td>10.84</td>\n",
       "    </tr>\n",
       "    <tr>\n",
       "      <th>6</th>\n",
       "      <td>FIFA Soccer 13</td>\n",
       "      <td>Action</td>\n",
       "      <td>10.16</td>\n",
       "    </tr>\n",
       "    <tr>\n",
       "      <th>7</th>\n",
       "      <td>Call of Duty: Black Ops 3</td>\n",
       "      <td>Shooter</td>\n",
       "      <td>9.49</td>\n",
       "    </tr>\n",
       "    <tr>\n",
       "      <th>8</th>\n",
       "      <td>Call of Duty: Ghosts</td>\n",
       "      <td>Shooter</td>\n",
       "      <td>8.89</td>\n",
       "    </tr>\n",
       "    <tr>\n",
       "      <th>9</th>\n",
       "      <td>Minecraft</td>\n",
       "      <td>Misc</td>\n",
       "      <td>8.75</td>\n",
       "    </tr>\n",
       "  </tbody>\n",
       "</table>\n",
       "</div>"
      ],
      "text/plain": [
       "                             name    genre  eu_sales\n",
       "0              Grand Theft Auto V   Action     23.42\n",
       "1                         FIFA 15   Sports     12.02\n",
       "2  Call of Duty: Modern Warfare 3  Shooter     11.15\n",
       "3                         FIFA 16   Sports     11.09\n",
       "4                         FIFA 14   Sports     10.96\n",
       "5      Call of Duty: Black Ops II  Shooter     10.84\n",
       "6                  FIFA Soccer 13   Action     10.16\n",
       "7       Call of Duty: Black Ops 3  Shooter      9.49\n",
       "8            Call of Duty: Ghosts  Shooter      8.89\n",
       "9                       Minecraft     Misc      8.75"
      ]
     },
     "execution_count": 448,
     "metadata": {},
     "output_type": "execute_result"
    }
   ],
   "source": [
    "df_11_16_name_eu_sales = df_11_16.groupby(['name', 'genre'])['eu_sales'].sum().sort_values(ascending=False)\n",
    "df_11_16_name_eu_sales = df_11_16_name_eu_sales.reset_index()\n",
    "df_11_16_name_eu_sales.head(10)"
   ]
  },
  {
   "cell_type": "markdown",
   "id": "eed1f6d1",
   "metadata": {},
   "source": [
    "Топ игр, Япония"
   ]
  },
  {
   "cell_type": "code",
   "execution_count": 449,
   "id": "415f5b79",
   "metadata": {
    "scrolled": true
   },
   "outputs": [
    {
     "data": {
      "text/html": [
       "<div>\n",
       "<style scoped>\n",
       "    .dataframe tbody tr th:only-of-type {\n",
       "        vertical-align: middle;\n",
       "    }\n",
       "\n",
       "    .dataframe tbody tr th {\n",
       "        vertical-align: top;\n",
       "    }\n",
       "\n",
       "    .dataframe thead th {\n",
       "        text-align: right;\n",
       "    }\n",
       "</style>\n",
       "<table border=\"1\" class=\"dataframe\">\n",
       "  <thead>\n",
       "    <tr style=\"text-align: right;\">\n",
       "      <th></th>\n",
       "      <th>name</th>\n",
       "      <th>genre</th>\n",
       "      <th>jp_sales</th>\n",
       "    </tr>\n",
       "  </thead>\n",
       "  <tbody>\n",
       "    <tr>\n",
       "      <th>0</th>\n",
       "      <td>Animal Crossing: New Leaf</td>\n",
       "      <td>Simulation</td>\n",
       "      <td>4.39</td>\n",
       "    </tr>\n",
       "    <tr>\n",
       "      <th>1</th>\n",
       "      <td>Pokemon X/Pokemon Y</td>\n",
       "      <td>Role-Playing</td>\n",
       "      <td>4.35</td>\n",
       "    </tr>\n",
       "    <tr>\n",
       "      <th>2</th>\n",
       "      <td>Monster Hunter 4</td>\n",
       "      <td>Role-Playing</td>\n",
       "      <td>3.44</td>\n",
       "    </tr>\n",
       "    <tr>\n",
       "      <th>3</th>\n",
       "      <td>Super Smash Bros. for Wii U and 3DS</td>\n",
       "      <td>Fighting</td>\n",
       "      <td>3.24</td>\n",
       "    </tr>\n",
       "    <tr>\n",
       "      <th>4</th>\n",
       "      <td>Yokai Watch 2 Ganso/Honke</td>\n",
       "      <td>Role-Playing</td>\n",
       "      <td>3.18</td>\n",
       "    </tr>\n",
       "    <tr>\n",
       "      <th>5</th>\n",
       "      <td>Pokemon Black 2/Pokemon White 2</td>\n",
       "      <td>Role-Playing</td>\n",
       "      <td>3.14</td>\n",
       "    </tr>\n",
       "    <tr>\n",
       "      <th>6</th>\n",
       "      <td>Pokemon Omega Ruby/Pokemon Alpha Sapphire</td>\n",
       "      <td>Role-Playing</td>\n",
       "      <td>3.10</td>\n",
       "    </tr>\n",
       "    <tr>\n",
       "      <th>7</th>\n",
       "      <td>Monster Hunter X</td>\n",
       "      <td>Action</td>\n",
       "      <td>2.79</td>\n",
       "    </tr>\n",
       "    <tr>\n",
       "      <th>8</th>\n",
       "      <td>Mario Kart 7</td>\n",
       "      <td>Racing</td>\n",
       "      <td>2.69</td>\n",
       "    </tr>\n",
       "    <tr>\n",
       "      <th>9</th>\n",
       "      <td>Yokai Watch 2 Shinuchi</td>\n",
       "      <td>Role-Playing</td>\n",
       "      <td>2.68</td>\n",
       "    </tr>\n",
       "  </tbody>\n",
       "</table>\n",
       "</div>"
      ],
      "text/plain": [
       "                                        name         genre  jp_sales\n",
       "0                  Animal Crossing: New Leaf    Simulation      4.39\n",
       "1                        Pokemon X/Pokemon Y  Role-Playing      4.35\n",
       "2                           Monster Hunter 4  Role-Playing      3.44\n",
       "3        Super Smash Bros. for Wii U and 3DS      Fighting      3.24\n",
       "4                  Yokai Watch 2 Ganso/Honke  Role-Playing      3.18\n",
       "5            Pokemon Black 2/Pokemon White 2  Role-Playing      3.14\n",
       "6  Pokemon Omega Ruby/Pokemon Alpha Sapphire  Role-Playing      3.10\n",
       "7                           Monster Hunter X        Action      2.79\n",
       "8                               Mario Kart 7        Racing      2.69\n",
       "9                     Yokai Watch 2 Shinuchi  Role-Playing      2.68"
      ]
     },
     "execution_count": 449,
     "metadata": {},
     "output_type": "execute_result"
    }
   ],
   "source": [
    "df_11_16_name_jp_sales = df_11_16.groupby(['name', 'genre'])['jp_sales'].sum().sort_values(ascending=False)\n",
    "df_11_16_name_jp_sales = df_11_16_name_jp_sales.reset_index()\n",
    "df_11_16_name_jp_sales.head(10)"
   ]
  },
  {
   "cell_type": "markdown",
   "id": "1d25be70",
   "metadata": {},
   "source": [
    "- По **количеству наименований** лидируют жанры Action, Adventure, Role-Playing, Sports. По **продажам** к лидерам присоединяется Shooter, а вот Adventure уходит из топ-5.\n",
    "- Если посмотреть **10 самых популярных** игр, то они принадлежат к жанрам Sports, Action, Racing, Shooter.\n",
    "- По регионам топы жанров игр в **Америке и Европы** схожи за исключением популярности Racing в Европе. Причем изучение названий игр показывает, что в Европе в плане спорта выбирают футбол, а в Северной Америке в топ игр спортивные вообще не попадают, зато бестселеры - шутеры и GTA.\n",
    "- В **Японии** совершенно иные предпочтения - в топе RPG (включая 6 мест в 10-ке названий игр), платформенные игры (последних нет в топах-5 остальных территорий, а также Action (что сближает с другими регионами) и Fighting."
   ]
  },
  {
   "cell_type": "markdown",
   "id": "0d13fc85",
   "metadata": {},
   "source": [
    "Влияет ли рейтинг ESRB на продажи в отдельном регионе?"
   ]
  },
  {
   "cell_type": "markdown",
   "id": "df3c4515",
   "metadata": {},
   "source": [
    "Введем числовые аналоги возрастных рейтингов (укажем возраст, для которого разрешена игра.)"
   ]
  },
  {
   "cell_type": "markdown",
   "id": "6a19213e",
   "metadata": {},
   "source": [
    "- E - 3\n",
    "- T- 13\n",
    "- M - 17\n",
    "- E10+ - 10\n",
    "- EC - 4 (в описании возраст не указан, указаны только требования по ограничению, но будем считать, что это следующая ступень после E)\n",
    "- K-A - 0 (не смог найти описание)\n",
    "- RP - 0 (возрастной статус не определен)\n",
    "- AO - 18"
   ]
  },
  {
   "cell_type": "code",
   "execution_count": 450,
   "id": "f86d5872",
   "metadata": {
    "scrolled": false
   },
   "outputs": [
    {
     "name": "stderr",
     "output_type": "stream",
     "text": [
      "C:\\Users\\dsaulin\\AppData\\Local\\Temp/ipykernel_14364/2318202391.py:17: SettingWithCopyWarning: \n",
      "A value is trying to be set on a copy of a slice from a DataFrame.\n",
      "Try using .loc[row_indexer,col_indexer] = value instead\n",
      "\n",
      "See the caveats in the documentation: https://pandas.pydata.org/pandas-docs/stable/user_guide/indexing.html#returning-a-view-versus-a-copy\n",
      "  df_11_16['age_category'] = df_11_16.apply(age_category, axis=1)\n"
     ]
    }
   ],
   "source": [
    "def age_category(df_11_16):\n",
    "    rating = df_11_16['rating']\n",
    "    if rating == 'E':\n",
    "        return '3'\n",
    "    if rating == 'T':\n",
    "        return '13'\n",
    "    if rating == 'M':\n",
    "        return '17'\n",
    "    if rating == 'E10+':\n",
    "        return '10'\n",
    "    if rating == 'EC':\n",
    "        return '4'\n",
    "    if rating == 'AO':\n",
    "        return '18'\n",
    "    return 'no rating'\n",
    "\n",
    "df_11_16['age_category'] = df_11_16.apply(age_category, axis=1)\n",
    "# df_11_16"
   ]
  },
  {
   "cell_type": "markdown",
   "id": "1a10a16d",
   "metadata": {},
   "source": [
    "Распределение продаж по возрастным рейтингам, все территории"
   ]
  },
  {
   "cell_type": "code",
   "execution_count": 451,
   "id": "87720614",
   "metadata": {},
   "outputs": [
    {
     "data": {
      "text/plain": [
       "no rating    1709\n",
       "17            622\n",
       "3             618\n",
       "13            616\n",
       "10            456\n",
       "4               1\n",
       "Name: age_category, dtype: int64"
      ]
     },
     "execution_count": 451,
     "metadata": {},
     "output_type": "execute_result"
    }
   ],
   "source": [
    "df_11_16['age_category'].value_counts()"
   ]
  },
  {
   "cell_type": "markdown",
   "id": "d293ed35",
   "metadata": {},
   "source": [
    "Из всех возрастных рейтингов 4-ка самых популярных - для 3, 10, 13 и 17 лет. На игры с этими возрастными рейтингами приходится подавляющее большинство всех продаж."
   ]
  },
  {
   "cell_type": "markdown",
   "id": "286b5984",
   "metadata": {},
   "source": [
    "Распределение продаж по возрастным рейтингам, Северная Америка"
   ]
  },
  {
   "cell_type": "code",
   "execution_count": 452,
   "id": "8a12551a",
   "metadata": {
    "scrolled": true
   },
   "outputs": [
    {
     "name": "stdout",
     "output_type": "stream",
     "text": [
      "age_category\n",
      "17           308.45\n",
      "3            170.17\n",
      "no rating    123.69\n",
      "10           117.72\n",
      "13           109.31\n",
      "4              0.42\n",
      "Name: na_sales, dtype: float64\n"
     ]
    }
   ],
   "source": [
    "print(df_11_16.groupby('age_category')['na_sales'].sum().sort_values(ascending=False))"
   ]
  },
  {
   "cell_type": "markdown",
   "id": "13be09a0",
   "metadata": {},
   "source": [
    "Распределение продаж по возрастным рейтингам, Евросоюз"
   ]
  },
  {
   "cell_type": "code",
   "execution_count": 453,
   "id": "e330471a",
   "metadata": {
    "scrolled": false
   },
   "outputs": [
    {
     "name": "stdout",
     "output_type": "stream",
     "text": [
      "age_category\n",
      "17           250.26\n",
      "3            141.73\n",
      "no rating    116.64\n",
      "13            83.16\n",
      "10            78.00\n",
      "4              0.00\n",
      "Name: eu_sales, dtype: float64\n"
     ]
    }
   ],
   "source": [
    "print(df_11_16.groupby('age_category')['eu_sales'].sum().sort_values(ascending=False))"
   ]
  },
  {
   "cell_type": "markdown",
   "id": "7253cd8b",
   "metadata": {},
   "source": [
    "Распределение продаж по возрастным рейтингам, Япония"
   ]
  },
  {
   "cell_type": "code",
   "execution_count": 454,
   "id": "e40bf02a",
   "metadata": {
    "scrolled": false
   },
   "outputs": [
    {
     "name": "stdout",
     "output_type": "stream",
     "text": [
      "age_category\n",
      "no rating    138.21\n",
      "3             36.68\n",
      "13            33.39\n",
      "17            26.14\n",
      "10            11.23\n",
      "4              0.00\n",
      "Name: jp_sales, dtype: float64\n"
     ]
    }
   ],
   "source": [
    "print(df_11_16.groupby('age_category')['jp_sales'].sum().sort_values(ascending=False))"
   ]
  },
  {
   "cell_type": "markdown",
   "id": "51736e82",
   "metadata": {},
   "source": [
    "- Самые популярные рейтинги в **Северной Америке и Европе** распределились одинаково - сначала для самых старших (17 лет), потом для самых маленьких (3 года), потом уже для подростков 10 и 13 лет. Также в обоих случаях игры с непроставленным рейтингом - на третьих местах (причины отсутствия возрастной маркировки в нашем датасете нам неизвестны.)\n",
    "- Разница **японского топа** в том, безрейтинговые игры на первых местах (тут надо вспомнить склонность пользоватлей к платформеным играм, а в их случае, возможно, не такие жесткие правила маркировки), потом -младший возраст, потом 13 лет, потом старший (17). Т.е. в Японии пользователи раннего подросткового возраста и семейные покупатели активнее 17-летних. \n",
    "- Относительно влияния рейтиннга на продажи - видно, что самые популярные игры на всех территориях - для младшего и подросткового возраста. Причем в Японии наиболее активны 13-летние потребители, а в Америке и Европы - старшие по возрасту юзеры. "
   ]
  },
  {
   "cell_type": "markdown",
   "id": "f01da9c9",
   "metadata": {},
   "source": [
    "**Портреты потребителей регионов**:\n",
    "- **Северная Америка** - пользователи приставок Microsoft и Sony, предпочитающие игры для младшего возраста, а также игры с высоким возрастным цензом, которые играют в шутеры и экшн-игры, а также увлечены спортивными симуляторами и RPG.\n",
    "- **Европа** - любители Sony, Microsoft и Nintendo, предпочитающие игры для младшего возраста, а также игры с высоким возрастным цензом, которые играют в шутеры и экшн-игры, футбольные симуляторы и гонки, а также RPG.\n",
    "- **Япония** - фанаты консольных приставок Nintendo и Sony, а также приставок Sony, предпочитающие игры для младшего возраста и младшего подросткового возраста в жанрах RPG, экшн и платформенных стилях и Fighting. Явно выраженное предпочтение к играм и приставкам \"на ходу\" и в дороге."
   ]
  },
  {
   "cell_type": "markdown",
   "id": "da2c9969",
   "metadata": {},
   "source": [
    "## Проверка гипотез"
   ]
  },
  {
   "cell_type": "markdown",
   "id": "0b97838b",
   "metadata": {},
   "source": [
    "Сформулируем гипотезы исследования.\n",
    "\n",
    "1) H0: Средние пользовательские рейтинги платформ Xbox One и PC не различаются.\n",
    "\n",
    "H1: Средние пользовательские рейтинги платформ Xbox One и PC различаются.\n",
    "\n",
    "2) H0: Средние пользовательские рейтинги жанров Action и Sports не различаются.\n",
    "\n",
    "H1: Средние пользовательские рейтинги жанров Action и Sports различаются."
   ]
  },
  {
   "cell_type": "code",
   "execution_count": 455,
   "id": "b1eecaae",
   "metadata": {},
   "outputs": [
    {
     "name": "stdout",
     "output_type": "stream",
     "text": [
      "p-значение: 0.6267602271422317\n",
      "Не получилось отвергнуть нулевую гипотезу\n"
     ]
    }
   ],
   "source": [
    "alpha = .05\n",
    "\n",
    "results = st.ttest_ind(\n",
    "    df_11_16[df_11_16['platform'] == 'XOne']['user_score'], \n",
    "    df_11_16[df_11_16['platform'] == 'PC']['user_score'], nan_policy='omit')\n",
    "\n",
    "print('p-значение:', results.pvalue)\n",
    "\n",
    "if results.pvalue < alpha:\n",
    "    print(\"Отвергаем нулевую гипотезу\")\n",
    "else:\n",
    "    print(\"Не получилось отвергнуть нулевую гипотезу\") "
   ]
  },
  {
   "cell_type": "code",
   "execution_count": 456,
   "id": "8f6f2b52",
   "metadata": {
    "scrolled": false
   },
   "outputs": [
    {
     "name": "stdout",
     "output_type": "stream",
     "text": [
      "p-значение: 5.197455025213706e-24\n",
      "Отвергаем нулевую гипотезу\n"
     ]
    }
   ],
   "source": [
    "alpha = .05\n",
    "\n",
    "results = st.ttest_ind(\n",
    "    df_11_16[df_11_16['genre'] == 'Action']['user_score'], \n",
    "    df_11_16[df_11_16['genre'] == 'Sports']['user_score'], nan_policy='omit')\n",
    "\n",
    "print('p-значение:', results.pvalue)\n",
    "\n",
    "if results.pvalue < alpha:\n",
    "    print(\"Отвергаем нулевую гипотезу\")\n",
    "else:\n",
    "    print(\"Не получилось отвергнуть нулевую гипотезу\") "
   ]
  },
  {
   "cell_type": "markdown",
   "id": "ea61d705",
   "metadata": {},
   "source": [
    "Если анализировать актуальный период, то мы получаем следующий результат. Значение p-value в **первом** случае показывает, что вероятность получить близкие средние в пользовательских рейтингах Xbox One и PC весьма велика, а значит нулевую гипотезу **мы не отвергаем**. Во **втором** случае вероятность получить близкие средние в пользовательских рейтингах жанров Action и Sports крайне мала, и мы **отвергаем** нулевую гипотезу."
   ]
  },
  {
   "cell_type": "code",
   "execution_count": 457,
   "id": "1f377edf",
   "metadata": {
    "scrolled": true
   },
   "outputs": [
    {
     "name": "stdout",
     "output_type": "stream",
     "text": [
      "6.52142857142857\n",
      "6.451791530944625\n",
      "Разница в средних в процентах: -1.0678188026015567\n"
     ]
    }
   ],
   "source": [
    "print(df_11_16[df_11_16['platform'] == 'XOne']['user_score'].mean())\n",
    "print(df_11_16[df_11_16['platform'] == 'PC']['user_score'].mean())\n",
    "print('Разница в средних в процентах:', (df_11_16[df_11_16['platform'] == 'PC']['user_score'].mean() - df_11_16[df_11_16['platform'] == 'XOne']['user_score'].mean()) / df_11_16[df_11_16['platform'] == 'XOne']['user_score'].mean() * 100)"
   ]
  },
  {
   "cell_type": "code",
   "execution_count": 458,
   "id": "512b75ae",
   "metadata": {},
   "outputs": [
    {
     "name": "stdout",
     "output_type": "stream",
     "text": [
      "6.775903614457846\n",
      "5.650813008130081\n",
      "Разница в средних в процентах: 19.910243087305247\n"
     ]
    }
   ],
   "source": [
    "print(df_11_16[df_11_16['genre'] == 'Action']['user_score'].mean())\n",
    "print(df_11_16[df_11_16['genre'] == 'Sports']['user_score'].mean())\n",
    "print('Разница в средних в процентах:', (df_11_16[df_11_16['genre'] == 'Action']['user_score'].mean() - df_11_16[df_11_16['genre'] == 'Sports']['user_score'].mean()) / df_11_16[df_11_16['genre'] == 'Sports']['user_score'].mean() * 100)"
   ]
  },
  {
   "cell_type": "markdown",
   "id": "0edde0af",
   "metadata": {},
   "source": [
    "## Общие выводы"
   ]
  },
  {
   "cell_type": "markdown",
   "id": "bcf203bb",
   "metadata": {},
   "source": [
    "- В продажах игр лидирует Северная Америка, потом идет Евросоюз, далее Япония и остальные страны.\n",
    "- Жизненный цикл игровой платформы, точнее период её популярности составляет примерно 6-8 лет. При этом могут быть длинные хвосты продаж и после пиков. \n",
    "- Актуальным периодом для прогнозирования трендов мы выбрали 2011-2016, чтобы оценить тренды периода, близкого к интересующему нас 2016-му, а также отсечь платформы, популярность которых в прошлом.\n",
    "- В период 2005-2016 лидировали такие платформы, как X360, PS3, Wii, DS (производители Microsoft, Sony, Nintendo). Пики их продаж пришлись на 2009-2011, но к концу актуального периода все они пошли на спад. Надежды на их возрождение или успех после 2016-го минимальны.\n",
    "- Сложно однозначно выделить потенциальных лидеров или тех, кому предстоит вырасти в ближайший после 2016-го года период. Дело в том, что все платформы демонстрируют падение к 2016-му, ни одна из них не растет.\n",
    "- Можно обратить внимание на PS4, она стартовала в 2013-м, продемонстрировала пик в 2015-м, потом продажи снизились, но в последний отчетный период она самая популярная их всех, кто еще на рынке + у нее большой отрыв от конкурентов.\n",
    "- У XOne более плавная кривая продаж, и их сумма меньше в 2,5 раза, чем у лидера. Тем не менее это второе место по состоянию на 2016-й. За этой платформой тоже можно следить, предполагая вероятность роста.\n",
    "- На японском рынке интересен случай XOne - есть шанс, что на этом рынке у нее есть возможности к росту в рамках цикла 6-7 лет. Также обратим внимание на судьбу 3DS, которая падает уже несколько лет, но в 2016-м на этом рынке обходит остальные платформы.\n",
    "- На европейском рынке интересно будет посмотреть судьбу PS4 - у нее вряд ли уже будет большой подъем, но можно сделать ставку на плато на несколько лет, либо на плавное снижение с длинным хвостом, что будет означать хорошие продажи в сумме за все годы. \n",
    "- По медианам количества продаж лидируют X360, XOne, WiiU. По величине стандартного отклонения продаж выделим X360, PS3, PS4, XOne.  Интересно, что по абсолютным цифрам количества наименований игр XOne и WiiU - далеко не чемпионы (получается на них игры продаются в среднем дороже и при этом с бОльшим разбросом в количестве продаж.) Также интересно, что 3DS (один лидеров по количеству наименований игр) в среднем продает их дешевле и с относительно небольшим разбросом в количестве продаж.\n",
    "- Если посмотреть на выбросы на диаграммах размаха, можно выделить PS3 (одна из игр продалась в количестве 21 миллион шт!), X360, PS4, 3DS. Последняя, хоть и продает игры дешевле и с меньшим, чем у других, стандартным отклонением, но также имеет игры-бестселлеры в своем каталоге.\n",
    "- Отзывы критиков и отзывы пользователей влияют на рост продаж игр на разных платформах, но корреляция часто очень мала, иногда она бывает средней.\n",
    "- В актуальный период средние пользовательские рейтинги платформ Xbox One и PC не различаются. Средние пользовательские рейтинги жанров Action и Sports различаются.\n",
    "- По количеству наименований лидируют жанры Action, Adventure, Role-Playing, Sports. По продажам к лидерам присоединяется Shooter, а вот Adventure в рейтинге опускается в конец первой десятки. Если посмотреть 10 самых популярных игр, то они принадлежат к жанрам Shooter (6 игр из 10!), Sports, Action, RPG, Shooter. Если смотреть распределение медианных продаж** по жанрам, то самые большие продажи в пересчете на игру - в жанрах Shooter, Platform, Sports, Racing. Также в пятерку попадает Fighting.\n",
    "- Относительно влияния рейтинга на продажи - видно, что самые популярные игры на всех территориях - для младшего и подросткового возраста. Причем в Японии наиболее активны 13-летние потребители, а в Америке и Европы - старшие по возрасту юзеры. В датасете велика доля игр, где возрастной рейтинг не указан, а значит результаты анализа можно распространить не на всю выборку.\n",
    "\n",
    "**Обобщенные портреты потребителей регионов**:\n",
    "- Северная Америка - пользователи приставок Microsoft и Sony, предпочитающие игры для младшего возраста, а также игры с высоким возрастным цензом, которые играют в шутеры и экшн-игры, а также увлечены спортивными симуляторами и RPG.\n",
    "- Европа - любители Sony, Microsoft и Nintendo, предпочитающие игры для младшего возраста, а также игры с высоким возрастным цензом, которые играют в шутеры и экшн-игры, футбольные симуляторы и гонки, а также RPG.\n",
    "- Япония - фанаты консольных приставок Nintendo и Sony, а также приставок Sony, предпочитающие игры для младшего возраста и младшего подросткового возраста в жанрах RPG, экшн и платформенных стилях и Fighting. Явно выраженное предпочтение к играм и приставкам \"на ходу\" и в дороге.\n",
    "- Учитывая предпочтение платформ и жанров игр, в Японии подростки сами выбирают покупки и тип досуга, а в Америке и Европе это либо семейные приобретения настольных приставок, либо игровая активность \"кидалтов\", которые покупают игры с высоким возрастным цензом."
   ]
  }
 ],
 "metadata": {
  "ExecuteTimeLog": [
   {
    "duration": 1747,
    "start_time": "2022-07-06T11:08:55.708Z"
   },
   {
    "duration": 155,
    "start_time": "2022-07-06T11:08:57.752Z"
   },
   {
    "duration": 7,
    "start_time": "2022-07-06T11:09:15.022Z"
   },
   {
    "duration": 20,
    "start_time": "2022-07-06T11:17:14.264Z"
   },
   {
    "duration": 24,
    "start_time": "2022-07-06T11:17:22.866Z"
   },
   {
    "duration": 8,
    "start_time": "2022-07-06T11:19:26.818Z"
   },
   {
    "duration": 6,
    "start_time": "2022-07-06T11:19:48.261Z"
   },
   {
    "duration": 5,
    "start_time": "2022-07-06T11:19:50.061Z"
   },
   {
    "duration": 43,
    "start_time": "2022-07-06T11:19:58.407Z"
   },
   {
    "duration": 13,
    "start_time": "2022-07-06T11:20:03.397Z"
   },
   {
    "duration": 531,
    "start_time": "2022-07-06T11:20:53.905Z"
   },
   {
    "duration": 32,
    "start_time": "2022-07-06T11:21:34.282Z"
   },
   {
    "duration": 15,
    "start_time": "2022-07-06T11:21:39.479Z"
   },
   {
    "duration": 17,
    "start_time": "2022-07-06T11:22:48.384Z"
   },
   {
    "duration": 40,
    "start_time": "2022-07-06T11:22:59.260Z"
   },
   {
    "duration": 27,
    "start_time": "2022-07-06T11:23:03.578Z"
   },
   {
    "duration": 43,
    "start_time": "2022-07-06T11:23:08.986Z"
   },
   {
    "duration": 54,
    "start_time": "2022-07-06T11:23:11.059Z"
   },
   {
    "duration": 30,
    "start_time": "2022-07-06T11:23:13.878Z"
   },
   {
    "duration": 12,
    "start_time": "2022-07-06T11:25:38.386Z"
   },
   {
    "duration": 27,
    "start_time": "2022-07-06T11:25:40.750Z"
   },
   {
    "duration": 275,
    "start_time": "2022-07-06T11:27:46.308Z"
   },
   {
    "duration": 30,
    "start_time": "2022-07-06T11:29:16.989Z"
   },
   {
    "duration": 526,
    "start_time": "2022-07-06T11:29:22.076Z"
   },
   {
    "duration": 403,
    "start_time": "2022-07-06T11:30:22.516Z"
   },
   {
    "duration": 21,
    "start_time": "2022-07-06T11:30:26.956Z"
   },
   {
    "duration": 370,
    "start_time": "2022-07-06T11:30:30.263Z"
   },
   {
    "duration": 29,
    "start_time": "2022-07-06T11:30:33.262Z"
   },
   {
    "duration": 370,
    "start_time": "2022-07-06T11:30:35.205Z"
   },
   {
    "duration": 17,
    "start_time": "2022-07-06T11:30:38.069Z"
   },
   {
    "duration": 18,
    "start_time": "2022-07-06T11:30:40.111Z"
   },
   {
    "duration": 21,
    "start_time": "2022-07-06T11:30:43.604Z"
   },
   {
    "duration": 407,
    "start_time": "2022-07-06T11:30:45.458Z"
   },
   {
    "duration": 925,
    "start_time": "2022-07-06T11:32:14.846Z"
   },
   {
    "duration": 145,
    "start_time": "2022-07-06T11:34:02.859Z"
   },
   {
    "duration": 699,
    "start_time": "2022-07-06T11:34:06.217Z"
   },
   {
    "duration": 19,
    "start_time": "2022-07-06T11:36:00.914Z"
   },
   {
    "duration": 360,
    "start_time": "2022-07-06T11:36:30.374Z"
   },
   {
    "duration": 326,
    "start_time": "2022-07-06T11:36:36.776Z"
   },
   {
    "duration": 4,
    "start_time": "2022-07-06T11:37:07.558Z"
   },
   {
    "duration": 404,
    "start_time": "2022-07-06T11:37:18.256Z"
   },
   {
    "duration": 226,
    "start_time": "2022-07-06T11:38:49.060Z"
   },
   {
    "duration": 5,
    "start_time": "2022-07-06T11:38:54.650Z"
   },
   {
    "duration": 282,
    "start_time": "2022-07-06T11:38:56.110Z"
   },
   {
    "duration": 4,
    "start_time": "2022-07-06T11:38:59.958Z"
   },
   {
    "duration": 43,
    "start_time": "2022-07-06T11:39:49.576Z"
   },
   {
    "duration": 51,
    "start_time": "2022-07-06T11:39:51.792Z"
   },
   {
    "duration": 34,
    "start_time": "2022-07-06T11:40:08.322Z"
   },
   {
    "duration": 14,
    "start_time": "2022-07-06T11:42:20.808Z"
   },
   {
    "duration": 23,
    "start_time": "2022-07-06T11:42:24.252Z"
   },
   {
    "duration": 11,
    "start_time": "2022-07-06T11:42:26.608Z"
   },
   {
    "duration": 8,
    "start_time": "2022-07-06T11:42:28.355Z"
   },
   {
    "duration": 15,
    "start_time": "2022-07-06T11:42:33.366Z"
   },
   {
    "duration": 13,
    "start_time": "2022-07-06T11:42:34.754Z"
   },
   {
    "duration": 20,
    "start_time": "2022-07-06T11:42:36.244Z"
   },
   {
    "duration": 14,
    "start_time": "2022-07-06T11:42:38.354Z"
   },
   {
    "duration": 13,
    "start_time": "2022-07-06T11:42:51.387Z"
   },
   {
    "duration": 14,
    "start_time": "2022-07-06T11:42:53.082Z"
   },
   {
    "duration": 13,
    "start_time": "2022-07-06T11:42:54.497Z"
   },
   {
    "duration": 12,
    "start_time": "2022-07-06T11:42:55.557Z"
   },
   {
    "duration": 22,
    "start_time": "2022-07-06T11:42:57.210Z"
   },
   {
    "duration": 13,
    "start_time": "2022-07-06T11:42:58.767Z"
   },
   {
    "duration": 32,
    "start_time": "2022-07-06T11:43:01.911Z"
   },
   {
    "duration": 35,
    "start_time": "2022-07-06T11:43:03.821Z"
   },
   {
    "duration": 25,
    "start_time": "2022-07-06T11:43:05.854Z"
   },
   {
    "duration": 86,
    "start_time": "2022-07-06T11:43:52.273Z"
   },
   {
    "duration": 7,
    "start_time": "2022-07-06T11:44:00.984Z"
   },
   {
    "duration": 8,
    "start_time": "2022-07-06T11:44:02.398Z"
   },
   {
    "duration": 6,
    "start_time": "2022-07-06T11:44:04.000Z"
   },
   {
    "duration": 7,
    "start_time": "2022-07-06T11:44:06.668Z"
   },
   {
    "duration": 13,
    "start_time": "2022-07-06T11:51:14.623Z"
   },
   {
    "duration": 15,
    "start_time": "2022-07-06T11:51:16.953Z"
   },
   {
    "duration": 17,
    "start_time": "2022-07-06T11:51:21.008Z"
   },
   {
    "duration": 14,
    "start_time": "2022-07-06T11:51:22.098Z"
   },
   {
    "duration": 4,
    "start_time": "2022-07-06T21:28:28.178Z"
   },
   {
    "duration": 1284,
    "start_time": "2022-07-06T21:28:35.494Z"
   },
   {
    "duration": 89,
    "start_time": "2022-07-06T21:28:40.052Z"
   },
   {
    "duration": 15,
    "start_time": "2022-07-06T21:28:42.807Z"
   },
   {
    "duration": 24,
    "start_time": "2022-07-06T21:28:47.757Z"
   },
   {
    "duration": 20,
    "start_time": "2022-07-06T21:28:51.823Z"
   },
   {
    "duration": 3,
    "start_time": "2022-07-06T21:28:56.614Z"
   },
   {
    "duration": 24,
    "start_time": "2022-07-06T21:38:28.999Z"
   },
   {
    "duration": 6,
    "start_time": "2022-07-06T21:38:37.120Z"
   },
   {
    "duration": 3,
    "start_time": "2022-07-06T21:39:02.164Z"
   },
   {
    "duration": 111,
    "start_time": "2022-07-06T21:39:58.449Z"
   },
   {
    "duration": 14,
    "start_time": "2022-07-06T21:40:33.378Z"
   },
   {
    "duration": 3,
    "start_time": "2022-07-06T21:40:37.405Z"
   },
   {
    "duration": 73,
    "start_time": "2022-07-06T21:40:37.413Z"
   },
   {
    "duration": 17,
    "start_time": "2022-07-06T21:40:37.489Z"
   },
   {
    "duration": 13,
    "start_time": "2022-07-06T21:40:37.508Z"
   },
   {
    "duration": 42,
    "start_time": "2022-07-06T21:40:37.524Z"
   },
   {
    "duration": 5,
    "start_time": "2022-07-06T21:40:37.568Z"
   },
   {
    "duration": 6,
    "start_time": "2022-07-06T21:40:37.576Z"
   },
   {
    "duration": 19,
    "start_time": "2022-07-06T21:40:37.584Z"
   },
   {
    "duration": 6,
    "start_time": "2022-07-06T21:40:37.605Z"
   },
   {
    "duration": 17,
    "start_time": "2022-07-06T21:40:37.613Z"
   },
   {
    "duration": 17,
    "start_time": "2022-07-06T21:40:37.633Z"
   },
   {
    "duration": 3,
    "start_time": "2022-07-06T21:40:37.651Z"
   },
   {
    "duration": 7,
    "start_time": "2022-07-06T21:40:37.655Z"
   },
   {
    "duration": 4,
    "start_time": "2022-07-06T21:40:37.664Z"
   },
   {
    "duration": 8,
    "start_time": "2022-07-06T21:40:37.701Z"
   },
   {
    "duration": 9,
    "start_time": "2022-07-06T21:40:37.711Z"
   },
   {
    "duration": 6,
    "start_time": "2022-07-06T21:40:37.722Z"
   },
   {
    "duration": 15,
    "start_time": "2022-07-06T21:40:37.729Z"
   },
   {
    "duration": 7,
    "start_time": "2022-07-06T21:40:37.745Z"
   },
   {
    "duration": 48,
    "start_time": "2022-07-06T21:40:37.754Z"
   },
   {
    "duration": 24,
    "start_time": "2022-07-06T21:40:37.803Z"
   },
   {
    "duration": 10,
    "start_time": "2022-07-06T21:40:37.828Z"
   },
   {
    "duration": 3,
    "start_time": "2022-07-06T21:40:37.840Z"
   },
   {
    "duration": 348,
    "start_time": "2022-07-06T21:40:37.845Z"
   },
   {
    "duration": 25,
    "start_time": "2022-07-06T21:40:38.195Z"
   },
   {
    "duration": 8,
    "start_time": "2022-07-06T21:40:38.222Z"
   },
   {
    "duration": 22,
    "start_time": "2022-07-06T21:40:38.232Z"
   },
   {
    "duration": 257,
    "start_time": "2022-07-06T21:40:38.256Z"
   },
   {
    "duration": 19,
    "start_time": "2022-07-06T21:40:38.517Z"
   },
   {
    "duration": 4,
    "start_time": "2022-07-06T21:40:38.538Z"
   },
   {
    "duration": 369,
    "start_time": "2022-07-06T21:40:38.543Z"
   },
   {
    "duration": 10,
    "start_time": "2022-07-06T21:40:38.914Z"
   },
   {
    "duration": 0,
    "start_time": "2022-07-06T21:40:38.925Z"
   },
   {
    "duration": 0,
    "start_time": "2022-07-06T21:40:38.926Z"
   },
   {
    "duration": 0,
    "start_time": "2022-07-06T21:40:38.927Z"
   },
   {
    "duration": 0,
    "start_time": "2022-07-06T21:40:38.928Z"
   },
   {
    "duration": 0,
    "start_time": "2022-07-06T21:40:38.929Z"
   },
   {
    "duration": 0,
    "start_time": "2022-07-06T21:40:38.930Z"
   },
   {
    "duration": 0,
    "start_time": "2022-07-06T21:40:38.931Z"
   },
   {
    "duration": 0,
    "start_time": "2022-07-06T21:40:38.932Z"
   },
   {
    "duration": 0,
    "start_time": "2022-07-06T21:40:38.933Z"
   },
   {
    "duration": 0,
    "start_time": "2022-07-06T21:40:38.933Z"
   },
   {
    "duration": 0,
    "start_time": "2022-07-06T21:40:38.934Z"
   },
   {
    "duration": 0,
    "start_time": "2022-07-06T21:40:38.935Z"
   },
   {
    "duration": 0,
    "start_time": "2022-07-06T21:40:38.936Z"
   },
   {
    "duration": 0,
    "start_time": "2022-07-06T21:40:38.937Z"
   },
   {
    "duration": 0,
    "start_time": "2022-07-06T21:40:38.938Z"
   },
   {
    "duration": 0,
    "start_time": "2022-07-06T21:40:38.939Z"
   },
   {
    "duration": 0,
    "start_time": "2022-07-06T21:40:38.940Z"
   },
   {
    "duration": 0,
    "start_time": "2022-07-06T21:40:38.941Z"
   },
   {
    "duration": 0,
    "start_time": "2022-07-06T21:40:38.942Z"
   },
   {
    "duration": 0,
    "start_time": "2022-07-06T21:40:38.943Z"
   },
   {
    "duration": 0,
    "start_time": "2022-07-06T21:40:38.944Z"
   },
   {
    "duration": 0,
    "start_time": "2022-07-06T21:40:38.945Z"
   },
   {
    "duration": 0,
    "start_time": "2022-07-06T21:40:38.945Z"
   },
   {
    "duration": 0,
    "start_time": "2022-07-06T21:40:38.946Z"
   },
   {
    "duration": 0,
    "start_time": "2022-07-06T21:40:38.947Z"
   },
   {
    "duration": 0,
    "start_time": "2022-07-06T21:40:38.948Z"
   },
   {
    "duration": 0,
    "start_time": "2022-07-06T21:40:38.949Z"
   },
   {
    "duration": 0,
    "start_time": "2022-07-06T21:40:38.950Z"
   },
   {
    "duration": 0,
    "start_time": "2022-07-06T21:40:38.951Z"
   },
   {
    "duration": 0,
    "start_time": "2022-07-06T21:40:38.952Z"
   },
   {
    "duration": 0,
    "start_time": "2022-07-06T21:40:38.953Z"
   },
   {
    "duration": 0,
    "start_time": "2022-07-06T21:40:38.954Z"
   },
   {
    "duration": 0,
    "start_time": "2022-07-06T21:40:39.001Z"
   },
   {
    "duration": 0,
    "start_time": "2022-07-06T21:40:39.002Z"
   },
   {
    "duration": 0,
    "start_time": "2022-07-06T21:40:39.003Z"
   },
   {
    "duration": 0,
    "start_time": "2022-07-06T21:40:39.004Z"
   },
   {
    "duration": 0,
    "start_time": "2022-07-06T21:40:39.005Z"
   },
   {
    "duration": 0,
    "start_time": "2022-07-06T21:40:39.006Z"
   },
   {
    "duration": 0,
    "start_time": "2022-07-06T21:40:39.007Z"
   },
   {
    "duration": 0,
    "start_time": "2022-07-06T21:40:39.008Z"
   },
   {
    "duration": 0,
    "start_time": "2022-07-06T21:40:39.009Z"
   },
   {
    "duration": 0,
    "start_time": "2022-07-06T21:40:39.010Z"
   },
   {
    "duration": 344,
    "start_time": "2022-07-06T21:41:24.354Z"
   },
   {
    "duration": 307,
    "start_time": "2022-07-06T21:41:43.269Z"
   },
   {
    "duration": 15,
    "start_time": "2022-07-06T21:42:10.069Z"
   },
   {
    "duration": 3,
    "start_time": "2022-07-06T21:42:31.410Z"
   },
   {
    "duration": 279,
    "start_time": "2022-07-06T21:42:44.475Z"
   },
   {
    "duration": 14,
    "start_time": "2022-07-06T21:43:16.262Z"
   },
   {
    "duration": 378,
    "start_time": "2022-07-06T21:43:35.457Z"
   },
   {
    "duration": 16,
    "start_time": "2022-07-06T21:43:47.098Z"
   },
   {
    "duration": 2,
    "start_time": "2022-07-06T21:44:25.552Z"
   },
   {
    "duration": 312,
    "start_time": "2022-07-06T21:44:45.564Z"
   },
   {
    "duration": 16,
    "start_time": "2022-07-06T21:44:56.058Z"
   },
   {
    "duration": 4,
    "start_time": "2022-07-06T21:45:50.401Z"
   },
   {
    "duration": 516,
    "start_time": "2022-07-06T21:46:00.294Z"
   },
   {
    "duration": 461,
    "start_time": "2022-07-06T21:46:31.527Z"
   },
   {
    "duration": 9,
    "start_time": "2022-07-06T21:47:10.510Z"
   },
   {
    "duration": 143,
    "start_time": "2022-07-06T21:47:16.743Z"
   },
   {
    "duration": 5,
    "start_time": "2022-07-06T21:47:27.807Z"
   },
   {
    "duration": 158,
    "start_time": "2022-07-06T21:47:38.115Z"
   },
   {
    "duration": 4,
    "start_time": "2022-07-06T21:47:45.836Z"
   },
   {
    "duration": 37,
    "start_time": "2022-07-06T21:48:36.845Z"
   },
   {
    "duration": 32,
    "start_time": "2022-07-06T21:48:38.972Z"
   },
   {
    "duration": 19,
    "start_time": "2022-07-06T21:49:54.844Z"
   },
   {
    "duration": 6,
    "start_time": "2022-07-06T21:50:12.248Z"
   },
   {
    "duration": 12,
    "start_time": "2022-07-06T21:50:30.658Z"
   },
   {
    "duration": 15,
    "start_time": "2022-07-06T21:51:02.621Z"
   },
   {
    "duration": 13,
    "start_time": "2022-07-06T21:58:43.907Z"
   },
   {
    "duration": 11,
    "start_time": "2022-07-06T21:59:56.234Z"
   },
   {
    "duration": 12,
    "start_time": "2022-07-06T22:00:31.244Z"
   },
   {
    "duration": 11,
    "start_time": "2022-07-06T22:03:12.572Z"
   },
   {
    "duration": 48,
    "start_time": "2022-07-07T05:34:28.599Z"
   },
   {
    "duration": 1276,
    "start_time": "2022-07-07T05:34:33.380Z"
   },
   {
    "duration": 102,
    "start_time": "2022-07-07T05:34:34.657Z"
   },
   {
    "duration": 18,
    "start_time": "2022-07-07T05:34:34.761Z"
   },
   {
    "duration": 2,
    "start_time": "2022-07-07T05:34:34.781Z"
   },
   {
    "duration": 28,
    "start_time": "2022-07-07T05:34:34.784Z"
   },
   {
    "duration": 2,
    "start_time": "2022-07-07T05:34:34.814Z"
   },
   {
    "duration": 8,
    "start_time": "2022-07-07T05:34:34.818Z"
   },
   {
    "duration": 33,
    "start_time": "2022-07-07T05:34:34.827Z"
   },
   {
    "duration": 6,
    "start_time": "2022-07-07T05:34:34.863Z"
   },
   {
    "duration": 15,
    "start_time": "2022-07-07T05:34:34.872Z"
   },
   {
    "duration": 18,
    "start_time": "2022-07-07T05:34:34.889Z"
   },
   {
    "duration": 2,
    "start_time": "2022-07-07T05:34:34.909Z"
   },
   {
    "duration": 7,
    "start_time": "2022-07-07T05:34:34.913Z"
   },
   {
    "duration": 6,
    "start_time": "2022-07-07T05:34:34.921Z"
   },
   {
    "duration": 34,
    "start_time": "2022-07-07T05:34:34.929Z"
   },
   {
    "duration": 6,
    "start_time": "2022-07-07T05:34:34.965Z"
   },
   {
    "duration": 6,
    "start_time": "2022-07-07T05:34:34.973Z"
   },
   {
    "duration": 16,
    "start_time": "2022-07-07T05:34:34.981Z"
   },
   {
    "duration": 7,
    "start_time": "2022-07-07T05:34:34.998Z"
   },
   {
    "duration": 17,
    "start_time": "2022-07-07T05:34:35.007Z"
   },
   {
    "duration": 53,
    "start_time": "2022-07-07T05:34:35.027Z"
   },
   {
    "duration": 9,
    "start_time": "2022-07-07T05:34:35.082Z"
   },
   {
    "duration": 13,
    "start_time": "2022-07-07T05:34:35.092Z"
   },
   {
    "duration": 362,
    "start_time": "2022-07-07T05:34:35.106Z"
   },
   {
    "duration": 30,
    "start_time": "2022-07-07T05:34:35.469Z"
   },
   {
    "duration": 10,
    "start_time": "2022-07-07T05:34:35.501Z"
   },
   {
    "duration": 29,
    "start_time": "2022-07-07T05:34:35.513Z"
   },
   {
    "duration": 233,
    "start_time": "2022-07-07T05:34:35.564Z"
   },
   {
    "duration": 24,
    "start_time": "2022-07-07T05:34:35.799Z"
   },
   {
    "duration": 8,
    "start_time": "2022-07-07T05:34:35.824Z"
   },
   {
    "duration": 391,
    "start_time": "2022-07-07T05:34:35.833Z"
   },
   {
    "duration": 373,
    "start_time": "2022-07-07T05:34:36.226Z"
   },
   {
    "duration": 14,
    "start_time": "2022-07-07T05:34:36.601Z"
   },
   {
    "duration": 304,
    "start_time": "2022-07-07T05:34:36.616Z"
   },
   {
    "duration": 14,
    "start_time": "2022-07-07T05:34:36.921Z"
   },
   {
    "duration": 283,
    "start_time": "2022-07-07T05:34:36.936Z"
   },
   {
    "duration": 14,
    "start_time": "2022-07-07T05:34:37.221Z"
   },
   {
    "duration": 2,
    "start_time": "2022-07-07T05:34:37.237Z"
   },
   {
    "duration": 415,
    "start_time": "2022-07-07T05:34:37.241Z"
   },
   {
    "duration": 13,
    "start_time": "2022-07-07T05:34:37.660Z"
   },
   {
    "duration": 4,
    "start_time": "2022-07-07T05:34:37.675Z"
   },
   {
    "duration": 489,
    "start_time": "2022-07-07T05:34:37.680Z"
   },
   {
    "duration": 457,
    "start_time": "2022-07-07T05:34:38.170Z"
   },
   {
    "duration": 161,
    "start_time": "2022-07-07T05:34:38.629Z"
   },
   {
    "duration": 5,
    "start_time": "2022-07-07T05:34:38.791Z"
   },
   {
    "duration": 157,
    "start_time": "2022-07-07T05:34:38.797Z"
   },
   {
    "duration": 7,
    "start_time": "2022-07-07T05:34:38.955Z"
   },
   {
    "duration": 7,
    "start_time": "2022-07-07T05:34:38.963Z"
   },
   {
    "duration": 5,
    "start_time": "2022-07-07T05:34:38.972Z"
   },
   {
    "duration": 38,
    "start_time": "2022-07-07T05:34:38.979Z"
   },
   {
    "duration": 56,
    "start_time": "2022-07-07T05:34:39.018Z"
   },
   {
    "duration": 14,
    "start_time": "2022-07-07T05:34:39.076Z"
   },
   {
    "duration": 5,
    "start_time": "2022-07-07T05:34:39.091Z"
   },
   {
    "duration": 11,
    "start_time": "2022-07-07T05:34:39.098Z"
   },
   {
    "duration": 13,
    "start_time": "2022-07-07T05:34:39.111Z"
   },
   {
    "duration": 38,
    "start_time": "2022-07-07T05:34:39.126Z"
   },
   {
    "duration": 30,
    "start_time": "2022-07-07T05:34:39.165Z"
   },
   {
    "duration": 75,
    "start_time": "2022-07-07T05:34:39.197Z"
   },
   {
    "duration": 0,
    "start_time": "2022-07-07T05:34:39.274Z"
   },
   {
    "duration": 0,
    "start_time": "2022-07-07T05:34:39.275Z"
   },
   {
    "duration": 0,
    "start_time": "2022-07-07T05:34:39.276Z"
   },
   {
    "duration": 0,
    "start_time": "2022-07-07T05:34:39.277Z"
   },
   {
    "duration": 0,
    "start_time": "2022-07-07T05:34:39.278Z"
   },
   {
    "duration": 0,
    "start_time": "2022-07-07T05:34:39.280Z"
   },
   {
    "duration": 0,
    "start_time": "2022-07-07T05:34:39.281Z"
   },
   {
    "duration": 0,
    "start_time": "2022-07-07T05:34:39.282Z"
   },
   {
    "duration": 0,
    "start_time": "2022-07-07T05:34:39.283Z"
   },
   {
    "duration": 0,
    "start_time": "2022-07-07T05:34:39.284Z"
   },
   {
    "duration": 0,
    "start_time": "2022-07-07T05:34:39.285Z"
   },
   {
    "duration": 0,
    "start_time": "2022-07-07T05:34:39.286Z"
   },
   {
    "duration": 0,
    "start_time": "2022-07-07T05:34:39.288Z"
   },
   {
    "duration": 0,
    "start_time": "2022-07-07T05:34:39.289Z"
   },
   {
    "duration": 0,
    "start_time": "2022-07-07T05:34:39.290Z"
   },
   {
    "duration": 1,
    "start_time": "2022-07-07T05:34:39.291Z"
   },
   {
    "duration": 0,
    "start_time": "2022-07-07T05:34:39.293Z"
   },
   {
    "duration": 0,
    "start_time": "2022-07-07T05:34:39.295Z"
   },
   {
    "duration": 13,
    "start_time": "2022-07-07T05:35:44.448Z"
   },
   {
    "duration": 15,
    "start_time": "2022-07-07T05:35:59.177Z"
   },
   {
    "duration": 14,
    "start_time": "2022-07-07T05:36:04.701Z"
   },
   {
    "duration": 58,
    "start_time": "2022-07-07T19:49:40.752Z"
   },
   {
    "duration": 1275,
    "start_time": "2022-07-07T19:49:47.926Z"
   },
   {
    "duration": 96,
    "start_time": "2022-07-07T19:49:49.203Z"
   },
   {
    "duration": 14,
    "start_time": "2022-07-07T19:49:49.301Z"
   },
   {
    "duration": 4,
    "start_time": "2022-07-07T19:49:49.316Z"
   },
   {
    "duration": 24,
    "start_time": "2022-07-07T19:49:49.322Z"
   },
   {
    "duration": 2,
    "start_time": "2022-07-07T19:49:49.348Z"
   },
   {
    "duration": 9,
    "start_time": "2022-07-07T19:49:49.351Z"
   },
   {
    "duration": 15,
    "start_time": "2022-07-07T19:49:49.362Z"
   },
   {
    "duration": 6,
    "start_time": "2022-07-07T19:49:49.379Z"
   },
   {
    "duration": 19,
    "start_time": "2022-07-07T19:49:49.386Z"
   },
   {
    "duration": 32,
    "start_time": "2022-07-07T19:49:49.407Z"
   },
   {
    "duration": 3,
    "start_time": "2022-07-07T19:49:49.441Z"
   },
   {
    "duration": 8,
    "start_time": "2022-07-07T19:49:49.445Z"
   },
   {
    "duration": 3,
    "start_time": "2022-07-07T19:49:49.455Z"
   },
   {
    "duration": 8,
    "start_time": "2022-07-07T19:49:49.460Z"
   },
   {
    "duration": 9,
    "start_time": "2022-07-07T19:49:49.470Z"
   },
   {
    "duration": 6,
    "start_time": "2022-07-07T19:49:49.480Z"
   },
   {
    "duration": 36,
    "start_time": "2022-07-07T19:49:49.488Z"
   },
   {
    "duration": 8,
    "start_time": "2022-07-07T19:49:49.525Z"
   },
   {
    "duration": 28,
    "start_time": "2022-07-07T19:49:49.534Z"
   },
   {
    "duration": 24,
    "start_time": "2022-07-07T19:49:49.564Z"
   },
   {
    "duration": 8,
    "start_time": "2022-07-07T19:49:49.589Z"
   },
   {
    "duration": 8,
    "start_time": "2022-07-07T19:49:49.599Z"
   },
   {
    "duration": 293,
    "start_time": "2022-07-07T19:49:49.609Z"
   },
   {
    "duration": 33,
    "start_time": "2022-07-07T19:49:49.903Z"
   },
   {
    "duration": 8,
    "start_time": "2022-07-07T19:49:49.937Z"
   },
   {
    "duration": 22,
    "start_time": "2022-07-07T19:49:49.947Z"
   },
   {
    "duration": 240,
    "start_time": "2022-07-07T19:49:49.971Z"
   },
   {
    "duration": 30,
    "start_time": "2022-07-07T19:49:50.212Z"
   },
   {
    "duration": 5,
    "start_time": "2022-07-07T19:49:50.244Z"
   },
   {
    "duration": 386,
    "start_time": "2022-07-07T19:49:50.251Z"
   },
   {
    "duration": 304,
    "start_time": "2022-07-07T19:49:50.638Z"
   },
   {
    "duration": 14,
    "start_time": "2022-07-07T19:49:50.944Z"
   },
   {
    "duration": 300,
    "start_time": "2022-07-07T19:49:50.960Z"
   },
   {
    "duration": 15,
    "start_time": "2022-07-07T19:49:51.262Z"
   },
   {
    "duration": 302,
    "start_time": "2022-07-07T19:49:51.278Z"
   },
   {
    "duration": 15,
    "start_time": "2022-07-07T19:49:51.582Z"
   },
   {
    "duration": 12,
    "start_time": "2022-07-07T19:49:51.598Z"
   },
   {
    "duration": 390,
    "start_time": "2022-07-07T19:49:51.611Z"
   },
   {
    "duration": 30,
    "start_time": "2022-07-07T19:49:52.003Z"
   },
   {
    "duration": 5,
    "start_time": "2022-07-07T19:49:52.040Z"
   },
   {
    "duration": 504,
    "start_time": "2022-07-07T19:49:52.046Z"
   },
   {
    "duration": 492,
    "start_time": "2022-07-07T19:49:52.552Z"
   },
   {
    "duration": 159,
    "start_time": "2022-07-07T19:49:53.045Z"
   },
   {
    "duration": 5,
    "start_time": "2022-07-07T19:49:53.205Z"
   },
   {
    "duration": 155,
    "start_time": "2022-07-07T19:49:53.211Z"
   },
   {
    "duration": 4,
    "start_time": "2022-07-07T19:49:53.368Z"
   },
   {
    "duration": 9,
    "start_time": "2022-07-07T19:49:53.374Z"
   },
   {
    "duration": 6,
    "start_time": "2022-07-07T19:49:53.384Z"
   },
   {
    "duration": 47,
    "start_time": "2022-07-07T19:49:53.391Z"
   },
   {
    "duration": 33,
    "start_time": "2022-07-07T19:49:53.439Z"
   },
   {
    "duration": 17,
    "start_time": "2022-07-07T19:49:53.473Z"
   },
   {
    "duration": 5,
    "start_time": "2022-07-07T19:49:53.491Z"
   },
   {
    "duration": 26,
    "start_time": "2022-07-07T19:49:53.524Z"
   },
   {
    "duration": 28,
    "start_time": "2022-07-07T19:49:53.552Z"
   },
   {
    "duration": 11,
    "start_time": "2022-07-07T19:49:53.582Z"
   },
   {
    "duration": 13,
    "start_time": "2022-07-07T19:49:53.595Z"
   },
   {
    "duration": 20,
    "start_time": "2022-07-07T19:49:53.610Z"
   },
   {
    "duration": 13,
    "start_time": "2022-07-07T19:49:53.631Z"
   },
   {
    "duration": 19,
    "start_time": "2022-07-07T19:49:53.645Z"
   },
   {
    "duration": 12,
    "start_time": "2022-07-07T19:49:53.666Z"
   },
   {
    "duration": 80,
    "start_time": "2022-07-07T19:49:53.679Z"
   },
   {
    "duration": 0,
    "start_time": "2022-07-07T19:49:53.761Z"
   },
   {
    "duration": 0,
    "start_time": "2022-07-07T19:49:53.762Z"
   },
   {
    "duration": 0,
    "start_time": "2022-07-07T19:49:53.763Z"
   },
   {
    "duration": 0,
    "start_time": "2022-07-07T19:49:53.764Z"
   },
   {
    "duration": 0,
    "start_time": "2022-07-07T19:49:53.765Z"
   },
   {
    "duration": 0,
    "start_time": "2022-07-07T19:49:53.766Z"
   },
   {
    "duration": 0,
    "start_time": "2022-07-07T19:49:53.767Z"
   },
   {
    "duration": 0,
    "start_time": "2022-07-07T19:49:53.768Z"
   },
   {
    "duration": 0,
    "start_time": "2022-07-07T19:49:53.769Z"
   },
   {
    "duration": 0,
    "start_time": "2022-07-07T19:49:53.771Z"
   },
   {
    "duration": 0,
    "start_time": "2022-07-07T19:49:53.772Z"
   },
   {
    "duration": 0,
    "start_time": "2022-07-07T19:49:53.773Z"
   },
   {
    "duration": 0,
    "start_time": "2022-07-07T19:49:53.774Z"
   },
   {
    "duration": 0,
    "start_time": "2022-07-07T19:49:53.774Z"
   },
   {
    "duration": 13,
    "start_time": "2022-07-07T19:50:40.946Z"
   },
   {
    "duration": 12,
    "start_time": "2022-07-07T19:50:51.914Z"
   },
   {
    "duration": 12,
    "start_time": "2022-07-07T19:52:27.290Z"
   },
   {
    "duration": 15,
    "start_time": "2022-07-07T19:56:21.738Z"
   },
   {
    "duration": 18,
    "start_time": "2022-07-07T19:56:49.858Z"
   },
   {
    "duration": 15,
    "start_time": "2022-07-07T19:57:11.205Z"
   },
   {
    "duration": 10,
    "start_time": "2022-07-07T20:01:24.485Z"
   },
   {
    "duration": 11,
    "start_time": "2022-07-07T20:01:36.437Z"
   },
   {
    "duration": 9,
    "start_time": "2022-07-07T20:01:41.935Z"
   },
   {
    "duration": 14,
    "start_time": "2022-07-07T20:01:48.487Z"
   },
   {
    "duration": 31,
    "start_time": "2022-07-07T20:01:53.298Z"
   },
   {
    "duration": 59,
    "start_time": "2022-07-07T20:02:51.035Z"
   },
   {
    "duration": 28,
    "start_time": "2022-07-07T20:03:23.636Z"
   },
   {
    "duration": 13,
    "start_time": "2022-07-07T20:03:56.491Z"
   },
   {
    "duration": 13,
    "start_time": "2022-07-07T20:04:23.018Z"
   },
   {
    "duration": 615,
    "start_time": "2022-07-07T20:04:43.940Z"
   },
   {
    "duration": 197,
    "start_time": "2022-07-07T20:05:05.738Z"
   },
   {
    "duration": 191,
    "start_time": "2022-07-07T20:05:19.787Z"
   },
   {
    "duration": 3,
    "start_time": "2022-07-07T20:05:24.052Z"
   },
   {
    "duration": 58,
    "start_time": "2022-07-07T20:05:24.082Z"
   },
   {
    "duration": 14,
    "start_time": "2022-07-07T20:05:24.141Z"
   },
   {
    "duration": 7,
    "start_time": "2022-07-07T20:05:24.156Z"
   },
   {
    "duration": 21,
    "start_time": "2022-07-07T20:05:24.164Z"
   },
   {
    "duration": 10,
    "start_time": "2022-07-07T20:05:24.186Z"
   },
   {
    "duration": 4,
    "start_time": "2022-07-07T20:05:24.469Z"
   },
   {
    "duration": 16,
    "start_time": "2022-07-07T20:05:24.474Z"
   },
   {
    "duration": 13,
    "start_time": "2022-07-07T20:05:24.492Z"
   },
   {
    "duration": 17,
    "start_time": "2022-07-07T20:05:24.507Z"
   },
   {
    "duration": 21,
    "start_time": "2022-07-07T20:05:24.526Z"
   },
   {
    "duration": 3,
    "start_time": "2022-07-07T20:05:24.549Z"
   },
   {
    "duration": 16,
    "start_time": "2022-07-07T20:05:24.553Z"
   },
   {
    "duration": 9,
    "start_time": "2022-07-07T20:05:24.571Z"
   },
   {
    "duration": 15,
    "start_time": "2022-07-07T20:05:24.582Z"
   },
   {
    "duration": 20,
    "start_time": "2022-07-07T20:05:24.599Z"
   },
   {
    "duration": 15,
    "start_time": "2022-07-07T20:05:24.620Z"
   },
   {
    "duration": 17,
    "start_time": "2022-07-07T20:05:24.637Z"
   },
   {
    "duration": 7,
    "start_time": "2022-07-07T20:05:24.655Z"
   },
   {
    "duration": 23,
    "start_time": "2022-07-07T20:05:24.665Z"
   },
   {
    "duration": 21,
    "start_time": "2022-07-07T20:05:24.690Z"
   },
   {
    "duration": 9,
    "start_time": "2022-07-07T20:05:24.724Z"
   },
   {
    "duration": 4,
    "start_time": "2022-07-07T20:05:24.734Z"
   },
   {
    "duration": 305,
    "start_time": "2022-07-07T20:05:24.740Z"
   },
   {
    "duration": 26,
    "start_time": "2022-07-07T20:05:25.046Z"
   },
   {
    "duration": 7,
    "start_time": "2022-07-07T20:05:25.074Z"
   },
   {
    "duration": 42,
    "start_time": "2022-07-07T20:05:25.083Z"
   },
   {
    "duration": 225,
    "start_time": "2022-07-07T20:05:25.126Z"
   },
   {
    "duration": 21,
    "start_time": "2022-07-07T20:05:25.353Z"
   },
   {
    "duration": 5,
    "start_time": "2022-07-07T20:05:25.375Z"
   },
   {
    "duration": 342,
    "start_time": "2022-07-07T20:05:25.382Z"
   },
   {
    "duration": 407,
    "start_time": "2022-07-07T20:05:25.725Z"
   },
   {
    "duration": 16,
    "start_time": "2022-07-07T20:05:26.133Z"
   },
   {
    "duration": 320,
    "start_time": "2022-07-07T20:05:26.150Z"
   },
   {
    "duration": 15,
    "start_time": "2022-07-07T20:05:26.472Z"
   },
   {
    "duration": 293,
    "start_time": "2022-07-07T20:05:26.488Z"
   },
   {
    "duration": 14,
    "start_time": "2022-07-07T20:05:26.783Z"
   },
   {
    "duration": 8,
    "start_time": "2022-07-07T20:05:26.798Z"
   },
   {
    "duration": 325,
    "start_time": "2022-07-07T20:05:26.808Z"
   },
   {
    "duration": 14,
    "start_time": "2022-07-07T20:05:27.134Z"
   },
   {
    "duration": 8,
    "start_time": "2022-07-07T20:05:27.150Z"
   },
   {
    "duration": 495,
    "start_time": "2022-07-07T20:05:27.160Z"
   },
   {
    "duration": 448,
    "start_time": "2022-07-07T20:05:27.657Z"
   },
   {
    "duration": 145,
    "start_time": "2022-07-07T20:05:28.106Z"
   },
   {
    "duration": 4,
    "start_time": "2022-07-07T20:05:28.252Z"
   },
   {
    "duration": 166,
    "start_time": "2022-07-07T20:05:28.258Z"
   },
   {
    "duration": 5,
    "start_time": "2022-07-07T20:05:28.427Z"
   },
   {
    "duration": 6,
    "start_time": "2022-07-07T20:05:28.433Z"
   },
   {
    "duration": 5,
    "start_time": "2022-07-07T20:05:28.441Z"
   },
   {
    "duration": 35,
    "start_time": "2022-07-07T20:05:28.449Z"
   },
   {
    "duration": 52,
    "start_time": "2022-07-07T20:05:28.486Z"
   },
   {
    "duration": 17,
    "start_time": "2022-07-07T20:05:28.539Z"
   },
   {
    "duration": 5,
    "start_time": "2022-07-07T20:05:28.557Z"
   },
   {
    "duration": 12,
    "start_time": "2022-07-07T20:05:28.564Z"
   },
   {
    "duration": 14,
    "start_time": "2022-07-07T20:05:28.577Z"
   },
   {
    "duration": 33,
    "start_time": "2022-07-07T20:05:28.593Z"
   },
   {
    "duration": 15,
    "start_time": "2022-07-07T20:05:28.627Z"
   },
   {
    "duration": 15,
    "start_time": "2022-07-07T20:05:28.643Z"
   },
   {
    "duration": 15,
    "start_time": "2022-07-07T20:05:28.659Z"
   },
   {
    "duration": 19,
    "start_time": "2022-07-07T20:05:28.675Z"
   },
   {
    "duration": 30,
    "start_time": "2022-07-07T20:05:28.695Z"
   },
   {
    "duration": 12,
    "start_time": "2022-07-07T20:05:28.726Z"
   },
   {
    "duration": 10,
    "start_time": "2022-07-07T20:05:28.739Z"
   },
   {
    "duration": 10,
    "start_time": "2022-07-07T20:05:28.751Z"
   },
   {
    "duration": 13,
    "start_time": "2022-07-07T20:05:28.763Z"
   },
   {
    "duration": 12,
    "start_time": "2022-07-07T20:05:28.777Z"
   },
   {
    "duration": 44,
    "start_time": "2022-07-07T20:05:28.791Z"
   },
   {
    "duration": 48,
    "start_time": "2022-07-07T20:05:28.837Z"
   },
   {
    "duration": 2,
    "start_time": "2022-07-07T20:05:28.886Z"
   },
   {
    "duration": 36,
    "start_time": "2022-07-07T20:05:28.889Z"
   },
   {
    "duration": 0,
    "start_time": "2022-07-07T20:05:28.926Z"
   },
   {
    "duration": 0,
    "start_time": "2022-07-07T20:05:28.927Z"
   },
   {
    "duration": 0,
    "start_time": "2022-07-07T20:05:28.928Z"
   },
   {
    "duration": 0,
    "start_time": "2022-07-07T20:05:28.929Z"
   },
   {
    "duration": 0,
    "start_time": "2022-07-07T20:05:28.930Z"
   },
   {
    "duration": 0,
    "start_time": "2022-07-07T20:05:28.931Z"
   },
   {
    "duration": 12,
    "start_time": "2022-07-07T20:06:23.438Z"
   },
   {
    "duration": 4,
    "start_time": "2022-07-07T20:06:31.387Z"
   },
   {
    "duration": 11,
    "start_time": "2022-07-07T20:06:41.366Z"
   },
   {
    "duration": 7,
    "start_time": "2022-07-07T20:06:53.698Z"
   },
   {
    "duration": 9,
    "start_time": "2022-07-07T20:07:30.439Z"
   },
   {
    "duration": 6,
    "start_time": "2022-07-07T20:08:17.638Z"
   },
   {
    "duration": 3,
    "start_time": "2022-07-07T20:08:23.009Z"
   },
   {
    "duration": 60,
    "start_time": "2022-07-07T20:08:23.036Z"
   },
   {
    "duration": 16,
    "start_time": "2022-07-07T20:08:23.098Z"
   },
   {
    "duration": 5,
    "start_time": "2022-07-07T20:08:23.116Z"
   },
   {
    "duration": 22,
    "start_time": "2022-07-07T20:08:23.122Z"
   },
   {
    "duration": 6,
    "start_time": "2022-07-07T20:08:23.146Z"
   },
   {
    "duration": 5,
    "start_time": "2022-07-07T20:08:23.154Z"
   },
   {
    "duration": 16,
    "start_time": "2022-07-07T20:08:23.161Z"
   },
   {
    "duration": 7,
    "start_time": "2022-07-07T20:08:23.178Z"
   },
   {
    "duration": 39,
    "start_time": "2022-07-07T20:08:23.186Z"
   },
   {
    "duration": 20,
    "start_time": "2022-07-07T20:08:23.226Z"
   },
   {
    "duration": 3,
    "start_time": "2022-07-07T20:08:23.247Z"
   },
   {
    "duration": 8,
    "start_time": "2022-07-07T20:08:23.251Z"
   },
   {
    "duration": 3,
    "start_time": "2022-07-07T20:08:23.261Z"
   },
   {
    "duration": 8,
    "start_time": "2022-07-07T20:08:23.267Z"
   },
   {
    "duration": 6,
    "start_time": "2022-07-07T20:08:23.276Z"
   },
   {
    "duration": 7,
    "start_time": "2022-07-07T20:08:23.283Z"
   },
   {
    "duration": 44,
    "start_time": "2022-07-07T20:08:23.291Z"
   },
   {
    "duration": 7,
    "start_time": "2022-07-07T20:08:23.337Z"
   },
   {
    "duration": 17,
    "start_time": "2022-07-07T20:08:23.346Z"
   },
   {
    "duration": 30,
    "start_time": "2022-07-07T20:08:23.365Z"
   },
   {
    "duration": 9,
    "start_time": "2022-07-07T20:08:23.424Z"
   },
   {
    "duration": 2,
    "start_time": "2022-07-07T20:08:23.435Z"
   },
   {
    "duration": 371,
    "start_time": "2022-07-07T20:08:23.439Z"
   },
   {
    "duration": 36,
    "start_time": "2022-07-07T20:08:23.813Z"
   },
   {
    "duration": 13,
    "start_time": "2022-07-07T20:08:23.851Z"
   },
   {
    "duration": 33,
    "start_time": "2022-07-07T20:08:23.866Z"
   },
   {
    "duration": 259,
    "start_time": "2022-07-07T20:08:23.901Z"
   },
   {
    "duration": 26,
    "start_time": "2022-07-07T20:08:24.162Z"
   },
   {
    "duration": 6,
    "start_time": "2022-07-07T20:08:24.190Z"
   },
   {
    "duration": 366,
    "start_time": "2022-07-07T20:08:24.197Z"
   },
   {
    "duration": 343,
    "start_time": "2022-07-07T20:08:24.566Z"
   },
   {
    "duration": 30,
    "start_time": "2022-07-07T20:08:24.911Z"
   },
   {
    "duration": 296,
    "start_time": "2022-07-07T20:08:24.943Z"
   },
   {
    "duration": 14,
    "start_time": "2022-07-07T20:08:25.240Z"
   },
   {
    "duration": 293,
    "start_time": "2022-07-07T20:08:25.256Z"
   },
   {
    "duration": 14,
    "start_time": "2022-07-07T20:08:25.551Z"
   },
   {
    "duration": 16,
    "start_time": "2022-07-07T20:08:25.566Z"
   },
   {
    "duration": 324,
    "start_time": "2022-07-07T20:08:25.584Z"
   },
   {
    "duration": 22,
    "start_time": "2022-07-07T20:08:25.910Z"
   },
   {
    "duration": 11,
    "start_time": "2022-07-07T20:08:25.933Z"
   },
   {
    "duration": 461,
    "start_time": "2022-07-07T20:08:25.949Z"
   },
   {
    "duration": 482,
    "start_time": "2022-07-07T20:08:26.412Z"
   },
   {
    "duration": 295,
    "start_time": "2022-07-07T20:08:26.896Z"
   },
   {
    "duration": 5,
    "start_time": "2022-07-07T20:08:27.193Z"
   },
   {
    "duration": 234,
    "start_time": "2022-07-07T20:08:27.200Z"
   },
   {
    "duration": 6,
    "start_time": "2022-07-07T20:08:27.436Z"
   },
   {
    "duration": 23,
    "start_time": "2022-07-07T20:08:27.444Z"
   },
   {
    "duration": 4,
    "start_time": "2022-07-07T20:08:27.469Z"
   },
   {
    "duration": 33,
    "start_time": "2022-07-07T20:08:27.475Z"
   },
   {
    "duration": 45,
    "start_time": "2022-07-07T20:08:27.510Z"
   },
   {
    "duration": 16,
    "start_time": "2022-07-07T20:08:27.557Z"
   },
   {
    "duration": 4,
    "start_time": "2022-07-07T20:08:27.575Z"
   },
   {
    "duration": 11,
    "start_time": "2022-07-07T20:08:27.581Z"
   },
   {
    "duration": 43,
    "start_time": "2022-07-07T20:08:27.594Z"
   },
   {
    "duration": 11,
    "start_time": "2022-07-07T20:08:27.639Z"
   },
   {
    "duration": 16,
    "start_time": "2022-07-07T20:08:27.652Z"
   },
   {
    "duration": 13,
    "start_time": "2022-07-07T20:08:27.669Z"
   },
   {
    "duration": 44,
    "start_time": "2022-07-07T20:08:27.684Z"
   },
   {
    "duration": 16,
    "start_time": "2022-07-07T20:08:27.730Z"
   },
   {
    "duration": 10,
    "start_time": "2022-07-07T20:08:27.748Z"
   },
   {
    "duration": 12,
    "start_time": "2022-07-07T20:08:27.760Z"
   },
   {
    "duration": 13,
    "start_time": "2022-07-07T20:08:27.774Z"
   },
   {
    "duration": 43,
    "start_time": "2022-07-07T20:08:27.789Z"
   },
   {
    "duration": 14,
    "start_time": "2022-07-07T20:08:27.833Z"
   },
   {
    "duration": 13,
    "start_time": "2022-07-07T20:08:27.849Z"
   },
   {
    "duration": 13,
    "start_time": "2022-07-07T20:08:27.863Z"
   },
   {
    "duration": 83,
    "start_time": "2022-07-07T20:08:27.878Z"
   },
   {
    "duration": 5,
    "start_time": "2022-07-07T20:08:27.962Z"
   },
   {
    "duration": 8,
    "start_time": "2022-07-07T20:08:27.968Z"
   },
   {
    "duration": 11,
    "start_time": "2022-07-07T20:08:27.978Z"
   },
   {
    "duration": 0,
    "start_time": "2022-07-07T20:08:27.990Z"
   },
   {
    "duration": 0,
    "start_time": "2022-07-07T20:08:27.991Z"
   },
   {
    "duration": 0,
    "start_time": "2022-07-07T20:08:28.023Z"
   },
   {
    "duration": 0,
    "start_time": "2022-07-07T20:08:28.025Z"
   },
   {
    "duration": 0,
    "start_time": "2022-07-07T20:08:28.026Z"
   },
   {
    "duration": 31,
    "start_time": "2022-07-07T20:08:41.587Z"
   },
   {
    "duration": 8,
    "start_time": "2022-07-07T20:09:16.869Z"
   },
   {
    "duration": 7,
    "start_time": "2022-07-07T20:09:24.481Z"
   },
   {
    "duration": 9,
    "start_time": "2022-07-07T20:09:31.957Z"
   },
   {
    "duration": 6,
    "start_time": "2022-07-07T20:09:36.817Z"
   },
   {
    "duration": 9,
    "start_time": "2022-07-07T20:26:58.482Z"
   },
   {
    "duration": 13,
    "start_time": "2022-07-07T20:27:20.381Z"
   },
   {
    "duration": 10,
    "start_time": "2022-07-07T20:27:31.860Z"
   },
   {
    "duration": 17,
    "start_time": "2022-07-07T20:32:09.840Z"
   },
   {
    "duration": 12,
    "start_time": "2022-07-07T20:32:28.233Z"
   },
   {
    "duration": 11,
    "start_time": "2022-07-07T20:33:15.652Z"
   },
   {
    "duration": 12,
    "start_time": "2022-07-07T20:38:31.592Z"
   }
  ],
  "kernelspec": {
   "display_name": "Python 3 (ipykernel)",
   "language": "python",
   "name": "python3"
  },
  "language_info": {
   "codemirror_mode": {
    "name": "ipython",
    "version": 3
   },
   "file_extension": ".py",
   "mimetype": "text/x-python",
   "name": "python",
   "nbconvert_exporter": "python",
   "pygments_lexer": "ipython3",
   "version": "3.9.7"
  },
  "toc": {
   "base_numbering": 1,
   "nav_menu": {},
   "number_sections": true,
   "sideBar": true,
   "skip_h1_title": true,
   "title_cell": "Table of Contents",
   "title_sidebar": "Contents",
   "toc_cell": false,
   "toc_position": {},
   "toc_section_display": true,
   "toc_window_display": true
  }
 },
 "nbformat": 4,
 "nbformat_minor": 5
}
