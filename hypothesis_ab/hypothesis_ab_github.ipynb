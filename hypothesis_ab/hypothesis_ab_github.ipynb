{
 "cells": [
  {
   "cell_type": "markdown",
   "metadata": {},
   "source": [
    "# Исследование гипотез"
   ]
  },
  {
   "cell_type": "markdown",
   "metadata": {},
   "source": [
    "В онлайн-магазине отделы маркетинга и аналитики подготовили список гипотез для увеличения выручки магазина. \n",
    "\n",
    "**Цель:**\n",
    "\n",
    "- Приоритезация гипотез;\n",
    "- Анализ результатов A/B-теста;\n",
    "\n",
    "**Задачи:**\n",
    "\n",
    "- Загрузка данных и подготовка их к анализу;\n",
    "- Приоритезация гипотез по фреймворкам ICE и RICE, изучение различий в рейтингах гипотез;\n",
    "- Анализ результатов A/B-теста через построение линейных графиков, точечных графиков, расчета 95-й и 99-й перцентилей, статистических различий метрик по группам с \"сырыми\" и \"очищенными\" от выбросов данными с помощью метода Уилкоксона-Манна-Уитни.\n",
    "- Выводы о наличии/отсутствии различия между метриками групп А и B, вывод о необходимости окончания или продолжения теста;"
   ]
  },
  {
   "cell_type": "markdown",
   "metadata": {},
   "source": [
    "**Описание данных:**\n",
    "\n",
    "Файл /datasets/hypothesis.csv:\n",
    "\n",
    "    Hypothesis — краткое описание гипотезы;\n",
    "    Reach — охват пользователей по 10-балльной шкале;\n",
    "    Impact — влияние на пользователей по 10-балльной шкале;\n",
    "    Confidence — уверенность в гипотезе по 10-балльной шкале;\n",
    "    Efforts — затраты ресурсов на проверку гипотезы по 10-балльной шкале. Чем больше значение Efforts, тем дороже проверка гипотезы.\n",
    "\n",
    "Файл /datasets/orders.csv:\n",
    "\n",
    "    transactionId — идентификатор заказа;\n",
    "    visitorId — идентификатор пользователя, совершившего заказ;\n",
    "    date — дата, когда был совершён заказ;\n",
    "    revenue — выручка заказа;\n",
    "    group — группа A/B-теста, в которую попал заказ.\n",
    "\n",
    "Файл /datasets/visitors.csv:\n",
    "\n",
    "    date — дата;\n",
    "    group — группа A/B-теста;\n",
    "    visitors — количество пользователей в указанную дату в указанной группе A/B-теста"
   ]
  },
  {
   "cell_type": "markdown",
   "metadata": {},
   "source": [
    "## Загрузка и подготовка данных к анализу"
   ]
  },
  {
   "cell_type": "markdown",
   "metadata": {},
   "source": [
    "Загрузим, изучим и подготовим данные к анализу."
   ]
  },
  {
   "cell_type": "code",
   "execution_count": 258,
   "metadata": {},
   "outputs": [],
   "source": [
    "import pandas as pd\n",
    "import numpy as np\n",
    "from datetime import datetime, timedelta\n",
    "from matplotlib import pyplot as plt\n",
    "import seaborn as sns\n",
    "import scipy.stats as stats"
   ]
  },
  {
   "cell_type": "code",
   "execution_count": 259,
   "metadata": {},
   "outputs": [],
   "source": [
    "try:\n",
    "    hypothesis, orders, visitors = (\n",
    "    pd.read_csv('hypothesis.csv'),\n",
    "    pd.read_csv('orders.csv'),\n",
    "    pd.read_csv('visitors.csv')\n",
    ")\n",
    "except:\n",
    "    hypothesis, orders, visitors = (\n",
    "    pd.read_csv('/datasets/hypothesis.csv'),\n",
    "    pd.read_csv('/datasets/orders.csv'),\n",
    "    pd.read_csv('/datasets/visitors.csv')\n",
    ")"
   ]
  },
  {
   "cell_type": "markdown",
   "metadata": {},
   "source": [
    "Исправим названия столбцов (переведем в нижний регистр.)"
   ]
  },
  {
   "cell_type": "code",
   "execution_count": 260,
   "metadata": {},
   "outputs": [],
   "source": [
    "hypothesis.columns = hypothesis.columns.str.lower()"
   ]
  },
  {
   "cell_type": "code",
   "execution_count": 261,
   "metadata": {},
   "outputs": [],
   "source": [
    "orders = orders.rename(\n",
    "    columns={\n",
    "        'transactionId':'transaction_id',\n",
    "        'visitorId':'visitor_id'\n",
    "    }\n",
    ")"
   ]
  },
  {
   "cell_type": "markdown",
   "metadata": {},
   "source": [
    "Преобразуем данные в нужный тип"
   ]
  },
  {
   "cell_type": "code",
   "execution_count": 262,
   "metadata": {},
   "outputs": [],
   "source": [
    "orders['date'] = pd.to_datetime(orders['date'])\n",
    "visitors['date'] = pd.to_datetime(visitors['date'])"
   ]
  },
  {
   "cell_type": "markdown",
   "metadata": {},
   "source": [
    "Проверим наличие полных дублей"
   ]
  },
  {
   "cell_type": "code",
   "execution_count": 263,
   "metadata": {},
   "outputs": [
    {
     "data": {
      "text/plain": [
       "0"
      ]
     },
     "execution_count": 263,
     "metadata": {},
     "output_type": "execute_result"
    }
   ],
   "source": [
    "hypothesis.duplicated().sum()"
   ]
  },
  {
   "cell_type": "code",
   "execution_count": 264,
   "metadata": {},
   "outputs": [
    {
     "data": {
      "text/plain": [
       "0"
      ]
     },
     "execution_count": 264,
     "metadata": {},
     "output_type": "execute_result"
    }
   ],
   "source": [
    "orders.duplicated().sum()"
   ]
  },
  {
   "cell_type": "code",
   "execution_count": 265,
   "metadata": {},
   "outputs": [
    {
     "data": {
      "text/plain": [
       "0"
      ]
     },
     "execution_count": 265,
     "metadata": {},
     "output_type": "execute_result"
    }
   ],
   "source": [
    "visitors.duplicated().sum()"
   ]
  },
  {
   "cell_type": "markdown",
   "metadata": {},
   "source": [
    "Проверим данные на пропуски"
   ]
  },
  {
   "cell_type": "code",
   "execution_count": 266,
   "metadata": {},
   "outputs": [
    {
     "data": {
      "text/plain": [
       "hypothesis    0\n",
       "reach         0\n",
       "impact        0\n",
       "confidence    0\n",
       "efforts       0\n",
       "dtype: int64"
      ]
     },
     "execution_count": 266,
     "metadata": {},
     "output_type": "execute_result"
    }
   ],
   "source": [
    "hypothesis.isnull().sum()"
   ]
  },
  {
   "cell_type": "code",
   "execution_count": 267,
   "metadata": {},
   "outputs": [
    {
     "data": {
      "text/plain": [
       "transaction_id    0\n",
       "visitor_id        0\n",
       "date              0\n",
       "revenue           0\n",
       "group             0\n",
       "dtype: int64"
      ]
     },
     "execution_count": 267,
     "metadata": {},
     "output_type": "execute_result"
    }
   ],
   "source": [
    "orders.isnull().sum()"
   ]
  },
  {
   "cell_type": "code",
   "execution_count": 268,
   "metadata": {
    "scrolled": true
   },
   "outputs": [
    {
     "data": {
      "text/plain": [
       "date        0\n",
       "group       0\n",
       "visitors    0\n",
       "dtype: int64"
      ]
     },
     "execution_count": 268,
     "metadata": {},
     "output_type": "execute_result"
    }
   ],
   "source": [
    "visitors.isnull().sum()"
   ]
  },
  {
   "cell_type": "markdown",
   "metadata": {},
   "source": [
    "Результаты изучения данных:\n",
    "- Обнаружены и исправлены ошибки в названиях столбцов;\n",
    "- Данные приведены к нужному типу;\n",
    "- Дубликаты не обнаружены;\n",
    "- Пропусков данных нет;"
   ]
  },
  {
   "cell_type": "markdown",
   "metadata": {},
   "source": [
    "## Приоритезация гипотез"
   ]
  },
  {
   "cell_type": "markdown",
   "metadata": {},
   "source": [
    "Применим фреймворки ICE и RICE для приоритизации гипотез"
   ]
  },
  {
   "cell_type": "code",
   "execution_count": 269,
   "metadata": {
    "scrolled": false
   },
   "outputs": [
    {
     "data": {
      "text/html": [
       "<div>\n",
       "<style scoped>\n",
       "    .dataframe tbody tr th:only-of-type {\n",
       "        vertical-align: middle;\n",
       "    }\n",
       "\n",
       "    .dataframe tbody tr th {\n",
       "        vertical-align: top;\n",
       "    }\n",
       "\n",
       "    .dataframe thead th {\n",
       "        text-align: right;\n",
       "    }\n",
       "</style>\n",
       "<table border=\"1\" class=\"dataframe\">\n",
       "  <thead>\n",
       "    <tr style=\"text-align: right;\">\n",
       "      <th></th>\n",
       "      <th>hypothesis</th>\n",
       "      <th>reach</th>\n",
       "      <th>impact</th>\n",
       "      <th>confidence</th>\n",
       "      <th>efforts</th>\n",
       "      <th>ice</th>\n",
       "    </tr>\n",
       "  </thead>\n",
       "  <tbody>\n",
       "    <tr>\n",
       "      <th>8</th>\n",
       "      <td>Запустить акцию, дающую скидку на товар в день рождения</td>\n",
       "      <td>1</td>\n",
       "      <td>9</td>\n",
       "      <td>9</td>\n",
       "      <td>5</td>\n",
       "      <td>16.200000</td>\n",
       "    </tr>\n",
       "    <tr>\n",
       "      <th>0</th>\n",
       "      <td>Добавить два новых канала привлечения трафика, что позволит привлекать на 30% больше пользователей</td>\n",
       "      <td>3</td>\n",
       "      <td>10</td>\n",
       "      <td>8</td>\n",
       "      <td>6</td>\n",
       "      <td>13.333333</td>\n",
       "    </tr>\n",
       "    <tr>\n",
       "      <th>7</th>\n",
       "      <td>Добавить форму подписки на все основные страницы, чтобы собрать базу клиентов для email-рассылок</td>\n",
       "      <td>10</td>\n",
       "      <td>7</td>\n",
       "      <td>8</td>\n",
       "      <td>5</td>\n",
       "      <td>11.200000</td>\n",
       "    </tr>\n",
       "    <tr>\n",
       "      <th>6</th>\n",
       "      <td>Показать на главной странице баннеры с актуальными акциями и распродажами, чтобы увеличить конверсию</td>\n",
       "      <td>5</td>\n",
       "      <td>3</td>\n",
       "      <td>8</td>\n",
       "      <td>3</td>\n",
       "      <td>8.000000</td>\n",
       "    </tr>\n",
       "    <tr>\n",
       "      <th>2</th>\n",
       "      <td>Добавить блоки рекомендаций товаров на сайт интернет магазина, чтобы повысить конверсию и средний чек заказа</td>\n",
       "      <td>8</td>\n",
       "      <td>3</td>\n",
       "      <td>7</td>\n",
       "      <td>3</td>\n",
       "      <td>7.000000</td>\n",
       "    </tr>\n",
       "    <tr>\n",
       "      <th>1</th>\n",
       "      <td>Запустить собственную службу доставки, что сократит срок доставки заказов</td>\n",
       "      <td>2</td>\n",
       "      <td>5</td>\n",
       "      <td>4</td>\n",
       "      <td>10</td>\n",
       "      <td>2.000000</td>\n",
       "    </tr>\n",
       "    <tr>\n",
       "      <th>5</th>\n",
       "      <td>Добавить страницу отзывов клиентов о магазине, что позволит увеличить количество заказов</td>\n",
       "      <td>3</td>\n",
       "      <td>2</td>\n",
       "      <td>2</td>\n",
       "      <td>3</td>\n",
       "      <td>1.333333</td>\n",
       "    </tr>\n",
       "    <tr>\n",
       "      <th>3</th>\n",
       "      <td>Изменить структура категорий, что увеличит конверсию, т.к. пользователи быстрее найдут нужный товар</td>\n",
       "      <td>8</td>\n",
       "      <td>3</td>\n",
       "      <td>3</td>\n",
       "      <td>8</td>\n",
       "      <td>1.125000</td>\n",
       "    </tr>\n",
       "    <tr>\n",
       "      <th>4</th>\n",
       "      <td>Изменить цвет фона главной страницы, чтобы увеличить вовлеченность пользователей</td>\n",
       "      <td>3</td>\n",
       "      <td>1</td>\n",
       "      <td>1</td>\n",
       "      <td>1</td>\n",
       "      <td>1.000000</td>\n",
       "    </tr>\n",
       "  </tbody>\n",
       "</table>\n",
       "</div>"
      ],
      "text/plain": [
       "                                                                                                     hypothesis  \\\n",
       "8                                                       Запустить акцию, дающую скидку на товар в день рождения   \n",
       "0            Добавить два новых канала привлечения трафика, что позволит привлекать на 30% больше пользователей   \n",
       "7              Добавить форму подписки на все основные страницы, чтобы собрать базу клиентов для email-рассылок   \n",
       "6          Показать на главной странице баннеры с актуальными акциями и распродажами, чтобы увеличить конверсию   \n",
       "2  Добавить блоки рекомендаций товаров на сайт интернет магазина, чтобы повысить конверсию и средний чек заказа   \n",
       "1                                     Запустить собственную службу доставки, что сократит срок доставки заказов   \n",
       "5                      Добавить страницу отзывов клиентов о магазине, что позволит увеличить количество заказов   \n",
       "3           Изменить структура категорий, что увеличит конверсию, т.к. пользователи быстрее найдут нужный товар   \n",
       "4                              Изменить цвет фона главной страницы, чтобы увеличить вовлеченность пользователей   \n",
       "\n",
       "   reach  impact  confidence  efforts        ice  \n",
       "8      1       9           9        5  16.200000  \n",
       "0      3      10           8        6  13.333333  \n",
       "7     10       7           8        5  11.200000  \n",
       "6      5       3           8        3   8.000000  \n",
       "2      8       3           7        3   7.000000  \n",
       "1      2       5           4       10   2.000000  \n",
       "5      3       2           2        3   1.333333  \n",
       "3      8       3           3        8   1.125000  \n",
       "4      3       1           1        1   1.000000  "
      ]
     },
     "metadata": {},
     "output_type": "display_data"
    }
   ],
   "source": [
    "hypothesis['ice'] = (hypothesis['impact'] * hypothesis['confidence']) / hypothesis['efforts']\n",
    "pd.options.display.max_colwidth = 120\n",
    "display(hypothesis.head(10).sort_values(by='ice', ascending=False))"
   ]
  },
  {
   "cell_type": "code",
   "execution_count": 270,
   "metadata": {
    "scrolled": true
   },
   "outputs": [
    {
     "data": {
      "text/html": [
       "<div>\n",
       "<style scoped>\n",
       "    .dataframe tbody tr th:only-of-type {\n",
       "        vertical-align: middle;\n",
       "    }\n",
       "\n",
       "    .dataframe tbody tr th {\n",
       "        vertical-align: top;\n",
       "    }\n",
       "\n",
       "    .dataframe thead th {\n",
       "        text-align: right;\n",
       "    }\n",
       "</style>\n",
       "<table border=\"1\" class=\"dataframe\">\n",
       "  <thead>\n",
       "    <tr style=\"text-align: right;\">\n",
       "      <th></th>\n",
       "      <th>hypothesis</th>\n",
       "      <th>reach</th>\n",
       "      <th>impact</th>\n",
       "      <th>confidence</th>\n",
       "      <th>efforts</th>\n",
       "      <th>ice</th>\n",
       "      <th>rice</th>\n",
       "    </tr>\n",
       "  </thead>\n",
       "  <tbody>\n",
       "    <tr>\n",
       "      <th>7</th>\n",
       "      <td>Добавить форму подписки на все основные страницы, чтобы собрать базу клиентов для email-рассылок</td>\n",
       "      <td>10</td>\n",
       "      <td>7</td>\n",
       "      <td>8</td>\n",
       "      <td>5</td>\n",
       "      <td>11.200000</td>\n",
       "      <td>112.0</td>\n",
       "    </tr>\n",
       "    <tr>\n",
       "      <th>2</th>\n",
       "      <td>Добавить блоки рекомендаций товаров на сайт интернет магазина, чтобы повысить конверсию и средний чек заказа</td>\n",
       "      <td>8</td>\n",
       "      <td>3</td>\n",
       "      <td>7</td>\n",
       "      <td>3</td>\n",
       "      <td>7.000000</td>\n",
       "      <td>56.0</td>\n",
       "    </tr>\n",
       "    <tr>\n",
       "      <th>0</th>\n",
       "      <td>Добавить два новых канала привлечения трафика, что позволит привлекать на 30% больше пользователей</td>\n",
       "      <td>3</td>\n",
       "      <td>10</td>\n",
       "      <td>8</td>\n",
       "      <td>6</td>\n",
       "      <td>13.333333</td>\n",
       "      <td>40.0</td>\n",
       "    </tr>\n",
       "    <tr>\n",
       "      <th>6</th>\n",
       "      <td>Показать на главной странице баннеры с актуальными акциями и распродажами, чтобы увеличить конверсию</td>\n",
       "      <td>5</td>\n",
       "      <td>3</td>\n",
       "      <td>8</td>\n",
       "      <td>3</td>\n",
       "      <td>8.000000</td>\n",
       "      <td>40.0</td>\n",
       "    </tr>\n",
       "    <tr>\n",
       "      <th>8</th>\n",
       "      <td>Запустить акцию, дающую скидку на товар в день рождения</td>\n",
       "      <td>1</td>\n",
       "      <td>9</td>\n",
       "      <td>9</td>\n",
       "      <td>5</td>\n",
       "      <td>16.200000</td>\n",
       "      <td>16.2</td>\n",
       "    </tr>\n",
       "    <tr>\n",
       "      <th>3</th>\n",
       "      <td>Изменить структура категорий, что увеличит конверсию, т.к. пользователи быстрее найдут нужный товар</td>\n",
       "      <td>8</td>\n",
       "      <td>3</td>\n",
       "      <td>3</td>\n",
       "      <td>8</td>\n",
       "      <td>1.125000</td>\n",
       "      <td>9.0</td>\n",
       "    </tr>\n",
       "    <tr>\n",
       "      <th>1</th>\n",
       "      <td>Запустить собственную службу доставки, что сократит срок доставки заказов</td>\n",
       "      <td>2</td>\n",
       "      <td>5</td>\n",
       "      <td>4</td>\n",
       "      <td>10</td>\n",
       "      <td>2.000000</td>\n",
       "      <td>4.0</td>\n",
       "    </tr>\n",
       "    <tr>\n",
       "      <th>5</th>\n",
       "      <td>Добавить страницу отзывов клиентов о магазине, что позволит увеличить количество заказов</td>\n",
       "      <td>3</td>\n",
       "      <td>2</td>\n",
       "      <td>2</td>\n",
       "      <td>3</td>\n",
       "      <td>1.333333</td>\n",
       "      <td>4.0</td>\n",
       "    </tr>\n",
       "    <tr>\n",
       "      <th>4</th>\n",
       "      <td>Изменить цвет фона главной страницы, чтобы увеличить вовлеченность пользователей</td>\n",
       "      <td>3</td>\n",
       "      <td>1</td>\n",
       "      <td>1</td>\n",
       "      <td>1</td>\n",
       "      <td>1.000000</td>\n",
       "      <td>3.0</td>\n",
       "    </tr>\n",
       "  </tbody>\n",
       "</table>\n",
       "</div>"
      ],
      "text/plain": [
       "                                                                                                     hypothesis  \\\n",
       "7              Добавить форму подписки на все основные страницы, чтобы собрать базу клиентов для email-рассылок   \n",
       "2  Добавить блоки рекомендаций товаров на сайт интернет магазина, чтобы повысить конверсию и средний чек заказа   \n",
       "0            Добавить два новых канала привлечения трафика, что позволит привлекать на 30% больше пользователей   \n",
       "6          Показать на главной странице баннеры с актуальными акциями и распродажами, чтобы увеличить конверсию   \n",
       "8                                                       Запустить акцию, дающую скидку на товар в день рождения   \n",
       "3           Изменить структура категорий, что увеличит конверсию, т.к. пользователи быстрее найдут нужный товар   \n",
       "1                                     Запустить собственную службу доставки, что сократит срок доставки заказов   \n",
       "5                      Добавить страницу отзывов клиентов о магазине, что позволит увеличить количество заказов   \n",
       "4                              Изменить цвет фона главной страницы, чтобы увеличить вовлеченность пользователей   \n",
       "\n",
       "   reach  impact  confidence  efforts        ice   rice  \n",
       "7     10       7           8        5  11.200000  112.0  \n",
       "2      8       3           7        3   7.000000   56.0  \n",
       "0      3      10           8        6  13.333333   40.0  \n",
       "6      5       3           8        3   8.000000   40.0  \n",
       "8      1       9           9        5  16.200000   16.2  \n",
       "3      8       3           3        8   1.125000    9.0  \n",
       "1      2       5           4       10   2.000000    4.0  \n",
       "5      3       2           2        3   1.333333    4.0  \n",
       "4      3       1           1        1   1.000000    3.0  "
      ]
     },
     "metadata": {},
     "output_type": "display_data"
    }
   ],
   "source": [
    "hypothesis['rice'] = (hypothesis['reach'] * hypothesis['impact'] * hypothesis['confidence']) / hypothesis['efforts']\n",
    "pd.options.display.max_colwidth = 120\n",
    "display(hypothesis.head(10).sort_values(by='rice', ascending=False))"
   ]
  },
  {
   "cell_type": "markdown",
   "metadata": {},
   "source": [
    "Применив 2 разных фреймворка для оценки гипотез мы видим изменение рейтингов гипотез. В случае ICE на первом месте гипотеза 8, в пятерке гипотез - 0, 7, 6, 2. В случае RICE на первое место выходит 7я, в пятерке - 2, 0, 6, 8, т.е. 8я гипотеза спустилась на несколько позиций ниже. Причина - учет параметра Reach (охвата) во второй формуле. \n",
    "\n",
    "И действительно: добавление формы подписки коснется бОльшего количества пользователей, чем акция на скидку в день рождения. Добавим, что при использовании первого фреймворка на первый план выходят гипотезы, связанные с рекламой и маркетинговыми акциями, а во втором лучае - то, что касается сайта магазина."
   ]
  },
  {
   "cell_type": "markdown",
   "metadata": {},
   "source": [
    "## Анализ A/B-теста"
   ]
  },
  {
   "cell_type": "markdown",
   "metadata": {},
   "source": [
    "Проверим, есть ли пересечение групп А и B по пользователям. Если такие общие пользователи найдутся, эти ID удалим из анализа."
   ]
  },
  {
   "cell_type": "code",
   "execution_count": 271,
   "metadata": {
    "scrolled": true
   },
   "outputs": [
    {
     "data": {
      "text/html": [
       "<div>\n",
       "<style scoped>\n",
       "    .dataframe tbody tr th:only-of-type {\n",
       "        vertical-align: middle;\n",
       "    }\n",
       "\n",
       "    .dataframe tbody tr th {\n",
       "        vertical-align: top;\n",
       "    }\n",
       "\n",
       "    .dataframe thead th {\n",
       "        text-align: right;\n",
       "    }\n",
       "</style>\n",
       "<table border=\"1\" class=\"dataframe\">\n",
       "  <thead>\n",
       "    <tr style=\"text-align: right;\">\n",
       "      <th></th>\n",
       "      <th>transaction_id_x</th>\n",
       "      <th>visitor_id</th>\n",
       "      <th>date_x</th>\n",
       "      <th>revenue_x</th>\n",
       "      <th>group_x</th>\n",
       "      <th>transaction_id_y</th>\n",
       "      <th>date_y</th>\n",
       "      <th>revenue_y</th>\n",
       "      <th>group_y</th>\n",
       "    </tr>\n",
       "  </thead>\n",
       "  <tbody>\n",
       "    <tr>\n",
       "      <th>0</th>\n",
       "      <td>2961555356</td>\n",
       "      <td>4069496402</td>\n",
       "      <td>2019-08-15</td>\n",
       "      <td>400</td>\n",
       "      <td>A</td>\n",
       "      <td>1473132782</td>\n",
       "      <td>2019-08-12</td>\n",
       "      <td>640</td>\n",
       "      <td>B</td>\n",
       "    </tr>\n",
       "    <tr>\n",
       "      <th>1</th>\n",
       "      <td>2223239646</td>\n",
       "      <td>199603092</td>\n",
       "      <td>2019-08-15</td>\n",
       "      <td>3488</td>\n",
       "      <td>A</td>\n",
       "      <td>437656952</td>\n",
       "      <td>2019-08-02</td>\n",
       "      <td>3488</td>\n",
       "      <td>B</td>\n",
       "    </tr>\n",
       "    <tr>\n",
       "      <th>2</th>\n",
       "      <td>62794304</td>\n",
       "      <td>199603092</td>\n",
       "      <td>2019-08-22</td>\n",
       "      <td>6976</td>\n",
       "      <td>A</td>\n",
       "      <td>437656952</td>\n",
       "      <td>2019-08-02</td>\n",
       "      <td>3488</td>\n",
       "      <td>B</td>\n",
       "    </tr>\n",
       "    <tr>\n",
       "      <th>3</th>\n",
       "      <td>2971973105</td>\n",
       "      <td>199603092</td>\n",
       "      <td>2019-08-27</td>\n",
       "      <td>2790</td>\n",
       "      <td>A</td>\n",
       "      <td>437656952</td>\n",
       "      <td>2019-08-02</td>\n",
       "      <td>3488</td>\n",
       "      <td>B</td>\n",
       "    </tr>\n",
       "    <tr>\n",
       "      <th>4</th>\n",
       "      <td>1941707234</td>\n",
       "      <td>199603092</td>\n",
       "      <td>2019-08-12</td>\n",
       "      <td>6438</td>\n",
       "      <td>A</td>\n",
       "      <td>437656952</td>\n",
       "      <td>2019-08-02</td>\n",
       "      <td>3488</td>\n",
       "      <td>B</td>\n",
       "    </tr>\n",
       "    <tr>\n",
       "      <th>5</th>\n",
       "      <td>2220299125</td>\n",
       "      <td>3803269165</td>\n",
       "      <td>2019-08-15</td>\n",
       "      <td>700</td>\n",
       "      <td>A</td>\n",
       "      <td>473864496</td>\n",
       "      <td>2019-08-23</td>\n",
       "      <td>2360</td>\n",
       "      <td>B</td>\n",
       "    </tr>\n",
       "    <tr>\n",
       "      <th>6</th>\n",
       "      <td>2220299125</td>\n",
       "      <td>3803269165</td>\n",
       "      <td>2019-08-15</td>\n",
       "      <td>700</td>\n",
       "      <td>A</td>\n",
       "      <td>3244441077</td>\n",
       "      <td>2019-08-09</td>\n",
       "      <td>590</td>\n",
       "      <td>B</td>\n",
       "    </tr>\n",
       "    <tr>\n",
       "      <th>7</th>\n",
       "      <td>2220299125</td>\n",
       "      <td>3803269165</td>\n",
       "      <td>2019-08-15</td>\n",
       "      <td>700</td>\n",
       "      <td>A</td>\n",
       "      <td>2860596918</td>\n",
       "      <td>2019-08-14</td>\n",
       "      <td>6613</td>\n",
       "      <td>B</td>\n",
       "    </tr>\n",
       "    <tr>\n",
       "      <th>8</th>\n",
       "      <td>2220299125</td>\n",
       "      <td>3803269165</td>\n",
       "      <td>2019-08-15</td>\n",
       "      <td>700</td>\n",
       "      <td>A</td>\n",
       "      <td>3898641900</td>\n",
       "      <td>2019-08-14</td>\n",
       "      <td>790</td>\n",
       "      <td>B</td>\n",
       "    </tr>\n",
       "    <tr>\n",
       "      <th>9</th>\n",
       "      <td>486237576</td>\n",
       "      <td>2378935119</td>\n",
       "      <td>2019-08-15</td>\n",
       "      <td>1650</td>\n",
       "      <td>A</td>\n",
       "      <td>2213813903</td>\n",
       "      <td>2019-08-25</td>\n",
       "      <td>21220</td>\n",
       "      <td>B</td>\n",
       "    </tr>\n",
       "  </tbody>\n",
       "</table>\n",
       "</div>"
      ],
      "text/plain": [
       "   transaction_id_x  visitor_id     date_x  revenue_x group_x  \\\n",
       "0        2961555356  4069496402 2019-08-15        400       A   \n",
       "1        2223239646   199603092 2019-08-15       3488       A   \n",
       "2          62794304   199603092 2019-08-22       6976       A   \n",
       "3        2971973105   199603092 2019-08-27       2790       A   \n",
       "4        1941707234   199603092 2019-08-12       6438       A   \n",
       "5        2220299125  3803269165 2019-08-15        700       A   \n",
       "6        2220299125  3803269165 2019-08-15        700       A   \n",
       "7        2220299125  3803269165 2019-08-15        700       A   \n",
       "8        2220299125  3803269165 2019-08-15        700       A   \n",
       "9         486237576  2378935119 2019-08-15       1650       A   \n",
       "\n",
       "   transaction_id_y     date_y  revenue_y group_y  \n",
       "0        1473132782 2019-08-12        640       B  \n",
       "1         437656952 2019-08-02       3488       B  \n",
       "2         437656952 2019-08-02       3488       B  \n",
       "3         437656952 2019-08-02       3488       B  \n",
       "4         437656952 2019-08-02       3488       B  \n",
       "5         473864496 2019-08-23       2360       B  \n",
       "6        3244441077 2019-08-09        590       B  \n",
       "7        2860596918 2019-08-14       6613       B  \n",
       "8        3898641900 2019-08-14        790       B  \n",
       "9        2213813903 2019-08-25      21220       B  "
      ]
     },
     "metadata": {},
     "output_type": "display_data"
    }
   ],
   "source": [
    "orders_a = orders.query('group == \"A\"')\n",
    "orders_b = orders.query('group == \"B\"')\n",
    "orders_id = orders_a.merge(orders_b, on='visitor_id', how='inner')\n",
    "display(orders_id.head(10))"
   ]
  },
  {
   "cell_type": "code",
   "execution_count": 272,
   "metadata": {
    "scrolled": true
   },
   "outputs": [
    {
     "data": {
      "text/plain": [
       "58"
      ]
     },
     "execution_count": 272,
     "metadata": {},
     "output_type": "execute_result"
    }
   ],
   "source": [
    "orders_id_unique = orders_id['visitor_id'].unique()\n",
    "len(orders_id_unique)"
   ]
  },
  {
   "cell_type": "code",
   "execution_count": 273,
   "metadata": {
    "scrolled": true
   },
   "outputs": [
    {
     "data": {
      "text/html": [
       "<div>\n",
       "<style scoped>\n",
       "    .dataframe tbody tr th:only-of-type {\n",
       "        vertical-align: middle;\n",
       "    }\n",
       "\n",
       "    .dataframe tbody tr th {\n",
       "        vertical-align: top;\n",
       "    }\n",
       "\n",
       "    .dataframe thead th {\n",
       "        text-align: right;\n",
       "    }\n",
       "</style>\n",
       "<table border=\"1\" class=\"dataframe\">\n",
       "  <thead>\n",
       "    <tr style=\"text-align: right;\">\n",
       "      <th></th>\n",
       "      <th>transaction_id</th>\n",
       "      <th>visitor_id</th>\n",
       "      <th>date</th>\n",
       "      <th>revenue</th>\n",
       "      <th>group</th>\n",
       "    </tr>\n",
       "  </thead>\n",
       "  <tbody>\n",
       "    <tr>\n",
       "      <th>0</th>\n",
       "      <td>3667963787</td>\n",
       "      <td>3312258926</td>\n",
       "      <td>2019-08-15</td>\n",
       "      <td>1650</td>\n",
       "      <td>B</td>\n",
       "    </tr>\n",
       "    <tr>\n",
       "      <th>1</th>\n",
       "      <td>2804400009</td>\n",
       "      <td>3642806036</td>\n",
       "      <td>2019-08-15</td>\n",
       "      <td>730</td>\n",
       "      <td>B</td>\n",
       "    </tr>\n",
       "    <tr>\n",
       "      <th>3</th>\n",
       "      <td>3797467345</td>\n",
       "      <td>1196621759</td>\n",
       "      <td>2019-08-15</td>\n",
       "      <td>9759</td>\n",
       "      <td>B</td>\n",
       "    </tr>\n",
       "    <tr>\n",
       "      <th>4</th>\n",
       "      <td>2282983706</td>\n",
       "      <td>2322279887</td>\n",
       "      <td>2019-08-15</td>\n",
       "      <td>2308</td>\n",
       "      <td>B</td>\n",
       "    </tr>\n",
       "    <tr>\n",
       "      <th>5</th>\n",
       "      <td>182168103</td>\n",
       "      <td>935554773</td>\n",
       "      <td>2019-08-15</td>\n",
       "      <td>2210</td>\n",
       "      <td>B</td>\n",
       "    </tr>\n",
       "  </tbody>\n",
       "</table>\n",
       "</div>"
      ],
      "text/plain": [
       "   transaction_id  visitor_id       date  revenue group\n",
       "0      3667963787  3312258926 2019-08-15     1650     B\n",
       "1      2804400009  3642806036 2019-08-15      730     B\n",
       "3      3797467345  1196621759 2019-08-15     9759     B\n",
       "4      2282983706  2322279887 2019-08-15     2308     B\n",
       "5       182168103   935554773 2019-08-15     2210     B"
      ]
     },
     "execution_count": 273,
     "metadata": {},
     "output_type": "execute_result"
    }
   ],
   "source": [
    "orders = orders[~orders['visitor_id'].isin(orders_id_unique)]\n",
    "orders.head()"
   ]
  },
  {
   "cell_type": "markdown",
   "metadata": {},
   "source": [
    "Построим и изучим график кумулятивной выручки по группам"
   ]
  },
  {
   "cell_type": "code",
   "execution_count": 274,
   "metadata": {},
   "outputs": [],
   "source": [
    "datesGroups = orders[['date','group']].drop_duplicates()"
   ]
  },
  {
   "cell_type": "code",
   "execution_count": 275,
   "metadata": {},
   "outputs": [
    {
     "data": {
      "text/html": [
       "<div>\n",
       "<style scoped>\n",
       "    .dataframe tbody tr th:only-of-type {\n",
       "        vertical-align: middle;\n",
       "    }\n",
       "\n",
       "    .dataframe tbody tr th {\n",
       "        vertical-align: top;\n",
       "    }\n",
       "\n",
       "    .dataframe thead th {\n",
       "        text-align: right;\n",
       "    }\n",
       "</style>\n",
       "<table border=\"1\" class=\"dataframe\">\n",
       "  <thead>\n",
       "    <tr style=\"text-align: right;\">\n",
       "      <th></th>\n",
       "      <th>date</th>\n",
       "      <th>group</th>\n",
       "      <th>transaction_id</th>\n",
       "      <th>visitor_id</th>\n",
       "      <th>revenue</th>\n",
       "    </tr>\n",
       "  </thead>\n",
       "  <tbody>\n",
       "    <tr>\n",
       "      <th>55</th>\n",
       "      <td>2019-08-01</td>\n",
       "      <td>A</td>\n",
       "      <td>23</td>\n",
       "      <td>19</td>\n",
       "      <td>142779</td>\n",
       "    </tr>\n",
       "    <tr>\n",
       "      <th>66</th>\n",
       "      <td>2019-08-01</td>\n",
       "      <td>B</td>\n",
       "      <td>17</td>\n",
       "      <td>17</td>\n",
       "      <td>59758</td>\n",
       "    </tr>\n",
       "    <tr>\n",
       "      <th>175</th>\n",
       "      <td>2019-08-02</td>\n",
       "      <td>A</td>\n",
       "      <td>42</td>\n",
       "      <td>36</td>\n",
       "      <td>234381</td>\n",
       "    </tr>\n",
       "    <tr>\n",
       "      <th>173</th>\n",
       "      <td>2019-08-02</td>\n",
       "      <td>B</td>\n",
       "      <td>40</td>\n",
       "      <td>39</td>\n",
       "      <td>221801</td>\n",
       "    </tr>\n",
       "    <tr>\n",
       "      <th>291</th>\n",
       "      <td>2019-08-03</td>\n",
       "      <td>A</td>\n",
       "      <td>66</td>\n",
       "      <td>60</td>\n",
       "      <td>346854</td>\n",
       "    </tr>\n",
       "  </tbody>\n",
       "</table>\n",
       "</div>"
      ],
      "text/plain": [
       "          date group  transaction_id  visitor_id  revenue\n",
       "55  2019-08-01     A              23          19   142779\n",
       "66  2019-08-01     B              17          17    59758\n",
       "175 2019-08-02     A              42          36   234381\n",
       "173 2019-08-02     B              40          39   221801\n",
       "291 2019-08-03     A              66          60   346854"
      ]
     },
     "execution_count": 275,
     "metadata": {},
     "output_type": "execute_result"
    }
   ],
   "source": [
    "ordersAggregated = datesGroups.apply(\n",
    "    lambda x: orders[\n",
    "        np.logical_and(\n",
    "            orders['date'] <= x['date'], orders['group'] == x['group']\n",
    "        )\n",
    "    ].agg(\n",
    "        {\n",
    "            'date': 'max',\n",
    "            'group': 'max',\n",
    "            'transaction_id': 'nunique',\n",
    "            'visitor_id': 'nunique',\n",
    "            'revenue': 'sum',\n",
    "        }\n",
    "    ),\n",
    "    axis=1,\n",
    ").sort_values(by=['date', 'group'])\n",
    "\n",
    "ordersAggregated.head(5)"
   ]
  },
  {
   "cell_type": "code",
   "execution_count": 276,
   "metadata": {
    "scrolled": true
   },
   "outputs": [
    {
     "data": {
      "text/html": [
       "<div>\n",
       "<style scoped>\n",
       "    .dataframe tbody tr th:only-of-type {\n",
       "        vertical-align: middle;\n",
       "    }\n",
       "\n",
       "    .dataframe tbody tr th {\n",
       "        vertical-align: top;\n",
       "    }\n",
       "\n",
       "    .dataframe thead th {\n",
       "        text-align: right;\n",
       "    }\n",
       "</style>\n",
       "<table border=\"1\" class=\"dataframe\">\n",
       "  <thead>\n",
       "    <tr style=\"text-align: right;\">\n",
       "      <th></th>\n",
       "      <th>date</th>\n",
       "      <th>group</th>\n",
       "      <th>visitors</th>\n",
       "    </tr>\n",
       "  </thead>\n",
       "  <tbody>\n",
       "    <tr>\n",
       "      <th>55</th>\n",
       "      <td>2019-08-01</td>\n",
       "      <td>A</td>\n",
       "      <td>719</td>\n",
       "    </tr>\n",
       "    <tr>\n",
       "      <th>66</th>\n",
       "      <td>2019-08-01</td>\n",
       "      <td>B</td>\n",
       "      <td>713</td>\n",
       "    </tr>\n",
       "    <tr>\n",
       "      <th>175</th>\n",
       "      <td>2019-08-02</td>\n",
       "      <td>A</td>\n",
       "      <td>1338</td>\n",
       "    </tr>\n",
       "    <tr>\n",
       "      <th>173</th>\n",
       "      <td>2019-08-02</td>\n",
       "      <td>B</td>\n",
       "      <td>1294</td>\n",
       "    </tr>\n",
       "    <tr>\n",
       "      <th>291</th>\n",
       "      <td>2019-08-03</td>\n",
       "      <td>A</td>\n",
       "      <td>1845</td>\n",
       "    </tr>\n",
       "  </tbody>\n",
       "</table>\n",
       "</div>"
      ],
      "text/plain": [
       "          date group  visitors\n",
       "55  2019-08-01     A       719\n",
       "66  2019-08-01     B       713\n",
       "175 2019-08-02     A      1338\n",
       "173 2019-08-02     B      1294\n",
       "291 2019-08-03     A      1845"
      ]
     },
     "execution_count": 276,
     "metadata": {},
     "output_type": "execute_result"
    }
   ],
   "source": [
    "visitorsAggregated = datesGroups.apply(\n",
    "    lambda x: visitors[\n",
    "        np.logical_and(\n",
    "            visitors['date'] <= x['date'], visitors['group'] == x['group']\n",
    "        )\n",
    "    ].agg({'date': 'max', 'group': 'max', 'visitors': 'sum'}),\n",
    "    axis=1,\n",
    ").sort_values(by=['date', 'group'])\n",
    "\n",
    "visitorsAggregated.head(5)"
   ]
  },
  {
   "cell_type": "code",
   "execution_count": 277,
   "metadata": {
    "scrolled": true
   },
   "outputs": [],
   "source": [
    "cumulativeData = ordersAggregated.merge(\n",
    "    visitorsAggregated, left_on=['date', 'group'], right_on=['date', 'group']\n",
    ")\n",
    "# cumulativeData"
   ]
  },
  {
   "cell_type": "code",
   "execution_count": 278,
   "metadata": {
    "scrolled": true
   },
   "outputs": [],
   "source": [
    "cumulativeData.columns = [\n",
    "    'date',\n",
    "    'group',\n",
    "    'orders',\n",
    "    'buyers',\n",
    "    'revenue',\n",
    "    'visitors',\n",
    "]\n",
    "# cumulativeData"
   ]
  },
  {
   "cell_type": "code",
   "execution_count": 279,
   "metadata": {
    "scrolled": false
   },
   "outputs": [
    {
     "data": {
      "image/png": "[encoded data removed]",
      "text/plain": [
       "<Figure size 1080x360 with 1 Axes>"
      ]
     },
     "metadata": {
      "needs_background": "light"
     },
     "output_type": "display_data"
    }
   ],
   "source": [
    "cumulativeRevenueA = cumulativeData[cumulativeData['group']=='A'][['date','revenue', 'orders']]\n",
    "cumulativeRevenueB = cumulativeData[cumulativeData['group']=='B'][['date','revenue', 'orders']]\n",
    "\n",
    "plt.figure(figsize=(15, 5))\n",
    "plt.plot(cumulativeRevenueA['date'], cumulativeRevenueA['revenue'], label='A')\n",
    "plt.plot(cumulativeRevenueB['date'], cumulativeRevenueB['revenue'], label='B')\n",
    "plt.title(\"График кумулятивной выручки по группам\")\n",
    "plt.xlabel(\"Даты\")\n",
    "plt.ylabel(\"Выручка\")\n",
    "plt.legend();\n"
   ]
  },
  {
   "cell_type": "markdown",
   "metadata": {},
   "source": [
    "В середине августа в группе B резко выросла кумулятивная выручка. Показатели группы А после этой даты ниже выручки В, и растут линейно, без скачков. Вероятная причина скачка у группы В - увеличение количества заказов либо рост среднего чека."
   ]
  },
  {
   "cell_type": "markdown",
   "metadata": {},
   "source": [
    "Построим и изучим график кумулятивного среднего чека по группам"
   ]
  },
  {
   "cell_type": "code",
   "execution_count": 280,
   "metadata": {},
   "outputs": [
    {
     "data": {
      "image/png": "[encoded data removed]",
      "text/plain": [
       "<Figure size 1080x360 with 1 Axes>"
      ]
     },
     "metadata": {
      "needs_background": "light"
     },
     "output_type": "display_data"
    }
   ],
   "source": [
    "plt.figure(figsize=(15, 5))\n",
    "plt.plot(cumulativeRevenueA['date'], cumulativeRevenueA['revenue']/cumulativeRevenueA['orders'], label='A')\n",
    "plt.plot(cumulativeRevenueB['date'], cumulativeRevenueB['revenue']/cumulativeRevenueB['orders'], label='B')\n",
    "plt.title(\"График кумулятивного среднего чека по группам\")\n",
    "plt.xlabel(\"Даты\")\n",
    "plt.ylabel(\"Средний чек\")\n",
    "plt.legend();"
   ]
  },
  {
   "cell_type": "markdown",
   "metadata": {},
   "source": [
    "У группы А - колебание среднего чека, причем на старте группа А опережает по чеку группу В, потом спад (и показатели групп меняются местами), потом у группы А рост до первой недели августа и после этого средний чек фиксируется примерно около однго значения. У группы В - рост после начала августа, а потом резкий скачок в середине августа (который и привел к росту выручки на предыдущем графике.) Т.о. причина роста выручки у группы В - скачок размера среднего чека. "
   ]
  },
  {
   "cell_type": "markdown",
   "metadata": {},
   "source": [
    "Построим и изучим график относительного изменения кумулятивного среднего чека группы B к группе A"
   ]
  },
  {
   "cell_type": "code",
   "execution_count": 281,
   "metadata": {},
   "outputs": [],
   "source": [
    "mergedCumulativeRevenue = cumulativeRevenueA.merge(\n",
    "    cumulativeRevenueB, left_on='date', \n",
    "    right_on='date', how='left', suffixes=['A', 'B']\n",
    ")\n",
    "#mergedCumulativeRevenue"
   ]
  },
  {
   "cell_type": "code",
   "execution_count": 282,
   "metadata": {
    "scrolled": false
   },
   "outputs": [
    {
     "data": {
      "image/png": "[encoded data removed]",
      "text/plain": [
       "<Figure size 1080x360 with 1 Axes>"
      ]
     },
     "metadata": {
      "needs_background": "light"
     },
     "output_type": "display_data"
    }
   ],
   "source": [
    "plt.figure(figsize=(15, 5))\n",
    "plt.plot(mergedCumulativeRevenue['date'], (mergedCumulativeRevenue['revenueB']/mergedCumulativeRevenue['ordersB'])/(mergedCumulativeRevenue['revenueA']/mergedCumulativeRevenue['ordersA'])-1)\n",
    "plt.title(\"График относительного изменения кумулятивного среднего чека группы B к группе A\")\n",
    "plt.xlabel(\"Даты\")\n",
    "plt.ylabel(\"Кумулятивный средний чек\")\n",
    "plt.axhline(y=0, color='black', linestyle='--');"
   ]
  },
  {
   "cell_type": "markdown",
   "metadata": {},
   "source": [
    "Дважды средний чек группы В растет по отношению к чеку группы А - в конце 1-й недели августа, и после 17 августа. По большей части группа В оеперажает группу А."
   ]
  },
  {
   "cell_type": "markdown",
   "metadata": {},
   "source": [
    "Построим и изучим график кумулятивной конверсии по группам"
   ]
  },
  {
   "cell_type": "code",
   "execution_count": 283,
   "metadata": {},
   "outputs": [],
   "source": [
    "cumulativeData['conversion'] = cumulativeData['orders']/cumulativeData['visitors']"
   ]
  },
  {
   "cell_type": "code",
   "execution_count": 284,
   "metadata": {},
   "outputs": [],
   "source": [
    "cumulativeDataA = cumulativeData[cumulativeData['group']=='A']\n",
    "cumulativeDataB = cumulativeData[cumulativeData['group']=='B']"
   ]
  },
  {
   "cell_type": "code",
   "execution_count": 285,
   "metadata": {
    "scrolled": true
   },
   "outputs": [
    {
     "data": {
      "image/png": "[encoded data removed]",
      "text/plain": [
       "<Figure size 1080x360 with 1 Axes>"
      ]
     },
     "metadata": {
      "needs_background": "light"
     },
     "output_type": "display_data"
    }
   ],
   "source": [
    "plt.figure(figsize=(15, 5))\n",
    "plt.plot(cumulativeDataA['date'], cumulativeDataA['conversion'], label='A')\n",
    "plt.plot(cumulativeDataB['date'], cumulativeDataB['conversion'], label='B')\n",
    "plt.title(\"График кумулятивной конверсии по группам\")\n",
    "plt.xlabel(\"Даты\")\n",
    "plt.ylabel(\"Кумулятивная конверсия\")\n",
    "plt.legend();"
   ]
  },
  {
   "cell_type": "markdown",
   "metadata": {},
   "source": [
    "После пика в начале августа конверсия группы А падает до определенного уровня и колеблется на этом уровне уже до конца периода. В другом направлении, практически зеркально, двигается конверсия группы В: после первого пика спад, но потом рост до 10-х чисел августа и потом колебания в относительно небольшом диапазоне. Конверсия при этом выше показателей группы А. Поскольку конверсия группы В стабильна, причина роста выручки этой группы на фоне роста среднего чека - в крупных заказах после 17 августа. "
   ]
  },
  {
   "cell_type": "markdown",
   "metadata": {},
   "source": [
    "Построим и изучим график относительного изменения кумулятивной конверсии группы B к группе A"
   ]
  },
  {
   "cell_type": "code",
   "execution_count": 286,
   "metadata": {},
   "outputs": [],
   "source": [
    "mergedCumulativeConversions = cumulativeDataA[['date','conversion']].merge(\n",
    "    cumulativeDataB[['date','conversion']], left_on='date', \n",
    "    right_on='date', how='left', suffixes=['A', 'B']\n",
    ")"
   ]
  },
  {
   "cell_type": "code",
   "execution_count": 287,
   "metadata": {
    "scrolled": false
   },
   "outputs": [
    {
     "data": {
      "image/png": "[encoded data removed]",
      "text/plain": [
       "<Figure size 1080x360 with 1 Axes>"
      ]
     },
     "metadata": {
      "needs_background": "light"
     },
     "output_type": "display_data"
    }
   ],
   "source": [
    "plt.figure(figsize=(15, 5))\n",
    "plt.plot(mergedCumulativeConversions['date'], mergedCumulativeConversions['conversionB']/mergedCumulativeConversions['conversionA']-1, label=\"Относительный прирост конверсии группы B относительно группы A\")\n",
    "plt.legend()\n",
    "plt.title(\"График относительного изменения кумулятивной конверсии группы B к группе A\")\n",
    "plt.xlabel(\"Даты\")\n",
    "plt.ylabel(\"Кумулятивная конверсия\")\n",
    "plt.axhline(y=0, color='black', linestyle='--')\n",
    "plt.axhline(y=0.1, color='grey', linestyle='--');\n"
   ]
  },
  {
   "cell_type": "markdown",
   "metadata": {},
   "source": [
    "Здесь также виден рост конверсии группы В относительно метрики группы А с небольшим снижением этого соотношения после 20-х чисел августа."
   ]
  },
  {
   "cell_type": "markdown",
   "metadata": {},
   "source": [
    "Построим и изучим точечный график количества заказов по пользователям, посчитаем 95-й и 99-й перцентили количества заказов на пользователя"
   ]
  },
  {
   "cell_type": "code",
   "execution_count": 288,
   "metadata": {},
   "outputs": [
    {
     "name": "stdout",
     "output_type": "stream",
     "text": [
      "1    937\n",
      "2     29\n",
      "3      7\n",
      "Name: orders_count, dtype: int64\n"
     ]
    }
   ],
   "source": [
    "orders_sum = (\n",
    "    orders.groupby('visitor_id', as_index=False)\n",
    "    .agg({'transaction_id': 'nunique'})\n",
    ")\n",
    "\n",
    "orders_sum.columns = ['visitor_id', 'orders_count']\n",
    "\n",
    "print(orders_sum['orders_count'].value_counts()) "
   ]
  },
  {
   "cell_type": "code",
   "execution_count": 289,
   "metadata": {
    "scrolled": true
   },
   "outputs": [
    {
     "data": {
      "image/png": "[encoded data removed]",
      "text/plain": [
       "<Figure size 432x288 with 1 Axes>"
      ]
     },
     "metadata": {
      "needs_background": "light"
     },
     "output_type": "display_data"
    }
   ],
   "source": [
    "x_values_orders = pd.Series(range(0,len(orders_sum['orders_count'])))\n",
    "plt.scatter(x_values_orders, orders_sum['orders_count'])\n",
    "plt.title(\"График количества заказов по пользователям\")\n",
    "plt.xlabel(\"Количество пользователей\")\n",
    "plt.ylabel(\"Количество заказов\");"
   ]
  },
  {
   "cell_type": "code",
   "execution_count": 290,
   "metadata": {
    "scrolled": true
   },
   "outputs": [
    {
     "name": "stdout",
     "output_type": "stream",
     "text": [
      "[1. 1. 2.]\n"
     ]
    }
   ],
   "source": [
    "print(np.percentile(orders_sum['orders_count'], [90, 95, 99]))"
   ]
  },
  {
   "cell_type": "markdown",
   "metadata": {},
   "source": [
    "95% юзеров делают 1 заказ. а значит это и есть граница аномальных пользователей. "
   ]
  },
  {
   "cell_type": "markdown",
   "metadata": {},
   "source": [
    "Построим и изучим точечный график стоимостей заказов, посчитаем 95-й и 99-й перцентили стоимости заказов"
   ]
  },
  {
   "cell_type": "code",
   "execution_count": 291,
   "metadata": {
    "scrolled": false
   },
   "outputs": [
    {
     "data": {
      "image/png": "[encoded data removed]",
      "text/plain": [
       "<Figure size 432x288 with 1 Axes>"
      ]
     },
     "metadata": {
      "needs_background": "light"
     },
     "output_type": "display_data"
    }
   ],
   "source": [
    "x_values = pd.Series(range(0,len(orders['revenue'])))\n",
    "plt.scatter(x_values, orders['revenue'])\n",
    "plt.title(\"График стоимостей заказов\")\n",
    "plt.xlabel(\"Количество пользователей\")\n",
    "plt.ylabel(\"Стоимость заказов\");"
   ]
  },
  {
   "cell_type": "code",
   "execution_count": 292,
   "metadata": {
    "scrolled": true
   },
   "outputs": [
    {
     "data": {
      "image/png": "[encoded data removed]",
      "text/plain": [
       "<Figure size 432x288 with 1 Axes>"
      ]
     },
     "metadata": {
      "needs_background": "light"
     },
     "output_type": "display_data"
    }
   ],
   "source": [
    "y_values = orders.query('revenue < 26785')\n",
    "x_values = pd.Series(range(0,len(y_values['revenue'])))\n",
    "plt.scatter(x_values, y_values['revenue'])\n",
    "plt.title(\"График стоимостей заказов без выбросов\")\n",
    "plt.xlabel(\"Количество пользователей\")\n",
    "plt.ylabel(\"Стоимость заказов\");\n"
   ]
  },
  {
   "cell_type": "code",
   "execution_count": 293,
   "metadata": {
    "scrolled": false
   },
   "outputs": [
    {
     "name": "stdout",
     "output_type": "stream",
     "text": [
      "[17990. 26785. 53904.]\n"
     ]
    }
   ],
   "source": [
    "print(np.percentile(orders['revenue'], [90, 95, 99])) "
   ]
  },
  {
   "cell_type": "markdown",
   "metadata": {},
   "source": [
    "95% пользователей делают заказ на сумму до 26785 р., а значит граница \"аномальных\" заказов - 26785 тр."
   ]
  },
  {
   "cell_type": "markdown",
   "metadata": {},
   "source": [
    "Посчитаем **статистическую значимость различий в конверсии** между группами по **«сырым»** данным"
   ]
  },
  {
   "cell_type": "code",
   "execution_count": 294,
   "metadata": {},
   "outputs": [],
   "source": [
    "ordersByUsersA = (\n",
    "    orders[orders['group'] == 'A']\n",
    "    .groupby('visitor_id', as_index=False)\n",
    "    .agg({'transaction_id': pd.Series.nunique})\n",
    ")\n",
    "ordersByUsersA.columns = ['visitor_id', 'orders']\n",
    "\n",
    "ordersByUsersB = (\n",
    "    orders[orders['group'] == 'B']\n",
    "    .groupby('visitor_id', as_index=False)\n",
    "    .agg({'transaction_id': pd.Series.nunique})\n",
    ")\n",
    "ordersByUsersB.columns = ['visitor_id', 'orders']"
   ]
  },
  {
   "cell_type": "code",
   "execution_count": 295,
   "metadata": {},
   "outputs": [],
   "source": [
    "sampleA = pd.concat([ordersByUsersA['orders']\\\n",
    "    ,pd.Series(0, index=np.arange(visitors[visitors['group']=='A']['visitors']\\\n",
    "    .sum() - len(ordersByUsersA['orders'])), name='orders')],axis=0)\n",
    "\n",
    "sampleB = pd.concat([ordersByUsersB['orders']\\\n",
    "    ,pd.Series(0, index=np.arange(visitors[visitors['group']=='B']['visitors']\\\n",
    "    .sum() - len(ordersByUsersB['orders'])), name='orders')],axis=0)"
   ]
  },
  {
   "cell_type": "markdown",
   "metadata": {},
   "source": [
    "H0: различий в конверсии между группами нет.\n",
    "\n",
    "H1: различия в конверсии между группами есть.\n",
    "\n",
    "Гипотезы будут проверяться непараметрическим тестом Уилкоксона-Манна-Уиттни, уровень значимости - 0.05."
   ]
  },
  {
   "cell_type": "code",
   "execution_count": 296,
   "metadata": {
    "scrolled": true
   },
   "outputs": [
    {
     "name": "stdout",
     "output_type": "stream",
     "text": [
      "p-value: 0.011\n",
      "Относительный прирост среднего числа заказов группы B: 0.160\n"
     ]
    }
   ],
   "source": [
    "print('p-value:', \"{0:.3f}\".format(stats.mannwhitneyu(sampleA, sampleB)[1]))\n",
    "\n",
    "print('Относительный прирост среднего числа заказов группы B:', \"{0:.3f}\".format(sampleB.mean() / sampleA.mean() - 1))"
   ]
  },
  {
   "cell_type": "markdown",
   "metadata": {},
   "source": [
    "Поскольку p-value меньше 0.05, поэтому мы отвергаем нулевую гипотезу, и мы наблюдаем статистически значимую разницу в конверсии. Конверсия группы В выше конверсии группы А."
   ]
  },
  {
   "cell_type": "markdown",
   "metadata": {},
   "source": [
    "Посчитаем **статистическую значимость различий в среднем чеке** заказа между группами по **«сырым»** данным"
   ]
  },
  {
   "cell_type": "markdown",
   "metadata": {},
   "source": [
    "H0: различий в среднем чеке между группами нет. \n",
    "\n",
    "H1: различия в среднем чеке между группами есть.\n",
    "\n",
    "Гипотезы будут проверяться непараметрическим тестом Уилкоксона-Манна-Уиттни, уровень значимости - 0.05."
   ]
  },
  {
   "cell_type": "code",
   "execution_count": 297,
   "metadata": {
    "scrolled": false
   },
   "outputs": [
    {
     "name": "stdout",
     "output_type": "stream",
     "text": [
      "p-value: 0.829\n",
      "Относительный прирост среднего чека группы B: 0.287\n"
     ]
    }
   ],
   "source": [
    "print('p-value:', '{0:.3f}'.format(stats.mannwhitneyu(orders[orders['group']=='A']['revenue'], orders[orders['group']=='B']['revenue'])[1]))\n",
    "print('Относительный прирост среднего чека группы B:','{0:.3f}'.format(orders[orders['group']=='B']['revenue'].mean()/orders[orders['group']=='A']['revenue'].mean()-1))"
   ]
  },
  {
   "cell_type": "markdown",
   "metadata": {},
   "source": [
    "p-value значительно выше 0.05, а значит нулевую гипотезу мы отвергнуть не можем. По второму показателю средний чек группы В выше среднего чека группы А. Существенная относительная разница при отсутствии статистической значимости указывает на влияние выбросов на метрику."
   ]
  },
  {
   "cell_type": "markdown",
   "metadata": {},
   "source": [
    "Посчитаем **статистическую значимость различий в конверсии** между группами по **«очищенным»** данным"
   ]
  },
  {
   "cell_type": "code",
   "execution_count": 298,
   "metadata": {
    "scrolled": false
   },
   "outputs": [
    {
     "name": "stdout",
     "output_type": "stream",
     "text": [
      "568     113298937\n",
      "1099    148427295\n",
      "928     204675465\n",
      "33      249864742\n",
      "684     358944393\n",
      "Name: visitor_id, dtype: int64\n",
      "86\n"
     ]
    }
   ],
   "source": [
    "abnormal_orders_quantity = 1\n",
    "abnormal_revenue = 26785\n",
    "\n",
    "usersWithManyOrders = pd.concat(\n",
    "    [\n",
    "        ordersByUsersA[ordersByUsersA['orders'] > abnormal_orders_quantity]['visitor_id'],\n",
    "        ordersByUsersB[ordersByUsersB['orders'] > abnormal_orders_quantity]['visitor_id'],\n",
    "    ],\n",
    "    axis=0,\n",
    ")\n",
    "usersWithExpensiveOrders = orders[orders['revenue'] > abnormal_revenue]['visitor_id']\n",
    "abnormalUsers = (\n",
    "    pd.concat([usersWithManyOrders, usersWithExpensiveOrders], axis=0)\n",
    "    .drop_duplicates()\n",
    "    .sort_values()\n",
    ")\n",
    "print(abnormalUsers.head(5))\n",
    "print(abnormalUsers.shape[0]) "
   ]
  },
  {
   "cell_type": "code",
   "execution_count": 299,
   "metadata": {},
   "outputs": [],
   "source": [
    "sampleAFiltered = pd.concat(\n",
    "    [ordersByUsersA[np.logical_not(ordersByUsersA['visitor_id'].isin(abnormalUsers))]['orders'],pd.Series(0,index=np.arange(visitors[visitors['group']=='A']['visitors'].sum() - len(ordersByUsersA['orders'])),name='orders',),],axis=0,)\n",
    "\n",
    "\n",
    "sampleBFiltered = pd.concat(\n",
    "    [ordersByUsersB[np.logical_not(ordersByUsersB['visitor_id'].isin(abnormalUsers))]['orders'],pd.Series(0,index=np.arange(visitors[visitors['group']=='B']['visitors'].sum() - len(ordersByUsersB['orders'])),name='orders',),],axis=0,)"
   ]
  },
  {
   "cell_type": "markdown",
   "metadata": {},
   "source": [
    "H0: различий в конверсии между группами с \"очищенными\" данными нет.\n",
    "\n",
    "H1: различия в конверсии между группами с \"очищенными\" данными есть.\n",
    "\n",
    "Гипотезы будут проверяться непараметрическим тестом Уилкоксона-Манна-Уиттни, уровень значимости - 0.05."
   ]
  },
  {
   "cell_type": "code",
   "execution_count": 300,
   "metadata": {
    "scrolled": true
   },
   "outputs": [
    {
     "name": "stdout",
     "output_type": "stream",
     "text": [
      "p-value: 0.016\n",
      "Относительный прирост среднего числа заказов группы B после удаления выбросов: 0.174\n"
     ]
    }
   ],
   "source": [
    "print('p-value:', '{0:.3f}'.format(stats.mannwhitneyu(sampleAFiltered, sampleBFiltered)[1]))\n",
    "print(\n",
    "    'Относительный прирост среднего числа заказов группы B после удаления выбросов:', '{0:.3f}'\n",
    "    .format(sampleBFiltered.mean()/sampleAFiltered.mean()-1)\n",
    ")"
   ]
  },
  {
   "cell_type": "markdown",
   "metadata": {},
   "source": [
    "p-value ниже 0.05, поэтому в случае изучения \"очищенных\" от выбросов данных мы отвергаем нулевую гипотезу. Конверсия группы В при этом выше конверсии группы А, и по сравнению с сырыми данными выросла на 1,4%"
   ]
  },
  {
   "cell_type": "markdown",
   "metadata": {},
   "source": [
    "Посчитаем **статистическую значимость различий в cреднем чеке** заказа между группами по **«очищенным»** данным"
   ]
  },
  {
   "cell_type": "markdown",
   "metadata": {},
   "source": [
    "H0: различий в среднем чеке между группами с \"очищенными\" данными нет.\n",
    "\n",
    "H1: различия в среднем чеке между группами с \"очищенными\" данными есть.\n",
    "\n",
    "Гипотезы будут проверяться непараметрическим тестом Уилкоксона-Манна-Уиттни, уровень значимости - 0.05."
   ]
  },
  {
   "cell_type": "code",
   "execution_count": 301,
   "metadata": {
    "scrolled": true
   },
   "outputs": [
    {
     "name": "stdout",
     "output_type": "stream",
     "text": [
      "p-value: 0.727\n",
      "Относительный прирост среднего чека группы B после удаления выбросов: -0.034\n"
     ]
    }
   ],
   "source": [
    "print(\n",
    "    'p-value:', '{0:.3f}'.format(\n",
    "        stats.mannwhitneyu(\n",
    "            orders[\n",
    "                np.logical_and(\n",
    "                    orders['group'] == 'A',\n",
    "                    np.logical_not(orders['visitor_id'].isin(abnormalUsers)),\n",
    "                )\n",
    "            ]['revenue'],\n",
    "            orders[\n",
    "                np.logical_and(\n",
    "                    orders['group'] == 'B',\n",
    "                    np.logical_not(orders['visitor_id'].isin(abnormalUsers)),\n",
    "                )\n",
    "            ]['revenue'],\n",
    "        )[1]\n",
    "    )\n",
    ")\n",
    "\n",
    "print(\n",
    "    'Относительный прирост среднего чека группы B после удаления выбросов:',\"{0:.3f}\".format(\n",
    "        orders[\n",
    "            np.logical_and(\n",
    "                orders['group'] == 'B',\n",
    "                np.logical_not(orders['visitor_id'].isin(abnormalUsers)),\n",
    "            )\n",
    "        ]['revenue'].mean()\n",
    "        / orders[\n",
    "            np.logical_and(\n",
    "                orders['group'] == 'A',\n",
    "                np.logical_not(orders['visitor_id'].isin(abnormalUsers)),\n",
    "            )\n",
    "        ]['revenue'].mean()\n",
    "        - 1\n",
    "    )\n",
    ")"
   ]
  },
  {
   "cell_type": "markdown",
   "metadata": {},
   "source": [
    "p-value значительно больше 0.05, поэтому отвергнуть нулевую гипотезу после исключения из группы выборосов мы не можем. При этом после очистки данных средний чек группы В оказывается ниже чека группы А, \"падение\" составило 34% "
   ]
  },
  {
   "cell_type": "markdown",
   "metadata": {},
   "source": [
    "## Общие выводы"
   ]
  },
  {
   "cell_type": "markdown",
   "metadata": {},
   "source": [
    "- В зависимости о методики расчета приоритеты гипотез меняются (изменения при этом внутри топ-5). Во втором случае (RICE) на первое место попадает гипотеза о добавлении формы подписки (т.к. она коснется бОльшего количества пользователей), а рекордсмен 1-го расчета (акция на скидку в день рождения) сместилась на 5-е место в этомтопе.\n",
    "- В А/В тестировании нет статистически значимого различия по среднему чеку между группами ни по «сырым», ни по данным после фильтрации аномалий. При этом после очистки данных соотношение средних чеков изменилось в пользу группы А;\n",
    "- При этом есть разница в конверсии между группами есть и при расчетах \"сырых\" данных и после очистки данных от выбросов;\n",
    "- По сделанным выводам мы бы рекомендовали остановить тест и признать победу группы В: хотя выбросы и влияют на размер чека группы В, но количество заказов у группы В статистически значимо больше, а значит различие между этими группами приводит к разнице экономических показателей. "
   ]
  }
 ],
 "metadata": {
  "ExecuteTimeLog": [
   {
    "duration": 1313,
    "start_time": "2022-08-21T10:12:18.774Z"
   },
   {
    "duration": 62,
    "start_time": "2022-08-21T10:12:30.532Z"
   },
   {
    "duration": 12,
    "start_time": "2022-08-21T10:12:35.604Z"
   },
   {
    "duration": 2,
    "start_time": "2022-08-21T10:12:40.805Z"
   },
   {
    "duration": 180,
    "start_time": "2022-08-21T10:12:53.817Z"
   },
   {
    "duration": 105,
    "start_time": "2022-08-21T10:12:57.561Z"
   },
   {
    "duration": 8,
    "start_time": "2022-08-21T10:13:03.382Z"
   },
   {
    "duration": 11,
    "start_time": "2022-08-21T10:13:09.240Z"
   },
   {
    "duration": 8,
    "start_time": "2022-08-21T11:51:15.644Z"
   },
   {
    "duration": 3,
    "start_time": "2022-08-21T11:54:18.286Z"
   },
   {
    "duration": 11,
    "start_time": "2022-08-21T11:54:20.591Z"
   },
   {
    "duration": 3,
    "start_time": "2022-08-21T11:57:39.595Z"
   },
   {
    "duration": 11,
    "start_time": "2022-08-21T11:57:43.495Z"
   },
   {
    "duration": 17,
    "start_time": "2022-08-21T11:58:13.911Z"
   },
   {
    "duration": 8,
    "start_time": "2022-08-21T11:58:24.109Z"
   },
   {
    "duration": 13,
    "start_time": "2022-08-21T11:58:34.088Z"
   },
   {
    "duration": 11,
    "start_time": "2022-08-21T11:58:43.054Z"
   },
   {
    "duration": 5,
    "start_time": "2022-08-21T11:59:48.633Z"
   },
   {
    "duration": 11,
    "start_time": "2022-08-21T11:59:50.636Z"
   },
   {
    "duration": 11,
    "start_time": "2022-08-21T12:00:25.339Z"
   },
   {
    "duration": 7,
    "start_time": "2022-08-21T12:00:44.833Z"
   },
   {
    "duration": 11,
    "start_time": "2022-08-21T12:00:46.717Z"
   },
   {
    "duration": 11,
    "start_time": "2022-08-21T12:00:57.192Z"
   },
   {
    "duration": 5,
    "start_time": "2022-08-21T12:01:42.835Z"
   },
   {
    "duration": 6,
    "start_time": "2022-08-21T12:01:49.781Z"
   },
   {
    "duration": 5,
    "start_time": "2022-08-21T12:01:56.183Z"
   },
   {
    "duration": 6,
    "start_time": "2022-08-21T12:02:32.440Z"
   },
   {
    "duration": 6,
    "start_time": "2022-08-21T12:02:52.662Z"
   },
   {
    "duration": 6,
    "start_time": "2022-08-21T12:02:58.891Z"
   },
   {
    "duration": 2,
    "start_time": "2022-08-21T12:04:37.743Z"
   },
   {
    "duration": 11,
    "start_time": "2022-08-21T12:09:30.799Z"
   },
   {
    "duration": 98,
    "start_time": "2022-08-21T12:10:15.123Z"
   },
   {
    "duration": 11,
    "start_time": "2022-08-21T12:10:35.079Z"
   },
   {
    "duration": 16,
    "start_time": "2022-08-21T12:12:32.983Z"
   },
   {
    "duration": 12,
    "start_time": "2022-08-21T12:12:55.968Z"
   },
   {
    "duration": 14,
    "start_time": "2022-08-21T12:13:38.981Z"
   },
   {
    "duration": 12,
    "start_time": "2022-08-21T12:14:26.667Z"
   },
   {
    "duration": 54,
    "start_time": "2022-08-21T12:14:31.389Z"
   },
   {
    "duration": 12,
    "start_time": "2022-08-21T12:14:34.067Z"
   },
   {
    "duration": 9,
    "start_time": "2022-08-21T12:24:29.349Z"
   },
   {
    "duration": 5,
    "start_time": "2022-08-21T12:24:42.541Z"
   },
   {
    "duration": 9,
    "start_time": "2022-08-21T12:24:52.729Z"
   },
   {
    "duration": 2,
    "start_time": "2022-08-21T12:25:32.211Z"
   },
   {
    "duration": 10,
    "start_time": "2022-08-21T12:42:49.672Z"
   },
   {
    "duration": 2,
    "start_time": "2022-08-21T12:42:58.386Z"
   },
   {
    "duration": 12,
    "start_time": "2022-08-21T12:45:01.602Z"
   },
   {
    "duration": 12,
    "start_time": "2022-08-21T12:46:48.762Z"
   },
   {
    "duration": 25,
    "start_time": "2022-08-21T12:47:50.642Z"
   },
   {
    "duration": 5,
    "start_time": "2022-08-21T12:49:14.977Z"
   },
   {
    "duration": 4,
    "start_time": "2022-08-21T12:49:29.486Z"
   },
   {
    "duration": 16,
    "start_time": "2022-08-21T12:50:54.220Z"
   },
   {
    "duration": 45,
    "start_time": "2022-08-22T20:51:41.335Z"
   },
   {
    "duration": 5,
    "start_time": "2022-08-22T20:51:59.237Z"
   },
   {
    "duration": 1116,
    "start_time": "2022-08-22T20:52:02.173Z"
   },
   {
    "duration": 227,
    "start_time": "2022-08-22T20:52:03.290Z"
   },
   {
    "duration": 3,
    "start_time": "2022-08-22T20:52:03.518Z"
   },
   {
    "duration": 7,
    "start_time": "2022-08-22T20:52:03.523Z"
   },
   {
    "duration": 12,
    "start_time": "2022-08-22T20:52:03.531Z"
   },
   {
    "duration": 9,
    "start_time": "2022-08-22T20:52:03.545Z"
   },
   {
    "duration": 9,
    "start_time": "2022-08-22T20:52:03.555Z"
   },
   {
    "duration": 4,
    "start_time": "2022-08-22T20:52:03.566Z"
   },
   {
    "duration": 7,
    "start_time": "2022-08-22T20:52:03.572Z"
   },
   {
    "duration": 6,
    "start_time": "2022-08-22T20:52:03.581Z"
   },
   {
    "duration": 7,
    "start_time": "2022-08-22T20:52:03.588Z"
   },
   {
    "duration": 22,
    "start_time": "2022-08-22T20:52:03.596Z"
   },
   {
    "duration": 11,
    "start_time": "2022-08-22T20:52:03.619Z"
   },
   {
    "duration": 12,
    "start_time": "2022-08-22T20:52:03.632Z"
   },
   {
    "duration": 24,
    "start_time": "2022-08-22T20:52:03.646Z"
   },
   {
    "duration": 4,
    "start_time": "2022-08-22T20:52:03.671Z"
   },
   {
    "duration": 14,
    "start_time": "2022-08-22T20:52:03.707Z"
   },
   {
    "duration": 8,
    "start_time": "2022-08-22T20:52:03.723Z"
   },
   {
    "duration": 149,
    "start_time": "2022-08-22T20:54:11.069Z"
   },
   {
    "duration": 153,
    "start_time": "2022-08-22T20:54:15.709Z"
   },
   {
    "duration": 144,
    "start_time": "2022-08-22T20:54:44.315Z"
   },
   {
    "duration": 10,
    "start_time": "2022-08-22T20:55:28.830Z"
   },
   {
    "duration": 122,
    "start_time": "2022-08-22T20:55:57.941Z"
   },
   {
    "duration": 167,
    "start_time": "2022-08-22T20:57:14.233Z"
   },
   {
    "duration": 14,
    "start_time": "2022-08-22T20:57:49.609Z"
   },
   {
    "duration": 11,
    "start_time": "2022-08-22T20:58:38.490Z"
   },
   {
    "duration": 217,
    "start_time": "2022-08-22T20:59:54.174Z"
   },
   {
    "duration": 212,
    "start_time": "2022-08-22T21:01:18.936Z"
   },
   {
    "duration": 171,
    "start_time": "2022-08-22T21:01:59.519Z"
   },
   {
    "duration": 148,
    "start_time": "2022-08-22T21:04:03.642Z"
   },
   {
    "duration": 145,
    "start_time": "2022-08-22T21:04:08.945Z"
   },
   {
    "duration": 146,
    "start_time": "2022-08-22T21:04:17.344Z"
   },
   {
    "duration": 265,
    "start_time": "2022-08-22T21:05:13.792Z"
   },
   {
    "duration": 357,
    "start_time": "2022-08-22T21:05:18.784Z"
   },
   {
    "duration": 155,
    "start_time": "2022-08-22T21:06:32.928Z"
   },
   {
    "duration": 219,
    "start_time": "2022-08-22T21:08:13.373Z"
   },
   {
    "duration": 231,
    "start_time": "2022-08-22T21:08:36.990Z"
   },
   {
    "duration": 229,
    "start_time": "2022-08-22T21:08:43.004Z"
   },
   {
    "duration": 159,
    "start_time": "2022-08-22T21:08:50.565Z"
   },
   {
    "duration": 160,
    "start_time": "2022-08-22T21:10:33.721Z"
   },
   {
    "duration": 6,
    "start_time": "2022-08-22T21:12:39.886Z"
   },
   {
    "duration": 6,
    "start_time": "2022-08-22T21:12:59.751Z"
   },
   {
    "duration": 269,
    "start_time": "2022-08-22T21:13:22.858Z"
   },
   {
    "duration": 243,
    "start_time": "2022-08-22T21:13:34.831Z"
   },
   {
    "duration": 259,
    "start_time": "2022-08-22T21:13:41.535Z"
   },
   {
    "duration": 13,
    "start_time": "2022-08-22T21:14:51.095Z"
   },
   {
    "duration": 6,
    "start_time": "2022-08-22T21:15:05.924Z"
   },
   {
    "duration": 4,
    "start_time": "2022-08-22T21:16:14.475Z"
   },
   {
    "duration": 5,
    "start_time": "2022-08-22T21:16:36.391Z"
   },
   {
    "duration": 159,
    "start_time": "2022-08-22T21:16:51.887Z"
   },
   {
    "duration": 252,
    "start_time": "2022-08-22T21:17:13.772Z"
   },
   {
    "duration": 167,
    "start_time": "2022-08-22T21:18:17.021Z"
   },
   {
    "duration": 7,
    "start_time": "2022-08-22T21:20:26.869Z"
   },
   {
    "duration": 191,
    "start_time": "2022-08-22T21:21:36.842Z"
   },
   {
    "duration": 197,
    "start_time": "2022-08-22T21:21:55.761Z"
   },
   {
    "duration": 261,
    "start_time": "2022-08-22T21:23:02.130Z"
   },
   {
    "duration": 5,
    "start_time": "2022-08-22T21:31:52.997Z"
   },
   {
    "duration": 3,
    "start_time": "2022-08-22T21:31:58.877Z"
   },
   {
    "duration": 45,
    "start_time": "2022-08-29T15:48:53.377Z"
   },
   {
    "duration": 1175,
    "start_time": "2022-08-29T15:48:57.984Z"
   },
   {
    "duration": 205,
    "start_time": "2022-08-29T15:48:59.161Z"
   },
   {
    "duration": 3,
    "start_time": "2022-08-29T15:48:59.368Z"
   },
   {
    "duration": 8,
    "start_time": "2022-08-29T15:48:59.372Z"
   },
   {
    "duration": 7,
    "start_time": "2022-08-29T15:48:59.382Z"
   },
   {
    "duration": 13,
    "start_time": "2022-08-29T15:48:59.390Z"
   },
   {
    "duration": 12,
    "start_time": "2022-08-29T15:48:59.404Z"
   },
   {
    "duration": 10,
    "start_time": "2022-08-29T15:48:59.417Z"
   },
   {
    "duration": 9,
    "start_time": "2022-08-29T15:48:59.429Z"
   },
   {
    "duration": 10,
    "start_time": "2022-08-29T15:48:59.439Z"
   },
   {
    "duration": 7,
    "start_time": "2022-08-29T15:48:59.450Z"
   },
   {
    "duration": 11,
    "start_time": "2022-08-29T15:48:59.458Z"
   },
   {
    "duration": 21,
    "start_time": "2022-08-29T15:48:59.470Z"
   },
   {
    "duration": 10,
    "start_time": "2022-08-29T15:48:59.494Z"
   },
   {
    "duration": 24,
    "start_time": "2022-08-29T15:48:59.506Z"
   },
   {
    "duration": 3,
    "start_time": "2022-08-29T15:48:59.531Z"
   },
   {
    "duration": 18,
    "start_time": "2022-08-29T15:48:59.536Z"
   },
   {
    "duration": 7,
    "start_time": "2022-08-29T15:48:59.556Z"
   },
   {
    "duration": 179,
    "start_time": "2022-08-29T15:48:59.564Z"
   },
   {
    "duration": 140,
    "start_time": "2022-08-29T15:48:59.745Z"
   },
   {
    "duration": 5,
    "start_time": "2022-08-29T15:48:59.887Z"
   },
   {
    "duration": 11,
    "start_time": "2022-08-29T15:48:59.894Z"
   },
   {
    "duration": 245,
    "start_time": "2022-08-29T15:48:59.907Z"
   },
   {
    "duration": 187,
    "start_time": "2022-08-29T15:49:00.154Z"
   },
   {
    "duration": 6,
    "start_time": "2022-08-29T15:49:00.343Z"
   },
   {
    "duration": 363,
    "start_time": "2022-08-29T15:49:00.351Z"
   },
   {
    "duration": 5,
    "start_time": "2022-08-29T15:49:00.716Z"
   },
   {
    "duration": 48,
    "start_time": "2022-08-29T15:49:00.723Z"
   },
   {
    "duration": 204,
    "start_time": "2022-08-29T15:49:00.773Z"
   },
   {
    "duration": 8,
    "start_time": "2022-08-29T15:49:00.985Z"
   },
   {
    "duration": 295,
    "start_time": "2022-08-29T15:49:00.994Z"
   },
   {
    "duration": 120,
    "start_time": "2022-08-29T15:49:01.291Z"
   },
   {
    "duration": 177,
    "start_time": "2022-08-29T15:49:49.277Z"
   },
   {
    "duration": 105,
    "start_time": "2022-08-29T15:50:08.122Z"
   },
   {
    "duration": 11,
    "start_time": "2022-08-29T15:52:59.101Z"
   },
   {
    "duration": 5,
    "start_time": "2022-08-29T15:55:01.112Z"
   },
   {
    "duration": 12,
    "start_time": "2022-08-29T15:58:11.018Z"
   },
   {
    "duration": 7,
    "start_time": "2022-08-29T16:00:14.423Z"
   },
   {
    "duration": 6,
    "start_time": "2022-08-29T16:00:55.804Z"
   },
   {
    "duration": 11,
    "start_time": "2022-08-29T16:01:26.436Z"
   },
   {
    "duration": 11,
    "start_time": "2022-08-29T16:02:05.759Z"
   },
   {
    "duration": 7,
    "start_time": "2022-08-29T16:02:23.244Z"
   },
   {
    "duration": 7,
    "start_time": "2022-08-29T16:02:46.144Z"
   },
   {
    "duration": 152,
    "start_time": "2022-08-29T16:04:01.184Z"
   },
   {
    "duration": 12,
    "start_time": "2022-08-29T16:04:22.220Z"
   },
   {
    "duration": 98,
    "start_time": "2022-08-29T16:04:31.196Z"
   },
   {
    "duration": 759,
    "start_time": "2022-08-29T16:04:52.504Z"
   },
   {
    "duration": 2122,
    "start_time": "2022-08-29T16:06:04.220Z"
   },
   {
    "duration": 9,
    "start_time": "2022-08-29T16:06:28.632Z"
   },
   {
    "duration": 8,
    "start_time": "2022-08-29T16:06:55.785Z"
   },
   {
    "duration": 129,
    "start_time": "2022-08-29T16:07:36.504Z"
   },
   {
    "duration": 4,
    "start_time": "2022-08-29T16:08:12.053Z"
   },
   {
    "duration": 9,
    "start_time": "2022-08-29T16:10:58.400Z"
   },
   {
    "duration": 2,
    "start_time": "2022-08-29T16:13:19.085Z"
   },
   {
    "duration": 1045,
    "start_time": "2022-08-29T16:13:21.803Z"
   },
   {
    "duration": 8,
    "start_time": "2022-08-29T16:13:37.475Z"
   },
   {
    "duration": 2,
    "start_time": "2022-08-29T16:13:42.991Z"
   },
   {
    "duration": 126,
    "start_time": "2022-08-29T16:13:44.575Z"
   },
   {
    "duration": 10,
    "start_time": "2022-08-29T18:36:15.132Z"
   },
   {
    "duration": 2,
    "start_time": "2022-08-29T18:36:52.003Z"
   },
   {
    "duration": 9,
    "start_time": "2022-08-29T18:36:56.315Z"
   },
   {
    "duration": 10,
    "start_time": "2022-08-29T18:38:30.834Z"
   },
   {
    "duration": 15,
    "start_time": "2022-08-29T18:49:14.524Z"
   },
   {
    "duration": 119,
    "start_time": "2022-08-29T18:49:55.475Z"
   },
   {
    "duration": 2,
    "start_time": "2022-08-29T18:51:51.639Z"
   },
   {
    "duration": 3,
    "start_time": "2022-08-29T18:53:03.227Z"
   },
   {
    "duration": 10,
    "start_time": "2022-08-29T18:53:15.105Z"
   },
   {
    "duration": 2,
    "start_time": "2022-08-29T18:53:52.663Z"
   },
   {
    "duration": 12,
    "start_time": "2022-08-29T18:53:54.859Z"
   },
   {
    "duration": 156,
    "start_time": "2022-08-29T18:55:51.729Z"
   },
   {
    "duration": 209,
    "start_time": "2022-08-29T18:56:25.377Z"
   },
   {
    "duration": 205,
    "start_time": "2022-08-29T18:56:31.348Z"
   },
   {
    "duration": 107,
    "start_time": "2022-08-29T18:56:44.720Z"
   },
   {
    "duration": 6,
    "start_time": "2022-08-29T18:56:49.367Z"
   },
   {
    "duration": 2,
    "start_time": "2022-08-29T18:57:49.276Z"
   },
   {
    "duration": 6,
    "start_time": "2022-08-29T18:58:03.895Z"
   },
   {
    "duration": 23,
    "start_time": "2022-08-29T19:00:23.844Z"
   },
   {
    "duration": 2,
    "start_time": "2022-08-29T19:00:53.528Z"
   },
   {
    "duration": 3,
    "start_time": "2022-08-29T19:01:30.656Z"
   },
   {
    "duration": 123,
    "start_time": "2022-08-29T19:01:30.661Z"
   },
   {
    "duration": 3,
    "start_time": "2022-08-29T19:01:30.785Z"
   },
   {
    "duration": 26,
    "start_time": "2022-08-29T19:01:30.790Z"
   },
   {
    "duration": 53,
    "start_time": "2022-08-29T19:01:30.818Z"
   },
   {
    "duration": 51,
    "start_time": "2022-08-29T19:01:30.872Z"
   },
   {
    "duration": 27,
    "start_time": "2022-08-29T19:01:30.924Z"
   },
   {
    "duration": 25,
    "start_time": "2022-08-29T19:01:30.952Z"
   },
   {
    "duration": 27,
    "start_time": "2022-08-29T19:01:30.978Z"
   },
   {
    "duration": 22,
    "start_time": "2022-08-29T19:01:31.007Z"
   },
   {
    "duration": 30,
    "start_time": "2022-08-29T19:01:31.032Z"
   },
   {
    "duration": 45,
    "start_time": "2022-08-29T19:01:31.064Z"
   },
   {
    "duration": 32,
    "start_time": "2022-08-29T19:01:31.110Z"
   },
   {
    "duration": 27,
    "start_time": "2022-08-29T19:01:31.143Z"
   },
   {
    "duration": 33,
    "start_time": "2022-08-29T19:01:31.172Z"
   },
   {
    "duration": 4,
    "start_time": "2022-08-29T19:01:31.207Z"
   },
   {
    "duration": 42,
    "start_time": "2022-08-29T19:01:31.212Z"
   },
   {
    "duration": 7,
    "start_time": "2022-08-29T19:01:31.256Z"
   },
   {
    "duration": 182,
    "start_time": "2022-08-29T19:01:31.265Z"
   },
   {
    "duration": 127,
    "start_time": "2022-08-29T19:01:31.449Z"
   },
   {
    "duration": 13,
    "start_time": "2022-08-29T19:01:31.577Z"
   },
   {
    "duration": 19,
    "start_time": "2022-08-29T19:01:31.591Z"
   },
   {
    "duration": 201,
    "start_time": "2022-08-29T19:01:31.611Z"
   },
   {
    "duration": 189,
    "start_time": "2022-08-29T19:01:31.814Z"
   },
   {
    "duration": 6,
    "start_time": "2022-08-29T19:01:32.004Z"
   },
   {
    "duration": 273,
    "start_time": "2022-08-29T19:01:32.012Z"
   },
   {
    "duration": 3,
    "start_time": "2022-08-29T19:01:32.287Z"
   },
   {
    "duration": 29,
    "start_time": "2022-08-29T19:01:32.292Z"
   },
   {
    "duration": 190,
    "start_time": "2022-08-29T19:01:32.324Z"
   },
   {
    "duration": 7,
    "start_time": "2022-08-29T19:01:32.516Z"
   },
   {
    "duration": 285,
    "start_time": "2022-08-29T19:01:32.524Z"
   },
   {
    "duration": 8,
    "start_time": "2022-08-29T19:01:32.810Z"
   },
   {
    "duration": 5,
    "start_time": "2022-08-29T19:01:32.819Z"
   },
   {
    "duration": 153,
    "start_time": "2022-08-29T19:01:32.825Z"
   },
   {
    "duration": 7,
    "start_time": "2022-08-29T19:01:32.980Z"
   },
   {
    "duration": 208,
    "start_time": "2022-08-29T19:01:32.988Z"
   },
   {
    "duration": 3,
    "start_time": "2022-08-29T19:01:33.198Z"
   },
   {
    "duration": 6,
    "start_time": "2022-08-29T19:01:33.202Z"
   },
   {
    "duration": 218,
    "start_time": "2022-08-29T19:01:33.210Z"
   },
   {
    "duration": 117,
    "start_time": "2022-08-29T19:01:33.430Z"
   },
   {
    "duration": 5,
    "start_time": "2022-08-29T19:01:33.548Z"
   },
   {
    "duration": 21,
    "start_time": "2022-08-29T19:01:33.555Z"
   },
   {
    "duration": 9,
    "start_time": "2022-08-29T19:01:33.585Z"
   },
   {
    "duration": 1,
    "start_time": "2022-08-29T19:01:33.596Z"
   },
   {
    "duration": 20,
    "start_time": "2022-08-29T19:01:44.132Z"
   },
   {
    "duration": 13,
    "start_time": "2022-08-29T19:12:30.637Z"
   },
   {
    "duration": 9,
    "start_time": "2022-08-29T19:13:43.176Z"
   },
   {
    "duration": 9,
    "start_time": "2022-08-29T19:14:53.113Z"
   },
   {
    "duration": 7,
    "start_time": "2022-08-29T19:14:56.204Z"
   },
   {
    "duration": 2,
    "start_time": "2022-08-29T19:15:19.744Z"
   },
   {
    "duration": 20,
    "start_time": "2022-08-29T19:15:30.269Z"
   },
   {
    "duration": 14,
    "start_time": "2022-08-29T19:16:34.901Z"
   },
   {
    "duration": 2,
    "start_time": "2022-08-29T19:30:53.558Z"
   },
   {
    "duration": 14,
    "start_time": "2022-08-29T19:33:21.682Z"
   },
   {
    "duration": 14,
    "start_time": "2022-08-29T19:33:30.870Z"
   },
   {
    "duration": 3,
    "start_time": "2022-08-29T19:33:33.643Z"
   },
   {
    "duration": 100,
    "start_time": "2022-08-29T19:33:33.648Z"
   },
   {
    "duration": 3,
    "start_time": "2022-08-29T19:33:33.750Z"
   },
   {
    "duration": 8,
    "start_time": "2022-08-29T19:33:33.754Z"
   },
   {
    "duration": 7,
    "start_time": "2022-08-29T19:33:33.763Z"
   },
   {
    "duration": 7,
    "start_time": "2022-08-29T19:33:33.771Z"
   },
   {
    "duration": 10,
    "start_time": "2022-08-29T19:33:33.780Z"
   },
   {
    "duration": 6,
    "start_time": "2022-08-29T19:33:33.792Z"
   },
   {
    "duration": 7,
    "start_time": "2022-08-29T19:33:33.800Z"
   },
   {
    "duration": 8,
    "start_time": "2022-08-29T19:33:33.808Z"
   },
   {
    "duration": 11,
    "start_time": "2022-08-29T19:33:33.817Z"
   },
   {
    "duration": 4,
    "start_time": "2022-08-29T19:33:33.829Z"
   },
   {
    "duration": 14,
    "start_time": "2022-08-29T19:33:33.835Z"
   },
   {
    "duration": 39,
    "start_time": "2022-08-29T19:33:33.852Z"
   },
   {
    "duration": 20,
    "start_time": "2022-08-29T19:33:33.893Z"
   },
   {
    "duration": 5,
    "start_time": "2022-08-29T19:33:33.915Z"
   },
   {
    "duration": 14,
    "start_time": "2022-08-29T19:33:33.922Z"
   },
   {
    "duration": 5,
    "start_time": "2022-08-29T19:33:33.937Z"
   },
   {
    "duration": 187,
    "start_time": "2022-08-29T19:33:33.944Z"
   },
   {
    "duration": 131,
    "start_time": "2022-08-29T19:33:34.132Z"
   },
   {
    "duration": 7,
    "start_time": "2022-08-29T19:33:34.265Z"
   },
   {
    "duration": 13,
    "start_time": "2022-08-29T19:33:34.273Z"
   },
   {
    "duration": 218,
    "start_time": "2022-08-29T19:33:34.288Z"
   },
   {
    "duration": 209,
    "start_time": "2022-08-29T19:33:34.508Z"
   },
   {
    "duration": 5,
    "start_time": "2022-08-29T19:33:34.719Z"
   },
   {
    "duration": 260,
    "start_time": "2022-08-29T19:33:34.725Z"
   },
   {
    "duration": 4,
    "start_time": "2022-08-29T19:33:34.986Z"
   },
   {
    "duration": 10,
    "start_time": "2022-08-29T19:33:34.991Z"
   },
   {
    "duration": 185,
    "start_time": "2022-08-29T19:33:35.002Z"
   },
   {
    "duration": 7,
    "start_time": "2022-08-29T19:33:35.189Z"
   },
   {
    "duration": 317,
    "start_time": "2022-08-29T19:33:35.198Z"
   },
   {
    "duration": 7,
    "start_time": "2022-08-29T19:33:35.516Z"
   },
   {
    "duration": 6,
    "start_time": "2022-08-29T19:33:35.525Z"
   },
   {
    "duration": 128,
    "start_time": "2022-08-29T19:33:35.532Z"
   },
   {
    "duration": 4,
    "start_time": "2022-08-29T19:33:35.662Z"
   },
   {
    "duration": 126,
    "start_time": "2022-08-29T19:33:35.668Z"
   },
   {
    "duration": 4,
    "start_time": "2022-08-29T19:33:35.795Z"
   },
   {
    "duration": 9,
    "start_time": "2022-08-29T19:33:35.800Z"
   },
   {
    "duration": 212,
    "start_time": "2022-08-29T19:33:35.811Z"
   },
   {
    "duration": 124,
    "start_time": "2022-08-29T19:33:36.024Z"
   },
   {
    "duration": 5,
    "start_time": "2022-08-29T19:33:36.151Z"
   },
   {
    "duration": 31,
    "start_time": "2022-08-29T19:33:36.157Z"
   },
   {
    "duration": 9,
    "start_time": "2022-08-29T19:33:36.189Z"
   },
   {
    "duration": 18,
    "start_time": "2022-08-29T19:33:36.199Z"
   },
   {
    "duration": 19,
    "start_time": "2022-08-29T19:33:36.219Z"
   },
   {
    "duration": 15,
    "start_time": "2022-08-29T19:33:36.240Z"
   },
   {
    "duration": 19,
    "start_time": "2022-08-29T19:33:36.256Z"
   },
   {
    "duration": 12,
    "start_time": "2022-08-29T19:33:36.277Z"
   },
   {
    "duration": 15,
    "start_time": "2022-08-29T19:33:55.737Z"
   },
   {
    "duration": 14,
    "start_time": "2022-08-29T19:33:59.797Z"
   },
   {
    "duration": 17,
    "start_time": "2022-08-29T19:34:02.897Z"
   },
   {
    "duration": 3,
    "start_time": "2022-08-29T19:34:07.226Z"
   },
   {
    "duration": 106,
    "start_time": "2022-08-29T19:34:07.231Z"
   },
   {
    "duration": 3,
    "start_time": "2022-08-29T19:34:07.338Z"
   },
   {
    "duration": 9,
    "start_time": "2022-08-29T19:34:07.343Z"
   },
   {
    "duration": 6,
    "start_time": "2022-08-29T19:34:07.355Z"
   },
   {
    "duration": 8,
    "start_time": "2022-08-29T19:34:07.362Z"
   },
   {
    "duration": 7,
    "start_time": "2022-08-29T19:34:07.372Z"
   },
   {
    "duration": 7,
    "start_time": "2022-08-29T19:34:07.380Z"
   },
   {
    "duration": 8,
    "start_time": "2022-08-29T19:34:07.388Z"
   },
   {
    "duration": 11,
    "start_time": "2022-08-29T19:34:07.397Z"
   },
   {
    "duration": 12,
    "start_time": "2022-08-29T19:34:07.410Z"
   },
   {
    "duration": 21,
    "start_time": "2022-08-29T19:34:07.423Z"
   },
   {
    "duration": 23,
    "start_time": "2022-08-29T19:34:07.445Z"
   },
   {
    "duration": 31,
    "start_time": "2022-08-29T19:34:07.471Z"
   },
   {
    "duration": 19,
    "start_time": "2022-08-29T19:34:07.503Z"
   },
   {
    "duration": 20,
    "start_time": "2022-08-29T19:34:07.523Z"
   },
   {
    "duration": 20,
    "start_time": "2022-08-29T19:34:07.544Z"
   },
   {
    "duration": 5,
    "start_time": "2022-08-29T19:34:07.566Z"
   },
   {
    "duration": 161,
    "start_time": "2022-08-29T19:34:07.573Z"
   },
   {
    "duration": 128,
    "start_time": "2022-08-29T19:34:07.736Z"
   },
   {
    "duration": 6,
    "start_time": "2022-08-29T19:34:07.865Z"
   },
   {
    "duration": 14,
    "start_time": "2022-08-29T19:34:07.872Z"
   },
   {
    "duration": 184,
    "start_time": "2022-08-29T19:34:07.888Z"
   },
   {
    "duration": 192,
    "start_time": "2022-08-29T19:34:08.073Z"
   },
   {
    "duration": 6,
    "start_time": "2022-08-29T19:34:08.267Z"
   },
   {
    "duration": 287,
    "start_time": "2022-08-29T19:34:08.274Z"
   },
   {
    "duration": 3,
    "start_time": "2022-08-29T19:34:08.563Z"
   },
   {
    "duration": 17,
    "start_time": "2022-08-29T19:34:08.568Z"
   },
   {
    "duration": 193,
    "start_time": "2022-08-29T19:34:08.586Z"
   },
   {
    "duration": 8,
    "start_time": "2022-08-29T19:34:08.780Z"
   },
   {
    "duration": 304,
    "start_time": "2022-08-29T19:34:08.789Z"
   },
   {
    "duration": 8,
    "start_time": "2022-08-29T19:34:09.095Z"
   },
   {
    "duration": 2,
    "start_time": "2022-08-29T19:34:09.105Z"
   },
   {
    "duration": 144,
    "start_time": "2022-08-29T19:34:09.108Z"
   },
   {
    "duration": 5,
    "start_time": "2022-08-29T19:34:09.253Z"
   },
   {
    "duration": 212,
    "start_time": "2022-08-29T19:34:09.260Z"
   },
   {
    "duration": 13,
    "start_time": "2022-08-29T19:34:09.474Z"
   },
   {
    "duration": 7,
    "start_time": "2022-08-29T19:34:09.489Z"
   },
   {
    "duration": 207,
    "start_time": "2022-08-29T19:34:09.498Z"
   },
   {
    "duration": 123,
    "start_time": "2022-08-29T19:34:09.707Z"
   },
   {
    "duration": 6,
    "start_time": "2022-08-29T19:34:09.834Z"
   },
   {
    "duration": 21,
    "start_time": "2022-08-29T19:34:09.841Z"
   },
   {
    "duration": 23,
    "start_time": "2022-08-29T19:34:09.863Z"
   },
   {
    "duration": 2,
    "start_time": "2022-08-29T19:34:09.888Z"
   },
   {
    "duration": 12,
    "start_time": "2022-08-29T19:34:09.891Z"
   },
   {
    "duration": 8,
    "start_time": "2022-08-29T19:34:09.904Z"
   },
   {
    "duration": 19,
    "start_time": "2022-08-29T19:34:09.913Z"
   },
   {
    "duration": 11,
    "start_time": "2022-08-29T19:34:09.933Z"
   },
   {
    "duration": 46,
    "start_time": "2022-08-29T19:39:55.235Z"
   },
   {
    "duration": 175,
    "start_time": "2022-08-29T19:54:01.318Z"
   },
   {
    "duration": 12,
    "start_time": "2022-08-29T20:04:39.989Z"
   },
   {
    "duration": 1244,
    "start_time": "2022-08-30T07:51:48.447Z"
   },
   {
    "duration": 246,
    "start_time": "2022-08-30T07:51:49.693Z"
   },
   {
    "duration": 4,
    "start_time": "2022-08-30T07:51:49.940Z"
   },
   {
    "duration": 7,
    "start_time": "2022-08-30T07:51:49.946Z"
   },
   {
    "duration": 8,
    "start_time": "2022-08-30T07:51:49.954Z"
   },
   {
    "duration": 14,
    "start_time": "2022-08-30T07:51:49.964Z"
   },
   {
    "duration": 6,
    "start_time": "2022-08-30T07:51:49.980Z"
   },
   {
    "duration": 5,
    "start_time": "2022-08-30T07:51:49.988Z"
   },
   {
    "duration": 10,
    "start_time": "2022-08-30T07:51:49.995Z"
   },
   {
    "duration": 6,
    "start_time": "2022-08-30T07:51:50.008Z"
   },
   {
    "duration": 11,
    "start_time": "2022-08-30T07:51:50.016Z"
   },
   {
    "duration": 12,
    "start_time": "2022-08-30T07:51:50.028Z"
   },
   {
    "duration": 18,
    "start_time": "2022-08-30T07:51:50.042Z"
   },
   {
    "duration": 15,
    "start_time": "2022-08-30T07:51:50.062Z"
   },
   {
    "duration": 36,
    "start_time": "2022-08-30T07:51:50.079Z"
   },
   {
    "duration": 4,
    "start_time": "2022-08-30T07:51:50.117Z"
   },
   {
    "duration": 16,
    "start_time": "2022-08-30T07:51:50.122Z"
   },
   {
    "duration": 5,
    "start_time": "2022-08-30T07:51:50.139Z"
   },
   {
    "duration": 179,
    "start_time": "2022-08-30T07:51:50.146Z"
   },
   {
    "duration": 130,
    "start_time": "2022-08-30T07:51:50.327Z"
   },
   {
    "duration": 7,
    "start_time": "2022-08-30T07:51:50.459Z"
   },
   {
    "duration": 6,
    "start_time": "2022-08-30T07:51:50.467Z"
   },
   {
    "duration": 266,
    "start_time": "2022-08-30T07:51:50.475Z"
   },
   {
    "duration": 196,
    "start_time": "2022-08-30T07:51:50.743Z"
   },
   {
    "duration": 7,
    "start_time": "2022-08-30T07:51:50.941Z"
   },
   {
    "duration": 327,
    "start_time": "2022-08-30T07:51:50.950Z"
   },
   {
    "duration": 3,
    "start_time": "2022-08-30T07:51:51.279Z"
   },
   {
    "duration": 17,
    "start_time": "2022-08-30T07:51:51.285Z"
   },
   {
    "duration": 219,
    "start_time": "2022-08-30T07:51:51.304Z"
   },
   {
    "duration": 9,
    "start_time": "2022-08-30T07:51:51.524Z"
   },
   {
    "duration": 289,
    "start_time": "2022-08-30T07:51:51.535Z"
   },
   {
    "duration": 9,
    "start_time": "2022-08-30T07:51:51.825Z"
   },
   {
    "duration": 3,
    "start_time": "2022-08-30T07:51:51.835Z"
   },
   {
    "duration": 145,
    "start_time": "2022-08-30T07:51:51.839Z"
   },
   {
    "duration": 5,
    "start_time": "2022-08-30T07:51:51.985Z"
   },
   {
    "duration": 128,
    "start_time": "2022-08-30T07:51:52.000Z"
   },
   {
    "duration": 4,
    "start_time": "2022-08-30T07:51:52.130Z"
   },
   {
    "duration": 7,
    "start_time": "2022-08-30T07:51:52.136Z"
   },
   {
    "duration": 295,
    "start_time": "2022-08-30T07:51:52.145Z"
   },
   {
    "duration": 124,
    "start_time": "2022-08-30T07:51:52.441Z"
   },
   {
    "duration": 6,
    "start_time": "2022-08-30T07:51:52.567Z"
   },
   {
    "duration": 40,
    "start_time": "2022-08-30T07:51:52.574Z"
   },
   {
    "duration": 9,
    "start_time": "2022-08-30T07:51:52.616Z"
   },
   {
    "duration": 2,
    "start_time": "2022-08-30T07:51:52.627Z"
   },
   {
    "duration": 11,
    "start_time": "2022-08-30T07:51:52.630Z"
   },
   {
    "duration": 10,
    "start_time": "2022-08-30T07:51:52.643Z"
   },
   {
    "duration": 19,
    "start_time": "2022-08-30T07:51:52.654Z"
   },
   {
    "duration": 38,
    "start_time": "2022-08-30T07:51:52.675Z"
   },
   {
    "duration": 43,
    "start_time": "2022-08-30T15:25:50.622Z"
   },
   {
    "duration": 1326,
    "start_time": "2022-08-30T15:25:56.697Z"
   },
   {
    "duration": 235,
    "start_time": "2022-08-30T15:25:58.025Z"
   },
   {
    "duration": 4,
    "start_time": "2022-08-30T15:25:58.261Z"
   },
   {
    "duration": 7,
    "start_time": "2022-08-30T15:25:58.266Z"
   },
   {
    "duration": 13,
    "start_time": "2022-08-30T15:25:58.275Z"
   },
   {
    "duration": 33,
    "start_time": "2022-08-30T15:25:58.289Z"
   },
   {
    "duration": 41,
    "start_time": "2022-08-30T15:25:58.324Z"
   },
   {
    "duration": 35,
    "start_time": "2022-08-30T15:25:58.367Z"
   },
   {
    "duration": 20,
    "start_time": "2022-08-30T15:25:58.403Z"
   },
   {
    "duration": 12,
    "start_time": "2022-08-30T15:25:58.425Z"
   },
   {
    "duration": 16,
    "start_time": "2022-08-30T15:25:58.438Z"
   },
   {
    "duration": 25,
    "start_time": "2022-08-30T15:25:58.456Z"
   },
   {
    "duration": 11,
    "start_time": "2022-08-30T15:25:58.483Z"
   },
   {
    "duration": 20,
    "start_time": "2022-08-30T15:25:58.497Z"
   },
   {
    "duration": 5,
    "start_time": "2022-08-30T15:25:58.518Z"
   },
   {
    "duration": 48,
    "start_time": "2022-08-30T15:25:58.524Z"
   },
   {
    "duration": 7,
    "start_time": "2022-08-30T15:25:58.575Z"
   },
   {
    "duration": 182,
    "start_time": "2022-08-30T15:25:58.584Z"
   },
   {
    "duration": 129,
    "start_time": "2022-08-30T15:25:58.768Z"
   },
   {
    "duration": 5,
    "start_time": "2022-08-30T15:25:58.898Z"
   },
   {
    "duration": 5,
    "start_time": "2022-08-30T15:25:58.904Z"
   },
   {
    "duration": 286,
    "start_time": "2022-08-30T15:25:58.910Z"
   },
   {
    "duration": 176,
    "start_time": "2022-08-30T15:25:59.198Z"
   },
   {
    "duration": 5,
    "start_time": "2022-08-30T15:25:59.376Z"
   },
   {
    "duration": 357,
    "start_time": "2022-08-30T15:25:59.382Z"
   },
   {
    "duration": 3,
    "start_time": "2022-08-30T15:25:59.741Z"
   },
   {
    "duration": 12,
    "start_time": "2022-08-30T15:25:59.746Z"
   },
   {
    "duration": 183,
    "start_time": "2022-08-30T15:25:59.759Z"
   },
   {
    "duration": 11,
    "start_time": "2022-08-30T15:25:59.944Z"
   },
   {
    "duration": 314,
    "start_time": "2022-08-30T15:25:59.957Z"
   },
   {
    "duration": 18,
    "start_time": "2022-08-30T15:26:00.274Z"
   },
   {
    "duration": 18,
    "start_time": "2022-08-30T15:26:00.293Z"
   },
   {
    "duration": 150,
    "start_time": "2022-08-30T15:26:00.313Z"
   },
   {
    "duration": 4,
    "start_time": "2022-08-30T15:26:00.465Z"
   },
   {
    "duration": 127,
    "start_time": "2022-08-30T15:26:00.471Z"
   },
   {
    "duration": 5,
    "start_time": "2022-08-30T15:26:00.600Z"
   },
   {
    "duration": 15,
    "start_time": "2022-08-30T15:26:00.607Z"
   },
   {
    "duration": 296,
    "start_time": "2022-08-30T15:26:00.623Z"
   },
   {
    "duration": 131,
    "start_time": "2022-08-30T15:26:00.921Z"
   },
   {
    "duration": 6,
    "start_time": "2022-08-30T15:26:01.054Z"
   },
   {
    "duration": 25,
    "start_time": "2022-08-30T15:26:01.063Z"
   },
   {
    "duration": 9,
    "start_time": "2022-08-30T15:26:01.090Z"
   },
   {
    "duration": 4,
    "start_time": "2022-08-30T15:26:01.101Z"
   },
   {
    "duration": 12,
    "start_time": "2022-08-30T15:26:01.107Z"
   },
   {
    "duration": 34,
    "start_time": "2022-08-30T15:26:01.121Z"
   },
   {
    "duration": 18,
    "start_time": "2022-08-30T15:26:01.157Z"
   },
   {
    "duration": 12,
    "start_time": "2022-08-30T15:26:01.177Z"
   },
   {
    "duration": 11,
    "start_time": "2022-08-30T15:26:24.678Z"
   },
   {
    "duration": 171,
    "start_time": "2022-08-30T15:35:37.819Z"
   },
   {
    "duration": 185,
    "start_time": "2022-08-30T15:37:09.913Z"
   },
   {
    "duration": 208,
    "start_time": "2022-08-30T15:37:49.712Z"
   },
   {
    "duration": 205,
    "start_time": "2022-08-30T15:38:18.450Z"
   },
   {
    "duration": 233,
    "start_time": "2022-08-30T15:38:30.838Z"
   },
   {
    "duration": 262,
    "start_time": "2022-08-30T15:40:32.079Z"
   },
   {
    "duration": 186,
    "start_time": "2022-08-30T15:41:23.109Z"
   },
   {
    "duration": 260,
    "start_time": "2022-08-30T15:42:54.902Z"
   },
   {
    "duration": 149,
    "start_time": "2022-08-30T15:44:27.225Z"
   },
   {
    "duration": 117,
    "start_time": "2022-08-30T15:45:12.322Z"
   },
   {
    "duration": 56,
    "start_time": "2022-08-30T15:47:02.470Z"
   },
   {
    "duration": 11,
    "start_time": "2022-08-30T15:47:35.760Z"
   },
   {
    "duration": 8,
    "start_time": "2022-08-30T15:48:26.480Z"
   },
   {
    "duration": 5,
    "start_time": "2022-08-30T15:49:02.160Z"
   },
   {
    "duration": 13,
    "start_time": "2022-08-30T15:49:11.200Z"
   },
   {
    "duration": 111,
    "start_time": "2022-08-30T15:49:19.660Z"
   },
   {
    "duration": 133,
    "start_time": "2022-08-30T15:50:07.550Z"
   },
   {
    "duration": 110,
    "start_time": "2022-08-30T15:50:23.932Z"
   },
   {
    "duration": 201,
    "start_time": "2022-08-30T15:50:44.240Z"
   },
   {
    "duration": 117,
    "start_time": "2022-08-30T16:37:55.139Z"
   },
   {
    "duration": 114,
    "start_time": "2022-08-30T16:47:44.818Z"
   },
   {
    "duration": 9,
    "start_time": "2022-08-30T16:48:20.674Z"
   },
   {
    "duration": 3,
    "start_time": "2022-08-30T16:52:48.345Z"
   },
   {
    "duration": 103,
    "start_time": "2022-08-30T16:52:48.377Z"
   },
   {
    "duration": 2,
    "start_time": "2022-08-30T16:52:48.482Z"
   },
   {
    "duration": 8,
    "start_time": "2022-08-30T16:52:48.486Z"
   },
   {
    "duration": 8,
    "start_time": "2022-08-30T16:52:48.496Z"
   },
   {
    "duration": 7,
    "start_time": "2022-08-30T16:52:48.505Z"
   },
   {
    "duration": 7,
    "start_time": "2022-08-30T16:52:48.513Z"
   },
   {
    "duration": 7,
    "start_time": "2022-08-30T16:52:48.521Z"
   },
   {
    "duration": 6,
    "start_time": "2022-08-30T16:52:48.529Z"
   },
   {
    "duration": 11,
    "start_time": "2022-08-30T16:52:48.537Z"
   },
   {
    "duration": 6,
    "start_time": "2022-08-30T16:52:48.550Z"
   },
   {
    "duration": 22,
    "start_time": "2022-08-30T16:52:48.557Z"
   },
   {
    "duration": 20,
    "start_time": "2022-08-30T16:52:48.581Z"
   },
   {
    "duration": 19,
    "start_time": "2022-08-30T16:52:48.603Z"
   },
   {
    "duration": 4,
    "start_time": "2022-08-30T16:52:48.623Z"
   },
   {
    "duration": 14,
    "start_time": "2022-08-30T16:52:48.628Z"
   },
   {
    "duration": 5,
    "start_time": "2022-08-30T16:52:48.643Z"
   },
   {
    "duration": 161,
    "start_time": "2022-08-30T16:52:48.654Z"
   },
   {
    "duration": 118,
    "start_time": "2022-08-30T16:52:48.816Z"
   },
   {
    "duration": 5,
    "start_time": "2022-08-30T16:52:48.935Z"
   },
   {
    "duration": 3,
    "start_time": "2022-08-30T16:52:48.954Z"
   },
   {
    "duration": 178,
    "start_time": "2022-08-30T16:52:48.959Z"
   },
   {
    "duration": 181,
    "start_time": "2022-08-30T16:52:49.139Z"
   },
   {
    "duration": 183,
    "start_time": "2022-08-30T16:52:49.322Z"
   },
   {
    "duration": 6,
    "start_time": "2022-08-30T16:52:49.506Z"
   },
   {
    "duration": 261,
    "start_time": "2022-08-30T16:52:49.513Z"
   },
   {
    "duration": 3,
    "start_time": "2022-08-30T16:52:49.776Z"
   },
   {
    "duration": 7,
    "start_time": "2022-08-30T16:52:49.781Z"
   },
   {
    "duration": 186,
    "start_time": "2022-08-30T16:52:49.791Z"
   },
   {
    "duration": 6,
    "start_time": "2022-08-30T16:52:49.979Z"
   },
   {
    "duration": 290,
    "start_time": "2022-08-30T16:52:49.986Z"
   },
   {
    "duration": 7,
    "start_time": "2022-08-30T16:52:50.277Z"
   },
   {
    "duration": 132,
    "start_time": "2022-08-30T16:52:50.286Z"
   },
   {
    "duration": 3,
    "start_time": "2022-08-30T16:52:50.420Z"
   },
   {
    "duration": 133,
    "start_time": "2022-08-30T16:52:50.424Z"
   },
   {
    "duration": 130,
    "start_time": "2022-08-30T16:52:50.558Z"
   },
   {
    "duration": 4,
    "start_time": "2022-08-30T16:52:50.689Z"
   },
   {
    "duration": 7,
    "start_time": "2022-08-30T16:52:50.694Z"
   },
   {
    "duration": 219,
    "start_time": "2022-08-30T16:52:50.702Z"
   },
   {
    "duration": 146,
    "start_time": "2022-08-30T16:52:50.923Z"
   },
   {
    "duration": 6,
    "start_time": "2022-08-30T16:52:51.070Z"
   },
   {
    "duration": 19,
    "start_time": "2022-08-30T16:52:51.077Z"
   },
   {
    "duration": 8,
    "start_time": "2022-08-30T16:52:51.097Z"
   },
   {
    "duration": 2,
    "start_time": "2022-08-30T16:52:51.107Z"
   },
   {
    "duration": 8,
    "start_time": "2022-08-30T16:52:51.110Z"
   },
   {
    "duration": 6,
    "start_time": "2022-08-30T16:52:51.120Z"
   },
   {
    "duration": 17,
    "start_time": "2022-08-30T16:52:51.155Z"
   },
   {
    "duration": 11,
    "start_time": "2022-08-30T16:52:51.174Z"
   },
   {
    "duration": 1386,
    "start_time": "2022-08-30T16:53:44.709Z"
   },
   {
    "duration": 8,
    "start_time": "2022-08-30T16:54:30.511Z"
   },
   {
    "duration": 9,
    "start_time": "2022-08-30T16:55:52.902Z"
   },
   {
    "duration": 5,
    "start_time": "2022-08-30T16:55:59.909Z"
   },
   {
    "duration": 28,
    "start_time": "2022-08-30T16:56:18.707Z"
   },
   {
    "duration": 6,
    "start_time": "2022-08-30T16:57:07.220Z"
   },
   {
    "duration": 165,
    "start_time": "2022-08-30T16:57:26.667Z"
   },
   {
    "duration": 3,
    "start_time": "2022-08-30T16:57:33.774Z"
   },
   {
    "duration": 113,
    "start_time": "2022-08-30T16:57:33.781Z"
   },
   {
    "duration": 3,
    "start_time": "2022-08-30T16:57:33.895Z"
   },
   {
    "duration": 6,
    "start_time": "2022-08-30T16:57:33.899Z"
   },
   {
    "duration": 8,
    "start_time": "2022-08-30T16:57:33.906Z"
   },
   {
    "duration": 7,
    "start_time": "2022-08-30T16:57:33.916Z"
   },
   {
    "duration": 7,
    "start_time": "2022-08-30T16:57:33.924Z"
   },
   {
    "duration": 4,
    "start_time": "2022-08-30T16:57:33.932Z"
   },
   {
    "duration": 6,
    "start_time": "2022-08-30T16:57:33.938Z"
   },
   {
    "duration": 8,
    "start_time": "2022-08-30T16:57:33.946Z"
   },
   {
    "duration": 6,
    "start_time": "2022-08-30T16:57:33.956Z"
   },
   {
    "duration": 11,
    "start_time": "2022-08-30T16:57:33.963Z"
   },
   {
    "duration": 11,
    "start_time": "2022-08-30T16:57:33.975Z"
   },
   {
    "duration": 17,
    "start_time": "2022-08-30T16:57:33.987Z"
   },
   {
    "duration": 4,
    "start_time": "2022-08-30T16:57:34.007Z"
   },
   {
    "duration": 15,
    "start_time": "2022-08-30T16:57:34.012Z"
   },
   {
    "duration": 6,
    "start_time": "2022-08-30T16:57:34.054Z"
   },
   {
    "duration": 157,
    "start_time": "2022-08-30T16:57:34.061Z"
   },
   {
    "duration": 120,
    "start_time": "2022-08-30T16:57:34.219Z"
   },
   {
    "duration": 18,
    "start_time": "2022-08-30T16:57:34.340Z"
   },
   {
    "duration": 5,
    "start_time": "2022-08-30T16:57:34.359Z"
   },
   {
    "duration": 192,
    "start_time": "2022-08-30T16:57:34.365Z"
   },
   {
    "duration": 247,
    "start_time": "2022-08-30T16:57:34.558Z"
   },
   {
    "duration": 1157,
    "start_time": "2022-08-30T16:57:34.807Z"
   },
   {
    "duration": 0,
    "start_time": "2022-08-30T16:57:35.965Z"
   },
   {
    "duration": 0,
    "start_time": "2022-08-30T16:57:35.966Z"
   },
   {
    "duration": 0,
    "start_time": "2022-08-30T16:57:35.967Z"
   },
   {
    "duration": 0,
    "start_time": "2022-08-30T16:57:35.968Z"
   },
   {
    "duration": 0,
    "start_time": "2022-08-30T16:57:35.969Z"
   },
   {
    "duration": 0,
    "start_time": "2022-08-30T16:57:35.970Z"
   },
   {
    "duration": 0,
    "start_time": "2022-08-30T16:57:35.971Z"
   },
   {
    "duration": 0,
    "start_time": "2022-08-30T16:57:35.973Z"
   },
   {
    "duration": 0,
    "start_time": "2022-08-30T16:57:35.974Z"
   },
   {
    "duration": 0,
    "start_time": "2022-08-30T16:57:35.975Z"
   },
   {
    "duration": 0,
    "start_time": "2022-08-30T16:57:35.977Z"
   },
   {
    "duration": 0,
    "start_time": "2022-08-30T16:57:35.978Z"
   },
   {
    "duration": 1,
    "start_time": "2022-08-30T16:57:35.978Z"
   },
   {
    "duration": 0,
    "start_time": "2022-08-30T16:57:35.980Z"
   },
   {
    "duration": 0,
    "start_time": "2022-08-30T16:57:35.981Z"
   },
   {
    "duration": 0,
    "start_time": "2022-08-30T16:57:35.981Z"
   },
   {
    "duration": 0,
    "start_time": "2022-08-30T16:57:35.982Z"
   },
   {
    "duration": 0,
    "start_time": "2022-08-30T16:57:35.983Z"
   },
   {
    "duration": 0,
    "start_time": "2022-08-30T16:57:35.984Z"
   },
   {
    "duration": 0,
    "start_time": "2022-08-30T16:57:35.985Z"
   },
   {
    "duration": 0,
    "start_time": "2022-08-30T16:57:35.985Z"
   },
   {
    "duration": 0,
    "start_time": "2022-08-30T16:57:35.986Z"
   },
   {
    "duration": 0,
    "start_time": "2022-08-30T16:57:35.987Z"
   },
   {
    "duration": 0,
    "start_time": "2022-08-30T16:57:35.988Z"
   },
   {
    "duration": 153,
    "start_time": "2022-08-30T16:58:00.425Z"
   },
   {
    "duration": 153,
    "start_time": "2022-08-30T16:58:31.192Z"
   },
   {
    "duration": 9,
    "start_time": "2022-08-30T16:58:42.093Z"
   },
   {
    "duration": 8,
    "start_time": "2022-08-30T16:58:49.569Z"
   },
   {
    "duration": 3,
    "start_time": "2022-08-30T16:58:52.083Z"
   },
   {
    "duration": 114,
    "start_time": "2022-08-30T16:58:52.087Z"
   },
   {
    "duration": 3,
    "start_time": "2022-08-30T16:58:52.202Z"
   },
   {
    "duration": 6,
    "start_time": "2022-08-30T16:58:52.206Z"
   },
   {
    "duration": 9,
    "start_time": "2022-08-30T16:58:52.214Z"
   },
   {
    "duration": 8,
    "start_time": "2022-08-30T16:58:52.224Z"
   },
   {
    "duration": 7,
    "start_time": "2022-08-30T16:58:52.233Z"
   },
   {
    "duration": 4,
    "start_time": "2022-08-30T16:58:52.241Z"
   },
   {
    "duration": 7,
    "start_time": "2022-08-30T16:58:52.247Z"
   },
   {
    "duration": 8,
    "start_time": "2022-08-30T16:58:52.255Z"
   },
   {
    "duration": 7,
    "start_time": "2022-08-30T16:58:52.265Z"
   },
   {
    "duration": 12,
    "start_time": "2022-08-30T16:58:52.273Z"
   },
   {
    "duration": 13,
    "start_time": "2022-08-30T16:58:52.286Z"
   },
   {
    "duration": 19,
    "start_time": "2022-08-30T16:58:52.300Z"
   },
   {
    "duration": 4,
    "start_time": "2022-08-30T16:58:52.320Z"
   },
   {
    "duration": 11,
    "start_time": "2022-08-30T16:58:52.355Z"
   },
   {
    "duration": 5,
    "start_time": "2022-08-30T16:58:52.368Z"
   },
   {
    "duration": 176,
    "start_time": "2022-08-30T16:58:52.374Z"
   },
   {
    "duration": 129,
    "start_time": "2022-08-30T16:58:52.555Z"
   },
   {
    "duration": 6,
    "start_time": "2022-08-30T16:58:52.685Z"
   },
   {
    "duration": 11,
    "start_time": "2022-08-30T16:58:52.693Z"
   },
   {
    "duration": 207,
    "start_time": "2022-08-30T16:58:52.706Z"
   },
   {
    "duration": 9,
    "start_time": "2022-08-30T16:58:52.914Z"
   },
   {
    "duration": 158,
    "start_time": "2022-08-30T16:58:52.925Z"
   },
   {
    "duration": 1139,
    "start_time": "2022-08-30T16:58:53.085Z"
   },
   {
    "duration": 0,
    "start_time": "2022-08-30T16:58:54.226Z"
   },
   {
    "duration": 0,
    "start_time": "2022-08-30T16:58:54.227Z"
   },
   {
    "duration": 0,
    "start_time": "2022-08-30T16:58:54.228Z"
   },
   {
    "duration": 0,
    "start_time": "2022-08-30T16:58:54.229Z"
   },
   {
    "duration": 0,
    "start_time": "2022-08-30T16:58:54.230Z"
   },
   {
    "duration": 0,
    "start_time": "2022-08-30T16:58:54.231Z"
   },
   {
    "duration": 0,
    "start_time": "2022-08-30T16:58:54.232Z"
   },
   {
    "duration": 0,
    "start_time": "2022-08-30T16:58:54.233Z"
   },
   {
    "duration": 0,
    "start_time": "2022-08-30T16:58:54.234Z"
   },
   {
    "duration": 0,
    "start_time": "2022-08-30T16:58:54.235Z"
   },
   {
    "duration": 0,
    "start_time": "2022-08-30T16:58:54.236Z"
   },
   {
    "duration": 0,
    "start_time": "2022-08-30T16:58:54.237Z"
   },
   {
    "duration": 0,
    "start_time": "2022-08-30T16:58:54.238Z"
   },
   {
    "duration": 1,
    "start_time": "2022-08-30T16:58:54.238Z"
   },
   {
    "duration": 0,
    "start_time": "2022-08-30T16:58:54.240Z"
   },
   {
    "duration": 0,
    "start_time": "2022-08-30T16:58:54.241Z"
   },
   {
    "duration": 0,
    "start_time": "2022-08-30T16:58:54.242Z"
   },
   {
    "duration": 0,
    "start_time": "2022-08-30T16:58:54.242Z"
   },
   {
    "duration": 0,
    "start_time": "2022-08-30T16:58:54.243Z"
   },
   {
    "duration": 0,
    "start_time": "2022-08-30T16:58:54.244Z"
   },
   {
    "duration": 0,
    "start_time": "2022-08-30T16:58:54.245Z"
   },
   {
    "duration": 0,
    "start_time": "2022-08-30T16:58:54.246Z"
   },
   {
    "duration": 0,
    "start_time": "2022-08-30T16:58:54.247Z"
   },
   {
    "duration": 0,
    "start_time": "2022-08-30T16:58:54.248Z"
   },
   {
    "duration": 8,
    "start_time": "2022-08-30T16:59:29.299Z"
   },
   {
    "duration": 143,
    "start_time": "2022-08-30T17:00:58.695Z"
   },
   {
    "duration": 3,
    "start_time": "2022-08-30T17:01:09.967Z"
   },
   {
    "duration": 108,
    "start_time": "2022-08-30T17:01:09.978Z"
   },
   {
    "duration": 3,
    "start_time": "2022-08-30T17:01:10.088Z"
   },
   {
    "duration": 8,
    "start_time": "2022-08-30T17:01:10.092Z"
   },
   {
    "duration": 8,
    "start_time": "2022-08-30T17:01:10.101Z"
   },
   {
    "duration": 6,
    "start_time": "2022-08-30T17:01:10.110Z"
   },
   {
    "duration": 7,
    "start_time": "2022-08-30T17:01:10.117Z"
   },
   {
    "duration": 5,
    "start_time": "2022-08-30T17:01:10.125Z"
   },
   {
    "duration": 7,
    "start_time": "2022-08-30T17:01:10.131Z"
   },
   {
    "duration": 7,
    "start_time": "2022-08-30T17:01:10.139Z"
   },
   {
    "duration": 10,
    "start_time": "2022-08-30T17:01:10.147Z"
   },
   {
    "duration": 12,
    "start_time": "2022-08-30T17:01:10.158Z"
   },
   {
    "duration": 13,
    "start_time": "2022-08-30T17:01:10.171Z"
   },
   {
    "duration": 20,
    "start_time": "2022-08-30T17:01:10.185Z"
   },
   {
    "duration": 5,
    "start_time": "2022-08-30T17:01:10.209Z"
   },
   {
    "duration": 41,
    "start_time": "2022-08-30T17:01:10.215Z"
   },
   {
    "duration": 6,
    "start_time": "2022-08-30T17:01:10.258Z"
   },
   {
    "duration": 169,
    "start_time": "2022-08-30T17:01:10.266Z"
   },
   {
    "duration": 111,
    "start_time": "2022-08-30T17:01:10.437Z"
   },
   {
    "duration": 8,
    "start_time": "2022-08-30T17:01:10.550Z"
   },
   {
    "duration": 6,
    "start_time": "2022-08-30T17:01:10.559Z"
   },
   {
    "duration": 189,
    "start_time": "2022-08-30T17:01:10.566Z"
   },
   {
    "duration": 149,
    "start_time": "2022-08-30T17:01:10.756Z"
   },
   {
    "duration": 0,
    "start_time": "2022-08-30T17:01:10.907Z"
   },
   {
    "duration": 0,
    "start_time": "2022-08-30T17:01:10.908Z"
   },
   {
    "duration": 0,
    "start_time": "2022-08-30T17:01:10.909Z"
   },
   {
    "duration": 0,
    "start_time": "2022-08-30T17:01:10.910Z"
   },
   {
    "duration": 0,
    "start_time": "2022-08-30T17:01:10.911Z"
   },
   {
    "duration": 0,
    "start_time": "2022-08-30T17:01:10.912Z"
   },
   {
    "duration": 0,
    "start_time": "2022-08-30T17:01:10.913Z"
   },
   {
    "duration": 0,
    "start_time": "2022-08-30T17:01:10.914Z"
   },
   {
    "duration": 0,
    "start_time": "2022-08-30T17:01:10.915Z"
   },
   {
    "duration": 0,
    "start_time": "2022-08-30T17:01:10.916Z"
   },
   {
    "duration": 0,
    "start_time": "2022-08-30T17:01:10.917Z"
   },
   {
    "duration": 0,
    "start_time": "2022-08-30T17:01:10.917Z"
   },
   {
    "duration": 0,
    "start_time": "2022-08-30T17:01:10.918Z"
   },
   {
    "duration": 0,
    "start_time": "2022-08-30T17:01:10.919Z"
   },
   {
    "duration": 0,
    "start_time": "2022-08-30T17:01:10.920Z"
   },
   {
    "duration": 0,
    "start_time": "2022-08-30T17:01:10.921Z"
   },
   {
    "duration": 0,
    "start_time": "2022-08-30T17:01:10.922Z"
   },
   {
    "duration": 0,
    "start_time": "2022-08-30T17:01:10.923Z"
   },
   {
    "duration": 0,
    "start_time": "2022-08-30T17:01:10.955Z"
   },
   {
    "duration": 0,
    "start_time": "2022-08-30T17:01:10.956Z"
   },
   {
    "duration": 0,
    "start_time": "2022-08-30T17:01:10.956Z"
   },
   {
    "duration": 0,
    "start_time": "2022-08-30T17:01:10.957Z"
   },
   {
    "duration": 0,
    "start_time": "2022-08-30T17:01:10.958Z"
   },
   {
    "duration": 0,
    "start_time": "2022-08-30T17:01:10.959Z"
   },
   {
    "duration": 0,
    "start_time": "2022-08-30T17:01:10.960Z"
   },
   {
    "duration": 3,
    "start_time": "2022-08-30T17:01:44.455Z"
   },
   {
    "duration": 175,
    "start_time": "2022-08-30T17:02:16.207Z"
   },
   {
    "duration": 12,
    "start_time": "2022-08-30T17:02:29.937Z"
   },
   {
    "duration": 142,
    "start_time": "2022-08-30T17:05:53.536Z"
   },
   {
    "duration": 5,
    "start_time": "2022-08-30T17:07:14.798Z"
   },
   {
    "duration": 103,
    "start_time": "2022-08-30T17:08:37.169Z"
   },
   {
    "duration": 13,
    "start_time": "2022-08-30T17:08:45.180Z"
   },
   {
    "duration": 9,
    "start_time": "2022-08-30T17:09:58.517Z"
   },
   {
    "duration": 7,
    "start_time": "2022-08-30T17:10:52.993Z"
   },
   {
    "duration": 1409,
    "start_time": "2022-08-30T17:10:58.938Z"
   },
   {
    "duration": 179,
    "start_time": "2022-08-30T17:11:29.442Z"
   },
   {
    "duration": 3,
    "start_time": "2022-08-30T17:12:01.626Z"
   },
   {
    "duration": 2,
    "start_time": "2022-08-30T17:22:23.524Z"
   },
   {
    "duration": 107,
    "start_time": "2022-08-30T17:22:23.536Z"
   },
   {
    "duration": 3,
    "start_time": "2022-08-30T17:22:23.645Z"
   },
   {
    "duration": 7,
    "start_time": "2022-08-30T17:22:23.650Z"
   },
   {
    "duration": 6,
    "start_time": "2022-08-30T17:22:23.659Z"
   },
   {
    "duration": 8,
    "start_time": "2022-08-30T17:22:23.667Z"
   },
   {
    "duration": 8,
    "start_time": "2022-08-30T17:22:23.676Z"
   },
   {
    "duration": 4,
    "start_time": "2022-08-30T17:22:23.685Z"
   },
   {
    "duration": 7,
    "start_time": "2022-08-30T17:22:23.690Z"
   },
   {
    "duration": 6,
    "start_time": "2022-08-30T17:22:23.698Z"
   },
   {
    "duration": 7,
    "start_time": "2022-08-30T17:22:23.706Z"
   },
   {
    "duration": 24,
    "start_time": "2022-08-30T17:22:23.714Z"
   },
   {
    "duration": 19,
    "start_time": "2022-08-30T17:22:23.739Z"
   },
   {
    "duration": 36,
    "start_time": "2022-08-30T17:22:23.759Z"
   },
   {
    "duration": 18,
    "start_time": "2022-08-30T17:22:23.797Z"
   },
   {
    "duration": 19,
    "start_time": "2022-08-30T17:22:23.817Z"
   },
   {
    "duration": 7,
    "start_time": "2022-08-30T17:22:23.838Z"
   },
   {
    "duration": 148,
    "start_time": "2022-08-30T17:22:23.846Z"
   },
   {
    "duration": 122,
    "start_time": "2022-08-30T17:22:23.996Z"
   },
   {
    "duration": 7,
    "start_time": "2022-08-30T17:22:24.120Z"
   },
   {
    "duration": 7,
    "start_time": "2022-08-30T17:22:24.129Z"
   },
   {
    "duration": 197,
    "start_time": "2022-08-30T17:22:24.137Z"
   },
   {
    "duration": 273,
    "start_time": "2022-08-30T17:22:24.335Z"
   },
   {
    "duration": 6,
    "start_time": "2022-08-30T17:22:24.610Z"
   },
   {
    "duration": 286,
    "start_time": "2022-08-30T17:22:24.617Z"
   },
   {
    "duration": 4,
    "start_time": "2022-08-30T17:22:24.904Z"
   },
   {
    "duration": 26,
    "start_time": "2022-08-30T17:22:24.910Z"
   },
   {
    "duration": 210,
    "start_time": "2022-08-30T17:22:24.937Z"
   },
   {
    "duration": 7,
    "start_time": "2022-08-30T17:22:25.155Z"
   },
   {
    "duration": 309,
    "start_time": "2022-08-30T17:22:25.163Z"
   },
   {
    "duration": 8,
    "start_time": "2022-08-30T17:22:25.475Z"
   },
   {
    "duration": 138,
    "start_time": "2022-08-30T17:22:25.485Z"
   },
   {
    "duration": 3,
    "start_time": "2022-08-30T17:22:25.625Z"
   },
   {
    "duration": 127,
    "start_time": "2022-08-30T17:22:25.630Z"
   },
   {
    "duration": 124,
    "start_time": "2022-08-30T17:22:25.758Z"
   },
   {
    "duration": 3,
    "start_time": "2022-08-30T17:22:25.884Z"
   },
   {
    "duration": 6,
    "start_time": "2022-08-30T17:22:25.889Z"
   },
   {
    "duration": 219,
    "start_time": "2022-08-30T17:22:25.896Z"
   },
   {
    "duration": 151,
    "start_time": "2022-08-30T17:22:26.117Z"
   },
   {
    "duration": 6,
    "start_time": "2022-08-30T17:22:26.269Z"
   },
   {
    "duration": 28,
    "start_time": "2022-08-30T17:22:26.276Z"
   },
   {
    "duration": 9,
    "start_time": "2022-08-30T17:22:26.305Z"
   },
   {
    "duration": 6,
    "start_time": "2022-08-30T17:22:26.315Z"
   },
   {
    "duration": 11,
    "start_time": "2022-08-30T17:22:26.323Z"
   },
   {
    "duration": 19,
    "start_time": "2022-08-30T17:22:26.336Z"
   },
   {
    "duration": 21,
    "start_time": "2022-08-30T17:22:26.356Z"
   },
   {
    "duration": 12,
    "start_time": "2022-08-30T17:22:26.379Z"
   },
   {
    "duration": 4,
    "start_time": "2022-08-30T17:27:14.617Z"
   },
   {
    "duration": 120,
    "start_time": "2022-08-30T17:27:18.121Z"
   },
   {
    "duration": 6,
    "start_time": "2022-08-30T17:27:20.486Z"
   },
   {
    "duration": 19,
    "start_time": "2022-08-30T17:27:25.585Z"
   },
   {
    "duration": 9,
    "start_time": "2022-08-30T17:29:02.050Z"
   },
   {
    "duration": 3,
    "start_time": "2022-08-30T17:29:14.305Z"
   },
   {
    "duration": 107,
    "start_time": "2022-08-30T17:29:14.310Z"
   },
   {
    "duration": 3,
    "start_time": "2022-08-30T17:29:14.419Z"
   },
   {
    "duration": 7,
    "start_time": "2022-08-30T17:29:14.424Z"
   },
   {
    "duration": 8,
    "start_time": "2022-08-30T17:29:14.432Z"
   },
   {
    "duration": 6,
    "start_time": "2022-08-30T17:29:14.442Z"
   },
   {
    "duration": 6,
    "start_time": "2022-08-30T17:29:14.450Z"
   },
   {
    "duration": 5,
    "start_time": "2022-08-30T17:29:14.823Z"
   },
   {
    "duration": 6,
    "start_time": "2022-08-30T17:29:14.830Z"
   },
   {
    "duration": 8,
    "start_time": "2022-08-30T17:29:14.838Z"
   },
   {
    "duration": 6,
    "start_time": "2022-08-30T17:29:14.847Z"
   },
   {
    "duration": 11,
    "start_time": "2022-08-30T17:29:14.855Z"
   },
   {
    "duration": 12,
    "start_time": "2022-08-30T17:29:14.867Z"
   },
   {
    "duration": 18,
    "start_time": "2022-08-30T17:29:14.881Z"
   },
   {
    "duration": 3,
    "start_time": "2022-08-30T17:29:14.901Z"
   },
   {
    "duration": 11,
    "start_time": "2022-08-30T17:29:14.906Z"
   },
   {
    "duration": 4,
    "start_time": "2022-08-30T17:29:14.918Z"
   },
   {
    "duration": 170,
    "start_time": "2022-08-30T17:29:14.924Z"
   },
   {
    "duration": 121,
    "start_time": "2022-08-30T17:29:15.095Z"
   },
   {
    "duration": 6,
    "start_time": "2022-08-30T17:29:15.217Z"
   },
   {
    "duration": 5,
    "start_time": "2022-08-30T17:29:15.225Z"
   },
   {
    "duration": 192,
    "start_time": "2022-08-30T17:29:15.232Z"
   },
   {
    "duration": 188,
    "start_time": "2022-08-30T17:29:15.426Z"
   },
   {
    "duration": 7,
    "start_time": "2022-08-30T17:29:15.615Z"
   },
   {
    "duration": 324,
    "start_time": "2022-08-30T17:29:15.623Z"
   },
   {
    "duration": 4,
    "start_time": "2022-08-30T17:29:15.954Z"
   },
   {
    "duration": 8,
    "start_time": "2022-08-30T17:29:15.959Z"
   },
   {
    "duration": 193,
    "start_time": "2022-08-30T17:29:15.969Z"
   },
   {
    "duration": 7,
    "start_time": "2022-08-30T17:29:16.164Z"
   },
   {
    "duration": 294,
    "start_time": "2022-08-30T17:29:16.172Z"
   },
   {
    "duration": 7,
    "start_time": "2022-08-30T17:29:16.468Z"
   },
   {
    "duration": 138,
    "start_time": "2022-08-30T17:29:16.476Z"
   },
   {
    "duration": 4,
    "start_time": "2022-08-30T17:29:16.615Z"
   },
   {
    "duration": 244,
    "start_time": "2022-08-30T17:29:16.621Z"
   },
   {
    "duration": 135,
    "start_time": "2022-08-30T17:29:16.867Z"
   },
   {
    "duration": 4,
    "start_time": "2022-08-30T17:29:17.004Z"
   },
   {
    "duration": 6,
    "start_time": "2022-08-30T17:29:17.010Z"
   },
   {
    "duration": 119,
    "start_time": "2022-08-30T17:29:17.017Z"
   },
   {
    "duration": 6,
    "start_time": "2022-08-30T17:29:17.137Z"
   },
   {
    "duration": 25,
    "start_time": "2022-08-30T17:29:17.144Z"
   },
   {
    "duration": 8,
    "start_time": "2022-08-30T17:29:17.171Z"
   },
   {
    "duration": 2,
    "start_time": "2022-08-30T17:29:17.180Z"
   },
   {
    "duration": 9,
    "start_time": "2022-08-30T17:29:17.183Z"
   },
   {
    "duration": 7,
    "start_time": "2022-08-30T17:29:17.193Z"
   },
   {
    "duration": 18,
    "start_time": "2022-08-30T17:29:17.201Z"
   },
   {
    "duration": 38,
    "start_time": "2022-08-30T17:29:17.220Z"
   },
   {
    "duration": 20,
    "start_time": "2022-08-30T17:43:06.494Z"
   },
   {
    "duration": 13,
    "start_time": "2022-08-30T17:46:13.537Z"
   },
   {
    "duration": 19,
    "start_time": "2022-08-30T17:48:37.748Z"
   },
   {
    "duration": 13,
    "start_time": "2022-08-30T17:51:34.909Z"
   },
   {
    "duration": 18,
    "start_time": "2022-08-30T17:52:08.701Z"
   },
   {
    "duration": 10,
    "start_time": "2022-08-30T17:53:22.803Z"
   },
   {
    "duration": 1182,
    "start_time": "2022-08-31T14:41:49.425Z"
   },
   {
    "duration": 213,
    "start_time": "2022-08-31T14:41:50.611Z"
   },
   {
    "duration": 3,
    "start_time": "2022-08-31T14:41:50.826Z"
   },
   {
    "duration": 10,
    "start_time": "2022-08-31T14:41:50.831Z"
   },
   {
    "duration": 14,
    "start_time": "2022-08-31T14:41:50.842Z"
   },
   {
    "duration": 7,
    "start_time": "2022-08-31T14:41:50.858Z"
   },
   {
    "duration": 8,
    "start_time": "2022-08-31T14:41:50.867Z"
   },
   {
    "duration": 8,
    "start_time": "2022-08-31T14:41:50.876Z"
   },
   {
    "duration": 6,
    "start_time": "2022-08-31T14:41:50.885Z"
   },
   {
    "duration": 7,
    "start_time": "2022-08-31T14:41:50.894Z"
   },
   {
    "duration": 7,
    "start_time": "2022-08-31T14:41:50.902Z"
   },
   {
    "duration": 19,
    "start_time": "2022-08-31T14:41:50.910Z"
   },
   {
    "duration": 14,
    "start_time": "2022-08-31T14:41:50.931Z"
   },
   {
    "duration": 19,
    "start_time": "2022-08-31T14:41:50.946Z"
   },
   {
    "duration": 4,
    "start_time": "2022-08-31T14:41:50.967Z"
   },
   {
    "duration": 14,
    "start_time": "2022-08-31T14:41:50.973Z"
   },
   {
    "duration": 20,
    "start_time": "2022-08-31T14:41:50.994Z"
   },
   {
    "duration": 175,
    "start_time": "2022-08-31T14:41:51.016Z"
   },
   {
    "duration": 156,
    "start_time": "2022-08-31T14:41:51.192Z"
   },
   {
    "duration": 6,
    "start_time": "2022-08-31T14:41:51.350Z"
   },
   {
    "duration": 16,
    "start_time": "2022-08-31T14:41:51.358Z"
   },
   {
    "duration": 303,
    "start_time": "2022-08-31T14:41:51.375Z"
   },
   {
    "duration": 216,
    "start_time": "2022-08-31T14:41:51.680Z"
   },
   {
    "duration": 6,
    "start_time": "2022-08-31T14:41:51.897Z"
   },
   {
    "duration": 289,
    "start_time": "2022-08-31T14:41:51.910Z"
   },
   {
    "duration": 13,
    "start_time": "2022-08-31T14:41:52.200Z"
   },
   {
    "duration": 9,
    "start_time": "2022-08-31T14:41:52.214Z"
   },
   {
    "duration": 193,
    "start_time": "2022-08-31T14:41:52.227Z"
   },
   {
    "duration": 8,
    "start_time": "2022-08-31T14:41:52.421Z"
   },
   {
    "duration": 354,
    "start_time": "2022-08-31T14:41:52.431Z"
   },
   {
    "duration": 12,
    "start_time": "2022-08-31T14:41:52.787Z"
   },
   {
    "duration": 149,
    "start_time": "2022-08-31T14:41:52.801Z"
   },
   {
    "duration": 5,
    "start_time": "2022-08-31T14:41:52.951Z"
   },
   {
    "duration": 144,
    "start_time": "2022-08-31T14:41:52.957Z"
   },
   {
    "duration": 184,
    "start_time": "2022-08-31T14:41:53.103Z"
   },
   {
    "duration": 4,
    "start_time": "2022-08-31T14:41:53.288Z"
   },
   {
    "duration": 145,
    "start_time": "2022-08-31T14:41:53.293Z"
   },
   {
    "duration": 112,
    "start_time": "2022-08-31T14:41:53.440Z"
   },
   {
    "duration": 0,
    "start_time": "2022-08-31T14:41:53.553Z"
   },
   {
    "duration": 0,
    "start_time": "2022-08-31T14:41:53.554Z"
   },
   {
    "duration": 0,
    "start_time": "2022-08-31T14:41:53.555Z"
   },
   {
    "duration": 0,
    "start_time": "2022-08-31T14:41:53.556Z"
   },
   {
    "duration": 0,
    "start_time": "2022-08-31T14:41:53.557Z"
   },
   {
    "duration": 0,
    "start_time": "2022-08-31T14:41:53.558Z"
   }
  ],
  "kernelspec": {
   "display_name": "Python 3 (ipykernel)",
   "language": "python",
   "name": "python3"
  },
  "language_info": {
   "codemirror_mode": {
    "name": "ipython",
    "version": 3
   },
   "file_extension": ".py",
   "mimetype": "text/x-python",
   "name": "python",
   "nbconvert_exporter": "python",
   "pygments_lexer": "ipython3",
   "version": "3.9.7"
  },
  "toc": {
   "base_numbering": 1,
   "nav_menu": {},
   "number_sections": false,
   "sideBar": true,
   "skip_h1_title": false,
   "title_cell": "Table of Contents",
   "title_sidebar": "Contents",
   "toc_cell": false,
   "toc_position": {
    "height": "calc(100% - 180px)",
    "left": "10px",
    "top": "150px",
    "width": "338.625px"
   },
   "toc_section_display": true,
   "toc_window_display": true
  }
 },
 "nbformat": 4,
 "nbformat_minor": 2
}
