{
 "cells": [
  {
   "cell_type": "markdown",
   "id": "6fb96d92",
   "metadata": {},
   "source": [
    "# Автоматизация сбора и визуализации данных агрегатора новостей"
   ]
  },
  {
   "cell_type": "markdown",
   "id": "93c447a0",
   "metadata": {},
   "source": [
    "Цель - анализ взаимодействия пользователей с карточками Яндекс.Дзен. Надо наладить ежедневное получение данных о взаимодействии, а также построение на их основе дашборда для менеджеров по анализу контента.\n",
    "\n",
    "\n",
    "**Использованные данные**: \n",
    "\n",
    "Таблица dash_visits. \n",
    "- record_id — первичный ключ,\n",
    "- item_topic — тема карточки,\n",
    "- source_topic — тема источника,\n",
    "- age_segment — возрастной сегмент,\n",
    "- dt — дата и время,\n",
    "- visits — количество событий.\n",
    "\n",
    "**Состав данных для дашборда**:\n",
    "\n",
    "- История событий по темам карточек (два графика - абсолютные числа и процентное соотношение);\n",
    "- Разбивка событий по темам источников;\n",
    "- Таблица соответствия тем источников темам карточек;\n",
    "\n",
    "По каким параметрам данные должны группироваться:\n",
    "\n",
    "- Дата и время;\n",
    "- Тема карточки;\n",
    "- Тема источника;\n",
    "- Возрастная группа;\n",
    "\n",
    "Характер данных:\n",
    "\n",
    "- История событий по темам карточек — абсолютные величины с разбивкой по минутам;\n",
    "- Разбивка событий по темам источников — относительные величины (% событий);\n",
    "- Соответствия тем источников темам карточек - абсолютные величины;"
   ]
  },
  {
   "cell_type": "code",
   "execution_count": 1,
   "id": "7e7ba9a5",
   "metadata": {},
   "outputs": [],
   "source": [
    "# импортируем библиотеки\n",
    "import pandas as pd\n",
    "from sqlalchemy import create_engine\n",
    "from datetime import datetime, timedelta\n"
   ]
  },
  {
   "cell_type": "code",
   "execution_count": 2,
   "id": "1007e2f5",
   "metadata": {},
   "outputs": [
    {
     "name": "stdout",
     "output_type": "stream",
     "text": [
      "Requirement already satisfied: psycopg2-binary in c:\\users\\dsaulin\\anaconda3\\lib\\site-packages (2.9.4)\n"
     ]
    },
    {
     "name": "stderr",
     "output_type": "stream",
     "text": [
      "\n",
      "[notice] A new release of pip available: 22.2.2 -> 23.0.1\n",
      "[notice] To update, run: python.exe -m pip install --upgrade pip\n"
     ]
    }
   ],
   "source": [
    "!pip install psycopg2-binary"
   ]
  },
  {
   "cell_type": "code",
   "execution_count": 3,
   "id": "3e2670a4",
   "metadata": {},
   "outputs": [],
   "source": [
    "db_config = {'user': 'praktikum_student', # имя пользователя\n",
    "            'pwd': 'Sdf4$2;d-d30pp', # пароль\n",
    "            'host': 'rc1b-wcoijxj3yxfsf3fs.mdb.yandexcloud.net',\n",
    "            'port': 6432, # порт подключения\n",
    "            'db': 'data-analyst-zen-project-db'} # название базы данных\n",
    "\n",
    "connection_string = 'postgresql://{}:{}@{}:{}/{}'.format(db_config['user'],\n",
    "                                                db_config['pwd'],\n",
    "                                                db_config['host'],\n",
    "                                                db_config['port'],\n",
    "                                                db_config['db'])\n",
    "\n",
    "engine = create_engine(connection_string)"
   ]
  },
  {
   "cell_type": "code",
   "execution_count": 70,
   "id": "371b0815",
   "metadata": {},
   "outputs": [],
   "source": [
    "# pd.io.sql.read_sql(query, con = engine) "
   ]
  },
  {
   "cell_type": "code",
   "execution_count": 4,
   "id": "c6fad7c3",
   "metadata": {},
   "outputs": [],
   "source": [
    "query = '''\n",
    "            SELECT *\n",
    "            FROM dash_visits\n",
    "        '''"
   ]
  },
  {
   "cell_type": "code",
   "execution_count": 5,
   "id": "df6a43fa",
   "metadata": {
    "scrolled": true
   },
   "outputs": [
    {
     "name": "stdout",
     "output_type": "stream",
     "text": [
      "   record_id item_topic source_topic age_segment                  dt  visits\n",
      "0    1040597     Деньги         Авто       18-25 2019-09-24 18:32:00       3\n",
      "1    1040598     Деньги         Авто       18-25 2019-09-24 18:35:00       1\n",
      "2    1040599     Деньги         Авто       18-25 2019-09-24 18:54:00       4\n",
      "3    1040600     Деньги         Авто       18-25 2019-09-24 18:55:00      17\n",
      "4    1040601     Деньги         Авто       18-25 2019-09-24 18:56:00      27\n"
     ]
    }
   ],
   "source": [
    "dash_visits = pd.io.sql.read_sql(query, con = engine)\n",
    "print(dash_visits.head(5))"
   ]
  },
  {
   "cell_type": "code",
   "execution_count": 6,
   "id": "5015261b",
   "metadata": {},
   "outputs": [],
   "source": [
    "dash_visits.to_csv('dash_visits.csv', index=False)"
   ]
  },
  {
   "cell_type": "code",
   "execution_count": 8,
   "id": "ebf8783a",
   "metadata": {
    "scrolled": true
   },
   "outputs": [
    {
     "name": "stdout",
     "output_type": "stream",
     "text": [
      "2019-09-24 18:28:00 2019-09-24 19:00:00\n"
     ]
    }
   ],
   "source": [
    "print(dash_visits['dt'].min(), dash_visits['dt'].max())"
   ]
  },
  {
   "cell_type": "code",
   "execution_count": 9,
   "id": "dbd8589b",
   "metadata": {
    "scrolled": true
   },
   "outputs": [
    {
     "data": {
      "text/html": [
       "<div>\n",
       "<style scoped>\n",
       "    .dataframe tbody tr th:only-of-type {\n",
       "        vertical-align: middle;\n",
       "    }\n",
       "\n",
       "    .dataframe tbody tr th {\n",
       "        vertical-align: top;\n",
       "    }\n",
       "\n",
       "    .dataframe thead th {\n",
       "        text-align: right;\n",
       "    }\n",
       "</style>\n",
       "<table border=\"1\" class=\"dataframe\">\n",
       "  <thead>\n",
       "    <tr style=\"text-align: right;\">\n",
       "      <th></th>\n",
       "      <th>record_id</th>\n",
       "      <th>item_topic</th>\n",
       "      <th>source_topic</th>\n",
       "      <th>age_segment</th>\n",
       "      <th>dt</th>\n",
       "      <th>visits</th>\n",
       "    </tr>\n",
       "  </thead>\n",
       "  <tbody>\n",
       "    <tr>\n",
       "      <th>0</th>\n",
       "      <td>1040597</td>\n",
       "      <td>Деньги</td>\n",
       "      <td>Авто</td>\n",
       "      <td>18-25</td>\n",
       "      <td>2019-09-24 18:32:00</td>\n",
       "      <td>3</td>\n",
       "    </tr>\n",
       "    <tr>\n",
       "      <th>1</th>\n",
       "      <td>1040598</td>\n",
       "      <td>Деньги</td>\n",
       "      <td>Авто</td>\n",
       "      <td>18-25</td>\n",
       "      <td>2019-09-24 18:35:00</td>\n",
       "      <td>1</td>\n",
       "    </tr>\n",
       "    <tr>\n",
       "      <th>2</th>\n",
       "      <td>1040599</td>\n",
       "      <td>Деньги</td>\n",
       "      <td>Авто</td>\n",
       "      <td>18-25</td>\n",
       "      <td>2019-09-24 18:54:00</td>\n",
       "      <td>4</td>\n",
       "    </tr>\n",
       "    <tr>\n",
       "      <th>3</th>\n",
       "      <td>1040600</td>\n",
       "      <td>Деньги</td>\n",
       "      <td>Авто</td>\n",
       "      <td>18-25</td>\n",
       "      <td>2019-09-24 18:55:00</td>\n",
       "      <td>17</td>\n",
       "    </tr>\n",
       "    <tr>\n",
       "      <th>4</th>\n",
       "      <td>1040601</td>\n",
       "      <td>Деньги</td>\n",
       "      <td>Авто</td>\n",
       "      <td>18-25</td>\n",
       "      <td>2019-09-24 18:56:00</td>\n",
       "      <td>27</td>\n",
       "    </tr>\n",
       "  </tbody>\n",
       "</table>\n",
       "</div>"
      ],
      "text/plain": [
       "   record_id item_topic source_topic age_segment                  dt  visits\n",
       "0    1040597     Деньги         Авто       18-25 2019-09-24 18:32:00       3\n",
       "1    1040598     Деньги         Авто       18-25 2019-09-24 18:35:00       1\n",
       "2    1040599     Деньги         Авто       18-25 2019-09-24 18:54:00       4\n",
       "3    1040600     Деньги         Авто       18-25 2019-09-24 18:55:00      17\n",
       "4    1040601     Деньги         Авто       18-25 2019-09-24 18:56:00      27"
      ]
     },
     "execution_count": 9,
     "metadata": {},
     "output_type": "execute_result"
    }
   ],
   "source": [
    "dash_visits.head()"
   ]
  },
  {
   "cell_type": "code",
   "execution_count": 10,
   "id": "fd5ae7a6",
   "metadata": {
    "scrolled": true
   },
   "outputs": [
    {
     "name": "stdout",
     "output_type": "stream",
     "text": [
      "<class 'pandas.core.frame.DataFrame'>\n",
      "RangeIndex: 30745 entries, 0 to 30744\n",
      "Data columns (total 6 columns):\n",
      " #   Column        Non-Null Count  Dtype         \n",
      "---  ------        --------------  -----         \n",
      " 0   record_id     30745 non-null  int64         \n",
      " 1   item_topic    30745 non-null  object        \n",
      " 2   source_topic  30745 non-null  object        \n",
      " 3   age_segment   30745 non-null  object        \n",
      " 4   dt            30745 non-null  datetime64[ns]\n",
      " 5   visits        30745 non-null  int64         \n",
      "dtypes: datetime64[ns](1), int64(2), object(3)\n",
      "memory usage: 1.4+ MB\n"
     ]
    }
   ],
   "source": [
    "dash_visits.info()"
   ]
  },
  {
   "cell_type": "code",
   "execution_count": 11,
   "id": "6a87eabc",
   "metadata": {},
   "outputs": [],
   "source": [
    "visits_groupby = dash_visits.groupby('item_topic').agg({'visits': 'sum'})"
   ]
  },
  {
   "cell_type": "code",
   "execution_count": 12,
   "id": "cd8c8c93",
   "metadata": {
    "scrolled": false
   },
   "outputs": [
    {
     "data": {
      "text/html": [
       "<div>\n",
       "<style scoped>\n",
       "    .dataframe tbody tr th:only-of-type {\n",
       "        vertical-align: middle;\n",
       "    }\n",
       "\n",
       "    .dataframe tbody tr th {\n",
       "        vertical-align: top;\n",
       "    }\n",
       "\n",
       "    .dataframe thead th {\n",
       "        text-align: right;\n",
       "    }\n",
       "</style>\n",
       "<table border=\"1\" class=\"dataframe\">\n",
       "  <thead>\n",
       "    <tr style=\"text-align: right;\">\n",
       "      <th></th>\n",
       "      <th>visits</th>\n",
       "    </tr>\n",
       "    <tr>\n",
       "      <th>item_topic</th>\n",
       "      <th></th>\n",
       "    </tr>\n",
       "  </thead>\n",
       "  <tbody>\n",
       "    <tr>\n",
       "      <th>Наука</th>\n",
       "      <td>21736</td>\n",
       "    </tr>\n",
       "    <tr>\n",
       "      <th>Отношения</th>\n",
       "      <td>20666</td>\n",
       "    </tr>\n",
       "    <tr>\n",
       "      <th>Интересные факты</th>\n",
       "      <td>19942</td>\n",
       "    </tr>\n",
       "    <tr>\n",
       "      <th>Общество</th>\n",
       "      <td>19640</td>\n",
       "    </tr>\n",
       "    <tr>\n",
       "      <th>Подборки</th>\n",
       "      <td>17772</td>\n",
       "    </tr>\n",
       "    <tr>\n",
       "      <th>Россия</th>\n",
       "      <td>16966</td>\n",
       "    </tr>\n",
       "    <tr>\n",
       "      <th>Полезные советы</th>\n",
       "      <td>15435</td>\n",
       "    </tr>\n",
       "    <tr>\n",
       "      <th>История</th>\n",
       "      <td>15389</td>\n",
       "    </tr>\n",
       "    <tr>\n",
       "      <th>Семья</th>\n",
       "      <td>11897</td>\n",
       "    </tr>\n",
       "    <tr>\n",
       "      <th>Женщины</th>\n",
       "      <td>11499</td>\n",
       "    </tr>\n",
       "    <tr>\n",
       "      <th>Дети</th>\n",
       "      <td>10989</td>\n",
       "    </tr>\n",
       "    <tr>\n",
       "      <th>Рассказы</th>\n",
       "      <td>10909</td>\n",
       "    </tr>\n",
       "    <tr>\n",
       "      <th>Здоровье</th>\n",
       "      <td>10399</td>\n",
       "    </tr>\n",
       "    <tr>\n",
       "      <th>Деньги</th>\n",
       "      <td>10291</td>\n",
       "    </tr>\n",
       "    <tr>\n",
       "      <th>Культура</th>\n",
       "      <td>10205</td>\n",
       "    </tr>\n",
       "    <tr>\n",
       "      <th>Красота</th>\n",
       "      <td>9814</td>\n",
       "    </tr>\n",
       "    <tr>\n",
       "      <th>Туризм</th>\n",
       "      <td>9512</td>\n",
       "    </tr>\n",
       "    <tr>\n",
       "      <th>Юмор</th>\n",
       "      <td>9398</td>\n",
       "    </tr>\n",
       "    <tr>\n",
       "      <th>Скандалы</th>\n",
       "      <td>9294</td>\n",
       "    </tr>\n",
       "    <tr>\n",
       "      <th>Путешествия</th>\n",
       "      <td>9260</td>\n",
       "    </tr>\n",
       "    <tr>\n",
       "      <th>Искусство</th>\n",
       "      <td>8516</td>\n",
       "    </tr>\n",
       "    <tr>\n",
       "      <th>Психология</th>\n",
       "      <td>8036</td>\n",
       "    </tr>\n",
       "    <tr>\n",
       "      <th>Женская психология</th>\n",
       "      <td>7737</td>\n",
       "    </tr>\n",
       "    <tr>\n",
       "      <th>Шоу</th>\n",
       "      <td>7511</td>\n",
       "    </tr>\n",
       "    <tr>\n",
       "      <th>Знаменитости</th>\n",
       "      <td>7394</td>\n",
       "    </tr>\n",
       "  </tbody>\n",
       "</table>\n",
       "</div>"
      ],
      "text/plain": [
       "                    visits\n",
       "item_topic                \n",
       "Наука                21736\n",
       "Отношения            20666\n",
       "Интересные факты     19942\n",
       "Общество             19640\n",
       "Подборки             17772\n",
       "Россия               16966\n",
       "Полезные советы      15435\n",
       "История              15389\n",
       "Семья                11897\n",
       "Женщины              11499\n",
       "Дети                 10989\n",
       "Рассказы             10909\n",
       "Здоровье             10399\n",
       "Деньги               10291\n",
       "Культура             10205\n",
       "Красота               9814\n",
       "Туризм                9512\n",
       "Юмор                  9398\n",
       "Скандалы              9294\n",
       "Путешествия           9260\n",
       "Искусство             8516\n",
       "Психология            8036\n",
       "Женская психология    7737\n",
       "Шоу                   7511\n",
       "Знаменитости          7394"
      ]
     },
     "execution_count": 12,
     "metadata": {},
     "output_type": "execute_result"
    }
   ],
   "source": [
    "visits_groupby.sort_values(by='visits', ascending=False)"
   ]
  },
  {
   "cell_type": "code",
   "execution_count": 13,
   "id": "4152e263",
   "metadata": {},
   "outputs": [],
   "source": [
    "visits_groupby_source = dash_visits.groupby('source_topic').agg({'item_topic': 'nunique'})"
   ]
  },
  {
   "cell_type": "code",
   "execution_count": 14,
   "id": "1c799456",
   "metadata": {
    "scrolled": true
   },
   "outputs": [
    {
     "data": {
      "text/html": [
       "<div>\n",
       "<style scoped>\n",
       "    .dataframe tbody tr th:only-of-type {\n",
       "        vertical-align: middle;\n",
       "    }\n",
       "\n",
       "    .dataframe tbody tr th {\n",
       "        vertical-align: top;\n",
       "    }\n",
       "\n",
       "    .dataframe thead th {\n",
       "        text-align: right;\n",
       "    }\n",
       "</style>\n",
       "<table border=\"1\" class=\"dataframe\">\n",
       "  <thead>\n",
       "    <tr style=\"text-align: right;\">\n",
       "      <th></th>\n",
       "      <th>item_topic</th>\n",
       "    </tr>\n",
       "    <tr>\n",
       "      <th>source_topic</th>\n",
       "      <th></th>\n",
       "    </tr>\n",
       "  </thead>\n",
       "  <tbody>\n",
       "    <tr>\n",
       "      <th>Авто</th>\n",
       "      <td>25</td>\n",
       "    </tr>\n",
       "    <tr>\n",
       "      <th>Одежда</th>\n",
       "      <td>25</td>\n",
       "    </tr>\n",
       "    <tr>\n",
       "      <th>Спорт</th>\n",
       "      <td>25</td>\n",
       "    </tr>\n",
       "    <tr>\n",
       "      <th>Семья</th>\n",
       "      <td>25</td>\n",
       "    </tr>\n",
       "    <tr>\n",
       "      <th>Семейные отношения</th>\n",
       "      <td>25</td>\n",
       "    </tr>\n",
       "    <tr>\n",
       "      <th>Россия</th>\n",
       "      <td>25</td>\n",
       "    </tr>\n",
       "    <tr>\n",
       "      <th>Ремонт</th>\n",
       "      <td>25</td>\n",
       "    </tr>\n",
       "    <tr>\n",
       "      <th>Путешествия</th>\n",
       "      <td>25</td>\n",
       "    </tr>\n",
       "    <tr>\n",
       "      <th>Психология</th>\n",
       "      <td>25</td>\n",
       "    </tr>\n",
       "    <tr>\n",
       "      <th>Деньги</th>\n",
       "      <td>25</td>\n",
       "    </tr>\n",
       "    <tr>\n",
       "      <th>Полезные советы</th>\n",
       "      <td>25</td>\n",
       "    </tr>\n",
       "    <tr>\n",
       "      <th>Политика</th>\n",
       "      <td>25</td>\n",
       "    </tr>\n",
       "    <tr>\n",
       "      <th>Музыка</th>\n",
       "      <td>25</td>\n",
       "    </tr>\n",
       "    <tr>\n",
       "      <th>Кино</th>\n",
       "      <td>25</td>\n",
       "    </tr>\n",
       "    <tr>\n",
       "      <th>История</th>\n",
       "      <td>25</td>\n",
       "    </tr>\n",
       "    <tr>\n",
       "      <th>Искусство</th>\n",
       "      <td>25</td>\n",
       "    </tr>\n",
       "    <tr>\n",
       "      <th>Знаменитости</th>\n",
       "      <td>25</td>\n",
       "    </tr>\n",
       "    <tr>\n",
       "      <th>Здоровье</th>\n",
       "      <td>25</td>\n",
       "    </tr>\n",
       "    <tr>\n",
       "      <th>Еда</th>\n",
       "      <td>25</td>\n",
       "    </tr>\n",
       "    <tr>\n",
       "      <th>Дети</th>\n",
       "      <td>25</td>\n",
       "    </tr>\n",
       "    <tr>\n",
       "      <th>Финансы</th>\n",
       "      <td>25</td>\n",
       "    </tr>\n",
       "    <tr>\n",
       "      <th>Интерьеры</th>\n",
       "      <td>24</td>\n",
       "    </tr>\n",
       "    <tr>\n",
       "      <th>Сад и дача</th>\n",
       "      <td>24</td>\n",
       "    </tr>\n",
       "    <tr>\n",
       "      <th>Сделай сам</th>\n",
       "      <td>24</td>\n",
       "    </tr>\n",
       "    <tr>\n",
       "      <th>Технологии</th>\n",
       "      <td>24</td>\n",
       "    </tr>\n",
       "    <tr>\n",
       "      <th>Строительство</th>\n",
       "      <td>23</td>\n",
       "    </tr>\n",
       "  </tbody>\n",
       "</table>\n",
       "</div>"
      ],
      "text/plain": [
       "                    item_topic\n",
       "source_topic                  \n",
       "Авто                        25\n",
       "Одежда                      25\n",
       "Спорт                       25\n",
       "Семья                       25\n",
       "Семейные отношения          25\n",
       "Россия                      25\n",
       "Ремонт                      25\n",
       "Путешествия                 25\n",
       "Психология                  25\n",
       "Деньги                      25\n",
       "Полезные советы             25\n",
       "Политика                    25\n",
       "Музыка                      25\n",
       "Кино                        25\n",
       "История                     25\n",
       "Искусство                   25\n",
       "Знаменитости                25\n",
       "Здоровье                    25\n",
       "Еда                         25\n",
       "Дети                        25\n",
       "Финансы                     25\n",
       "Интерьеры                   24\n",
       "Сад и дача                  24\n",
       "Сделай сам                  24\n",
       "Технологии                  24\n",
       "Строительство               23"
      ]
     },
     "execution_count": 14,
     "metadata": {},
     "output_type": "execute_result"
    }
   ],
   "source": [
    "visits_groupby_source.sort_values(by='item_topic', ascending=False)"
   ]
  },
  {
   "cell_type": "markdown",
   "id": "5a21b410",
   "metadata": {},
   "source": [
    "## Итоги:\n",
    "\n",
    "1. [Дашборд](https://public.tableau.com/views/__16656871653700/sheet4?:language=en-US&publish=yes&:display_count=n&:origin=viz_share_link \"Дашборд\"), который был построен в Tableau Public\n",
    "2. [Презентация](https://disk.yandex.ru/i/Mr-Y98iqDX9H0g \"Презентация\") дашборда"
   ]
  }
 ],
 "metadata": {
  "kernelspec": {
   "display_name": "Python 3 (ipykernel)",
   "language": "python",
   "name": "python3"
  },
  "language_info": {
   "codemirror_mode": {
    "name": "ipython",
    "version": 3
   },
   "file_extension": ".py",
   "mimetype": "text/x-python",
   "name": "python",
   "nbconvert_exporter": "python",
   "pygments_lexer": "ipython3",
   "version": "3.9.7"
  },
  "toc": {
   "base_numbering": 1,
   "nav_menu": {},
   "number_sections": true,
   "sideBar": true,
   "skip_h1_title": false,
   "title_cell": "Table of Contents",
   "title_sidebar": "Contents",
   "toc_cell": false,
   "toc_position": {},
   "toc_section_display": true,
   "toc_window_display": false
  }
 },
 "nbformat": 4,
 "nbformat_minor": 5
}
