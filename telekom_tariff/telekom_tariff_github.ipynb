{
 "cells": [
  {
   "cell_type": "markdown",
   "id": "fe036931",
   "metadata": {},
   "source": [
    "# Исследование тарифов телеком-компании"
   ]
  },
  {
   "cell_type": "markdown",
   "id": "8b655850",
   "metadata": {},
   "source": [
    "«Мегалайн» — федеральный оператор сотовой связи. Клиентам предлагают два тарифных плана: «Смарт» и «Ультра». Чтобы скорректировать рекламный бюджет, коммерческий департамент хочет понять, какой тариф приносит больше денег.\n",
    "Нам предстоит сделать предварительный анализ тарифов на небольшой выборке клиентов. В вашем распоряжении данные 500 пользователей «Мегалайна»: кто они, откуда, каким тарифом пользуются, сколько звонков и сообщений каждый отправил за 2018 год. Нужно проанализировать поведение клиентов и сделать вывод — какой тариф лучше."
   ]
  },
  {
   "cell_type": "markdown",
   "id": "62778ef5",
   "metadata": {},
   "source": [
    "Нам предстоит выполнение следующих **задач**:\n",
    "- Изучить данные из нескольких датасетов;\n",
    "- При необходимости исправить ошибки данных, изучить выбросы;\n",
    "- Объединить все доступные данные по пользователям, которые разделены по датасетам, проверить, нет ли потерь при объединении, заполнить пропуски данных;\n",
    "- Проанализировать поведение пользователей 2-х тарифов, определить, какой тариф выгоднее для оператора (и с т.зр. выручки, и с т.зр. роста количества пользователей и увеличения их активности.)\n",
    "- Проверить гипотезы о сходстве/различии средних выручки 2-х тарифов, а также от сходстве/различии средних выручек московских и региональных пользователей;\n",
    "- Сформулировать общие выводы, а также идеи, которые позволят бизнесу принять решения о развитии тарифной политики;"
   ]
  },
  {
   "cell_type": "markdown",
   "id": "9879f301",
   "metadata": {},
   "source": [
    "**Использованные данные**:\n",
    "\n",
    "Таблица users (информация о пользователях):\n",
    "\n",
    "- user_id — уникальный идентификатор пользователя\n",
    "- first_name — имя пользователя\n",
    "- last_name — фамилия пользователя\n",
    "- age — возраст пользователя (годы)\n",
    "- reg_date — дата подключения тарифа (день, месяц, год)\n",
    "- churn_date — дата прекращения пользования тарифом (если значение пропущено, то тариф ещё действовал на момент выгрузки данных)\n",
    "- city — город проживания пользователя\n",
    "- tariff — название тарифного плана\n",
    "\n",
    "Таблица calls (информация о звонках):\n",
    "\n",
    "- id — уникальный номер звонка\n",
    "- call_date — дата звонка\n",
    "- duration — длительность звонка в минутах\n",
    "- user_id — идентификатор пользователя, сделавшего звонок\n",
    "\n",
    "Таблица messages (информация о сообщениях):\n",
    "\n",
    "- id — уникальный номер сообщения\n",
    "- message_date — дата сообщения\n",
    "- user_id — идентификатор пользователя, отправившего сообщение\n",
    "\n",
    "Таблица internet (информация об интернет-сессиях):\n",
    "\n",
    "- id — уникальный номер сессии\n",
    "- mb_used — объём потраченного за сессию интернет-трафика (в мегабайтах)\n",
    "- session_date — дата интернет-сессии\n",
    "- user_id — идентификатор пользователя\n",
    "\n",
    "Таблица tariffs (информация о тарифах):\n",
    "\n",
    "- tariff_name — название тарифа\n",
    "- rub_monthly_fee — ежемесячная абонентская плата в рублях\n",
    "- minutes_included — количество минут разговора в месяц, включённых в абонентскую плату\n",
    "- messages_included — количество сообщений в месяц, включённых в абонентскую плату\n",
    "- mb_per_month_included — объём интернет-трафика, включённого в абонентскую плату (в мегабайтах)\n",
    "- rub_per_minute — стоимость минуты разговора сверх тарифного пакета (например, если в тарифе 100 минут разговора в месяц, то со 101 минуты будет взиматься плата)\n",
    "- rub_per_message — стоимость отправки сообщения сверх тарифного пакета\n",
    "- rub_per_gb — стоимость дополнительного гигабайта интернет-трафика сверх тарифного пакета (1 гигабайт = 1024 мегабайта)\n"
   ]
  },
  {
   "cell_type": "markdown",
   "id": "3fae8c4f",
   "metadata": {},
   "source": [
    "## Изучение данных из файла"
   ]
  },
  {
   "cell_type": "markdown",
   "id": "5ba08065",
   "metadata": {},
   "source": [
    "Импортируем датасеты с данными о поведении пользователей 2-х тарифов телеком-компании."
   ]
  },
  {
   "cell_type": "code",
   "execution_count": 169,
   "id": "b455337f",
   "metadata": {},
   "outputs": [],
   "source": [
    "import pandas as pd\n",
    "import numpy as np\n",
    "import matplotlib.pyplot as plt\n",
    "import math\n",
    "from scipy import stats as st\n",
    "import seaborn as sns"
   ]
  },
  {
   "cell_type": "code",
   "execution_count": 170,
   "id": "efef82d9",
   "metadata": {},
   "outputs": [],
   "source": [
    "try:\n",
    "    df_calls = pd.read_csv('calls.csv')\n",
    "    df_internet = pd.read_csv('internet.csv', index_col=0)\n",
    "    df_messages = pd.read_csv('messages.csv')\n",
    "    df_tariffs = pd.read_csv('tariffs.csv')\n",
    "    df_users = pd.read_csv('users.csv')\n",
    "except:\n",
    "    df_internet = pd.read_csv('/datasets/internet.csv', index_col=0)\n",
    "    df_calls = pd.read_csv('/datasets/calls.csv')\n",
    "    df_messages = pd.read_csv('/datasets/messages.csv')\n",
    "    df_tariffs = pd.read_csv('/datasets/tariffs.csv')\n",
    "    df_users = pd.read_csv('/datasets/users.csv')"
   ]
  },
  {
   "cell_type": "code",
   "execution_count": 171,
   "id": "0585bccf",
   "metadata": {
    "scrolled": false
   },
   "outputs": [
    {
     "data": {
      "text/html": [
       "<div>\n",
       "<style scoped>\n",
       "    .dataframe tbody tr th:only-of-type {\n",
       "        vertical-align: middle;\n",
       "    }\n",
       "\n",
       "    .dataframe tbody tr th {\n",
       "        vertical-align: top;\n",
       "    }\n",
       "\n",
       "    .dataframe thead th {\n",
       "        text-align: right;\n",
       "    }\n",
       "</style>\n",
       "<table border=\"1\" class=\"dataframe\">\n",
       "  <thead>\n",
       "    <tr style=\"text-align: right;\">\n",
       "      <th></th>\n",
       "      <th>id</th>\n",
       "      <th>call_date</th>\n",
       "      <th>duration</th>\n",
       "      <th>user_id</th>\n",
       "    </tr>\n",
       "  </thead>\n",
       "  <tbody>\n",
       "    <tr>\n",
       "      <th>0</th>\n",
       "      <td>1000_0</td>\n",
       "      <td>2018-07-25</td>\n",
       "      <td>0.00</td>\n",
       "      <td>1000</td>\n",
       "    </tr>\n",
       "    <tr>\n",
       "      <th>1</th>\n",
       "      <td>1000_1</td>\n",
       "      <td>2018-08-17</td>\n",
       "      <td>0.00</td>\n",
       "      <td>1000</td>\n",
       "    </tr>\n",
       "    <tr>\n",
       "      <th>2</th>\n",
       "      <td>1000_2</td>\n",
       "      <td>2018-06-11</td>\n",
       "      <td>2.85</td>\n",
       "      <td>1000</td>\n",
       "    </tr>\n",
       "    <tr>\n",
       "      <th>3</th>\n",
       "      <td>1000_3</td>\n",
       "      <td>2018-09-21</td>\n",
       "      <td>13.80</td>\n",
       "      <td>1000</td>\n",
       "    </tr>\n",
       "    <tr>\n",
       "      <th>4</th>\n",
       "      <td>1000_4</td>\n",
       "      <td>2018-12-15</td>\n",
       "      <td>5.18</td>\n",
       "      <td>1000</td>\n",
       "    </tr>\n",
       "  </tbody>\n",
       "</table>\n",
       "</div>"
      ],
      "text/plain": [
       "       id   call_date  duration  user_id\n",
       "0  1000_0  2018-07-25      0.00     1000\n",
       "1  1000_1  2018-08-17      0.00     1000\n",
       "2  1000_2  2018-06-11      2.85     1000\n",
       "3  1000_3  2018-09-21     13.80     1000\n",
       "4  1000_4  2018-12-15      5.18     1000"
      ]
     },
     "execution_count": 171,
     "metadata": {},
     "output_type": "execute_result"
    }
   ],
   "source": [
    "df_calls.head()"
   ]
  },
  {
   "cell_type": "code",
   "execution_count": 172,
   "id": "30e4f731",
   "metadata": {},
   "outputs": [
    {
     "name": "stdout",
     "output_type": "stream",
     "text": [
      "Количество уникальных пользователей: 492\n"
     ]
    }
   ],
   "source": [
    "print('Количество уникальных пользователей:', len(df_calls['user_id'].unique()))"
   ]
  },
  {
   "cell_type": "code",
   "execution_count": 173,
   "id": "3a938b5e",
   "metadata": {
    "scrolled": false
   },
   "outputs": [
    {
     "data": {
      "text/html": [
       "<div>\n",
       "<style scoped>\n",
       "    .dataframe tbody tr th:only-of-type {\n",
       "        vertical-align: middle;\n",
       "    }\n",
       "\n",
       "    .dataframe tbody tr th {\n",
       "        vertical-align: top;\n",
       "    }\n",
       "\n",
       "    .dataframe thead th {\n",
       "        text-align: right;\n",
       "    }\n",
       "</style>\n",
       "<table border=\"1\" class=\"dataframe\">\n",
       "  <thead>\n",
       "    <tr style=\"text-align: right;\">\n",
       "      <th></th>\n",
       "      <th>id</th>\n",
       "      <th>mb_used</th>\n",
       "      <th>session_date</th>\n",
       "      <th>user_id</th>\n",
       "    </tr>\n",
       "  </thead>\n",
       "  <tbody>\n",
       "    <tr>\n",
       "      <th>0</th>\n",
       "      <td>1000_0</td>\n",
       "      <td>112.95</td>\n",
       "      <td>2018-11-25</td>\n",
       "      <td>1000</td>\n",
       "    </tr>\n",
       "    <tr>\n",
       "      <th>1</th>\n",
       "      <td>1000_1</td>\n",
       "      <td>1052.81</td>\n",
       "      <td>2018-09-07</td>\n",
       "      <td>1000</td>\n",
       "    </tr>\n",
       "    <tr>\n",
       "      <th>2</th>\n",
       "      <td>1000_2</td>\n",
       "      <td>1197.26</td>\n",
       "      <td>2018-06-25</td>\n",
       "      <td>1000</td>\n",
       "    </tr>\n",
       "    <tr>\n",
       "      <th>3</th>\n",
       "      <td>1000_3</td>\n",
       "      <td>550.27</td>\n",
       "      <td>2018-08-22</td>\n",
       "      <td>1000</td>\n",
       "    </tr>\n",
       "    <tr>\n",
       "      <th>4</th>\n",
       "      <td>1000_4</td>\n",
       "      <td>302.56</td>\n",
       "      <td>2018-09-24</td>\n",
       "      <td>1000</td>\n",
       "    </tr>\n",
       "  </tbody>\n",
       "</table>\n",
       "</div>"
      ],
      "text/plain": [
       "       id  mb_used session_date  user_id\n",
       "0  1000_0   112.95   2018-11-25     1000\n",
       "1  1000_1  1052.81   2018-09-07     1000\n",
       "2  1000_2  1197.26   2018-06-25     1000\n",
       "3  1000_3   550.27   2018-08-22     1000\n",
       "4  1000_4   302.56   2018-09-24     1000"
      ]
     },
     "execution_count": 173,
     "metadata": {},
     "output_type": "execute_result"
    }
   ],
   "source": [
    "df_internet.head()"
   ]
  },
  {
   "cell_type": "code",
   "execution_count": 174,
   "id": "b7bce7f7",
   "metadata": {
    "scrolled": true
   },
   "outputs": [
    {
     "data": {
      "text/html": [
       "<div>\n",
       "<style scoped>\n",
       "    .dataframe tbody tr th:only-of-type {\n",
       "        vertical-align: middle;\n",
       "    }\n",
       "\n",
       "    .dataframe tbody tr th {\n",
       "        vertical-align: top;\n",
       "    }\n",
       "\n",
       "    .dataframe thead th {\n",
       "        text-align: right;\n",
       "    }\n",
       "</style>\n",
       "<table border=\"1\" class=\"dataframe\">\n",
       "  <thead>\n",
       "    <tr style=\"text-align: right;\">\n",
       "      <th></th>\n",
       "      <th>id</th>\n",
       "      <th>message_date</th>\n",
       "      <th>user_id</th>\n",
       "    </tr>\n",
       "  </thead>\n",
       "  <tbody>\n",
       "    <tr>\n",
       "      <th>0</th>\n",
       "      <td>1000_0</td>\n",
       "      <td>2018-06-27</td>\n",
       "      <td>1000</td>\n",
       "    </tr>\n",
       "    <tr>\n",
       "      <th>1</th>\n",
       "      <td>1000_1</td>\n",
       "      <td>2018-10-08</td>\n",
       "      <td>1000</td>\n",
       "    </tr>\n",
       "    <tr>\n",
       "      <th>2</th>\n",
       "      <td>1000_2</td>\n",
       "      <td>2018-08-04</td>\n",
       "      <td>1000</td>\n",
       "    </tr>\n",
       "    <tr>\n",
       "      <th>3</th>\n",
       "      <td>1000_3</td>\n",
       "      <td>2018-06-16</td>\n",
       "      <td>1000</td>\n",
       "    </tr>\n",
       "    <tr>\n",
       "      <th>4</th>\n",
       "      <td>1000_4</td>\n",
       "      <td>2018-12-05</td>\n",
       "      <td>1000</td>\n",
       "    </tr>\n",
       "  </tbody>\n",
       "</table>\n",
       "</div>"
      ],
      "text/plain": [
       "       id message_date  user_id\n",
       "0  1000_0   2018-06-27     1000\n",
       "1  1000_1   2018-10-08     1000\n",
       "2  1000_2   2018-08-04     1000\n",
       "3  1000_3   2018-06-16     1000\n",
       "4  1000_4   2018-12-05     1000"
      ]
     },
     "execution_count": 174,
     "metadata": {},
     "output_type": "execute_result"
    }
   ],
   "source": [
    "df_messages.head()"
   ]
  },
  {
   "cell_type": "code",
   "execution_count": 175,
   "id": "e01aaa8c",
   "metadata": {
    "scrolled": true
   },
   "outputs": [
    {
     "data": {
      "text/html": [
       "<div>\n",
       "<style scoped>\n",
       "    .dataframe tbody tr th:only-of-type {\n",
       "        vertical-align: middle;\n",
       "    }\n",
       "\n",
       "    .dataframe tbody tr th {\n",
       "        vertical-align: top;\n",
       "    }\n",
       "\n",
       "    .dataframe thead th {\n",
       "        text-align: right;\n",
       "    }\n",
       "</style>\n",
       "<table border=\"1\" class=\"dataframe\">\n",
       "  <thead>\n",
       "    <tr style=\"text-align: right;\">\n",
       "      <th></th>\n",
       "      <th>messages_included</th>\n",
       "      <th>mb_per_month_included</th>\n",
       "      <th>minutes_included</th>\n",
       "      <th>rub_monthly_fee</th>\n",
       "      <th>rub_per_gb</th>\n",
       "      <th>rub_per_message</th>\n",
       "      <th>rub_per_minute</th>\n",
       "      <th>tariff_name</th>\n",
       "    </tr>\n",
       "  </thead>\n",
       "  <tbody>\n",
       "    <tr>\n",
       "      <th>0</th>\n",
       "      <td>50</td>\n",
       "      <td>15360</td>\n",
       "      <td>500</td>\n",
       "      <td>550</td>\n",
       "      <td>200</td>\n",
       "      <td>3</td>\n",
       "      <td>3</td>\n",
       "      <td>smart</td>\n",
       "    </tr>\n",
       "    <tr>\n",
       "      <th>1</th>\n",
       "      <td>1000</td>\n",
       "      <td>30720</td>\n",
       "      <td>3000</td>\n",
       "      <td>1950</td>\n",
       "      <td>150</td>\n",
       "      <td>1</td>\n",
       "      <td>1</td>\n",
       "      <td>ultra</td>\n",
       "    </tr>\n",
       "  </tbody>\n",
       "</table>\n",
       "</div>"
      ],
      "text/plain": [
       "   messages_included  mb_per_month_included  minutes_included  \\\n",
       "0                 50                  15360               500   \n",
       "1               1000                  30720              3000   \n",
       "\n",
       "   rub_monthly_fee  rub_per_gb  rub_per_message  rub_per_minute tariff_name  \n",
       "0              550         200                3               3       smart  \n",
       "1             1950         150                1               1       ultra  "
      ]
     },
     "execution_count": 175,
     "metadata": {},
     "output_type": "execute_result"
    }
   ],
   "source": [
    "df_tariffs"
   ]
  },
  {
   "cell_type": "code",
   "execution_count": 176,
   "id": "75449d46",
   "metadata": {
    "scrolled": true
   },
   "outputs": [
    {
     "data": {
      "text/html": [
       "<div>\n",
       "<style scoped>\n",
       "    .dataframe tbody tr th:only-of-type {\n",
       "        vertical-align: middle;\n",
       "    }\n",
       "\n",
       "    .dataframe tbody tr th {\n",
       "        vertical-align: top;\n",
       "    }\n",
       "\n",
       "    .dataframe thead th {\n",
       "        text-align: right;\n",
       "    }\n",
       "</style>\n",
       "<table border=\"1\" class=\"dataframe\">\n",
       "  <thead>\n",
       "    <tr style=\"text-align: right;\">\n",
       "      <th></th>\n",
       "      <th>user_id</th>\n",
       "      <th>age</th>\n",
       "      <th>churn_date</th>\n",
       "      <th>city</th>\n",
       "      <th>first_name</th>\n",
       "      <th>last_name</th>\n",
       "      <th>reg_date</th>\n",
       "      <th>tariff</th>\n",
       "    </tr>\n",
       "  </thead>\n",
       "  <tbody>\n",
       "    <tr>\n",
       "      <th>0</th>\n",
       "      <td>1000</td>\n",
       "      <td>52</td>\n",
       "      <td>NaN</td>\n",
       "      <td>Краснодар</td>\n",
       "      <td>Рафаил</td>\n",
       "      <td>Верещагин</td>\n",
       "      <td>2018-05-25</td>\n",
       "      <td>ultra</td>\n",
       "    </tr>\n",
       "    <tr>\n",
       "      <th>1</th>\n",
       "      <td>1001</td>\n",
       "      <td>41</td>\n",
       "      <td>NaN</td>\n",
       "      <td>Москва</td>\n",
       "      <td>Иван</td>\n",
       "      <td>Ежов</td>\n",
       "      <td>2018-11-01</td>\n",
       "      <td>smart</td>\n",
       "    </tr>\n",
       "    <tr>\n",
       "      <th>2</th>\n",
       "      <td>1002</td>\n",
       "      <td>59</td>\n",
       "      <td>NaN</td>\n",
       "      <td>Стерлитамак</td>\n",
       "      <td>Евгений</td>\n",
       "      <td>Абрамович</td>\n",
       "      <td>2018-06-17</td>\n",
       "      <td>smart</td>\n",
       "    </tr>\n",
       "    <tr>\n",
       "      <th>3</th>\n",
       "      <td>1003</td>\n",
       "      <td>23</td>\n",
       "      <td>NaN</td>\n",
       "      <td>Москва</td>\n",
       "      <td>Белла</td>\n",
       "      <td>Белякова</td>\n",
       "      <td>2018-08-17</td>\n",
       "      <td>ultra</td>\n",
       "    </tr>\n",
       "    <tr>\n",
       "      <th>4</th>\n",
       "      <td>1004</td>\n",
       "      <td>68</td>\n",
       "      <td>NaN</td>\n",
       "      <td>Новокузнецк</td>\n",
       "      <td>Татьяна</td>\n",
       "      <td>Авдеенко</td>\n",
       "      <td>2018-05-14</td>\n",
       "      <td>ultra</td>\n",
       "    </tr>\n",
       "  </tbody>\n",
       "</table>\n",
       "</div>"
      ],
      "text/plain": [
       "   user_id  age churn_date         city first_name  last_name    reg_date  \\\n",
       "0     1000   52        NaN    Краснодар     Рафаил  Верещагин  2018-05-25   \n",
       "1     1001   41        NaN       Москва       Иван       Ежов  2018-11-01   \n",
       "2     1002   59        NaN  Стерлитамак    Евгений  Абрамович  2018-06-17   \n",
       "3     1003   23        NaN       Москва      Белла   Белякова  2018-08-17   \n",
       "4     1004   68        NaN  Новокузнецк    Татьяна   Авдеенко  2018-05-14   \n",
       "\n",
       "  tariff  \n",
       "0  ultra  \n",
       "1  smart  \n",
       "2  smart  \n",
       "3  ultra  \n",
       "4  ultra  "
      ]
     },
     "execution_count": 176,
     "metadata": {},
     "output_type": "execute_result"
    }
   ],
   "source": [
    "df_users.head()"
   ]
  },
  {
   "cell_type": "code",
   "execution_count": 177,
   "id": "35406391",
   "metadata": {
    "scrolled": false
   },
   "outputs": [
    {
     "data": {
      "text/plain": [
       "Text(0.5, 0, 'Трафик, мегабайты')"
      ]
     },
     "execution_count": 177,
     "metadata": {},
     "output_type": "execute_result"
    },
    {
     "data": {
      "image/png": "[encoded data removed]",
      "text/plain": [
       "<Figure size 1080x360 with 1 Axes>"
      ]
     },
     "metadata": {
      "needs_background": "light"
     },
     "output_type": "display_data"
    }
   ],
   "source": [
    "df_internet['mb_used'].plot(kind='hist', bins=100, grid=True, figsize=(15, 5)).set_title('Распределение трафика')\n",
    "plt.xlabel(\"Трафик, мегабайты\")"
   ]
  },
  {
   "cell_type": "markdown",
   "id": "59512260",
   "metadata": {},
   "source": [
    "На гистограмме мы видим скачок в значении \"0 мб\". Клиенты пытались зайти в интернет, но происходит обрыв связи, и это явно предмет для разговора с техническим отделом. Если это будет важно для бизнеса, то необходимо будет посмотреть, в каком городе, когда, и у каких уникальных юзеров это произошло. "
   ]
  },
  {
   "cell_type": "markdown",
   "id": "72b23ae7",
   "metadata": {},
   "source": [
    "Посчитаем количество сессий с обрывом связи"
   ]
  },
  {
   "cell_type": "code",
   "execution_count": 178,
   "id": "9fe4980a",
   "metadata": {
    "scrolled": true
   },
   "outputs": [
    {
     "data": {
      "text/plain": [
       "id              19598\n",
       "mb_used         19598\n",
       "session_date    19598\n",
       "user_id         19598\n",
       "dtype: int64"
      ]
     },
     "execution_count": 178,
     "metadata": {},
     "output_type": "execute_result"
    }
   ],
   "source": [
    "df_internet[df_internet['mb_used'] == 0.0].count()"
   ]
  },
  {
   "cell_type": "markdown",
   "id": "d40b1e7d",
   "metadata": {},
   "source": [
    "Посмотрим на распределение трафика после исключений сессий с обрывом связи"
   ]
  },
  {
   "cell_type": "code",
   "execution_count": 179,
   "id": "c658248f",
   "metadata": {
    "scrolled": false
   },
   "outputs": [
    {
     "data": {
      "text/plain": [
       "Text(0.5, 0, 'Трафик, мегабайты')"
      ]
     },
     "execution_count": 179,
     "metadata": {},
     "output_type": "execute_result"
    },
    {
     "data": {
      "image/png": "[encoded data removed]",
      "text/plain": [
       "<Figure size 1080x360 with 1 Axes>"
      ]
     },
     "metadata": {
      "needs_background": "light"
     },
     "output_type": "display_data"
    }
   ],
   "source": [
    "df_internet[df_internet['mb_used'] > 0.0]['mb_used']\\\n",
    "    .plot(kind='hist', bins=100, grid=True, figsize=(15, 5))\\\n",
    "    .set_title('Распределение трафика для сессий без обрыва связи')\n",
    "plt.xlabel(\"Трафик, мегабайты\")"
   ]
  },
  {
   "cell_type": "markdown",
   "id": "e1175a53",
   "metadata": {},
   "source": [
    "Посчитаем количество дублей"
   ]
  },
  {
   "cell_type": "code",
   "execution_count": 180,
   "id": "e231547e",
   "metadata": {
    "scrolled": true
   },
   "outputs": [
    {
     "name": "stdout",
     "output_type": "stream",
     "text": [
      "0\n",
      "0\n",
      "0\n",
      "0\n"
     ]
    }
   ],
   "source": [
    "print(df_calls.duplicated().sum())\n",
    "print(df_messages.duplicated().sum())\n",
    "print(df_internet.duplicated().sum())\n",
    "print(df_users.duplicated().sum())"
   ]
  },
  {
   "cell_type": "markdown",
   "id": "4070f361",
   "metadata": {},
   "source": [
    "**Выводы** по дополнительным пунктам:\n",
    "- среди всех интернет-сессий есть ок 13% (19958) случаев, когда пользователи не пользовались интернетом, если быть точнее - сессии с нулевым трафиком;\n",
    "- распределение интернет сессий похоже на нормальное со скошенностью влево и выбросами в правой части. Медиана приходится на 560 мб, а максимальные значения достигают 1750 мб. \n",
    "- Дубликатов во всех 4-х датасетах не найдено;"
   ]
  },
  {
   "cell_type": "markdown",
   "id": "a659888e",
   "metadata": {},
   "source": [
    "## Предобработка данных"
   ]
  },
  {
   "cell_type": "markdown",
   "id": "b02243ca",
   "metadata": {},
   "source": [
    "Анализ данных, исправление ошибок, приведение к нужному типу данных"
   ]
  },
  {
   "cell_type": "code",
   "execution_count": 181,
   "id": "b10e4732",
   "metadata": {
    "scrolled": false
   },
   "outputs": [
    {
     "name": "stdout",
     "output_type": "stream",
     "text": [
      "<class 'pandas.core.frame.DataFrame'>\n",
      "RangeIndex: 202607 entries, 0 to 202606\n",
      "Data columns (total 4 columns):\n",
      " #   Column     Non-Null Count   Dtype  \n",
      "---  ------     --------------   -----  \n",
      " 0   id         202607 non-null  object \n",
      " 1   call_date  202607 non-null  object \n",
      " 2   duration   202607 non-null  float64\n",
      " 3   user_id    202607 non-null  int64  \n",
      "dtypes: float64(1), int64(1), object(2)\n",
      "memory usage: 6.2+ MB\n"
     ]
    }
   ],
   "source": [
    "df_calls.info()"
   ]
  },
  {
   "cell_type": "code",
   "execution_count": 182,
   "id": "db4ff58a",
   "metadata": {},
   "outputs": [
    {
     "data": {
      "text/html": [
       "<div>\n",
       "<style scoped>\n",
       "    .dataframe tbody tr th:only-of-type {\n",
       "        vertical-align: middle;\n",
       "    }\n",
       "\n",
       "    .dataframe tbody tr th {\n",
       "        vertical-align: top;\n",
       "    }\n",
       "\n",
       "    .dataframe thead th {\n",
       "        text-align: right;\n",
       "    }\n",
       "</style>\n",
       "<table border=\"1\" class=\"dataframe\">\n",
       "  <thead>\n",
       "    <tr style=\"text-align: right;\">\n",
       "      <th></th>\n",
       "      <th>duration</th>\n",
       "      <th>user_id</th>\n",
       "    </tr>\n",
       "  </thead>\n",
       "  <tbody>\n",
       "    <tr>\n",
       "      <th>count</th>\n",
       "      <td>202607.000000</td>\n",
       "      <td>202607.000000</td>\n",
       "    </tr>\n",
       "    <tr>\n",
       "      <th>mean</th>\n",
       "      <td>6.755887</td>\n",
       "      <td>1253.940619</td>\n",
       "    </tr>\n",
       "    <tr>\n",
       "      <th>std</th>\n",
       "      <td>5.843365</td>\n",
       "      <td>144.722751</td>\n",
       "    </tr>\n",
       "    <tr>\n",
       "      <th>min</th>\n",
       "      <td>0.000000</td>\n",
       "      <td>1000.000000</td>\n",
       "    </tr>\n",
       "    <tr>\n",
       "      <th>25%</th>\n",
       "      <td>1.300000</td>\n",
       "      <td>1126.000000</td>\n",
       "    </tr>\n",
       "    <tr>\n",
       "      <th>50%</th>\n",
       "      <td>6.000000</td>\n",
       "      <td>1260.000000</td>\n",
       "    </tr>\n",
       "    <tr>\n",
       "      <th>75%</th>\n",
       "      <td>10.700000</td>\n",
       "      <td>1379.000000</td>\n",
       "    </tr>\n",
       "    <tr>\n",
       "      <th>max</th>\n",
       "      <td>38.000000</td>\n",
       "      <td>1499.000000</td>\n",
       "    </tr>\n",
       "  </tbody>\n",
       "</table>\n",
       "</div>"
      ],
      "text/plain": [
       "            duration        user_id\n",
       "count  202607.000000  202607.000000\n",
       "mean        6.755887    1253.940619\n",
       "std         5.843365     144.722751\n",
       "min         0.000000    1000.000000\n",
       "25%         1.300000    1126.000000\n",
       "50%         6.000000    1260.000000\n",
       "75%        10.700000    1379.000000\n",
       "max        38.000000    1499.000000"
      ]
     },
     "execution_count": 182,
     "metadata": {},
     "output_type": "execute_result"
    }
   ],
   "source": [
    "df_calls.describe()"
   ]
  },
  {
   "cell_type": "code",
   "execution_count": 183,
   "id": "6218d59c",
   "metadata": {
    "scrolled": false
   },
   "outputs": [
    {
     "name": "stdout",
     "output_type": "stream",
     "text": [
      "<class 'pandas.core.frame.DataFrame'>\n",
      "Int64Index: 149396 entries, 0 to 149395\n",
      "Data columns (total 4 columns):\n",
      " #   Column        Non-Null Count   Dtype  \n",
      "---  ------        --------------   -----  \n",
      " 0   id            149396 non-null  object \n",
      " 1   mb_used       149396 non-null  float64\n",
      " 2   session_date  149396 non-null  object \n",
      " 3   user_id       149396 non-null  int64  \n",
      "dtypes: float64(1), int64(1), object(2)\n",
      "memory usage: 5.7+ MB\n"
     ]
    }
   ],
   "source": [
    "df_internet.info()"
   ]
  },
  {
   "cell_type": "code",
   "execution_count": 184,
   "id": "c87bc3b2",
   "metadata": {},
   "outputs": [
    {
     "data": {
      "text/html": [
       "<div>\n",
       "<style scoped>\n",
       "    .dataframe tbody tr th:only-of-type {\n",
       "        vertical-align: middle;\n",
       "    }\n",
       "\n",
       "    .dataframe tbody tr th {\n",
       "        vertical-align: top;\n",
       "    }\n",
       "\n",
       "    .dataframe thead th {\n",
       "        text-align: right;\n",
       "    }\n",
       "</style>\n",
       "<table border=\"1\" class=\"dataframe\">\n",
       "  <thead>\n",
       "    <tr style=\"text-align: right;\">\n",
       "      <th></th>\n",
       "      <th>mb_used</th>\n",
       "      <th>user_id</th>\n",
       "    </tr>\n",
       "  </thead>\n",
       "  <tbody>\n",
       "    <tr>\n",
       "      <th>count</th>\n",
       "      <td>149396.000000</td>\n",
       "      <td>149396.000000</td>\n",
       "    </tr>\n",
       "    <tr>\n",
       "      <th>mean</th>\n",
       "      <td>370.192426</td>\n",
       "      <td>1252.099842</td>\n",
       "    </tr>\n",
       "    <tr>\n",
       "      <th>std</th>\n",
       "      <td>278.300951</td>\n",
       "      <td>144.050823</td>\n",
       "    </tr>\n",
       "    <tr>\n",
       "      <th>min</th>\n",
       "      <td>0.000000</td>\n",
       "      <td>1000.000000</td>\n",
       "    </tr>\n",
       "    <tr>\n",
       "      <th>25%</th>\n",
       "      <td>138.187500</td>\n",
       "      <td>1130.000000</td>\n",
       "    </tr>\n",
       "    <tr>\n",
       "      <th>50%</th>\n",
       "      <td>348.015000</td>\n",
       "      <td>1251.000000</td>\n",
       "    </tr>\n",
       "    <tr>\n",
       "      <th>75%</th>\n",
       "      <td>559.552500</td>\n",
       "      <td>1380.000000</td>\n",
       "    </tr>\n",
       "    <tr>\n",
       "      <th>max</th>\n",
       "      <td>1724.830000</td>\n",
       "      <td>1499.000000</td>\n",
       "    </tr>\n",
       "  </tbody>\n",
       "</table>\n",
       "</div>"
      ],
      "text/plain": [
       "             mb_used        user_id\n",
       "count  149396.000000  149396.000000\n",
       "mean      370.192426    1252.099842\n",
       "std       278.300951     144.050823\n",
       "min         0.000000    1000.000000\n",
       "25%       138.187500    1130.000000\n",
       "50%       348.015000    1251.000000\n",
       "75%       559.552500    1380.000000\n",
       "max      1724.830000    1499.000000"
      ]
     },
     "execution_count": 184,
     "metadata": {},
     "output_type": "execute_result"
    }
   ],
   "source": [
    "df_internet.describe()"
   ]
  },
  {
   "cell_type": "code",
   "execution_count": 185,
   "id": "b716c5a7",
   "metadata": {
    "scrolled": false
   },
   "outputs": [
    {
     "name": "stdout",
     "output_type": "stream",
     "text": [
      "<class 'pandas.core.frame.DataFrame'>\n",
      "RangeIndex: 123036 entries, 0 to 123035\n",
      "Data columns (total 3 columns):\n",
      " #   Column        Non-Null Count   Dtype \n",
      "---  ------        --------------   ----- \n",
      " 0   id            123036 non-null  object\n",
      " 1   message_date  123036 non-null  object\n",
      " 2   user_id       123036 non-null  int64 \n",
      "dtypes: int64(1), object(2)\n",
      "memory usage: 2.8+ MB\n"
     ]
    }
   ],
   "source": [
    "df_messages.info()"
   ]
  },
  {
   "cell_type": "code",
   "execution_count": 186,
   "id": "579ae9bc",
   "metadata": {
    "scrolled": true
   },
   "outputs": [
    {
     "name": "stdout",
     "output_type": "stream",
     "text": [
      "<class 'pandas.core.frame.DataFrame'>\n",
      "RangeIndex: 500 entries, 0 to 499\n",
      "Data columns (total 8 columns):\n",
      " #   Column      Non-Null Count  Dtype \n",
      "---  ------      --------------  ----- \n",
      " 0   user_id     500 non-null    int64 \n",
      " 1   age         500 non-null    int64 \n",
      " 2   churn_date  38 non-null     object\n",
      " 3   city        500 non-null    object\n",
      " 4   first_name  500 non-null    object\n",
      " 5   last_name   500 non-null    object\n",
      " 6   reg_date    500 non-null    object\n",
      " 7   tariff      500 non-null    object\n",
      "dtypes: int64(2), object(6)\n",
      "memory usage: 31.4+ KB\n"
     ]
    }
   ],
   "source": [
    "df_users.info()"
   ]
  },
  {
   "cell_type": "code",
   "execution_count": 187,
   "id": "dbc43915",
   "metadata": {
    "scrolled": true
   },
   "outputs": [
    {
     "data": {
      "text/html": [
       "<div>\n",
       "<style scoped>\n",
       "    .dataframe tbody tr th:only-of-type {\n",
       "        vertical-align: middle;\n",
       "    }\n",
       "\n",
       "    .dataframe tbody tr th {\n",
       "        vertical-align: top;\n",
       "    }\n",
       "\n",
       "    .dataframe thead th {\n",
       "        text-align: right;\n",
       "    }\n",
       "</style>\n",
       "<table border=\"1\" class=\"dataframe\">\n",
       "  <thead>\n",
       "    <tr style=\"text-align: right;\">\n",
       "      <th></th>\n",
       "      <th>user_id</th>\n",
       "      <th>age</th>\n",
       "    </tr>\n",
       "  </thead>\n",
       "  <tbody>\n",
       "    <tr>\n",
       "      <th>count</th>\n",
       "      <td>500.000000</td>\n",
       "      <td>500.00000</td>\n",
       "    </tr>\n",
       "    <tr>\n",
       "      <th>mean</th>\n",
       "      <td>1249.500000</td>\n",
       "      <td>46.58800</td>\n",
       "    </tr>\n",
       "    <tr>\n",
       "      <th>std</th>\n",
       "      <td>144.481833</td>\n",
       "      <td>16.66763</td>\n",
       "    </tr>\n",
       "    <tr>\n",
       "      <th>min</th>\n",
       "      <td>1000.000000</td>\n",
       "      <td>18.00000</td>\n",
       "    </tr>\n",
       "    <tr>\n",
       "      <th>25%</th>\n",
       "      <td>1124.750000</td>\n",
       "      <td>32.00000</td>\n",
       "    </tr>\n",
       "    <tr>\n",
       "      <th>50%</th>\n",
       "      <td>1249.500000</td>\n",
       "      <td>46.00000</td>\n",
       "    </tr>\n",
       "    <tr>\n",
       "      <th>75%</th>\n",
       "      <td>1374.250000</td>\n",
       "      <td>62.00000</td>\n",
       "    </tr>\n",
       "    <tr>\n",
       "      <th>max</th>\n",
       "      <td>1499.000000</td>\n",
       "      <td>75.00000</td>\n",
       "    </tr>\n",
       "  </tbody>\n",
       "</table>\n",
       "</div>"
      ],
      "text/plain": [
       "           user_id        age\n",
       "count   500.000000  500.00000\n",
       "mean   1249.500000   46.58800\n",
       "std     144.481833   16.66763\n",
       "min    1000.000000   18.00000\n",
       "25%    1124.750000   32.00000\n",
       "50%    1249.500000   46.00000\n",
       "75%    1374.250000   62.00000\n",
       "max    1499.000000   75.00000"
      ]
     },
     "execution_count": 187,
     "metadata": {},
     "output_type": "execute_result"
    }
   ],
   "source": [
    "df_users.describe()"
   ]
  },
  {
   "cell_type": "markdown",
   "id": "74cde1d2",
   "metadata": {},
   "source": [
    "Датасет со **звонками** - переводим данные с датой в **формат даты**, а также **округляем** длительность звонка до минут и переводим его в целочисленный тип."
   ]
  },
  {
   "cell_type": "code",
   "execution_count": 188,
   "id": "80299e04",
   "metadata": {},
   "outputs": [],
   "source": [
    "df_calls['call_date'] = pd.to_datetime(df_calls['call_date'], format='%Y-%m-%d')"
   ]
  },
  {
   "cell_type": "code",
   "execution_count": 189,
   "id": "ea7677b2",
   "metadata": {},
   "outputs": [],
   "source": [
    "df_calls['duration'] = df_calls['duration'].apply(np.ceil)\n",
    "df_calls['duration'] = df_calls['duration'].astype(int)"
   ]
  },
  {
   "cell_type": "markdown",
   "id": "2b873a29",
   "metadata": {},
   "source": [
    "Датасет с **интернет-соединениями**: переведем данные с датой в формат даты."
   ]
  },
  {
   "cell_type": "code",
   "execution_count": 190,
   "id": "944bee66",
   "metadata": {},
   "outputs": [],
   "source": [
    "df_internet['session_date'] = pd.to_datetime(df_internet['session_date'], format='%Y-%m-%d')"
   ]
  },
  {
   "cell_type": "markdown",
   "id": "f0dd61e6",
   "metadata": {},
   "source": [
    "Датасет с **сообщениями** - перевод нужных данных в формат даты."
   ]
  },
  {
   "cell_type": "code",
   "execution_count": 191,
   "id": "f663b320",
   "metadata": {},
   "outputs": [],
   "source": [
    "df_messages['message_date'] = pd.to_datetime(df_messages['message_date'], format='%Y-%m-%d')"
   ]
  },
  {
   "cell_type": "markdown",
   "id": "8cd8b697",
   "metadata": {},
   "source": [
    "Датасет с **пользователями** - переведем данные столбцов даты подключения тарифа и даты прекращения пользования тарифом в формат даты."
   ]
  },
  {
   "cell_type": "code",
   "execution_count": 192,
   "id": "7dd97b7f",
   "metadata": {
    "scrolled": true
   },
   "outputs": [],
   "source": [
    "df_users['reg_date'] = pd.to_datetime(df_users['reg_date'], format='%Y-%m-%d')"
   ]
  },
  {
   "cell_type": "code",
   "execution_count": 193,
   "id": "3f76a9a8",
   "metadata": {},
   "outputs": [],
   "source": [
    "df_users['churn_date'] = pd.to_datetime(df_users['churn_date'], format='%Y-%m-%d')"
   ]
  },
  {
   "cell_type": "markdown",
   "id": "e457e23b",
   "metadata": {},
   "source": [
    "Датасет с **тарифами** - добавим столбец с гигабайтами."
   ]
  },
  {
   "cell_type": "code",
   "execution_count": 194,
   "id": "b26b251f",
   "metadata": {},
   "outputs": [
    {
     "data": {
      "text/html": [
       "<div>\n",
       "<style scoped>\n",
       "    .dataframe tbody tr th:only-of-type {\n",
       "        vertical-align: middle;\n",
       "    }\n",
       "\n",
       "    .dataframe tbody tr th {\n",
       "        vertical-align: top;\n",
       "    }\n",
       "\n",
       "    .dataframe thead th {\n",
       "        text-align: right;\n",
       "    }\n",
       "</style>\n",
       "<table border=\"1\" class=\"dataframe\">\n",
       "  <thead>\n",
       "    <tr style=\"text-align: right;\">\n",
       "      <th></th>\n",
       "      <th>messages_included</th>\n",
       "      <th>mb_per_month_included</th>\n",
       "      <th>minutes_included</th>\n",
       "      <th>rub_monthly_fee</th>\n",
       "      <th>rub_per_gb</th>\n",
       "      <th>rub_per_message</th>\n",
       "      <th>rub_per_minute</th>\n",
       "      <th>tariff_name</th>\n",
       "      <th>gb_per_month_included</th>\n",
       "    </tr>\n",
       "  </thead>\n",
       "  <tbody>\n",
       "    <tr>\n",
       "      <th>0</th>\n",
       "      <td>50</td>\n",
       "      <td>15360</td>\n",
       "      <td>500</td>\n",
       "      <td>550</td>\n",
       "      <td>200</td>\n",
       "      <td>3</td>\n",
       "      <td>3</td>\n",
       "      <td>smart</td>\n",
       "      <td>15.0</td>\n",
       "    </tr>\n",
       "    <tr>\n",
       "      <th>1</th>\n",
       "      <td>1000</td>\n",
       "      <td>30720</td>\n",
       "      <td>3000</td>\n",
       "      <td>1950</td>\n",
       "      <td>150</td>\n",
       "      <td>1</td>\n",
       "      <td>1</td>\n",
       "      <td>ultra</td>\n",
       "      <td>30.0</td>\n",
       "    </tr>\n",
       "  </tbody>\n",
       "</table>\n",
       "</div>"
      ],
      "text/plain": [
       "   messages_included  mb_per_month_included  minutes_included  \\\n",
       "0                 50                  15360               500   \n",
       "1               1000                  30720              3000   \n",
       "\n",
       "   rub_monthly_fee  rub_per_gb  rub_per_message  rub_per_minute tariff_name  \\\n",
       "0              550         200                3               3       smart   \n",
       "1             1950         150                1               1       ultra   \n",
       "\n",
       "   gb_per_month_included  \n",
       "0                   15.0  \n",
       "1                   30.0  "
      ]
     },
     "execution_count": 194,
     "metadata": {},
     "output_type": "execute_result"
    }
   ],
   "source": [
    "df_tariffs['gb_per_month_included'] = df_tariffs['mb_per_month_included'] / 1024\n",
    "df_tariffs.head()"
   ]
  },
  {
   "cell_type": "markdown",
   "id": "792d45b3",
   "metadata": {},
   "source": [
    "**Выводы**:\n",
    "- в основном была необходимость поменять формат некоторых данных, как правило - перевод в формат даты.\n",
    "- во всех датасетах нет пропусков (за исключением данны о дате окончания использования тарифа). Однако, количество пользователей в датасетах разное, видимо, часть услуг остались невостребованными в течение года. \n",
    "- отметим, что неявных дублей или ошибок в названии населенных пунктов или тарифов не было обнаружено (через проверку уникальных значений в нужных столбцах.)"
   ]
  },
  {
   "cell_type": "markdown",
   "id": "3f14e719",
   "metadata": {},
   "source": [
    "Посчитаем **количество** сделанных **звонков** и израсходованных **минут** разговора по месяцам."
   ]
  },
  {
   "cell_type": "code",
   "execution_count": 195,
   "id": "4899e1df",
   "metadata": {},
   "outputs": [
    {
     "name": "stdout",
     "output_type": "stream",
     "text": [
      "<class 'pandas.core.frame.DataFrame'>\n",
      "RangeIndex: 202607 entries, 0 to 202606\n",
      "Data columns (total 5 columns):\n",
      " #   Column     Non-Null Count   Dtype         \n",
      "---  ------     --------------   -----         \n",
      " 0   id         202607 non-null  object        \n",
      " 1   call_date  202607 non-null  datetime64[ns]\n",
      " 2   duration   202607 non-null  int32         \n",
      " 3   user_id    202607 non-null  int64         \n",
      " 4   month      202607 non-null  int64         \n",
      "dtypes: datetime64[ns](1), int32(1), int64(2), object(1)\n",
      "memory usage: 7.0+ MB\n"
     ]
    }
   ],
   "source": [
    "df_calls['month'] = pd.DatetimeIndex(df_calls['call_date']).month\n",
    "df_calls.info()"
   ]
  },
  {
   "cell_type": "code",
   "execution_count": 196,
   "id": "fdc7a2ab",
   "metadata": {
    "scrolled": true
   },
   "outputs": [
    {
     "data": {
      "text/html": [
       "<div>\n",
       "<style scoped>\n",
       "    .dataframe tbody tr th:only-of-type {\n",
       "        vertical-align: middle;\n",
       "    }\n",
       "\n",
       "    .dataframe tbody tr th {\n",
       "        vertical-align: top;\n",
       "    }\n",
       "\n",
       "    .dataframe thead th {\n",
       "        text-align: right;\n",
       "    }\n",
       "</style>\n",
       "<table border=\"1\" class=\"dataframe\">\n",
       "  <thead>\n",
       "    <tr style=\"text-align: right;\">\n",
       "      <th></th>\n",
       "      <th>user_id</th>\n",
       "      <th>month</th>\n",
       "      <th>calls_duration</th>\n",
       "    </tr>\n",
       "  </thead>\n",
       "  <tbody>\n",
       "    <tr>\n",
       "      <th>0</th>\n",
       "      <td>1000</td>\n",
       "      <td>5</td>\n",
       "      <td>159</td>\n",
       "    </tr>\n",
       "    <tr>\n",
       "      <th>1</th>\n",
       "      <td>1000</td>\n",
       "      <td>6</td>\n",
       "      <td>172</td>\n",
       "    </tr>\n",
       "    <tr>\n",
       "      <th>2</th>\n",
       "      <td>1000</td>\n",
       "      <td>7</td>\n",
       "      <td>340</td>\n",
       "    </tr>\n",
       "    <tr>\n",
       "      <th>3</th>\n",
       "      <td>1000</td>\n",
       "      <td>8</td>\n",
       "      <td>408</td>\n",
       "    </tr>\n",
       "    <tr>\n",
       "      <th>4</th>\n",
       "      <td>1000</td>\n",
       "      <td>9</td>\n",
       "      <td>466</td>\n",
       "    </tr>\n",
       "  </tbody>\n",
       "</table>\n",
       "</div>"
      ],
      "text/plain": [
       "   user_id  month  calls_duration\n",
       "0     1000      5             159\n",
       "1     1000      6             172\n",
       "2     1000      7             340\n",
       "3     1000      8             408\n",
       "4     1000      9             466"
      ]
     },
     "execution_count": 196,
     "metadata": {},
     "output_type": "execute_result"
    }
   ],
   "source": [
    "df_calls_duration = df_calls.groupby(['user_id', 'month'])['duration'].sum()\n",
    "df_calls_duration = df_calls_duration.reset_index()\n",
    "df_calls_duration = df_calls_duration.rename(columns={'duration':'calls_duration'})\n",
    "df_calls_duration.head()"
   ]
  },
  {
   "cell_type": "code",
   "execution_count": 197,
   "id": "e3e61408",
   "metadata": {
    "scrolled": true
   },
   "outputs": [
    {
     "data": {
      "text/html": [
       "<div>\n",
       "<style scoped>\n",
       "    .dataframe tbody tr th:only-of-type {\n",
       "        vertical-align: middle;\n",
       "    }\n",
       "\n",
       "    .dataframe tbody tr th {\n",
       "        vertical-align: top;\n",
       "    }\n",
       "\n",
       "    .dataframe thead th {\n",
       "        text-align: right;\n",
       "    }\n",
       "</style>\n",
       "<table border=\"1\" class=\"dataframe\">\n",
       "  <thead>\n",
       "    <tr style=\"text-align: right;\">\n",
       "      <th></th>\n",
       "      <th>user_id</th>\n",
       "      <th>month</th>\n",
       "      <th>calls_quantity</th>\n",
       "    </tr>\n",
       "  </thead>\n",
       "  <tbody>\n",
       "    <tr>\n",
       "      <th>0</th>\n",
       "      <td>1000</td>\n",
       "      <td>5</td>\n",
       "      <td>22</td>\n",
       "    </tr>\n",
       "    <tr>\n",
       "      <th>1</th>\n",
       "      <td>1000</td>\n",
       "      <td>6</td>\n",
       "      <td>43</td>\n",
       "    </tr>\n",
       "    <tr>\n",
       "      <th>2</th>\n",
       "      <td>1000</td>\n",
       "      <td>7</td>\n",
       "      <td>47</td>\n",
       "    </tr>\n",
       "    <tr>\n",
       "      <th>3</th>\n",
       "      <td>1000</td>\n",
       "      <td>8</td>\n",
       "      <td>52</td>\n",
       "    </tr>\n",
       "    <tr>\n",
       "      <th>4</th>\n",
       "      <td>1000</td>\n",
       "      <td>9</td>\n",
       "      <td>58</td>\n",
       "    </tr>\n",
       "  </tbody>\n",
       "</table>\n",
       "</div>"
      ],
      "text/plain": [
       "   user_id  month  calls_quantity\n",
       "0     1000      5              22\n",
       "1     1000      6              43\n",
       "2     1000      7              47\n",
       "3     1000      8              52\n",
       "4     1000      9              58"
      ]
     },
     "execution_count": 197,
     "metadata": {},
     "output_type": "execute_result"
    }
   ],
   "source": [
    "df_calls_quantity = df_calls.groupby(['user_id', 'month'])['duration'].count() \n",
    "df_calls_quantity = df_calls_quantity.reset_index()\n",
    "df_calls_quantity = df_calls_quantity.rename(columns={'duration':'calls_quantity'})\n",
    "df_calls_quantity.head()"
   ]
  },
  {
   "cell_type": "markdown",
   "id": "e21501c1",
   "metadata": {},
   "source": [
    "Посчитаем **количество** отправленных **сообщений** по месяцам."
   ]
  },
  {
   "cell_type": "code",
   "execution_count": 198,
   "id": "9687ccf5",
   "metadata": {},
   "outputs": [],
   "source": [
    "df_messages['month'] = pd.DatetimeIndex(df_messages['message_date']).month"
   ]
  },
  {
   "cell_type": "code",
   "execution_count": 199,
   "id": "4ca03f2a",
   "metadata": {},
   "outputs": [
    {
     "data": {
      "text/html": [
       "<div>\n",
       "<style scoped>\n",
       "    .dataframe tbody tr th:only-of-type {\n",
       "        vertical-align: middle;\n",
       "    }\n",
       "\n",
       "    .dataframe tbody tr th {\n",
       "        vertical-align: top;\n",
       "    }\n",
       "\n",
       "    .dataframe thead th {\n",
       "        text-align: right;\n",
       "    }\n",
       "</style>\n",
       "<table border=\"1\" class=\"dataframe\">\n",
       "  <thead>\n",
       "    <tr style=\"text-align: right;\">\n",
       "      <th></th>\n",
       "      <th>user_id</th>\n",
       "      <th>month</th>\n",
       "      <th>sms_quantity</th>\n",
       "    </tr>\n",
       "  </thead>\n",
       "  <tbody>\n",
       "    <tr>\n",
       "      <th>0</th>\n",
       "      <td>1000</td>\n",
       "      <td>5</td>\n",
       "      <td>22</td>\n",
       "    </tr>\n",
       "    <tr>\n",
       "      <th>1</th>\n",
       "      <td>1000</td>\n",
       "      <td>6</td>\n",
       "      <td>60</td>\n",
       "    </tr>\n",
       "    <tr>\n",
       "      <th>2</th>\n",
       "      <td>1000</td>\n",
       "      <td>7</td>\n",
       "      <td>75</td>\n",
       "    </tr>\n",
       "    <tr>\n",
       "      <th>3</th>\n",
       "      <td>1000</td>\n",
       "      <td>8</td>\n",
       "      <td>81</td>\n",
       "    </tr>\n",
       "    <tr>\n",
       "      <th>4</th>\n",
       "      <td>1000</td>\n",
       "      <td>9</td>\n",
       "      <td>57</td>\n",
       "    </tr>\n",
       "  </tbody>\n",
       "</table>\n",
       "</div>"
      ],
      "text/plain": [
       "   user_id  month  sms_quantity\n",
       "0     1000      5            22\n",
       "1     1000      6            60\n",
       "2     1000      7            75\n",
       "3     1000      8            81\n",
       "4     1000      9            57"
      ]
     },
     "execution_count": 199,
     "metadata": {},
     "output_type": "execute_result"
    }
   ],
   "source": [
    "df_messages_groupby = df_messages.groupby(['user_id', 'month'])['id'].count() \n",
    "df_messages_groupby = df_messages_groupby.reset_index()\n",
    "df_messages_groupby = df_messages_groupby.rename(columns={'id':'sms_quantity'})\n",
    "df_messages_groupby.head()"
   ]
  },
  {
   "cell_type": "markdown",
   "id": "084fcdcc",
   "metadata": {},
   "source": [
    "Посчитаем **объем** израсходованного интернет-трафика по месяцам, **переведем** траффик в гигабайты с **округлением** в большую сторону."
   ]
  },
  {
   "cell_type": "code",
   "execution_count": 200,
   "id": "f2387020",
   "metadata": {},
   "outputs": [],
   "source": [
    "df_internet['month'] = pd.DatetimeIndex(df_internet['session_date']).month"
   ]
  },
  {
   "cell_type": "code",
   "execution_count": 201,
   "id": "017a0019",
   "metadata": {
    "scrolled": true
   },
   "outputs": [
    {
     "data": {
      "text/html": [
       "<div>\n",
       "<style scoped>\n",
       "    .dataframe tbody tr th:only-of-type {\n",
       "        vertical-align: middle;\n",
       "    }\n",
       "\n",
       "    .dataframe tbody tr th {\n",
       "        vertical-align: top;\n",
       "    }\n",
       "\n",
       "    .dataframe thead th {\n",
       "        text-align: right;\n",
       "    }\n",
       "</style>\n",
       "<table border=\"1\" class=\"dataframe\">\n",
       "  <thead>\n",
       "    <tr style=\"text-align: right;\">\n",
       "      <th></th>\n",
       "      <th>user_id</th>\n",
       "      <th>month</th>\n",
       "      <th>mb_used</th>\n",
       "      <th>gb_used</th>\n",
       "    </tr>\n",
       "  </thead>\n",
       "  <tbody>\n",
       "    <tr>\n",
       "      <th>0</th>\n",
       "      <td>1000</td>\n",
       "      <td>5</td>\n",
       "      <td>2253.49</td>\n",
       "      <td>3.0</td>\n",
       "    </tr>\n",
       "    <tr>\n",
       "      <th>1</th>\n",
       "      <td>1000</td>\n",
       "      <td>6</td>\n",
       "      <td>23233.77</td>\n",
       "      <td>23.0</td>\n",
       "    </tr>\n",
       "    <tr>\n",
       "      <th>2</th>\n",
       "      <td>1000</td>\n",
       "      <td>7</td>\n",
       "      <td>14003.64</td>\n",
       "      <td>14.0</td>\n",
       "    </tr>\n",
       "    <tr>\n",
       "      <th>3</th>\n",
       "      <td>1000</td>\n",
       "      <td>8</td>\n",
       "      <td>14055.93</td>\n",
       "      <td>14.0</td>\n",
       "    </tr>\n",
       "    <tr>\n",
       "      <th>4</th>\n",
       "      <td>1000</td>\n",
       "      <td>9</td>\n",
       "      <td>14568.91</td>\n",
       "      <td>15.0</td>\n",
       "    </tr>\n",
       "  </tbody>\n",
       "</table>\n",
       "</div>"
      ],
      "text/plain": [
       "   user_id  month   mb_used  gb_used\n",
       "0     1000      5   2253.49      3.0\n",
       "1     1000      6  23233.77     23.0\n",
       "2     1000      7  14003.64     14.0\n",
       "3     1000      8  14055.93     14.0\n",
       "4     1000      9  14568.91     15.0"
      ]
     },
     "execution_count": 201,
     "metadata": {},
     "output_type": "execute_result"
    }
   ],
   "source": [
    "df_internet_groupby = df_internet.groupby(['user_id', 'month'])['mb_used'].sum() \n",
    "df_internet_groupby = df_internet_groupby.reset_index()\n",
    "df_internet_groupby['gb_used'] = df_internet_groupby['mb_used'] / 1024\n",
    "df_internet_groupby['gb_used'] = np.ceil(df_internet_groupby['gb_used'])\n",
    "df_internet_groupby.head()"
   ]
  },
  {
   "cell_type": "markdown",
   "id": "59d456aa",
   "metadata": {},
   "source": [
    "**Объединим** все датасеты с данными по пользователям."
   ]
  },
  {
   "cell_type": "code",
   "execution_count": 202,
   "id": "464c4e8e",
   "metadata": {
    "scrolled": false
   },
   "outputs": [
    {
     "data": {
      "text/html": [
       "<div>\n",
       "<style scoped>\n",
       "    .dataframe tbody tr th:only-of-type {\n",
       "        vertical-align: middle;\n",
       "    }\n",
       "\n",
       "    .dataframe tbody tr th {\n",
       "        vertical-align: top;\n",
       "    }\n",
       "\n",
       "    .dataframe thead th {\n",
       "        text-align: right;\n",
       "    }\n",
       "</style>\n",
       "<table border=\"1\" class=\"dataframe\">\n",
       "  <thead>\n",
       "    <tr style=\"text-align: right;\">\n",
       "      <th></th>\n",
       "      <th>user_id</th>\n",
       "      <th>month</th>\n",
       "      <th>calls_duration</th>\n",
       "      <th>calls_quantity</th>\n",
       "      <th>sms_quantity</th>\n",
       "      <th>mb_used</th>\n",
       "      <th>gb_used</th>\n",
       "      <th>age</th>\n",
       "      <th>churn_date</th>\n",
       "      <th>city</th>\n",
       "      <th>...</th>\n",
       "      <th>reg_date</th>\n",
       "      <th>tariff_name</th>\n",
       "      <th>messages_included</th>\n",
       "      <th>mb_per_month_included</th>\n",
       "      <th>minutes_included</th>\n",
       "      <th>rub_monthly_fee</th>\n",
       "      <th>rub_per_gb</th>\n",
       "      <th>rub_per_message</th>\n",
       "      <th>rub_per_minute</th>\n",
       "      <th>gb_per_month_included</th>\n",
       "    </tr>\n",
       "  </thead>\n",
       "  <tbody>\n",
       "    <tr>\n",
       "      <th>0</th>\n",
       "      <td>1000</td>\n",
       "      <td>5.0</td>\n",
       "      <td>159.0</td>\n",
       "      <td>22.0</td>\n",
       "      <td>22.0</td>\n",
       "      <td>2253.49</td>\n",
       "      <td>3.0</td>\n",
       "      <td>52</td>\n",
       "      <td>NaT</td>\n",
       "      <td>Краснодар</td>\n",
       "      <td>...</td>\n",
       "      <td>2018-05-25</td>\n",
       "      <td>ultra</td>\n",
       "      <td>1000</td>\n",
       "      <td>30720</td>\n",
       "      <td>3000</td>\n",
       "      <td>1950</td>\n",
       "      <td>150</td>\n",
       "      <td>1</td>\n",
       "      <td>1</td>\n",
       "      <td>30.0</td>\n",
       "    </tr>\n",
       "    <tr>\n",
       "      <th>1</th>\n",
       "      <td>1000</td>\n",
       "      <td>6.0</td>\n",
       "      <td>172.0</td>\n",
       "      <td>43.0</td>\n",
       "      <td>60.0</td>\n",
       "      <td>23233.77</td>\n",
       "      <td>23.0</td>\n",
       "      <td>52</td>\n",
       "      <td>NaT</td>\n",
       "      <td>Краснодар</td>\n",
       "      <td>...</td>\n",
       "      <td>2018-05-25</td>\n",
       "      <td>ultra</td>\n",
       "      <td>1000</td>\n",
       "      <td>30720</td>\n",
       "      <td>3000</td>\n",
       "      <td>1950</td>\n",
       "      <td>150</td>\n",
       "      <td>1</td>\n",
       "      <td>1</td>\n",
       "      <td>30.0</td>\n",
       "    </tr>\n",
       "    <tr>\n",
       "      <th>2</th>\n",
       "      <td>1000</td>\n",
       "      <td>7.0</td>\n",
       "      <td>340.0</td>\n",
       "      <td>47.0</td>\n",
       "      <td>75.0</td>\n",
       "      <td>14003.64</td>\n",
       "      <td>14.0</td>\n",
       "      <td>52</td>\n",
       "      <td>NaT</td>\n",
       "      <td>Краснодар</td>\n",
       "      <td>...</td>\n",
       "      <td>2018-05-25</td>\n",
       "      <td>ultra</td>\n",
       "      <td>1000</td>\n",
       "      <td>30720</td>\n",
       "      <td>3000</td>\n",
       "      <td>1950</td>\n",
       "      <td>150</td>\n",
       "      <td>1</td>\n",
       "      <td>1</td>\n",
       "      <td>30.0</td>\n",
       "    </tr>\n",
       "    <tr>\n",
       "      <th>3</th>\n",
       "      <td>1000</td>\n",
       "      <td>8.0</td>\n",
       "      <td>408.0</td>\n",
       "      <td>52.0</td>\n",
       "      <td>81.0</td>\n",
       "      <td>14055.93</td>\n",
       "      <td>14.0</td>\n",
       "      <td>52</td>\n",
       "      <td>NaT</td>\n",
       "      <td>Краснодар</td>\n",
       "      <td>...</td>\n",
       "      <td>2018-05-25</td>\n",
       "      <td>ultra</td>\n",
       "      <td>1000</td>\n",
       "      <td>30720</td>\n",
       "      <td>3000</td>\n",
       "      <td>1950</td>\n",
       "      <td>150</td>\n",
       "      <td>1</td>\n",
       "      <td>1</td>\n",
       "      <td>30.0</td>\n",
       "    </tr>\n",
       "    <tr>\n",
       "      <th>4</th>\n",
       "      <td>1000</td>\n",
       "      <td>9.0</td>\n",
       "      <td>466.0</td>\n",
       "      <td>58.0</td>\n",
       "      <td>57.0</td>\n",
       "      <td>14568.91</td>\n",
       "      <td>15.0</td>\n",
       "      <td>52</td>\n",
       "      <td>NaT</td>\n",
       "      <td>Краснодар</td>\n",
       "      <td>...</td>\n",
       "      <td>2018-05-25</td>\n",
       "      <td>ultra</td>\n",
       "      <td>1000</td>\n",
       "      <td>30720</td>\n",
       "      <td>3000</td>\n",
       "      <td>1950</td>\n",
       "      <td>150</td>\n",
       "      <td>1</td>\n",
       "      <td>1</td>\n",
       "      <td>30.0</td>\n",
       "    </tr>\n",
       "    <tr>\n",
       "      <th>...</th>\n",
       "      <td>...</td>\n",
       "      <td>...</td>\n",
       "      <td>...</td>\n",
       "      <td>...</td>\n",
       "      <td>...</td>\n",
       "      <td>...</td>\n",
       "      <td>...</td>\n",
       "      <td>...</td>\n",
       "      <td>...</td>\n",
       "      <td>...</td>\n",
       "      <td>...</td>\n",
       "      <td>...</td>\n",
       "      <td>...</td>\n",
       "      <td>...</td>\n",
       "      <td>...</td>\n",
       "      <td>...</td>\n",
       "      <td>...</td>\n",
       "      <td>...</td>\n",
       "      <td>...</td>\n",
       "      <td>...</td>\n",
       "      <td>...</td>\n",
       "    </tr>\n",
       "    <tr>\n",
       "      <th>3204</th>\n",
       "      <td>1498</td>\n",
       "      <td>9.0</td>\n",
       "      <td>471.0</td>\n",
       "      <td>59.0</td>\n",
       "      <td>44.0</td>\n",
       "      <td>22134.41</td>\n",
       "      <td>22.0</td>\n",
       "      <td>68</td>\n",
       "      <td>2018-10-25</td>\n",
       "      <td>Владикавказ</td>\n",
       "      <td>...</td>\n",
       "      <td>2018-07-19</td>\n",
       "      <td>smart</td>\n",
       "      <td>50</td>\n",
       "      <td>15360</td>\n",
       "      <td>500</td>\n",
       "      <td>550</td>\n",
       "      <td>200</td>\n",
       "      <td>3</td>\n",
       "      <td>3</td>\n",
       "      <td>15.0</td>\n",
       "    </tr>\n",
       "    <tr>\n",
       "      <th>3206</th>\n",
       "      <td>1499</td>\n",
       "      <td>9.0</td>\n",
       "      <td>70.0</td>\n",
       "      <td>9.0</td>\n",
       "      <td>11.0</td>\n",
       "      <td>1845.75</td>\n",
       "      <td>2.0</td>\n",
       "      <td>35</td>\n",
       "      <td>NaT</td>\n",
       "      <td>Пермь</td>\n",
       "      <td>...</td>\n",
       "      <td>2018-09-27</td>\n",
       "      <td>smart</td>\n",
       "      <td>50</td>\n",
       "      <td>15360</td>\n",
       "      <td>500</td>\n",
       "      <td>550</td>\n",
       "      <td>200</td>\n",
       "      <td>3</td>\n",
       "      <td>3</td>\n",
       "      <td>15.0</td>\n",
       "    </tr>\n",
       "    <tr>\n",
       "      <th>3207</th>\n",
       "      <td>1499</td>\n",
       "      <td>10.0</td>\n",
       "      <td>449.0</td>\n",
       "      <td>68.0</td>\n",
       "      <td>48.0</td>\n",
       "      <td>17788.51</td>\n",
       "      <td>18.0</td>\n",
       "      <td>35</td>\n",
       "      <td>NaT</td>\n",
       "      <td>Пермь</td>\n",
       "      <td>...</td>\n",
       "      <td>2018-09-27</td>\n",
       "      <td>smart</td>\n",
       "      <td>50</td>\n",
       "      <td>15360</td>\n",
       "      <td>500</td>\n",
       "      <td>550</td>\n",
       "      <td>200</td>\n",
       "      <td>3</td>\n",
       "      <td>3</td>\n",
       "      <td>15.0</td>\n",
       "    </tr>\n",
       "    <tr>\n",
       "      <th>3208</th>\n",
       "      <td>1499</td>\n",
       "      <td>11.0</td>\n",
       "      <td>612.0</td>\n",
       "      <td>74.0</td>\n",
       "      <td>59.0</td>\n",
       "      <td>17963.31</td>\n",
       "      <td>18.0</td>\n",
       "      <td>35</td>\n",
       "      <td>NaT</td>\n",
       "      <td>Пермь</td>\n",
       "      <td>...</td>\n",
       "      <td>2018-09-27</td>\n",
       "      <td>smart</td>\n",
       "      <td>50</td>\n",
       "      <td>15360</td>\n",
       "      <td>500</td>\n",
       "      <td>550</td>\n",
       "      <td>200</td>\n",
       "      <td>3</td>\n",
       "      <td>3</td>\n",
       "      <td>15.0</td>\n",
       "    </tr>\n",
       "    <tr>\n",
       "      <th>3209</th>\n",
       "      <td>1499</td>\n",
       "      <td>12.0</td>\n",
       "      <td>492.0</td>\n",
       "      <td>69.0</td>\n",
       "      <td>66.0</td>\n",
       "      <td>13055.58</td>\n",
       "      <td>13.0</td>\n",
       "      <td>35</td>\n",
       "      <td>NaT</td>\n",
       "      <td>Пермь</td>\n",
       "      <td>...</td>\n",
       "      <td>2018-09-27</td>\n",
       "      <td>smart</td>\n",
       "      <td>50</td>\n",
       "      <td>15360</td>\n",
       "      <td>500</td>\n",
       "      <td>550</td>\n",
       "      <td>200</td>\n",
       "      <td>3</td>\n",
       "      <td>3</td>\n",
       "      <td>15.0</td>\n",
       "    </tr>\n",
       "  </tbody>\n",
       "</table>\n",
       "<p>3216 rows × 22 columns</p>\n",
       "</div>"
      ],
      "text/plain": [
       "      user_id  month  calls_duration  calls_quantity  sms_quantity   mb_used  \\\n",
       "0        1000    5.0           159.0            22.0          22.0   2253.49   \n",
       "1        1000    6.0           172.0            43.0          60.0  23233.77   \n",
       "2        1000    7.0           340.0            47.0          75.0  14003.64   \n",
       "3        1000    8.0           408.0            52.0          81.0  14055.93   \n",
       "4        1000    9.0           466.0            58.0          57.0  14568.91   \n",
       "...       ...    ...             ...             ...           ...       ...   \n",
       "3204     1498    9.0           471.0            59.0          44.0  22134.41   \n",
       "3206     1499    9.0            70.0             9.0          11.0   1845.75   \n",
       "3207     1499   10.0           449.0            68.0          48.0  17788.51   \n",
       "3208     1499   11.0           612.0            74.0          59.0  17963.31   \n",
       "3209     1499   12.0           492.0            69.0          66.0  13055.58   \n",
       "\n",
       "      gb_used  age churn_date         city  ...   reg_date tariff_name  \\\n",
       "0         3.0   52        NaT    Краснодар  ... 2018-05-25       ultra   \n",
       "1        23.0   52        NaT    Краснодар  ... 2018-05-25       ultra   \n",
       "2        14.0   52        NaT    Краснодар  ... 2018-05-25       ultra   \n",
       "3        14.0   52        NaT    Краснодар  ... 2018-05-25       ultra   \n",
       "4        15.0   52        NaT    Краснодар  ... 2018-05-25       ultra   \n",
       "...       ...  ...        ...          ...  ...        ...         ...   \n",
       "3204     22.0   68 2018-10-25  Владикавказ  ... 2018-07-19       smart   \n",
       "3206      2.0   35        NaT        Пермь  ... 2018-09-27       smart   \n",
       "3207     18.0   35        NaT        Пермь  ... 2018-09-27       smart   \n",
       "3208     18.0   35        NaT        Пермь  ... 2018-09-27       smart   \n",
       "3209     13.0   35        NaT        Пермь  ... 2018-09-27       smart   \n",
       "\n",
       "     messages_included mb_per_month_included  minutes_included  \\\n",
       "0                 1000                 30720              3000   \n",
       "1                 1000                 30720              3000   \n",
       "2                 1000                 30720              3000   \n",
       "3                 1000                 30720              3000   \n",
       "4                 1000                 30720              3000   \n",
       "...                ...                   ...               ...   \n",
       "3204                50                 15360               500   \n",
       "3206                50                 15360               500   \n",
       "3207                50                 15360               500   \n",
       "3208                50                 15360               500   \n",
       "3209                50                 15360               500   \n",
       "\n",
       "      rub_monthly_fee  rub_per_gb  rub_per_message  rub_per_minute  \\\n",
       "0                1950         150                1               1   \n",
       "1                1950         150                1               1   \n",
       "2                1950         150                1               1   \n",
       "3                1950         150                1               1   \n",
       "4                1950         150                1               1   \n",
       "...               ...         ...              ...             ...   \n",
       "3204              550         200                3               3   \n",
       "3206              550         200                3               3   \n",
       "3207              550         200                3               3   \n",
       "3208              550         200                3               3   \n",
       "3209              550         200                3               3   \n",
       "\n",
       "      gb_per_month_included  \n",
       "0                      30.0  \n",
       "1                      30.0  \n",
       "2                      30.0  \n",
       "3                      30.0  \n",
       "4                      30.0  \n",
       "...                     ...  \n",
       "3204                   15.0  \n",
       "3206                   15.0  \n",
       "3207                   15.0  \n",
       "3208                   15.0  \n",
       "3209                   15.0  \n",
       "\n",
       "[3216 rows x 22 columns]"
      ]
     },
     "execution_count": 202,
     "metadata": {},
     "output_type": "execute_result"
    }
   ],
   "source": [
    "df_users_pivot = df_calls_duration.merge(df_calls_quantity, on=['user_id','month'], how='outer')\n",
    "df_users_pivot = df_users_pivot.merge(df_messages_groupby, on=['user_id','month'], how='outer')\n",
    "df_users_pivot = df_users_pivot.merge(df_internet_groupby, on=['user_id','month'], how='outer')\n",
    "df_users_pivot = df_users_pivot.merge(df_users, on='user_id', how='outer')\n",
    "df_users_pivot = df_users_pivot.rename(columns={'tariff':'tariff_name'})\n",
    "df_users_pivot = df_users_pivot.merge(df_tariffs, on='tariff_name', how='outer')\n",
    "df_users_pivot = df_users_pivot.sort_values(by='user_id')\n",
    "\n",
    "df_users_pivot"
   ]
  },
  {
   "cell_type": "code",
   "execution_count": 203,
   "id": "80c142f0",
   "metadata": {},
   "outputs": [
    {
     "name": "stdout",
     "output_type": "stream",
     "text": [
      "0\n"
     ]
    }
   ],
   "source": [
    "print(df_users_pivot.duplicated().sum())"
   ]
  },
  {
   "cell_type": "code",
   "execution_count": 204,
   "id": "0df819a5",
   "metadata": {
    "scrolled": false
   },
   "outputs": [
    {
     "name": "stdout",
     "output_type": "stream",
     "text": [
      "<class 'pandas.core.frame.DataFrame'>\n",
      "Int64Index: 3216 entries, 0 to 3209\n",
      "Data columns (total 22 columns):\n",
      " #   Column                 Non-Null Count  Dtype         \n",
      "---  ------                 --------------  -----         \n",
      " 0   user_id                3216 non-null   int64         \n",
      " 1   month                  3214 non-null   float64       \n",
      " 2   calls_duration         3174 non-null   float64       \n",
      " 3   calls_quantity         3174 non-null   float64       \n",
      " 4   sms_quantity           2717 non-null   float64       \n",
      " 5   mb_used                3203 non-null   float64       \n",
      " 6   gb_used                3203 non-null   float64       \n",
      " 7   age                    3216 non-null   int64         \n",
      " 8   churn_date             189 non-null    datetime64[ns]\n",
      " 9   city                   3216 non-null   object        \n",
      " 10  first_name             3216 non-null   object        \n",
      " 11  last_name              3216 non-null   object        \n",
      " 12  reg_date               3216 non-null   datetime64[ns]\n",
      " 13  tariff_name            3216 non-null   object        \n",
      " 14  messages_included      3216 non-null   int64         \n",
      " 15  mb_per_month_included  3216 non-null   int64         \n",
      " 16  minutes_included       3216 non-null   int64         \n",
      " 17  rub_monthly_fee        3216 non-null   int64         \n",
      " 18  rub_per_gb             3216 non-null   int64         \n",
      " 19  rub_per_message        3216 non-null   int64         \n",
      " 20  rub_per_minute         3216 non-null   int64         \n",
      " 21  gb_per_month_included  3216 non-null   float64       \n",
      "dtypes: datetime64[ns](2), float64(7), int64(9), object(4)\n",
      "memory usage: 577.9+ KB\n"
     ]
    }
   ],
   "source": [
    "df_users_pivot.info()"
   ]
  },
  {
   "cell_type": "markdown",
   "id": "ab00330f",
   "metadata": {},
   "source": [
    "Заполним пропуски данных"
   ]
  },
  {
   "cell_type": "code",
   "execution_count": 205,
   "id": "dadb3d3c",
   "metadata": {
    "scrolled": false
   },
   "outputs": [
    {
     "name": "stdout",
     "output_type": "stream",
     "text": [
      "<class 'pandas.core.frame.DataFrame'>\n",
      "Int64Index: 3216 entries, 0 to 3209\n",
      "Data columns (total 22 columns):\n",
      " #   Column                 Non-Null Count  Dtype         \n",
      "---  ------                 --------------  -----         \n",
      " 0   user_id                3216 non-null   int64         \n",
      " 1   month                  3214 non-null   float64       \n",
      " 2   calls_duration         3216 non-null   float64       \n",
      " 3   calls_quantity         3216 non-null   float64       \n",
      " 4   sms_quantity           3216 non-null   float64       \n",
      " 5   mb_used                3203 non-null   float64       \n",
      " 6   gb_used                3216 non-null   float64       \n",
      " 7   age                    3216 non-null   int64         \n",
      " 8   churn_date             189 non-null    datetime64[ns]\n",
      " 9   city                   3216 non-null   object        \n",
      " 10  first_name             3216 non-null   object        \n",
      " 11  last_name              3216 non-null   object        \n",
      " 12  reg_date               3216 non-null   datetime64[ns]\n",
      " 13  tariff_name            3216 non-null   object        \n",
      " 14  messages_included      3216 non-null   int64         \n",
      " 15  mb_per_month_included  3216 non-null   int64         \n",
      " 16  minutes_included       3216 non-null   int64         \n",
      " 17  rub_monthly_fee        3216 non-null   int64         \n",
      " 18  rub_per_gb             3216 non-null   int64         \n",
      " 19  rub_per_message        3216 non-null   int64         \n",
      " 20  rub_per_minute         3216 non-null   int64         \n",
      " 21  gb_per_month_included  3216 non-null   float64       \n",
      "dtypes: datetime64[ns](2), float64(7), int64(9), object(4)\n",
      "memory usage: 577.9+ KB\n"
     ]
    }
   ],
   "source": [
    "df_users_pivot['calls_duration'] = df_users_pivot['calls_duration'].fillna(0)\n",
    "df_users_pivot['calls_quantity'] = df_users_pivot['calls_quantity'].fillna(0)\n",
    "df_users_pivot['sms_quantity'] = df_users_pivot['sms_quantity'].fillna(0)\n",
    "df_users_pivot['gb_used'] = df_users_pivot['gb_used'].fillna(0)\n",
    "df_users_pivot.info()"
   ]
  },
  {
   "cell_type": "markdown",
   "id": "e1529ed5",
   "metadata": {},
   "source": [
    "Посчитаем **помесячную выручку** с каждого пользователя."
   ]
  },
  {
   "cell_type": "code",
   "execution_count": 206,
   "id": "7adb8c3a",
   "metadata": {
    "scrolled": true
   },
   "outputs": [
    {
     "data": {
      "text/html": [
       "<div>\n",
       "<style scoped>\n",
       "    .dataframe tbody tr th:only-of-type {\n",
       "        vertical-align: middle;\n",
       "    }\n",
       "\n",
       "    .dataframe tbody tr th {\n",
       "        vertical-align: top;\n",
       "    }\n",
       "\n",
       "    .dataframe thead th {\n",
       "        text-align: right;\n",
       "    }\n",
       "</style>\n",
       "<table border=\"1\" class=\"dataframe\">\n",
       "  <thead>\n",
       "    <tr style=\"text-align: right;\">\n",
       "      <th></th>\n",
       "      <th>user_id</th>\n",
       "      <th>month</th>\n",
       "      <th>calls_duration</th>\n",
       "      <th>calls_quantity</th>\n",
       "      <th>sms_quantity</th>\n",
       "      <th>mb_used</th>\n",
       "      <th>gb_used</th>\n",
       "      <th>age</th>\n",
       "      <th>churn_date</th>\n",
       "      <th>city</th>\n",
       "      <th>...</th>\n",
       "      <th>mb_per_month_included</th>\n",
       "      <th>minutes_included</th>\n",
       "      <th>rub_monthly_fee</th>\n",
       "      <th>rub_per_gb</th>\n",
       "      <th>rub_per_message</th>\n",
       "      <th>rub_per_minute</th>\n",
       "      <th>gb_per_month_included</th>\n",
       "      <th>calls_overrun</th>\n",
       "      <th>sms_overrun</th>\n",
       "      <th>gb_used_overrun</th>\n",
       "    </tr>\n",
       "  </thead>\n",
       "  <tbody>\n",
       "    <tr>\n",
       "      <th>0</th>\n",
       "      <td>1000</td>\n",
       "      <td>5.0</td>\n",
       "      <td>159.0</td>\n",
       "      <td>22.0</td>\n",
       "      <td>22.0</td>\n",
       "      <td>2253.49</td>\n",
       "      <td>3.0</td>\n",
       "      <td>52</td>\n",
       "      <td>NaT</td>\n",
       "      <td>Краснодар</td>\n",
       "      <td>...</td>\n",
       "      <td>30720</td>\n",
       "      <td>3000</td>\n",
       "      <td>1950</td>\n",
       "      <td>150</td>\n",
       "      <td>1</td>\n",
       "      <td>1</td>\n",
       "      <td>30.0</td>\n",
       "      <td>-2841.0</td>\n",
       "      <td>-978.0</td>\n",
       "      <td>-27.0</td>\n",
       "    </tr>\n",
       "    <tr>\n",
       "      <th>1</th>\n",
       "      <td>1000</td>\n",
       "      <td>6.0</td>\n",
       "      <td>172.0</td>\n",
       "      <td>43.0</td>\n",
       "      <td>60.0</td>\n",
       "      <td>23233.77</td>\n",
       "      <td>23.0</td>\n",
       "      <td>52</td>\n",
       "      <td>NaT</td>\n",
       "      <td>Краснодар</td>\n",
       "      <td>...</td>\n",
       "      <td>30720</td>\n",
       "      <td>3000</td>\n",
       "      <td>1950</td>\n",
       "      <td>150</td>\n",
       "      <td>1</td>\n",
       "      <td>1</td>\n",
       "      <td>30.0</td>\n",
       "      <td>-2828.0</td>\n",
       "      <td>-940.0</td>\n",
       "      <td>-7.0</td>\n",
       "    </tr>\n",
       "    <tr>\n",
       "      <th>2</th>\n",
       "      <td>1000</td>\n",
       "      <td>7.0</td>\n",
       "      <td>340.0</td>\n",
       "      <td>47.0</td>\n",
       "      <td>75.0</td>\n",
       "      <td>14003.64</td>\n",
       "      <td>14.0</td>\n",
       "      <td>52</td>\n",
       "      <td>NaT</td>\n",
       "      <td>Краснодар</td>\n",
       "      <td>...</td>\n",
       "      <td>30720</td>\n",
       "      <td>3000</td>\n",
       "      <td>1950</td>\n",
       "      <td>150</td>\n",
       "      <td>1</td>\n",
       "      <td>1</td>\n",
       "      <td>30.0</td>\n",
       "      <td>-2660.0</td>\n",
       "      <td>-925.0</td>\n",
       "      <td>-16.0</td>\n",
       "    </tr>\n",
       "    <tr>\n",
       "      <th>3</th>\n",
       "      <td>1000</td>\n",
       "      <td>8.0</td>\n",
       "      <td>408.0</td>\n",
       "      <td>52.0</td>\n",
       "      <td>81.0</td>\n",
       "      <td>14055.93</td>\n",
       "      <td>14.0</td>\n",
       "      <td>52</td>\n",
       "      <td>NaT</td>\n",
       "      <td>Краснодар</td>\n",
       "      <td>...</td>\n",
       "      <td>30720</td>\n",
       "      <td>3000</td>\n",
       "      <td>1950</td>\n",
       "      <td>150</td>\n",
       "      <td>1</td>\n",
       "      <td>1</td>\n",
       "      <td>30.0</td>\n",
       "      <td>-2592.0</td>\n",
       "      <td>-919.0</td>\n",
       "      <td>-16.0</td>\n",
       "    </tr>\n",
       "    <tr>\n",
       "      <th>4</th>\n",
       "      <td>1000</td>\n",
       "      <td>9.0</td>\n",
       "      <td>466.0</td>\n",
       "      <td>58.0</td>\n",
       "      <td>57.0</td>\n",
       "      <td>14568.91</td>\n",
       "      <td>15.0</td>\n",
       "      <td>52</td>\n",
       "      <td>NaT</td>\n",
       "      <td>Краснодар</td>\n",
       "      <td>...</td>\n",
       "      <td>30720</td>\n",
       "      <td>3000</td>\n",
       "      <td>1950</td>\n",
       "      <td>150</td>\n",
       "      <td>1</td>\n",
       "      <td>1</td>\n",
       "      <td>30.0</td>\n",
       "      <td>-2534.0</td>\n",
       "      <td>-943.0</td>\n",
       "      <td>-15.0</td>\n",
       "    </tr>\n",
       "  </tbody>\n",
       "</table>\n",
       "<p>5 rows × 25 columns</p>\n",
       "</div>"
      ],
      "text/plain": [
       "   user_id  month  calls_duration  calls_quantity  sms_quantity   mb_used  \\\n",
       "0     1000    5.0           159.0            22.0          22.0   2253.49   \n",
       "1     1000    6.0           172.0            43.0          60.0  23233.77   \n",
       "2     1000    7.0           340.0            47.0          75.0  14003.64   \n",
       "3     1000    8.0           408.0            52.0          81.0  14055.93   \n",
       "4     1000    9.0           466.0            58.0          57.0  14568.91   \n",
       "\n",
       "   gb_used  age churn_date       city  ... mb_per_month_included  \\\n",
       "0      3.0   52        NaT  Краснодар  ...                 30720   \n",
       "1     23.0   52        NaT  Краснодар  ...                 30720   \n",
       "2     14.0   52        NaT  Краснодар  ...                 30720   \n",
       "3     14.0   52        NaT  Краснодар  ...                 30720   \n",
       "4     15.0   52        NaT  Краснодар  ...                 30720   \n",
       "\n",
       "  minutes_included rub_monthly_fee rub_per_gb  rub_per_message  \\\n",
       "0             3000            1950        150                1   \n",
       "1             3000            1950        150                1   \n",
       "2             3000            1950        150                1   \n",
       "3             3000            1950        150                1   \n",
       "4             3000            1950        150                1   \n",
       "\n",
       "   rub_per_minute  gb_per_month_included  calls_overrun  sms_overrun  \\\n",
       "0               1                   30.0        -2841.0       -978.0   \n",
       "1               1                   30.0        -2828.0       -940.0   \n",
       "2               1                   30.0        -2660.0       -925.0   \n",
       "3               1                   30.0        -2592.0       -919.0   \n",
       "4               1                   30.0        -2534.0       -943.0   \n",
       "\n",
       "   gb_used_overrun  \n",
       "0            -27.0  \n",
       "1             -7.0  \n",
       "2            -16.0  \n",
       "3            -16.0  \n",
       "4            -15.0  \n",
       "\n",
       "[5 rows x 25 columns]"
      ]
     },
     "execution_count": 206,
     "metadata": {},
     "output_type": "execute_result"
    }
   ],
   "source": [
    "df_users_pivot['calls_overrun']  = df_users_pivot['calls_duration'] - df_users_pivot['minutes_included']\n",
    "df_users_pivot['sms_overrun'] = df_users_pivot['sms_quantity'] - df_users_pivot['messages_included']\n",
    "df_users_pivot['gb_used_overrun']  = df_users_pivot['gb_used'] - df_users_pivot['gb_per_month_included'] \n",
    "df_users_pivot.head()"
   ]
  },
  {
   "cell_type": "code",
   "execution_count": 207,
   "id": "5c211121",
   "metadata": {},
   "outputs": [],
   "source": [
    "def get_revenue(row):\n",
    "    revenue_by_min = 0\n",
    "    revenue_by_messages = 0\n",
    "    revenue_gb = 0\n",
    "\n",
    "    if row['calls_overrun'] > 0:\n",
    "        revenue_by_min = row['calls_overrun'] * row['rub_per_minute']\n",
    "    if row['sms_overrun'] > 0:\n",
    "        revenue_by_messages = row['sms_overrun'] * row['rub_per_message']\n",
    "    if row['gb_used_overrun'] > 0:\n",
    "        revenue_gb = row['gb_used_overrun'] * row['rub_per_gb']\n",
    "\n",
    "    return revenue_by_min + revenue_by_messages + revenue_gb + row['rub_monthly_fee']"
   ]
  },
  {
   "cell_type": "code",
   "execution_count": 208,
   "id": "e14afbec",
   "metadata": {
    "scrolled": true
   },
   "outputs": [
    {
     "data": {
      "text/html": [
       "<div>\n",
       "<style scoped>\n",
       "    .dataframe tbody tr th:only-of-type {\n",
       "        vertical-align: middle;\n",
       "    }\n",
       "\n",
       "    .dataframe tbody tr th {\n",
       "        vertical-align: top;\n",
       "    }\n",
       "\n",
       "    .dataframe thead th {\n",
       "        text-align: right;\n",
       "    }\n",
       "</style>\n",
       "<table border=\"1\" class=\"dataframe\">\n",
       "  <thead>\n",
       "    <tr style=\"text-align: right;\">\n",
       "      <th></th>\n",
       "      <th>user_id</th>\n",
       "      <th>month</th>\n",
       "      <th>calls_duration</th>\n",
       "      <th>calls_quantity</th>\n",
       "      <th>sms_quantity</th>\n",
       "      <th>mb_used</th>\n",
       "      <th>gb_used</th>\n",
       "      <th>age</th>\n",
       "      <th>churn_date</th>\n",
       "      <th>city</th>\n",
       "      <th>...</th>\n",
       "      <th>minutes_included</th>\n",
       "      <th>rub_monthly_fee</th>\n",
       "      <th>rub_per_gb</th>\n",
       "      <th>rub_per_message</th>\n",
       "      <th>rub_per_minute</th>\n",
       "      <th>gb_per_month_included</th>\n",
       "      <th>calls_overrun</th>\n",
       "      <th>sms_overrun</th>\n",
       "      <th>gb_used_overrun</th>\n",
       "      <th>revenue</th>\n",
       "    </tr>\n",
       "  </thead>\n",
       "  <tbody>\n",
       "    <tr>\n",
       "      <th>0</th>\n",
       "      <td>1000</td>\n",
       "      <td>5.0</td>\n",
       "      <td>159.0</td>\n",
       "      <td>22.0</td>\n",
       "      <td>22.0</td>\n",
       "      <td>2253.49</td>\n",
       "      <td>3.0</td>\n",
       "      <td>52</td>\n",
       "      <td>NaT</td>\n",
       "      <td>Краснодар</td>\n",
       "      <td>...</td>\n",
       "      <td>3000</td>\n",
       "      <td>1950</td>\n",
       "      <td>150</td>\n",
       "      <td>1</td>\n",
       "      <td>1</td>\n",
       "      <td>30.0</td>\n",
       "      <td>-2841.0</td>\n",
       "      <td>-978.0</td>\n",
       "      <td>-27.0</td>\n",
       "      <td>1950.0</td>\n",
       "    </tr>\n",
       "    <tr>\n",
       "      <th>1</th>\n",
       "      <td>1000</td>\n",
       "      <td>6.0</td>\n",
       "      <td>172.0</td>\n",
       "      <td>43.0</td>\n",
       "      <td>60.0</td>\n",
       "      <td>23233.77</td>\n",
       "      <td>23.0</td>\n",
       "      <td>52</td>\n",
       "      <td>NaT</td>\n",
       "      <td>Краснодар</td>\n",
       "      <td>...</td>\n",
       "      <td>3000</td>\n",
       "      <td>1950</td>\n",
       "      <td>150</td>\n",
       "      <td>1</td>\n",
       "      <td>1</td>\n",
       "      <td>30.0</td>\n",
       "      <td>-2828.0</td>\n",
       "      <td>-940.0</td>\n",
       "      <td>-7.0</td>\n",
       "      <td>1950.0</td>\n",
       "    </tr>\n",
       "    <tr>\n",
       "      <th>2</th>\n",
       "      <td>1000</td>\n",
       "      <td>7.0</td>\n",
       "      <td>340.0</td>\n",
       "      <td>47.0</td>\n",
       "      <td>75.0</td>\n",
       "      <td>14003.64</td>\n",
       "      <td>14.0</td>\n",
       "      <td>52</td>\n",
       "      <td>NaT</td>\n",
       "      <td>Краснодар</td>\n",
       "      <td>...</td>\n",
       "      <td>3000</td>\n",
       "      <td>1950</td>\n",
       "      <td>150</td>\n",
       "      <td>1</td>\n",
       "      <td>1</td>\n",
       "      <td>30.0</td>\n",
       "      <td>-2660.0</td>\n",
       "      <td>-925.0</td>\n",
       "      <td>-16.0</td>\n",
       "      <td>1950.0</td>\n",
       "    </tr>\n",
       "    <tr>\n",
       "      <th>3</th>\n",
       "      <td>1000</td>\n",
       "      <td>8.0</td>\n",
       "      <td>408.0</td>\n",
       "      <td>52.0</td>\n",
       "      <td>81.0</td>\n",
       "      <td>14055.93</td>\n",
       "      <td>14.0</td>\n",
       "      <td>52</td>\n",
       "      <td>NaT</td>\n",
       "      <td>Краснодар</td>\n",
       "      <td>...</td>\n",
       "      <td>3000</td>\n",
       "      <td>1950</td>\n",
       "      <td>150</td>\n",
       "      <td>1</td>\n",
       "      <td>1</td>\n",
       "      <td>30.0</td>\n",
       "      <td>-2592.0</td>\n",
       "      <td>-919.0</td>\n",
       "      <td>-16.0</td>\n",
       "      <td>1950.0</td>\n",
       "    </tr>\n",
       "    <tr>\n",
       "      <th>4</th>\n",
       "      <td>1000</td>\n",
       "      <td>9.0</td>\n",
       "      <td>466.0</td>\n",
       "      <td>58.0</td>\n",
       "      <td>57.0</td>\n",
       "      <td>14568.91</td>\n",
       "      <td>15.0</td>\n",
       "      <td>52</td>\n",
       "      <td>NaT</td>\n",
       "      <td>Краснодар</td>\n",
       "      <td>...</td>\n",
       "      <td>3000</td>\n",
       "      <td>1950</td>\n",
       "      <td>150</td>\n",
       "      <td>1</td>\n",
       "      <td>1</td>\n",
       "      <td>30.0</td>\n",
       "      <td>-2534.0</td>\n",
       "      <td>-943.0</td>\n",
       "      <td>-15.0</td>\n",
       "      <td>1950.0</td>\n",
       "    </tr>\n",
       "  </tbody>\n",
       "</table>\n",
       "<p>5 rows × 26 columns</p>\n",
       "</div>"
      ],
      "text/plain": [
       "   user_id  month  calls_duration  calls_quantity  sms_quantity   mb_used  \\\n",
       "0     1000    5.0           159.0            22.0          22.0   2253.49   \n",
       "1     1000    6.0           172.0            43.0          60.0  23233.77   \n",
       "2     1000    7.0           340.0            47.0          75.0  14003.64   \n",
       "3     1000    8.0           408.0            52.0          81.0  14055.93   \n",
       "4     1000    9.0           466.0            58.0          57.0  14568.91   \n",
       "\n",
       "   gb_used  age churn_date       city  ... minutes_included rub_monthly_fee  \\\n",
       "0      3.0   52        NaT  Краснодар  ...             3000            1950   \n",
       "1     23.0   52        NaT  Краснодар  ...             3000            1950   \n",
       "2     14.0   52        NaT  Краснодар  ...             3000            1950   \n",
       "3     14.0   52        NaT  Краснодар  ...             3000            1950   \n",
       "4     15.0   52        NaT  Краснодар  ...             3000            1950   \n",
       "\n",
       "  rub_per_gb rub_per_message  rub_per_minute  gb_per_month_included  \\\n",
       "0        150               1               1                   30.0   \n",
       "1        150               1               1                   30.0   \n",
       "2        150               1               1                   30.0   \n",
       "3        150               1               1                   30.0   \n",
       "4        150               1               1                   30.0   \n",
       "\n",
       "   calls_overrun  sms_overrun  gb_used_overrun  revenue  \n",
       "0        -2841.0       -978.0            -27.0   1950.0  \n",
       "1        -2828.0       -940.0             -7.0   1950.0  \n",
       "2        -2660.0       -925.0            -16.0   1950.0  \n",
       "3        -2592.0       -919.0            -16.0   1950.0  \n",
       "4        -2534.0       -943.0            -15.0   1950.0  \n",
       "\n",
       "[5 rows x 26 columns]"
      ]
     },
     "execution_count": 208,
     "metadata": {},
     "output_type": "execute_result"
    }
   ],
   "source": [
    "df_users_pivot['revenue'] = df_users_pivot.apply(get_revenue, axis=1)\n",
    "df_users_pivot.head()"
   ]
  },
  {
   "cell_type": "code",
   "execution_count": 209,
   "id": "987d7fa4",
   "metadata": {},
   "outputs": [
    {
     "data": {
      "text/plain": [
       "4916951.0"
      ]
     },
     "execution_count": 209,
     "metadata": {},
     "output_type": "execute_result"
    }
   ],
   "source": [
    "# check\n",
    "df_users_pivot['revenue'].sum()"
   ]
  },
  {
   "cell_type": "code",
   "execution_count": 210,
   "id": "54133fe7",
   "metadata": {
    "scrolled": true
   },
   "outputs": [
    {
     "name": "stdout",
     "output_type": "stream",
     "text": [
      "Выручка от пользователей тарифа Смарт: 2875901.0\n",
      "Выручка от пользователей тарифа Ультра: 2041050.0\n"
     ]
    }
   ],
   "source": [
    "print('Выручка от пользователей тарифа Смарт:', df_users_pivot[df_users_pivot['tariff_name'] == 'smart']['revenue'].sum())\n",
    "print('Выручка от пользователей тарифа Ультра:', df_users_pivot[df_users_pivot['tariff_name'] == 'ultra']['revenue'].sum())"
   ]
  },
  {
   "cell_type": "code",
   "execution_count": 211,
   "id": "f086aa9a",
   "metadata": {},
   "outputs": [
    {
     "data": {
      "text/html": [
       "<div>\n",
       "<style scoped>\n",
       "    .dataframe tbody tr th:only-of-type {\n",
       "        vertical-align: middle;\n",
       "    }\n",
       "\n",
       "    .dataframe tbody tr th {\n",
       "        vertical-align: top;\n",
       "    }\n",
       "\n",
       "    .dataframe thead th {\n",
       "        text-align: right;\n",
       "    }\n",
       "</style>\n",
       "<table border=\"1\" class=\"dataframe\">\n",
       "  <thead>\n",
       "    <tr style=\"text-align: right;\">\n",
       "      <th></th>\n",
       "      <th>user_id</th>\n",
       "      <th>month</th>\n",
       "      <th>calls_duration</th>\n",
       "      <th>calls_quantity</th>\n",
       "      <th>sms_quantity</th>\n",
       "      <th>mb_used</th>\n",
       "      <th>gb_used</th>\n",
       "      <th>calls_overrun</th>\n",
       "      <th>sms_overrun</th>\n",
       "      <th>gb_used_overrun</th>\n",
       "      <th>revenue</th>\n",
       "    </tr>\n",
       "  </thead>\n",
       "  <tbody>\n",
       "    <tr>\n",
       "      <th>3190</th>\n",
       "      <td>1496</td>\n",
       "      <td>4.0</td>\n",
       "      <td>521.0</td>\n",
       "      <td>67.0</td>\n",
       "      <td>49.0</td>\n",
       "      <td>21074.67</td>\n",
       "      <td>21.0</td>\n",
       "      <td>21.0</td>\n",
       "      <td>-1.0</td>\n",
       "      <td>6.0</td>\n",
       "      <td>1813.0</td>\n",
       "    </tr>\n",
       "    <tr>\n",
       "      <th>3192</th>\n",
       "      <td>1496</td>\n",
       "      <td>6.0</td>\n",
       "      <td>555.0</td>\n",
       "      <td>74.0</td>\n",
       "      <td>35.0</td>\n",
       "      <td>20134.31</td>\n",
       "      <td>20.0</td>\n",
       "      <td>55.0</td>\n",
       "      <td>-15.0</td>\n",
       "      <td>5.0</td>\n",
       "      <td>1715.0</td>\n",
       "    </tr>\n",
       "    <tr>\n",
       "      <th>3201</th>\n",
       "      <td>1497</td>\n",
       "      <td>12.0</td>\n",
       "      <td>545.0</td>\n",
       "      <td>71.0</td>\n",
       "      <td>17.0</td>\n",
       "      <td>19918.60</td>\n",
       "      <td>20.0</td>\n",
       "      <td>45.0</td>\n",
       "      <td>-33.0</td>\n",
       "      <td>5.0</td>\n",
       "      <td>1685.0</td>\n",
       "    </tr>\n",
       "    <tr>\n",
       "      <th>3208</th>\n",
       "      <td>1499</td>\n",
       "      <td>11.0</td>\n",
       "      <td>612.0</td>\n",
       "      <td>74.0</td>\n",
       "      <td>59.0</td>\n",
       "      <td>17963.31</td>\n",
       "      <td>18.0</td>\n",
       "      <td>112.0</td>\n",
       "      <td>9.0</td>\n",
       "      <td>3.0</td>\n",
       "      <td>1513.0</td>\n",
       "    </tr>\n",
       "  </tbody>\n",
       "</table>\n",
       "</div>"
      ],
      "text/plain": [
       "      user_id  month  calls_duration  calls_quantity  sms_quantity   mb_used  \\\n",
       "3190     1496    4.0           521.0            67.0          49.0  21074.67   \n",
       "3192     1496    6.0           555.0            74.0          35.0  20134.31   \n",
       "3201     1497   12.0           545.0            71.0          17.0  19918.60   \n",
       "3208     1499   11.0           612.0            74.0          59.0  17963.31   \n",
       "\n",
       "      gb_used  calls_overrun  sms_overrun  gb_used_overrun  revenue  \n",
       "3190     21.0           21.0         -1.0              6.0   1813.0  \n",
       "3192     20.0           55.0        -15.0              5.0   1715.0  \n",
       "3201     20.0           45.0        -33.0              5.0   1685.0  \n",
       "3208     18.0          112.0          9.0              3.0   1513.0  "
      ]
     },
     "execution_count": 211,
     "metadata": {},
     "output_type": "execute_result"
    }
   ],
   "source": [
    "# check\n",
    "df_users_pivot[df_users_pivot['calls_duration'] >500][['user_id', \n",
    "       'month', 'calls_duration', 'calls_quantity',\n",
    "       'sms_quantity', 'mb_used', 'gb_used', 'calls_overrun', 'sms_overrun',\n",
    "       'gb_used_overrun', 'revenue']].tail(4)"
   ]
  },
  {
   "cell_type": "code",
   "execution_count": 212,
   "id": "83f6158d",
   "metadata": {},
   "outputs": [
    {
     "name": "stdout",
     "output_type": "stream",
     "text": [
      "<class 'pandas.core.frame.DataFrame'>\n",
      "Int64Index: 3216 entries, 0 to 3209\n",
      "Data columns (total 26 columns):\n",
      " #   Column                 Non-Null Count  Dtype         \n",
      "---  ------                 --------------  -----         \n",
      " 0   user_id                3216 non-null   int64         \n",
      " 1   month                  3214 non-null   float64       \n",
      " 2   calls_duration         3216 non-null   float64       \n",
      " 3   calls_quantity         3216 non-null   float64       \n",
      " 4   sms_quantity           3216 non-null   float64       \n",
      " 5   mb_used                3203 non-null   float64       \n",
      " 6   gb_used                3216 non-null   float64       \n",
      " 7   age                    3216 non-null   int64         \n",
      " 8   churn_date             189 non-null    datetime64[ns]\n",
      " 9   city                   3216 non-null   object        \n",
      " 10  first_name             3216 non-null   object        \n",
      " 11  last_name              3216 non-null   object        \n",
      " 12  reg_date               3216 non-null   datetime64[ns]\n",
      " 13  tariff_name            3216 non-null   object        \n",
      " 14  messages_included      3216 non-null   int64         \n",
      " 15  mb_per_month_included  3216 non-null   int64         \n",
      " 16  minutes_included       3216 non-null   int64         \n",
      " 17  rub_monthly_fee        3216 non-null   int64         \n",
      " 18  rub_per_gb             3216 non-null   int64         \n",
      " 19  rub_per_message        3216 non-null   int64         \n",
      " 20  rub_per_minute         3216 non-null   int64         \n",
      " 21  gb_per_month_included  3216 non-null   float64       \n",
      " 22  calls_overrun          3216 non-null   float64       \n",
      " 23  sms_overrun            3216 non-null   float64       \n",
      " 24  gb_used_overrun        3216 non-null   float64       \n",
      " 25  revenue                3216 non-null   float64       \n",
      "dtypes: datetime64[ns](2), float64(11), int64(9), object(4)\n",
      "memory usage: 678.4+ KB\n"
     ]
    }
   ],
   "source": [
    "# check\n",
    "df_users_pivot.info()"
   ]
  },
  {
   "cell_type": "markdown",
   "id": "b93b596e",
   "metadata": {},
   "source": [
    "## Анализ данных о поведении клиентов оператора "
   ]
  },
  {
   "cell_type": "markdown",
   "id": "869a976b",
   "metadata": {},
   "source": [
    "Изучим: \n",
    "- Сколько минут разговора требуется пользователям каждого тарифа в месяц;\n",
    "- Сколько сообщений требуется в месяц;\n",
    "- Какой объём интернет-трафика потребляют пользователи разных тарифов;"
   ]
  },
  {
   "cell_type": "code",
   "execution_count": 213,
   "id": "6eacf21b",
   "metadata": {
    "scrolled": true
   },
   "outputs": [
    {
     "name": "stdout",
     "output_type": "stream",
     "text": [
      "Средняя длительность звонков в месяц у пользователей тарифа Смарт: 417.747533632287\n",
      "Средняя длительность звонков в месяц у пользователей тарифа Ультра: 526.0892494929006\n"
     ]
    }
   ],
   "source": [
    "print('Средняя длительность звонков в месяц у пользователей тарифа Смарт:'\\\n",
    "      , df_users_pivot[df_users_pivot['tariff_name'] == 'smart']['calls_duration'].mean())\n",
    "\n",
    "print('Средняя длительность звонков в месяц у пользователей тарифа Ультра:'\\\n",
    "      , df_users_pivot[df_users_pivot['tariff_name'] == 'ultra']['calls_duration'].mean())"
   ]
  },
  {
   "cell_type": "code",
   "execution_count": 214,
   "id": "b454de5d",
   "metadata": {
    "scrolled": true
   },
   "outputs": [
    {
     "name": "stdout",
     "output_type": "stream",
     "text": [
      "Среднее количество сообщений в месяц у пользователей тарифа Смарт: 33.36905829596412\n",
      "Среднее количество сообщений в месяц у пользователей тарифа Ультра: 49.31338742393509\n"
     ]
    }
   ],
   "source": [
    "print('Среднее количество сообщений в месяц у пользователей тарифа Смарт:'\\\n",
    "      , df_users_pivot[df_users_pivot['tariff_name'] == 'smart']['sms_quantity'].mean())\n",
    "\n",
    "print('Среднее количество сообщений в месяц у пользователей тарифа Ультра:'\\\n",
    "      , df_users_pivot[df_users_pivot['tariff_name'] == 'ultra']['sms_quantity'].mean())"
   ]
  },
  {
   "cell_type": "code",
   "execution_count": 215,
   "id": "eee54b03",
   "metadata": {
    "scrolled": false
   },
   "outputs": [
    {
     "name": "stdout",
     "output_type": "stream",
     "text": [
      "Среднее интернет-трафика (гб) в месяц у пользователей тарифа Смарт: 16.32152466367713\n",
      "Среднее интернет-трафика (гб) в месяц у пользователей тарифа Ультра: 19.474645030425965\n"
     ]
    }
   ],
   "source": [
    "print('Среднее интернет-трафика (гб) в месяц у пользователей тарифа Смарт:'\\\n",
    "      , df_users_pivot[df_users_pivot['tariff_name'] == 'smart']['gb_used'].mean())\n",
    "\n",
    "print('Среднее интернет-трафика (гб) в месяц у пользователей тарифа Ультра:'\\\n",
    "      , df_users_pivot[df_users_pivot['tariff_name'] == 'ultra']['gb_used'].mean())"
   ]
  },
  {
   "cell_type": "markdown",
   "id": "768caa2b",
   "metadata": {},
   "source": [
    "**Построим** распределения звонков, сообщений и трафика по 2-м тарифам"
   ]
  },
  {
   "cell_type": "code",
   "execution_count": 216,
   "id": "15f63f7c",
   "metadata": {
    "scrolled": false
   },
   "outputs": [
    {
     "data": {
      "text/plain": [
       "Text(0.5, 0, 'Длительность звонков в месяц, минуты')"
      ]
     },
     "execution_count": 216,
     "metadata": {},
     "output_type": "execute_result"
    },
    {
     "data": {
      "image/png": "[encoded data removed]",
      "text/plain": [
       "<Figure size 720x360 with 1 Axes>"
      ]
     },
     "metadata": {
      "needs_background": "light"
     },
     "output_type": "display_data"
    }
   ],
   "source": [
    "df_users_pivot[df_users_pivot['tariff_name'] == 'smart']['calls_duration']\\\n",
    "    .plot(kind='hist', bins=40, grid=True, figsize=(10, 5))\\\n",
    "    .set_title('Распределение длительности звонков в месяц')\n",
    "\n",
    "df_users_pivot[df_users_pivot['tariff_name'] == 'ultra']['calls_duration']\\\n",
    "    .plot(kind='hist', bins=40, grid=True, figsize=(10, 5))\n",
    "\n",
    "plt.xlabel(\"Длительность звонков в месяц, минуты\")"
   ]
  },
  {
   "cell_type": "code",
   "execution_count": 217,
   "id": "56df0bf9",
   "metadata": {},
   "outputs": [
    {
     "data": {
      "text/plain": [
       "Text(0.5, 0, 'Количество звонков в месяц')"
      ]
     },
     "execution_count": 217,
     "metadata": {},
     "output_type": "execute_result"
    },
    {
     "data": {
      "image/png": "[encoded data removed]",
      "text/plain": [
       "<Figure size 720x360 with 1 Axes>"
      ]
     },
     "metadata": {
      "needs_background": "light"
     },
     "output_type": "display_data"
    }
   ],
   "source": [
    "df_users_pivot[df_users_pivot['tariff_name'] == 'smart']['calls_quantity']\\\n",
    "    .plot(kind='hist', bins=40, grid=True, figsize=(10, 5))\\\n",
    "    .set_title('Распределение количества звонков в месяц')\n",
    "\n",
    "df_users_pivot[df_users_pivot['tariff_name'] == 'ultra']['calls_quantity']\\\n",
    "    .plot(kind='hist', bins=40, grid=True, figsize=(10, 5))\n",
    "\n",
    "plt.xlabel(\"Количество звонков в месяц\")"
   ]
  },
  {
   "cell_type": "code",
   "execution_count": 218,
   "id": "aa3f8734",
   "metadata": {},
   "outputs": [
    {
     "data": {
      "text/plain": [
       "Text(0.5, 0, 'Количество SMS в месяц')"
      ]
     },
     "execution_count": 218,
     "metadata": {},
     "output_type": "execute_result"
    },
    {
     "data": {
      "image/png": "[encoded data removed]",
      "text/plain": [
       "<Figure size 720x360 with 1 Axes>"
      ]
     },
     "metadata": {
      "needs_background": "light"
     },
     "output_type": "display_data"
    }
   ],
   "source": [
    "df_users_pivot[df_users_pivot['tariff_name'] == 'smart']['sms_quantity']\\\n",
    "    .plot(kind='hist', bins=40, grid=True, figsize=(10, 5))\\\n",
    "    .set_title('Распределение количества SMS в месяц')\n",
    "\n",
    "df_users_pivot[df_users_pivot['tariff_name'] == 'ultra']['sms_quantity']\\\n",
    "    .plot(kind='hist', bins=40, grid=True, figsize=(10, 5))\n",
    "\n",
    "plt.xlabel(\"Количество SMS в месяц\")"
   ]
  },
  {
   "cell_type": "code",
   "execution_count": 219,
   "id": "f7e500da",
   "metadata": {
    "scrolled": false
   },
   "outputs": [
    {
     "data": {
      "text/plain": [
       "Text(0.5, 0, 'Трафик в месяц, мегабайты')"
      ]
     },
     "execution_count": 219,
     "metadata": {},
     "output_type": "execute_result"
    },
    {
     "data": {
      "image/png": "[encoded data removed]",
      "text/plain": [
       "<Figure size 720x360 with 1 Axes>"
      ]
     },
     "metadata": {
      "needs_background": "light"
     },
     "output_type": "display_data"
    }
   ],
   "source": [
    "df_users_pivot[df_users_pivot['tariff_name'] == 'smart']['gb_used']\\\n",
    "    .plot(kind='hist', bins=40, grid=True, figsize=(10, 5))\\\n",
    "    .set_title('Распределение трафика в течение месяца')\n",
    "\n",
    "df_users_pivot[df_users_pivot['tariff_name'] == 'ultra']['gb_used']\\\n",
    "    .plot(kind='hist', bins=40, grid=True, figsize=(10, 5))\n",
    "\n",
    "plt.xlabel(\"Трафик в месяц, мегабайты\")"
   ]
  },
  {
   "cell_type": "code",
   "execution_count": 220,
   "id": "47b2400c",
   "metadata": {},
   "outputs": [
    {
     "data": {
      "text/plain": [
       "Text(0.5, 0, 'Выручка в месяц, рубли')"
      ]
     },
     "execution_count": 220,
     "metadata": {},
     "output_type": "execute_result"
    },
    {
     "data": {
      "image/png": "[encoded data removed]",
      "text/plain": [
       "<Figure size 720x360 with 1 Axes>"
      ]
     },
     "metadata": {
      "needs_background": "light"
     },
     "output_type": "display_data"
    }
   ],
   "source": [
    "df_users_pivot[df_users_pivot['tariff_name'] == 'smart']['revenue']\\\n",
    "    .plot(kind='hist', bins=40, grid=True, figsize=(10, 5))\\\n",
    "    .set_title('Распределение выручки')\n",
    "\n",
    "df_users_pivot[df_users_pivot['tariff_name'] == 'ultra']['revenue']\\\n",
    "    .plot(kind='hist', bins=40, grid=True, figsize=(10, 5))\n",
    "\n",
    "plt.xlabel(\"Выручка в месяц, рубли\")"
   ]
  },
  {
   "cell_type": "markdown",
   "id": "c33e4703",
   "metadata": {},
   "source": [
    "**Построим** диаграммы размаха по звонкам, сообщениям, трафику и выручке по 2-м тарифам."
   ]
  },
  {
   "cell_type": "code",
   "execution_count": 231,
   "id": "d0f62e69",
   "metadata": {
    "scrolled": false
   },
   "outputs": [
    {
     "data": {
      "image/png": "[encoded data removed]",
      "text/plain": [
       "<Figure size 864x144 with 1 Axes>"
      ]
     },
     "metadata": {
      "needs_background": "light"
     },
     "output_type": "display_data"
    },
    {
     "data": {
      "image/png": "[encoded data removed]",
      "text/plain": [
       "<Figure size 864x144 with 1 Axes>"
      ]
     },
     "metadata": {
      "needs_background": "light"
     },
     "output_type": "display_data"
    },
    {
     "data": {
      "image/png": "[encoded data removed]",
      "text/plain": [
       "<Figure size 864x144 with 1 Axes>"
      ]
     },
     "metadata": {
      "needs_background": "light"
     },
     "output_type": "display_data"
    },
    {
     "data": {
      "image/png": "[encoded data removed]",
      "text/plain": [
       "<Figure size 864x144 with 1 Axes>"
      ]
     },
     "metadata": {
      "needs_background": "light"
     },
     "output_type": "display_data"
    },
    {
     "data": {
      "image/png": "[encoded data removed]",
      "text/plain": [
       "<Figure size 864x144 with 1 Axes>"
      ]
     },
     "metadata": {
      "needs_background": "light"
     },
     "output_type": "display_data"
    }
   ],
   "source": [
    "for column in ['calls_duration', 'calls_quantity', 'sms_quantity', 'gb_used', \n",
    "        'revenue']:    \n",
    "    g = sns.catplot(y='tariff_name', x=column, kind=\"box\", data= df_users_pivot, orient='h', palette = 'pastel')\n",
    "    g.fig.set_figwidth(12)\n",
    "    g.fig.set_figheight(2)\n"
   ]
  },
  {
   "cell_type": "markdown",
   "id": "3a7d8116",
   "metadata": {},
   "source": [
    "**Посчитаем** средние, стандартные отклонения и дисперсии у 2-х тарифов по звонкам, сообщениям, интернет-трафику и выручке."
   ]
  },
  {
   "cell_type": "code",
   "execution_count": 222,
   "id": "fda8e1dd",
   "metadata": {
    "scrolled": true
   },
   "outputs": [
    {
     "data": {
      "text/html": [
       "<div>\n",
       "<style scoped>\n",
       "    .dataframe tbody tr th:only-of-type {\n",
       "        vertical-align: middle;\n",
       "    }\n",
       "\n",
       "    .dataframe tbody tr th {\n",
       "        vertical-align: top;\n",
       "    }\n",
       "\n",
       "    .dataframe thead th {\n",
       "        text-align: right;\n",
       "    }\n",
       "</style>\n",
       "<table border=\"1\" class=\"dataframe\">\n",
       "  <thead>\n",
       "    <tr style=\"text-align: right;\">\n",
       "      <th></th>\n",
       "      <th>index</th>\n",
       "      <th>calls_duration</th>\n",
       "      <th>sms_quantity</th>\n",
       "      <th>gb_used</th>\n",
       "      <th>revenue</th>\n",
       "    </tr>\n",
       "  </thead>\n",
       "  <tbody>\n",
       "    <tr>\n",
       "      <th>0</th>\n",
       "      <td>mean</td>\n",
       "      <td>417.747534</td>\n",
       "      <td>33.369058</td>\n",
       "      <td>16.321525</td>\n",
       "      <td>1289.641704</td>\n",
       "    </tr>\n",
       "    <tr>\n",
       "      <th>1</th>\n",
       "      <td>std</td>\n",
       "      <td>190.476754</td>\n",
       "      <td>28.230396</td>\n",
       "      <td>5.756167</td>\n",
       "      <td>818.370799</td>\n",
       "    </tr>\n",
       "    <tr>\n",
       "      <th>2</th>\n",
       "      <td>var</td>\n",
       "      <td>36281.393836</td>\n",
       "      <td>796.955256</td>\n",
       "      <td>33.133453</td>\n",
       "      <td>669730.763895</td>\n",
       "    </tr>\n",
       "  </tbody>\n",
       "</table>\n",
       "</div>"
      ],
      "text/plain": [
       "  index  calls_duration  sms_quantity    gb_used        revenue\n",
       "0  mean      417.747534     33.369058  16.321525    1289.641704\n",
       "1   std      190.476754     28.230396   5.756167     818.370799\n",
       "2   var    36281.393836    796.955256  33.133453  669730.763895"
      ]
     },
     "execution_count": 222,
     "metadata": {},
     "output_type": "execute_result"
    }
   ],
   "source": [
    "df_smart_stat = df_users_pivot[df_users_pivot['tariff_name'] == 'smart']['calls_duration'].agg(['mean','std','var']).reset_index()\n",
    "\n",
    "df_smart_stat_1 = df_users_pivot[df_users_pivot['tariff_name'] == 'smart']['sms_quantity'].agg(['mean','std','var']).reset_index()\n",
    "\n",
    "df_smart_stat_2 = df_users_pivot[df_users_pivot['tariff_name'] == 'smart']['gb_used'].agg(['mean','std','var']).reset_index()\n",
    "\n",
    "df_smart_stat_3 = df_users_pivot[df_users_pivot['tariff_name'] == 'smart']['revenue'].agg(['mean','std','var']).reset_index()\n",
    "\n",
    "\n",
    "df_smart_stat = df_smart_stat.merge(df_smart_stat_1, on=['index'], how='outer')\n",
    "df_smart_stat = df_smart_stat.merge(df_smart_stat_2, on=['index'], how='outer')\n",
    "df_smart_stat = df_smart_stat.merge(df_smart_stat_3, on=['index'], how='outer')\n",
    "df_smart_stat"
   ]
  },
  {
   "cell_type": "code",
   "execution_count": 223,
   "id": "27ff5938",
   "metadata": {},
   "outputs": [
    {
     "data": {
      "text/html": [
       "<div>\n",
       "<style scoped>\n",
       "    .dataframe tbody tr th:only-of-type {\n",
       "        vertical-align: middle;\n",
       "    }\n",
       "\n",
       "    .dataframe tbody tr th {\n",
       "        vertical-align: top;\n",
       "    }\n",
       "\n",
       "    .dataframe thead th {\n",
       "        text-align: right;\n",
       "    }\n",
       "</style>\n",
       "<table border=\"1\" class=\"dataframe\">\n",
       "  <thead>\n",
       "    <tr style=\"text-align: right;\">\n",
       "      <th></th>\n",
       "      <th>index</th>\n",
       "      <th>calls_duration</th>\n",
       "      <th>sms_quantity</th>\n",
       "      <th>gb_used</th>\n",
       "      <th>revenue</th>\n",
       "    </tr>\n",
       "  </thead>\n",
       "  <tbody>\n",
       "    <tr>\n",
       "      <th>0</th>\n",
       "      <td>mean</td>\n",
       "      <td>526.089249</td>\n",
       "      <td>49.313387</td>\n",
       "      <td>19.474645</td>\n",
       "      <td>2070.030426</td>\n",
       "    </tr>\n",
       "    <tr>\n",
       "      <th>1</th>\n",
       "      <td>std</td>\n",
       "      <td>317.887549</td>\n",
       "      <td>47.806040</td>\n",
       "      <td>9.868057</td>\n",
       "      <td>376.015578</td>\n",
       "    </tr>\n",
       "    <tr>\n",
       "      <th>2</th>\n",
       "      <td>var</td>\n",
       "      <td>101052.493549</td>\n",
       "      <td>2285.417425</td>\n",
       "      <td>97.378544</td>\n",
       "      <td>141387.714809</td>\n",
       "    </tr>\n",
       "  </tbody>\n",
       "</table>\n",
       "</div>"
      ],
      "text/plain": [
       "  index  calls_duration  sms_quantity    gb_used        revenue\n",
       "0  mean      526.089249     49.313387  19.474645    2070.030426\n",
       "1   std      317.887549     47.806040   9.868057     376.015578\n",
       "2   var   101052.493549   2285.417425  97.378544  141387.714809"
      ]
     },
     "execution_count": 223,
     "metadata": {},
     "output_type": "execute_result"
    }
   ],
   "source": [
    "df_ultra_stat = df_users_pivot[df_users_pivot['tariff_name'] == 'ultra']['calls_duration'].agg(['mean','std','var']).reset_index()\n",
    "\n",
    "df_ultra_stat_1 = df_users_pivot[df_users_pivot['tariff_name'] == 'ultra']['sms_quantity'].agg(['mean','std','var']).reset_index()\n",
    "\n",
    "df_ultra_stat_2 = df_users_pivot[df_users_pivot['tariff_name'] == 'ultra']['gb_used'].agg(['mean','std','var']).reset_index()\n",
    "\n",
    "df_ultra_stat_3 = df_users_pivot[df_users_pivot['tariff_name'] == 'ultra']['revenue'].agg(['mean','std','var']).reset_index()\n",
    "\n",
    "\n",
    "df_ultra_stat = df_ultra_stat.merge(df_ultra_stat_1, on=['index'], how='outer')\n",
    "df_ultra_stat = df_ultra_stat.merge(df_ultra_stat_2, on=['index'], how='outer')\n",
    "df_ultra_stat = df_ultra_stat.merge(df_ultra_stat_3, on=['index'], how='outer')\n",
    "\n",
    "df_ultra_stat"
   ]
  },
  {
   "cell_type": "markdown",
   "id": "bc5e0e56",
   "metadata": {},
   "source": [
    "Посчитаем средние **выручки** пользователей."
   ]
  },
  {
   "cell_type": "code",
   "execution_count": 224,
   "id": "01f16918",
   "metadata": {
    "scrolled": false
   },
   "outputs": [
    {
     "data": {
      "text/html": [
       "<div>\n",
       "<style scoped>\n",
       "    .dataframe tbody tr th:only-of-type {\n",
       "        vertical-align: middle;\n",
       "    }\n",
       "\n",
       "    .dataframe tbody tr th {\n",
       "        vertical-align: top;\n",
       "    }\n",
       "\n",
       "    .dataframe thead th {\n",
       "        text-align: right;\n",
       "    }\n",
       "</style>\n",
       "<table border=\"1\" class=\"dataframe\">\n",
       "  <thead>\n",
       "    <tr style=\"text-align: right;\">\n",
       "      <th></th>\n",
       "      <th>user_id</th>\n",
       "      <th>tariff_name</th>\n",
       "      <th>city</th>\n",
       "      <th>revenue_user_mean</th>\n",
       "    </tr>\n",
       "  </thead>\n",
       "  <tbody>\n",
       "    <tr>\n",
       "      <th>0</th>\n",
       "      <td>1000</td>\n",
       "      <td>ultra</td>\n",
       "      <td>Краснодар</td>\n",
       "      <td>1950.000000</td>\n",
       "    </tr>\n",
       "    <tr>\n",
       "      <th>1</th>\n",
       "      <td>1001</td>\n",
       "      <td>smart</td>\n",
       "      <td>Москва</td>\n",
       "      <td>850.000000</td>\n",
       "    </tr>\n",
       "    <tr>\n",
       "      <th>2</th>\n",
       "      <td>1002</td>\n",
       "      <td>smart</td>\n",
       "      <td>Стерлитамак</td>\n",
       "      <td>1035.714286</td>\n",
       "    </tr>\n",
       "    <tr>\n",
       "      <th>3</th>\n",
       "      <td>1003</td>\n",
       "      <td>ultra</td>\n",
       "      <td>Москва</td>\n",
       "      <td>1950.000000</td>\n",
       "    </tr>\n",
       "    <tr>\n",
       "      <th>4</th>\n",
       "      <td>1004</td>\n",
       "      <td>ultra</td>\n",
       "      <td>Новокузнецк</td>\n",
       "      <td>1950.000000</td>\n",
       "    </tr>\n",
       "    <tr>\n",
       "      <th>...</th>\n",
       "      <td>...</td>\n",
       "      <td>...</td>\n",
       "      <td>...</td>\n",
       "      <td>...</td>\n",
       "    </tr>\n",
       "    <tr>\n",
       "      <th>495</th>\n",
       "      <td>1495</td>\n",
       "      <td>ultra</td>\n",
       "      <td>Иркутск</td>\n",
       "      <td>2310.000000</td>\n",
       "    </tr>\n",
       "    <tr>\n",
       "      <th>496</th>\n",
       "      <td>1496</td>\n",
       "      <td>smart</td>\n",
       "      <td>Вологда</td>\n",
       "      <td>2362.583333</td>\n",
       "    </tr>\n",
       "    <tr>\n",
       "      <th>497</th>\n",
       "      <td>1497</td>\n",
       "      <td>smart</td>\n",
       "      <td>Челябинск</td>\n",
       "      <td>928.333333</td>\n",
       "    </tr>\n",
       "    <tr>\n",
       "      <th>498</th>\n",
       "      <td>1498</td>\n",
       "      <td>smart</td>\n",
       "      <td>Владикавказ</td>\n",
       "      <td>1659.000000</td>\n",
       "    </tr>\n",
       "    <tr>\n",
       "      <th>499</th>\n",
       "      <td>1499</td>\n",
       "      <td>smart</td>\n",
       "      <td>Пермь</td>\n",
       "      <td>952.750000</td>\n",
       "    </tr>\n",
       "  </tbody>\n",
       "</table>\n",
       "<p>500 rows × 4 columns</p>\n",
       "</div>"
      ],
      "text/plain": [
       "     user_id tariff_name         city  revenue_user_mean\n",
       "0       1000       ultra    Краснодар        1950.000000\n",
       "1       1001       smart       Москва         850.000000\n",
       "2       1002       smart  Стерлитамак        1035.714286\n",
       "3       1003       ultra       Москва        1950.000000\n",
       "4       1004       ultra  Новокузнецк        1950.000000\n",
       "..       ...         ...          ...                ...\n",
       "495     1495       ultra      Иркутск        2310.000000\n",
       "496     1496       smart      Вологда        2362.583333\n",
       "497     1497       smart    Челябинск         928.333333\n",
       "498     1498       smart  Владикавказ        1659.000000\n",
       "499     1499       smart        Пермь         952.750000\n",
       "\n",
       "[500 rows x 4 columns]"
      ]
     },
     "execution_count": 224,
     "metadata": {},
     "output_type": "execute_result"
    }
   ],
   "source": [
    "df_users_revenue_mean = df_users_pivot.groupby(['user_id', 'tariff_name', 'city'])['revenue'].mean() \n",
    "df_users_revenue_mean = df_users_revenue_mean.reset_index()\n",
    "df_users_revenue_mean = df_users_revenue_mean.rename(columns={'revenue':'revenue_user_mean'})\n",
    "df_users_revenue_mean"
   ]
  },
  {
   "cell_type": "markdown",
   "id": "36e536d1",
   "metadata": {},
   "source": [
    "**Выводы**:\n",
    "- Среднее количество использованных **минут** в месяц у двух тарифов отличается, но не очень сильно. Причем, если пользователи \"Смарта\" в среднем укладываются в пакет бесплатных минут и близки к своему лимиту, то \"Ультре\" достаточно половины бесплатного тарифа. Учитывая разницу в стоимости тарифов, получается, что пользователи \"Ультра\" переплачивают за количество минут, покупая базовый тариф своей марки.\n",
    "- Распределения **звонков** у тарифов отличаются - у \"Смарта\" близко к нормальному распределению, при этом скошено влево. У \"Ультра\" колокол более плоский, тоже скошен влево. У обоих тарифов большие выбросы вправо.\n",
    "- Сравнение количества **сообщений** показывает, что \"Ультра\" отправляет в 1,5 больше сообщений, НО даже близко не приближается к границе своего тарифа в 1000 сообщений (\"Смарт\" как раз укладывается в границы бесплатного лимита.) Распределения сообщений в обоих случаях скошены влево, и у обоих тарифов есть большой хвост выбросов вправо.\n",
    "- Если говорить об **интернет-трафике**, то средний трафик пользователей \"Смарта\" выходит за рамки бесплатного лимита, а, значит, генерирует **дополнительную** выручку. Пользователи \"Ультры\" тратят в интернете в среднем больше трафика (чем \"Смарт\"), но спокойно вписываются в свои лимиты. Т.е. в третий раз понятно, что юзеры переплачивают за тариф \"Ультра\", тк в среднем они не только не выходят за рамки лимита, но даже не приближаются к нему.\n",
    "- Распределения **трафика** у обоих тарифов близки к нормальному с небольшой скошенностью влево. У \"Ультра\" колокол более плоский. У обоих тарифов есть пользователи, которые тратят много трафика (выбросы вправо). У \"Смарта\" на диаграмме размаха также видны пользователи, которые не очень активны в использовании интернета. \n",
    "- Если говорить о **распределениях** звонков, сообщений и трафика, то в этих случаях стандартные распределения **больше** у пользователей \"Ультра\". \n",
    "- Распределение **выручек** 2-х тарифов похожи друг на друга и демонстрируют экспоненциальность: ядро пользователей в левой части гистограммы или диаграммы и длинный хвост в правой части. Отличие в стандартном отклонении: у пользователей \"Смарта\" оно **больше**, чем у \"Ультры\" почти в 2 раза. Хотя медианы выручек тарифов отличаются больше, чем в 2 раза в пользу \"Ультры\", разброс значений у \"Смарта\" значительно шире. Результат - пользователи \"Смарта\" в сумме в год приносят на 870 т.р. в год **больше** пользователей \"Ультра\". "
   ]
  },
  {
   "cell_type": "markdown",
   "id": "9e7d900f",
   "metadata": {},
   "source": [
    "## Проверка гипотез"
   ]
  },
  {
   "cell_type": "markdown",
   "id": "03b3fe50",
   "metadata": {},
   "source": [
    "Сформулируем гипотезы исследования.\n",
    "1) H0: Средняя выручка пользователей тарифов \"Смарт\" и \"Ультра\" не различается. \n",
    "\n",
    "H1: Средняя выручка пользователей тарифов \"Смарт\" и \"Ультра\" различается.\n",
    "\n",
    "2) H0: Средняя выручка пользователей из Москвы не отличается от выручки пользователей из других регионов.\n",
    "\n",
    "H1: Средняя выручка пользователей из Москвы отличается от выручки пользователей из других регионов."
   ]
  },
  {
   "cell_type": "code",
   "execution_count": 225,
   "id": "2de49bd1",
   "metadata": {
    "scrolled": true
   },
   "outputs": [
    {
     "name": "stdout",
     "output_type": "stream",
     "text": [
      "p-значение: 8.081909555489933e-161\n",
      "Отвергаем нулевую гипотезу\n"
     ]
    }
   ],
   "source": [
    "alpha = .05\n",
    "\n",
    "results = st.ttest_ind(\n",
    "    df_users_pivot[df_users_pivot['tariff_name'] == 'smart']['revenue'], \n",
    "    df_users_pivot[df_users_pivot['tariff_name'] == 'ultra']['revenue'])\n",
    "\n",
    "print('p-значение:', results.pvalue)\n",
    "\n",
    "if results.pvalue < alpha:\n",
    "    print(\"Отвергаем нулевую гипотезу\")\n",
    "else:\n",
    "    print(\"Не получилось отвергнуть нулевую гипотезу\") "
   ]
  },
  {
   "cell_type": "code",
   "execution_count": 226,
   "id": "5472df9d",
   "metadata": {
    "scrolled": true
   },
   "outputs": [],
   "source": [
    "df_users_pivot_non_moscow = df_users_pivot[df_users_pivot['city'] != 'Москва']\n",
    "df_users_pivot_non_moscow = df_users_pivot_non_moscow.reset_index()\n",
    "# df_users_pivot_non_moscow"
   ]
  },
  {
   "cell_type": "code",
   "execution_count": 227,
   "id": "19a55d9b",
   "metadata": {},
   "outputs": [],
   "source": [
    "df_users_pivot_moscow = df_users_pivot[df_users_pivot['city'] == 'Москва']\n",
    "df_users_pivot_moscow = df_users_pivot_moscow.reset_index()\n",
    "# df_users_pivot_moscow"
   ]
  },
  {
   "cell_type": "code",
   "execution_count": 228,
   "id": "cf36a493",
   "metadata": {
    "scrolled": true
   },
   "outputs": [
    {
     "name": "stdout",
     "output_type": "stream",
     "text": [
      "p-значение: 0.5400751614511182\n",
      "Не получилось отвергнуть нулевую гипотезу\n"
     ]
    }
   ],
   "source": [
    "alpha = .05\n",
    "\n",
    "results = st.ttest_ind(\n",
    "    df_users_pivot_moscow['revenue'], \n",
    "    df_users_pivot_non_moscow['revenue'], nan_policy='omit')\n",
    "\n",
    "print('p-значение:', results.pvalue)\n",
    "\n",
    "if results.pvalue < alpha:\n",
    "    print(\"Отвергаем нулевую гипотезу\")\n",
    "else:\n",
    "    print(\"Не получилось отвергнуть нулевую гипотезу\") "
   ]
  },
  {
   "cell_type": "markdown",
   "id": "ff2991fa",
   "metadata": {},
   "source": [
    "Посмотрим на разброс выручки пользователей из Москвы и пользователей остальных городов"
   ]
  },
  {
   "cell_type": "code",
   "execution_count": 229,
   "id": "3655f19e",
   "metadata": {
    "scrolled": false
   },
   "outputs": [
    {
     "data": {
      "text/plain": [
       "<seaborn.axisgrid.FacetGrid at 0x2619bff2b20>"
      ]
     },
     "execution_count": 229,
     "metadata": {},
     "output_type": "execute_result"
    },
    {
     "data": {
      "image/png": "[encoded data removed]",
      "text/plain": [
       "<Figure size 864x144 with 1 Axes>"
      ]
     },
     "metadata": {
      "needs_background": "light"
     },
     "output_type": "display_data"
    }
   ],
   "source": [
    "for column in ['revenue']:    \n",
    "    g = sns.catplot(x=column, kind=\"box\"\\\n",
    "                    , data= df_users_pivot_moscow\\\n",
    "                    , orient='h', palette = 'pastel')\n",
    "    g.fig.set_figwidth(12)\n",
    "    g.fig.set_figheight(2)\n",
    "\n",
    "g.set(title = \"Разброс выручки, Москва\", xlabel = 'Выручка, рубли')"
   ]
  },
  {
   "cell_type": "code",
   "execution_count": 230,
   "id": "fe5b4933",
   "metadata": {},
   "outputs": [
    {
     "data": {
      "text/plain": [
       "<seaborn.axisgrid.FacetGrid at 0x2619e332fa0>"
      ]
     },
     "execution_count": 230,
     "metadata": {},
     "output_type": "execute_result"
    },
    {
     "data": {
      "image/png": "[encoded data removed]",
      "text/plain": [
       "<Figure size 864x144 with 1 Axes>"
      ]
     },
     "metadata": {
      "needs_background": "light"
     },
     "output_type": "display_data"
    }
   ],
   "source": [
    "for column in ['revenue']:    \n",
    "    g = sns.catplot(x=column, kind=\"box\", data= df_users_pivot_non_moscow, orient='h', palette = 'pastel')\n",
    "    g.fig.set_figwidth(12)\n",
    "    g.fig.set_figheight(2)\n",
    "    \n",
    "g.set(title = \"Разброс выручки, регионы\", xlabel = 'Выручка, рубли')"
   ]
  },
  {
   "cell_type": "markdown",
   "id": "cc871ef6",
   "metadata": {},
   "source": [
    "**Выводы** из проверок гипотез:\n",
    "- Выручки тарифов значимо отличаются друг от друга;\n",
    "- Разницы в выручке между регионами нет;\n",
    "- Диаграммы размаха выручек пользователей Москвы и регионов **очень похожи**, отличие в наличии бОльшего количество выбросов вправо у региональных пользователей. Т.е. часть региональных юзеров готовы тратить **больше** за услуги связи, но таких юзеров относительно немного."
   ]
  },
  {
   "cell_type": "markdown",
   "id": "974c2697",
   "metadata": {},
   "source": [
    "После пересчета всех данных и нового сравнения средних по выручкам пользователей разных регионов мы получили p-значение: 0.5400751614511182. Это означает, что при верности утверждения \"средние выручки Москвы и регионов не отличаются\" вероятность попадания случайного значения из одной группы выручек на края \"колокола\" распределения другой группы выручек - 27%. Или если мы отклоним нулевую гипотезу, то мы ошибемся в 54% случаев. Хотя средний чек в Москве и регионах неодинаков, с вероятностью 54% такое или большее различие можно получить случайно Это явно **слишком большая вероятность, чтобы делать вывод о значимом различии между средними выручками**."
   ]
  },
  {
   "cell_type": "markdown",
   "id": "79edb209",
   "metadata": {},
   "source": [
    "## Общий вывод"
   ]
  },
  {
   "cell_type": "markdown",
   "id": "78bdc510",
   "metadata": {},
   "source": [
    "1) Тариф \"Ультра\" стимулирует пользователей больше говорить, чаще переписываться и больше пользоваться интернетом (либо этот тариф покупают юзеры, для которых цена не очень важна, а важна \"широта\" лимита.) \n",
    "\n",
    "2) При этом бесплатный лимит в некоторых случаях недостаточен для пользователей \"Смарта\" - если средние показатели в целом близки к границам тарифа, то некоторые пользователи \"Смарта\" доплачивают за использование интернета сверх лимита. \n",
    "\n",
    "3) Вариативность поведения пользователей \"Ультры\" намного выше, чем у пользователей \"Смарта\", за исключением показателей выручки. \n",
    "\n",
    "4) Выручки тарифов значимо отличаются друг от друга. С т.зр. годовой выручки оператору выгоднее тариф \"Смарт\". С т.зр. средней выручки на пользователя - тариф \"Ультра\" (из-за изначально высокой абонентской платы.) \n",
    "\n",
    "5) Часть пользователей тарифа \"Смарт\" тратят больше базовой суммы, а небольшая часть сравнима по расходам с пользователями \"Ультры\". Здесь есть потенциал для перетягивания части пользователей \"Смарта\" в \"Ультру\", либо для создания промежуточного тарифа. \n",
    "\n",
    "6) Также существует опасность ухода части пользователей \"Смарта\" к другому оператору из-за того, что \"Смарт\" по лимитам недостаточен, а тариф \"Ультра\" - слишком дорог.\n",
    "\n",
    "7) Разницы в выручке между регионами нет. При этом часть региональных юзеров готовы тратить больше за услуги связи, но таких юзеров относительно немного. В случае подготовки рекламной кампании уже существующих или новых тарифов, структуру регионального потребления нужно изучить более детально.  \n",
    "\n",
    "PS: 8) Ниже в анализе данных ревьюером виден рост количества пользователей \"Смарта\" (видимо, результат рекламной кампании, а также показатель предпочтения \"Смарта\" новыми пользователями), а также рост выручки у юзеров \"Смарта\", причем не только накопительной, но и индивидуальной. Действительно риск оттока части пользователей велик, а распределение оттока указывает на недовольство юзеров именно \"Смарта\". "
   ]
  }
 ],
 "metadata": {
  "ExecuteTimeLog": [
   {
    "duration": 48,
    "start_time": "2022-06-24T07:56:57.950Z"
   },
   {
    "duration": 1158,
    "start_time": "2022-06-24T07:57:02.812Z"
   },
   {
    "duration": 1570,
    "start_time": "2022-06-24T07:57:03.972Z"
   },
   {
    "duration": 15,
    "start_time": "2022-06-24T07:57:05.543Z"
   },
   {
    "duration": 5,
    "start_time": "2022-06-24T07:57:05.560Z"
   },
   {
    "duration": 14,
    "start_time": "2022-06-24T07:57:05.566Z"
   },
   {
    "duration": 11,
    "start_time": "2022-06-24T07:57:05.582Z"
   },
   {
    "duration": 11,
    "start_time": "2022-06-24T07:57:05.595Z"
   },
   {
    "duration": 33,
    "start_time": "2022-06-24T07:57:05.608Z"
   },
   {
    "duration": 26,
    "start_time": "2022-06-24T07:57:05.645Z"
   },
   {
    "duration": 28,
    "start_time": "2022-06-24T07:57:05.675Z"
   },
   {
    "duration": 46,
    "start_time": "2022-06-24T07:57:05.705Z"
   },
   {
    "duration": 28,
    "start_time": "2022-06-24T07:57:05.753Z"
   },
   {
    "duration": 19,
    "start_time": "2022-06-24T07:57:05.783Z"
   },
   {
    "duration": 15,
    "start_time": "2022-06-24T07:57:05.827Z"
   },
   {
    "duration": 25,
    "start_time": "2022-06-24T07:57:05.843Z"
   },
   {
    "duration": 35,
    "start_time": "2022-06-24T07:57:05.869Z"
   },
   {
    "duration": 25,
    "start_time": "2022-06-24T07:57:05.906Z"
   },
   {
    "duration": 28,
    "start_time": "2022-06-24T07:57:05.937Z"
   },
   {
    "duration": 16,
    "start_time": "2022-06-24T07:57:05.966Z"
   },
   {
    "duration": 22,
    "start_time": "2022-06-24T07:57:05.984Z"
   },
   {
    "duration": 20,
    "start_time": "2022-06-24T07:57:06.008Z"
   },
   {
    "duration": 8,
    "start_time": "2022-06-24T07:57:06.032Z"
   },
   {
    "duration": 10,
    "start_time": "2022-06-24T07:57:06.045Z"
   },
   {
    "duration": 34,
    "start_time": "2022-06-24T07:57:06.056Z"
   },
   {
    "duration": 27,
    "start_time": "2022-06-24T07:57:06.092Z"
   },
   {
    "duration": 42,
    "start_time": "2022-06-24T07:57:06.121Z"
   },
   {
    "duration": 15,
    "start_time": "2022-06-24T07:57:06.165Z"
   },
   {
    "duration": 45,
    "start_time": "2022-06-24T07:57:06.184Z"
   },
   {
    "duration": 21,
    "start_time": "2022-06-24T07:57:06.231Z"
   },
   {
    "duration": 40,
    "start_time": "2022-06-24T07:57:06.254Z"
   },
   {
    "duration": 96,
    "start_time": "2022-06-24T07:57:06.296Z"
   },
   {
    "duration": 6,
    "start_time": "2022-06-24T07:57:06.394Z"
   },
   {
    "duration": 27,
    "start_time": "2022-06-24T07:57:06.402Z"
   },
   {
    "duration": 85,
    "start_time": "2022-06-24T07:57:06.431Z"
   },
   {
    "duration": 6,
    "start_time": "2022-06-24T07:57:06.519Z"
   },
   {
    "duration": 152,
    "start_time": "2022-06-24T07:57:06.531Z"
   },
   {
    "duration": 5,
    "start_time": "2022-06-24T07:57:06.685Z"
   },
   {
    "duration": 23,
    "start_time": "2022-06-24T07:57:06.692Z"
   },
   {
    "duration": 30,
    "start_time": "2022-06-24T07:57:06.716Z"
   },
   {
    "duration": 18,
    "start_time": "2022-06-24T07:57:06.748Z"
   },
   {
    "duration": 14,
    "start_time": "2022-06-24T07:57:06.767Z"
   },
   {
    "duration": 14,
    "start_time": "2022-06-24T07:57:06.782Z"
   },
   {
    "duration": 40,
    "start_time": "2022-06-24T07:57:06.797Z"
   },
   {
    "duration": 239,
    "start_time": "2022-06-24T07:57:06.840Z"
   },
   {
    "duration": 235,
    "start_time": "2022-06-24T07:57:07.080Z"
   },
   {
    "duration": 237,
    "start_time": "2022-06-24T07:57:07.317Z"
   },
   {
    "duration": 228,
    "start_time": "2022-06-24T07:57:07.557Z"
   },
   {
    "duration": 236,
    "start_time": "2022-06-24T07:57:07.787Z"
   },
   {
    "duration": 224,
    "start_time": "2022-06-24T07:57:08.025Z"
   },
   {
    "duration": 236,
    "start_time": "2022-06-24T07:57:08.251Z"
   },
   {
    "duration": 220,
    "start_time": "2022-06-24T07:57:08.489Z"
   },
   {
    "duration": 230,
    "start_time": "2022-06-24T07:57:08.711Z"
   },
   {
    "duration": 18,
    "start_time": "2022-06-24T07:57:08.943Z"
   },
   {
    "duration": 232,
    "start_time": "2022-06-24T07:57:08.962Z"
   },
   {
    "duration": 142,
    "start_time": "2022-06-24T07:57:09.196Z"
   },
   {
    "duration": 161,
    "start_time": "2022-06-24T07:57:09.339Z"
   },
   {
    "duration": 117,
    "start_time": "2022-06-24T07:57:09.502Z"
   },
   {
    "duration": 6,
    "start_time": "2022-06-24T07:57:09.621Z"
   },
   {
    "duration": 28,
    "start_time": "2022-06-24T07:57:09.628Z"
   },
   {
    "duration": 35,
    "start_time": "2022-06-24T07:57:09.658Z"
   },
   {
    "duration": 35,
    "start_time": "2022-06-24T07:57:09.695Z"
   },
   {
    "duration": 31,
    "start_time": "2022-06-24T07:57:09.732Z"
   },
   {
    "duration": 5,
    "start_time": "2022-06-24T07:57:34.388Z"
   },
   {
    "duration": 14,
    "start_time": "2022-06-24T07:57:39.290Z"
   },
   {
    "duration": 11,
    "start_time": "2022-06-24T08:02:39.390Z"
   },
   {
    "duration": 5,
    "start_time": "2022-06-24T08:07:38.457Z"
   },
   {
    "duration": 35,
    "start_time": "2022-06-24T08:08:34.708Z"
   },
   {
    "duration": 17,
    "start_time": "2022-06-24T08:08:44.181Z"
   },
   {
    "duration": 111,
    "start_time": "2022-06-24T08:10:19.646Z"
   },
   {
    "duration": 75,
    "start_time": "2022-06-24T08:10:22.895Z"
   },
   {
    "duration": 14,
    "start_time": "2022-06-24T08:10:23.486Z"
   },
   {
    "duration": 6,
    "start_time": "2022-06-24T08:10:33.326Z"
   },
   {
    "duration": 1530,
    "start_time": "2022-06-24T08:10:35.241Z"
   },
   {
    "duration": 30,
    "start_time": "2022-06-24T08:10:39.023Z"
   },
   {
    "duration": 187,
    "start_time": "2022-06-24T08:10:42.844Z"
   },
   {
    "duration": 301,
    "start_time": "2022-06-24T08:10:51.320Z"
   },
   {
    "duration": 169,
    "start_time": "2022-06-24T08:10:58.845Z"
   },
   {
    "duration": 52,
    "start_time": "2022-06-24T08:11:02.694Z"
   },
   {
    "duration": 1151,
    "start_time": "2022-06-24T08:12:41.204Z"
   },
   {
    "duration": 1136,
    "start_time": "2022-06-24T08:12:42.357Z"
   },
   {
    "duration": 16,
    "start_time": "2022-06-24T08:12:43.495Z"
   },
   {
    "duration": 16,
    "start_time": "2022-06-24T08:12:43.514Z"
   },
   {
    "duration": 24,
    "start_time": "2022-06-24T08:12:43.532Z"
   },
   {
    "duration": 11,
    "start_time": "2022-06-24T08:12:43.558Z"
   },
   {
    "duration": 9,
    "start_time": "2022-06-24T08:12:43.571Z"
   },
   {
    "duration": 13,
    "start_time": "2022-06-24T08:12:43.582Z"
   },
   {
    "duration": 46,
    "start_time": "2022-06-24T08:12:43.597Z"
   },
   {
    "duration": 27,
    "start_time": "2022-06-24T08:12:43.645Z"
   },
   {
    "duration": 22,
    "start_time": "2022-06-24T08:12:43.673Z"
   },
   {
    "duration": 48,
    "start_time": "2022-06-24T08:12:43.696Z"
   },
   {
    "duration": 18,
    "start_time": "2022-06-24T08:12:43.746Z"
   },
   {
    "duration": 10,
    "start_time": "2022-06-24T08:12:43.765Z"
   },
   {
    "duration": 15,
    "start_time": "2022-06-24T08:12:43.776Z"
   },
   {
    "duration": 67,
    "start_time": "2022-06-24T08:12:43.793Z"
   },
   {
    "duration": 6,
    "start_time": "2022-06-24T08:12:43.861Z"
   },
   {
    "duration": 31,
    "start_time": "2022-06-24T08:12:43.868Z"
   },
   {
    "duration": 42,
    "start_time": "2022-06-24T08:12:43.900Z"
   },
   {
    "duration": 24,
    "start_time": "2022-06-24T08:12:43.945Z"
   },
   {
    "duration": 4,
    "start_time": "2022-06-24T08:12:43.971Z"
   },
   {
    "duration": 8,
    "start_time": "2022-06-24T08:12:43.976Z"
   },
   {
    "duration": 8,
    "start_time": "2022-06-24T08:12:43.986Z"
   },
   {
    "duration": 48,
    "start_time": "2022-06-24T08:12:43.995Z"
   },
   {
    "duration": 25,
    "start_time": "2022-06-24T08:12:44.045Z"
   },
   {
    "duration": 23,
    "start_time": "2022-06-24T08:12:44.072Z"
   },
   {
    "duration": 45,
    "start_time": "2022-06-24T08:12:44.097Z"
   },
   {
    "duration": 23,
    "start_time": "2022-06-24T08:12:44.146Z"
   },
   {
    "duration": 17,
    "start_time": "2022-06-24T08:12:44.170Z"
   },
   {
    "duration": 55,
    "start_time": "2022-06-24T08:12:44.188Z"
   },
   {
    "duration": 58,
    "start_time": "2022-06-24T08:12:44.244Z"
   },
   {
    "duration": 5,
    "start_time": "2022-06-24T08:12:44.303Z"
   },
   {
    "duration": 23,
    "start_time": "2022-06-24T08:12:44.309Z"
   },
   {
    "duration": 48,
    "start_time": "2022-06-24T08:12:44.334Z"
   },
   {
    "duration": 3,
    "start_time": "2022-06-24T08:12:44.384Z"
   },
   {
    "duration": 116,
    "start_time": "2022-06-24T08:12:44.389Z"
   },
   {
    "duration": 5,
    "start_time": "2022-06-24T08:12:44.507Z"
   },
   {
    "duration": 24,
    "start_time": "2022-06-24T08:12:44.513Z"
   },
   {
    "duration": 18,
    "start_time": "2022-06-24T08:12:44.546Z"
   },
   {
    "duration": 12,
    "start_time": "2022-06-24T08:12:44.566Z"
   },
   {
    "duration": 14,
    "start_time": "2022-06-24T08:12:44.580Z"
   },
   {
    "duration": 13,
    "start_time": "2022-06-24T08:12:44.596Z"
   },
   {
    "duration": 17,
    "start_time": "2022-06-24T08:12:44.630Z"
   },
   {
    "duration": 18,
    "start_time": "2022-06-24T08:12:44.649Z"
   },
   {
    "duration": 20,
    "start_time": "2022-06-24T08:12:44.669Z"
   },
   {
    "duration": 41,
    "start_time": "2022-06-24T08:12:44.691Z"
   },
   {
    "duration": 228,
    "start_time": "2022-06-24T08:12:44.734Z"
   },
   {
    "duration": 215,
    "start_time": "2022-06-24T08:12:44.964Z"
   },
   {
    "duration": 225,
    "start_time": "2022-06-24T08:12:45.181Z"
   },
   {
    "duration": 224,
    "start_time": "2022-06-24T08:12:45.408Z"
   },
   {
    "duration": 209,
    "start_time": "2022-06-24T08:12:45.635Z"
   },
   {
    "duration": 205,
    "start_time": "2022-06-24T08:12:45.846Z"
   },
   {
    "duration": 225,
    "start_time": "2022-06-24T08:12:46.053Z"
   },
   {
    "duration": 318,
    "start_time": "2022-06-24T08:12:46.280Z"
   },
   {
    "duration": 299,
    "start_time": "2022-06-24T08:12:46.600Z"
   },
   {
    "duration": 28,
    "start_time": "2022-06-24T08:12:46.900Z"
   },
   {
    "duration": 152,
    "start_time": "2022-06-24T08:12:46.933Z"
   },
   {
    "duration": 109,
    "start_time": "2022-06-24T08:12:47.087Z"
   },
   {
    "duration": 187,
    "start_time": "2022-06-24T08:12:47.198Z"
   },
   {
    "duration": 110,
    "start_time": "2022-06-24T08:12:47.386Z"
   },
   {
    "duration": 2,
    "start_time": "2022-06-24T08:12:47.498Z"
   },
   {
    "duration": 29,
    "start_time": "2022-06-24T08:12:47.502Z"
   },
   {
    "duration": 7,
    "start_time": "2022-06-24T08:12:47.539Z"
   },
   {
    "duration": 19,
    "start_time": "2022-06-24T08:12:47.548Z"
   },
   {
    "duration": 7,
    "start_time": "2022-06-24T08:12:47.569Z"
   },
   {
    "duration": 62,
    "start_time": "2022-06-24T08:12:47.577Z"
   },
   {
    "duration": 4,
    "start_time": "2022-06-24T08:12:47.643Z"
   },
   {
    "duration": 1426,
    "start_time": "2022-06-24T08:12:47.650Z"
   },
   {
    "duration": 291,
    "start_time": "2022-06-24T08:12:49.078Z"
   },
   {
    "duration": 188,
    "start_time": "2022-06-24T08:12:49.371Z"
   },
   {
    "duration": 185,
    "start_time": "2022-06-24T08:12:49.561Z"
   },
   {
    "duration": 51,
    "start_time": "2022-06-24T08:12:49.748Z"
   },
   {
    "duration": 51,
    "start_time": "2022-06-27T15:01:12.256Z"
   },
   {
    "duration": 1337,
    "start_time": "2022-06-27T15:01:20.007Z"
   },
   {
    "duration": 727,
    "start_time": "2022-06-27T15:01:21.346Z"
   },
   {
    "duration": 17,
    "start_time": "2022-06-27T15:01:22.075Z"
   },
   {
    "duration": 10,
    "start_time": "2022-06-27T15:01:22.094Z"
   },
   {
    "duration": 13,
    "start_time": "2022-06-27T15:01:22.107Z"
   },
   {
    "duration": 16,
    "start_time": "2022-06-27T15:01:22.122Z"
   },
   {
    "duration": 9,
    "start_time": "2022-06-27T15:01:22.140Z"
   },
   {
    "duration": 14,
    "start_time": "2022-06-27T15:01:22.151Z"
   },
   {
    "duration": 213,
    "start_time": "2022-06-27T15:01:22.167Z"
   },
   {
    "duration": 42,
    "start_time": "2022-06-27T15:01:22.382Z"
   },
   {
    "duration": 30,
    "start_time": "2022-06-27T15:01:22.425Z"
   },
   {
    "duration": 21,
    "start_time": "2022-06-27T15:01:22.457Z"
   },
   {
    "duration": 51,
    "start_time": "2022-06-27T15:01:22.480Z"
   },
   {
    "duration": 29,
    "start_time": "2022-06-27T15:01:22.535Z"
   },
   {
    "duration": 15,
    "start_time": "2022-06-27T15:01:22.566Z"
   },
   {
    "duration": 49,
    "start_time": "2022-06-27T15:01:22.583Z"
   },
   {
    "duration": 57,
    "start_time": "2022-06-27T15:01:22.635Z"
   },
   {
    "duration": 7,
    "start_time": "2022-06-27T15:01:22.694Z"
   },
   {
    "duration": 47,
    "start_time": "2022-06-27T15:01:22.703Z"
   },
   {
    "duration": 19,
    "start_time": "2022-06-27T15:01:22.752Z"
   },
   {
    "duration": 23,
    "start_time": "2022-06-27T15:01:22.773Z"
   },
   {
    "duration": 4,
    "start_time": "2022-06-27T15:01:22.798Z"
   },
   {
    "duration": 22,
    "start_time": "2022-06-27T15:01:22.804Z"
   },
   {
    "duration": 8,
    "start_time": "2022-06-27T15:01:22.828Z"
   },
   {
    "duration": 25,
    "start_time": "2022-06-27T15:01:22.838Z"
   },
   {
    "duration": 29,
    "start_time": "2022-06-27T15:01:22.865Z"
   },
   {
    "duration": 50,
    "start_time": "2022-06-27T15:01:22.896Z"
   },
   {
    "duration": 16,
    "start_time": "2022-06-27T15:01:22.948Z"
   },
   {
    "duration": 25,
    "start_time": "2022-06-27T15:01:22.965Z"
   },
   {
    "duration": 38,
    "start_time": "2022-06-27T15:01:22.992Z"
   },
   {
    "duration": 27,
    "start_time": "2022-06-27T15:01:23.031Z"
   },
   {
    "duration": 88,
    "start_time": "2022-06-27T15:01:23.060Z"
   },
   {
    "duration": 6,
    "start_time": "2022-06-27T15:01:23.150Z"
   },
   {
    "duration": 7,
    "start_time": "2022-06-27T15:01:23.158Z"
   },
   {
    "duration": 56,
    "start_time": "2022-06-27T15:01:23.167Z"
   },
   {
    "duration": 4,
    "start_time": "2022-06-27T15:01:23.225Z"
   },
   {
    "duration": 123,
    "start_time": "2022-06-27T15:01:23.230Z"
   },
   {
    "duration": 4,
    "start_time": "2022-06-27T15:01:23.355Z"
   },
   {
    "duration": 9,
    "start_time": "2022-06-27T15:01:23.360Z"
   },
   {
    "duration": 21,
    "start_time": "2022-06-27T15:01:23.370Z"
   },
   {
    "duration": 30,
    "start_time": "2022-06-27T15:01:23.396Z"
   },
   {
    "duration": 18,
    "start_time": "2022-06-27T15:01:23.428Z"
   },
   {
    "duration": 15,
    "start_time": "2022-06-27T15:01:23.448Z"
   },
   {
    "duration": 14,
    "start_time": "2022-06-27T15:01:23.465Z"
   },
   {
    "duration": 43,
    "start_time": "2022-06-27T15:01:23.481Z"
   },
   {
    "duration": 15,
    "start_time": "2022-06-27T15:01:23.526Z"
   },
   {
    "duration": 16,
    "start_time": "2022-06-27T15:01:23.543Z"
   },
   {
    "duration": 224,
    "start_time": "2022-06-27T15:01:23.561Z"
   },
   {
    "duration": 233,
    "start_time": "2022-06-27T15:01:23.787Z"
   },
   {
    "duration": 206,
    "start_time": "2022-06-27T15:01:24.022Z"
   },
   {
    "duration": 219,
    "start_time": "2022-06-27T15:01:24.230Z"
   },
   {
    "duration": 208,
    "start_time": "2022-06-27T15:01:24.451Z"
   },
   {
    "duration": 212,
    "start_time": "2022-06-27T15:01:24.661Z"
   },
   {
    "duration": 217,
    "start_time": "2022-06-27T15:01:24.874Z"
   },
   {
    "duration": 295,
    "start_time": "2022-06-27T15:01:25.093Z"
   },
   {
    "duration": 216,
    "start_time": "2022-06-27T15:01:25.390Z"
   },
   {
    "duration": 27,
    "start_time": "2022-06-27T15:01:25.608Z"
   },
   {
    "duration": 158,
    "start_time": "2022-06-27T15:01:25.636Z"
   },
   {
    "duration": 119,
    "start_time": "2022-06-27T15:01:25.796Z"
   },
   {
    "duration": 181,
    "start_time": "2022-06-27T15:01:25.917Z"
   },
   {
    "duration": 116,
    "start_time": "2022-06-27T15:01:26.099Z"
   },
   {
    "duration": 7,
    "start_time": "2022-06-27T15:01:26.216Z"
   },
   {
    "duration": 12,
    "start_time": "2022-06-27T15:01:26.225Z"
   },
   {
    "duration": 5,
    "start_time": "2022-06-27T15:01:26.239Z"
   },
   {
    "duration": 9,
    "start_time": "2022-06-27T15:01:26.246Z"
   },
   {
    "duration": 8,
    "start_time": "2022-06-27T15:01:26.256Z"
   },
   {
    "duration": 82,
    "start_time": "2022-06-27T15:01:26.266Z"
   },
   {
    "duration": 3,
    "start_time": "2022-06-27T15:01:26.350Z"
   },
   {
    "duration": 1562,
    "start_time": "2022-06-27T15:01:26.354Z"
   },
   {
    "duration": 197,
    "start_time": "2022-06-27T15:01:27.918Z"
   },
   {
    "duration": 190,
    "start_time": "2022-06-27T15:01:28.117Z"
   },
   {
    "duration": 183,
    "start_time": "2022-06-27T15:01:28.308Z"
   },
   {
    "duration": 36,
    "start_time": "2022-06-27T15:01:28.492Z"
   },
   {
    "duration": 187,
    "start_time": "2022-06-27T15:02:40.045Z"
   },
   {
    "duration": 203,
    "start_time": "2022-06-27T15:02:45.753Z"
   },
   {
    "duration": 6,
    "start_time": "2022-06-27T15:05:54.032Z"
   },
   {
    "duration": 6,
    "start_time": "2022-06-27T15:05:59.743Z"
   },
   {
    "duration": 5,
    "start_time": "2022-06-27T15:06:22.278Z"
   },
   {
    "duration": 5,
    "start_time": "2022-06-27T15:07:09.496Z"
   },
   {
    "duration": 6,
    "start_time": "2022-06-27T15:07:14.090Z"
   },
   {
    "duration": 22,
    "start_time": "2022-06-27T15:09:28.908Z"
   },
   {
    "duration": 6,
    "start_time": "2022-06-27T15:09:34.534Z"
   },
   {
    "duration": 14,
    "start_time": "2022-06-27T15:10:33.004Z"
   },
   {
    "duration": 15,
    "start_time": "2022-06-27T15:10:40.211Z"
   },
   {
    "duration": 14,
    "start_time": "2022-06-27T15:11:56.768Z"
   },
   {
    "duration": 22,
    "start_time": "2022-06-27T15:12:01.018Z"
   },
   {
    "duration": 14,
    "start_time": "2022-06-27T15:12:11.304Z"
   },
   {
    "duration": 4,
    "start_time": "2022-06-27T15:12:24.790Z"
   },
   {
    "duration": 416,
    "start_time": "2022-06-27T15:12:26.828Z"
   },
   {
    "duration": 15,
    "start_time": "2022-06-27T15:12:34.038Z"
   },
   {
    "duration": 7,
    "start_time": "2022-06-27T15:15:57.963Z"
   },
   {
    "duration": 7,
    "start_time": "2022-06-27T15:16:18.259Z"
   },
   {
    "duration": 20,
    "start_time": "2022-06-27T15:16:25.043Z"
   },
   {
    "duration": 279,
    "start_time": "2022-06-27T15:16:46.626Z"
   },
   {
    "duration": 318,
    "start_time": "2022-06-27T15:16:52.944Z"
   },
   {
    "duration": 424,
    "start_time": "2022-06-27T15:16:55.556Z"
   },
   {
    "duration": 63,
    "start_time": "2022-06-27T15:18:01.163Z"
   },
   {
    "duration": 13,
    "start_time": "2022-06-27T15:18:08.007Z"
   },
   {
    "duration": 9,
    "start_time": "2022-06-27T15:18:14.191Z"
   },
   {
    "duration": 64,
    "start_time": "2022-06-27T15:18:24.037Z"
   },
   {
    "duration": 14,
    "start_time": "2022-06-27T15:18:34.236Z"
   },
   {
    "duration": 227,
    "start_time": "2022-06-27T15:18:39.277Z"
   },
   {
    "duration": 11,
    "start_time": "2022-06-27T15:18:57.270Z"
   },
   {
    "duration": 9,
    "start_time": "2022-06-27T15:19:20.287Z"
   },
   {
    "duration": 15,
    "start_time": "2022-06-27T15:20:12.975Z"
   },
   {
    "duration": 3,
    "start_time": "2022-06-27T15:20:24.506Z"
   },
   {
    "duration": 427,
    "start_time": "2022-06-27T15:20:24.510Z"
   },
   {
    "duration": 14,
    "start_time": "2022-06-27T15:20:24.939Z"
   },
   {
    "duration": 9,
    "start_time": "2022-06-27T15:20:24.955Z"
   },
   {
    "duration": 18,
    "start_time": "2022-06-27T15:20:24.967Z"
   },
   {
    "duration": 10,
    "start_time": "2022-06-27T15:20:24.987Z"
   },
   {
    "duration": 13,
    "start_time": "2022-06-27T15:20:24.998Z"
   },
   {
    "duration": 13,
    "start_time": "2022-06-27T15:20:25.024Z"
   },
   {
    "duration": 319,
    "start_time": "2022-06-27T15:20:25.039Z"
   },
   {
    "duration": 13,
    "start_time": "2022-06-27T15:20:25.359Z"
   },
   {
    "duration": 13,
    "start_time": "2022-06-27T15:20:25.374Z"
   },
   {
    "duration": 40,
    "start_time": "2022-06-27T15:20:25.388Z"
   },
   {
    "duration": 26,
    "start_time": "2022-06-27T15:20:25.429Z"
   },
   {
    "duration": 21,
    "start_time": "2022-06-27T15:20:25.456Z"
   },
   {
    "duration": 58,
    "start_time": "2022-06-27T15:20:25.478Z"
   },
   {
    "duration": 17,
    "start_time": "2022-06-27T15:20:25.538Z"
   },
   {
    "duration": 9,
    "start_time": "2022-06-27T15:20:25.557Z"
   },
   {
    "duration": 16,
    "start_time": "2022-06-27T15:20:25.568Z"
   },
   {
    "duration": 52,
    "start_time": "2022-06-27T15:20:25.585Z"
   },
   {
    "duration": 6,
    "start_time": "2022-06-27T15:20:25.639Z"
   },
   {
    "duration": 26,
    "start_time": "2022-06-27T15:20:25.647Z"
   },
   {
    "duration": 17,
    "start_time": "2022-06-27T15:20:25.674Z"
   },
   {
    "duration": 46,
    "start_time": "2022-06-27T15:20:25.694Z"
   },
   {
    "duration": 4,
    "start_time": "2022-06-27T15:20:25.742Z"
   },
   {
    "duration": 9,
    "start_time": "2022-06-27T15:20:25.748Z"
   },
   {
    "duration": 7,
    "start_time": "2022-06-27T15:20:25.759Z"
   },
   {
    "duration": 26,
    "start_time": "2022-06-27T15:20:25.768Z"
   },
   {
    "duration": 50,
    "start_time": "2022-06-27T15:20:25.796Z"
   },
   {
    "duration": 28,
    "start_time": "2022-06-27T15:20:25.850Z"
   },
   {
    "duration": 14,
    "start_time": "2022-06-27T15:20:25.880Z"
   },
   {
    "duration": 46,
    "start_time": "2022-06-27T15:20:25.896Z"
   },
   {
    "duration": 18,
    "start_time": "2022-06-27T15:20:25.944Z"
   },
   {
    "duration": 32,
    "start_time": "2022-06-27T15:20:25.964Z"
   },
   {
    "duration": 95,
    "start_time": "2022-06-27T15:20:25.999Z"
   },
   {
    "duration": 5,
    "start_time": "2022-06-27T15:20:26.095Z"
   },
   {
    "duration": 23,
    "start_time": "2022-06-27T15:20:26.101Z"
   },
   {
    "duration": 42,
    "start_time": "2022-06-27T15:20:26.126Z"
   },
   {
    "duration": 4,
    "start_time": "2022-06-27T15:20:26.170Z"
   },
   {
    "duration": 125,
    "start_time": "2022-06-27T15:20:26.176Z"
   },
   {
    "duration": 5,
    "start_time": "2022-06-27T15:20:26.303Z"
   },
   {
    "duration": 15,
    "start_time": "2022-06-27T15:20:26.310Z"
   },
   {
    "duration": 19,
    "start_time": "2022-06-27T15:20:26.327Z"
   },
   {
    "duration": 12,
    "start_time": "2022-06-27T15:20:26.348Z"
   },
   {
    "duration": 14,
    "start_time": "2022-06-27T15:20:26.362Z"
   },
   {
    "duration": 14,
    "start_time": "2022-06-27T15:20:26.377Z"
   },
   {
    "duration": 15,
    "start_time": "2022-06-27T15:20:26.424Z"
   },
   {
    "duration": 16,
    "start_time": "2022-06-27T15:20:26.440Z"
   },
   {
    "duration": 15,
    "start_time": "2022-06-27T15:20:26.457Z"
   },
   {
    "duration": 14,
    "start_time": "2022-06-27T15:20:26.474Z"
   },
   {
    "duration": 244,
    "start_time": "2022-06-27T15:20:26.490Z"
   },
   {
    "duration": 212,
    "start_time": "2022-06-27T15:20:26.735Z"
   },
   {
    "duration": 201,
    "start_time": "2022-06-27T15:20:26.949Z"
   },
   {
    "duration": 220,
    "start_time": "2022-06-27T15:20:27.151Z"
   },
   {
    "duration": 216,
    "start_time": "2022-06-27T15:20:27.372Z"
   },
   {
    "duration": 214,
    "start_time": "2022-06-27T15:20:27.589Z"
   },
   {
    "duration": 220,
    "start_time": "2022-06-27T15:20:27.805Z"
   },
   {
    "duration": 214,
    "start_time": "2022-06-27T15:20:28.027Z"
   },
   {
    "duration": 361,
    "start_time": "2022-06-27T15:20:28.243Z"
   },
   {
    "duration": 28,
    "start_time": "2022-06-27T15:20:28.605Z"
   },
   {
    "duration": 161,
    "start_time": "2022-06-27T15:20:28.634Z"
   },
   {
    "duration": 111,
    "start_time": "2022-06-27T15:20:28.796Z"
   },
   {
    "duration": 180,
    "start_time": "2022-06-27T15:20:28.909Z"
   },
   {
    "duration": 115,
    "start_time": "2022-06-27T15:20:29.090Z"
   },
   {
    "duration": 3,
    "start_time": "2022-06-27T15:20:29.206Z"
   },
   {
    "duration": 29,
    "start_time": "2022-06-27T15:20:29.211Z"
   },
   {
    "duration": 7,
    "start_time": "2022-06-27T15:20:29.242Z"
   },
   {
    "duration": 9,
    "start_time": "2022-06-27T15:20:29.250Z"
   },
   {
    "duration": 14,
    "start_time": "2022-06-27T15:20:29.260Z"
   },
   {
    "duration": 10,
    "start_time": "2022-06-27T15:20:29.277Z"
   },
   {
    "duration": 14,
    "start_time": "2022-06-27T15:20:29.288Z"
   },
   {
    "duration": 1410,
    "start_time": "2022-06-27T15:20:29.304Z"
   },
   {
    "duration": 181,
    "start_time": "2022-06-27T15:20:30.716Z"
   },
   {
    "duration": 183,
    "start_time": "2022-06-27T15:20:30.899Z"
   },
   {
    "duration": 177,
    "start_time": "2022-06-27T15:20:31.084Z"
   },
   {
    "duration": 37,
    "start_time": "2022-06-27T15:20:31.263Z"
   },
   {
    "duration": 15,
    "start_time": "2022-06-27T15:21:28.074Z"
   },
   {
    "duration": 20,
    "start_time": "2022-06-27T15:21:50.272Z"
   },
   {
    "duration": 55,
    "start_time": "2022-06-27T15:22:20.585Z"
   },
   {
    "duration": 53,
    "start_time": "2022-06-27T15:22:29.748Z"
   },
   {
    "duration": 10,
    "start_time": "2022-06-27T15:22:43.272Z"
   },
   {
    "duration": 6,
    "start_time": "2022-06-27T15:22:48.106Z"
   },
   {
    "duration": 5,
    "start_time": "2022-06-27T15:22:55.347Z"
   },
   {
    "duration": 3,
    "start_time": "2022-06-27T15:23:59.942Z"
   },
   {
    "duration": 485,
    "start_time": "2022-06-27T15:23:59.947Z"
   },
   {
    "duration": 12,
    "start_time": "2022-06-27T15:24:00.434Z"
   },
   {
    "duration": 14,
    "start_time": "2022-06-27T15:24:00.448Z"
   },
   {
    "duration": 19,
    "start_time": "2022-06-27T15:24:00.464Z"
   },
   {
    "duration": 21,
    "start_time": "2022-06-27T15:24:00.485Z"
   },
   {
    "duration": 20,
    "start_time": "2022-06-27T15:24:00.508Z"
   },
   {
    "duration": 26,
    "start_time": "2022-06-27T15:24:00.529Z"
   },
   {
    "duration": 315,
    "start_time": "2022-06-27T15:24:00.557Z"
   },
   {
    "duration": 17,
    "start_time": "2022-06-27T15:24:00.874Z"
   },
   {
    "duration": 36,
    "start_time": "2022-06-27T15:24:00.893Z"
   },
   {
    "duration": 31,
    "start_time": "2022-06-27T15:24:00.931Z"
   },
   {
    "duration": 22,
    "start_time": "2022-06-27T15:24:00.963Z"
   },
   {
    "duration": 56,
    "start_time": "2022-06-27T15:24:00.988Z"
   },
   {
    "duration": 30,
    "start_time": "2022-06-27T15:24:01.046Z"
   },
   {
    "duration": 24,
    "start_time": "2022-06-27T15:24:01.078Z"
   },
   {
    "duration": 38,
    "start_time": "2022-06-27T15:24:01.105Z"
   },
   {
    "duration": 57,
    "start_time": "2022-06-27T15:24:01.145Z"
   },
   {
    "duration": 46,
    "start_time": "2022-06-27T15:24:01.204Z"
   },
   {
    "duration": 63,
    "start_time": "2022-06-27T15:24:01.252Z"
   },
   {
    "duration": 75,
    "start_time": "2022-06-27T15:24:01.316Z"
   },
   {
    "duration": 57,
    "start_time": "2022-06-27T15:24:01.393Z"
   },
   {
    "duration": 34,
    "start_time": "2022-06-27T15:24:01.452Z"
   },
   {
    "duration": 22,
    "start_time": "2022-06-27T15:24:01.488Z"
   },
   {
    "duration": 52,
    "start_time": "2022-06-27T15:24:01.512Z"
   },
   {
    "duration": 61,
    "start_time": "2022-06-27T15:24:01.566Z"
   },
   {
    "duration": 64,
    "start_time": "2022-06-27T15:24:01.629Z"
   },
   {
    "duration": 67,
    "start_time": "2022-06-27T15:24:01.695Z"
   },
   {
    "duration": 15,
    "start_time": "2022-06-27T15:24:01.766Z"
   },
   {
    "duration": 25,
    "start_time": "2022-06-27T15:24:01.783Z"
   },
   {
    "duration": 26,
    "start_time": "2022-06-27T15:24:01.810Z"
   },
   {
    "duration": 27,
    "start_time": "2022-06-27T15:24:01.837Z"
   },
   {
    "duration": 77,
    "start_time": "2022-06-27T15:24:01.866Z"
   },
   {
    "duration": 5,
    "start_time": "2022-06-27T15:24:01.946Z"
   },
   {
    "duration": 17,
    "start_time": "2022-06-27T15:24:01.953Z"
   },
   {
    "duration": 57,
    "start_time": "2022-06-27T15:24:01.972Z"
   },
   {
    "duration": 4,
    "start_time": "2022-06-27T15:24:02.031Z"
   },
   {
    "duration": 115,
    "start_time": "2022-06-27T15:24:02.037Z"
   },
   {
    "duration": 5,
    "start_time": "2022-06-27T15:24:02.154Z"
   },
   {
    "duration": 10,
    "start_time": "2022-06-27T15:24:02.161Z"
   },
   {
    "duration": 26,
    "start_time": "2022-06-27T15:24:02.172Z"
   },
   {
    "duration": 26,
    "start_time": "2022-06-27T15:24:02.200Z"
   },
   {
    "duration": 15,
    "start_time": "2022-06-27T15:24:02.228Z"
   },
   {
    "duration": 15,
    "start_time": "2022-06-27T15:24:02.244Z"
   },
   {
    "duration": 15,
    "start_time": "2022-06-27T15:24:02.260Z"
   },
   {
    "duration": 15,
    "start_time": "2022-06-27T15:24:02.277Z"
   },
   {
    "duration": 16,
    "start_time": "2022-06-27T15:24:02.324Z"
   },
   {
    "duration": 15,
    "start_time": "2022-06-27T15:24:02.343Z"
   },
   {
    "duration": 244,
    "start_time": "2022-06-27T15:24:02.360Z"
   },
   {
    "duration": 426,
    "start_time": "2022-06-27T15:24:02.607Z"
   },
   {
    "duration": 208,
    "start_time": "2022-06-27T15:24:03.035Z"
   },
   {
    "duration": 238,
    "start_time": "2022-06-27T15:24:03.245Z"
   },
   {
    "duration": 213,
    "start_time": "2022-06-27T15:24:03.485Z"
   },
   {
    "duration": 218,
    "start_time": "2022-06-27T15:24:03.700Z"
   },
   {
    "duration": 205,
    "start_time": "2022-06-27T15:24:03.930Z"
   },
   {
    "duration": 200,
    "start_time": "2022-06-27T15:24:04.137Z"
   },
   {
    "duration": 207,
    "start_time": "2022-06-27T15:24:04.339Z"
   },
   {
    "duration": 24,
    "start_time": "2022-06-27T15:24:04.548Z"
   },
   {
    "duration": 162,
    "start_time": "2022-06-27T15:24:04.574Z"
   },
   {
    "duration": 117,
    "start_time": "2022-06-27T15:24:04.737Z"
   },
   {
    "duration": 160,
    "start_time": "2022-06-27T15:24:04.855Z"
   },
   {
    "duration": 124,
    "start_time": "2022-06-27T15:24:05.017Z"
   },
   {
    "duration": 2,
    "start_time": "2022-06-27T15:24:05.143Z"
   },
   {
    "duration": 11,
    "start_time": "2022-06-27T15:24:05.147Z"
   },
   {
    "duration": 6,
    "start_time": "2022-06-27T15:24:05.159Z"
   },
   {
    "duration": 12,
    "start_time": "2022-06-27T15:24:05.166Z"
   },
   {
    "duration": 23,
    "start_time": "2022-06-27T15:24:05.180Z"
   },
   {
    "duration": 9,
    "start_time": "2022-06-27T15:24:05.205Z"
   },
   {
    "duration": 12,
    "start_time": "2022-06-27T15:24:05.215Z"
   },
   {
    "duration": 1410,
    "start_time": "2022-06-27T15:24:05.228Z"
   },
   {
    "duration": 189,
    "start_time": "2022-06-27T15:24:06.639Z"
   },
   {
    "duration": 371,
    "start_time": "2022-06-27T15:24:06.830Z"
   },
   {
    "duration": 204,
    "start_time": "2022-06-27T15:24:07.203Z"
   },
   {
    "duration": 38,
    "start_time": "2022-06-27T15:24:07.409Z"
   },
   {
    "duration": 16,
    "start_time": "2022-06-27T15:25:13.440Z"
   },
   {
    "duration": 19,
    "start_time": "2022-06-27T15:25:20.854Z"
   },
   {
    "duration": 15,
    "start_time": "2022-06-27T15:25:25.329Z"
   },
   {
    "duration": 11,
    "start_time": "2022-06-27T15:26:06.878Z"
   },
   {
    "duration": 15,
    "start_time": "2022-06-27T15:26:18.633Z"
   },
   {
    "duration": 454,
    "start_time": "2022-06-27T15:27:03.204Z"
   },
   {
    "duration": 299,
    "start_time": "2022-06-27T15:27:13.175Z"
   },
   {
    "duration": 114,
    "start_time": "2022-06-27T15:36:30.455Z"
   },
   {
    "duration": 116,
    "start_time": "2022-06-27T15:36:37.463Z"
   },
   {
    "duration": 108,
    "start_time": "2022-06-27T15:37:33.625Z"
   },
   {
    "duration": 107,
    "start_time": "2022-06-27T15:38:20.471Z"
   },
   {
    "duration": 153,
    "start_time": "2022-06-27T15:38:30.054Z"
   },
   {
    "duration": 216,
    "start_time": "2022-06-27T15:39:02.637Z"
   },
   {
    "duration": 1385,
    "start_time": "2022-06-27T15:58:28.492Z"
   },
   {
    "duration": 1062,
    "start_time": "2022-06-27T15:58:38.881Z"
   },
   {
    "duration": 308,
    "start_time": "2022-06-27T15:59:01.301Z"
   },
   {
    "duration": 6,
    "start_time": "2022-06-27T16:03:14.454Z"
   },
   {
    "duration": 12,
    "start_time": "2022-06-27T16:03:29.410Z"
   },
   {
    "duration": 7,
    "start_time": "2022-06-27T16:03:51.818Z"
   },
   {
    "duration": 7,
    "start_time": "2022-06-27T16:04:40.691Z"
   },
   {
    "duration": 5,
    "start_time": "2022-06-27T16:05:14.553Z"
   },
   {
    "duration": 9,
    "start_time": "2022-06-27T16:05:28.277Z"
   },
   {
    "duration": 8,
    "start_time": "2022-06-27T16:05:58.630Z"
   },
   {
    "duration": 9,
    "start_time": "2022-06-27T16:06:19.811Z"
   },
   {
    "duration": 4,
    "start_time": "2022-06-27T16:29:06.591Z"
   },
   {
    "duration": 14,
    "start_time": "2022-06-27T16:34:52.615Z"
   },
   {
    "duration": 3,
    "start_time": "2022-06-27T16:35:02.468Z"
   },
   {
    "duration": 6,
    "start_time": "2022-06-27T16:36:08.174Z"
   },
   {
    "duration": 9,
    "start_time": "2022-06-27T16:36:31.019Z"
   },
   {
    "duration": 10,
    "start_time": "2022-06-27T16:36:45.912Z"
   },
   {
    "duration": 8,
    "start_time": "2022-06-27T16:36:53.929Z"
   },
   {
    "duration": 2,
    "start_time": "2022-06-27T16:37:38.516Z"
   },
   {
    "duration": 423,
    "start_time": "2022-06-27T16:38:11.224Z"
   },
   {
    "duration": 12,
    "start_time": "2022-06-27T16:38:17.573Z"
   },
   {
    "duration": 42,
    "start_time": "2022-06-27T16:40:11.725Z"
   },
   {
    "duration": 236,
    "start_time": "2022-06-27T16:40:16.061Z"
   },
   {
    "duration": 2,
    "start_time": "2022-06-27T16:40:54.221Z"
   },
   {
    "duration": 13,
    "start_time": "2022-06-27T17:30:02.970Z"
   },
   {
    "duration": 13,
    "start_time": "2022-06-27T17:30:31.355Z"
   },
   {
    "duration": 22,
    "start_time": "2022-06-27T17:31:19.805Z"
   },
   {
    "duration": 30,
    "start_time": "2022-06-27T17:32:06.024Z"
   },
   {
    "duration": 36,
    "start_time": "2022-06-27T17:35:56.488Z"
   },
   {
    "duration": 47,
    "start_time": "2022-06-27T17:36:16.748Z"
   },
   {
    "duration": 46,
    "start_time": "2022-06-27T17:36:35.661Z"
   },
   {
    "duration": 14,
    "start_time": "2022-06-27T17:37:32.526Z"
   },
   {
    "duration": 41,
    "start_time": "2022-06-27T22:28:19.777Z"
   },
   {
    "duration": 1251,
    "start_time": "2022-06-27T22:28:26.458Z"
   },
   {
    "duration": 668,
    "start_time": "2022-06-27T22:28:27.711Z"
   },
   {
    "duration": 17,
    "start_time": "2022-06-27T22:28:28.380Z"
   },
   {
    "duration": 5,
    "start_time": "2022-06-27T22:28:28.399Z"
   },
   {
    "duration": 12,
    "start_time": "2022-06-27T22:28:28.406Z"
   },
   {
    "duration": 10,
    "start_time": "2022-06-27T22:28:28.419Z"
   },
   {
    "duration": 9,
    "start_time": "2022-06-27T22:28:28.430Z"
   },
   {
    "duration": 19,
    "start_time": "2022-06-27T22:28:28.440Z"
   },
   {
    "duration": 308,
    "start_time": "2022-06-27T22:28:28.461Z"
   },
   {
    "duration": 13,
    "start_time": "2022-06-27T22:28:28.772Z"
   },
   {
    "duration": 309,
    "start_time": "2022-06-27T22:28:28.786Z"
   },
   {
    "duration": 205,
    "start_time": "2022-06-27T22:28:29.096Z"
   },
   {
    "duration": 8,
    "start_time": "2022-06-27T22:28:29.302Z"
   },
   {
    "duration": 22,
    "start_time": "2022-06-27T22:28:29.311Z"
   },
   {
    "duration": 52,
    "start_time": "2022-06-27T22:28:29.334Z"
   },
   {
    "duration": 18,
    "start_time": "2022-06-27T22:28:29.388Z"
   },
   {
    "duration": 47,
    "start_time": "2022-06-27T22:28:29.408Z"
   },
   {
    "duration": 18,
    "start_time": "2022-06-27T22:28:29.457Z"
   },
   {
    "duration": 16,
    "start_time": "2022-06-27T22:28:29.478Z"
   },
   {
    "duration": 28,
    "start_time": "2022-06-27T22:28:29.496Z"
   },
   {
    "duration": 66,
    "start_time": "2022-06-27T22:28:29.526Z"
   },
   {
    "duration": 4,
    "start_time": "2022-06-27T22:28:29.596Z"
   },
   {
    "duration": 23,
    "start_time": "2022-06-27T22:28:29.602Z"
   },
   {
    "duration": 28,
    "start_time": "2022-06-27T22:28:29.627Z"
   },
   {
    "duration": 4,
    "start_time": "2022-06-27T22:28:29.656Z"
   },
   {
    "duration": 6,
    "start_time": "2022-06-27T22:28:29.661Z"
   },
   {
    "duration": 5,
    "start_time": "2022-06-27T22:28:29.669Z"
   },
   {
    "duration": 23,
    "start_time": "2022-06-27T22:28:29.679Z"
   },
   {
    "duration": 54,
    "start_time": "2022-06-27T22:28:29.704Z"
   },
   {
    "duration": 25,
    "start_time": "2022-06-27T22:28:29.760Z"
   },
   {
    "duration": 15,
    "start_time": "2022-06-27T22:28:29.787Z"
   },
   {
    "duration": 24,
    "start_time": "2022-06-27T22:28:29.803Z"
   },
   {
    "duration": 36,
    "start_time": "2022-06-27T22:28:29.828Z"
   },
   {
    "duration": 26,
    "start_time": "2022-06-27T22:28:29.866Z"
   },
   {
    "duration": 79,
    "start_time": "2022-06-27T22:28:29.893Z"
   },
   {
    "duration": 11,
    "start_time": "2022-06-27T22:28:29.973Z"
   },
   {
    "duration": 33,
    "start_time": "2022-06-27T22:28:29.985Z"
   },
   {
    "duration": 4,
    "start_time": "2022-06-27T22:28:30.019Z"
   },
   {
    "duration": 118,
    "start_time": "2022-06-27T22:28:30.024Z"
   },
   {
    "duration": 4,
    "start_time": "2022-06-27T22:28:30.150Z"
   },
   {
    "duration": 8,
    "start_time": "2022-06-27T22:28:30.156Z"
   },
   {
    "duration": 18,
    "start_time": "2022-06-27T22:28:30.165Z"
   },
   {
    "duration": 10,
    "start_time": "2022-06-27T22:28:30.184Z"
   },
   {
    "duration": 16,
    "start_time": "2022-06-27T22:28:30.195Z"
   },
   {
    "duration": 45,
    "start_time": "2022-06-27T22:28:30.213Z"
   },
   {
    "duration": 14,
    "start_time": "2022-06-27T22:28:30.259Z"
   },
   {
    "duration": 26,
    "start_time": "2022-06-27T22:28:30.274Z"
   },
   {
    "duration": 20,
    "start_time": "2022-06-27T22:28:30.302Z"
   },
   {
    "duration": 33,
    "start_time": "2022-06-27T22:28:30.324Z"
   },
   {
    "duration": 191,
    "start_time": "2022-06-27T22:28:30.358Z"
   },
   {
    "duration": 183,
    "start_time": "2022-06-27T22:28:30.551Z"
   },
   {
    "duration": 177,
    "start_time": "2022-06-27T22:28:30.735Z"
   },
   {
    "duration": 219,
    "start_time": "2022-06-27T22:28:30.913Z"
   },
   {
    "duration": 177,
    "start_time": "2022-06-27T22:28:31.133Z"
   },
   {
    "duration": 257,
    "start_time": "2022-06-27T22:28:31.311Z"
   },
   {
    "duration": 183,
    "start_time": "2022-06-27T22:28:31.569Z"
   },
   {
    "duration": 173,
    "start_time": "2022-06-27T22:28:31.753Z"
   },
   {
    "duration": 180,
    "start_time": "2022-06-27T22:28:31.927Z"
   },
   {
    "duration": 15,
    "start_time": "2022-06-27T22:28:32.108Z"
   },
   {
    "duration": 143,
    "start_time": "2022-06-27T22:28:32.124Z"
   },
   {
    "duration": 94,
    "start_time": "2022-06-27T22:28:32.268Z"
   },
   {
    "duration": 152,
    "start_time": "2022-06-27T22:28:32.363Z"
   },
   {
    "duration": 111,
    "start_time": "2022-06-27T22:28:32.517Z"
   },
   {
    "duration": 2,
    "start_time": "2022-06-27T22:28:32.630Z"
   },
   {
    "duration": 19,
    "start_time": "2022-06-27T22:28:32.634Z"
   },
   {
    "duration": 5,
    "start_time": "2022-06-27T22:28:32.655Z"
   },
   {
    "duration": 23,
    "start_time": "2022-06-27T22:28:32.661Z"
   },
   {
    "duration": 16,
    "start_time": "2022-06-27T22:28:32.685Z"
   },
   {
    "duration": 67,
    "start_time": "2022-06-27T22:28:32.702Z"
   },
   {
    "duration": 2,
    "start_time": "2022-06-27T22:28:32.771Z"
   },
   {
    "duration": 1475,
    "start_time": "2022-06-27T22:28:32.775Z"
   },
   {
    "duration": 158,
    "start_time": "2022-06-27T22:28:34.252Z"
   },
   {
    "duration": 197,
    "start_time": "2022-06-27T22:28:34.412Z"
   },
   {
    "duration": 150,
    "start_time": "2022-06-27T22:28:34.610Z"
   },
   {
    "duration": 32,
    "start_time": "2022-06-27T22:28:34.761Z"
   },
   {
    "duration": 10,
    "start_time": "2022-06-27T22:29:16.686Z"
   },
   {
    "duration": 13,
    "start_time": "2022-06-27T22:32:47.935Z"
   },
   {
    "duration": 5,
    "start_time": "2022-06-27T22:33:38.606Z"
   },
   {
    "duration": 12,
    "start_time": "2022-06-27T22:33:46.825Z"
   },
   {
    "duration": 8,
    "start_time": "2022-06-27T22:33:52.686Z"
   },
   {
    "duration": 5,
    "start_time": "2022-06-27T22:34:17.046Z"
   },
   {
    "duration": 5,
    "start_time": "2022-06-27T22:34:25.937Z"
   },
   {
    "duration": 58,
    "start_time": "2022-06-27T22:34:39.625Z"
   },
   {
    "duration": 5,
    "start_time": "2022-06-27T22:34:48.085Z"
   },
   {
    "duration": 5,
    "start_time": "2022-06-27T22:35:22.566Z"
   },
   {
    "duration": 5,
    "start_time": "2022-06-27T22:35:24.946Z"
   },
   {
    "duration": 12,
    "start_time": "2022-06-27T22:35:28.065Z"
   },
   {
    "duration": 11,
    "start_time": "2022-06-27T22:35:42.877Z"
   },
   {
    "duration": 11,
    "start_time": "2022-06-27T22:35:53.266Z"
   },
   {
    "duration": 6,
    "start_time": "2022-06-27T22:37:35.248Z"
   },
   {
    "duration": 47,
    "start_time": "2022-06-27T22:37:39.866Z"
   },
   {
    "duration": 3,
    "start_time": "2022-06-27T22:38:52.277Z"
   },
   {
    "duration": 372,
    "start_time": "2022-06-27T22:38:52.282Z"
   },
   {
    "duration": 10,
    "start_time": "2022-06-27T22:38:52.656Z"
   },
   {
    "duration": 6,
    "start_time": "2022-06-27T22:38:52.667Z"
   },
   {
    "duration": 10,
    "start_time": "2022-06-27T22:38:52.675Z"
   },
   {
    "duration": 9,
    "start_time": "2022-06-27T22:38:52.687Z"
   },
   {
    "duration": 11,
    "start_time": "2022-06-27T22:38:52.697Z"
   },
   {
    "duration": 12,
    "start_time": "2022-06-27T22:38:52.709Z"
   },
   {
    "duration": 261,
    "start_time": "2022-06-27T22:38:52.751Z"
   },
   {
    "duration": 11,
    "start_time": "2022-06-27T22:38:53.014Z"
   },
   {
    "duration": 276,
    "start_time": "2022-06-27T22:38:53.027Z"
   },
   {
    "duration": 171,
    "start_time": "2022-06-27T22:38:53.305Z"
   },
   {
    "duration": 7,
    "start_time": "2022-06-27T22:38:53.477Z"
   },
   {
    "duration": 27,
    "start_time": "2022-06-27T22:38:53.486Z"
   },
   {
    "duration": 38,
    "start_time": "2022-06-27T22:38:53.515Z"
   },
   {
    "duration": 16,
    "start_time": "2022-06-27T22:38:53.555Z"
   },
   {
    "duration": 19,
    "start_time": "2022-06-27T22:38:53.572Z"
   },
   {
    "duration": 16,
    "start_time": "2022-06-27T22:38:53.592Z"
   },
   {
    "duration": 10,
    "start_time": "2022-06-27T22:38:53.609Z"
   },
   {
    "duration": 12,
    "start_time": "2022-06-27T22:38:53.650Z"
   },
   {
    "duration": 29,
    "start_time": "2022-06-27T22:38:53.663Z"
   },
   {
    "duration": 4,
    "start_time": "2022-06-27T22:38:53.694Z"
   },
   {
    "duration": 20,
    "start_time": "2022-06-27T22:38:53.700Z"
   },
   {
    "duration": 35,
    "start_time": "2022-06-27T22:38:53.722Z"
   },
   {
    "duration": 4,
    "start_time": "2022-06-27T22:38:53.758Z"
   },
   {
    "duration": 6,
    "start_time": "2022-06-27T22:38:53.763Z"
   },
   {
    "duration": 7,
    "start_time": "2022-06-27T22:38:53.770Z"
   },
   {
    "duration": 22,
    "start_time": "2022-06-27T22:38:53.779Z"
   },
   {
    "duration": 22,
    "start_time": "2022-06-27T22:38:53.804Z"
   },
   {
    "duration": 39,
    "start_time": "2022-06-27T22:38:53.827Z"
   },
   {
    "duration": 13,
    "start_time": "2022-06-27T22:38:53.868Z"
   },
   {
    "duration": 19,
    "start_time": "2022-06-27T22:38:53.882Z"
   },
   {
    "duration": 14,
    "start_time": "2022-06-27T22:38:53.902Z"
   },
   {
    "duration": 44,
    "start_time": "2022-06-27T22:38:53.918Z"
   },
   {
    "duration": 87,
    "start_time": "2022-06-27T22:38:53.964Z"
   },
   {
    "duration": 8,
    "start_time": "2022-06-27T22:38:54.053Z"
   },
   {
    "duration": 10,
    "start_time": "2022-06-27T22:38:54.062Z"
   },
   {
    "duration": 30,
    "start_time": "2022-06-27T22:38:54.073Z"
   },
   {
    "duration": 51,
    "start_time": "2022-06-27T22:38:54.104Z"
   },
   {
    "duration": 3,
    "start_time": "2022-06-27T22:38:54.156Z"
   },
   {
    "duration": 105,
    "start_time": "2022-06-27T22:38:54.161Z"
   },
   {
    "duration": 4,
    "start_time": "2022-06-27T22:38:54.268Z"
   },
   {
    "duration": 5,
    "start_time": "2022-06-27T22:38:54.273Z"
   },
   {
    "duration": 15,
    "start_time": "2022-06-27T22:38:54.280Z"
   },
   {
    "duration": 10,
    "start_time": "2022-06-27T22:38:54.297Z"
   },
   {
    "duration": 12,
    "start_time": "2022-06-27T22:38:54.308Z"
   },
   {
    "duration": 34,
    "start_time": "2022-06-27T22:38:54.321Z"
   },
   {
    "duration": 12,
    "start_time": "2022-06-27T22:38:54.356Z"
   },
   {
    "duration": 17,
    "start_time": "2022-06-27T22:38:54.369Z"
   },
   {
    "duration": 19,
    "start_time": "2022-06-27T22:38:54.387Z"
   },
   {
    "duration": 15,
    "start_time": "2022-06-27T22:38:54.408Z"
   },
   {
    "duration": 203,
    "start_time": "2022-06-27T22:38:54.451Z"
   },
   {
    "duration": 276,
    "start_time": "2022-06-27T22:38:54.656Z"
   },
   {
    "duration": 182,
    "start_time": "2022-06-27T22:38:54.934Z"
   },
   {
    "duration": 186,
    "start_time": "2022-06-27T22:38:55.117Z"
   },
   {
    "duration": 176,
    "start_time": "2022-06-27T22:38:55.304Z"
   },
   {
    "duration": 177,
    "start_time": "2022-06-27T22:38:55.482Z"
   },
   {
    "duration": 175,
    "start_time": "2022-06-27T22:38:55.661Z"
   },
   {
    "duration": 172,
    "start_time": "2022-06-27T22:38:55.837Z"
   },
   {
    "duration": 183,
    "start_time": "2022-06-27T22:38:56.010Z"
   },
   {
    "duration": 15,
    "start_time": "2022-06-27T22:38:56.194Z"
   },
   {
    "duration": 134,
    "start_time": "2022-06-27T22:38:56.210Z"
   },
   {
    "duration": 81,
    "start_time": "2022-06-27T22:38:56.350Z"
   },
   {
    "duration": 140,
    "start_time": "2022-06-27T22:38:56.432Z"
   },
   {
    "duration": 95,
    "start_time": "2022-06-27T22:38:56.574Z"
   },
   {
    "duration": 2,
    "start_time": "2022-06-27T22:38:56.671Z"
   },
   {
    "duration": 9,
    "start_time": "2022-06-27T22:38:56.674Z"
   },
   {
    "duration": 5,
    "start_time": "2022-06-27T22:38:56.684Z"
   },
   {
    "duration": 6,
    "start_time": "2022-06-27T22:38:56.690Z"
   },
   {
    "duration": 8,
    "start_time": "2022-06-27T22:38:56.697Z"
   },
   {
    "duration": 4,
    "start_time": "2022-06-27T22:38:56.706Z"
   },
   {
    "duration": 7,
    "start_time": "2022-06-27T22:38:56.711Z"
   },
   {
    "duration": 1445,
    "start_time": "2022-06-27T22:38:56.719Z"
   },
   {
    "duration": 164,
    "start_time": "2022-06-27T22:38:58.165Z"
   },
   {
    "duration": 161,
    "start_time": "2022-06-27T22:38:58.331Z"
   },
   {
    "duration": 150,
    "start_time": "2022-06-27T22:38:58.494Z"
   },
   {
    "duration": 31,
    "start_time": "2022-06-27T22:38:58.650Z"
   },
   {
    "duration": 16,
    "start_time": "2022-06-27T22:39:56.138Z"
   },
   {
    "duration": 12,
    "start_time": "2022-06-27T22:40:10.636Z"
   },
   {
    "duration": 11,
    "start_time": "2022-06-27T22:40:51.336Z"
   },
   {
    "duration": 50,
    "start_time": "2022-06-27T22:41:13.886Z"
   },
   {
    "duration": 61,
    "start_time": "2022-06-27T22:42:00.955Z"
   },
   {
    "duration": 32,
    "start_time": "2022-06-27T22:42:38.425Z"
   },
   {
    "duration": 30,
    "start_time": "2022-06-27T22:43:02.525Z"
   },
   {
    "duration": 35,
    "start_time": "2022-06-27T22:43:20.616Z"
   },
   {
    "duration": 6,
    "start_time": "2022-06-27T22:44:30.945Z"
   },
   {
    "duration": 6,
    "start_time": "2022-06-27T22:45:01.625Z"
   },
   {
    "duration": 14,
    "start_time": "2022-06-27T22:45:28.001Z"
   },
   {
    "duration": 29,
    "start_time": "2022-06-27T22:45:48.519Z"
   },
   {
    "duration": 3,
    "start_time": "2022-06-27T22:45:56.351Z"
   },
   {
    "duration": 103,
    "start_time": "2022-06-27T22:45:59.041Z"
   },
   {
    "duration": 4,
    "start_time": "2022-06-27T22:46:17.519Z"
   },
   {
    "duration": 5,
    "start_time": "2022-06-27T22:46:35.569Z"
   },
   {
    "duration": 11,
    "start_time": "2022-06-27T22:47:05.589Z"
   },
   {
    "duration": 15,
    "start_time": "2022-06-27T22:47:45.990Z"
   },
   {
    "duration": 45,
    "start_time": "2022-06-28T09:56:25.198Z"
   },
   {
    "duration": 1246,
    "start_time": "2022-06-28T09:56:38.986Z"
   },
   {
    "duration": 710,
    "start_time": "2022-06-28T09:56:40.235Z"
   },
   {
    "duration": 18,
    "start_time": "2022-06-28T09:56:40.947Z"
   },
   {
    "duration": 5,
    "start_time": "2022-06-28T09:56:40.967Z"
   },
   {
    "duration": 14,
    "start_time": "2022-06-28T09:56:40.975Z"
   },
   {
    "duration": 11,
    "start_time": "2022-06-28T09:56:40.991Z"
   },
   {
    "duration": 13,
    "start_time": "2022-06-28T09:56:41.004Z"
   },
   {
    "duration": 38,
    "start_time": "2022-06-28T09:56:41.019Z"
   },
   {
    "duration": 318,
    "start_time": "2022-06-28T09:56:41.059Z"
   },
   {
    "duration": 13,
    "start_time": "2022-06-28T09:56:41.379Z"
   },
   {
    "duration": 305,
    "start_time": "2022-06-28T09:56:41.394Z"
   },
   {
    "duration": 201,
    "start_time": "2022-06-28T09:56:41.701Z"
   },
   {
    "duration": 7,
    "start_time": "2022-06-28T09:56:41.904Z"
   },
   {
    "duration": 38,
    "start_time": "2022-06-28T09:56:41.914Z"
   },
   {
    "duration": 35,
    "start_time": "2022-06-28T09:56:41.954Z"
   },
   {
    "duration": 18,
    "start_time": "2022-06-28T09:56:41.991Z"
   },
   {
    "duration": 44,
    "start_time": "2022-06-28T09:56:42.011Z"
   },
   {
    "duration": 19,
    "start_time": "2022-06-28T09:56:42.056Z"
   },
   {
    "duration": 10,
    "start_time": "2022-06-28T09:56:42.077Z"
   },
   {
    "duration": 28,
    "start_time": "2022-06-28T09:56:42.089Z"
   },
   {
    "duration": 44,
    "start_time": "2022-06-28T09:56:42.119Z"
   },
   {
    "duration": 6,
    "start_time": "2022-06-28T09:56:42.165Z"
   },
   {
    "duration": 24,
    "start_time": "2022-06-28T09:56:42.172Z"
   },
   {
    "duration": 20,
    "start_time": "2022-06-28T09:56:42.198Z"
   },
   {
    "duration": 10,
    "start_time": "2022-06-28T09:56:42.220Z"
   },
   {
    "duration": 13,
    "start_time": "2022-06-28T09:56:42.250Z"
   },
   {
    "duration": 12,
    "start_time": "2022-06-28T09:56:42.265Z"
   },
   {
    "duration": 35,
    "start_time": "2022-06-28T09:56:42.279Z"
   },
   {
    "duration": 28,
    "start_time": "2022-06-28T09:56:42.316Z"
   },
   {
    "duration": 25,
    "start_time": "2022-06-28T09:56:42.345Z"
   },
   {
    "duration": 15,
    "start_time": "2022-06-28T09:56:42.371Z"
   },
   {
    "duration": 23,
    "start_time": "2022-06-28T09:56:42.388Z"
   },
   {
    "duration": 38,
    "start_time": "2022-06-28T09:56:42.413Z"
   },
   {
    "duration": 23,
    "start_time": "2022-06-28T09:56:42.453Z"
   },
   {
    "duration": 51,
    "start_time": "2022-06-28T09:56:42.478Z"
   },
   {
    "duration": 27,
    "start_time": "2022-06-28T09:56:42.531Z"
   },
   {
    "duration": 11,
    "start_time": "2022-06-28T09:56:42.560Z"
   },
   {
    "duration": 15,
    "start_time": "2022-06-28T09:56:42.573Z"
   },
   {
    "duration": 62,
    "start_time": "2022-06-28T09:56:42.590Z"
   },
   {
    "duration": 4,
    "start_time": "2022-06-28T09:56:42.654Z"
   },
   {
    "duration": 119,
    "start_time": "2022-06-28T09:56:42.662Z"
   },
   {
    "duration": 5,
    "start_time": "2022-06-28T09:56:42.782Z"
   },
   {
    "duration": 13,
    "start_time": "2022-06-28T09:56:42.788Z"
   },
   {
    "duration": 10,
    "start_time": "2022-06-28T09:56:42.802Z"
   },
   {
    "duration": 19,
    "start_time": "2022-06-28T09:56:42.813Z"
   },
   {
    "duration": 13,
    "start_time": "2022-06-28T09:56:42.852Z"
   },
   {
    "duration": 17,
    "start_time": "2022-06-28T09:56:42.867Z"
   },
   {
    "duration": 16,
    "start_time": "2022-06-28T09:56:42.886Z"
   },
   {
    "duration": 52,
    "start_time": "2022-06-28T09:56:42.904Z"
   },
   {
    "duration": 17,
    "start_time": "2022-06-28T09:56:42.958Z"
   },
   {
    "duration": 18,
    "start_time": "2022-06-28T09:56:42.977Z"
   },
   {
    "duration": 15,
    "start_time": "2022-06-28T09:56:42.997Z"
   },
   {
    "duration": 244,
    "start_time": "2022-06-28T09:56:43.014Z"
   },
   {
    "duration": 211,
    "start_time": "2022-06-28T09:56:43.260Z"
   },
   {
    "duration": 209,
    "start_time": "2022-06-28T09:56:43.473Z"
   },
   {
    "duration": 221,
    "start_time": "2022-06-28T09:56:43.683Z"
   },
   {
    "duration": 297,
    "start_time": "2022-06-28T09:56:43.905Z"
   },
   {
    "duration": 229,
    "start_time": "2022-06-28T09:56:44.204Z"
   },
   {
    "duration": 256,
    "start_time": "2022-06-28T09:56:44.435Z"
   },
   {
    "duration": 211,
    "start_time": "2022-06-28T09:56:44.693Z"
   },
   {
    "duration": 214,
    "start_time": "2022-06-28T09:56:44.906Z"
   },
   {
    "duration": 30,
    "start_time": "2022-06-28T09:56:45.122Z"
   },
   {
    "duration": 156,
    "start_time": "2022-06-28T09:56:45.153Z"
   },
   {
    "duration": 114,
    "start_time": "2022-06-28T09:56:45.311Z"
   },
   {
    "duration": 164,
    "start_time": "2022-06-28T09:56:45.427Z"
   },
   {
    "duration": 117,
    "start_time": "2022-06-28T09:56:45.593Z"
   },
   {
    "duration": 2,
    "start_time": "2022-06-28T09:56:45.713Z"
   },
   {
    "duration": 15,
    "start_time": "2022-06-28T09:56:45.717Z"
   },
   {
    "duration": 19,
    "start_time": "2022-06-28T09:56:45.734Z"
   },
   {
    "duration": 6,
    "start_time": "2022-06-28T09:56:45.755Z"
   },
   {
    "duration": 7,
    "start_time": "2022-06-28T09:56:45.763Z"
   },
   {
    "duration": 58,
    "start_time": "2022-06-28T09:56:45.771Z"
   },
   {
    "duration": 23,
    "start_time": "2022-06-28T09:56:45.831Z"
   },
   {
    "duration": 1636,
    "start_time": "2022-06-28T09:56:45.856Z"
   },
   {
    "duration": 195,
    "start_time": "2022-06-28T09:56:47.494Z"
   },
   {
    "duration": 199,
    "start_time": "2022-06-28T09:56:47.691Z"
   },
   {
    "duration": 184,
    "start_time": "2022-06-28T09:56:47.892Z"
   },
   {
    "duration": 37,
    "start_time": "2022-06-28T09:56:48.078Z"
   },
   {
    "duration": 57,
    "start_time": "2022-06-28T09:57:41.762Z"
   },
   {
    "duration": 45,
    "start_time": "2022-06-28T09:57:52.526Z"
   },
   {
    "duration": 5,
    "start_time": "2022-06-28T09:57:59.618Z"
   },
   {
    "duration": 8,
    "start_time": "2022-06-28T09:58:21.778Z"
   },
   {
    "duration": 7,
    "start_time": "2022-06-28T11:09:11.662Z"
   },
   {
    "duration": 7,
    "start_time": "2022-06-28T11:09:18.898Z"
   },
   {
    "duration": 8,
    "start_time": "2022-06-28T11:10:09.918Z"
   },
   {
    "duration": 9,
    "start_time": "2022-06-28T11:11:52.165Z"
   },
   {
    "duration": 12,
    "start_time": "2022-06-28T11:13:31.625Z"
   },
   {
    "duration": 7,
    "start_time": "2022-06-28T11:13:49.375Z"
   },
   {
    "duration": 8,
    "start_time": "2022-06-28T11:14:50.526Z"
   },
   {
    "duration": 57,
    "start_time": "2022-06-28T11:28:17.733Z"
   },
   {
    "duration": 51,
    "start_time": "2022-06-28T11:28:34.325Z"
   },
   {
    "duration": 10,
    "start_time": "2022-06-28T11:28:53.377Z"
   },
   {
    "duration": 221,
    "start_time": "2022-06-28T11:29:00.934Z"
   },
   {
    "duration": 9,
    "start_time": "2022-06-28T11:29:15.675Z"
   },
   {
    "duration": 8,
    "start_time": "2022-06-28T11:29:29.698Z"
   },
   {
    "duration": 3,
    "start_time": "2022-06-28T11:29:33.502Z"
   },
   {
    "duration": 373,
    "start_time": "2022-06-28T11:29:33.507Z"
   },
   {
    "duration": 10,
    "start_time": "2022-06-28T11:29:33.882Z"
   },
   {
    "duration": 7,
    "start_time": "2022-06-28T11:29:33.893Z"
   },
   {
    "duration": 11,
    "start_time": "2022-06-28T11:29:33.902Z"
   },
   {
    "duration": 10,
    "start_time": "2022-06-28T11:29:33.914Z"
   },
   {
    "duration": 8,
    "start_time": "2022-06-28T11:29:33.925Z"
   },
   {
    "duration": 26,
    "start_time": "2022-06-28T11:29:33.934Z"
   },
   {
    "duration": 263,
    "start_time": "2022-06-28T11:29:33.962Z"
   },
   {
    "duration": 11,
    "start_time": "2022-06-28T11:29:34.227Z"
   },
   {
    "duration": 318,
    "start_time": "2022-06-28T11:29:34.253Z"
   },
   {
    "duration": 171,
    "start_time": "2022-06-28T11:29:34.573Z"
   },
   {
    "duration": 9,
    "start_time": "2022-06-28T11:29:34.745Z"
   },
   {
    "duration": 19,
    "start_time": "2022-06-28T11:29:34.756Z"
   },
   {
    "duration": 25,
    "start_time": "2022-06-28T11:29:34.776Z"
   },
   {
    "duration": 16,
    "start_time": "2022-06-28T11:29:34.803Z"
   },
   {
    "duration": 156,
    "start_time": "2022-06-28T11:29:34.821Z"
   },
   {
    "duration": 15,
    "start_time": "2022-06-28T11:29:34.979Z"
   },
   {
    "duration": 10,
    "start_time": "2022-06-28T11:29:34.996Z"
   },
   {
    "duration": 18,
    "start_time": "2022-06-28T11:29:35.008Z"
   },
   {
    "duration": 42,
    "start_time": "2022-06-28T11:29:35.028Z"
   },
   {
    "duration": 5,
    "start_time": "2022-06-28T11:29:35.072Z"
   },
   {
    "duration": 23,
    "start_time": "2022-06-28T11:29:35.078Z"
   },
   {
    "duration": 20,
    "start_time": "2022-06-28T11:29:35.103Z"
   },
   {
    "duration": 3,
    "start_time": "2022-06-28T11:29:35.125Z"
   },
   {
    "duration": 25,
    "start_time": "2022-06-28T11:29:35.129Z"
   },
   {
    "duration": 8,
    "start_time": "2022-06-28T11:29:35.155Z"
   },
   {
    "duration": 23,
    "start_time": "2022-06-28T11:29:35.164Z"
   },
   {
    "duration": 20,
    "start_time": "2022-06-28T11:29:35.191Z"
   },
   {
    "duration": 44,
    "start_time": "2022-06-28T11:29:35.213Z"
   },
   {
    "duration": 16,
    "start_time": "2022-06-28T11:29:35.259Z"
   },
   {
    "duration": 22,
    "start_time": "2022-06-28T11:29:35.277Z"
   },
   {
    "duration": 15,
    "start_time": "2022-06-28T11:29:35.301Z"
   },
   {
    "duration": 43,
    "start_time": "2022-06-28T11:29:35.318Z"
   },
   {
    "duration": 46,
    "start_time": "2022-06-28T11:29:35.363Z"
   },
   {
    "duration": 7,
    "start_time": "2022-06-28T11:29:35.411Z"
   },
   {
    "duration": 9,
    "start_time": "2022-06-28T11:29:35.420Z"
   },
   {
    "duration": 31,
    "start_time": "2022-06-28T11:29:35.430Z"
   },
   {
    "duration": 31,
    "start_time": "2022-06-28T11:29:35.462Z"
   },
   {
    "duration": 4,
    "start_time": "2022-06-28T11:29:35.495Z"
   },
   {
    "duration": 119,
    "start_time": "2022-06-28T11:29:35.501Z"
   },
   {
    "duration": 4,
    "start_time": "2022-06-28T11:29:35.622Z"
   },
   {
    "duration": 28,
    "start_time": "2022-06-28T11:29:35.627Z"
   },
   {
    "duration": 5,
    "start_time": "2022-06-28T11:29:35.657Z"
   },
   {
    "duration": 18,
    "start_time": "2022-06-28T11:29:35.663Z"
   },
   {
    "duration": 12,
    "start_time": "2022-06-28T11:29:35.683Z"
   },
   {
    "duration": 7,
    "start_time": "2022-06-28T11:29:35.697Z"
   },
   {
    "duration": 7,
    "start_time": "2022-06-28T11:29:35.705Z"
   },
   {
    "duration": 37,
    "start_time": "2022-06-28T11:29:35.714Z"
   },
   {
    "duration": 14,
    "start_time": "2022-06-28T11:29:35.752Z"
   },
   {
    "duration": 13,
    "start_time": "2022-06-28T11:29:35.768Z"
   },
   {
    "duration": 13,
    "start_time": "2022-06-28T11:29:35.782Z"
   },
   {
    "duration": 13,
    "start_time": "2022-06-28T11:29:35.796Z"
   },
   {
    "duration": 44,
    "start_time": "2022-06-28T11:29:35.810Z"
   },
   {
    "duration": 14,
    "start_time": "2022-06-28T11:29:35.855Z"
   },
   {
    "duration": 200,
    "start_time": "2022-06-28T11:29:35.870Z"
   },
   {
    "duration": 190,
    "start_time": "2022-06-28T11:29:36.071Z"
   },
   {
    "duration": 184,
    "start_time": "2022-06-28T11:29:36.262Z"
   },
   {
    "duration": 197,
    "start_time": "2022-06-28T11:29:36.450Z"
   },
   {
    "duration": 172,
    "start_time": "2022-06-28T11:29:36.650Z"
   },
   {
    "duration": 186,
    "start_time": "2022-06-28T11:29:36.823Z"
   },
   {
    "duration": 190,
    "start_time": "2022-06-28T11:29:37.011Z"
   },
   {
    "duration": 209,
    "start_time": "2022-06-28T11:29:37.202Z"
   },
   {
    "duration": 186,
    "start_time": "2022-06-28T11:29:37.412Z"
   },
   {
    "duration": 15,
    "start_time": "2022-06-28T11:29:37.600Z"
   },
   {
    "duration": 153,
    "start_time": "2022-06-28T11:29:37.617Z"
   },
   {
    "duration": 97,
    "start_time": "2022-06-28T11:29:37.771Z"
   },
   {
    "duration": 141,
    "start_time": "2022-06-28T11:29:37.869Z"
   },
   {
    "duration": 218,
    "start_time": "2022-06-28T11:29:38.012Z"
   },
   {
    "duration": 2,
    "start_time": "2022-06-28T11:29:38.232Z"
   },
   {
    "duration": 18,
    "start_time": "2022-06-28T11:29:38.236Z"
   },
   {
    "duration": 5,
    "start_time": "2022-06-28T11:29:38.255Z"
   },
   {
    "duration": 9,
    "start_time": "2022-06-28T11:29:38.261Z"
   },
   {
    "duration": 6,
    "start_time": "2022-06-28T11:29:38.272Z"
   },
   {
    "duration": 6,
    "start_time": "2022-06-28T11:29:38.279Z"
   },
   {
    "duration": 5,
    "start_time": "2022-06-28T11:29:38.286Z"
   },
   {
    "duration": 1280,
    "start_time": "2022-06-28T11:29:38.293Z"
   },
   {
    "duration": 160,
    "start_time": "2022-06-28T11:29:39.575Z"
   },
   {
    "duration": 161,
    "start_time": "2022-06-28T11:29:39.736Z"
   },
   {
    "duration": 156,
    "start_time": "2022-06-28T11:29:39.899Z"
   },
   {
    "duration": 33,
    "start_time": "2022-06-28T11:29:40.056Z"
   },
   {
    "duration": 11,
    "start_time": "2022-06-28T11:30:59.326Z"
   },
   {
    "duration": 9,
    "start_time": "2022-06-28T11:33:28.063Z"
   },
   {
    "duration": 7,
    "start_time": "2022-06-28T11:33:53.276Z"
   },
   {
    "duration": 2,
    "start_time": "2022-06-28T11:38:01.498Z"
   },
   {
    "duration": 2,
    "start_time": "2022-06-28T11:38:05.066Z"
   },
   {
    "duration": 2,
    "start_time": "2022-06-28T11:38:07.758Z"
   },
   {
    "duration": 3,
    "start_time": "2022-06-28T11:38:10.694Z"
   },
   {
    "duration": 2,
    "start_time": "2022-06-28T11:38:14.150Z"
   },
   {
    "duration": 2,
    "start_time": "2022-06-28T11:38:16.871Z"
   },
   {
    "duration": 2,
    "start_time": "2022-06-28T11:39:21.590Z"
   },
   {
    "duration": 2,
    "start_time": "2022-06-28T11:39:24.614Z"
   },
   {
    "duration": 2,
    "start_time": "2022-06-28T11:39:27.590Z"
   },
   {
    "duration": 2,
    "start_time": "2022-06-28T11:39:31.487Z"
   },
   {
    "duration": 2,
    "start_time": "2022-06-28T11:39:34.330Z"
   },
   {
    "duration": 2,
    "start_time": "2022-06-28T11:39:37.391Z"
   },
   {
    "duration": 2,
    "start_time": "2022-06-28T11:39:40.557Z"
   },
   {
    "duration": 2,
    "start_time": "2022-06-28T11:39:45.238Z"
   },
   {
    "duration": 2,
    "start_time": "2022-06-28T11:39:48.938Z"
   },
   {
    "duration": 5,
    "start_time": "2022-06-28T12:16:13.242Z"
   },
   {
    "duration": 8,
    "start_time": "2022-06-28T12:16:20.382Z"
   },
   {
    "duration": 137,
    "start_time": "2022-06-28T13:13:41.602Z"
   },
   {
    "duration": 237,
    "start_time": "2022-06-28T13:13:56.942Z"
   },
   {
    "duration": 205,
    "start_time": "2022-06-28T13:14:04.467Z"
   },
   {
    "duration": 174,
    "start_time": "2022-06-28T13:14:08.715Z"
   },
   {
    "duration": 352,
    "start_time": "2022-06-28T13:16:12.579Z"
   },
   {
    "duration": 204,
    "start_time": "2022-06-28T13:37:22.225Z"
   },
   {
    "duration": 215,
    "start_time": "2022-06-28T13:38:02.536Z"
   },
   {
    "duration": 151,
    "start_time": "2022-06-28T13:38:55.169Z"
   },
   {
    "duration": 197,
    "start_time": "2022-06-28T13:39:07.688Z"
   },
   {
    "duration": 2,
    "start_time": "2022-06-28T13:40:35.913Z"
   },
   {
    "duration": 1289,
    "start_time": "2022-06-28T13:42:17.563Z"
   },
   {
    "duration": 1451,
    "start_time": "2022-06-28T13:42:26.837Z"
   },
   {
    "duration": 1295,
    "start_time": "2022-06-28T13:42:38.277Z"
   },
   {
    "duration": 1283,
    "start_time": "2022-06-28T13:42:49.273Z"
   },
   {
    "duration": 10,
    "start_time": "2022-06-28T16:09:35.431Z"
   },
   {
    "duration": 11,
    "start_time": "2022-06-28T16:09:46.038Z"
   },
   {
    "duration": 60,
    "start_time": "2022-06-28T16:11:03.777Z"
   },
   {
    "duration": 10,
    "start_time": "2022-06-28T16:11:10.018Z"
   },
   {
    "duration": 812,
    "start_time": "2022-06-28T16:12:11.571Z"
   },
   {
    "duration": 10,
    "start_time": "2022-06-28T16:12:25.006Z"
   },
   {
    "duration": 939,
    "start_time": "2022-06-28T16:13:10.979Z"
   },
   {
    "duration": 1891,
    "start_time": "2022-06-28T16:14:16.438Z"
   },
   {
    "duration": 13,
    "start_time": "2022-06-28T16:15:15.026Z"
   },
   {
    "duration": 10,
    "start_time": "2022-06-28T16:15:58.323Z"
   },
   {
    "duration": 12,
    "start_time": "2022-06-28T16:16:11.677Z"
   },
   {
    "duration": 13,
    "start_time": "2022-06-28T16:16:56.796Z"
   },
   {
    "duration": 13,
    "start_time": "2022-06-28T16:17:42.422Z"
   },
   {
    "duration": 11,
    "start_time": "2022-06-28T16:18:15.134Z"
   },
   {
    "duration": 12,
    "start_time": "2022-06-28T16:18:23.770Z"
   },
   {
    "duration": 12,
    "start_time": "2022-06-28T16:18:30.622Z"
   },
   {
    "duration": 841,
    "start_time": "2022-06-28T16:19:31.985Z"
   },
   {
    "duration": 854,
    "start_time": "2022-06-28T16:19:46.765Z"
   },
   {
    "duration": 10,
    "start_time": "2022-06-28T16:19:54.667Z"
   },
   {
    "duration": 871,
    "start_time": "2022-06-28T16:20:00.841Z"
   },
   {
    "duration": 10,
    "start_time": "2022-06-28T16:20:13.268Z"
   },
   {
    "duration": 11,
    "start_time": "2022-06-28T16:20:27.631Z"
   },
   {
    "duration": 14,
    "start_time": "2022-06-28T16:20:42.598Z"
   },
   {
    "duration": 13,
    "start_time": "2022-06-28T16:20:49.798Z"
   },
   {
    "duration": 13,
    "start_time": "2022-06-28T16:21:07.264Z"
   },
   {
    "duration": 17,
    "start_time": "2022-06-28T16:21:50.318Z"
   },
   {
    "duration": 21,
    "start_time": "2022-06-28T16:22:10.907Z"
   },
   {
    "duration": 23,
    "start_time": "2022-06-28T16:23:00.842Z"
   },
   {
    "duration": 24,
    "start_time": "2022-06-28T16:25:31.502Z"
   },
   {
    "duration": 18,
    "start_time": "2022-06-28T16:25:43.898Z"
   },
   {
    "duration": 24,
    "start_time": "2022-06-28T16:26:06.578Z"
   },
   {
    "duration": 1041,
    "start_time": "2022-06-28T16:27:59.178Z"
   },
   {
    "duration": 22,
    "start_time": "2022-06-28T16:28:14.550Z"
   },
   {
    "duration": 227,
    "start_time": "2022-06-28T16:35:35.478Z"
   },
   {
    "duration": 2083,
    "start_time": "2022-06-28T16:38:52.698Z"
   },
   {
    "duration": 891,
    "start_time": "2022-06-28T16:39:25.579Z"
   },
   {
    "duration": 882,
    "start_time": "2022-06-28T16:39:57.015Z"
   },
   {
    "duration": 13,
    "start_time": "2022-06-28T16:40:37.790Z"
   },
   {
    "duration": 24,
    "start_time": "2022-06-28T16:40:44.531Z"
   },
   {
    "duration": 15,
    "start_time": "2022-06-28T16:40:53.494Z"
   },
   {
    "duration": 287,
    "start_time": "2022-06-28T16:44:38.419Z"
   },
   {
    "duration": 199,
    "start_time": "2022-06-28T17:07:52.151Z"
   },
   {
    "duration": 46,
    "start_time": "2022-06-28T17:09:05.315Z"
   },
   {
    "duration": 202,
    "start_time": "2022-06-28T17:18:16.868Z"
   },
   {
    "duration": 31,
    "start_time": "2022-06-28T17:23:07.251Z"
   },
   {
    "duration": 27,
    "start_time": "2022-06-28T17:23:41.923Z"
   },
   {
    "duration": 199,
    "start_time": "2022-06-28T17:39:21.197Z"
   },
   {
    "duration": 235,
    "start_time": "2022-06-28T17:39:51.218Z"
   },
   {
    "duration": 264,
    "start_time": "2022-06-28T17:41:10.438Z"
   },
   {
    "duration": 182,
    "start_time": "2022-06-28T17:41:28.798Z"
   },
   {
    "duration": 251,
    "start_time": "2022-06-28T17:41:47.019Z"
   },
   {
    "duration": 1289,
    "start_time": "2022-06-29T13:14:33.339Z"
   },
   {
    "duration": 3044,
    "start_time": "2022-06-29T13:14:34.631Z"
   },
   {
    "duration": 15,
    "start_time": "2022-06-29T13:14:37.678Z"
   },
   {
    "duration": 4,
    "start_time": "2022-06-29T13:14:37.696Z"
   },
   {
    "duration": 12,
    "start_time": "2022-06-29T13:14:37.702Z"
   },
   {
    "duration": 11,
    "start_time": "2022-06-29T13:14:37.715Z"
   },
   {
    "duration": 10,
    "start_time": "2022-06-29T13:14:37.728Z"
   },
   {
    "duration": 13,
    "start_time": "2022-06-29T13:14:37.739Z"
   },
   {
    "duration": 307,
    "start_time": "2022-06-29T13:14:37.754Z"
   },
   {
    "duration": 14,
    "start_time": "2022-06-29T13:14:38.063Z"
   },
   {
    "duration": 303,
    "start_time": "2022-06-29T13:14:38.079Z"
   },
   {
    "duration": 186,
    "start_time": "2022-06-29T13:14:38.383Z"
   },
   {
    "duration": 6,
    "start_time": "2022-06-29T13:14:38.571Z"
   },
   {
    "duration": 22,
    "start_time": "2022-06-29T13:14:38.579Z"
   },
   {
    "duration": 36,
    "start_time": "2022-06-29T13:14:38.602Z"
   },
   {
    "duration": 26,
    "start_time": "2022-06-29T13:14:38.640Z"
   },
   {
    "duration": 18,
    "start_time": "2022-06-29T13:14:38.668Z"
   },
   {
    "duration": 47,
    "start_time": "2022-06-29T13:14:38.687Z"
   },
   {
    "duration": 20,
    "start_time": "2022-06-29T13:14:38.736Z"
   },
   {
    "duration": 33,
    "start_time": "2022-06-29T13:14:38.758Z"
   },
   {
    "duration": 26,
    "start_time": "2022-06-29T13:14:38.793Z"
   },
   {
    "duration": 51,
    "start_time": "2022-06-29T13:14:38.821Z"
   },
   {
    "duration": 12,
    "start_time": "2022-06-29T13:14:38.874Z"
   },
   {
    "duration": 38,
    "start_time": "2022-06-29T13:14:38.888Z"
   },
   {
    "duration": 27,
    "start_time": "2022-06-29T13:14:38.928Z"
   },
   {
    "duration": 14,
    "start_time": "2022-06-29T13:14:38.956Z"
   },
   {
    "duration": 16,
    "start_time": "2022-06-29T13:14:38.971Z"
   },
   {
    "duration": 14,
    "start_time": "2022-06-29T13:14:38.991Z"
   },
   {
    "duration": 42,
    "start_time": "2022-06-29T13:14:39.007Z"
   },
   {
    "duration": 27,
    "start_time": "2022-06-29T13:14:39.050Z"
   },
   {
    "duration": 24,
    "start_time": "2022-06-29T13:14:39.079Z"
   },
   {
    "duration": 26,
    "start_time": "2022-06-29T13:14:39.104Z"
   },
   {
    "duration": 23,
    "start_time": "2022-06-29T13:14:39.132Z"
   },
   {
    "duration": 18,
    "start_time": "2022-06-29T13:14:39.156Z"
   },
   {
    "duration": 26,
    "start_time": "2022-06-29T13:14:39.176Z"
   },
   {
    "duration": 72,
    "start_time": "2022-06-29T13:14:39.203Z"
   },
   {
    "duration": 8,
    "start_time": "2022-06-29T13:14:39.277Z"
   },
   {
    "duration": 13,
    "start_time": "2022-06-29T13:14:39.287Z"
   },
   {
    "duration": 34,
    "start_time": "2022-06-29T13:14:39.302Z"
   },
   {
    "duration": 41,
    "start_time": "2022-06-29T13:14:39.338Z"
   },
   {
    "duration": 4,
    "start_time": "2022-06-29T13:14:39.380Z"
   },
   {
    "duration": 120,
    "start_time": "2022-06-29T13:14:39.385Z"
   },
   {
    "duration": 5,
    "start_time": "2022-06-29T13:14:39.507Z"
   },
   {
    "duration": 9,
    "start_time": "2022-06-29T13:14:39.524Z"
   },
   {
    "duration": 37,
    "start_time": "2022-06-29T13:14:39.534Z"
   },
   {
    "duration": 23,
    "start_time": "2022-06-29T13:14:39.573Z"
   },
   {
    "duration": 13,
    "start_time": "2022-06-29T13:14:39.597Z"
   },
   {
    "duration": 9,
    "start_time": "2022-06-29T13:14:39.612Z"
   },
   {
    "duration": 16,
    "start_time": "2022-06-29T13:14:39.622Z"
   },
   {
    "duration": 249,
    "start_time": "2022-06-29T13:14:39.640Z"
   },
   {
    "duration": 339,
    "start_time": "2022-06-29T13:14:39.891Z"
   },
   {
    "duration": 252,
    "start_time": "2022-06-29T13:14:40.232Z"
   },
   {
    "duration": 247,
    "start_time": "2022-06-29T13:14:40.486Z"
   },
   {
    "duration": 276,
    "start_time": "2022-06-29T13:14:40.734Z"
   },
   {
    "duration": 2018,
    "start_time": "2022-06-29T13:14:41.011Z"
   },
   {
    "duration": 29,
    "start_time": "2022-06-29T13:14:43.031Z"
   },
   {
    "duration": 29,
    "start_time": "2022-06-29T13:14:43.062Z"
   },
   {
    "duration": 42,
    "start_time": "2022-06-29T13:14:43.093Z"
   },
   {
    "duration": 2,
    "start_time": "2022-06-29T13:14:43.137Z"
   },
   {
    "duration": 15,
    "start_time": "2022-06-29T13:14:43.141Z"
   },
   {
    "duration": 5,
    "start_time": "2022-06-29T13:14:43.157Z"
   },
   {
    "duration": 5,
    "start_time": "2022-06-29T13:14:43.164Z"
   },
   {
    "duration": 6,
    "start_time": "2022-06-29T13:14:43.170Z"
   },
   {
    "duration": 571,
    "start_time": "2022-06-29T13:14:43.177Z"
   },
   {
    "duration": 412,
    "start_time": "2022-06-29T13:14:43.750Z"
   },
   {
    "duration": 3,
    "start_time": "2022-06-29T13:14:44.163Z"
   },
   {
    "duration": 5,
    "start_time": "2022-06-29T13:14:44.225Z"
   },
   {
    "duration": 2323,
    "start_time": "2022-06-29T13:14:44.232Z"
   },
   {
    "duration": 503,
    "start_time": "2022-06-29T13:14:46.558Z"
   },
   {
    "duration": 402,
    "start_time": "2022-06-29T13:14:47.064Z"
   },
   {
    "duration": 459,
    "start_time": "2022-06-29T13:14:47.468Z"
   },
   {
    "duration": 102,
    "start_time": "2022-06-29T13:14:47.929Z"
   }
  ],
  "kernelspec": {
   "display_name": "Python 3 (ipykernel)",
   "language": "python",
   "name": "python3"
  },
  "language_info": {
   "codemirror_mode": {
    "name": "ipython",
    "version": 3
   },
   "file_extension": ".py",
   "mimetype": "text/x-python",
   "name": "python",
   "nbconvert_exporter": "python",
   "pygments_lexer": "ipython3",
   "version": "3.9.7"
  },
  "toc": {
   "base_numbering": 1,
   "nav_menu": {},
   "number_sections": true,
   "sideBar": true,
   "skip_h1_title": true,
   "title_cell": "Table of Contents",
   "title_sidebar": "Contents",
   "toc_cell": false,
   "toc_position": {
    "height": "calc(100% - 180px)",
    "left": "10px",
    "top": "150px",
    "width": "214.225px"
   },
   "toc_section_display": true,
   "toc_window_display": true
  }
 },
 "nbformat": 4,
 "nbformat_minor": 5
}
